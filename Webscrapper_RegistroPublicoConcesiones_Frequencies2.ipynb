{
 "cells": [
  {
   "cell_type": "markdown",
   "id": "12d86654",
   "metadata": {},
   "source": [
    "# Webscrapper for Registro Público de Concesiones\n",
    "\n",
    "Traditional webscrapping with Beautiful Soup is less useful for aspx websites that expect a user input. This webscraper was built with Selenium intenting to make requests to the form before scraping each page.\n",
    "\n",
    "Following links are helpful: <br>\n",
    "Data Source: https://avancedigital.mineco.gob.es/espectro/Paginas/registro-publico-concesiones.aspx <br>\n",
    "Selenium: https://selenium-python.readthedocs.io/locating-elements.html <br>\n",
    "Chromedriver: https://chromedriver.chromium.org/home (download necessary)<br>"
   ]
  },
  {
   "cell_type": "code",
   "execution_count": 180,
   "id": "352b8d52",
   "metadata": {
    "scrolled": true
   },
   "outputs": [],
   "source": [
    "#pip install requests (for making HTTP requests)\n",
    "#pip install URLLib3 (URL handling)\n",
    "#pip install bs4 (in case Selenium couldn’t handle everything)\n",
    "#pip install selenium (for browser-based navigation)"
   ]
  },
  {
   "cell_type": "markdown",
   "id": "007d61c0",
   "metadata": {},
   "source": [
    "## Loading libraries and preparing dataframe"
   ]
  },
  {
   "cell_type": "code",
   "execution_count": 181,
   "id": "661caa07",
   "metadata": {},
   "outputs": [],
   "source": [
    "from selenium import webdriver\n",
    "from selenium.webdriver.common.by import By\n",
    "from selenium.webdriver.support.ui import WebDriverWait, Select\n",
    "from selenium.webdriver.support import expected_conditions as EC\n",
    "from selenium.common.exceptions import TimeoutException\n",
    "import pandas as pd\n",
    "import math\n",
    "import time"
   ]
  },
  {
   "cell_type": "code",
   "execution_count": 182,
   "id": "af2f1bf4",
   "metadata": {},
   "outputs": [],
   "source": [
    "#Record execution time of script\n",
    "start_time = time.time()"
   ]
  },
  {
   "cell_type": "code",
   "execution_count": 183,
   "id": "eaf9718a",
   "metadata": {},
   "outputs": [],
   "source": [
    "#Create a dataframe to store all of the scraped table data\n",
    "df = pd.DataFrame(columns = [\"Comunidad\",\"Provincia\",\"Municipio\",\"Frecuencia\"])"
   ]
  },
  {
   "cell_type": "markdown",
   "id": "409811b0",
   "metadata": {},
   "source": [
    "## Making crawler move on the website"
   ]
  },
  {
   "cell_type": "code",
   "execution_count": 184,
   "id": "0e2dc37a",
   "metadata": {},
   "outputs": [
    {
     "name": "stderr",
     "output_type": "stream",
     "text": [
      "C:\\Users\\jthoma\\AppData\\Local\\Temp\\ipykernel_31580\\1054195131.py:3: DeprecationWarning: executable_path has been deprecated, please pass in a Service object\n",
      "  driver = webdriver.Chrome('C:/Users/jthoma/Downloads/chromedriver.exe') #use path where chormedriver saved\n"
     ]
    }
   ],
   "source": [
    "# Establish chrome driver and go to report site URL\n",
    "url = \"https://sedeaplicaciones.minetur.gob.es/RPC_Consulta/FrmConsulta.aspx\"\n",
    "driver = webdriver.Chrome('C:/Users/jthoma/Downloads/chromedriver.exe') #use path where chormedriver saved\n",
    "driver.get(url)"
   ]
  },
  {
   "cell_type": "markdown",
   "id": "a612ad81",
   "metadata": {},
   "source": [
    "## Scrapping the tables\n",
    "\n",
    "- 02 ANDALUCÍA\n",
    "- 03 ARAGÓN\n",
    "- 04 CANARIAS\n",
    "- 05 CANTABRIA\n",
    "- 06 CASTILLA Y LEÓN\n",
    "- 07 CASTILLA-LA MANCHA\n",
    "- 08 CATALUÑA\n",
    "- 09 CIUDAD AUTÓNOMA DE CEUTA\n",
    "- 10 CIUDAD AUTÓNOMA DE MELILLA\n",
    "- 11 COMUNIDAD DE MADRID\n",
    "- 12 COMUNIDAD FORAL DE NAVARRA\n",
    "- 13 COMUNITAT VALENCIANA\n",
    "- 14 EXTREMADURA\n",
    "- 15 GALICIA\n",
    "- 16 ILLES BALEARS\n",
    "- 17 LA RIOJA\n",
    "- 18 PAÍS VASCO\n",
    "- 19 PRINCIPADO DE ASTURIAS\n",
    "- 20 REGIÓN DE MURCIA"
   ]
  },
  {
   "cell_type": "code",
   "execution_count": 185,
   "id": "96dfdc51",
   "metadata": {},
   "outputs": [
    {
     "name": "stderr",
     "output_type": "stream",
     "text": [
      "C:\\Users\\jthoma\\AppData\\Local\\Temp\\ipykernel_31580\\3841225853.py:45: FutureWarning: The default dtype for empty Series will be 'object' instead of 'float64' in a future version. Specify a dtype explicitly to silence this warning.\n",
      "  a_series = pd.Series(row_list, index = df.columns)\n",
      "C:\\Users\\jthoma\\AppData\\Local\\Temp\\ipykernel_31580\\3841225853.py:46: FutureWarning: The frame.append method is deprecated and will be removed from pandas in a future version. Use pandas.concat instead.\n",
      "  df = df.append(a_series, ignore_index=True)\n",
      "C:\\Users\\jthoma\\AppData\\Local\\Temp\\ipykernel_31580\\3841225853.py:46: FutureWarning: The frame.append method is deprecated and will be removed from pandas in a future version. Use pandas.concat instead.\n",
      "  df = df.append(a_series, ignore_index=True)\n"
     ]
    },
    {
     "name": "stdout",
     "output_type": "stream",
     "text": [
      "Could not append: []\n"
     ]
    },
    {
     "ename": "ElementClickInterceptedException",
     "evalue": "Message: element click intercepted: Element <a id=\"MainContent_gridConcesiones_lnkFrecuencias_1\" title=\"Ver detalles de las frecuencias de uso\" href=\"javascript:__doPostBack('ctl00$MainContent$gridConcesiones$ctl03$lnkFrecuencias','')\" tabindex=\"-1\">...</a> is not clickable at point (397, 442). Other element would receive the click: <div id=\"MainContent_modalCesionTransferencia_backgroundElement\" class=\"modalBackground\" style=\"position: fixed; left: 0px; top: 0px; z-index: 10000; width: 1903px; height: 1059px;\"></div>\n  (Session info: chrome=103.0.5060.114)\nStacktrace:\nBacktrace:\n\tOrdinal0 [0x01176463+2188387]\n\tOrdinal0 [0x0110E461+1762401]\n\tOrdinal0 [0x01023D78+802168]\n\tOrdinal0 [0x01057F9B+1015707]\n\tOrdinal0 [0x01055F68+1007464]\n\tOrdinal0 [0x01053C6B+998507]\n\tOrdinal0 [0x010529D9+993753]\n\tOrdinal0 [0x01048613+951827]\n\tOrdinal0 [0x0106C7DC+1099740]\n\tOrdinal0 [0x01047FF4+950260]\n\tOrdinal0 [0x0106C9F4+1100276]\n\tOrdinal0 [0x0107CC22+1166370]\n\tOrdinal0 [0x0106C5F6+1099254]\n\tOrdinal0 [0x01046BE0+945120]\n\tOrdinal0 [0x01047AD6+948950]\n\tGetHandleVerifier [0x014171F2+2712546]\n\tGetHandleVerifier [0x0140886D+2652765]\n\tGetHandleVerifier [0x0120002A+520730]\n\tGetHandleVerifier [0x011FEE06+516086]\n\tOrdinal0 [0x0111468B+1787531]\n\tOrdinal0 [0x01118E88+1805960]\n\tOrdinal0 [0x01118F75+1806197]\n\tOrdinal0 [0x01121DF1+1842673]\n\tBaseThreadInitThunk [0x7784FA29+25]\n\tRtlGetAppContainerNamedObjectPath [0x77C97A9E+286]\n\tRtlGetAppContainerNamedObjectPath [0x77C97A6E+238]\n",
     "output_type": "error",
     "traceback": [
      "\u001b[1;31m---------------------------------------------------------------------------\u001b[0m",
      "\u001b[1;31mElementClickInterceptedException\u001b[0m          Traceback (most recent call last)",
      "Input \u001b[1;32mIn [185]\u001b[0m, in \u001b[0;36m<cell line: 3>\u001b[1;34m()\u001b[0m\n\u001b[0;32m     28\u001b[0m \u001b[38;5;28;01mfor\u001b[39;00m link \u001b[38;5;129;01min\u001b[39;00m \u001b[38;5;28mrange\u001b[39m(\u001b[38;5;241m0\u001b[39m,\u001b[38;5;241m9\u001b[39m):\n\u001b[0;32m     29\u001b[0m     referencia_link \u001b[38;5;241m=\u001b[39m driver\u001b[38;5;241m.\u001b[39mfind_element(By\u001b[38;5;241m.\u001b[39mXPATH,\u001b[38;5;124m'\u001b[39m\u001b[38;5;124m//*[@id=\u001b[39m\u001b[38;5;124m\"\u001b[39m\u001b[38;5;124mMainContent_gridConcesiones_lnkFrecuencias_\u001b[39m\u001b[38;5;124m'\u001b[39m\u001b[38;5;241m+\u001b[39m\u001b[38;5;28mstr\u001b[39m(link)\u001b[38;5;241m+\u001b[39m\u001b[38;5;124m'\u001b[39m\u001b[38;5;124m\"\u001b[39m\u001b[38;5;124m]\u001b[39m\u001b[38;5;124m'\u001b[39m)\n\u001b[1;32m---> 30\u001b[0m     \u001b[43mreferencia_link\u001b[49m\u001b[38;5;241;43m.\u001b[39;49m\u001b[43mclick\u001b[49m\u001b[43m(\u001b[49m\u001b[43m)\u001b[49m\n\u001b[0;32m     33\u001b[0m     \u001b[38;5;28;01mfor\u001b[39;00m i \u001b[38;5;129;01min\u001b[39;00m \u001b[38;5;28mrange\u001b[39m(\u001b[38;5;241m3\u001b[39m):\n\u001b[0;32m     34\u001b[0m         \u001b[38;5;28;01mtry\u001b[39;00m:\n",
      "File \u001b[1;32m~\\Anaconda3\\lib\\site-packages\\selenium\\webdriver\\remote\\webelement.py:88\u001b[0m, in \u001b[0;36mWebElement.click\u001b[1;34m(self)\u001b[0m\n\u001b[0;32m     86\u001b[0m \u001b[38;5;28;01mdef\u001b[39;00m \u001b[38;5;21mclick\u001b[39m(\u001b[38;5;28mself\u001b[39m) \u001b[38;5;241m-\u001b[39m\u001b[38;5;241m>\u001b[39m \u001b[38;5;28;01mNone\u001b[39;00m:\n\u001b[0;32m     87\u001b[0m     \u001b[38;5;124;03m\"\"\"Clicks the element.\"\"\"\u001b[39;00m\n\u001b[1;32m---> 88\u001b[0m     \u001b[38;5;28;43mself\u001b[39;49m\u001b[38;5;241;43m.\u001b[39;49m\u001b[43m_execute\u001b[49m\u001b[43m(\u001b[49m\u001b[43mCommand\u001b[49m\u001b[38;5;241;43m.\u001b[39;49m\u001b[43mCLICK_ELEMENT\u001b[49m\u001b[43m)\u001b[49m\n",
      "File \u001b[1;32m~\\Anaconda3\\lib\\site-packages\\selenium\\webdriver\\remote\\webelement.py:396\u001b[0m, in \u001b[0;36mWebElement._execute\u001b[1;34m(self, command, params)\u001b[0m\n\u001b[0;32m    394\u001b[0m     params \u001b[38;5;241m=\u001b[39m {}\n\u001b[0;32m    395\u001b[0m params[\u001b[38;5;124m'\u001b[39m\u001b[38;5;124mid\u001b[39m\u001b[38;5;124m'\u001b[39m] \u001b[38;5;241m=\u001b[39m \u001b[38;5;28mself\u001b[39m\u001b[38;5;241m.\u001b[39m_id\n\u001b[1;32m--> 396\u001b[0m \u001b[38;5;28;01mreturn\u001b[39;00m \u001b[38;5;28;43mself\u001b[39;49m\u001b[38;5;241;43m.\u001b[39;49m\u001b[43m_parent\u001b[49m\u001b[38;5;241;43m.\u001b[39;49m\u001b[43mexecute\u001b[49m\u001b[43m(\u001b[49m\u001b[43mcommand\u001b[49m\u001b[43m,\u001b[49m\u001b[43m \u001b[49m\u001b[43mparams\u001b[49m\u001b[43m)\u001b[49m\n",
      "File \u001b[1;32m~\\Anaconda3\\lib\\site-packages\\selenium\\webdriver\\remote\\webdriver.py:435\u001b[0m, in \u001b[0;36mWebDriver.execute\u001b[1;34m(self, driver_command, params)\u001b[0m\n\u001b[0;32m    433\u001b[0m response \u001b[38;5;241m=\u001b[39m \u001b[38;5;28mself\u001b[39m\u001b[38;5;241m.\u001b[39mcommand_executor\u001b[38;5;241m.\u001b[39mexecute(driver_command, params)\n\u001b[0;32m    434\u001b[0m \u001b[38;5;28;01mif\u001b[39;00m response:\n\u001b[1;32m--> 435\u001b[0m     \u001b[38;5;28;43mself\u001b[39;49m\u001b[38;5;241;43m.\u001b[39;49m\u001b[43merror_handler\u001b[49m\u001b[38;5;241;43m.\u001b[39;49m\u001b[43mcheck_response\u001b[49m\u001b[43m(\u001b[49m\u001b[43mresponse\u001b[49m\u001b[43m)\u001b[49m\n\u001b[0;32m    436\u001b[0m     response[\u001b[38;5;124m'\u001b[39m\u001b[38;5;124mvalue\u001b[39m\u001b[38;5;124m'\u001b[39m] \u001b[38;5;241m=\u001b[39m \u001b[38;5;28mself\u001b[39m\u001b[38;5;241m.\u001b[39m_unwrap_value(\n\u001b[0;32m    437\u001b[0m         response\u001b[38;5;241m.\u001b[39mget(\u001b[38;5;124m'\u001b[39m\u001b[38;5;124mvalue\u001b[39m\u001b[38;5;124m'\u001b[39m, \u001b[38;5;28;01mNone\u001b[39;00m))\n\u001b[0;32m    438\u001b[0m     \u001b[38;5;28;01mreturn\u001b[39;00m response\n",
      "File \u001b[1;32m~\\Anaconda3\\lib\\site-packages\\selenium\\webdriver\\remote\\errorhandler.py:247\u001b[0m, in \u001b[0;36mErrorHandler.check_response\u001b[1;34m(self, response)\u001b[0m\n\u001b[0;32m    245\u001b[0m         alert_text \u001b[38;5;241m=\u001b[39m value[\u001b[38;5;124m'\u001b[39m\u001b[38;5;124malert\u001b[39m\u001b[38;5;124m'\u001b[39m]\u001b[38;5;241m.\u001b[39mget(\u001b[38;5;124m'\u001b[39m\u001b[38;5;124mtext\u001b[39m\u001b[38;5;124m'\u001b[39m)\n\u001b[0;32m    246\u001b[0m     \u001b[38;5;28;01mraise\u001b[39;00m exception_class(message, screen, stacktrace, alert_text)  \u001b[38;5;66;03m# type: ignore[call-arg]  # mypy is not smart enough here\u001b[39;00m\n\u001b[1;32m--> 247\u001b[0m \u001b[38;5;28;01mraise\u001b[39;00m exception_class(message, screen, stacktrace)\n",
      "\u001b[1;31mElementClickInterceptedException\u001b[0m: Message: element click intercepted: Element <a id=\"MainContent_gridConcesiones_lnkFrecuencias_1\" title=\"Ver detalles de las frecuencias de uso\" href=\"javascript:__doPostBack('ctl00$MainContent$gridConcesiones$ctl03$lnkFrecuencias','')\" tabindex=\"-1\">...</a> is not clickable at point (397, 442). Other element would receive the click: <div id=\"MainContent_modalCesionTransferencia_backgroundElement\" class=\"modalBackground\" style=\"position: fixed; left: 0px; top: 0px; z-index: 10000; width: 1903px; height: 1059px;\"></div>\n  (Session info: chrome=103.0.5060.114)\nStacktrace:\nBacktrace:\n\tOrdinal0 [0x01176463+2188387]\n\tOrdinal0 [0x0110E461+1762401]\n\tOrdinal0 [0x01023D78+802168]\n\tOrdinal0 [0x01057F9B+1015707]\n\tOrdinal0 [0x01055F68+1007464]\n\tOrdinal0 [0x01053C6B+998507]\n\tOrdinal0 [0x010529D9+993753]\n\tOrdinal0 [0x01048613+951827]\n\tOrdinal0 [0x0106C7DC+1099740]\n\tOrdinal0 [0x01047FF4+950260]\n\tOrdinal0 [0x0106C9F4+1100276]\n\tOrdinal0 [0x0107CC22+1166370]\n\tOrdinal0 [0x0106C5F6+1099254]\n\tOrdinal0 [0x01046BE0+945120]\n\tOrdinal0 [0x01047AD6+948950]\n\tGetHandleVerifier [0x014171F2+2712546]\n\tGetHandleVerifier [0x0140886D+2652765]\n\tGetHandleVerifier [0x0120002A+520730]\n\tGetHandleVerifier [0x011FEE06+516086]\n\tOrdinal0 [0x0111468B+1787531]\n\tOrdinal0 [0x01118E88+1805960]\n\tOrdinal0 [0x01118F75+1806197]\n\tOrdinal0 [0x01121DF1+1842673]\n\tBaseThreadInitThunk [0x7784FA29+25]\n\tRtlGetAppContainerNamedObjectPath [0x77C97A9E+286]\n\tRtlGetAppContainerNamedObjectPath [0x77C97A6E+238]\n"
     ]
    }
   ],
   "source": [
    "total_concesiones = []\n",
    "\n",
    "for comunidad in range(2,3): #21):\n",
    "    \n",
    "    #Select Servicio Fijo on Registro Público\n",
    "    serviciofijo_select = driver.find_element(By.XPATH,'//*[@id=\"MainContent_rblTipoServicio_1\"]')\n",
    "    serviciofijo_select.click()\n",
    "    \n",
    "    #Select Comunidad on Registro Público\n",
    "    comunidad_select = driver.find_element(By.XPATH,'//*[@id=\"MainContent_cmbComunidad\"]/option['+str(comunidad)+']')\n",
    "    comunidad_select.click()\n",
    "\n",
    "    #Click on Buscar\n",
    "    buscar_button = driver.find_element(By.XPATH,'//*[@id=\"MainContent_btnBuscar\"]')\n",
    "    buscar_button.click()\n",
    "    driver.implicitly_wait(5) #Wait 5 seconds for the load\n",
    "        \n",
    "    #Getting the number of pages to scrap\n",
    "    number_concesiones = driver.find_element(By.XPATH,'//*[@id=\"MainContent_lblTotal\"]')\n",
    "    total_concesiones.append(int(str.split(number_concesiones.text)[0]))\n",
    "    pages = math.ceil((int(str.split(number_concesiones.text)[0]))/10)\n",
    "\n",
    "    \n",
    "    #Flip through all of the records and save them\n",
    "    for n in range(2,4): #pages+1):\n",
    "        \n",
    "        #Click on each Referencia link\n",
    "        for link in range(0,9):\n",
    "            referencia_link = driver.find_element(By.XPATH,'//*[@id=\"MainContent_gridConcesiones_lnkFrecuencias_'+str(link)+'\"]')\n",
    "            referencia_link.click()\n",
    "        \n",
    "        \n",
    "            for i in range(3):\n",
    "                try:\n",
    "                    mytable = driver.find_element(By.XPATH,'//*[@id=\"MainContent_gridFrecuencias\"]')\n",
    "                    #Read in all of the data into the dataframe\n",
    "                    for row in mytable.find_elements(By.CSS_SELECTOR,'tr'):\n",
    "                        row_list = []\n",
    "                        #Add to dataframe accordingly\n",
    "                        for cell in row.find_elements(By.CSS_SELECTOR,'td'):\n",
    "                            cell_reading = cell.text\n",
    "                            row_list.append(cell_reading)\n",
    "                        #Add the list as a row, if possible \n",
    "                        try:\n",
    "                            a_series = pd.Series(row_list, index = df.columns)\n",
    "                            df = df.append(a_series, ignore_index=True)\n",
    "                        except:\n",
    "                            print(\"Could not append: \" + str(row_list))\n",
    "                    break\n",
    "                except:\n",
    "                    driver.implicitly_wait(1)\n",
    "                \n",
    "                \n",
    "                #Click on Cerrar    \n",
    "                try:\n",
    "                    cerrar_button = driver.find_element(By.XPATH,'//*[@id=\"MainContent_btnCerrar\"]')\n",
    "                    cerrar_button.click()\n",
    "                except:\n",
    "                    cerrar_button1 = driver.find_element(By.CLASS_NAME,'botonbuscar')\n",
    "                    driver.execute_script(\"arguments[0].click();\", cerrar_button1)\n",
    "                driver.implicitly_wait(3)\n",
    "            \n",
    "            pass\n",
    "    \n",
    "        if n%10 == 1:\n",
    "            #Click second \"...\" if on greater than page 10\n",
    "            if n < 20:\n",
    "                driver.find_elements(By.XPATH,'//*[@id=\"MainContent_gridConcesiones\"]/tbody/tr[12]/td/table/tbody/tr/td[11]/a')[0].click()  \n",
    "            else:\n",
    "                driver.find_elements(By.XPATH,'//*[@id=\"MainContent_gridConcesiones\"]/tbody/tr[12]/td/table/tbody/tr/td[12]/a')[0].click()  \n",
    "        else:\n",
    "            driver.find_element(By.XPATH,'//*[@id=\"MainContent_gridConcesiones\"]/tbody/tr[12]/td/table/tbody/tr/td[' + str(n)+ ']').click() \n",
    "        #Wait three seconds so the website doesn't crash\n",
    "        driver.implicitly_wait(3)\n",
    "\n",
    "    #if n%10 == 1:\n",
    "     #   #Click second \"...\" if on greater than page 10\n",
    "      #  if n < 20:\n",
    "       #     driver.find_elements(By.XPATH,'//*[@id=\"MainContent_gridConcesiones\"]/tbody/tr[12]/td/table/tbody/tr/td[11]/a')[0].click()  \n",
    "        #else:\n",
    "         #   driver.find_elements(By.XPATH,'//*[@id=\"MainContent_gridConcesiones\"]/tbody/tr[12]/td/table/tbody/tr/td[12]/a')[0].click()  \n",
    "    #else:\n",
    "     #   driver.find_element(By.XPATH,'//*[@id=\"MainContent_gridConcesiones\"]/tbody/tr[12]/td/table/tbody/tr/td[' + str(n)+ ']').click()    \n",
    "    #Wait three seconds so the website doesn't crash\n",
    "    #driver.implicitly_wait(4)\n",
    "        \n",
    "    \n",
    "    #go back to selecting comunidad\n",
    "    nueva_busqueda = driver.find_element(By.XPATH,'//*[@id=\"MainContent_btnNuevaBusqueda\"]')\n",
    "    nueva_busqueda.click()\n",
    "    driver.implicitly_wait(5) #Wait 5 seconds for the load"
   ]
  },
  {
   "cell_type": "code",
   "execution_count": null,
   "id": "0e9609d5",
   "metadata": {
    "scrolled": true
   },
   "outputs": [],
   "source": [
    "df"
   ]
  },
  {
   "cell_type": "code",
   "execution_count": null,
   "id": "8b530e17",
   "metadata": {},
   "outputs": [],
   "source": [
    "#Write to a csv\n",
    "df.to_csv(\"RegistroPublicoConcesiones_Frequencies1.csv\", index= False,sep=\";\")"
   ]
  },
  {
   "cell_type": "code",
   "execution_count": null,
   "id": "e2b26803",
   "metadata": {},
   "outputs": [],
   "source": [
    "sum(total_concesiones)"
   ]
  },
  {
   "cell_type": "code",
   "execution_count": null,
   "id": "fc7da5c8",
   "metadata": {},
   "outputs": [],
   "source": [
    "print(\"--- %s minutes ---\" % ((time.time() - start_time)/60))"
   ]
  },
  {
   "cell_type": "markdown",
   "id": "7a8ab276",
   "metadata": {},
   "source": [
    "driver.find_element(By.XPATH,'//*[@id=\"MainContent_gridConcesiones\"]/tbody/tr[12]/td/table/tbody/tr/td[' + str(4)+ ']').click()"
   ]
  },
  {
   "cell_type": "code",
   "execution_count": null,
   "id": "b4366146",
   "metadata": {},
   "outputs": [],
   "source": [
    "driver.find_element(By.XPATH,'//*[@id=\"MainContent_gridConcesiones\"]/tbody/tr[12]/td/table/tbody/tr/td[' + str(n)+ ']').click()"
   ]
  },
  {
   "cell_type": "code",
   "execution_count": null,
   "id": "dd526aeb",
   "metadata": {},
   "outputs": [],
   "source": []
  }
 ],
 "metadata": {
  "kernelspec": {
   "display_name": "Python 3 (ipykernel)",
   "language": "python",
   "name": "python3"
  },
  "language_info": {
   "codemirror_mode": {
    "name": "ipython",
    "version": 3
   },
   "file_extension": ".py",
   "mimetype": "text/x-python",
   "name": "python",
   "nbconvert_exporter": "python",
   "pygments_lexer": "ipython3",
   "version": "3.9.12"
  }
 },
 "nbformat": 4,
 "nbformat_minor": 5
}

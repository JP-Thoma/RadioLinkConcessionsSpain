{
 "cells": [
  {
   "cell_type": "markdown",
   "id": "b5975c92",
   "metadata": {},
   "source": [
    "# Webscrapper for Registro Público de Concesiones\n",
    "\n",
    "Traditional webscrapping with Beautiful Soup is less useful for aspx websites that expect a user input. This webscraper was built with Selenium intenting to make requests to the form before scraping each page.\n",
    "\n",
    "Following links are helpful: <br>\n",
    "Data Source: https://avancedigital.mineco.gob.es/espectro/Paginas/registro-publico-concesiones.aspx <br>\n",
    "Selenium: https://selenium-python.readthedocs.io/locating-elements.html <br>\n",
    "Chromedriver: https://chromedriver.chromium.org/home (download necessary)<br>"
   ]
  },
  {
   "cell_type": "code",
   "execution_count": 1,
   "id": "aa2271d4",
   "metadata": {},
   "outputs": [],
   "source": [
    "#pip install requests (for making HTTP requests)\n",
    "#pip install URLLib3 (URL handling)\n",
    "#pip install bs4 (in case Selenium couldn’t handle everything)\n",
    "#pip install selenium (for browser-based navigation)"
   ]
  },
  {
   "cell_type": "markdown",
   "id": "59db80d4",
   "metadata": {},
   "source": [
    "## Making crawler move on the website"
   ]
  },
  {
   "cell_type": "code",
   "execution_count": 2,
   "id": "3305e92c",
   "metadata": {},
   "outputs": [
    {
     "name": "stderr",
     "output_type": "stream",
     "text": [
      "C:\\Users\\jthoma\\AppData\\Local\\Temp\\ipykernel_13440\\783515835.py:9: DeprecationWarning: executable_path has been deprecated, please pass in a Service object\n",
      "  driver = webdriver.Chrome('C:/Users/jthoma/Downloads/chromedriver.exe') #use path where chormedriver saved\n"
     ]
    }
   ],
   "source": [
    "from selenium import webdriver\n",
    "from selenium.webdriver.common.by import By\n",
    "from selenium.webdriver.support.ui import WebDriverWait, Select\n",
    "from selenium.webdriver.support import expected_conditions as EC\n",
    "from selenium.common.exceptions import TimeoutException\n",
    "\n",
    "# Establish chrome driver and go to report site URL\n",
    "url = \"https://sedeaplicaciones.minetur.gob.es/RPC_Consulta/FrmConsulta.aspx\"\n",
    "driver = webdriver.Chrome('C:/Users/jthoma/Downloads/chromedriver.exe') #use path where chormedriver saved\n",
    "driver.get(url)"
   ]
  },
  {
   "cell_type": "code",
   "execution_count": 3,
   "id": "ccab144d",
   "metadata": {},
   "outputs": [],
   "source": [
    "#Select Servicio Fijo\n",
    "serviciofijo_select = driver.find_element(By.XPATH,'//*[@id=\"MainContent_rblTipoServicio_1\"]')\n",
    "serviciofijo_select.click()\n",
    "\n",
    "#driver.implicitly_wait(10)"
   ]
  },
  {
   "cell_type": "code",
   "execution_count": 4,
   "id": "3c3b3526",
   "metadata": {},
   "outputs": [
    {
     "data": {
      "text/plain": [
       "'<select name=\"ctl00$MainContent$cmbComunidad\" onchange=\"javascript:setTimeout(\\'__doPostBack(\\'ctl00$MainContent$cmbComunidad\\',\\'\\')\\', 0)\" id=\"MainContent_cmbComunidad\" tabindex=\"8\">\\n\\t\\t\\t<option value=\"-1\"></option>\\n\\t\\t\\t<option selected=\"selected\" value=\"04\">ANDALUCÍA</option>\\n\\t\\t\\t<option value=\"10\">ARAGÓN</option>\\n\\t\\t\\t<option value=\"12\">CANARIAS</option>\\n\\t\\t\\t<option value=\"06\">CANTABRIA</option>\\n\\t\\t\\t<option value=\"17\">CASTILLA Y LEÓN</option>\\n\\t\\t\\t<option value=\"11\">CASTILLA-LA MANCHA</option>\\n\\t\\t\\t<option value=\"02\">CATALUÑA</option>\\n\\t\\t\\t<option value=\"18\">CIUDAD AUTÓNOMA DE CEUTA</option>\\n\\t\\t\\t<option value=\"19\">CIUDAD AUTÓNOMA DE MELILLA</option>\\n\\t\\t\\t<option value=\"16\">COMUNIDAD DE MADRID</option>\\n\\t\\t\\t<option value=\"13\">COMUNIDAD FORAL DE NAVARRA</option>\\n\\t\\t\\t<option value=\"09\">COMUNITAT VALENCIANA</option>\\n\\t\\t\\t<option value=\"14\">EXTREMADURA</option>\\n\\t\\t\\t<option value=\"03\">GALICIA</option>\\n\\t\\t\\t<option value=\"15\">ILLES BALEARS</option>\\n\\t\\t\\t<option value=\"07\">LA RIOJA</option>\\n\\t\\t\\t<option value=\"01\">PAÍS VASCO</option>\\n\\t\\t\\t<option value=\"05\">PRINCIPADO DE ASTURIAS</option>\\n\\t\\t\\t<option value=\"08\">REGIÓN DE MURCIA</option>\\n\\t\\t</select>'"
      ]
     },
     "execution_count": 4,
     "metadata": {},
     "output_type": "execute_result"
    }
   ],
   "source": [
    "#Select Comunidad\n",
    "#structure of xpath:\"//select[@name='element_name']/option[text()='option_text']\"\n",
    "comunidad_select = driver.find_element(By.XPATH,'//*[@id=\"MainContent_cmbComunidad\"]/option[2]')\n",
    "comunidad_select.click()\n",
    "\n",
    "\"\"\"<select name=\"ctl00$MainContent$cmbComunidad\" onchange=\"javascript:setTimeout('__doPostBack(\\'ctl00$MainContent$cmbComunidad\\',\\'\\')', 0)\" id=\"MainContent_cmbComunidad\" tabindex=\"8\">\n",
    "\t\t\t<option value=\"-1\"></option>\n",
    "\t\t\t<option selected=\"selected\" value=\"04\">ANDALUCÍA</option>\n",
    "\t\t\t<option value=\"10\">ARAGÓN</option>\n",
    "\t\t\t<option value=\"12\">CANARIAS</option>\n",
    "\t\t\t<option value=\"06\">CANTABRIA</option>\n",
    "\t\t\t<option value=\"17\">CASTILLA Y LEÓN</option>\n",
    "\t\t\t<option value=\"11\">CASTILLA-LA MANCHA</option>\n",
    "\t\t\t<option value=\"02\">CATALUÑA</option>\n",
    "\t\t\t<option value=\"18\">CIUDAD AUTÓNOMA DE CEUTA</option>\n",
    "\t\t\t<option value=\"19\">CIUDAD AUTÓNOMA DE MELILLA</option>\n",
    "\t\t\t<option value=\"16\">COMUNIDAD DE MADRID</option>\n",
    "\t\t\t<option value=\"13\">COMUNIDAD FORAL DE NAVARRA</option>\n",
    "\t\t\t<option value=\"09\">COMUNITAT VALENCIANA</option>\n",
    "\t\t\t<option value=\"14\">EXTREMADURA</option>\n",
    "\t\t\t<option value=\"03\">GALICIA</option>\n",
    "\t\t\t<option value=\"15\">ILLES BALEARS</option>\n",
    "\t\t\t<option value=\"07\">LA RIOJA</option>\n",
    "\t\t\t<option value=\"01\">PAÍS VASCO</option>\n",
    "\t\t\t<option value=\"05\">PRINCIPADO DE ASTURIAS</option>\n",
    "\t\t\t<option value=\"08\">REGIÓN DE MURCIA</option>\n",
    "\t\t</select>\"\"\"\n",
    "\n",
    "#driver.implicitly_wait(10)"
   ]
  },
  {
   "cell_type": "code",
   "execution_count": 5,
   "id": "fc452ab1",
   "metadata": {},
   "outputs": [],
   "source": [
    "#Click on Buscar\n",
    "buscar_button = driver.find_element(By.XPATH,'//*[@id=\"MainContent_btnBuscar\"]')\n",
    "buscar_button.click()\n",
    "\n",
    "driver.implicitly_wait(10) #Wait 10 seconds for the load"
   ]
  },
  {
   "cell_type": "markdown",
   "id": "91ceea82",
   "metadata": {},
   "source": [
    "## Scrapping the tables"
   ]
  },
  {
   "cell_type": "code",
   "execution_count": 6,
   "id": "6e3532e0",
   "metadata": {},
   "outputs": [
    {
     "name": "stderr",
     "output_type": "stream",
     "text": [
      "C:\\Users\\jthoma\\AppData\\Local\\Temp\\ipykernel_13440\\2778897423.py:27: FutureWarning: The default dtype for empty Series will be 'object' instead of 'float64' in a future version. Specify a dtype explicitly to silence this warning.\n",
      "  a_series = pd.Series(row_list, index = df.columns)\n",
      "C:\\Users\\jthoma\\AppData\\Local\\Temp\\ipykernel_13440\\2778897423.py:28: FutureWarning: The frame.append method is deprecated and will be removed from pandas in a future version. Use pandas.concat instead.\n",
      "  df = df.append(a_series, ignore_index=True)\n",
      "C:\\Users\\jthoma\\AppData\\Local\\Temp\\ipykernel_13440\\2778897423.py:28: FutureWarning: The frame.append method is deprecated and will be removed from pandas in a future version. Use pandas.concat instead.\n",
      "  df = df.append(a_series, ignore_index=True)\n"
     ]
    },
    {
     "name": "stdout",
     "output_type": "stream",
     "text": [
      "Could not append: []\n"
     ]
    },
    {
     "name": "stderr",
     "output_type": "stream",
     "text": [
      "C:\\Users\\jthoma\\AppData\\Local\\Temp\\ipykernel_13440\\2778897423.py:27: FutureWarning: The default dtype for empty Series will be 'object' instead of 'float64' in a future version. Specify a dtype explicitly to silence this warning.\n",
      "  a_series = pd.Series(row_list, index = df.columns)\n",
      "C:\\Users\\jthoma\\AppData\\Local\\Temp\\ipykernel_13440\\2778897423.py:28: FutureWarning: The frame.append method is deprecated and will be removed from pandas in a future version. Use pandas.concat instead.\n",
      "  df = df.append(a_series, ignore_index=True)\n",
      "C:\\Users\\jthoma\\AppData\\Local\\Temp\\ipykernel_13440\\2778897423.py:28: FutureWarning: The frame.append method is deprecated and will be removed from pandas in a future version. Use pandas.concat instead.\n",
      "  df = df.append(a_series, ignore_index=True)\n"
     ]
    },
    {
     "name": "stdout",
     "output_type": "stream",
     "text": [
      "Could not append: []\n"
     ]
    },
    {
     "name": "stderr",
     "output_type": "stream",
     "text": [
      "C:\\Users\\jthoma\\AppData\\Local\\Temp\\ipykernel_13440\\2778897423.py:27: FutureWarning: The default dtype for empty Series will be 'object' instead of 'float64' in a future version. Specify a dtype explicitly to silence this warning.\n",
      "  a_series = pd.Series(row_list, index = df.columns)\n",
      "C:\\Users\\jthoma\\AppData\\Local\\Temp\\ipykernel_13440\\2778897423.py:28: FutureWarning: The frame.append method is deprecated and will be removed from pandas in a future version. Use pandas.concat instead.\n",
      "  df = df.append(a_series, ignore_index=True)\n",
      "C:\\Users\\jthoma\\AppData\\Local\\Temp\\ipykernel_13440\\2778897423.py:28: FutureWarning: The frame.append method is deprecated and will be removed from pandas in a future version. Use pandas.concat instead.\n",
      "  df = df.append(a_series, ignore_index=True)\n"
     ]
    },
    {
     "name": "stdout",
     "output_type": "stream",
     "text": [
      "Could not append: []\n"
     ]
    },
    {
     "name": "stderr",
     "output_type": "stream",
     "text": [
      "C:\\Users\\jthoma\\AppData\\Local\\Temp\\ipykernel_13440\\2778897423.py:27: FutureWarning: The default dtype for empty Series will be 'object' instead of 'float64' in a future version. Specify a dtype explicitly to silence this warning.\n",
      "  a_series = pd.Series(row_list, index = df.columns)\n",
      "C:\\Users\\jthoma\\AppData\\Local\\Temp\\ipykernel_13440\\2778897423.py:28: FutureWarning: The frame.append method is deprecated and will be removed from pandas in a future version. Use pandas.concat instead.\n",
      "  df = df.append(a_series, ignore_index=True)\n",
      "C:\\Users\\jthoma\\AppData\\Local\\Temp\\ipykernel_13440\\2778897423.py:28: FutureWarning: The frame.append method is deprecated and will be removed from pandas in a future version. Use pandas.concat instead.\n",
      "  df = df.append(a_series, ignore_index=True)\n",
      "C:\\Users\\jthoma\\AppData\\Local\\Temp\\ipykernel_13440\\2778897423.py:28: FutureWarning: The frame.append method is deprecated and will be removed from pandas in a future version. Use pandas.concat instead.\n",
      "  df = df.append(a_series, ignore_index=True)\n"
     ]
    },
    {
     "name": "stdout",
     "output_type": "stream",
     "text": [
      "Could not append: []\n"
     ]
    },
    {
     "name": "stderr",
     "output_type": "stream",
     "text": [
      "C:\\Users\\jthoma\\AppData\\Local\\Temp\\ipykernel_13440\\2778897423.py:28: FutureWarning: The frame.append method is deprecated and will be removed from pandas in a future version. Use pandas.concat instead.\n",
      "  df = df.append(a_series, ignore_index=True)\n",
      "C:\\Users\\jthoma\\AppData\\Local\\Temp\\ipykernel_13440\\2778897423.py:28: FutureWarning: The frame.append method is deprecated and will be removed from pandas in a future version. Use pandas.concat instead.\n",
      "  df = df.append(a_series, ignore_index=True)\n",
      "C:\\Users\\jthoma\\AppData\\Local\\Temp\\ipykernel_13440\\2778897423.py:28: FutureWarning: The frame.append method is deprecated and will be removed from pandas in a future version. Use pandas.concat instead.\n",
      "  df = df.append(a_series, ignore_index=True)\n",
      "C:\\Users\\jthoma\\AppData\\Local\\Temp\\ipykernel_13440\\2778897423.py:28: FutureWarning: The frame.append method is deprecated and will be removed from pandas in a future version. Use pandas.concat instead.\n",
      "  df = df.append(a_series, ignore_index=True)\n",
      "C:\\Users\\jthoma\\AppData\\Local\\Temp\\ipykernel_13440\\2778897423.py:28: FutureWarning: The frame.append method is deprecated and will be removed from pandas in a future version. Use pandas.concat instead.\n",
      "  df = df.append(a_series, ignore_index=True)\n",
      "C:\\Users\\jthoma\\AppData\\Local\\Temp\\ipykernel_13440\\2778897423.py:28: FutureWarning: The frame.append method is deprecated and will be removed from pandas in a future version. Use pandas.concat instead.\n",
      "  df = df.append(a_series, ignore_index=True)\n",
      "C:\\Users\\jthoma\\AppData\\Local\\Temp\\ipykernel_13440\\2778897423.py:28: FutureWarning: The frame.append method is deprecated and will be removed from pandas in a future version. Use pandas.concat instead.\n",
      "  df = df.append(a_series, ignore_index=True)\n",
      "C:\\Users\\jthoma\\AppData\\Local\\Temp\\ipykernel_13440\\2778897423.py:28: FutureWarning: The frame.append method is deprecated and will be removed from pandas in a future version. Use pandas.concat instead.\n",
      "  df = df.append(a_series, ignore_index=True)\n",
      "C:\\Users\\jthoma\\AppData\\Local\\Temp\\ipykernel_13440\\2778897423.py:28: FutureWarning: The frame.append method is deprecated and will be removed from pandas in a future version. Use pandas.concat instead.\n",
      "  df = df.append(a_series, ignore_index=True)\n",
      "C:\\Users\\jthoma\\AppData\\Local\\Temp\\ipykernel_13440\\2778897423.py:27: FutureWarning: The default dtype for empty Series will be 'object' instead of 'float64' in a future version. Specify a dtype explicitly to silence this warning.\n",
      "  a_series = pd.Series(row_list, index = df.columns)\n",
      "C:\\Users\\jthoma\\AppData\\Local\\Temp\\ipykernel_13440\\2778897423.py:28: FutureWarning: The frame.append method is deprecated and will be removed from pandas in a future version. Use pandas.concat instead.\n",
      "  df = df.append(a_series, ignore_index=True)\n",
      "C:\\Users\\jthoma\\AppData\\Local\\Temp\\ipykernel_13440\\2778897423.py:28: FutureWarning: The frame.append method is deprecated and will be removed from pandas in a future version. Use pandas.concat instead.\n",
      "  df = df.append(a_series, ignore_index=True)\n"
     ]
    },
    {
     "name": "stdout",
     "output_type": "stream",
     "text": [
      "Could not append: []\n"
     ]
    },
    {
     "name": "stderr",
     "output_type": "stream",
     "text": [
      "C:\\Users\\jthoma\\AppData\\Local\\Temp\\ipykernel_13440\\2778897423.py:27: FutureWarning: The default dtype for empty Series will be 'object' instead of 'float64' in a future version. Specify a dtype explicitly to silence this warning.\n",
      "  a_series = pd.Series(row_list, index = df.columns)\n",
      "C:\\Users\\jthoma\\AppData\\Local\\Temp\\ipykernel_13440\\2778897423.py:28: FutureWarning: The frame.append method is deprecated and will be removed from pandas in a future version. Use pandas.concat instead.\n",
      "  df = df.append(a_series, ignore_index=True)\n",
      "C:\\Users\\jthoma\\AppData\\Local\\Temp\\ipykernel_13440\\2778897423.py:28: FutureWarning: The frame.append method is deprecated and will be removed from pandas in a future version. Use pandas.concat instead.\n",
      "  df = df.append(a_series, ignore_index=True)\n"
     ]
    },
    {
     "name": "stdout",
     "output_type": "stream",
     "text": [
      "Could not append: []\n"
     ]
    },
    {
     "name": "stderr",
     "output_type": "stream",
     "text": [
      "C:\\Users\\jthoma\\AppData\\Local\\Temp\\ipykernel_13440\\2778897423.py:27: FutureWarning: The default dtype for empty Series will be 'object' instead of 'float64' in a future version. Specify a dtype explicitly to silence this warning.\n",
      "  a_series = pd.Series(row_list, index = df.columns)\n",
      "C:\\Users\\jthoma\\AppData\\Local\\Temp\\ipykernel_13440\\2778897423.py:28: FutureWarning: The frame.append method is deprecated and will be removed from pandas in a future version. Use pandas.concat instead.\n",
      "  df = df.append(a_series, ignore_index=True)\n",
      "C:\\Users\\jthoma\\AppData\\Local\\Temp\\ipykernel_13440\\2778897423.py:28: FutureWarning: The frame.append method is deprecated and will be removed from pandas in a future version. Use pandas.concat instead.\n",
      "  df = df.append(a_series, ignore_index=True)\n"
     ]
    },
    {
     "name": "stdout",
     "output_type": "stream",
     "text": [
      "Could not append: []\n"
     ]
    },
    {
     "name": "stderr",
     "output_type": "stream",
     "text": [
      "C:\\Users\\jthoma\\AppData\\Local\\Temp\\ipykernel_13440\\2778897423.py:27: FutureWarning: The default dtype for empty Series will be 'object' instead of 'float64' in a future version. Specify a dtype explicitly to silence this warning.\n",
      "  a_series = pd.Series(row_list, index = df.columns)\n",
      "C:\\Users\\jthoma\\AppData\\Local\\Temp\\ipykernel_13440\\2778897423.py:28: FutureWarning: The frame.append method is deprecated and will be removed from pandas in a future version. Use pandas.concat instead.\n",
      "  df = df.append(a_series, ignore_index=True)\n",
      "C:\\Users\\jthoma\\AppData\\Local\\Temp\\ipykernel_13440\\2778897423.py:28: FutureWarning: The frame.append method is deprecated and will be removed from pandas in a future version. Use pandas.concat instead.\n",
      "  df = df.append(a_series, ignore_index=True)\n"
     ]
    },
    {
     "name": "stdout",
     "output_type": "stream",
     "text": [
      "Could not append: []\n"
     ]
    },
    {
     "name": "stderr",
     "output_type": "stream",
     "text": [
      "C:\\Users\\jthoma\\AppData\\Local\\Temp\\ipykernel_13440\\2778897423.py:27: FutureWarning: The default dtype for empty Series will be 'object' instead of 'float64' in a future version. Specify a dtype explicitly to silence this warning.\n",
      "  a_series = pd.Series(row_list, index = df.columns)\n",
      "C:\\Users\\jthoma\\AppData\\Local\\Temp\\ipykernel_13440\\2778897423.py:28: FutureWarning: The frame.append method is deprecated and will be removed from pandas in a future version. Use pandas.concat instead.\n",
      "  df = df.append(a_series, ignore_index=True)\n",
      "C:\\Users\\jthoma\\AppData\\Local\\Temp\\ipykernel_13440\\2778897423.py:28: FutureWarning: The frame.append method is deprecated and will be removed from pandas in a future version. Use pandas.concat instead.\n",
      "  df = df.append(a_series, ignore_index=True)\n"
     ]
    },
    {
     "name": "stdout",
     "output_type": "stream",
     "text": [
      "Could not append: []\n"
     ]
    },
    {
     "name": "stderr",
     "output_type": "stream",
     "text": [
      "C:\\Users\\jthoma\\AppData\\Local\\Temp\\ipykernel_13440\\2778897423.py:27: FutureWarning: The default dtype for empty Series will be 'object' instead of 'float64' in a future version. Specify a dtype explicitly to silence this warning.\n",
      "  a_series = pd.Series(row_list, index = df.columns)\n",
      "C:\\Users\\jthoma\\AppData\\Local\\Temp\\ipykernel_13440\\2778897423.py:28: FutureWarning: The frame.append method is deprecated and will be removed from pandas in a future version. Use pandas.concat instead.\n",
      "  df = df.append(a_series, ignore_index=True)\n",
      "C:\\Users\\jthoma\\AppData\\Local\\Temp\\ipykernel_13440\\2778897423.py:28: FutureWarning: The frame.append method is deprecated and will be removed from pandas in a future version. Use pandas.concat instead.\n",
      "  df = df.append(a_series, ignore_index=True)\n"
     ]
    },
    {
     "name": "stdout",
     "output_type": "stream",
     "text": [
      "Could not append: []\n"
     ]
    },
    {
     "name": "stderr",
     "output_type": "stream",
     "text": [
      "C:\\Users\\jthoma\\AppData\\Local\\Temp\\ipykernel_13440\\2778897423.py:27: FutureWarning: The default dtype for empty Series will be 'object' instead of 'float64' in a future version. Specify a dtype explicitly to silence this warning.\n",
      "  a_series = pd.Series(row_list, index = df.columns)\n",
      "C:\\Users\\jthoma\\AppData\\Local\\Temp\\ipykernel_13440\\2778897423.py:28: FutureWarning: The frame.append method is deprecated and will be removed from pandas in a future version. Use pandas.concat instead.\n",
      "  df = df.append(a_series, ignore_index=True)\n",
      "C:\\Users\\jthoma\\AppData\\Local\\Temp\\ipykernel_13440\\2778897423.py:28: FutureWarning: The frame.append method is deprecated and will be removed from pandas in a future version. Use pandas.concat instead.\n",
      "  df = df.append(a_series, ignore_index=True)\n"
     ]
    },
    {
     "name": "stdout",
     "output_type": "stream",
     "text": [
      "Could not append: []\n"
     ]
    },
    {
     "name": "stderr",
     "output_type": "stream",
     "text": [
      "C:\\Users\\jthoma\\AppData\\Local\\Temp\\ipykernel_13440\\2778897423.py:27: FutureWarning: The default dtype for empty Series will be 'object' instead of 'float64' in a future version. Specify a dtype explicitly to silence this warning.\n",
      "  a_series = pd.Series(row_list, index = df.columns)\n",
      "C:\\Users\\jthoma\\AppData\\Local\\Temp\\ipykernel_13440\\2778897423.py:28: FutureWarning: The frame.append method is deprecated and will be removed from pandas in a future version. Use pandas.concat instead.\n",
      "  df = df.append(a_series, ignore_index=True)\n",
      "C:\\Users\\jthoma\\AppData\\Local\\Temp\\ipykernel_13440\\2778897423.py:28: FutureWarning: The frame.append method is deprecated and will be removed from pandas in a future version. Use pandas.concat instead.\n",
      "  df = df.append(a_series, ignore_index=True)\n"
     ]
    },
    {
     "name": "stdout",
     "output_type": "stream",
     "text": [
      "Could not append: []\n"
     ]
    },
    {
     "name": "stderr",
     "output_type": "stream",
     "text": [
      "C:\\Users\\jthoma\\AppData\\Local\\Temp\\ipykernel_13440\\2778897423.py:27: FutureWarning: The default dtype for empty Series will be 'object' instead of 'float64' in a future version. Specify a dtype explicitly to silence this warning.\n",
      "  a_series = pd.Series(row_list, index = df.columns)\n",
      "C:\\Users\\jthoma\\AppData\\Local\\Temp\\ipykernel_13440\\2778897423.py:28: FutureWarning: The frame.append method is deprecated and will be removed from pandas in a future version. Use pandas.concat instead.\n",
      "  df = df.append(a_series, ignore_index=True)\n",
      "C:\\Users\\jthoma\\AppData\\Local\\Temp\\ipykernel_13440\\2778897423.py:28: FutureWarning: The frame.append method is deprecated and will be removed from pandas in a future version. Use pandas.concat instead.\n",
      "  df = df.append(a_series, ignore_index=True)\n"
     ]
    },
    {
     "name": "stdout",
     "output_type": "stream",
     "text": [
      "Could not append: []\n"
     ]
    },
    {
     "name": "stderr",
     "output_type": "stream",
     "text": [
      "C:\\Users\\jthoma\\AppData\\Local\\Temp\\ipykernel_13440\\2778897423.py:27: FutureWarning: The default dtype for empty Series will be 'object' instead of 'float64' in a future version. Specify a dtype explicitly to silence this warning.\n",
      "  a_series = pd.Series(row_list, index = df.columns)\n",
      "C:\\Users\\jthoma\\AppData\\Local\\Temp\\ipykernel_13440\\2778897423.py:28: FutureWarning: The frame.append method is deprecated and will be removed from pandas in a future version. Use pandas.concat instead.\n",
      "  df = df.append(a_series, ignore_index=True)\n",
      "C:\\Users\\jthoma\\AppData\\Local\\Temp\\ipykernel_13440\\2778897423.py:28: FutureWarning: The frame.append method is deprecated and will be removed from pandas in a future version. Use pandas.concat instead.\n",
      "  df = df.append(a_series, ignore_index=True)\n",
      "C:\\Users\\jthoma\\AppData\\Local\\Temp\\ipykernel_13440\\2778897423.py:28: FutureWarning: The frame.append method is deprecated and will be removed from pandas in a future version. Use pandas.concat instead.\n",
      "  df = df.append(a_series, ignore_index=True)\n"
     ]
    },
    {
     "name": "stdout",
     "output_type": "stream",
     "text": [
      "Could not append: []\n"
     ]
    },
    {
     "name": "stderr",
     "output_type": "stream",
     "text": [
      "C:\\Users\\jthoma\\AppData\\Local\\Temp\\ipykernel_13440\\2778897423.py:28: FutureWarning: The frame.append method is deprecated and will be removed from pandas in a future version. Use pandas.concat instead.\n",
      "  df = df.append(a_series, ignore_index=True)\n",
      "C:\\Users\\jthoma\\AppData\\Local\\Temp\\ipykernel_13440\\2778897423.py:28: FutureWarning: The frame.append method is deprecated and will be removed from pandas in a future version. Use pandas.concat instead.\n",
      "  df = df.append(a_series, ignore_index=True)\n",
      "C:\\Users\\jthoma\\AppData\\Local\\Temp\\ipykernel_13440\\2778897423.py:28: FutureWarning: The frame.append method is deprecated and will be removed from pandas in a future version. Use pandas.concat instead.\n",
      "  df = df.append(a_series, ignore_index=True)\n",
      "C:\\Users\\jthoma\\AppData\\Local\\Temp\\ipykernel_13440\\2778897423.py:28: FutureWarning: The frame.append method is deprecated and will be removed from pandas in a future version. Use pandas.concat instead.\n",
      "  df = df.append(a_series, ignore_index=True)\n",
      "C:\\Users\\jthoma\\AppData\\Local\\Temp\\ipykernel_13440\\2778897423.py:28: FutureWarning: The frame.append method is deprecated and will be removed from pandas in a future version. Use pandas.concat instead.\n",
      "  df = df.append(a_series, ignore_index=True)\n",
      "C:\\Users\\jthoma\\AppData\\Local\\Temp\\ipykernel_13440\\2778897423.py:28: FutureWarning: The frame.append method is deprecated and will be removed from pandas in a future version. Use pandas.concat instead.\n",
      "  df = df.append(a_series, ignore_index=True)\n",
      "C:\\Users\\jthoma\\AppData\\Local\\Temp\\ipykernel_13440\\2778897423.py:28: FutureWarning: The frame.append method is deprecated and will be removed from pandas in a future version. Use pandas.concat instead.\n",
      "  df = df.append(a_series, ignore_index=True)\n",
      "C:\\Users\\jthoma\\AppData\\Local\\Temp\\ipykernel_13440\\2778897423.py:28: FutureWarning: The frame.append method is deprecated and will be removed from pandas in a future version. Use pandas.concat instead.\n",
      "  df = df.append(a_series, ignore_index=True)\n",
      "C:\\Users\\jthoma\\AppData\\Local\\Temp\\ipykernel_13440\\2778897423.py:28: FutureWarning: The frame.append method is deprecated and will be removed from pandas in a future version. Use pandas.concat instead.\n",
      "  df = df.append(a_series, ignore_index=True)\n",
      "C:\\Users\\jthoma\\AppData\\Local\\Temp\\ipykernel_13440\\2778897423.py:27: FutureWarning: The default dtype for empty Series will be 'object' instead of 'float64' in a future version. Specify a dtype explicitly to silence this warning.\n",
      "  a_series = pd.Series(row_list, index = df.columns)\n",
      "C:\\Users\\jthoma\\AppData\\Local\\Temp\\ipykernel_13440\\2778897423.py:28: FutureWarning: The frame.append method is deprecated and will be removed from pandas in a future version. Use pandas.concat instead.\n",
      "  df = df.append(a_series, ignore_index=True)\n",
      "C:\\Users\\jthoma\\AppData\\Local\\Temp\\ipykernel_13440\\2778897423.py:28: FutureWarning: The frame.append method is deprecated and will be removed from pandas in a future version. Use pandas.concat instead.\n",
      "  df = df.append(a_series, ignore_index=True)\n"
     ]
    },
    {
     "name": "stdout",
     "output_type": "stream",
     "text": [
      "Could not append: []\n"
     ]
    },
    {
     "name": "stderr",
     "output_type": "stream",
     "text": [
      "C:\\Users\\jthoma\\AppData\\Local\\Temp\\ipykernel_13440\\2778897423.py:27: FutureWarning: The default dtype for empty Series will be 'object' instead of 'float64' in a future version. Specify a dtype explicitly to silence this warning.\n",
      "  a_series = pd.Series(row_list, index = df.columns)\n",
      "C:\\Users\\jthoma\\AppData\\Local\\Temp\\ipykernel_13440\\2778897423.py:28: FutureWarning: The frame.append method is deprecated and will be removed from pandas in a future version. Use pandas.concat instead.\n",
      "  df = df.append(a_series, ignore_index=True)\n",
      "C:\\Users\\jthoma\\AppData\\Local\\Temp\\ipykernel_13440\\2778897423.py:28: FutureWarning: The frame.append method is deprecated and will be removed from pandas in a future version. Use pandas.concat instead.\n",
      "  df = df.append(a_series, ignore_index=True)\n"
     ]
    },
    {
     "name": "stdout",
     "output_type": "stream",
     "text": [
      "Could not append: []\n"
     ]
    },
    {
     "name": "stderr",
     "output_type": "stream",
     "text": [
      "C:\\Users\\jthoma\\AppData\\Local\\Temp\\ipykernel_13440\\2778897423.py:27: FutureWarning: The default dtype for empty Series will be 'object' instead of 'float64' in a future version. Specify a dtype explicitly to silence this warning.\n",
      "  a_series = pd.Series(row_list, index = df.columns)\n",
      "C:\\Users\\jthoma\\AppData\\Local\\Temp\\ipykernel_13440\\2778897423.py:28: FutureWarning: The frame.append method is deprecated and will be removed from pandas in a future version. Use pandas.concat instead.\n",
      "  df = df.append(a_series, ignore_index=True)\n",
      "C:\\Users\\jthoma\\AppData\\Local\\Temp\\ipykernel_13440\\2778897423.py:28: FutureWarning: The frame.append method is deprecated and will be removed from pandas in a future version. Use pandas.concat instead.\n",
      "  df = df.append(a_series, ignore_index=True)\n"
     ]
    },
    {
     "name": "stdout",
     "output_type": "stream",
     "text": [
      "Could not append: []\n"
     ]
    },
    {
     "name": "stderr",
     "output_type": "stream",
     "text": [
      "C:\\Users\\jthoma\\AppData\\Local\\Temp\\ipykernel_13440\\2778897423.py:27: FutureWarning: The default dtype for empty Series will be 'object' instead of 'float64' in a future version. Specify a dtype explicitly to silence this warning.\n",
      "  a_series = pd.Series(row_list, index = df.columns)\n",
      "C:\\Users\\jthoma\\AppData\\Local\\Temp\\ipykernel_13440\\2778897423.py:28: FutureWarning: The frame.append method is deprecated and will be removed from pandas in a future version. Use pandas.concat instead.\n",
      "  df = df.append(a_series, ignore_index=True)\n",
      "C:\\Users\\jthoma\\AppData\\Local\\Temp\\ipykernel_13440\\2778897423.py:28: FutureWarning: The frame.append method is deprecated and will be removed from pandas in a future version. Use pandas.concat instead.\n",
      "  df = df.append(a_series, ignore_index=True)\n"
     ]
    },
    {
     "name": "stdout",
     "output_type": "stream",
     "text": [
      "Could not append: []\n"
     ]
    },
    {
     "name": "stderr",
     "output_type": "stream",
     "text": [
      "C:\\Users\\jthoma\\AppData\\Local\\Temp\\ipykernel_13440\\2778897423.py:27: FutureWarning: The default dtype for empty Series will be 'object' instead of 'float64' in a future version. Specify a dtype explicitly to silence this warning.\n",
      "  a_series = pd.Series(row_list, index = df.columns)\n",
      "C:\\Users\\jthoma\\AppData\\Local\\Temp\\ipykernel_13440\\2778897423.py:28: FutureWarning: The frame.append method is deprecated and will be removed from pandas in a future version. Use pandas.concat instead.\n",
      "  df = df.append(a_series, ignore_index=True)\n",
      "C:\\Users\\jthoma\\AppData\\Local\\Temp\\ipykernel_13440\\2778897423.py:28: FutureWarning: The frame.append method is deprecated and will be removed from pandas in a future version. Use pandas.concat instead.\n",
      "  df = df.append(a_series, ignore_index=True)\n"
     ]
    },
    {
     "name": "stdout",
     "output_type": "stream",
     "text": [
      "Could not append: []\n"
     ]
    },
    {
     "name": "stderr",
     "output_type": "stream",
     "text": [
      "C:\\Users\\jthoma\\AppData\\Local\\Temp\\ipykernel_13440\\2778897423.py:27: FutureWarning: The default dtype for empty Series will be 'object' instead of 'float64' in a future version. Specify a dtype explicitly to silence this warning.\n",
      "  a_series = pd.Series(row_list, index = df.columns)\n",
      "C:\\Users\\jthoma\\AppData\\Local\\Temp\\ipykernel_13440\\2778897423.py:28: FutureWarning: The frame.append method is deprecated and will be removed from pandas in a future version. Use pandas.concat instead.\n",
      "  df = df.append(a_series, ignore_index=True)\n",
      "C:\\Users\\jthoma\\AppData\\Local\\Temp\\ipykernel_13440\\2778897423.py:28: FutureWarning: The frame.append method is deprecated and will be removed from pandas in a future version. Use pandas.concat instead.\n",
      "  df = df.append(a_series, ignore_index=True)\n"
     ]
    },
    {
     "name": "stdout",
     "output_type": "stream",
     "text": [
      "Could not append: []\n"
     ]
    },
    {
     "name": "stderr",
     "output_type": "stream",
     "text": [
      "C:\\Users\\jthoma\\AppData\\Local\\Temp\\ipykernel_13440\\2778897423.py:27: FutureWarning: The default dtype for empty Series will be 'object' instead of 'float64' in a future version. Specify a dtype explicitly to silence this warning.\n",
      "  a_series = pd.Series(row_list, index = df.columns)\n",
      "C:\\Users\\jthoma\\AppData\\Local\\Temp\\ipykernel_13440\\2778897423.py:28: FutureWarning: The frame.append method is deprecated and will be removed from pandas in a future version. Use pandas.concat instead.\n",
      "  df = df.append(a_series, ignore_index=True)\n",
      "C:\\Users\\jthoma\\AppData\\Local\\Temp\\ipykernel_13440\\2778897423.py:28: FutureWarning: The frame.append method is deprecated and will be removed from pandas in a future version. Use pandas.concat instead.\n",
      "  df = df.append(a_series, ignore_index=True)\n"
     ]
    },
    {
     "name": "stdout",
     "output_type": "stream",
     "text": [
      "Could not append: []\n"
     ]
    },
    {
     "name": "stderr",
     "output_type": "stream",
     "text": [
      "C:\\Users\\jthoma\\AppData\\Local\\Temp\\ipykernel_13440\\2778897423.py:27: FutureWarning: The default dtype for empty Series will be 'object' instead of 'float64' in a future version. Specify a dtype explicitly to silence this warning.\n",
      "  a_series = pd.Series(row_list, index = df.columns)\n",
      "C:\\Users\\jthoma\\AppData\\Local\\Temp\\ipykernel_13440\\2778897423.py:28: FutureWarning: The frame.append method is deprecated and will be removed from pandas in a future version. Use pandas.concat instead.\n",
      "  df = df.append(a_series, ignore_index=True)\n",
      "C:\\Users\\jthoma\\AppData\\Local\\Temp\\ipykernel_13440\\2778897423.py:28: FutureWarning: The frame.append method is deprecated and will be removed from pandas in a future version. Use pandas.concat instead.\n",
      "  df = df.append(a_series, ignore_index=True)\n"
     ]
    },
    {
     "name": "stdout",
     "output_type": "stream",
     "text": [
      "Could not append: []\n"
     ]
    },
    {
     "name": "stderr",
     "output_type": "stream",
     "text": [
      "C:\\Users\\jthoma\\AppData\\Local\\Temp\\ipykernel_13440\\2778897423.py:27: FutureWarning: The default dtype for empty Series will be 'object' instead of 'float64' in a future version. Specify a dtype explicitly to silence this warning.\n",
      "  a_series = pd.Series(row_list, index = df.columns)\n",
      "C:\\Users\\jthoma\\AppData\\Local\\Temp\\ipykernel_13440\\2778897423.py:28: FutureWarning: The frame.append method is deprecated and will be removed from pandas in a future version. Use pandas.concat instead.\n",
      "  df = df.append(a_series, ignore_index=True)\n",
      "C:\\Users\\jthoma\\AppData\\Local\\Temp\\ipykernel_13440\\2778897423.py:28: FutureWarning: The frame.append method is deprecated and will be removed from pandas in a future version. Use pandas.concat instead.\n",
      "  df = df.append(a_series, ignore_index=True)\n"
     ]
    },
    {
     "name": "stdout",
     "output_type": "stream",
     "text": [
      "Could not append: []\n"
     ]
    },
    {
     "name": "stderr",
     "output_type": "stream",
     "text": [
      "C:\\Users\\jthoma\\AppData\\Local\\Temp\\ipykernel_13440\\2778897423.py:27: FutureWarning: The default dtype for empty Series will be 'object' instead of 'float64' in a future version. Specify a dtype explicitly to silence this warning.\n",
      "  a_series = pd.Series(row_list, index = df.columns)\n",
      "C:\\Users\\jthoma\\AppData\\Local\\Temp\\ipykernel_13440\\2778897423.py:28: FutureWarning: The frame.append method is deprecated and will be removed from pandas in a future version. Use pandas.concat instead.\n",
      "  df = df.append(a_series, ignore_index=True)\n",
      "C:\\Users\\jthoma\\AppData\\Local\\Temp\\ipykernel_13440\\2778897423.py:28: FutureWarning: The frame.append method is deprecated and will be removed from pandas in a future version. Use pandas.concat instead.\n",
      "  df = df.append(a_series, ignore_index=True)\n",
      "C:\\Users\\jthoma\\AppData\\Local\\Temp\\ipykernel_13440\\2778897423.py:28: FutureWarning: The frame.append method is deprecated and will be removed from pandas in a future version. Use pandas.concat instead.\n",
      "  df = df.append(a_series, ignore_index=True)\n"
     ]
    },
    {
     "name": "stdout",
     "output_type": "stream",
     "text": [
      "Could not append: []\n"
     ]
    },
    {
     "name": "stderr",
     "output_type": "stream",
     "text": [
      "C:\\Users\\jthoma\\AppData\\Local\\Temp\\ipykernel_13440\\2778897423.py:28: FutureWarning: The frame.append method is deprecated and will be removed from pandas in a future version. Use pandas.concat instead.\n",
      "  df = df.append(a_series, ignore_index=True)\n",
      "C:\\Users\\jthoma\\AppData\\Local\\Temp\\ipykernel_13440\\2778897423.py:28: FutureWarning: The frame.append method is deprecated and will be removed from pandas in a future version. Use pandas.concat instead.\n",
      "  df = df.append(a_series, ignore_index=True)\n",
      "C:\\Users\\jthoma\\AppData\\Local\\Temp\\ipykernel_13440\\2778897423.py:28: FutureWarning: The frame.append method is deprecated and will be removed from pandas in a future version. Use pandas.concat instead.\n",
      "  df = df.append(a_series, ignore_index=True)\n",
      "C:\\Users\\jthoma\\AppData\\Local\\Temp\\ipykernel_13440\\2778897423.py:28: FutureWarning: The frame.append method is deprecated and will be removed from pandas in a future version. Use pandas.concat instead.\n",
      "  df = df.append(a_series, ignore_index=True)\n",
      "C:\\Users\\jthoma\\AppData\\Local\\Temp\\ipykernel_13440\\2778897423.py:28: FutureWarning: The frame.append method is deprecated and will be removed from pandas in a future version. Use pandas.concat instead.\n",
      "  df = df.append(a_series, ignore_index=True)\n",
      "C:\\Users\\jthoma\\AppData\\Local\\Temp\\ipykernel_13440\\2778897423.py:28: FutureWarning: The frame.append method is deprecated and will be removed from pandas in a future version. Use pandas.concat instead.\n",
      "  df = df.append(a_series, ignore_index=True)\n",
      "C:\\Users\\jthoma\\AppData\\Local\\Temp\\ipykernel_13440\\2778897423.py:28: FutureWarning: The frame.append method is deprecated and will be removed from pandas in a future version. Use pandas.concat instead.\n",
      "  df = df.append(a_series, ignore_index=True)\n",
      "C:\\Users\\jthoma\\AppData\\Local\\Temp\\ipykernel_13440\\2778897423.py:28: FutureWarning: The frame.append method is deprecated and will be removed from pandas in a future version. Use pandas.concat instead.\n",
      "  df = df.append(a_series, ignore_index=True)\n",
      "C:\\Users\\jthoma\\AppData\\Local\\Temp\\ipykernel_13440\\2778897423.py:28: FutureWarning: The frame.append method is deprecated and will be removed from pandas in a future version. Use pandas.concat instead.\n",
      "  df = df.append(a_series, ignore_index=True)\n",
      "C:\\Users\\jthoma\\AppData\\Local\\Temp\\ipykernel_13440\\2778897423.py:27: FutureWarning: The default dtype for empty Series will be 'object' instead of 'float64' in a future version. Specify a dtype explicitly to silence this warning.\n",
      "  a_series = pd.Series(row_list, index = df.columns)\n",
      "C:\\Users\\jthoma\\AppData\\Local\\Temp\\ipykernel_13440\\2778897423.py:28: FutureWarning: The frame.append method is deprecated and will be removed from pandas in a future version. Use pandas.concat instead.\n",
      "  df = df.append(a_series, ignore_index=True)\n",
      "C:\\Users\\jthoma\\AppData\\Local\\Temp\\ipykernel_13440\\2778897423.py:28: FutureWarning: The frame.append method is deprecated and will be removed from pandas in a future version. Use pandas.concat instead.\n",
      "  df = df.append(a_series, ignore_index=True)\n"
     ]
    },
    {
     "name": "stdout",
     "output_type": "stream",
     "text": [
      "Could not append: []\n"
     ]
    },
    {
     "name": "stderr",
     "output_type": "stream",
     "text": [
      "C:\\Users\\jthoma\\AppData\\Local\\Temp\\ipykernel_13440\\2778897423.py:27: FutureWarning: The default dtype for empty Series will be 'object' instead of 'float64' in a future version. Specify a dtype explicitly to silence this warning.\n",
      "  a_series = pd.Series(row_list, index = df.columns)\n",
      "C:\\Users\\jthoma\\AppData\\Local\\Temp\\ipykernel_13440\\2778897423.py:28: FutureWarning: The frame.append method is deprecated and will be removed from pandas in a future version. Use pandas.concat instead.\n",
      "  df = df.append(a_series, ignore_index=True)\n",
      "C:\\Users\\jthoma\\AppData\\Local\\Temp\\ipykernel_13440\\2778897423.py:28: FutureWarning: The frame.append method is deprecated and will be removed from pandas in a future version. Use pandas.concat instead.\n",
      "  df = df.append(a_series, ignore_index=True)\n"
     ]
    },
    {
     "name": "stdout",
     "output_type": "stream",
     "text": [
      "Could not append: []\n"
     ]
    },
    {
     "name": "stderr",
     "output_type": "stream",
     "text": [
      "C:\\Users\\jthoma\\AppData\\Local\\Temp\\ipykernel_13440\\2778897423.py:27: FutureWarning: The default dtype for empty Series will be 'object' instead of 'float64' in a future version. Specify a dtype explicitly to silence this warning.\n",
      "  a_series = pd.Series(row_list, index = df.columns)\n",
      "C:\\Users\\jthoma\\AppData\\Local\\Temp\\ipykernel_13440\\2778897423.py:28: FutureWarning: The frame.append method is deprecated and will be removed from pandas in a future version. Use pandas.concat instead.\n",
      "  df = df.append(a_series, ignore_index=True)\n",
      "C:\\Users\\jthoma\\AppData\\Local\\Temp\\ipykernel_13440\\2778897423.py:28: FutureWarning: The frame.append method is deprecated and will be removed from pandas in a future version. Use pandas.concat instead.\n",
      "  df = df.append(a_series, ignore_index=True)\n"
     ]
    },
    {
     "name": "stdout",
     "output_type": "stream",
     "text": [
      "Could not append: []\n"
     ]
    },
    {
     "name": "stderr",
     "output_type": "stream",
     "text": [
      "C:\\Users\\jthoma\\AppData\\Local\\Temp\\ipykernel_13440\\2778897423.py:27: FutureWarning: The default dtype for empty Series will be 'object' instead of 'float64' in a future version. Specify a dtype explicitly to silence this warning.\n",
      "  a_series = pd.Series(row_list, index = df.columns)\n",
      "C:\\Users\\jthoma\\AppData\\Local\\Temp\\ipykernel_13440\\2778897423.py:28: FutureWarning: The frame.append method is deprecated and will be removed from pandas in a future version. Use pandas.concat instead.\n",
      "  df = df.append(a_series, ignore_index=True)\n",
      "C:\\Users\\jthoma\\AppData\\Local\\Temp\\ipykernel_13440\\2778897423.py:28: FutureWarning: The frame.append method is deprecated and will be removed from pandas in a future version. Use pandas.concat instead.\n",
      "  df = df.append(a_series, ignore_index=True)\n"
     ]
    },
    {
     "name": "stdout",
     "output_type": "stream",
     "text": [
      "Could not append: []\n"
     ]
    },
    {
     "name": "stderr",
     "output_type": "stream",
     "text": [
      "C:\\Users\\jthoma\\AppData\\Local\\Temp\\ipykernel_13440\\2778897423.py:27: FutureWarning: The default dtype for empty Series will be 'object' instead of 'float64' in a future version. Specify a dtype explicitly to silence this warning.\n",
      "  a_series = pd.Series(row_list, index = df.columns)\n",
      "C:\\Users\\jthoma\\AppData\\Local\\Temp\\ipykernel_13440\\2778897423.py:28: FutureWarning: The frame.append method is deprecated and will be removed from pandas in a future version. Use pandas.concat instead.\n",
      "  df = df.append(a_series, ignore_index=True)\n",
      "C:\\Users\\jthoma\\AppData\\Local\\Temp\\ipykernel_13440\\2778897423.py:28: FutureWarning: The frame.append method is deprecated and will be removed from pandas in a future version. Use pandas.concat instead.\n",
      "  df = df.append(a_series, ignore_index=True)\n"
     ]
    },
    {
     "name": "stdout",
     "output_type": "stream",
     "text": [
      "Could not append: []\n"
     ]
    },
    {
     "name": "stderr",
     "output_type": "stream",
     "text": [
      "C:\\Users\\jthoma\\AppData\\Local\\Temp\\ipykernel_13440\\2778897423.py:27: FutureWarning: The default dtype for empty Series will be 'object' instead of 'float64' in a future version. Specify a dtype explicitly to silence this warning.\n",
      "  a_series = pd.Series(row_list, index = df.columns)\n",
      "C:\\Users\\jthoma\\AppData\\Local\\Temp\\ipykernel_13440\\2778897423.py:28: FutureWarning: The frame.append method is deprecated and will be removed from pandas in a future version. Use pandas.concat instead.\n",
      "  df = df.append(a_series, ignore_index=True)\n",
      "C:\\Users\\jthoma\\AppData\\Local\\Temp\\ipykernel_13440\\2778897423.py:28: FutureWarning: The frame.append method is deprecated and will be removed from pandas in a future version. Use pandas.concat instead.\n",
      "  df = df.append(a_series, ignore_index=True)\n"
     ]
    },
    {
     "name": "stdout",
     "output_type": "stream",
     "text": [
      "Could not append: []\n"
     ]
    },
    {
     "name": "stderr",
     "output_type": "stream",
     "text": [
      "C:\\Users\\jthoma\\AppData\\Local\\Temp\\ipykernel_13440\\2778897423.py:27: FutureWarning: The default dtype for empty Series will be 'object' instead of 'float64' in a future version. Specify a dtype explicitly to silence this warning.\n",
      "  a_series = pd.Series(row_list, index = df.columns)\n",
      "C:\\Users\\jthoma\\AppData\\Local\\Temp\\ipykernel_13440\\2778897423.py:28: FutureWarning: The frame.append method is deprecated and will be removed from pandas in a future version. Use pandas.concat instead.\n",
      "  df = df.append(a_series, ignore_index=True)\n",
      "C:\\Users\\jthoma\\AppData\\Local\\Temp\\ipykernel_13440\\2778897423.py:28: FutureWarning: The frame.append method is deprecated and will be removed from pandas in a future version. Use pandas.concat instead.\n",
      "  df = df.append(a_series, ignore_index=True)\n"
     ]
    },
    {
     "name": "stdout",
     "output_type": "stream",
     "text": [
      "Could not append: []\n"
     ]
    },
    {
     "name": "stderr",
     "output_type": "stream",
     "text": [
      "C:\\Users\\jthoma\\AppData\\Local\\Temp\\ipykernel_13440\\2778897423.py:27: FutureWarning: The default dtype for empty Series will be 'object' instead of 'float64' in a future version. Specify a dtype explicitly to silence this warning.\n",
      "  a_series = pd.Series(row_list, index = df.columns)\n",
      "C:\\Users\\jthoma\\AppData\\Local\\Temp\\ipykernel_13440\\2778897423.py:28: FutureWarning: The frame.append method is deprecated and will be removed from pandas in a future version. Use pandas.concat instead.\n",
      "  df = df.append(a_series, ignore_index=True)\n",
      "C:\\Users\\jthoma\\AppData\\Local\\Temp\\ipykernel_13440\\2778897423.py:28: FutureWarning: The frame.append method is deprecated and will be removed from pandas in a future version. Use pandas.concat instead.\n",
      "  df = df.append(a_series, ignore_index=True)\n"
     ]
    },
    {
     "name": "stdout",
     "output_type": "stream",
     "text": [
      "Could not append: []\n"
     ]
    },
    {
     "name": "stderr",
     "output_type": "stream",
     "text": [
      "C:\\Users\\jthoma\\AppData\\Local\\Temp\\ipykernel_13440\\2778897423.py:27: FutureWarning: The default dtype for empty Series will be 'object' instead of 'float64' in a future version. Specify a dtype explicitly to silence this warning.\n",
      "  a_series = pd.Series(row_list, index = df.columns)\n",
      "C:\\Users\\jthoma\\AppData\\Local\\Temp\\ipykernel_13440\\2778897423.py:28: FutureWarning: The frame.append method is deprecated and will be removed from pandas in a future version. Use pandas.concat instead.\n",
      "  df = df.append(a_series, ignore_index=True)\n",
      "C:\\Users\\jthoma\\AppData\\Local\\Temp\\ipykernel_13440\\2778897423.py:28: FutureWarning: The frame.append method is deprecated and will be removed from pandas in a future version. Use pandas.concat instead.\n",
      "  df = df.append(a_series, ignore_index=True)\n"
     ]
    },
    {
     "name": "stdout",
     "output_type": "stream",
     "text": [
      "Could not append: []\n"
     ]
    },
    {
     "name": "stderr",
     "output_type": "stream",
     "text": [
      "C:\\Users\\jthoma\\AppData\\Local\\Temp\\ipykernel_13440\\2778897423.py:27: FutureWarning: The default dtype for empty Series will be 'object' instead of 'float64' in a future version. Specify a dtype explicitly to silence this warning.\n",
      "  a_series = pd.Series(row_list, index = df.columns)\n",
      "C:\\Users\\jthoma\\AppData\\Local\\Temp\\ipykernel_13440\\2778897423.py:28: FutureWarning: The frame.append method is deprecated and will be removed from pandas in a future version. Use pandas.concat instead.\n",
      "  df = df.append(a_series, ignore_index=True)\n",
      "C:\\Users\\jthoma\\AppData\\Local\\Temp\\ipykernel_13440\\2778897423.py:28: FutureWarning: The frame.append method is deprecated and will be removed from pandas in a future version. Use pandas.concat instead.\n",
      "  df = df.append(a_series, ignore_index=True)\n",
      "C:\\Users\\jthoma\\AppData\\Local\\Temp\\ipykernel_13440\\2778897423.py:28: FutureWarning: The frame.append method is deprecated and will be removed from pandas in a future version. Use pandas.concat instead.\n",
      "  df = df.append(a_series, ignore_index=True)\n"
     ]
    },
    {
     "name": "stdout",
     "output_type": "stream",
     "text": [
      "Could not append: []\n"
     ]
    },
    {
     "name": "stderr",
     "output_type": "stream",
     "text": [
      "C:\\Users\\jthoma\\AppData\\Local\\Temp\\ipykernel_13440\\2778897423.py:28: FutureWarning: The frame.append method is deprecated and will be removed from pandas in a future version. Use pandas.concat instead.\n",
      "  df = df.append(a_series, ignore_index=True)\n",
      "C:\\Users\\jthoma\\AppData\\Local\\Temp\\ipykernel_13440\\2778897423.py:28: FutureWarning: The frame.append method is deprecated and will be removed from pandas in a future version. Use pandas.concat instead.\n",
      "  df = df.append(a_series, ignore_index=True)\n",
      "C:\\Users\\jthoma\\AppData\\Local\\Temp\\ipykernel_13440\\2778897423.py:28: FutureWarning: The frame.append method is deprecated and will be removed from pandas in a future version. Use pandas.concat instead.\n",
      "  df = df.append(a_series, ignore_index=True)\n",
      "C:\\Users\\jthoma\\AppData\\Local\\Temp\\ipykernel_13440\\2778897423.py:28: FutureWarning: The frame.append method is deprecated and will be removed from pandas in a future version. Use pandas.concat instead.\n",
      "  df = df.append(a_series, ignore_index=True)\n",
      "C:\\Users\\jthoma\\AppData\\Local\\Temp\\ipykernel_13440\\2778897423.py:28: FutureWarning: The frame.append method is deprecated and will be removed from pandas in a future version. Use pandas.concat instead.\n",
      "  df = df.append(a_series, ignore_index=True)\n",
      "C:\\Users\\jthoma\\AppData\\Local\\Temp\\ipykernel_13440\\2778897423.py:28: FutureWarning: The frame.append method is deprecated and will be removed from pandas in a future version. Use pandas.concat instead.\n",
      "  df = df.append(a_series, ignore_index=True)\n",
      "C:\\Users\\jthoma\\AppData\\Local\\Temp\\ipykernel_13440\\2778897423.py:28: FutureWarning: The frame.append method is deprecated and will be removed from pandas in a future version. Use pandas.concat instead.\n",
      "  df = df.append(a_series, ignore_index=True)\n",
      "C:\\Users\\jthoma\\AppData\\Local\\Temp\\ipykernel_13440\\2778897423.py:28: FutureWarning: The frame.append method is deprecated and will be removed from pandas in a future version. Use pandas.concat instead.\n",
      "  df = df.append(a_series, ignore_index=True)\n",
      "C:\\Users\\jthoma\\AppData\\Local\\Temp\\ipykernel_13440\\2778897423.py:28: FutureWarning: The frame.append method is deprecated and will be removed from pandas in a future version. Use pandas.concat instead.\n",
      "  df = df.append(a_series, ignore_index=True)\n",
      "C:\\Users\\jthoma\\AppData\\Local\\Temp\\ipykernel_13440\\2778897423.py:27: FutureWarning: The default dtype for empty Series will be 'object' instead of 'float64' in a future version. Specify a dtype explicitly to silence this warning.\n",
      "  a_series = pd.Series(row_list, index = df.columns)\n",
      "C:\\Users\\jthoma\\AppData\\Local\\Temp\\ipykernel_13440\\2778897423.py:28: FutureWarning: The frame.append method is deprecated and will be removed from pandas in a future version. Use pandas.concat instead.\n",
      "  df = df.append(a_series, ignore_index=True)\n",
      "C:\\Users\\jthoma\\AppData\\Local\\Temp\\ipykernel_13440\\2778897423.py:28: FutureWarning: The frame.append method is deprecated and will be removed from pandas in a future version. Use pandas.concat instead.\n",
      "  df = df.append(a_series, ignore_index=True)\n"
     ]
    },
    {
     "name": "stdout",
     "output_type": "stream",
     "text": [
      "Could not append: []\n"
     ]
    },
    {
     "name": "stderr",
     "output_type": "stream",
     "text": [
      "C:\\Users\\jthoma\\AppData\\Local\\Temp\\ipykernel_13440\\2778897423.py:27: FutureWarning: The default dtype for empty Series will be 'object' instead of 'float64' in a future version. Specify a dtype explicitly to silence this warning.\n",
      "  a_series = pd.Series(row_list, index = df.columns)\n",
      "C:\\Users\\jthoma\\AppData\\Local\\Temp\\ipykernel_13440\\2778897423.py:28: FutureWarning: The frame.append method is deprecated and will be removed from pandas in a future version. Use pandas.concat instead.\n",
      "  df = df.append(a_series, ignore_index=True)\n",
      "C:\\Users\\jthoma\\AppData\\Local\\Temp\\ipykernel_13440\\2778897423.py:28: FutureWarning: The frame.append method is deprecated and will be removed from pandas in a future version. Use pandas.concat instead.\n",
      "  df = df.append(a_series, ignore_index=True)\n"
     ]
    },
    {
     "name": "stdout",
     "output_type": "stream",
     "text": [
      "Could not append: []\n"
     ]
    },
    {
     "name": "stderr",
     "output_type": "stream",
     "text": [
      "C:\\Users\\jthoma\\AppData\\Local\\Temp\\ipykernel_13440\\2778897423.py:27: FutureWarning: The default dtype for empty Series will be 'object' instead of 'float64' in a future version. Specify a dtype explicitly to silence this warning.\n",
      "  a_series = pd.Series(row_list, index = df.columns)\n",
      "C:\\Users\\jthoma\\AppData\\Local\\Temp\\ipykernel_13440\\2778897423.py:28: FutureWarning: The frame.append method is deprecated and will be removed from pandas in a future version. Use pandas.concat instead.\n",
      "  df = df.append(a_series, ignore_index=True)\n",
      "C:\\Users\\jthoma\\AppData\\Local\\Temp\\ipykernel_13440\\2778897423.py:28: FutureWarning: The frame.append method is deprecated and will be removed from pandas in a future version. Use pandas.concat instead.\n",
      "  df = df.append(a_series, ignore_index=True)\n"
     ]
    },
    {
     "name": "stdout",
     "output_type": "stream",
     "text": [
      "Could not append: []\n"
     ]
    },
    {
     "name": "stderr",
     "output_type": "stream",
     "text": [
      "C:\\Users\\jthoma\\AppData\\Local\\Temp\\ipykernel_13440\\2778897423.py:27: FutureWarning: The default dtype for empty Series will be 'object' instead of 'float64' in a future version. Specify a dtype explicitly to silence this warning.\n",
      "  a_series = pd.Series(row_list, index = df.columns)\n",
      "C:\\Users\\jthoma\\AppData\\Local\\Temp\\ipykernel_13440\\2778897423.py:28: FutureWarning: The frame.append method is deprecated and will be removed from pandas in a future version. Use pandas.concat instead.\n",
      "  df = df.append(a_series, ignore_index=True)\n"
     ]
    },
    {
     "name": "stdout",
     "output_type": "stream",
     "text": [
      "Could not append: []\n"
     ]
    },
    {
     "name": "stderr",
     "output_type": "stream",
     "text": [
      "C:\\Users\\jthoma\\AppData\\Local\\Temp\\ipykernel_13440\\2778897423.py:28: FutureWarning: The frame.append method is deprecated and will be removed from pandas in a future version. Use pandas.concat instead.\n",
      "  df = df.append(a_series, ignore_index=True)\n",
      "C:\\Users\\jthoma\\AppData\\Local\\Temp\\ipykernel_13440\\2778897423.py:27: FutureWarning: The default dtype for empty Series will be 'object' instead of 'float64' in a future version. Specify a dtype explicitly to silence this warning.\n",
      "  a_series = pd.Series(row_list, index = df.columns)\n",
      "C:\\Users\\jthoma\\AppData\\Local\\Temp\\ipykernel_13440\\2778897423.py:28: FutureWarning: The frame.append method is deprecated and will be removed from pandas in a future version. Use pandas.concat instead.\n",
      "  df = df.append(a_series, ignore_index=True)\n",
      "C:\\Users\\jthoma\\AppData\\Local\\Temp\\ipykernel_13440\\2778897423.py:28: FutureWarning: The frame.append method is deprecated and will be removed from pandas in a future version. Use pandas.concat instead.\n",
      "  df = df.append(a_series, ignore_index=True)\n"
     ]
    },
    {
     "name": "stdout",
     "output_type": "stream",
     "text": [
      "Could not append: []\n"
     ]
    },
    {
     "name": "stderr",
     "output_type": "stream",
     "text": [
      "C:\\Users\\jthoma\\AppData\\Local\\Temp\\ipykernel_13440\\2778897423.py:27: FutureWarning: The default dtype for empty Series will be 'object' instead of 'float64' in a future version. Specify a dtype explicitly to silence this warning.\n",
      "  a_series = pd.Series(row_list, index = df.columns)\n",
      "C:\\Users\\jthoma\\AppData\\Local\\Temp\\ipykernel_13440\\2778897423.py:28: FutureWarning: The frame.append method is deprecated and will be removed from pandas in a future version. Use pandas.concat instead.\n",
      "  df = df.append(a_series, ignore_index=True)\n",
      "C:\\Users\\jthoma\\AppData\\Local\\Temp\\ipykernel_13440\\2778897423.py:28: FutureWarning: The frame.append method is deprecated and will be removed from pandas in a future version. Use pandas.concat instead.\n",
      "  df = df.append(a_series, ignore_index=True)\n"
     ]
    },
    {
     "name": "stdout",
     "output_type": "stream",
     "text": [
      "Could not append: []\n"
     ]
    },
    {
     "name": "stderr",
     "output_type": "stream",
     "text": [
      "C:\\Users\\jthoma\\AppData\\Local\\Temp\\ipykernel_13440\\2778897423.py:27: FutureWarning: The default dtype for empty Series will be 'object' instead of 'float64' in a future version. Specify a dtype explicitly to silence this warning.\n",
      "  a_series = pd.Series(row_list, index = df.columns)\n",
      "C:\\Users\\jthoma\\AppData\\Local\\Temp\\ipykernel_13440\\2778897423.py:28: FutureWarning: The frame.append method is deprecated and will be removed from pandas in a future version. Use pandas.concat instead.\n",
      "  df = df.append(a_series, ignore_index=True)\n",
      "C:\\Users\\jthoma\\AppData\\Local\\Temp\\ipykernel_13440\\2778897423.py:28: FutureWarning: The frame.append method is deprecated and will be removed from pandas in a future version. Use pandas.concat instead.\n",
      "  df = df.append(a_series, ignore_index=True)\n"
     ]
    },
    {
     "name": "stdout",
     "output_type": "stream",
     "text": [
      "Could not append: []\n"
     ]
    },
    {
     "name": "stderr",
     "output_type": "stream",
     "text": [
      "C:\\Users\\jthoma\\AppData\\Local\\Temp\\ipykernel_13440\\2778897423.py:27: FutureWarning: The default dtype for empty Series will be 'object' instead of 'float64' in a future version. Specify a dtype explicitly to silence this warning.\n",
      "  a_series = pd.Series(row_list, index = df.columns)\n",
      "C:\\Users\\jthoma\\AppData\\Local\\Temp\\ipykernel_13440\\2778897423.py:28: FutureWarning: The frame.append method is deprecated and will be removed from pandas in a future version. Use pandas.concat instead.\n",
      "  df = df.append(a_series, ignore_index=True)\n",
      "C:\\Users\\jthoma\\AppData\\Local\\Temp\\ipykernel_13440\\2778897423.py:28: FutureWarning: The frame.append method is deprecated and will be removed from pandas in a future version. Use pandas.concat instead.\n",
      "  df = df.append(a_series, ignore_index=True)\n"
     ]
    },
    {
     "name": "stdout",
     "output_type": "stream",
     "text": [
      "Could not append: []\n"
     ]
    },
    {
     "name": "stderr",
     "output_type": "stream",
     "text": [
      "C:\\Users\\jthoma\\AppData\\Local\\Temp\\ipykernel_13440\\2778897423.py:27: FutureWarning: The default dtype for empty Series will be 'object' instead of 'float64' in a future version. Specify a dtype explicitly to silence this warning.\n",
      "  a_series = pd.Series(row_list, index = df.columns)\n",
      "C:\\Users\\jthoma\\AppData\\Local\\Temp\\ipykernel_13440\\2778897423.py:28: FutureWarning: The frame.append method is deprecated and will be removed from pandas in a future version. Use pandas.concat instead.\n",
      "  df = df.append(a_series, ignore_index=True)\n",
      "C:\\Users\\jthoma\\AppData\\Local\\Temp\\ipykernel_13440\\2778897423.py:28: FutureWarning: The frame.append method is deprecated and will be removed from pandas in a future version. Use pandas.concat instead.\n",
      "  df = df.append(a_series, ignore_index=True)\n"
     ]
    },
    {
     "name": "stdout",
     "output_type": "stream",
     "text": [
      "Could not append: []\n"
     ]
    },
    {
     "name": "stderr",
     "output_type": "stream",
     "text": [
      "C:\\Users\\jthoma\\AppData\\Local\\Temp\\ipykernel_13440\\2778897423.py:27: FutureWarning: The default dtype for empty Series will be 'object' instead of 'float64' in a future version. Specify a dtype explicitly to silence this warning.\n",
      "  a_series = pd.Series(row_list, index = df.columns)\n",
      "C:\\Users\\jthoma\\AppData\\Local\\Temp\\ipykernel_13440\\2778897423.py:28: FutureWarning: The frame.append method is deprecated and will be removed from pandas in a future version. Use pandas.concat instead.\n",
      "  df = df.append(a_series, ignore_index=True)\n",
      "C:\\Users\\jthoma\\AppData\\Local\\Temp\\ipykernel_13440\\2778897423.py:28: FutureWarning: The frame.append method is deprecated and will be removed from pandas in a future version. Use pandas.concat instead.\n",
      "  df = df.append(a_series, ignore_index=True)\n"
     ]
    },
    {
     "name": "stdout",
     "output_type": "stream",
     "text": [
      "Could not append: []\n"
     ]
    },
    {
     "name": "stderr",
     "output_type": "stream",
     "text": [
      "C:\\Users\\jthoma\\AppData\\Local\\Temp\\ipykernel_13440\\2778897423.py:28: FutureWarning: The frame.append method is deprecated and will be removed from pandas in a future version. Use pandas.concat instead.\n",
      "  df = df.append(a_series, ignore_index=True)\n",
      "C:\\Users\\jthoma\\AppData\\Local\\Temp\\ipykernel_13440\\2778897423.py:28: FutureWarning: The frame.append method is deprecated and will be removed from pandas in a future version. Use pandas.concat instead.\n",
      "  df = df.append(a_series, ignore_index=True)\n",
      "C:\\Users\\jthoma\\AppData\\Local\\Temp\\ipykernel_13440\\2778897423.py:28: FutureWarning: The frame.append method is deprecated and will be removed from pandas in a future version. Use pandas.concat instead.\n",
      "  df = df.append(a_series, ignore_index=True)\n",
      "C:\\Users\\jthoma\\AppData\\Local\\Temp\\ipykernel_13440\\2778897423.py:28: FutureWarning: The frame.append method is deprecated and will be removed from pandas in a future version. Use pandas.concat instead.\n",
      "  df = df.append(a_series, ignore_index=True)\n",
      "C:\\Users\\jthoma\\AppData\\Local\\Temp\\ipykernel_13440\\2778897423.py:28: FutureWarning: The frame.append method is deprecated and will be removed from pandas in a future version. Use pandas.concat instead.\n",
      "  df = df.append(a_series, ignore_index=True)\n",
      "C:\\Users\\jthoma\\AppData\\Local\\Temp\\ipykernel_13440\\2778897423.py:28: FutureWarning: The frame.append method is deprecated and will be removed from pandas in a future version. Use pandas.concat instead.\n",
      "  df = df.append(a_series, ignore_index=True)\n",
      "C:\\Users\\jthoma\\AppData\\Local\\Temp\\ipykernel_13440\\2778897423.py:28: FutureWarning: The frame.append method is deprecated and will be removed from pandas in a future version. Use pandas.concat instead.\n",
      "  df = df.append(a_series, ignore_index=True)\n",
      "C:\\Users\\jthoma\\AppData\\Local\\Temp\\ipykernel_13440\\2778897423.py:28: FutureWarning: The frame.append method is deprecated and will be removed from pandas in a future version. Use pandas.concat instead.\n",
      "  df = df.append(a_series, ignore_index=True)\n",
      "C:\\Users\\jthoma\\AppData\\Local\\Temp\\ipykernel_13440\\2778897423.py:28: FutureWarning: The frame.append method is deprecated and will be removed from pandas in a future version. Use pandas.concat instead.\n",
      "  df = df.append(a_series, ignore_index=True)\n",
      "C:\\Users\\jthoma\\AppData\\Local\\Temp\\ipykernel_13440\\2778897423.py:28: FutureWarning: The frame.append method is deprecated and will be removed from pandas in a future version. Use pandas.concat instead.\n",
      "  df = df.append(a_series, ignore_index=True)\n",
      "C:\\Users\\jthoma\\AppData\\Local\\Temp\\ipykernel_13440\\2778897423.py:27: FutureWarning: The default dtype for empty Series will be 'object' instead of 'float64' in a future version. Specify a dtype explicitly to silence this warning.\n",
      "  a_series = pd.Series(row_list, index = df.columns)\n",
      "C:\\Users\\jthoma\\AppData\\Local\\Temp\\ipykernel_13440\\2778897423.py:28: FutureWarning: The frame.append method is deprecated and will be removed from pandas in a future version. Use pandas.concat instead.\n",
      "  df = df.append(a_series, ignore_index=True)\n",
      "C:\\Users\\jthoma\\AppData\\Local\\Temp\\ipykernel_13440\\2778897423.py:28: FutureWarning: The frame.append method is deprecated and will be removed from pandas in a future version. Use pandas.concat instead.\n",
      "  df = df.append(a_series, ignore_index=True)\n"
     ]
    },
    {
     "name": "stdout",
     "output_type": "stream",
     "text": [
      "Could not append: []\n"
     ]
    },
    {
     "name": "stderr",
     "output_type": "stream",
     "text": [
      "C:\\Users\\jthoma\\AppData\\Local\\Temp\\ipykernel_13440\\2778897423.py:27: FutureWarning: The default dtype for empty Series will be 'object' instead of 'float64' in a future version. Specify a dtype explicitly to silence this warning.\n",
      "  a_series = pd.Series(row_list, index = df.columns)\n",
      "C:\\Users\\jthoma\\AppData\\Local\\Temp\\ipykernel_13440\\2778897423.py:28: FutureWarning: The frame.append method is deprecated and will be removed from pandas in a future version. Use pandas.concat instead.\n",
      "  df = df.append(a_series, ignore_index=True)\n"
     ]
    },
    {
     "name": "stdout",
     "output_type": "stream",
     "text": [
      "Could not append: []\n"
     ]
    },
    {
     "name": "stderr",
     "output_type": "stream",
     "text": [
      "C:\\Users\\jthoma\\AppData\\Local\\Temp\\ipykernel_13440\\2778897423.py:28: FutureWarning: The frame.append method is deprecated and will be removed from pandas in a future version. Use pandas.concat instead.\n",
      "  df = df.append(a_series, ignore_index=True)\n",
      "C:\\Users\\jthoma\\AppData\\Local\\Temp\\ipykernel_13440\\2778897423.py:27: FutureWarning: The default dtype for empty Series will be 'object' instead of 'float64' in a future version. Specify a dtype explicitly to silence this warning.\n",
      "  a_series = pd.Series(row_list, index = df.columns)\n",
      "C:\\Users\\jthoma\\AppData\\Local\\Temp\\ipykernel_13440\\2778897423.py:28: FutureWarning: The frame.append method is deprecated and will be removed from pandas in a future version. Use pandas.concat instead.\n",
      "  df = df.append(a_series, ignore_index=True)\n",
      "C:\\Users\\jthoma\\AppData\\Local\\Temp\\ipykernel_13440\\2778897423.py:28: FutureWarning: The frame.append method is deprecated and will be removed from pandas in a future version. Use pandas.concat instead.\n",
      "  df = df.append(a_series, ignore_index=True)\n"
     ]
    },
    {
     "name": "stdout",
     "output_type": "stream",
     "text": [
      "Could not append: []\n"
     ]
    },
    {
     "name": "stderr",
     "output_type": "stream",
     "text": [
      "C:\\Users\\jthoma\\AppData\\Local\\Temp\\ipykernel_13440\\2778897423.py:27: FutureWarning: The default dtype for empty Series will be 'object' instead of 'float64' in a future version. Specify a dtype explicitly to silence this warning.\n",
      "  a_series = pd.Series(row_list, index = df.columns)\n",
      "C:\\Users\\jthoma\\AppData\\Local\\Temp\\ipykernel_13440\\2778897423.py:28: FutureWarning: The frame.append method is deprecated and will be removed from pandas in a future version. Use pandas.concat instead.\n",
      "  df = df.append(a_series, ignore_index=True)\n",
      "C:\\Users\\jthoma\\AppData\\Local\\Temp\\ipykernel_13440\\2778897423.py:28: FutureWarning: The frame.append method is deprecated and will be removed from pandas in a future version. Use pandas.concat instead.\n",
      "  df = df.append(a_series, ignore_index=True)\n"
     ]
    },
    {
     "name": "stdout",
     "output_type": "stream",
     "text": [
      "Could not append: []\n"
     ]
    },
    {
     "name": "stderr",
     "output_type": "stream",
     "text": [
      "C:\\Users\\jthoma\\AppData\\Local\\Temp\\ipykernel_13440\\2778897423.py:27: FutureWarning: The default dtype for empty Series will be 'object' instead of 'float64' in a future version. Specify a dtype explicitly to silence this warning.\n",
      "  a_series = pd.Series(row_list, index = df.columns)\n",
      "C:\\Users\\jthoma\\AppData\\Local\\Temp\\ipykernel_13440\\2778897423.py:28: FutureWarning: The frame.append method is deprecated and will be removed from pandas in a future version. Use pandas.concat instead.\n",
      "  df = df.append(a_series, ignore_index=True)\n"
     ]
    },
    {
     "name": "stdout",
     "output_type": "stream",
     "text": [
      "Could not append: []\n"
     ]
    },
    {
     "name": "stderr",
     "output_type": "stream",
     "text": [
      "C:\\Users\\jthoma\\AppData\\Local\\Temp\\ipykernel_13440\\2778897423.py:28: FutureWarning: The frame.append method is deprecated and will be removed from pandas in a future version. Use pandas.concat instead.\n",
      "  df = df.append(a_series, ignore_index=True)\n",
      "C:\\Users\\jthoma\\AppData\\Local\\Temp\\ipykernel_13440\\2778897423.py:27: FutureWarning: The default dtype for empty Series will be 'object' instead of 'float64' in a future version. Specify a dtype explicitly to silence this warning.\n",
      "  a_series = pd.Series(row_list, index = df.columns)\n",
      "C:\\Users\\jthoma\\AppData\\Local\\Temp\\ipykernel_13440\\2778897423.py:28: FutureWarning: The frame.append method is deprecated and will be removed from pandas in a future version. Use pandas.concat instead.\n",
      "  df = df.append(a_series, ignore_index=True)\n",
      "C:\\Users\\jthoma\\AppData\\Local\\Temp\\ipykernel_13440\\2778897423.py:28: FutureWarning: The frame.append method is deprecated and will be removed from pandas in a future version. Use pandas.concat instead.\n",
      "  df = df.append(a_series, ignore_index=True)\n"
     ]
    },
    {
     "name": "stdout",
     "output_type": "stream",
     "text": [
      "Could not append: []\n"
     ]
    },
    {
     "name": "stderr",
     "output_type": "stream",
     "text": [
      "C:\\Users\\jthoma\\AppData\\Local\\Temp\\ipykernel_13440\\2778897423.py:27: FutureWarning: The default dtype for empty Series will be 'object' instead of 'float64' in a future version. Specify a dtype explicitly to silence this warning.\n",
      "  a_series = pd.Series(row_list, index = df.columns)\n",
      "C:\\Users\\jthoma\\AppData\\Local\\Temp\\ipykernel_13440\\2778897423.py:28: FutureWarning: The frame.append method is deprecated and will be removed from pandas in a future version. Use pandas.concat instead.\n",
      "  df = df.append(a_series, ignore_index=True)\n",
      "C:\\Users\\jthoma\\AppData\\Local\\Temp\\ipykernel_13440\\2778897423.py:28: FutureWarning: The frame.append method is deprecated and will be removed from pandas in a future version. Use pandas.concat instead.\n",
      "  df = df.append(a_series, ignore_index=True)\n"
     ]
    },
    {
     "name": "stdout",
     "output_type": "stream",
     "text": [
      "Could not append: []\n"
     ]
    },
    {
     "name": "stderr",
     "output_type": "stream",
     "text": [
      "C:\\Users\\jthoma\\AppData\\Local\\Temp\\ipykernel_13440\\2778897423.py:27: FutureWarning: The default dtype for empty Series will be 'object' instead of 'float64' in a future version. Specify a dtype explicitly to silence this warning.\n",
      "  a_series = pd.Series(row_list, index = df.columns)\n",
      "C:\\Users\\jthoma\\AppData\\Local\\Temp\\ipykernel_13440\\2778897423.py:28: FutureWarning: The frame.append method is deprecated and will be removed from pandas in a future version. Use pandas.concat instead.\n",
      "  df = df.append(a_series, ignore_index=True)\n",
      "C:\\Users\\jthoma\\AppData\\Local\\Temp\\ipykernel_13440\\2778897423.py:28: FutureWarning: The frame.append method is deprecated and will be removed from pandas in a future version. Use pandas.concat instead.\n",
      "  df = df.append(a_series, ignore_index=True)\n"
     ]
    },
    {
     "name": "stdout",
     "output_type": "stream",
     "text": [
      "Could not append: []\n"
     ]
    },
    {
     "name": "stderr",
     "output_type": "stream",
     "text": [
      "C:\\Users\\jthoma\\AppData\\Local\\Temp\\ipykernel_13440\\2778897423.py:27: FutureWarning: The default dtype for empty Series will be 'object' instead of 'float64' in a future version. Specify a dtype explicitly to silence this warning.\n",
      "  a_series = pd.Series(row_list, index = df.columns)\n",
      "C:\\Users\\jthoma\\AppData\\Local\\Temp\\ipykernel_13440\\2778897423.py:28: FutureWarning: The frame.append method is deprecated and will be removed from pandas in a future version. Use pandas.concat instead.\n",
      "  df = df.append(a_series, ignore_index=True)\n",
      "C:\\Users\\jthoma\\AppData\\Local\\Temp\\ipykernel_13440\\2778897423.py:28: FutureWarning: The frame.append method is deprecated and will be removed from pandas in a future version. Use pandas.concat instead.\n",
      "  df = df.append(a_series, ignore_index=True)\n"
     ]
    },
    {
     "name": "stdout",
     "output_type": "stream",
     "text": [
      "Could not append: []\n"
     ]
    },
    {
     "name": "stderr",
     "output_type": "stream",
     "text": [
      "C:\\Users\\jthoma\\AppData\\Local\\Temp\\ipykernel_13440\\2778897423.py:27: FutureWarning: The default dtype for empty Series will be 'object' instead of 'float64' in a future version. Specify a dtype explicitly to silence this warning.\n",
      "  a_series = pd.Series(row_list, index = df.columns)\n",
      "C:\\Users\\jthoma\\AppData\\Local\\Temp\\ipykernel_13440\\2778897423.py:28: FutureWarning: The frame.append method is deprecated and will be removed from pandas in a future version. Use pandas.concat instead.\n",
      "  df = df.append(a_series, ignore_index=True)\n",
      "C:\\Users\\jthoma\\AppData\\Local\\Temp\\ipykernel_13440\\2778897423.py:28: FutureWarning: The frame.append method is deprecated and will be removed from pandas in a future version. Use pandas.concat instead.\n",
      "  df = df.append(a_series, ignore_index=True)\n"
     ]
    },
    {
     "name": "stdout",
     "output_type": "stream",
     "text": [
      "Could not append: []\n"
     ]
    },
    {
     "name": "stderr",
     "output_type": "stream",
     "text": [
      "C:\\Users\\jthoma\\AppData\\Local\\Temp\\ipykernel_13440\\2778897423.py:28: FutureWarning: The frame.append method is deprecated and will be removed from pandas in a future version. Use pandas.concat instead.\n",
      "  df = df.append(a_series, ignore_index=True)\n",
      "C:\\Users\\jthoma\\AppData\\Local\\Temp\\ipykernel_13440\\2778897423.py:28: FutureWarning: The frame.append method is deprecated and will be removed from pandas in a future version. Use pandas.concat instead.\n",
      "  df = df.append(a_series, ignore_index=True)\n",
      "C:\\Users\\jthoma\\AppData\\Local\\Temp\\ipykernel_13440\\2778897423.py:28: FutureWarning: The frame.append method is deprecated and will be removed from pandas in a future version. Use pandas.concat instead.\n",
      "  df = df.append(a_series, ignore_index=True)\n",
      "C:\\Users\\jthoma\\AppData\\Local\\Temp\\ipykernel_13440\\2778897423.py:28: FutureWarning: The frame.append method is deprecated and will be removed from pandas in a future version. Use pandas.concat instead.\n",
      "  df = df.append(a_series, ignore_index=True)\n",
      "C:\\Users\\jthoma\\AppData\\Local\\Temp\\ipykernel_13440\\2778897423.py:28: FutureWarning: The frame.append method is deprecated and will be removed from pandas in a future version. Use pandas.concat instead.\n",
      "  df = df.append(a_series, ignore_index=True)\n",
      "C:\\Users\\jthoma\\AppData\\Local\\Temp\\ipykernel_13440\\2778897423.py:28: FutureWarning: The frame.append method is deprecated and will be removed from pandas in a future version. Use pandas.concat instead.\n",
      "  df = df.append(a_series, ignore_index=True)\n",
      "C:\\Users\\jthoma\\AppData\\Local\\Temp\\ipykernel_13440\\2778897423.py:28: FutureWarning: The frame.append method is deprecated and will be removed from pandas in a future version. Use pandas.concat instead.\n",
      "  df = df.append(a_series, ignore_index=True)\n",
      "C:\\Users\\jthoma\\AppData\\Local\\Temp\\ipykernel_13440\\2778897423.py:28: FutureWarning: The frame.append method is deprecated and will be removed from pandas in a future version. Use pandas.concat instead.\n",
      "  df = df.append(a_series, ignore_index=True)\n",
      "C:\\Users\\jthoma\\AppData\\Local\\Temp\\ipykernel_13440\\2778897423.py:28: FutureWarning: The frame.append method is deprecated and will be removed from pandas in a future version. Use pandas.concat instead.\n",
      "  df = df.append(a_series, ignore_index=True)\n",
      "C:\\Users\\jthoma\\AppData\\Local\\Temp\\ipykernel_13440\\2778897423.py:28: FutureWarning: The frame.append method is deprecated and will be removed from pandas in a future version. Use pandas.concat instead.\n",
      "  df = df.append(a_series, ignore_index=True)\n",
      "C:\\Users\\jthoma\\AppData\\Local\\Temp\\ipykernel_13440\\2778897423.py:27: FutureWarning: The default dtype for empty Series will be 'object' instead of 'float64' in a future version. Specify a dtype explicitly to silence this warning.\n",
      "  a_series = pd.Series(row_list, index = df.columns)\n",
      "C:\\Users\\jthoma\\AppData\\Local\\Temp\\ipykernel_13440\\2778897423.py:28: FutureWarning: The frame.append method is deprecated and will be removed from pandas in a future version. Use pandas.concat instead.\n",
      "  df = df.append(a_series, ignore_index=True)\n",
      "C:\\Users\\jthoma\\AppData\\Local\\Temp\\ipykernel_13440\\2778897423.py:28: FutureWarning: The frame.append method is deprecated and will be removed from pandas in a future version. Use pandas.concat instead.\n",
      "  df = df.append(a_series, ignore_index=True)\n"
     ]
    },
    {
     "name": "stdout",
     "output_type": "stream",
     "text": [
      "Could not append: []\n"
     ]
    },
    {
     "name": "stderr",
     "output_type": "stream",
     "text": [
      "C:\\Users\\jthoma\\AppData\\Local\\Temp\\ipykernel_13440\\2778897423.py:27: FutureWarning: The default dtype for empty Series will be 'object' instead of 'float64' in a future version. Specify a dtype explicitly to silence this warning.\n",
      "  a_series = pd.Series(row_list, index = df.columns)\n",
      "C:\\Users\\jthoma\\AppData\\Local\\Temp\\ipykernel_13440\\2778897423.py:28: FutureWarning: The frame.append method is deprecated and will be removed from pandas in a future version. Use pandas.concat instead.\n",
      "  df = df.append(a_series, ignore_index=True)\n",
      "C:\\Users\\jthoma\\AppData\\Local\\Temp\\ipykernel_13440\\2778897423.py:28: FutureWarning: The frame.append method is deprecated and will be removed from pandas in a future version. Use pandas.concat instead.\n",
      "  df = df.append(a_series, ignore_index=True)\n"
     ]
    },
    {
     "name": "stdout",
     "output_type": "stream",
     "text": [
      "Could not append: []\n"
     ]
    },
    {
     "name": "stderr",
     "output_type": "stream",
     "text": [
      "C:\\Users\\jthoma\\AppData\\Local\\Temp\\ipykernel_13440\\2778897423.py:27: FutureWarning: The default dtype for empty Series will be 'object' instead of 'float64' in a future version. Specify a dtype explicitly to silence this warning.\n",
      "  a_series = pd.Series(row_list, index = df.columns)\n",
      "C:\\Users\\jthoma\\AppData\\Local\\Temp\\ipykernel_13440\\2778897423.py:28: FutureWarning: The frame.append method is deprecated and will be removed from pandas in a future version. Use pandas.concat instead.\n",
      "  df = df.append(a_series, ignore_index=True)\n",
      "C:\\Users\\jthoma\\AppData\\Local\\Temp\\ipykernel_13440\\2778897423.py:28: FutureWarning: The frame.append method is deprecated and will be removed from pandas in a future version. Use pandas.concat instead.\n",
      "  df = df.append(a_series, ignore_index=True)\n"
     ]
    },
    {
     "name": "stdout",
     "output_type": "stream",
     "text": [
      "Could not append: []\n"
     ]
    },
    {
     "name": "stderr",
     "output_type": "stream",
     "text": [
      "C:\\Users\\jthoma\\AppData\\Local\\Temp\\ipykernel_13440\\2778897423.py:27: FutureWarning: The default dtype for empty Series will be 'object' instead of 'float64' in a future version. Specify a dtype explicitly to silence this warning.\n",
      "  a_series = pd.Series(row_list, index = df.columns)\n",
      "C:\\Users\\jthoma\\AppData\\Local\\Temp\\ipykernel_13440\\2778897423.py:28: FutureWarning: The frame.append method is deprecated and will be removed from pandas in a future version. Use pandas.concat instead.\n",
      "  df = df.append(a_series, ignore_index=True)\n",
      "C:\\Users\\jthoma\\AppData\\Local\\Temp\\ipykernel_13440\\2778897423.py:28: FutureWarning: The frame.append method is deprecated and will be removed from pandas in a future version. Use pandas.concat instead.\n",
      "  df = df.append(a_series, ignore_index=True)\n"
     ]
    },
    {
     "name": "stdout",
     "output_type": "stream",
     "text": [
      "Could not append: []\n"
     ]
    },
    {
     "name": "stderr",
     "output_type": "stream",
     "text": [
      "C:\\Users\\jthoma\\AppData\\Local\\Temp\\ipykernel_13440\\2778897423.py:27: FutureWarning: The default dtype for empty Series will be 'object' instead of 'float64' in a future version. Specify a dtype explicitly to silence this warning.\n",
      "  a_series = pd.Series(row_list, index = df.columns)\n",
      "C:\\Users\\jthoma\\AppData\\Local\\Temp\\ipykernel_13440\\2778897423.py:28: FutureWarning: The frame.append method is deprecated and will be removed from pandas in a future version. Use pandas.concat instead.\n",
      "  df = df.append(a_series, ignore_index=True)\n",
      "C:\\Users\\jthoma\\AppData\\Local\\Temp\\ipykernel_13440\\2778897423.py:28: FutureWarning: The frame.append method is deprecated and will be removed from pandas in a future version. Use pandas.concat instead.\n",
      "  df = df.append(a_series, ignore_index=True)\n"
     ]
    },
    {
     "name": "stdout",
     "output_type": "stream",
     "text": [
      "Could not append: []\n"
     ]
    },
    {
     "name": "stderr",
     "output_type": "stream",
     "text": [
      "C:\\Users\\jthoma\\AppData\\Local\\Temp\\ipykernel_13440\\2778897423.py:27: FutureWarning: The default dtype for empty Series will be 'object' instead of 'float64' in a future version. Specify a dtype explicitly to silence this warning.\n",
      "  a_series = pd.Series(row_list, index = df.columns)\n",
      "C:\\Users\\jthoma\\AppData\\Local\\Temp\\ipykernel_13440\\2778897423.py:28: FutureWarning: The frame.append method is deprecated and will be removed from pandas in a future version. Use pandas.concat instead.\n",
      "  df = df.append(a_series, ignore_index=True)\n",
      "C:\\Users\\jthoma\\AppData\\Local\\Temp\\ipykernel_13440\\2778897423.py:28: FutureWarning: The frame.append method is deprecated and will be removed from pandas in a future version. Use pandas.concat instead.\n",
      "  df = df.append(a_series, ignore_index=True)\n"
     ]
    },
    {
     "name": "stdout",
     "output_type": "stream",
     "text": [
      "Could not append: []\n"
     ]
    },
    {
     "name": "stderr",
     "output_type": "stream",
     "text": [
      "C:\\Users\\jthoma\\AppData\\Local\\Temp\\ipykernel_13440\\2778897423.py:27: FutureWarning: The default dtype for empty Series will be 'object' instead of 'float64' in a future version. Specify a dtype explicitly to silence this warning.\n",
      "  a_series = pd.Series(row_list, index = df.columns)\n",
      "C:\\Users\\jthoma\\AppData\\Local\\Temp\\ipykernel_13440\\2778897423.py:28: FutureWarning: The frame.append method is deprecated and will be removed from pandas in a future version. Use pandas.concat instead.\n",
      "  df = df.append(a_series, ignore_index=True)\n",
      "C:\\Users\\jthoma\\AppData\\Local\\Temp\\ipykernel_13440\\2778897423.py:28: FutureWarning: The frame.append method is deprecated and will be removed from pandas in a future version. Use pandas.concat instead.\n",
      "  df = df.append(a_series, ignore_index=True)\n"
     ]
    },
    {
     "name": "stdout",
     "output_type": "stream",
     "text": [
      "Could not append: []\n"
     ]
    },
    {
     "name": "stderr",
     "output_type": "stream",
     "text": [
      "C:\\Users\\jthoma\\AppData\\Local\\Temp\\ipykernel_13440\\2778897423.py:27: FutureWarning: The default dtype for empty Series will be 'object' instead of 'float64' in a future version. Specify a dtype explicitly to silence this warning.\n",
      "  a_series = pd.Series(row_list, index = df.columns)\n",
      "C:\\Users\\jthoma\\AppData\\Local\\Temp\\ipykernel_13440\\2778897423.py:28: FutureWarning: The frame.append method is deprecated and will be removed from pandas in a future version. Use pandas.concat instead.\n",
      "  df = df.append(a_series, ignore_index=True)\n"
     ]
    },
    {
     "name": "stdout",
     "output_type": "stream",
     "text": [
      "Could not append: []\n"
     ]
    },
    {
     "name": "stderr",
     "output_type": "stream",
     "text": [
      "C:\\Users\\jthoma\\AppData\\Local\\Temp\\ipykernel_13440\\2778897423.py:28: FutureWarning: The frame.append method is deprecated and will be removed from pandas in a future version. Use pandas.concat instead.\n",
      "  df = df.append(a_series, ignore_index=True)\n",
      "C:\\Users\\jthoma\\AppData\\Local\\Temp\\ipykernel_13440\\2778897423.py:27: FutureWarning: The default dtype for empty Series will be 'object' instead of 'float64' in a future version. Specify a dtype explicitly to silence this warning.\n",
      "  a_series = pd.Series(row_list, index = df.columns)\n",
      "C:\\Users\\jthoma\\AppData\\Local\\Temp\\ipykernel_13440\\2778897423.py:28: FutureWarning: The frame.append method is deprecated and will be removed from pandas in a future version. Use pandas.concat instead.\n",
      "  df = df.append(a_series, ignore_index=True)\n",
      "C:\\Users\\jthoma\\AppData\\Local\\Temp\\ipykernel_13440\\2778897423.py:28: FutureWarning: The frame.append method is deprecated and will be removed from pandas in a future version. Use pandas.concat instead.\n",
      "  df = df.append(a_series, ignore_index=True)\n"
     ]
    },
    {
     "name": "stdout",
     "output_type": "stream",
     "text": [
      "Could not append: []\n"
     ]
    },
    {
     "name": "stderr",
     "output_type": "stream",
     "text": [
      "C:\\Users\\jthoma\\AppData\\Local\\Temp\\ipykernel_13440\\2778897423.py:27: FutureWarning: The default dtype for empty Series will be 'object' instead of 'float64' in a future version. Specify a dtype explicitly to silence this warning.\n",
      "  a_series = pd.Series(row_list, index = df.columns)\n",
      "C:\\Users\\jthoma\\AppData\\Local\\Temp\\ipykernel_13440\\2778897423.py:28: FutureWarning: The frame.append method is deprecated and will be removed from pandas in a future version. Use pandas.concat instead.\n",
      "  df = df.append(a_series, ignore_index=True)\n"
     ]
    },
    {
     "name": "stdout",
     "output_type": "stream",
     "text": [
      "Could not append: []\n"
     ]
    },
    {
     "name": "stderr",
     "output_type": "stream",
     "text": [
      "C:\\Users\\jthoma\\AppData\\Local\\Temp\\ipykernel_13440\\2778897423.py:28: FutureWarning: The frame.append method is deprecated and will be removed from pandas in a future version. Use pandas.concat instead.\n",
      "  df = df.append(a_series, ignore_index=True)\n",
      "C:\\Users\\jthoma\\AppData\\Local\\Temp\\ipykernel_13440\\2778897423.py:28: FutureWarning: The frame.append method is deprecated and will be removed from pandas in a future version. Use pandas.concat instead.\n",
      "  df = df.append(a_series, ignore_index=True)\n",
      "C:\\Users\\jthoma\\AppData\\Local\\Temp\\ipykernel_13440\\2778897423.py:28: FutureWarning: The frame.append method is deprecated and will be removed from pandas in a future version. Use pandas.concat instead.\n",
      "  df = df.append(a_series, ignore_index=True)\n",
      "C:\\Users\\jthoma\\AppData\\Local\\Temp\\ipykernel_13440\\2778897423.py:28: FutureWarning: The frame.append method is deprecated and will be removed from pandas in a future version. Use pandas.concat instead.\n",
      "  df = df.append(a_series, ignore_index=True)\n",
      "C:\\Users\\jthoma\\AppData\\Local\\Temp\\ipykernel_13440\\2778897423.py:28: FutureWarning: The frame.append method is deprecated and will be removed from pandas in a future version. Use pandas.concat instead.\n",
      "  df = df.append(a_series, ignore_index=True)\n",
      "C:\\Users\\jthoma\\AppData\\Local\\Temp\\ipykernel_13440\\2778897423.py:28: FutureWarning: The frame.append method is deprecated and will be removed from pandas in a future version. Use pandas.concat instead.\n",
      "  df = df.append(a_series, ignore_index=True)\n",
      "C:\\Users\\jthoma\\AppData\\Local\\Temp\\ipykernel_13440\\2778897423.py:28: FutureWarning: The frame.append method is deprecated and will be removed from pandas in a future version. Use pandas.concat instead.\n",
      "  df = df.append(a_series, ignore_index=True)\n",
      "C:\\Users\\jthoma\\AppData\\Local\\Temp\\ipykernel_13440\\2778897423.py:28: FutureWarning: The frame.append method is deprecated and will be removed from pandas in a future version. Use pandas.concat instead.\n",
      "  df = df.append(a_series, ignore_index=True)\n",
      "C:\\Users\\jthoma\\AppData\\Local\\Temp\\ipykernel_13440\\2778897423.py:28: FutureWarning: The frame.append method is deprecated and will be removed from pandas in a future version. Use pandas.concat instead.\n",
      "  df = df.append(a_series, ignore_index=True)\n",
      "C:\\Users\\jthoma\\AppData\\Local\\Temp\\ipykernel_13440\\2778897423.py:28: FutureWarning: The frame.append method is deprecated and will be removed from pandas in a future version. Use pandas.concat instead.\n",
      "  df = df.append(a_series, ignore_index=True)\n",
      "C:\\Users\\jthoma\\AppData\\Local\\Temp\\ipykernel_13440\\2778897423.py:28: FutureWarning: The frame.append method is deprecated and will be removed from pandas in a future version. Use pandas.concat instead.\n",
      "  df = df.append(a_series, ignore_index=True)\n",
      "C:\\Users\\jthoma\\AppData\\Local\\Temp\\ipykernel_13440\\2778897423.py:27: FutureWarning: The default dtype for empty Series will be 'object' instead of 'float64' in a future version. Specify a dtype explicitly to silence this warning.\n",
      "  a_series = pd.Series(row_list, index = df.columns)\n",
      "C:\\Users\\jthoma\\AppData\\Local\\Temp\\ipykernel_13440\\2778897423.py:28: FutureWarning: The frame.append method is deprecated and will be removed from pandas in a future version. Use pandas.concat instead.\n",
      "  df = df.append(a_series, ignore_index=True)\n",
      "C:\\Users\\jthoma\\AppData\\Local\\Temp\\ipykernel_13440\\2778897423.py:28: FutureWarning: The frame.append method is deprecated and will be removed from pandas in a future version. Use pandas.concat instead.\n",
      "  df = df.append(a_series, ignore_index=True)\n"
     ]
    },
    {
     "name": "stdout",
     "output_type": "stream",
     "text": [
      "Could not append: []\n"
     ]
    },
    {
     "name": "stderr",
     "output_type": "stream",
     "text": [
      "C:\\Users\\jthoma\\AppData\\Local\\Temp\\ipykernel_13440\\2778897423.py:27: FutureWarning: The default dtype for empty Series will be 'object' instead of 'float64' in a future version. Specify a dtype explicitly to silence this warning.\n",
      "  a_series = pd.Series(row_list, index = df.columns)\n",
      "C:\\Users\\jthoma\\AppData\\Local\\Temp\\ipykernel_13440\\2778897423.py:28: FutureWarning: The frame.append method is deprecated and will be removed from pandas in a future version. Use pandas.concat instead.\n",
      "  df = df.append(a_series, ignore_index=True)\n"
     ]
    },
    {
     "name": "stdout",
     "output_type": "stream",
     "text": [
      "Could not append: []\n"
     ]
    },
    {
     "name": "stderr",
     "output_type": "stream",
     "text": [
      "C:\\Users\\jthoma\\AppData\\Local\\Temp\\ipykernel_13440\\2778897423.py:28: FutureWarning: The frame.append method is deprecated and will be removed from pandas in a future version. Use pandas.concat instead.\n",
      "  df = df.append(a_series, ignore_index=True)\n",
      "C:\\Users\\jthoma\\AppData\\Local\\Temp\\ipykernel_13440\\2778897423.py:27: FutureWarning: The default dtype for empty Series will be 'object' instead of 'float64' in a future version. Specify a dtype explicitly to silence this warning.\n",
      "  a_series = pd.Series(row_list, index = df.columns)\n",
      "C:\\Users\\jthoma\\AppData\\Local\\Temp\\ipykernel_13440\\2778897423.py:28: FutureWarning: The frame.append method is deprecated and will be removed from pandas in a future version. Use pandas.concat instead.\n",
      "  df = df.append(a_series, ignore_index=True)\n"
     ]
    },
    {
     "name": "stdout",
     "output_type": "stream",
     "text": [
      "Could not append: []\n"
     ]
    },
    {
     "name": "stderr",
     "output_type": "stream",
     "text": [
      "C:\\Users\\jthoma\\AppData\\Local\\Temp\\ipykernel_13440\\2778897423.py:28: FutureWarning: The frame.append method is deprecated and will be removed from pandas in a future version. Use pandas.concat instead.\n",
      "  df = df.append(a_series, ignore_index=True)\n",
      "C:\\Users\\jthoma\\AppData\\Local\\Temp\\ipykernel_13440\\2778897423.py:27: FutureWarning: The default dtype for empty Series will be 'object' instead of 'float64' in a future version. Specify a dtype explicitly to silence this warning.\n",
      "  a_series = pd.Series(row_list, index = df.columns)\n",
      "C:\\Users\\jthoma\\AppData\\Local\\Temp\\ipykernel_13440\\2778897423.py:28: FutureWarning: The frame.append method is deprecated and will be removed from pandas in a future version. Use pandas.concat instead.\n",
      "  df = df.append(a_series, ignore_index=True)\n",
      "C:\\Users\\jthoma\\AppData\\Local\\Temp\\ipykernel_13440\\2778897423.py:28: FutureWarning: The frame.append method is deprecated and will be removed from pandas in a future version. Use pandas.concat instead.\n",
      "  df = df.append(a_series, ignore_index=True)\n"
     ]
    },
    {
     "name": "stdout",
     "output_type": "stream",
     "text": [
      "Could not append: []\n"
     ]
    },
    {
     "name": "stderr",
     "output_type": "stream",
     "text": [
      "C:\\Users\\jthoma\\AppData\\Local\\Temp\\ipykernel_13440\\2778897423.py:27: FutureWarning: The default dtype for empty Series will be 'object' instead of 'float64' in a future version. Specify a dtype explicitly to silence this warning.\n",
      "  a_series = pd.Series(row_list, index = df.columns)\n",
      "C:\\Users\\jthoma\\AppData\\Local\\Temp\\ipykernel_13440\\2778897423.py:28: FutureWarning: The frame.append method is deprecated and will be removed from pandas in a future version. Use pandas.concat instead.\n",
      "  df = df.append(a_series, ignore_index=True)\n"
     ]
    },
    {
     "name": "stdout",
     "output_type": "stream",
     "text": [
      "Could not append: []\n"
     ]
    },
    {
     "name": "stderr",
     "output_type": "stream",
     "text": [
      "C:\\Users\\jthoma\\AppData\\Local\\Temp\\ipykernel_13440\\2778897423.py:28: FutureWarning: The frame.append method is deprecated and will be removed from pandas in a future version. Use pandas.concat instead.\n",
      "  df = df.append(a_series, ignore_index=True)\n",
      "C:\\Users\\jthoma\\AppData\\Local\\Temp\\ipykernel_13440\\2778897423.py:27: FutureWarning: The default dtype for empty Series will be 'object' instead of 'float64' in a future version. Specify a dtype explicitly to silence this warning.\n",
      "  a_series = pd.Series(row_list, index = df.columns)\n",
      "C:\\Users\\jthoma\\AppData\\Local\\Temp\\ipykernel_13440\\2778897423.py:28: FutureWarning: The frame.append method is deprecated and will be removed from pandas in a future version. Use pandas.concat instead.\n",
      "  df = df.append(a_series, ignore_index=True)\n",
      "C:\\Users\\jthoma\\AppData\\Local\\Temp\\ipykernel_13440\\2778897423.py:28: FutureWarning: The frame.append method is deprecated and will be removed from pandas in a future version. Use pandas.concat instead.\n",
      "  df = df.append(a_series, ignore_index=True)\n"
     ]
    },
    {
     "name": "stdout",
     "output_type": "stream",
     "text": [
      "Could not append: []\n"
     ]
    },
    {
     "name": "stderr",
     "output_type": "stream",
     "text": [
      "C:\\Users\\jthoma\\AppData\\Local\\Temp\\ipykernel_13440\\2778897423.py:27: FutureWarning: The default dtype for empty Series will be 'object' instead of 'float64' in a future version. Specify a dtype explicitly to silence this warning.\n",
      "  a_series = pd.Series(row_list, index = df.columns)\n",
      "C:\\Users\\jthoma\\AppData\\Local\\Temp\\ipykernel_13440\\2778897423.py:28: FutureWarning: The frame.append method is deprecated and will be removed from pandas in a future version. Use pandas.concat instead.\n",
      "  df = df.append(a_series, ignore_index=True)\n",
      "C:\\Users\\jthoma\\AppData\\Local\\Temp\\ipykernel_13440\\2778897423.py:28: FutureWarning: The frame.append method is deprecated and will be removed from pandas in a future version. Use pandas.concat instead.\n",
      "  df = df.append(a_series, ignore_index=True)\n"
     ]
    },
    {
     "name": "stdout",
     "output_type": "stream",
     "text": [
      "Could not append: []\n"
     ]
    },
    {
     "name": "stderr",
     "output_type": "stream",
     "text": [
      "C:\\Users\\jthoma\\AppData\\Local\\Temp\\ipykernel_13440\\2778897423.py:27: FutureWarning: The default dtype for empty Series will be 'object' instead of 'float64' in a future version. Specify a dtype explicitly to silence this warning.\n",
      "  a_series = pd.Series(row_list, index = df.columns)\n",
      "C:\\Users\\jthoma\\AppData\\Local\\Temp\\ipykernel_13440\\2778897423.py:28: FutureWarning: The frame.append method is deprecated and will be removed from pandas in a future version. Use pandas.concat instead.\n",
      "  df = df.append(a_series, ignore_index=True)\n",
      "C:\\Users\\jthoma\\AppData\\Local\\Temp\\ipykernel_13440\\2778897423.py:28: FutureWarning: The frame.append method is deprecated and will be removed from pandas in a future version. Use pandas.concat instead.\n",
      "  df = df.append(a_series, ignore_index=True)\n"
     ]
    },
    {
     "name": "stdout",
     "output_type": "stream",
     "text": [
      "Could not append: []\n"
     ]
    },
    {
     "name": "stderr",
     "output_type": "stream",
     "text": [
      "C:\\Users\\jthoma\\AppData\\Local\\Temp\\ipykernel_13440\\2778897423.py:27: FutureWarning: The default dtype for empty Series will be 'object' instead of 'float64' in a future version. Specify a dtype explicitly to silence this warning.\n",
      "  a_series = pd.Series(row_list, index = df.columns)\n",
      "C:\\Users\\jthoma\\AppData\\Local\\Temp\\ipykernel_13440\\2778897423.py:28: FutureWarning: The frame.append method is deprecated and will be removed from pandas in a future version. Use pandas.concat instead.\n",
      "  df = df.append(a_series, ignore_index=True)\n"
     ]
    },
    {
     "name": "stdout",
     "output_type": "stream",
     "text": [
      "Could not append: []\n"
     ]
    },
    {
     "name": "stderr",
     "output_type": "stream",
     "text": [
      "C:\\Users\\jthoma\\AppData\\Local\\Temp\\ipykernel_13440\\2778897423.py:28: FutureWarning: The frame.append method is deprecated and will be removed from pandas in a future version. Use pandas.concat instead.\n",
      "  df = df.append(a_series, ignore_index=True)\n",
      "C:\\Users\\jthoma\\AppData\\Local\\Temp\\ipykernel_13440\\2778897423.py:27: FutureWarning: The default dtype for empty Series will be 'object' instead of 'float64' in a future version. Specify a dtype explicitly to silence this warning.\n",
      "  a_series = pd.Series(row_list, index = df.columns)\n",
      "C:\\Users\\jthoma\\AppData\\Local\\Temp\\ipykernel_13440\\2778897423.py:28: FutureWarning: The frame.append method is deprecated and will be removed from pandas in a future version. Use pandas.concat instead.\n",
      "  df = df.append(a_series, ignore_index=True)\n"
     ]
    },
    {
     "name": "stdout",
     "output_type": "stream",
     "text": [
      "Could not append: []\n"
     ]
    },
    {
     "name": "stderr",
     "output_type": "stream",
     "text": [
      "C:\\Users\\jthoma\\AppData\\Local\\Temp\\ipykernel_13440\\2778897423.py:28: FutureWarning: The frame.append method is deprecated and will be removed from pandas in a future version. Use pandas.concat instead.\n",
      "  df = df.append(a_series, ignore_index=True)\n",
      "C:\\Users\\jthoma\\AppData\\Local\\Temp\\ipykernel_13440\\2778897423.py:28: FutureWarning: The frame.append method is deprecated and will be removed from pandas in a future version. Use pandas.concat instead.\n",
      "  df = df.append(a_series, ignore_index=True)\n",
      "C:\\Users\\jthoma\\AppData\\Local\\Temp\\ipykernel_13440\\2778897423.py:28: FutureWarning: The frame.append method is deprecated and will be removed from pandas in a future version. Use pandas.concat instead.\n",
      "  df = df.append(a_series, ignore_index=True)\n",
      "C:\\Users\\jthoma\\AppData\\Local\\Temp\\ipykernel_13440\\2778897423.py:28: FutureWarning: The frame.append method is deprecated and will be removed from pandas in a future version. Use pandas.concat instead.\n",
      "  df = df.append(a_series, ignore_index=True)\n",
      "C:\\Users\\jthoma\\AppData\\Local\\Temp\\ipykernel_13440\\2778897423.py:28: FutureWarning: The frame.append method is deprecated and will be removed from pandas in a future version. Use pandas.concat instead.\n",
      "  df = df.append(a_series, ignore_index=True)\n",
      "C:\\Users\\jthoma\\AppData\\Local\\Temp\\ipykernel_13440\\2778897423.py:28: FutureWarning: The frame.append method is deprecated and will be removed from pandas in a future version. Use pandas.concat instead.\n",
      "  df = df.append(a_series, ignore_index=True)\n",
      "C:\\Users\\jthoma\\AppData\\Local\\Temp\\ipykernel_13440\\2778897423.py:28: FutureWarning: The frame.append method is deprecated and will be removed from pandas in a future version. Use pandas.concat instead.\n",
      "  df = df.append(a_series, ignore_index=True)\n",
      "C:\\Users\\jthoma\\AppData\\Local\\Temp\\ipykernel_13440\\2778897423.py:28: FutureWarning: The frame.append method is deprecated and will be removed from pandas in a future version. Use pandas.concat instead.\n",
      "  df = df.append(a_series, ignore_index=True)\n",
      "C:\\Users\\jthoma\\AppData\\Local\\Temp\\ipykernel_13440\\2778897423.py:28: FutureWarning: The frame.append method is deprecated and will be removed from pandas in a future version. Use pandas.concat instead.\n",
      "  df = df.append(a_series, ignore_index=True)\n",
      "C:\\Users\\jthoma\\AppData\\Local\\Temp\\ipykernel_13440\\2778897423.py:28: FutureWarning: The frame.append method is deprecated and will be removed from pandas in a future version. Use pandas.concat instead.\n",
      "  df = df.append(a_series, ignore_index=True)\n",
      "C:\\Users\\jthoma\\AppData\\Local\\Temp\\ipykernel_13440\\2778897423.py:28: FutureWarning: The frame.append method is deprecated and will be removed from pandas in a future version. Use pandas.concat instead.\n",
      "  df = df.append(a_series, ignore_index=True)\n",
      "C:\\Users\\jthoma\\AppData\\Local\\Temp\\ipykernel_13440\\2778897423.py:27: FutureWarning: The default dtype for empty Series will be 'object' instead of 'float64' in a future version. Specify a dtype explicitly to silence this warning.\n",
      "  a_series = pd.Series(row_list, index = df.columns)\n",
      "C:\\Users\\jthoma\\AppData\\Local\\Temp\\ipykernel_13440\\2778897423.py:28: FutureWarning: The frame.append method is deprecated and will be removed from pandas in a future version. Use pandas.concat instead.\n",
      "  df = df.append(a_series, ignore_index=True)\n",
      "C:\\Users\\jthoma\\AppData\\Local\\Temp\\ipykernel_13440\\2778897423.py:28: FutureWarning: The frame.append method is deprecated and will be removed from pandas in a future version. Use pandas.concat instead.\n",
      "  df = df.append(a_series, ignore_index=True)\n"
     ]
    },
    {
     "name": "stdout",
     "output_type": "stream",
     "text": [
      "Could not append: []\n"
     ]
    },
    {
     "name": "stderr",
     "output_type": "stream",
     "text": [
      "C:\\Users\\jthoma\\AppData\\Local\\Temp\\ipykernel_13440\\2778897423.py:27: FutureWarning: The default dtype for empty Series will be 'object' instead of 'float64' in a future version. Specify a dtype explicitly to silence this warning.\n",
      "  a_series = pd.Series(row_list, index = df.columns)\n",
      "C:\\Users\\jthoma\\AppData\\Local\\Temp\\ipykernel_13440\\2778897423.py:28: FutureWarning: The frame.append method is deprecated and will be removed from pandas in a future version. Use pandas.concat instead.\n",
      "  df = df.append(a_series, ignore_index=True)\n",
      "C:\\Users\\jthoma\\AppData\\Local\\Temp\\ipykernel_13440\\2778897423.py:28: FutureWarning: The frame.append method is deprecated and will be removed from pandas in a future version. Use pandas.concat instead.\n",
      "  df = df.append(a_series, ignore_index=True)\n"
     ]
    },
    {
     "name": "stdout",
     "output_type": "stream",
     "text": [
      "Could not append: []\n"
     ]
    },
    {
     "name": "stderr",
     "output_type": "stream",
     "text": [
      "C:\\Users\\jthoma\\AppData\\Local\\Temp\\ipykernel_13440\\2778897423.py:27: FutureWarning: The default dtype for empty Series will be 'object' instead of 'float64' in a future version. Specify a dtype explicitly to silence this warning.\n",
      "  a_series = pd.Series(row_list, index = df.columns)\n",
      "C:\\Users\\jthoma\\AppData\\Local\\Temp\\ipykernel_13440\\2778897423.py:28: FutureWarning: The frame.append method is deprecated and will be removed from pandas in a future version. Use pandas.concat instead.\n",
      "  df = df.append(a_series, ignore_index=True)\n",
      "C:\\Users\\jthoma\\AppData\\Local\\Temp\\ipykernel_13440\\2778897423.py:28: FutureWarning: The frame.append method is deprecated and will be removed from pandas in a future version. Use pandas.concat instead.\n",
      "  df = df.append(a_series, ignore_index=True)\n"
     ]
    },
    {
     "name": "stdout",
     "output_type": "stream",
     "text": [
      "Could not append: []\n"
     ]
    },
    {
     "name": "stderr",
     "output_type": "stream",
     "text": [
      "C:\\Users\\jthoma\\AppData\\Local\\Temp\\ipykernel_13440\\2778897423.py:27: FutureWarning: The default dtype for empty Series will be 'object' instead of 'float64' in a future version. Specify a dtype explicitly to silence this warning.\n",
      "  a_series = pd.Series(row_list, index = df.columns)\n",
      "C:\\Users\\jthoma\\AppData\\Local\\Temp\\ipykernel_13440\\2778897423.py:28: FutureWarning: The frame.append method is deprecated and will be removed from pandas in a future version. Use pandas.concat instead.\n",
      "  df = df.append(a_series, ignore_index=True)\n",
      "C:\\Users\\jthoma\\AppData\\Local\\Temp\\ipykernel_13440\\2778897423.py:28: FutureWarning: The frame.append method is deprecated and will be removed from pandas in a future version. Use pandas.concat instead.\n",
      "  df = df.append(a_series, ignore_index=True)\n"
     ]
    },
    {
     "name": "stdout",
     "output_type": "stream",
     "text": [
      "Could not append: []\n"
     ]
    },
    {
     "name": "stderr",
     "output_type": "stream",
     "text": [
      "C:\\Users\\jthoma\\AppData\\Local\\Temp\\ipykernel_13440\\2778897423.py:27: FutureWarning: The default dtype for empty Series will be 'object' instead of 'float64' in a future version. Specify a dtype explicitly to silence this warning.\n",
      "  a_series = pd.Series(row_list, index = df.columns)\n",
      "C:\\Users\\jthoma\\AppData\\Local\\Temp\\ipykernel_13440\\2778897423.py:28: FutureWarning: The frame.append method is deprecated and will be removed from pandas in a future version. Use pandas.concat instead.\n",
      "  df = df.append(a_series, ignore_index=True)\n",
      "C:\\Users\\jthoma\\AppData\\Local\\Temp\\ipykernel_13440\\2778897423.py:28: FutureWarning: The frame.append method is deprecated and will be removed from pandas in a future version. Use pandas.concat instead.\n",
      "  df = df.append(a_series, ignore_index=True)\n"
     ]
    },
    {
     "name": "stdout",
     "output_type": "stream",
     "text": [
      "Could not append: []\n"
     ]
    },
    {
     "name": "stderr",
     "output_type": "stream",
     "text": [
      "C:\\Users\\jthoma\\AppData\\Local\\Temp\\ipykernel_13440\\2778897423.py:27: FutureWarning: The default dtype for empty Series will be 'object' instead of 'float64' in a future version. Specify a dtype explicitly to silence this warning.\n",
      "  a_series = pd.Series(row_list, index = df.columns)\n",
      "C:\\Users\\jthoma\\AppData\\Local\\Temp\\ipykernel_13440\\2778897423.py:28: FutureWarning: The frame.append method is deprecated and will be removed from pandas in a future version. Use pandas.concat instead.\n",
      "  df = df.append(a_series, ignore_index=True)\n"
     ]
    },
    {
     "name": "stdout",
     "output_type": "stream",
     "text": [
      "Could not append: []\n"
     ]
    },
    {
     "name": "stderr",
     "output_type": "stream",
     "text": [
      "C:\\Users\\jthoma\\AppData\\Local\\Temp\\ipykernel_13440\\2778897423.py:28: FutureWarning: The frame.append method is deprecated and will be removed from pandas in a future version. Use pandas.concat instead.\n",
      "  df = df.append(a_series, ignore_index=True)\n"
     ]
    }
   ],
   "source": [
    "import pandas as pd\n",
    "\n",
    "#Create a dataframe to store all of the scraped table data\n",
    "df = pd.DataFrame(columns = [\"Comunidad\",\"Provincia\",\"Municipio\",\"Frecuencia\"])\n",
    "#Flip through all of the records and save them\n",
    "\n",
    "for n in range(2, 10):\n",
    "\n",
    "    for link in range(0,10):\n",
    "\n",
    "        #Click on Referencia\n",
    "        referencia_link = driver.find_element(By.XPATH,'//*[@id=\"MainContent_gridConcesiones_lnkFrecuencias_'+str(link)+'\"]')\n",
    "        referencia_link.click()\n",
    "\n",
    "        for i in range(3):\n",
    "            try:\n",
    "                mytable = driver.find_element(By.XPATH,'//*[@id=\"MainContent_gridFrecuencias\"]')\n",
    "                #Read in all of the data into the dataframe\n",
    "                for row in mytable.find_elements(By.CSS_SELECTOR,'tr'):\n",
    "                    row_list = []\n",
    "                    #Add to dataframe accordingly\n",
    "                    for cell in row.find_elements(By.CSS_SELECTOR,'td'):\n",
    "                        cell_reading = cell.text\n",
    "                        row_list.append(cell_reading)\n",
    "                    #Add the list as a row, if possible \n",
    "                    try:\n",
    "                        a_series = pd.Series(row_list, index = df.columns)\n",
    "                        df = df.append(a_series, ignore_index=True)\n",
    "                    except:\n",
    "                        print(\"Could not append: \" + str(row_list))\n",
    "                break\n",
    "            except:\n",
    "                driver.implicitly_wait(5)\n",
    "\n",
    "        try:\n",
    "            #Click on Cerrar\n",
    "            cerrar_button = driver.find_element(By.XPATH,'//*[@id=\"MainContent_btnCerrar\"]')\n",
    "            cerrar_button.click()\n",
    "        except:\n",
    "            cerrar_button1 = driver.find_element(By.CLASS_NAME,'botonbuscar')\n",
    "            driver.execute_script(\"arguments[0].click();\", cerrar_button1)\n",
    "\n",
    "        driver.implicitly_wait(10)"
   ]
  },
  {
   "cell_type": "code",
   "execution_count": 7,
   "id": "07242ead",
   "metadata": {},
   "outputs": [
    {
     "data": {
      "text/html": [
       "<div>\n",
       "<style scoped>\n",
       "    .dataframe tbody tr th:only-of-type {\n",
       "        vertical-align: middle;\n",
       "    }\n",
       "\n",
       "    .dataframe tbody tr th {\n",
       "        vertical-align: top;\n",
       "    }\n",
       "\n",
       "    .dataframe thead th {\n",
       "        text-align: right;\n",
       "    }\n",
       "</style>\n",
       "<table border=\"1\" class=\"dataframe\">\n",
       "  <thead>\n",
       "    <tr style=\"text-align: right;\">\n",
       "      <th></th>\n",
       "      <th>Comunidad</th>\n",
       "      <th>Provincia</th>\n",
       "      <th>Municipio</th>\n",
       "      <th>Frecuencia</th>\n",
       "    </tr>\n",
       "  </thead>\n",
       "  <tbody>\n",
       "    <tr>\n",
       "      <th>0</th>\n",
       "      <td>ANDALUCÍA</td>\n",
       "      <td>ALMERÍA</td>\n",
       "      <td>CUEVAS DEL ALMANZORA</td>\n",
       "      <td>15,019 GHz</td>\n",
       "    </tr>\n",
       "    <tr>\n",
       "      <th>1</th>\n",
       "      <td></td>\n",
       "      <td></td>\n",
       "      <td>GALLARDOS (LOS)</td>\n",
       "      <td>14,599 GHz</td>\n",
       "    </tr>\n",
       "    <tr>\n",
       "      <th>2</th>\n",
       "      <td>ANDALUCÍA</td>\n",
       "      <td>ALMERÍA</td>\n",
       "      <td>ALMERIA</td>\n",
       "      <td>18875 MHz</td>\n",
       "    </tr>\n",
       "    <tr>\n",
       "      <th>3</th>\n",
       "      <td></td>\n",
       "      <td></td>\n",
       "      <td>ROQUETAS DE MAR</td>\n",
       "      <td>17865 MHz</td>\n",
       "    </tr>\n",
       "    <tr>\n",
       "      <th>4</th>\n",
       "      <td>ANDALUCÍA</td>\n",
       "      <td>ALMERÍA</td>\n",
       "      <td>ALMERIA</td>\n",
       "      <td>14508 MHz</td>\n",
       "    </tr>\n",
       "    <tr>\n",
       "      <th>...</th>\n",
       "      <td>...</td>\n",
       "      <td>...</td>\n",
       "      <td>...</td>\n",
       "      <td>...</td>\n",
       "    </tr>\n",
       "    <tr>\n",
       "      <th>235</th>\n",
       "      <td></td>\n",
       "      <td></td>\n",
       "      <td>PECHINA</td>\n",
       "      <td>18525 MHz</td>\n",
       "    </tr>\n",
       "    <tr>\n",
       "      <th>236</th>\n",
       "      <td>ANDALUCÍA</td>\n",
       "      <td>ALMERÍA</td>\n",
       "      <td>ALMERIA</td>\n",
       "      <td>37324 MHz</td>\n",
       "    </tr>\n",
       "    <tr>\n",
       "      <th>237</th>\n",
       "      <td></td>\n",
       "      <td></td>\n",
       "      <td></td>\n",
       "      <td>38584 MHz</td>\n",
       "    </tr>\n",
       "    <tr>\n",
       "      <th>238</th>\n",
       "      <td>ANDALUCÍA</td>\n",
       "      <td>ALMERÍA</td>\n",
       "      <td>ROQUETAS DE MAR</td>\n",
       "      <td>37324 MHz</td>\n",
       "    </tr>\n",
       "    <tr>\n",
       "      <th>239</th>\n",
       "      <td></td>\n",
       "      <td></td>\n",
       "      <td>VICAR</td>\n",
       "      <td>38584 MHz</td>\n",
       "    </tr>\n",
       "  </tbody>\n",
       "</table>\n",
       "<p>240 rows × 4 columns</p>\n",
       "</div>"
      ],
      "text/plain": [
       "     Comunidad Provincia             Municipio  Frecuencia\n",
       "0    ANDALUCÍA   ALMERÍA  CUEVAS DEL ALMANZORA  15,019 GHz\n",
       "1                              GALLARDOS (LOS)  14,599 GHz\n",
       "2    ANDALUCÍA   ALMERÍA               ALMERIA   18875 MHz\n",
       "3                              ROQUETAS DE MAR   17865 MHz\n",
       "4    ANDALUCÍA   ALMERÍA               ALMERIA   14508 MHz\n",
       "..         ...       ...                   ...         ...\n",
       "235                                    PECHINA   18525 MHz\n",
       "236  ANDALUCÍA   ALMERÍA               ALMERIA   37324 MHz\n",
       "237                                              38584 MHz\n",
       "238  ANDALUCÍA   ALMERÍA       ROQUETAS DE MAR   37324 MHz\n",
       "239                                      VICAR   38584 MHz\n",
       "\n",
       "[240 rows x 4 columns]"
      ]
     },
     "execution_count": 7,
     "metadata": {},
     "output_type": "execute_result"
    }
   ],
   "source": [
    "df"
   ]
  },
  {
   "cell_type": "markdown",
   "id": "95d24b2f",
   "metadata": {},
   "source": [
    "## Cleaning the dataframe"
   ]
  },
  {
   "cell_type": "markdown",
   "id": "3ad13552",
   "metadata": {},
   "source": [
    "        \n",
    "    \"\"\"if n%10 == 1:\n",
    "        #Click second \"...\" if on greater than page 10\n",
    "        if n < 20:\n",
    "            driver.find_elements(By.XPATH,'//*[@id=\"MainContent_gridConcesiones\"]/tbody/tr[12]/td/table/tbody/tr/td[11]/a')[0].click()  \n",
    "        else:\n",
    "            driver.find_elements(By.XPATH,'//*[@id=\"MainContent_gridConcesiones\"]/tbody/tr[12]/td/table/tbody/tr/td[11]/a')[1].click()  \n",
    "    else:\n",
    "        driver.find_element_by_xpath(\"//td/a[text()='\" + str(n)+ \"']\").click()    \n",
    "    #Wait three seconds so the website doesn't crash\n",
    "    driver.implicitly_wait(3)\n",
    "\"\"\"\n",
    "#Write to a csv\n",
    "#df.to_csv(\"RegistroPublicoConcesiones_Frequencies.csv\", index= False)"
   ]
  },
  {
   "cell_type": "markdown",
   "id": "02a717eb",
   "metadata": {},
   "source": [
    "df[\"Municipio2\"] = None\n",
    "df[\"Frecuencia2\"] = None"
   ]
  },
  {
   "cell_type": "markdown",
   "id": "a8e588e1",
   "metadata": {},
   "source": [
    "df[\"Municipio2\"][0] = df[\"Municipio\"][1]\n",
    "df[\"Frecuencia2\"][0] = df[\"Frecuencia\"][1]"
   ]
  },
  {
   "cell_type": "markdown",
   "id": "027b293c",
   "metadata": {},
   "source": [
    "df"
   ]
  },
  {
   "cell_type": "code",
   "execution_count": 9,
   "id": "509bda0c",
   "metadata": {},
   "outputs": [],
   "source": [
    "#Write to a csv\n",
    "df.to_csv(\"RegistroPublicoConcesiones_Frequencies.csv\", index= False, sep=\";\")"
   ]
  },
  {
   "cell_type": "code",
   "execution_count": null,
   "id": "5e68f69b",
   "metadata": {},
   "outputs": [],
   "source": []
  }
 ],
 "metadata": {
  "kernelspec": {
   "display_name": "Python 3 (ipykernel)",
   "language": "python",
   "name": "python3"
  },
  "language_info": {
   "codemirror_mode": {
    "name": "ipython",
    "version": 3
   },
   "file_extension": ".py",
   "mimetype": "text/x-python",
   "name": "python",
   "nbconvert_exporter": "python",
   "pygments_lexer": "ipython3",
   "version": "3.9.12"
  }
 },
 "nbformat": 4,
 "nbformat_minor": 5
}

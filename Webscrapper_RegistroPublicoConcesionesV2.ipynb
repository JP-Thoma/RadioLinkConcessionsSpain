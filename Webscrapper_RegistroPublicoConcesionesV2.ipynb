{
 "cells": [
  {
   "cell_type": "markdown",
   "id": "12d86654",
   "metadata": {},
   "source": [
    "# Webscrapper for Registro Público de Concesiones\n",
    "\n",
    "Traditional webscrapping with Beautiful Soup is less useful for aspx websites that expect a user input. This webscraper was built with Selenium intenting to make requests to the form before scraping each page.\n",
    "\n",
    "Following links are helpful: <br>\n",
    "Data Source: https://avancedigital.mineco.gob.es/espectro/Paginas/registro-publico-concesiones.aspx <br>\n",
    "Selenium: https://selenium-python.readthedocs.io/locating-elements.html <br>\n",
    "Chromedriver: https://chromedriver.chromium.org/home (download necessary)<br>"
   ]
  },
  {
   "cell_type": "code",
   "execution_count": 1,
   "id": "352b8d52",
   "metadata": {
    "scrolled": true
   },
   "outputs": [],
   "source": [
    "#pip install requests (for making HTTP requests)\n",
    "#pip install URLLib3 (URL handling)\n",
    "#pip install bs4 (in case Selenium couldn’t handle everything)\n",
    "#pip install selenium (for browser-based navigation)"
   ]
  },
  {
   "cell_type": "markdown",
   "id": "007d61c0",
   "metadata": {},
   "source": [
    "## Loading libraries and preparing dataframe"
   ]
  },
  {
   "cell_type": "code",
   "execution_count": 2,
   "id": "661caa07",
   "metadata": {},
   "outputs": [],
   "source": [
    "from selenium import webdriver\n",
    "from selenium.webdriver.common.by import By\n",
    "from selenium.webdriver.support.ui import WebDriverWait, Select\n",
    "from selenium.webdriver.support import expected_conditions as EC\n",
    "from selenium.common.exceptions import TimeoutException\n",
    "import pandas as pd\n",
    "import math"
   ]
  },
  {
   "cell_type": "code",
   "execution_count": 3,
   "id": "eaf9718a",
   "metadata": {},
   "outputs": [],
   "source": [
    "#Create a dataframe to store all of the scraped table data\n",
    "df = pd.DataFrame(columns = [\"Referencia\",\"Titular\",\"NIF/CIF\",\"Domicilio social\",\"Localidad\",\"Provincia\",\"C. Postal\",\n",
    "                             \"F. Concesion\",\"F. Caducidad\",\"Susceptible cesion\",\"Susceptible mutualizacion\",\n",
    "                             \"Obtenido por transferencia\"])"
   ]
  },
  {
   "cell_type": "markdown",
   "id": "409811b0",
   "metadata": {},
   "source": [
    "## Making crawler move on the website"
   ]
  },
  {
   "cell_type": "code",
   "execution_count": 4,
   "id": "0e2dc37a",
   "metadata": {},
   "outputs": [
    {
     "name": "stderr",
     "output_type": "stream",
     "text": [
      "C:\\Users\\jthoma\\AppData\\Local\\Temp\\ipykernel_6852\\1054195131.py:3: DeprecationWarning: executable_path has been deprecated, please pass in a Service object\n",
      "  driver = webdriver.Chrome('C:/Users/jthoma/Downloads/chromedriver.exe') #use path where chormedriver saved\n"
     ]
    }
   ],
   "source": [
    "# Establish chrome driver and go to report site URL\n",
    "url = \"https://sedeaplicaciones.minetur.gob.es/RPC_Consulta/FrmConsulta.aspx\"\n",
    "driver = webdriver.Chrome('C:/Users/jthoma/Downloads/chromedriver.exe') #use path where chormedriver saved\n",
    "driver.get(url)"
   ]
  },
  {
   "cell_type": "markdown",
   "id": "3966ae54",
   "metadata": {},
   "source": [
    "#Select Servicio Fijo on Registro Público\n",
    "serviciofijo_select = driver.find_element(By.XPATH,'//*[@id=\"MainContent_rblTipoServicio_1\"]')\n",
    "serviciofijo_select.click()"
   ]
  },
  {
   "cell_type": "markdown",
   "id": "a612ad81",
   "metadata": {},
   "source": [
    "## Scrapping the tables\n",
    "\n",
    "- 02 ANDALUCÍA\n",
    "- 03 ARAGÓN\n",
    "- 04 CANARIAS\n",
    "- 05 CANTABRIA\n",
    "- 06 CASTILLA Y LEÓN\n",
    "- 07 CASTILLA-LA MANCHA\n",
    "- 08 CATALUÑA\n",
    "- 09 CIUDAD AUTÓNOMA DE CEUTA\n",
    "- 10 CIUDAD AUTÓNOMA DE MELILLA\n",
    "- 11 COMUNIDAD DE MADRID\n",
    "- 12 COMUNIDAD FORAL DE NAVARRA\n",
    "- 13 COMUNITAT VALENCIANA\n",
    "- 14 EXTREMADURA\n",
    "- 15 GALICIA\n",
    "- 16 ILLES BALEARS\n",
    "- 17 LA RIOJA\n",
    "- 18 PAÍS VASCO\n",
    "- 19 PRINCIPADO DE ASTURIAS\n",
    "- 20 REGIÓN DE MURCIA"
   ]
  },
  {
   "cell_type": "code",
   "execution_count": 5,
   "id": "96dfdc51",
   "metadata": {},
   "outputs": [
    {
     "name": "stderr",
     "output_type": "stream",
     "text": [
      "C:\\Users\\jthoma\\AppData\\Local\\Temp\\ipykernel_6852\\2457786483.py:38: FutureWarning: The default dtype for empty Series will be 'object' instead of 'float64' in a future version. Specify a dtype explicitly to silence this warning.\n",
      "  a_series = pd.Series(row_list, index = df.columns)\n"
     ]
    },
    {
     "name": "stdout",
     "output_type": "stream",
     "text": [
      "Could not append: []\n"
     ]
    },
    {
     "name": "stderr",
     "output_type": "stream",
     "text": [
      "C:\\Users\\jthoma\\AppData\\Local\\Temp\\ipykernel_6852\\2457786483.py:39: FutureWarning: The frame.append method is deprecated and will be removed from pandas in a future version. Use pandas.concat instead.\n",
      "  df = df.append(a_series, ignore_index=True)\n",
      "C:\\Users\\jthoma\\AppData\\Local\\Temp\\ipykernel_6852\\2457786483.py:39: FutureWarning: The frame.append method is deprecated and will be removed from pandas in a future version. Use pandas.concat instead.\n",
      "  df = df.append(a_series, ignore_index=True)\n",
      "C:\\Users\\jthoma\\AppData\\Local\\Temp\\ipykernel_6852\\2457786483.py:39: FutureWarning: The frame.append method is deprecated and will be removed from pandas in a future version. Use pandas.concat instead.\n",
      "  df = df.append(a_series, ignore_index=True)\n",
      "C:\\Users\\jthoma\\AppData\\Local\\Temp\\ipykernel_6852\\2457786483.py:39: FutureWarning: The frame.append method is deprecated and will be removed from pandas in a future version. Use pandas.concat instead.\n",
      "  df = df.append(a_series, ignore_index=True)\n",
      "C:\\Users\\jthoma\\AppData\\Local\\Temp\\ipykernel_6852\\2457786483.py:39: FutureWarning: The frame.append method is deprecated and will be removed from pandas in a future version. Use pandas.concat instead.\n",
      "  df = df.append(a_series, ignore_index=True)\n",
      "C:\\Users\\jthoma\\AppData\\Local\\Temp\\ipykernel_6852\\2457786483.py:39: FutureWarning: The frame.append method is deprecated and will be removed from pandas in a future version. Use pandas.concat instead.\n",
      "  df = df.append(a_series, ignore_index=True)\n",
      "C:\\Users\\jthoma\\AppData\\Local\\Temp\\ipykernel_6852\\2457786483.py:39: FutureWarning: The frame.append method is deprecated and will be removed from pandas in a future version. Use pandas.concat instead.\n",
      "  df = df.append(a_series, ignore_index=True)\n",
      "C:\\Users\\jthoma\\AppData\\Local\\Temp\\ipykernel_6852\\2457786483.py:39: FutureWarning: The frame.append method is deprecated and will be removed from pandas in a future version. Use pandas.concat instead.\n",
      "  df = df.append(a_series, ignore_index=True)\n",
      "C:\\Users\\jthoma\\AppData\\Local\\Temp\\ipykernel_6852\\2457786483.py:39: FutureWarning: The frame.append method is deprecated and will be removed from pandas in a future version. Use pandas.concat instead.\n",
      "  df = df.append(a_series, ignore_index=True)\n",
      "C:\\Users\\jthoma\\AppData\\Local\\Temp\\ipykernel_6852\\2457786483.py:39: FutureWarning: The frame.append method is deprecated and will be removed from pandas in a future version. Use pandas.concat instead.\n",
      "  df = df.append(a_series, ignore_index=True)\n",
      "C:\\Users\\jthoma\\AppData\\Local\\Temp\\ipykernel_6852\\2457786483.py:39: FutureWarning: The frame.append method is deprecated and will be removed from pandas in a future version. Use pandas.concat instead.\n",
      "  df = df.append(a_series, ignore_index=True)\n"
     ]
    },
    {
     "name": "stdout",
     "output_type": "stream",
     "text": [
      "Could not append: ['1', '2', '3', '4', '5', '6', '7', '8', '9', '10', '...']\n"
     ]
    },
    {
     "name": "stderr",
     "output_type": "stream",
     "text": [
      "C:\\Users\\jthoma\\AppData\\Local\\Temp\\ipykernel_6852\\2457786483.py:38: FutureWarning: The default dtype for empty Series will be 'object' instead of 'float64' in a future version. Specify a dtype explicitly to silence this warning.\n",
      "  a_series = pd.Series(row_list, index = df.columns)\n"
     ]
    },
    {
     "name": "stdout",
     "output_type": "stream",
     "text": [
      "Could not append: []\n"
     ]
    },
    {
     "name": "stderr",
     "output_type": "stream",
     "text": [
      "C:\\Users\\jthoma\\AppData\\Local\\Temp\\ipykernel_6852\\2457786483.py:39: FutureWarning: The frame.append method is deprecated and will be removed from pandas in a future version. Use pandas.concat instead.\n",
      "  df = df.append(a_series, ignore_index=True)\n",
      "C:\\Users\\jthoma\\AppData\\Local\\Temp\\ipykernel_6852\\2457786483.py:39: FutureWarning: The frame.append method is deprecated and will be removed from pandas in a future version. Use pandas.concat instead.\n",
      "  df = df.append(a_series, ignore_index=True)\n",
      "C:\\Users\\jthoma\\AppData\\Local\\Temp\\ipykernel_6852\\2457786483.py:39: FutureWarning: The frame.append method is deprecated and will be removed from pandas in a future version. Use pandas.concat instead.\n",
      "  df = df.append(a_series, ignore_index=True)\n",
      "C:\\Users\\jthoma\\AppData\\Local\\Temp\\ipykernel_6852\\2457786483.py:39: FutureWarning: The frame.append method is deprecated and will be removed from pandas in a future version. Use pandas.concat instead.\n",
      "  df = df.append(a_series, ignore_index=True)\n",
      "C:\\Users\\jthoma\\AppData\\Local\\Temp\\ipykernel_6852\\2457786483.py:39: FutureWarning: The frame.append method is deprecated and will be removed from pandas in a future version. Use pandas.concat instead.\n",
      "  df = df.append(a_series, ignore_index=True)\n",
      "C:\\Users\\jthoma\\AppData\\Local\\Temp\\ipykernel_6852\\2457786483.py:39: FutureWarning: The frame.append method is deprecated and will be removed from pandas in a future version. Use pandas.concat instead.\n",
      "  df = df.append(a_series, ignore_index=True)\n",
      "C:\\Users\\jthoma\\AppData\\Local\\Temp\\ipykernel_6852\\2457786483.py:39: FutureWarning: The frame.append method is deprecated and will be removed from pandas in a future version. Use pandas.concat instead.\n",
      "  df = df.append(a_series, ignore_index=True)\n",
      "C:\\Users\\jthoma\\AppData\\Local\\Temp\\ipykernel_6852\\2457786483.py:39: FutureWarning: The frame.append method is deprecated and will be removed from pandas in a future version. Use pandas.concat instead.\n",
      "  df = df.append(a_series, ignore_index=True)\n",
      "C:\\Users\\jthoma\\AppData\\Local\\Temp\\ipykernel_6852\\2457786483.py:39: FutureWarning: The frame.append method is deprecated and will be removed from pandas in a future version. Use pandas.concat instead.\n",
      "  df = df.append(a_series, ignore_index=True)\n",
      "C:\\Users\\jthoma\\AppData\\Local\\Temp\\ipykernel_6852\\2457786483.py:39: FutureWarning: The frame.append method is deprecated and will be removed from pandas in a future version. Use pandas.concat instead.\n",
      "  df = df.append(a_series, ignore_index=True)\n",
      "C:\\Users\\jthoma\\AppData\\Local\\Temp\\ipykernel_6852\\2457786483.py:39: FutureWarning: The frame.append method is deprecated and will be removed from pandas in a future version. Use pandas.concat instead.\n",
      "  df = df.append(a_series, ignore_index=True)\n"
     ]
    },
    {
     "name": "stdout",
     "output_type": "stream",
     "text": [
      "Could not append: ['1', '2', '3', '4', '5', '6', '7', '8', '9', '10', '...']\n"
     ]
    },
    {
     "name": "stderr",
     "output_type": "stream",
     "text": [
      "C:\\Users\\jthoma\\AppData\\Local\\Temp\\ipykernel_6852\\2457786483.py:38: FutureWarning: The default dtype for empty Series will be 'object' instead of 'float64' in a future version. Specify a dtype explicitly to silence this warning.\n",
      "  a_series = pd.Series(row_list, index = df.columns)\n"
     ]
    },
    {
     "name": "stdout",
     "output_type": "stream",
     "text": [
      "Could not append: []\n"
     ]
    },
    {
     "name": "stderr",
     "output_type": "stream",
     "text": [
      "C:\\Users\\jthoma\\AppData\\Local\\Temp\\ipykernel_6852\\2457786483.py:39: FutureWarning: The frame.append method is deprecated and will be removed from pandas in a future version. Use pandas.concat instead.\n",
      "  df = df.append(a_series, ignore_index=True)\n",
      "C:\\Users\\jthoma\\AppData\\Local\\Temp\\ipykernel_6852\\2457786483.py:39: FutureWarning: The frame.append method is deprecated and will be removed from pandas in a future version. Use pandas.concat instead.\n",
      "  df = df.append(a_series, ignore_index=True)\n",
      "C:\\Users\\jthoma\\AppData\\Local\\Temp\\ipykernel_6852\\2457786483.py:39: FutureWarning: The frame.append method is deprecated and will be removed from pandas in a future version. Use pandas.concat instead.\n",
      "  df = df.append(a_series, ignore_index=True)\n",
      "C:\\Users\\jthoma\\AppData\\Local\\Temp\\ipykernel_6852\\2457786483.py:39: FutureWarning: The frame.append method is deprecated and will be removed from pandas in a future version. Use pandas.concat instead.\n",
      "  df = df.append(a_series, ignore_index=True)\n",
      "C:\\Users\\jthoma\\AppData\\Local\\Temp\\ipykernel_6852\\2457786483.py:39: FutureWarning: The frame.append method is deprecated and will be removed from pandas in a future version. Use pandas.concat instead.\n",
      "  df = df.append(a_series, ignore_index=True)\n",
      "C:\\Users\\jthoma\\AppData\\Local\\Temp\\ipykernel_6852\\2457786483.py:39: FutureWarning: The frame.append method is deprecated and will be removed from pandas in a future version. Use pandas.concat instead.\n",
      "  df = df.append(a_series, ignore_index=True)\n",
      "C:\\Users\\jthoma\\AppData\\Local\\Temp\\ipykernel_6852\\2457786483.py:39: FutureWarning: The frame.append method is deprecated and will be removed from pandas in a future version. Use pandas.concat instead.\n",
      "  df = df.append(a_series, ignore_index=True)\n",
      "C:\\Users\\jthoma\\AppData\\Local\\Temp\\ipykernel_6852\\2457786483.py:39: FutureWarning: The frame.append method is deprecated and will be removed from pandas in a future version. Use pandas.concat instead.\n",
      "  df = df.append(a_series, ignore_index=True)\n",
      "C:\\Users\\jthoma\\AppData\\Local\\Temp\\ipykernel_6852\\2457786483.py:39: FutureWarning: The frame.append method is deprecated and will be removed from pandas in a future version. Use pandas.concat instead.\n",
      "  df = df.append(a_series, ignore_index=True)\n",
      "C:\\Users\\jthoma\\AppData\\Local\\Temp\\ipykernel_6852\\2457786483.py:39: FutureWarning: The frame.append method is deprecated and will be removed from pandas in a future version. Use pandas.concat instead.\n",
      "  df = df.append(a_series, ignore_index=True)\n",
      "C:\\Users\\jthoma\\AppData\\Local\\Temp\\ipykernel_6852\\2457786483.py:39: FutureWarning: The frame.append method is deprecated and will be removed from pandas in a future version. Use pandas.concat instead.\n",
      "  df = df.append(a_series, ignore_index=True)\n"
     ]
    },
    {
     "name": "stdout",
     "output_type": "stream",
     "text": [
      "Could not append: ['1', '2', '3', '4', '5', '6', '7', '8', '9', '10', '...']\n"
     ]
    },
    {
     "name": "stderr",
     "output_type": "stream",
     "text": [
      "C:\\Users\\jthoma\\AppData\\Local\\Temp\\ipykernel_6852\\2457786483.py:38: FutureWarning: The default dtype for empty Series will be 'object' instead of 'float64' in a future version. Specify a dtype explicitly to silence this warning.\n",
      "  a_series = pd.Series(row_list, index = df.columns)\n"
     ]
    },
    {
     "name": "stdout",
     "output_type": "stream",
     "text": [
      "Could not append: []\n"
     ]
    },
    {
     "name": "stderr",
     "output_type": "stream",
     "text": [
      "C:\\Users\\jthoma\\AppData\\Local\\Temp\\ipykernel_6852\\2457786483.py:39: FutureWarning: The frame.append method is deprecated and will be removed from pandas in a future version. Use pandas.concat instead.\n",
      "  df = df.append(a_series, ignore_index=True)\n",
      "C:\\Users\\jthoma\\AppData\\Local\\Temp\\ipykernel_6852\\2457786483.py:39: FutureWarning: The frame.append method is deprecated and will be removed from pandas in a future version. Use pandas.concat instead.\n",
      "  df = df.append(a_series, ignore_index=True)\n",
      "C:\\Users\\jthoma\\AppData\\Local\\Temp\\ipykernel_6852\\2457786483.py:39: FutureWarning: The frame.append method is deprecated and will be removed from pandas in a future version. Use pandas.concat instead.\n",
      "  df = df.append(a_series, ignore_index=True)\n",
      "C:\\Users\\jthoma\\AppData\\Local\\Temp\\ipykernel_6852\\2457786483.py:39: FutureWarning: The frame.append method is deprecated and will be removed from pandas in a future version. Use pandas.concat instead.\n",
      "  df = df.append(a_series, ignore_index=True)\n",
      "C:\\Users\\jthoma\\AppData\\Local\\Temp\\ipykernel_6852\\2457786483.py:39: FutureWarning: The frame.append method is deprecated and will be removed from pandas in a future version. Use pandas.concat instead.\n",
      "  df = df.append(a_series, ignore_index=True)\n",
      "C:\\Users\\jthoma\\AppData\\Local\\Temp\\ipykernel_6852\\2457786483.py:39: FutureWarning: The frame.append method is deprecated and will be removed from pandas in a future version. Use pandas.concat instead.\n",
      "  df = df.append(a_series, ignore_index=True)\n",
      "C:\\Users\\jthoma\\AppData\\Local\\Temp\\ipykernel_6852\\2457786483.py:39: FutureWarning: The frame.append method is deprecated and will be removed from pandas in a future version. Use pandas.concat instead.\n",
      "  df = df.append(a_series, ignore_index=True)\n",
      "C:\\Users\\jthoma\\AppData\\Local\\Temp\\ipykernel_6852\\2457786483.py:39: FutureWarning: The frame.append method is deprecated and will be removed from pandas in a future version. Use pandas.concat instead.\n",
      "  df = df.append(a_series, ignore_index=True)\n",
      "C:\\Users\\jthoma\\AppData\\Local\\Temp\\ipykernel_6852\\2457786483.py:39: FutureWarning: The frame.append method is deprecated and will be removed from pandas in a future version. Use pandas.concat instead.\n",
      "  df = df.append(a_series, ignore_index=True)\n",
      "C:\\Users\\jthoma\\AppData\\Local\\Temp\\ipykernel_6852\\2457786483.py:39: FutureWarning: The frame.append method is deprecated and will be removed from pandas in a future version. Use pandas.concat instead.\n",
      "  df = df.append(a_series, ignore_index=True)\n",
      "C:\\Users\\jthoma\\AppData\\Local\\Temp\\ipykernel_6852\\2457786483.py:39: FutureWarning: The frame.append method is deprecated and will be removed from pandas in a future version. Use pandas.concat instead.\n",
      "  df = df.append(a_series, ignore_index=True)\n"
     ]
    },
    {
     "name": "stdout",
     "output_type": "stream",
     "text": [
      "Could not append: ['1', '2', '3', '4', '5', '6', '7', '8', '9', '10', '...']\n"
     ]
    },
    {
     "name": "stderr",
     "output_type": "stream",
     "text": [
      "C:\\Users\\jthoma\\AppData\\Local\\Temp\\ipykernel_6852\\2457786483.py:38: FutureWarning: The default dtype for empty Series will be 'object' instead of 'float64' in a future version. Specify a dtype explicitly to silence this warning.\n",
      "  a_series = pd.Series(row_list, index = df.columns)\n"
     ]
    },
    {
     "name": "stdout",
     "output_type": "stream",
     "text": [
      "Could not append: []\n"
     ]
    },
    {
     "name": "stderr",
     "output_type": "stream",
     "text": [
      "C:\\Users\\jthoma\\AppData\\Local\\Temp\\ipykernel_6852\\2457786483.py:39: FutureWarning: The frame.append method is deprecated and will be removed from pandas in a future version. Use pandas.concat instead.\n",
      "  df = df.append(a_series, ignore_index=True)\n",
      "C:\\Users\\jthoma\\AppData\\Local\\Temp\\ipykernel_6852\\2457786483.py:39: FutureWarning: The frame.append method is deprecated and will be removed from pandas in a future version. Use pandas.concat instead.\n",
      "  df = df.append(a_series, ignore_index=True)\n",
      "C:\\Users\\jthoma\\AppData\\Local\\Temp\\ipykernel_6852\\2457786483.py:39: FutureWarning: The frame.append method is deprecated and will be removed from pandas in a future version. Use pandas.concat instead.\n",
      "  df = df.append(a_series, ignore_index=True)\n",
      "C:\\Users\\jthoma\\AppData\\Local\\Temp\\ipykernel_6852\\2457786483.py:39: FutureWarning: The frame.append method is deprecated and will be removed from pandas in a future version. Use pandas.concat instead.\n",
      "  df = df.append(a_series, ignore_index=True)\n",
      "C:\\Users\\jthoma\\AppData\\Local\\Temp\\ipykernel_6852\\2457786483.py:39: FutureWarning: The frame.append method is deprecated and will be removed from pandas in a future version. Use pandas.concat instead.\n",
      "  df = df.append(a_series, ignore_index=True)\n",
      "C:\\Users\\jthoma\\AppData\\Local\\Temp\\ipykernel_6852\\2457786483.py:39: FutureWarning: The frame.append method is deprecated and will be removed from pandas in a future version. Use pandas.concat instead.\n",
      "  df = df.append(a_series, ignore_index=True)\n",
      "C:\\Users\\jthoma\\AppData\\Local\\Temp\\ipykernel_6852\\2457786483.py:39: FutureWarning: The frame.append method is deprecated and will be removed from pandas in a future version. Use pandas.concat instead.\n",
      "  df = df.append(a_series, ignore_index=True)\n",
      "C:\\Users\\jthoma\\AppData\\Local\\Temp\\ipykernel_6852\\2457786483.py:39: FutureWarning: The frame.append method is deprecated and will be removed from pandas in a future version. Use pandas.concat instead.\n",
      "  df = df.append(a_series, ignore_index=True)\n",
      "C:\\Users\\jthoma\\AppData\\Local\\Temp\\ipykernel_6852\\2457786483.py:39: FutureWarning: The frame.append method is deprecated and will be removed from pandas in a future version. Use pandas.concat instead.\n",
      "  df = df.append(a_series, ignore_index=True)\n",
      "C:\\Users\\jthoma\\AppData\\Local\\Temp\\ipykernel_6852\\2457786483.py:39: FutureWarning: The frame.append method is deprecated and will be removed from pandas in a future version. Use pandas.concat instead.\n",
      "  df = df.append(a_series, ignore_index=True)\n",
      "C:\\Users\\jthoma\\AppData\\Local\\Temp\\ipykernel_6852\\2457786483.py:39: FutureWarning: The frame.append method is deprecated and will be removed from pandas in a future version. Use pandas.concat instead.\n",
      "  df = df.append(a_series, ignore_index=True)\n"
     ]
    },
    {
     "name": "stdout",
     "output_type": "stream",
     "text": [
      "Could not append: ['1', '2', '3', '4', '5', '6', '7', '8', '9', '10', '...']\n"
     ]
    },
    {
     "name": "stderr",
     "output_type": "stream",
     "text": [
      "C:\\Users\\jthoma\\AppData\\Local\\Temp\\ipykernel_6852\\2457786483.py:38: FutureWarning: The default dtype for empty Series will be 'object' instead of 'float64' in a future version. Specify a dtype explicitly to silence this warning.\n",
      "  a_series = pd.Series(row_list, index = df.columns)\n"
     ]
    },
    {
     "name": "stdout",
     "output_type": "stream",
     "text": [
      "Could not append: []\n"
     ]
    },
    {
     "name": "stderr",
     "output_type": "stream",
     "text": [
      "C:\\Users\\jthoma\\AppData\\Local\\Temp\\ipykernel_6852\\2457786483.py:39: FutureWarning: The frame.append method is deprecated and will be removed from pandas in a future version. Use pandas.concat instead.\n",
      "  df = df.append(a_series, ignore_index=True)\n",
      "C:\\Users\\jthoma\\AppData\\Local\\Temp\\ipykernel_6852\\2457786483.py:39: FutureWarning: The frame.append method is deprecated and will be removed from pandas in a future version. Use pandas.concat instead.\n",
      "  df = df.append(a_series, ignore_index=True)\n",
      "C:\\Users\\jthoma\\AppData\\Local\\Temp\\ipykernel_6852\\2457786483.py:39: FutureWarning: The frame.append method is deprecated and will be removed from pandas in a future version. Use pandas.concat instead.\n",
      "  df = df.append(a_series, ignore_index=True)\n",
      "C:\\Users\\jthoma\\AppData\\Local\\Temp\\ipykernel_6852\\2457786483.py:39: FutureWarning: The frame.append method is deprecated and will be removed from pandas in a future version. Use pandas.concat instead.\n",
      "  df = df.append(a_series, ignore_index=True)\n",
      "C:\\Users\\jthoma\\AppData\\Local\\Temp\\ipykernel_6852\\2457786483.py:39: FutureWarning: The frame.append method is deprecated and will be removed from pandas in a future version. Use pandas.concat instead.\n",
      "  df = df.append(a_series, ignore_index=True)\n",
      "C:\\Users\\jthoma\\AppData\\Local\\Temp\\ipykernel_6852\\2457786483.py:39: FutureWarning: The frame.append method is deprecated and will be removed from pandas in a future version. Use pandas.concat instead.\n",
      "  df = df.append(a_series, ignore_index=True)\n",
      "C:\\Users\\jthoma\\AppData\\Local\\Temp\\ipykernel_6852\\2457786483.py:39: FutureWarning: The frame.append method is deprecated and will be removed from pandas in a future version. Use pandas.concat instead.\n",
      "  df = df.append(a_series, ignore_index=True)\n",
      "C:\\Users\\jthoma\\AppData\\Local\\Temp\\ipykernel_6852\\2457786483.py:39: FutureWarning: The frame.append method is deprecated and will be removed from pandas in a future version. Use pandas.concat instead.\n",
      "  df = df.append(a_series, ignore_index=True)\n",
      "C:\\Users\\jthoma\\AppData\\Local\\Temp\\ipykernel_6852\\2457786483.py:39: FutureWarning: The frame.append method is deprecated and will be removed from pandas in a future version. Use pandas.concat instead.\n",
      "  df = df.append(a_series, ignore_index=True)\n",
      "C:\\Users\\jthoma\\AppData\\Local\\Temp\\ipykernel_6852\\2457786483.py:39: FutureWarning: The frame.append method is deprecated and will be removed from pandas in a future version. Use pandas.concat instead.\n",
      "  df = df.append(a_series, ignore_index=True)\n",
      "C:\\Users\\jthoma\\AppData\\Local\\Temp\\ipykernel_6852\\2457786483.py:39: FutureWarning: The frame.append method is deprecated and will be removed from pandas in a future version. Use pandas.concat instead.\n",
      "  df = df.append(a_series, ignore_index=True)\n"
     ]
    },
    {
     "name": "stdout",
     "output_type": "stream",
     "text": [
      "Could not append: ['1', '2', '3', '4', '5', '6', '7', '8', '9', '10', '...']\n"
     ]
    },
    {
     "name": "stderr",
     "output_type": "stream",
     "text": [
      "C:\\Users\\jthoma\\AppData\\Local\\Temp\\ipykernel_6852\\2457786483.py:38: FutureWarning: The default dtype for empty Series will be 'object' instead of 'float64' in a future version. Specify a dtype explicitly to silence this warning.\n",
      "  a_series = pd.Series(row_list, index = df.columns)\n"
     ]
    },
    {
     "name": "stdout",
     "output_type": "stream",
     "text": [
      "Could not append: []\n"
     ]
    },
    {
     "name": "stderr",
     "output_type": "stream",
     "text": [
      "C:\\Users\\jthoma\\AppData\\Local\\Temp\\ipykernel_6852\\2457786483.py:39: FutureWarning: The frame.append method is deprecated and will be removed from pandas in a future version. Use pandas.concat instead.\n",
      "  df = df.append(a_series, ignore_index=True)\n",
      "C:\\Users\\jthoma\\AppData\\Local\\Temp\\ipykernel_6852\\2457786483.py:39: FutureWarning: The frame.append method is deprecated and will be removed from pandas in a future version. Use pandas.concat instead.\n",
      "  df = df.append(a_series, ignore_index=True)\n",
      "C:\\Users\\jthoma\\AppData\\Local\\Temp\\ipykernel_6852\\2457786483.py:39: FutureWarning: The frame.append method is deprecated and will be removed from pandas in a future version. Use pandas.concat instead.\n",
      "  df = df.append(a_series, ignore_index=True)\n",
      "C:\\Users\\jthoma\\AppData\\Local\\Temp\\ipykernel_6852\\2457786483.py:39: FutureWarning: The frame.append method is deprecated and will be removed from pandas in a future version. Use pandas.concat instead.\n",
      "  df = df.append(a_series, ignore_index=True)\n",
      "C:\\Users\\jthoma\\AppData\\Local\\Temp\\ipykernel_6852\\2457786483.py:39: FutureWarning: The frame.append method is deprecated and will be removed from pandas in a future version. Use pandas.concat instead.\n",
      "  df = df.append(a_series, ignore_index=True)\n",
      "C:\\Users\\jthoma\\AppData\\Local\\Temp\\ipykernel_6852\\2457786483.py:39: FutureWarning: The frame.append method is deprecated and will be removed from pandas in a future version. Use pandas.concat instead.\n",
      "  df = df.append(a_series, ignore_index=True)\n",
      "C:\\Users\\jthoma\\AppData\\Local\\Temp\\ipykernel_6852\\2457786483.py:39: FutureWarning: The frame.append method is deprecated and will be removed from pandas in a future version. Use pandas.concat instead.\n",
      "  df = df.append(a_series, ignore_index=True)\n",
      "C:\\Users\\jthoma\\AppData\\Local\\Temp\\ipykernel_6852\\2457786483.py:39: FutureWarning: The frame.append method is deprecated and will be removed from pandas in a future version. Use pandas.concat instead.\n",
      "  df = df.append(a_series, ignore_index=True)\n",
      "C:\\Users\\jthoma\\AppData\\Local\\Temp\\ipykernel_6852\\2457786483.py:39: FutureWarning: The frame.append method is deprecated and will be removed from pandas in a future version. Use pandas.concat instead.\n",
      "  df = df.append(a_series, ignore_index=True)\n",
      "C:\\Users\\jthoma\\AppData\\Local\\Temp\\ipykernel_6852\\2457786483.py:39: FutureWarning: The frame.append method is deprecated and will be removed from pandas in a future version. Use pandas.concat instead.\n",
      "  df = df.append(a_series, ignore_index=True)\n",
      "C:\\Users\\jthoma\\AppData\\Local\\Temp\\ipykernel_6852\\2457786483.py:39: FutureWarning: The frame.append method is deprecated and will be removed from pandas in a future version. Use pandas.concat instead.\n",
      "  df = df.append(a_series, ignore_index=True)\n"
     ]
    },
    {
     "name": "stdout",
     "output_type": "stream",
     "text": [
      "Could not append: ['1', '2', '3', '4', '5', '6', '7', '8', '9', '10', '...']\n"
     ]
    },
    {
     "name": "stderr",
     "output_type": "stream",
     "text": [
      "C:\\Users\\jthoma\\AppData\\Local\\Temp\\ipykernel_6852\\2457786483.py:38: FutureWarning: The default dtype for empty Series will be 'object' instead of 'float64' in a future version. Specify a dtype explicitly to silence this warning.\n",
      "  a_series = pd.Series(row_list, index = df.columns)\n"
     ]
    },
    {
     "name": "stdout",
     "output_type": "stream",
     "text": [
      "Could not append: []\n"
     ]
    },
    {
     "name": "stderr",
     "output_type": "stream",
     "text": [
      "C:\\Users\\jthoma\\AppData\\Local\\Temp\\ipykernel_6852\\2457786483.py:39: FutureWarning: The frame.append method is deprecated and will be removed from pandas in a future version. Use pandas.concat instead.\n",
      "  df = df.append(a_series, ignore_index=True)\n",
      "C:\\Users\\jthoma\\AppData\\Local\\Temp\\ipykernel_6852\\2457786483.py:39: FutureWarning: The frame.append method is deprecated and will be removed from pandas in a future version. Use pandas.concat instead.\n",
      "  df = df.append(a_series, ignore_index=True)\n",
      "C:\\Users\\jthoma\\AppData\\Local\\Temp\\ipykernel_6852\\2457786483.py:39: FutureWarning: The frame.append method is deprecated and will be removed from pandas in a future version. Use pandas.concat instead.\n",
      "  df = df.append(a_series, ignore_index=True)\n",
      "C:\\Users\\jthoma\\AppData\\Local\\Temp\\ipykernel_6852\\2457786483.py:39: FutureWarning: The frame.append method is deprecated and will be removed from pandas in a future version. Use pandas.concat instead.\n",
      "  df = df.append(a_series, ignore_index=True)\n",
      "C:\\Users\\jthoma\\AppData\\Local\\Temp\\ipykernel_6852\\2457786483.py:39: FutureWarning: The frame.append method is deprecated and will be removed from pandas in a future version. Use pandas.concat instead.\n",
      "  df = df.append(a_series, ignore_index=True)\n",
      "C:\\Users\\jthoma\\AppData\\Local\\Temp\\ipykernel_6852\\2457786483.py:39: FutureWarning: The frame.append method is deprecated and will be removed from pandas in a future version. Use pandas.concat instead.\n",
      "  df = df.append(a_series, ignore_index=True)\n",
      "C:\\Users\\jthoma\\AppData\\Local\\Temp\\ipykernel_6852\\2457786483.py:39: FutureWarning: The frame.append method is deprecated and will be removed from pandas in a future version. Use pandas.concat instead.\n",
      "  df = df.append(a_series, ignore_index=True)\n",
      "C:\\Users\\jthoma\\AppData\\Local\\Temp\\ipykernel_6852\\2457786483.py:39: FutureWarning: The frame.append method is deprecated and will be removed from pandas in a future version. Use pandas.concat instead.\n",
      "  df = df.append(a_series, ignore_index=True)\n",
      "C:\\Users\\jthoma\\AppData\\Local\\Temp\\ipykernel_6852\\2457786483.py:39: FutureWarning: The frame.append method is deprecated and will be removed from pandas in a future version. Use pandas.concat instead.\n",
      "  df = df.append(a_series, ignore_index=True)\n",
      "C:\\Users\\jthoma\\AppData\\Local\\Temp\\ipykernel_6852\\2457786483.py:39: FutureWarning: The frame.append method is deprecated and will be removed from pandas in a future version. Use pandas.concat instead.\n",
      "  df = df.append(a_series, ignore_index=True)\n",
      "C:\\Users\\jthoma\\AppData\\Local\\Temp\\ipykernel_6852\\2457786483.py:39: FutureWarning: The frame.append method is deprecated and will be removed from pandas in a future version. Use pandas.concat instead.\n",
      "  df = df.append(a_series, ignore_index=True)\n"
     ]
    },
    {
     "name": "stdout",
     "output_type": "stream",
     "text": [
      "Could not append: ['1', '2', '3', '4', '5', '6', '7', '8', '9', '10', '...']\n"
     ]
    },
    {
     "name": "stderr",
     "output_type": "stream",
     "text": [
      "C:\\Users\\jthoma\\AppData\\Local\\Temp\\ipykernel_6852\\2457786483.py:38: FutureWarning: The default dtype for empty Series will be 'object' instead of 'float64' in a future version. Specify a dtype explicitly to silence this warning.\n",
      "  a_series = pd.Series(row_list, index = df.columns)\n"
     ]
    },
    {
     "name": "stdout",
     "output_type": "stream",
     "text": [
      "Could not append: []\n"
     ]
    },
    {
     "name": "stderr",
     "output_type": "stream",
     "text": [
      "C:\\Users\\jthoma\\AppData\\Local\\Temp\\ipykernel_6852\\2457786483.py:39: FutureWarning: The frame.append method is deprecated and will be removed from pandas in a future version. Use pandas.concat instead.\n",
      "  df = df.append(a_series, ignore_index=True)\n",
      "C:\\Users\\jthoma\\AppData\\Local\\Temp\\ipykernel_6852\\2457786483.py:39: FutureWarning: The frame.append method is deprecated and will be removed from pandas in a future version. Use pandas.concat instead.\n",
      "  df = df.append(a_series, ignore_index=True)\n",
      "C:\\Users\\jthoma\\AppData\\Local\\Temp\\ipykernel_6852\\2457786483.py:39: FutureWarning: The frame.append method is deprecated and will be removed from pandas in a future version. Use pandas.concat instead.\n",
      "  df = df.append(a_series, ignore_index=True)\n",
      "C:\\Users\\jthoma\\AppData\\Local\\Temp\\ipykernel_6852\\2457786483.py:39: FutureWarning: The frame.append method is deprecated and will be removed from pandas in a future version. Use pandas.concat instead.\n",
      "  df = df.append(a_series, ignore_index=True)\n",
      "C:\\Users\\jthoma\\AppData\\Local\\Temp\\ipykernel_6852\\2457786483.py:39: FutureWarning: The frame.append method is deprecated and will be removed from pandas in a future version. Use pandas.concat instead.\n",
      "  df = df.append(a_series, ignore_index=True)\n",
      "C:\\Users\\jthoma\\AppData\\Local\\Temp\\ipykernel_6852\\2457786483.py:39: FutureWarning: The frame.append method is deprecated and will be removed from pandas in a future version. Use pandas.concat instead.\n",
      "  df = df.append(a_series, ignore_index=True)\n",
      "C:\\Users\\jthoma\\AppData\\Local\\Temp\\ipykernel_6852\\2457786483.py:39: FutureWarning: The frame.append method is deprecated and will be removed from pandas in a future version. Use pandas.concat instead.\n",
      "  df = df.append(a_series, ignore_index=True)\n",
      "C:\\Users\\jthoma\\AppData\\Local\\Temp\\ipykernel_6852\\2457786483.py:39: FutureWarning: The frame.append method is deprecated and will be removed from pandas in a future version. Use pandas.concat instead.\n",
      "  df = df.append(a_series, ignore_index=True)\n",
      "C:\\Users\\jthoma\\AppData\\Local\\Temp\\ipykernel_6852\\2457786483.py:39: FutureWarning: The frame.append method is deprecated and will be removed from pandas in a future version. Use pandas.concat instead.\n",
      "  df = df.append(a_series, ignore_index=True)\n",
      "C:\\Users\\jthoma\\AppData\\Local\\Temp\\ipykernel_6852\\2457786483.py:39: FutureWarning: The frame.append method is deprecated and will be removed from pandas in a future version. Use pandas.concat instead.\n",
      "  df = df.append(a_series, ignore_index=True)\n",
      "C:\\Users\\jthoma\\AppData\\Local\\Temp\\ipykernel_6852\\2457786483.py:39: FutureWarning: The frame.append method is deprecated and will be removed from pandas in a future version. Use pandas.concat instead.\n",
      "  df = df.append(a_series, ignore_index=True)\n"
     ]
    },
    {
     "name": "stdout",
     "output_type": "stream",
     "text": [
      "Could not append: ['1', '2', '3', '4', '5', '6', '7', '8', '9', '10', '...']\n"
     ]
    },
    {
     "name": "stderr",
     "output_type": "stream",
     "text": [
      "C:\\Users\\jthoma\\AppData\\Local\\Temp\\ipykernel_6852\\2457786483.py:38: FutureWarning: The default dtype for empty Series will be 'object' instead of 'float64' in a future version. Specify a dtype explicitly to silence this warning.\n",
      "  a_series = pd.Series(row_list, index = df.columns)\n"
     ]
    },
    {
     "name": "stdout",
     "output_type": "stream",
     "text": [
      "Could not append: []\n"
     ]
    },
    {
     "name": "stderr",
     "output_type": "stream",
     "text": [
      "C:\\Users\\jthoma\\AppData\\Local\\Temp\\ipykernel_6852\\2457786483.py:39: FutureWarning: The frame.append method is deprecated and will be removed from pandas in a future version. Use pandas.concat instead.\n",
      "  df = df.append(a_series, ignore_index=True)\n",
      "C:\\Users\\jthoma\\AppData\\Local\\Temp\\ipykernel_6852\\2457786483.py:39: FutureWarning: The frame.append method is deprecated and will be removed from pandas in a future version. Use pandas.concat instead.\n",
      "  df = df.append(a_series, ignore_index=True)\n",
      "C:\\Users\\jthoma\\AppData\\Local\\Temp\\ipykernel_6852\\2457786483.py:39: FutureWarning: The frame.append method is deprecated and will be removed from pandas in a future version. Use pandas.concat instead.\n",
      "  df = df.append(a_series, ignore_index=True)\n",
      "C:\\Users\\jthoma\\AppData\\Local\\Temp\\ipykernel_6852\\2457786483.py:39: FutureWarning: The frame.append method is deprecated and will be removed from pandas in a future version. Use pandas.concat instead.\n",
      "  df = df.append(a_series, ignore_index=True)\n",
      "C:\\Users\\jthoma\\AppData\\Local\\Temp\\ipykernel_6852\\2457786483.py:39: FutureWarning: The frame.append method is deprecated and will be removed from pandas in a future version. Use pandas.concat instead.\n",
      "  df = df.append(a_series, ignore_index=True)\n",
      "C:\\Users\\jthoma\\AppData\\Local\\Temp\\ipykernel_6852\\2457786483.py:39: FutureWarning: The frame.append method is deprecated and will be removed from pandas in a future version. Use pandas.concat instead.\n",
      "  df = df.append(a_series, ignore_index=True)\n",
      "C:\\Users\\jthoma\\AppData\\Local\\Temp\\ipykernel_6852\\2457786483.py:39: FutureWarning: The frame.append method is deprecated and will be removed from pandas in a future version. Use pandas.concat instead.\n",
      "  df = df.append(a_series, ignore_index=True)\n",
      "C:\\Users\\jthoma\\AppData\\Local\\Temp\\ipykernel_6852\\2457786483.py:39: FutureWarning: The frame.append method is deprecated and will be removed from pandas in a future version. Use pandas.concat instead.\n",
      "  df = df.append(a_series, ignore_index=True)\n",
      "C:\\Users\\jthoma\\AppData\\Local\\Temp\\ipykernel_6852\\2457786483.py:39: FutureWarning: The frame.append method is deprecated and will be removed from pandas in a future version. Use pandas.concat instead.\n",
      "  df = df.append(a_series, ignore_index=True)\n",
      "C:\\Users\\jthoma\\AppData\\Local\\Temp\\ipykernel_6852\\2457786483.py:39: FutureWarning: The frame.append method is deprecated and will be removed from pandas in a future version. Use pandas.concat instead.\n",
      "  df = df.append(a_series, ignore_index=True)\n",
      "C:\\Users\\jthoma\\AppData\\Local\\Temp\\ipykernel_6852\\2457786483.py:39: FutureWarning: The frame.append method is deprecated and will be removed from pandas in a future version. Use pandas.concat instead.\n",
      "  df = df.append(a_series, ignore_index=True)\n"
     ]
    },
    {
     "name": "stdout",
     "output_type": "stream",
     "text": [
      "Could not append: ['1', '2', '3', '4', '5', '6', '7', '8', '9', '10', '...']\n"
     ]
    },
    {
     "name": "stderr",
     "output_type": "stream",
     "text": [
      "C:\\Users\\jthoma\\AppData\\Local\\Temp\\ipykernel_6852\\2457786483.py:38: FutureWarning: The default dtype for empty Series will be 'object' instead of 'float64' in a future version. Specify a dtype explicitly to silence this warning.\n",
      "  a_series = pd.Series(row_list, index = df.columns)\n"
     ]
    },
    {
     "name": "stdout",
     "output_type": "stream",
     "text": [
      "Could not append: []\n"
     ]
    },
    {
     "name": "stderr",
     "output_type": "stream",
     "text": [
      "C:\\Users\\jthoma\\AppData\\Local\\Temp\\ipykernel_6852\\2457786483.py:39: FutureWarning: The frame.append method is deprecated and will be removed from pandas in a future version. Use pandas.concat instead.\n",
      "  df = df.append(a_series, ignore_index=True)\n",
      "C:\\Users\\jthoma\\AppData\\Local\\Temp\\ipykernel_6852\\2457786483.py:39: FutureWarning: The frame.append method is deprecated and will be removed from pandas in a future version. Use pandas.concat instead.\n",
      "  df = df.append(a_series, ignore_index=True)\n",
      "C:\\Users\\jthoma\\AppData\\Local\\Temp\\ipykernel_6852\\2457786483.py:39: FutureWarning: The frame.append method is deprecated and will be removed from pandas in a future version. Use pandas.concat instead.\n",
      "  df = df.append(a_series, ignore_index=True)\n",
      "C:\\Users\\jthoma\\AppData\\Local\\Temp\\ipykernel_6852\\2457786483.py:39: FutureWarning: The frame.append method is deprecated and will be removed from pandas in a future version. Use pandas.concat instead.\n",
      "  df = df.append(a_series, ignore_index=True)\n",
      "C:\\Users\\jthoma\\AppData\\Local\\Temp\\ipykernel_6852\\2457786483.py:39: FutureWarning: The frame.append method is deprecated and will be removed from pandas in a future version. Use pandas.concat instead.\n",
      "  df = df.append(a_series, ignore_index=True)\n",
      "C:\\Users\\jthoma\\AppData\\Local\\Temp\\ipykernel_6852\\2457786483.py:39: FutureWarning: The frame.append method is deprecated and will be removed from pandas in a future version. Use pandas.concat instead.\n",
      "  df = df.append(a_series, ignore_index=True)\n",
      "C:\\Users\\jthoma\\AppData\\Local\\Temp\\ipykernel_6852\\2457786483.py:39: FutureWarning: The frame.append method is deprecated and will be removed from pandas in a future version. Use pandas.concat instead.\n",
      "  df = df.append(a_series, ignore_index=True)\n",
      "C:\\Users\\jthoma\\AppData\\Local\\Temp\\ipykernel_6852\\2457786483.py:39: FutureWarning: The frame.append method is deprecated and will be removed from pandas in a future version. Use pandas.concat instead.\n",
      "  df = df.append(a_series, ignore_index=True)\n",
      "C:\\Users\\jthoma\\AppData\\Local\\Temp\\ipykernel_6852\\2457786483.py:39: FutureWarning: The frame.append method is deprecated and will be removed from pandas in a future version. Use pandas.concat instead.\n",
      "  df = df.append(a_series, ignore_index=True)\n",
      "C:\\Users\\jthoma\\AppData\\Local\\Temp\\ipykernel_6852\\2457786483.py:39: FutureWarning: The frame.append method is deprecated and will be removed from pandas in a future version. Use pandas.concat instead.\n",
      "  df = df.append(a_series, ignore_index=True)\n"
     ]
    },
    {
     "name": "stdout",
     "output_type": "stream",
     "text": [
      "Could not append: ['... 11 12 13 14 15 16 17 18 19 20 ...', '...', '11', '12', '13', '14', '15', '16', '17', '18', '19', '20', '...']\n"
     ]
    },
    {
     "name": "stderr",
     "output_type": "stream",
     "text": [
      "C:\\Users\\jthoma\\AppData\\Local\\Temp\\ipykernel_6852\\2457786483.py:39: FutureWarning: The frame.append method is deprecated and will be removed from pandas in a future version. Use pandas.concat instead.\n",
      "  df = df.append(a_series, ignore_index=True)\n",
      "C:\\Users\\jthoma\\AppData\\Local\\Temp\\ipykernel_6852\\2457786483.py:38: FutureWarning: The default dtype for empty Series will be 'object' instead of 'float64' in a future version. Specify a dtype explicitly to silence this warning.\n",
      "  a_series = pd.Series(row_list, index = df.columns)\n"
     ]
    },
    {
     "name": "stdout",
     "output_type": "stream",
     "text": [
      "Could not append: []\n"
     ]
    },
    {
     "name": "stderr",
     "output_type": "stream",
     "text": [
      "C:\\Users\\jthoma\\AppData\\Local\\Temp\\ipykernel_6852\\2457786483.py:39: FutureWarning: The frame.append method is deprecated and will be removed from pandas in a future version. Use pandas.concat instead.\n",
      "  df = df.append(a_series, ignore_index=True)\n",
      "C:\\Users\\jthoma\\AppData\\Local\\Temp\\ipykernel_6852\\2457786483.py:39: FutureWarning: The frame.append method is deprecated and will be removed from pandas in a future version. Use pandas.concat instead.\n",
      "  df = df.append(a_series, ignore_index=True)\n",
      "C:\\Users\\jthoma\\AppData\\Local\\Temp\\ipykernel_6852\\2457786483.py:39: FutureWarning: The frame.append method is deprecated and will be removed from pandas in a future version. Use pandas.concat instead.\n",
      "  df = df.append(a_series, ignore_index=True)\n",
      "C:\\Users\\jthoma\\AppData\\Local\\Temp\\ipykernel_6852\\2457786483.py:39: FutureWarning: The frame.append method is deprecated and will be removed from pandas in a future version. Use pandas.concat instead.\n",
      "  df = df.append(a_series, ignore_index=True)\n",
      "C:\\Users\\jthoma\\AppData\\Local\\Temp\\ipykernel_6852\\2457786483.py:39: FutureWarning: The frame.append method is deprecated and will be removed from pandas in a future version. Use pandas.concat instead.\n",
      "  df = df.append(a_series, ignore_index=True)\n",
      "C:\\Users\\jthoma\\AppData\\Local\\Temp\\ipykernel_6852\\2457786483.py:39: FutureWarning: The frame.append method is deprecated and will be removed from pandas in a future version. Use pandas.concat instead.\n",
      "  df = df.append(a_series, ignore_index=True)\n",
      "C:\\Users\\jthoma\\AppData\\Local\\Temp\\ipykernel_6852\\2457786483.py:39: FutureWarning: The frame.append method is deprecated and will be removed from pandas in a future version. Use pandas.concat instead.\n",
      "  df = df.append(a_series, ignore_index=True)\n",
      "C:\\Users\\jthoma\\AppData\\Local\\Temp\\ipykernel_6852\\2457786483.py:39: FutureWarning: The frame.append method is deprecated and will be removed from pandas in a future version. Use pandas.concat instead.\n",
      "  df = df.append(a_series, ignore_index=True)\n",
      "C:\\Users\\jthoma\\AppData\\Local\\Temp\\ipykernel_6852\\2457786483.py:39: FutureWarning: The frame.append method is deprecated and will be removed from pandas in a future version. Use pandas.concat instead.\n",
      "  df = df.append(a_series, ignore_index=True)\n",
      "C:\\Users\\jthoma\\AppData\\Local\\Temp\\ipykernel_6852\\2457786483.py:39: FutureWarning: The frame.append method is deprecated and will be removed from pandas in a future version. Use pandas.concat instead.\n",
      "  df = df.append(a_series, ignore_index=True)\n"
     ]
    },
    {
     "name": "stdout",
     "output_type": "stream",
     "text": [
      "Could not append: ['... 11 12 13 14 15 16 17 18 19 20 ...', '...', '11', '12', '13', '14', '15', '16', '17', '18', '19', '20', '...']\n"
     ]
    },
    {
     "name": "stderr",
     "output_type": "stream",
     "text": [
      "C:\\Users\\jthoma\\AppData\\Local\\Temp\\ipykernel_6852\\2457786483.py:39: FutureWarning: The frame.append method is deprecated and will be removed from pandas in a future version. Use pandas.concat instead.\n",
      "  df = df.append(a_series, ignore_index=True)\n",
      "C:\\Users\\jthoma\\AppData\\Local\\Temp\\ipykernel_6852\\2457786483.py:38: FutureWarning: The default dtype for empty Series will be 'object' instead of 'float64' in a future version. Specify a dtype explicitly to silence this warning.\n",
      "  a_series = pd.Series(row_list, index = df.columns)\n"
     ]
    },
    {
     "name": "stdout",
     "output_type": "stream",
     "text": [
      "Could not append: []\n"
     ]
    },
    {
     "name": "stderr",
     "output_type": "stream",
     "text": [
      "C:\\Users\\jthoma\\AppData\\Local\\Temp\\ipykernel_6852\\2457786483.py:39: FutureWarning: The frame.append method is deprecated and will be removed from pandas in a future version. Use pandas.concat instead.\n",
      "  df = df.append(a_series, ignore_index=True)\n",
      "C:\\Users\\jthoma\\AppData\\Local\\Temp\\ipykernel_6852\\2457786483.py:39: FutureWarning: The frame.append method is deprecated and will be removed from pandas in a future version. Use pandas.concat instead.\n",
      "  df = df.append(a_series, ignore_index=True)\n",
      "C:\\Users\\jthoma\\AppData\\Local\\Temp\\ipykernel_6852\\2457786483.py:39: FutureWarning: The frame.append method is deprecated and will be removed from pandas in a future version. Use pandas.concat instead.\n",
      "  df = df.append(a_series, ignore_index=True)\n",
      "C:\\Users\\jthoma\\AppData\\Local\\Temp\\ipykernel_6852\\2457786483.py:39: FutureWarning: The frame.append method is deprecated and will be removed from pandas in a future version. Use pandas.concat instead.\n",
      "  df = df.append(a_series, ignore_index=True)\n",
      "C:\\Users\\jthoma\\AppData\\Local\\Temp\\ipykernel_6852\\2457786483.py:39: FutureWarning: The frame.append method is deprecated and will be removed from pandas in a future version. Use pandas.concat instead.\n",
      "  df = df.append(a_series, ignore_index=True)\n",
      "C:\\Users\\jthoma\\AppData\\Local\\Temp\\ipykernel_6852\\2457786483.py:39: FutureWarning: The frame.append method is deprecated and will be removed from pandas in a future version. Use pandas.concat instead.\n",
      "  df = df.append(a_series, ignore_index=True)\n",
      "C:\\Users\\jthoma\\AppData\\Local\\Temp\\ipykernel_6852\\2457786483.py:39: FutureWarning: The frame.append method is deprecated and will be removed from pandas in a future version. Use pandas.concat instead.\n",
      "  df = df.append(a_series, ignore_index=True)\n",
      "C:\\Users\\jthoma\\AppData\\Local\\Temp\\ipykernel_6852\\2457786483.py:39: FutureWarning: The frame.append method is deprecated and will be removed from pandas in a future version. Use pandas.concat instead.\n",
      "  df = df.append(a_series, ignore_index=True)\n",
      "C:\\Users\\jthoma\\AppData\\Local\\Temp\\ipykernel_6852\\2457786483.py:39: FutureWarning: The frame.append method is deprecated and will be removed from pandas in a future version. Use pandas.concat instead.\n",
      "  df = df.append(a_series, ignore_index=True)\n",
      "C:\\Users\\jthoma\\AppData\\Local\\Temp\\ipykernel_6852\\2457786483.py:39: FutureWarning: The frame.append method is deprecated and will be removed from pandas in a future version. Use pandas.concat instead.\n",
      "  df = df.append(a_series, ignore_index=True)\n"
     ]
    },
    {
     "name": "stdout",
     "output_type": "stream",
     "text": [
      "Could not append: ['... 11 12 13 14 15 16 17 18 19 20 ...', '...', '11', '12', '13', '14', '15', '16', '17', '18', '19', '20', '...']\n"
     ]
    },
    {
     "name": "stderr",
     "output_type": "stream",
     "text": [
      "C:\\Users\\jthoma\\AppData\\Local\\Temp\\ipykernel_6852\\2457786483.py:39: FutureWarning: The frame.append method is deprecated and will be removed from pandas in a future version. Use pandas.concat instead.\n",
      "  df = df.append(a_series, ignore_index=True)\n",
      "C:\\Users\\jthoma\\AppData\\Local\\Temp\\ipykernel_6852\\2457786483.py:38: FutureWarning: The default dtype for empty Series will be 'object' instead of 'float64' in a future version. Specify a dtype explicitly to silence this warning.\n",
      "  a_series = pd.Series(row_list, index = df.columns)\n"
     ]
    },
    {
     "name": "stdout",
     "output_type": "stream",
     "text": [
      "Could not append: []\n"
     ]
    },
    {
     "name": "stderr",
     "output_type": "stream",
     "text": [
      "C:\\Users\\jthoma\\AppData\\Local\\Temp\\ipykernel_6852\\2457786483.py:39: FutureWarning: The frame.append method is deprecated and will be removed from pandas in a future version. Use pandas.concat instead.\n",
      "  df = df.append(a_series, ignore_index=True)\n",
      "C:\\Users\\jthoma\\AppData\\Local\\Temp\\ipykernel_6852\\2457786483.py:39: FutureWarning: The frame.append method is deprecated and will be removed from pandas in a future version. Use pandas.concat instead.\n",
      "  df = df.append(a_series, ignore_index=True)\n",
      "C:\\Users\\jthoma\\AppData\\Local\\Temp\\ipykernel_6852\\2457786483.py:39: FutureWarning: The frame.append method is deprecated and will be removed from pandas in a future version. Use pandas.concat instead.\n",
      "  df = df.append(a_series, ignore_index=True)\n",
      "C:\\Users\\jthoma\\AppData\\Local\\Temp\\ipykernel_6852\\2457786483.py:39: FutureWarning: The frame.append method is deprecated and will be removed from pandas in a future version. Use pandas.concat instead.\n",
      "  df = df.append(a_series, ignore_index=True)\n",
      "C:\\Users\\jthoma\\AppData\\Local\\Temp\\ipykernel_6852\\2457786483.py:39: FutureWarning: The frame.append method is deprecated and will be removed from pandas in a future version. Use pandas.concat instead.\n",
      "  df = df.append(a_series, ignore_index=True)\n",
      "C:\\Users\\jthoma\\AppData\\Local\\Temp\\ipykernel_6852\\2457786483.py:39: FutureWarning: The frame.append method is deprecated and will be removed from pandas in a future version. Use pandas.concat instead.\n",
      "  df = df.append(a_series, ignore_index=True)\n",
      "C:\\Users\\jthoma\\AppData\\Local\\Temp\\ipykernel_6852\\2457786483.py:39: FutureWarning: The frame.append method is deprecated and will be removed from pandas in a future version. Use pandas.concat instead.\n",
      "  df = df.append(a_series, ignore_index=True)\n",
      "C:\\Users\\jthoma\\AppData\\Local\\Temp\\ipykernel_6852\\2457786483.py:39: FutureWarning: The frame.append method is deprecated and will be removed from pandas in a future version. Use pandas.concat instead.\n",
      "  df = df.append(a_series, ignore_index=True)\n",
      "C:\\Users\\jthoma\\AppData\\Local\\Temp\\ipykernel_6852\\2457786483.py:39: FutureWarning: The frame.append method is deprecated and will be removed from pandas in a future version. Use pandas.concat instead.\n",
      "  df = df.append(a_series, ignore_index=True)\n",
      "C:\\Users\\jthoma\\AppData\\Local\\Temp\\ipykernel_6852\\2457786483.py:39: FutureWarning: The frame.append method is deprecated and will be removed from pandas in a future version. Use pandas.concat instead.\n",
      "  df = df.append(a_series, ignore_index=True)\n"
     ]
    },
    {
     "name": "stdout",
     "output_type": "stream",
     "text": [
      "Could not append: ['... 11 12 13 14 15 16 17 18 19 20 ...', '...', '11', '12', '13', '14', '15', '16', '17', '18', '19', '20', '...']\n"
     ]
    },
    {
     "name": "stderr",
     "output_type": "stream",
     "text": [
      "C:\\Users\\jthoma\\AppData\\Local\\Temp\\ipykernel_6852\\2457786483.py:39: FutureWarning: The frame.append method is deprecated and will be removed from pandas in a future version. Use pandas.concat instead.\n",
      "  df = df.append(a_series, ignore_index=True)\n",
      "C:\\Users\\jthoma\\AppData\\Local\\Temp\\ipykernel_6852\\2457786483.py:38: FutureWarning: The default dtype for empty Series will be 'object' instead of 'float64' in a future version. Specify a dtype explicitly to silence this warning.\n",
      "  a_series = pd.Series(row_list, index = df.columns)\n"
     ]
    },
    {
     "name": "stdout",
     "output_type": "stream",
     "text": [
      "Could not append: []\n"
     ]
    },
    {
     "name": "stderr",
     "output_type": "stream",
     "text": [
      "C:\\Users\\jthoma\\AppData\\Local\\Temp\\ipykernel_6852\\2457786483.py:39: FutureWarning: The frame.append method is deprecated and will be removed from pandas in a future version. Use pandas.concat instead.\n",
      "  df = df.append(a_series, ignore_index=True)\n",
      "C:\\Users\\jthoma\\AppData\\Local\\Temp\\ipykernel_6852\\2457786483.py:39: FutureWarning: The frame.append method is deprecated and will be removed from pandas in a future version. Use pandas.concat instead.\n",
      "  df = df.append(a_series, ignore_index=True)\n",
      "C:\\Users\\jthoma\\AppData\\Local\\Temp\\ipykernel_6852\\2457786483.py:39: FutureWarning: The frame.append method is deprecated and will be removed from pandas in a future version. Use pandas.concat instead.\n",
      "  df = df.append(a_series, ignore_index=True)\n",
      "C:\\Users\\jthoma\\AppData\\Local\\Temp\\ipykernel_6852\\2457786483.py:39: FutureWarning: The frame.append method is deprecated and will be removed from pandas in a future version. Use pandas.concat instead.\n",
      "  df = df.append(a_series, ignore_index=True)\n",
      "C:\\Users\\jthoma\\AppData\\Local\\Temp\\ipykernel_6852\\2457786483.py:39: FutureWarning: The frame.append method is deprecated and will be removed from pandas in a future version. Use pandas.concat instead.\n",
      "  df = df.append(a_series, ignore_index=True)\n",
      "C:\\Users\\jthoma\\AppData\\Local\\Temp\\ipykernel_6852\\2457786483.py:39: FutureWarning: The frame.append method is deprecated and will be removed from pandas in a future version. Use pandas.concat instead.\n",
      "  df = df.append(a_series, ignore_index=True)\n",
      "C:\\Users\\jthoma\\AppData\\Local\\Temp\\ipykernel_6852\\2457786483.py:39: FutureWarning: The frame.append method is deprecated and will be removed from pandas in a future version. Use pandas.concat instead.\n",
      "  df = df.append(a_series, ignore_index=True)\n",
      "C:\\Users\\jthoma\\AppData\\Local\\Temp\\ipykernel_6852\\2457786483.py:39: FutureWarning: The frame.append method is deprecated and will be removed from pandas in a future version. Use pandas.concat instead.\n",
      "  df = df.append(a_series, ignore_index=True)\n",
      "C:\\Users\\jthoma\\AppData\\Local\\Temp\\ipykernel_6852\\2457786483.py:39: FutureWarning: The frame.append method is deprecated and will be removed from pandas in a future version. Use pandas.concat instead.\n",
      "  df = df.append(a_series, ignore_index=True)\n",
      "C:\\Users\\jthoma\\AppData\\Local\\Temp\\ipykernel_6852\\2457786483.py:39: FutureWarning: The frame.append method is deprecated and will be removed from pandas in a future version. Use pandas.concat instead.\n",
      "  df = df.append(a_series, ignore_index=True)\n"
     ]
    },
    {
     "name": "stdout",
     "output_type": "stream",
     "text": [
      "Could not append: ['... 11 12 13 14 15 16 17 18 19 20 ...', '...', '11', '12', '13', '14', '15', '16', '17', '18', '19', '20', '...']\n"
     ]
    },
    {
     "name": "stderr",
     "output_type": "stream",
     "text": [
      "C:\\Users\\jthoma\\AppData\\Local\\Temp\\ipykernel_6852\\2457786483.py:39: FutureWarning: The frame.append method is deprecated and will be removed from pandas in a future version. Use pandas.concat instead.\n",
      "  df = df.append(a_series, ignore_index=True)\n",
      "C:\\Users\\jthoma\\AppData\\Local\\Temp\\ipykernel_6852\\2457786483.py:38: FutureWarning: The default dtype for empty Series will be 'object' instead of 'float64' in a future version. Specify a dtype explicitly to silence this warning.\n",
      "  a_series = pd.Series(row_list, index = df.columns)\n"
     ]
    },
    {
     "name": "stdout",
     "output_type": "stream",
     "text": [
      "Could not append: []\n"
     ]
    },
    {
     "name": "stderr",
     "output_type": "stream",
     "text": [
      "C:\\Users\\jthoma\\AppData\\Local\\Temp\\ipykernel_6852\\2457786483.py:39: FutureWarning: The frame.append method is deprecated and will be removed from pandas in a future version. Use pandas.concat instead.\n",
      "  df = df.append(a_series, ignore_index=True)\n",
      "C:\\Users\\jthoma\\AppData\\Local\\Temp\\ipykernel_6852\\2457786483.py:39: FutureWarning: The frame.append method is deprecated and will be removed from pandas in a future version. Use pandas.concat instead.\n",
      "  df = df.append(a_series, ignore_index=True)\n",
      "C:\\Users\\jthoma\\AppData\\Local\\Temp\\ipykernel_6852\\2457786483.py:39: FutureWarning: The frame.append method is deprecated and will be removed from pandas in a future version. Use pandas.concat instead.\n",
      "  df = df.append(a_series, ignore_index=True)\n",
      "C:\\Users\\jthoma\\AppData\\Local\\Temp\\ipykernel_6852\\2457786483.py:39: FutureWarning: The frame.append method is deprecated and will be removed from pandas in a future version. Use pandas.concat instead.\n",
      "  df = df.append(a_series, ignore_index=True)\n",
      "C:\\Users\\jthoma\\AppData\\Local\\Temp\\ipykernel_6852\\2457786483.py:39: FutureWarning: The frame.append method is deprecated and will be removed from pandas in a future version. Use pandas.concat instead.\n",
      "  df = df.append(a_series, ignore_index=True)\n",
      "C:\\Users\\jthoma\\AppData\\Local\\Temp\\ipykernel_6852\\2457786483.py:39: FutureWarning: The frame.append method is deprecated and will be removed from pandas in a future version. Use pandas.concat instead.\n",
      "  df = df.append(a_series, ignore_index=True)\n",
      "C:\\Users\\jthoma\\AppData\\Local\\Temp\\ipykernel_6852\\2457786483.py:39: FutureWarning: The frame.append method is deprecated and will be removed from pandas in a future version. Use pandas.concat instead.\n",
      "  df = df.append(a_series, ignore_index=True)\n",
      "C:\\Users\\jthoma\\AppData\\Local\\Temp\\ipykernel_6852\\2457786483.py:39: FutureWarning: The frame.append method is deprecated and will be removed from pandas in a future version. Use pandas.concat instead.\n",
      "  df = df.append(a_series, ignore_index=True)\n",
      "C:\\Users\\jthoma\\AppData\\Local\\Temp\\ipykernel_6852\\2457786483.py:39: FutureWarning: The frame.append method is deprecated and will be removed from pandas in a future version. Use pandas.concat instead.\n",
      "  df = df.append(a_series, ignore_index=True)\n",
      "C:\\Users\\jthoma\\AppData\\Local\\Temp\\ipykernel_6852\\2457786483.py:39: FutureWarning: The frame.append method is deprecated and will be removed from pandas in a future version. Use pandas.concat instead.\n",
      "  df = df.append(a_series, ignore_index=True)\n"
     ]
    },
    {
     "name": "stdout",
     "output_type": "stream",
     "text": [
      "Could not append: ['... 11 12 13 14 15 16 17 18 19 20 ...', '...', '11', '12', '13', '14', '15', '16', '17', '18', '19', '20', '...']\n"
     ]
    },
    {
     "name": "stderr",
     "output_type": "stream",
     "text": [
      "C:\\Users\\jthoma\\AppData\\Local\\Temp\\ipykernel_6852\\2457786483.py:39: FutureWarning: The frame.append method is deprecated and will be removed from pandas in a future version. Use pandas.concat instead.\n",
      "  df = df.append(a_series, ignore_index=True)\n",
      "C:\\Users\\jthoma\\AppData\\Local\\Temp\\ipykernel_6852\\2457786483.py:38: FutureWarning: The default dtype for empty Series will be 'object' instead of 'float64' in a future version. Specify a dtype explicitly to silence this warning.\n",
      "  a_series = pd.Series(row_list, index = df.columns)\n"
     ]
    },
    {
     "name": "stdout",
     "output_type": "stream",
     "text": [
      "Could not append: []\n"
     ]
    },
    {
     "name": "stderr",
     "output_type": "stream",
     "text": [
      "C:\\Users\\jthoma\\AppData\\Local\\Temp\\ipykernel_6852\\2457786483.py:39: FutureWarning: The frame.append method is deprecated and will be removed from pandas in a future version. Use pandas.concat instead.\n",
      "  df = df.append(a_series, ignore_index=True)\n",
      "C:\\Users\\jthoma\\AppData\\Local\\Temp\\ipykernel_6852\\2457786483.py:39: FutureWarning: The frame.append method is deprecated and will be removed from pandas in a future version. Use pandas.concat instead.\n",
      "  df = df.append(a_series, ignore_index=True)\n",
      "C:\\Users\\jthoma\\AppData\\Local\\Temp\\ipykernel_6852\\2457786483.py:39: FutureWarning: The frame.append method is deprecated and will be removed from pandas in a future version. Use pandas.concat instead.\n",
      "  df = df.append(a_series, ignore_index=True)\n",
      "C:\\Users\\jthoma\\AppData\\Local\\Temp\\ipykernel_6852\\2457786483.py:39: FutureWarning: The frame.append method is deprecated and will be removed from pandas in a future version. Use pandas.concat instead.\n",
      "  df = df.append(a_series, ignore_index=True)\n",
      "C:\\Users\\jthoma\\AppData\\Local\\Temp\\ipykernel_6852\\2457786483.py:39: FutureWarning: The frame.append method is deprecated and will be removed from pandas in a future version. Use pandas.concat instead.\n",
      "  df = df.append(a_series, ignore_index=True)\n",
      "C:\\Users\\jthoma\\AppData\\Local\\Temp\\ipykernel_6852\\2457786483.py:39: FutureWarning: The frame.append method is deprecated and will be removed from pandas in a future version. Use pandas.concat instead.\n",
      "  df = df.append(a_series, ignore_index=True)\n",
      "C:\\Users\\jthoma\\AppData\\Local\\Temp\\ipykernel_6852\\2457786483.py:39: FutureWarning: The frame.append method is deprecated and will be removed from pandas in a future version. Use pandas.concat instead.\n",
      "  df = df.append(a_series, ignore_index=True)\n",
      "C:\\Users\\jthoma\\AppData\\Local\\Temp\\ipykernel_6852\\2457786483.py:39: FutureWarning: The frame.append method is deprecated and will be removed from pandas in a future version. Use pandas.concat instead.\n",
      "  df = df.append(a_series, ignore_index=True)\n",
      "C:\\Users\\jthoma\\AppData\\Local\\Temp\\ipykernel_6852\\2457786483.py:39: FutureWarning: The frame.append method is deprecated and will be removed from pandas in a future version. Use pandas.concat instead.\n",
      "  df = df.append(a_series, ignore_index=True)\n",
      "C:\\Users\\jthoma\\AppData\\Local\\Temp\\ipykernel_6852\\2457786483.py:39: FutureWarning: The frame.append method is deprecated and will be removed from pandas in a future version. Use pandas.concat instead.\n",
      "  df = df.append(a_series, ignore_index=True)\n"
     ]
    },
    {
     "name": "stdout",
     "output_type": "stream",
     "text": [
      "Could not append: ['... 11 12 13 14 15 16 17 18 19 20 ...', '...', '11', '12', '13', '14', '15', '16', '17', '18', '19', '20', '...']\n"
     ]
    },
    {
     "name": "stderr",
     "output_type": "stream",
     "text": [
      "C:\\Users\\jthoma\\AppData\\Local\\Temp\\ipykernel_6852\\2457786483.py:39: FutureWarning: The frame.append method is deprecated and will be removed from pandas in a future version. Use pandas.concat instead.\n",
      "  df = df.append(a_series, ignore_index=True)\n",
      "C:\\Users\\jthoma\\AppData\\Local\\Temp\\ipykernel_6852\\2457786483.py:38: FutureWarning: The default dtype for empty Series will be 'object' instead of 'float64' in a future version. Specify a dtype explicitly to silence this warning.\n",
      "  a_series = pd.Series(row_list, index = df.columns)\n"
     ]
    },
    {
     "name": "stdout",
     "output_type": "stream",
     "text": [
      "Could not append: []\n"
     ]
    },
    {
     "name": "stderr",
     "output_type": "stream",
     "text": [
      "C:\\Users\\jthoma\\AppData\\Local\\Temp\\ipykernel_6852\\2457786483.py:39: FutureWarning: The frame.append method is deprecated and will be removed from pandas in a future version. Use pandas.concat instead.\n",
      "  df = df.append(a_series, ignore_index=True)\n",
      "C:\\Users\\jthoma\\AppData\\Local\\Temp\\ipykernel_6852\\2457786483.py:39: FutureWarning: The frame.append method is deprecated and will be removed from pandas in a future version. Use pandas.concat instead.\n",
      "  df = df.append(a_series, ignore_index=True)\n",
      "C:\\Users\\jthoma\\AppData\\Local\\Temp\\ipykernel_6852\\2457786483.py:39: FutureWarning: The frame.append method is deprecated and will be removed from pandas in a future version. Use pandas.concat instead.\n",
      "  df = df.append(a_series, ignore_index=True)\n",
      "C:\\Users\\jthoma\\AppData\\Local\\Temp\\ipykernel_6852\\2457786483.py:39: FutureWarning: The frame.append method is deprecated and will be removed from pandas in a future version. Use pandas.concat instead.\n",
      "  df = df.append(a_series, ignore_index=True)\n",
      "C:\\Users\\jthoma\\AppData\\Local\\Temp\\ipykernel_6852\\2457786483.py:39: FutureWarning: The frame.append method is deprecated and will be removed from pandas in a future version. Use pandas.concat instead.\n",
      "  df = df.append(a_series, ignore_index=True)\n",
      "C:\\Users\\jthoma\\AppData\\Local\\Temp\\ipykernel_6852\\2457786483.py:39: FutureWarning: The frame.append method is deprecated and will be removed from pandas in a future version. Use pandas.concat instead.\n",
      "  df = df.append(a_series, ignore_index=True)\n",
      "C:\\Users\\jthoma\\AppData\\Local\\Temp\\ipykernel_6852\\2457786483.py:39: FutureWarning: The frame.append method is deprecated and will be removed from pandas in a future version. Use pandas.concat instead.\n",
      "  df = df.append(a_series, ignore_index=True)\n",
      "C:\\Users\\jthoma\\AppData\\Local\\Temp\\ipykernel_6852\\2457786483.py:39: FutureWarning: The frame.append method is deprecated and will be removed from pandas in a future version. Use pandas.concat instead.\n",
      "  df = df.append(a_series, ignore_index=True)\n",
      "C:\\Users\\jthoma\\AppData\\Local\\Temp\\ipykernel_6852\\2457786483.py:39: FutureWarning: The frame.append method is deprecated and will be removed from pandas in a future version. Use pandas.concat instead.\n",
      "  df = df.append(a_series, ignore_index=True)\n",
      "C:\\Users\\jthoma\\AppData\\Local\\Temp\\ipykernel_6852\\2457786483.py:39: FutureWarning: The frame.append method is deprecated and will be removed from pandas in a future version. Use pandas.concat instead.\n",
      "  df = df.append(a_series, ignore_index=True)\n"
     ]
    },
    {
     "name": "stdout",
     "output_type": "stream",
     "text": [
      "Could not append: ['... 11 12 13 14 15 16 17 18 19 20 ...', '...', '11', '12', '13', '14', '15', '16', '17', '18', '19', '20', '...']\n"
     ]
    },
    {
     "name": "stderr",
     "output_type": "stream",
     "text": [
      "C:\\Users\\jthoma\\AppData\\Local\\Temp\\ipykernel_6852\\2457786483.py:39: FutureWarning: The frame.append method is deprecated and will be removed from pandas in a future version. Use pandas.concat instead.\n",
      "  df = df.append(a_series, ignore_index=True)\n",
      "C:\\Users\\jthoma\\AppData\\Local\\Temp\\ipykernel_6852\\2457786483.py:38: FutureWarning: The default dtype for empty Series will be 'object' instead of 'float64' in a future version. Specify a dtype explicitly to silence this warning.\n",
      "  a_series = pd.Series(row_list, index = df.columns)\n"
     ]
    },
    {
     "name": "stdout",
     "output_type": "stream",
     "text": [
      "Could not append: []\n"
     ]
    },
    {
     "name": "stderr",
     "output_type": "stream",
     "text": [
      "C:\\Users\\jthoma\\AppData\\Local\\Temp\\ipykernel_6852\\2457786483.py:39: FutureWarning: The frame.append method is deprecated and will be removed from pandas in a future version. Use pandas.concat instead.\n",
      "  df = df.append(a_series, ignore_index=True)\n",
      "C:\\Users\\jthoma\\AppData\\Local\\Temp\\ipykernel_6852\\2457786483.py:39: FutureWarning: The frame.append method is deprecated and will be removed from pandas in a future version. Use pandas.concat instead.\n",
      "  df = df.append(a_series, ignore_index=True)\n",
      "C:\\Users\\jthoma\\AppData\\Local\\Temp\\ipykernel_6852\\2457786483.py:39: FutureWarning: The frame.append method is deprecated and will be removed from pandas in a future version. Use pandas.concat instead.\n",
      "  df = df.append(a_series, ignore_index=True)\n",
      "C:\\Users\\jthoma\\AppData\\Local\\Temp\\ipykernel_6852\\2457786483.py:39: FutureWarning: The frame.append method is deprecated and will be removed from pandas in a future version. Use pandas.concat instead.\n",
      "  df = df.append(a_series, ignore_index=True)\n",
      "C:\\Users\\jthoma\\AppData\\Local\\Temp\\ipykernel_6852\\2457786483.py:39: FutureWarning: The frame.append method is deprecated and will be removed from pandas in a future version. Use pandas.concat instead.\n",
      "  df = df.append(a_series, ignore_index=True)\n",
      "C:\\Users\\jthoma\\AppData\\Local\\Temp\\ipykernel_6852\\2457786483.py:39: FutureWarning: The frame.append method is deprecated and will be removed from pandas in a future version. Use pandas.concat instead.\n",
      "  df = df.append(a_series, ignore_index=True)\n",
      "C:\\Users\\jthoma\\AppData\\Local\\Temp\\ipykernel_6852\\2457786483.py:39: FutureWarning: The frame.append method is deprecated and will be removed from pandas in a future version. Use pandas.concat instead.\n",
      "  df = df.append(a_series, ignore_index=True)\n",
      "C:\\Users\\jthoma\\AppData\\Local\\Temp\\ipykernel_6852\\2457786483.py:39: FutureWarning: The frame.append method is deprecated and will be removed from pandas in a future version. Use pandas.concat instead.\n",
      "  df = df.append(a_series, ignore_index=True)\n",
      "C:\\Users\\jthoma\\AppData\\Local\\Temp\\ipykernel_6852\\2457786483.py:39: FutureWarning: The frame.append method is deprecated and will be removed from pandas in a future version. Use pandas.concat instead.\n",
      "  df = df.append(a_series, ignore_index=True)\n",
      "C:\\Users\\jthoma\\AppData\\Local\\Temp\\ipykernel_6852\\2457786483.py:39: FutureWarning: The frame.append method is deprecated and will be removed from pandas in a future version. Use pandas.concat instead.\n",
      "  df = df.append(a_series, ignore_index=True)\n"
     ]
    },
    {
     "name": "stdout",
     "output_type": "stream",
     "text": [
      "Could not append: ['... 11 12 13 14 15 16 17 18 19 20 ...', '...', '11', '12', '13', '14', '15', '16', '17', '18', '19', '20', '...']\n"
     ]
    },
    {
     "name": "stderr",
     "output_type": "stream",
     "text": [
      "C:\\Users\\jthoma\\AppData\\Local\\Temp\\ipykernel_6852\\2457786483.py:39: FutureWarning: The frame.append method is deprecated and will be removed from pandas in a future version. Use pandas.concat instead.\n",
      "  df = df.append(a_series, ignore_index=True)\n",
      "C:\\Users\\jthoma\\AppData\\Local\\Temp\\ipykernel_6852\\2457786483.py:38: FutureWarning: The default dtype for empty Series will be 'object' instead of 'float64' in a future version. Specify a dtype explicitly to silence this warning.\n",
      "  a_series = pd.Series(row_list, index = df.columns)\n"
     ]
    },
    {
     "name": "stdout",
     "output_type": "stream",
     "text": [
      "Could not append: []\n"
     ]
    },
    {
     "name": "stderr",
     "output_type": "stream",
     "text": [
      "C:\\Users\\jthoma\\AppData\\Local\\Temp\\ipykernel_6852\\2457786483.py:39: FutureWarning: The frame.append method is deprecated and will be removed from pandas in a future version. Use pandas.concat instead.\n",
      "  df = df.append(a_series, ignore_index=True)\n",
      "C:\\Users\\jthoma\\AppData\\Local\\Temp\\ipykernel_6852\\2457786483.py:39: FutureWarning: The frame.append method is deprecated and will be removed from pandas in a future version. Use pandas.concat instead.\n",
      "  df = df.append(a_series, ignore_index=True)\n",
      "C:\\Users\\jthoma\\AppData\\Local\\Temp\\ipykernel_6852\\2457786483.py:39: FutureWarning: The frame.append method is deprecated and will be removed from pandas in a future version. Use pandas.concat instead.\n",
      "  df = df.append(a_series, ignore_index=True)\n",
      "C:\\Users\\jthoma\\AppData\\Local\\Temp\\ipykernel_6852\\2457786483.py:39: FutureWarning: The frame.append method is deprecated and will be removed from pandas in a future version. Use pandas.concat instead.\n",
      "  df = df.append(a_series, ignore_index=True)\n",
      "C:\\Users\\jthoma\\AppData\\Local\\Temp\\ipykernel_6852\\2457786483.py:39: FutureWarning: The frame.append method is deprecated and will be removed from pandas in a future version. Use pandas.concat instead.\n",
      "  df = df.append(a_series, ignore_index=True)\n",
      "C:\\Users\\jthoma\\AppData\\Local\\Temp\\ipykernel_6852\\2457786483.py:39: FutureWarning: The frame.append method is deprecated and will be removed from pandas in a future version. Use pandas.concat instead.\n",
      "  df = df.append(a_series, ignore_index=True)\n",
      "C:\\Users\\jthoma\\AppData\\Local\\Temp\\ipykernel_6852\\2457786483.py:39: FutureWarning: The frame.append method is deprecated and will be removed from pandas in a future version. Use pandas.concat instead.\n",
      "  df = df.append(a_series, ignore_index=True)\n",
      "C:\\Users\\jthoma\\AppData\\Local\\Temp\\ipykernel_6852\\2457786483.py:39: FutureWarning: The frame.append method is deprecated and will be removed from pandas in a future version. Use pandas.concat instead.\n",
      "  df = df.append(a_series, ignore_index=True)\n",
      "C:\\Users\\jthoma\\AppData\\Local\\Temp\\ipykernel_6852\\2457786483.py:39: FutureWarning: The frame.append method is deprecated and will be removed from pandas in a future version. Use pandas.concat instead.\n",
      "  df = df.append(a_series, ignore_index=True)\n",
      "C:\\Users\\jthoma\\AppData\\Local\\Temp\\ipykernel_6852\\2457786483.py:39: FutureWarning: The frame.append method is deprecated and will be removed from pandas in a future version. Use pandas.concat instead.\n",
      "  df = df.append(a_series, ignore_index=True)\n"
     ]
    },
    {
     "name": "stdout",
     "output_type": "stream",
     "text": [
      "Could not append: ['... 11 12 13 14 15 16 17 18 19 20 ...', '...', '11', '12', '13', '14', '15', '16', '17', '18', '19', '20', '...']\n"
     ]
    },
    {
     "name": "stderr",
     "output_type": "stream",
     "text": [
      "C:\\Users\\jthoma\\AppData\\Local\\Temp\\ipykernel_6852\\2457786483.py:39: FutureWarning: The frame.append method is deprecated and will be removed from pandas in a future version. Use pandas.concat instead.\n",
      "  df = df.append(a_series, ignore_index=True)\n",
      "C:\\Users\\jthoma\\AppData\\Local\\Temp\\ipykernel_6852\\2457786483.py:38: FutureWarning: The default dtype for empty Series will be 'object' instead of 'float64' in a future version. Specify a dtype explicitly to silence this warning.\n",
      "  a_series = pd.Series(row_list, index = df.columns)\n"
     ]
    },
    {
     "name": "stdout",
     "output_type": "stream",
     "text": [
      "Could not append: []\n"
     ]
    },
    {
     "name": "stderr",
     "output_type": "stream",
     "text": [
      "C:\\Users\\jthoma\\AppData\\Local\\Temp\\ipykernel_6852\\2457786483.py:39: FutureWarning: The frame.append method is deprecated and will be removed from pandas in a future version. Use pandas.concat instead.\n",
      "  df = df.append(a_series, ignore_index=True)\n",
      "C:\\Users\\jthoma\\AppData\\Local\\Temp\\ipykernel_6852\\2457786483.py:39: FutureWarning: The frame.append method is deprecated and will be removed from pandas in a future version. Use pandas.concat instead.\n",
      "  df = df.append(a_series, ignore_index=True)\n",
      "C:\\Users\\jthoma\\AppData\\Local\\Temp\\ipykernel_6852\\2457786483.py:39: FutureWarning: The frame.append method is deprecated and will be removed from pandas in a future version. Use pandas.concat instead.\n",
      "  df = df.append(a_series, ignore_index=True)\n",
      "C:\\Users\\jthoma\\AppData\\Local\\Temp\\ipykernel_6852\\2457786483.py:39: FutureWarning: The frame.append method is deprecated and will be removed from pandas in a future version. Use pandas.concat instead.\n",
      "  df = df.append(a_series, ignore_index=True)\n",
      "C:\\Users\\jthoma\\AppData\\Local\\Temp\\ipykernel_6852\\2457786483.py:39: FutureWarning: The frame.append method is deprecated and will be removed from pandas in a future version. Use pandas.concat instead.\n",
      "  df = df.append(a_series, ignore_index=True)\n",
      "C:\\Users\\jthoma\\AppData\\Local\\Temp\\ipykernel_6852\\2457786483.py:39: FutureWarning: The frame.append method is deprecated and will be removed from pandas in a future version. Use pandas.concat instead.\n",
      "  df = df.append(a_series, ignore_index=True)\n",
      "C:\\Users\\jthoma\\AppData\\Local\\Temp\\ipykernel_6852\\2457786483.py:39: FutureWarning: The frame.append method is deprecated and will be removed from pandas in a future version. Use pandas.concat instead.\n",
      "  df = df.append(a_series, ignore_index=True)\n",
      "C:\\Users\\jthoma\\AppData\\Local\\Temp\\ipykernel_6852\\2457786483.py:39: FutureWarning: The frame.append method is deprecated and will be removed from pandas in a future version. Use pandas.concat instead.\n",
      "  df = df.append(a_series, ignore_index=True)\n",
      "C:\\Users\\jthoma\\AppData\\Local\\Temp\\ipykernel_6852\\2457786483.py:39: FutureWarning: The frame.append method is deprecated and will be removed from pandas in a future version. Use pandas.concat instead.\n",
      "  df = df.append(a_series, ignore_index=True)\n",
      "C:\\Users\\jthoma\\AppData\\Local\\Temp\\ipykernel_6852\\2457786483.py:39: FutureWarning: The frame.append method is deprecated and will be removed from pandas in a future version. Use pandas.concat instead.\n",
      "  df = df.append(a_series, ignore_index=True)\n"
     ]
    },
    {
     "name": "stdout",
     "output_type": "stream",
     "text": [
      "Could not append: ['... 21 22 23 24 25 26 27 28 29 30 ...', '...', '21', '22', '23', '24', '25', '26', '27', '28', '29', '30', '...']\n"
     ]
    },
    {
     "name": "stderr",
     "output_type": "stream",
     "text": [
      "C:\\Users\\jthoma\\AppData\\Local\\Temp\\ipykernel_6852\\2457786483.py:39: FutureWarning: The frame.append method is deprecated and will be removed from pandas in a future version. Use pandas.concat instead.\n",
      "  df = df.append(a_series, ignore_index=True)\n",
      "C:\\Users\\jthoma\\AppData\\Local\\Temp\\ipykernel_6852\\2457786483.py:38: FutureWarning: The default dtype for empty Series will be 'object' instead of 'float64' in a future version. Specify a dtype explicitly to silence this warning.\n",
      "  a_series = pd.Series(row_list, index = df.columns)\n"
     ]
    },
    {
     "name": "stdout",
     "output_type": "stream",
     "text": [
      "Could not append: []\n"
     ]
    },
    {
     "name": "stderr",
     "output_type": "stream",
     "text": [
      "C:\\Users\\jthoma\\AppData\\Local\\Temp\\ipykernel_6852\\2457786483.py:39: FutureWarning: The frame.append method is deprecated and will be removed from pandas in a future version. Use pandas.concat instead.\n",
      "  df = df.append(a_series, ignore_index=True)\n",
      "C:\\Users\\jthoma\\AppData\\Local\\Temp\\ipykernel_6852\\2457786483.py:39: FutureWarning: The frame.append method is deprecated and will be removed from pandas in a future version. Use pandas.concat instead.\n",
      "  df = df.append(a_series, ignore_index=True)\n",
      "C:\\Users\\jthoma\\AppData\\Local\\Temp\\ipykernel_6852\\2457786483.py:39: FutureWarning: The frame.append method is deprecated and will be removed from pandas in a future version. Use pandas.concat instead.\n",
      "  df = df.append(a_series, ignore_index=True)\n",
      "C:\\Users\\jthoma\\AppData\\Local\\Temp\\ipykernel_6852\\2457786483.py:39: FutureWarning: The frame.append method is deprecated and will be removed from pandas in a future version. Use pandas.concat instead.\n",
      "  df = df.append(a_series, ignore_index=True)\n",
      "C:\\Users\\jthoma\\AppData\\Local\\Temp\\ipykernel_6852\\2457786483.py:39: FutureWarning: The frame.append method is deprecated and will be removed from pandas in a future version. Use pandas.concat instead.\n",
      "  df = df.append(a_series, ignore_index=True)\n",
      "C:\\Users\\jthoma\\AppData\\Local\\Temp\\ipykernel_6852\\2457786483.py:39: FutureWarning: The frame.append method is deprecated and will be removed from pandas in a future version. Use pandas.concat instead.\n",
      "  df = df.append(a_series, ignore_index=True)\n",
      "C:\\Users\\jthoma\\AppData\\Local\\Temp\\ipykernel_6852\\2457786483.py:39: FutureWarning: The frame.append method is deprecated and will be removed from pandas in a future version. Use pandas.concat instead.\n",
      "  df = df.append(a_series, ignore_index=True)\n",
      "C:\\Users\\jthoma\\AppData\\Local\\Temp\\ipykernel_6852\\2457786483.py:39: FutureWarning: The frame.append method is deprecated and will be removed from pandas in a future version. Use pandas.concat instead.\n",
      "  df = df.append(a_series, ignore_index=True)\n",
      "C:\\Users\\jthoma\\AppData\\Local\\Temp\\ipykernel_6852\\2457786483.py:39: FutureWarning: The frame.append method is deprecated and will be removed from pandas in a future version. Use pandas.concat instead.\n",
      "  df = df.append(a_series, ignore_index=True)\n",
      "C:\\Users\\jthoma\\AppData\\Local\\Temp\\ipykernel_6852\\2457786483.py:39: FutureWarning: The frame.append method is deprecated and will be removed from pandas in a future version. Use pandas.concat instead.\n",
      "  df = df.append(a_series, ignore_index=True)\n"
     ]
    },
    {
     "name": "stdout",
     "output_type": "stream",
     "text": [
      "Could not append: ['... 21 22 23 24 25 26 27 28 29 30 ...', '...', '21', '22', '23', '24', '25', '26', '27', '28', '29', '30', '...']\n"
     ]
    },
    {
     "name": "stderr",
     "output_type": "stream",
     "text": [
      "C:\\Users\\jthoma\\AppData\\Local\\Temp\\ipykernel_6852\\2457786483.py:39: FutureWarning: The frame.append method is deprecated and will be removed from pandas in a future version. Use pandas.concat instead.\n",
      "  df = df.append(a_series, ignore_index=True)\n",
      "C:\\Users\\jthoma\\AppData\\Local\\Temp\\ipykernel_6852\\2457786483.py:38: FutureWarning: The default dtype for empty Series will be 'object' instead of 'float64' in a future version. Specify a dtype explicitly to silence this warning.\n",
      "  a_series = pd.Series(row_list, index = df.columns)\n"
     ]
    },
    {
     "name": "stdout",
     "output_type": "stream",
     "text": [
      "Could not append: []\n"
     ]
    },
    {
     "name": "stderr",
     "output_type": "stream",
     "text": [
      "C:\\Users\\jthoma\\AppData\\Local\\Temp\\ipykernel_6852\\2457786483.py:39: FutureWarning: The frame.append method is deprecated and will be removed from pandas in a future version. Use pandas.concat instead.\n",
      "  df = df.append(a_series, ignore_index=True)\n",
      "C:\\Users\\jthoma\\AppData\\Local\\Temp\\ipykernel_6852\\2457786483.py:39: FutureWarning: The frame.append method is deprecated and will be removed from pandas in a future version. Use pandas.concat instead.\n",
      "  df = df.append(a_series, ignore_index=True)\n",
      "C:\\Users\\jthoma\\AppData\\Local\\Temp\\ipykernel_6852\\2457786483.py:39: FutureWarning: The frame.append method is deprecated and will be removed from pandas in a future version. Use pandas.concat instead.\n",
      "  df = df.append(a_series, ignore_index=True)\n",
      "C:\\Users\\jthoma\\AppData\\Local\\Temp\\ipykernel_6852\\2457786483.py:39: FutureWarning: The frame.append method is deprecated and will be removed from pandas in a future version. Use pandas.concat instead.\n",
      "  df = df.append(a_series, ignore_index=True)\n",
      "C:\\Users\\jthoma\\AppData\\Local\\Temp\\ipykernel_6852\\2457786483.py:39: FutureWarning: The frame.append method is deprecated and will be removed from pandas in a future version. Use pandas.concat instead.\n",
      "  df = df.append(a_series, ignore_index=True)\n",
      "C:\\Users\\jthoma\\AppData\\Local\\Temp\\ipykernel_6852\\2457786483.py:39: FutureWarning: The frame.append method is deprecated and will be removed from pandas in a future version. Use pandas.concat instead.\n",
      "  df = df.append(a_series, ignore_index=True)\n",
      "C:\\Users\\jthoma\\AppData\\Local\\Temp\\ipykernel_6852\\2457786483.py:39: FutureWarning: The frame.append method is deprecated and will be removed from pandas in a future version. Use pandas.concat instead.\n",
      "  df = df.append(a_series, ignore_index=True)\n",
      "C:\\Users\\jthoma\\AppData\\Local\\Temp\\ipykernel_6852\\2457786483.py:39: FutureWarning: The frame.append method is deprecated and will be removed from pandas in a future version. Use pandas.concat instead.\n",
      "  df = df.append(a_series, ignore_index=True)\n",
      "C:\\Users\\jthoma\\AppData\\Local\\Temp\\ipykernel_6852\\2457786483.py:39: FutureWarning: The frame.append method is deprecated and will be removed from pandas in a future version. Use pandas.concat instead.\n",
      "  df = df.append(a_series, ignore_index=True)\n",
      "C:\\Users\\jthoma\\AppData\\Local\\Temp\\ipykernel_6852\\2457786483.py:39: FutureWarning: The frame.append method is deprecated and will be removed from pandas in a future version. Use pandas.concat instead.\n",
      "  df = df.append(a_series, ignore_index=True)\n"
     ]
    },
    {
     "name": "stdout",
     "output_type": "stream",
     "text": [
      "Could not append: ['... 21 22 23 24 25 26 27 28 29 30 ...', '...', '21', '22', '23', '24', '25', '26', '27', '28', '29', '30', '...']\n"
     ]
    },
    {
     "name": "stderr",
     "output_type": "stream",
     "text": [
      "C:\\Users\\jthoma\\AppData\\Local\\Temp\\ipykernel_6852\\2457786483.py:39: FutureWarning: The frame.append method is deprecated and will be removed from pandas in a future version. Use pandas.concat instead.\n",
      "  df = df.append(a_series, ignore_index=True)\n",
      "C:\\Users\\jthoma\\AppData\\Local\\Temp\\ipykernel_6852\\2457786483.py:38: FutureWarning: The default dtype for empty Series will be 'object' instead of 'float64' in a future version. Specify a dtype explicitly to silence this warning.\n",
      "  a_series = pd.Series(row_list, index = df.columns)\n"
     ]
    },
    {
     "name": "stdout",
     "output_type": "stream",
     "text": [
      "Could not append: []\n"
     ]
    },
    {
     "name": "stderr",
     "output_type": "stream",
     "text": [
      "C:\\Users\\jthoma\\AppData\\Local\\Temp\\ipykernel_6852\\2457786483.py:39: FutureWarning: The frame.append method is deprecated and will be removed from pandas in a future version. Use pandas.concat instead.\n",
      "  df = df.append(a_series, ignore_index=True)\n",
      "C:\\Users\\jthoma\\AppData\\Local\\Temp\\ipykernel_6852\\2457786483.py:39: FutureWarning: The frame.append method is deprecated and will be removed from pandas in a future version. Use pandas.concat instead.\n",
      "  df = df.append(a_series, ignore_index=True)\n",
      "C:\\Users\\jthoma\\AppData\\Local\\Temp\\ipykernel_6852\\2457786483.py:39: FutureWarning: The frame.append method is deprecated and will be removed from pandas in a future version. Use pandas.concat instead.\n",
      "  df = df.append(a_series, ignore_index=True)\n",
      "C:\\Users\\jthoma\\AppData\\Local\\Temp\\ipykernel_6852\\2457786483.py:39: FutureWarning: The frame.append method is deprecated and will be removed from pandas in a future version. Use pandas.concat instead.\n",
      "  df = df.append(a_series, ignore_index=True)\n",
      "C:\\Users\\jthoma\\AppData\\Local\\Temp\\ipykernel_6852\\2457786483.py:39: FutureWarning: The frame.append method is deprecated and will be removed from pandas in a future version. Use pandas.concat instead.\n",
      "  df = df.append(a_series, ignore_index=True)\n",
      "C:\\Users\\jthoma\\AppData\\Local\\Temp\\ipykernel_6852\\2457786483.py:39: FutureWarning: The frame.append method is deprecated and will be removed from pandas in a future version. Use pandas.concat instead.\n",
      "  df = df.append(a_series, ignore_index=True)\n",
      "C:\\Users\\jthoma\\AppData\\Local\\Temp\\ipykernel_6852\\2457786483.py:39: FutureWarning: The frame.append method is deprecated and will be removed from pandas in a future version. Use pandas.concat instead.\n",
      "  df = df.append(a_series, ignore_index=True)\n",
      "C:\\Users\\jthoma\\AppData\\Local\\Temp\\ipykernel_6852\\2457786483.py:39: FutureWarning: The frame.append method is deprecated and will be removed from pandas in a future version. Use pandas.concat instead.\n",
      "  df = df.append(a_series, ignore_index=True)\n",
      "C:\\Users\\jthoma\\AppData\\Local\\Temp\\ipykernel_6852\\2457786483.py:39: FutureWarning: The frame.append method is deprecated and will be removed from pandas in a future version. Use pandas.concat instead.\n",
      "  df = df.append(a_series, ignore_index=True)\n",
      "C:\\Users\\jthoma\\AppData\\Local\\Temp\\ipykernel_6852\\2457786483.py:39: FutureWarning: The frame.append method is deprecated and will be removed from pandas in a future version. Use pandas.concat instead.\n",
      "  df = df.append(a_series, ignore_index=True)\n"
     ]
    },
    {
     "name": "stdout",
     "output_type": "stream",
     "text": [
      "Could not append: ['... 21 22 23 24 25 26 27 28 29 30 ...', '...', '21', '22', '23', '24', '25', '26', '27', '28', '29', '30', '...']\n"
     ]
    },
    {
     "name": "stderr",
     "output_type": "stream",
     "text": [
      "C:\\Users\\jthoma\\AppData\\Local\\Temp\\ipykernel_6852\\2457786483.py:39: FutureWarning: The frame.append method is deprecated and will be removed from pandas in a future version. Use pandas.concat instead.\n",
      "  df = df.append(a_series, ignore_index=True)\n",
      "C:\\Users\\jthoma\\AppData\\Local\\Temp\\ipykernel_6852\\2457786483.py:38: FutureWarning: The default dtype for empty Series will be 'object' instead of 'float64' in a future version. Specify a dtype explicitly to silence this warning.\n",
      "  a_series = pd.Series(row_list, index = df.columns)\n"
     ]
    },
    {
     "name": "stdout",
     "output_type": "stream",
     "text": [
      "Could not append: []\n"
     ]
    },
    {
     "name": "stderr",
     "output_type": "stream",
     "text": [
      "C:\\Users\\jthoma\\AppData\\Local\\Temp\\ipykernel_6852\\2457786483.py:39: FutureWarning: The frame.append method is deprecated and will be removed from pandas in a future version. Use pandas.concat instead.\n",
      "  df = df.append(a_series, ignore_index=True)\n",
      "C:\\Users\\jthoma\\AppData\\Local\\Temp\\ipykernel_6852\\2457786483.py:39: FutureWarning: The frame.append method is deprecated and will be removed from pandas in a future version. Use pandas.concat instead.\n",
      "  df = df.append(a_series, ignore_index=True)\n",
      "C:\\Users\\jthoma\\AppData\\Local\\Temp\\ipykernel_6852\\2457786483.py:39: FutureWarning: The frame.append method is deprecated and will be removed from pandas in a future version. Use pandas.concat instead.\n",
      "  df = df.append(a_series, ignore_index=True)\n",
      "C:\\Users\\jthoma\\AppData\\Local\\Temp\\ipykernel_6852\\2457786483.py:39: FutureWarning: The frame.append method is deprecated and will be removed from pandas in a future version. Use pandas.concat instead.\n",
      "  df = df.append(a_series, ignore_index=True)\n",
      "C:\\Users\\jthoma\\AppData\\Local\\Temp\\ipykernel_6852\\2457786483.py:39: FutureWarning: The frame.append method is deprecated and will be removed from pandas in a future version. Use pandas.concat instead.\n",
      "  df = df.append(a_series, ignore_index=True)\n",
      "C:\\Users\\jthoma\\AppData\\Local\\Temp\\ipykernel_6852\\2457786483.py:39: FutureWarning: The frame.append method is deprecated and will be removed from pandas in a future version. Use pandas.concat instead.\n",
      "  df = df.append(a_series, ignore_index=True)\n",
      "C:\\Users\\jthoma\\AppData\\Local\\Temp\\ipykernel_6852\\2457786483.py:39: FutureWarning: The frame.append method is deprecated and will be removed from pandas in a future version. Use pandas.concat instead.\n",
      "  df = df.append(a_series, ignore_index=True)\n",
      "C:\\Users\\jthoma\\AppData\\Local\\Temp\\ipykernel_6852\\2457786483.py:39: FutureWarning: The frame.append method is deprecated and will be removed from pandas in a future version. Use pandas.concat instead.\n",
      "  df = df.append(a_series, ignore_index=True)\n",
      "C:\\Users\\jthoma\\AppData\\Local\\Temp\\ipykernel_6852\\2457786483.py:39: FutureWarning: The frame.append method is deprecated and will be removed from pandas in a future version. Use pandas.concat instead.\n",
      "  df = df.append(a_series, ignore_index=True)\n",
      "C:\\Users\\jthoma\\AppData\\Local\\Temp\\ipykernel_6852\\2457786483.py:39: FutureWarning: The frame.append method is deprecated and will be removed from pandas in a future version. Use pandas.concat instead.\n",
      "  df = df.append(a_series, ignore_index=True)\n"
     ]
    },
    {
     "name": "stdout",
     "output_type": "stream",
     "text": [
      "Could not append: ['... 21 22 23 24 25 26 27 28 29 30 ...', '...', '21', '22', '23', '24', '25', '26', '27', '28', '29', '30', '...']\n"
     ]
    },
    {
     "name": "stderr",
     "output_type": "stream",
     "text": [
      "C:\\Users\\jthoma\\AppData\\Local\\Temp\\ipykernel_6852\\2457786483.py:39: FutureWarning: The frame.append method is deprecated and will be removed from pandas in a future version. Use pandas.concat instead.\n",
      "  df = df.append(a_series, ignore_index=True)\n",
      "C:\\Users\\jthoma\\AppData\\Local\\Temp\\ipykernel_6852\\2457786483.py:38: FutureWarning: The default dtype for empty Series will be 'object' instead of 'float64' in a future version. Specify a dtype explicitly to silence this warning.\n",
      "  a_series = pd.Series(row_list, index = df.columns)\n"
     ]
    },
    {
     "name": "stdout",
     "output_type": "stream",
     "text": [
      "Could not append: []\n"
     ]
    },
    {
     "name": "stderr",
     "output_type": "stream",
     "text": [
      "C:\\Users\\jthoma\\AppData\\Local\\Temp\\ipykernel_6852\\2457786483.py:39: FutureWarning: The frame.append method is deprecated and will be removed from pandas in a future version. Use pandas.concat instead.\n",
      "  df = df.append(a_series, ignore_index=True)\n",
      "C:\\Users\\jthoma\\AppData\\Local\\Temp\\ipykernel_6852\\2457786483.py:39: FutureWarning: The frame.append method is deprecated and will be removed from pandas in a future version. Use pandas.concat instead.\n",
      "  df = df.append(a_series, ignore_index=True)\n",
      "C:\\Users\\jthoma\\AppData\\Local\\Temp\\ipykernel_6852\\2457786483.py:39: FutureWarning: The frame.append method is deprecated and will be removed from pandas in a future version. Use pandas.concat instead.\n",
      "  df = df.append(a_series, ignore_index=True)\n",
      "C:\\Users\\jthoma\\AppData\\Local\\Temp\\ipykernel_6852\\2457786483.py:39: FutureWarning: The frame.append method is deprecated and will be removed from pandas in a future version. Use pandas.concat instead.\n",
      "  df = df.append(a_series, ignore_index=True)\n",
      "C:\\Users\\jthoma\\AppData\\Local\\Temp\\ipykernel_6852\\2457786483.py:39: FutureWarning: The frame.append method is deprecated and will be removed from pandas in a future version. Use pandas.concat instead.\n",
      "  df = df.append(a_series, ignore_index=True)\n",
      "C:\\Users\\jthoma\\AppData\\Local\\Temp\\ipykernel_6852\\2457786483.py:39: FutureWarning: The frame.append method is deprecated and will be removed from pandas in a future version. Use pandas.concat instead.\n",
      "  df = df.append(a_series, ignore_index=True)\n",
      "C:\\Users\\jthoma\\AppData\\Local\\Temp\\ipykernel_6852\\2457786483.py:39: FutureWarning: The frame.append method is deprecated and will be removed from pandas in a future version. Use pandas.concat instead.\n",
      "  df = df.append(a_series, ignore_index=True)\n",
      "C:\\Users\\jthoma\\AppData\\Local\\Temp\\ipykernel_6852\\2457786483.py:39: FutureWarning: The frame.append method is deprecated and will be removed from pandas in a future version. Use pandas.concat instead.\n",
      "  df = df.append(a_series, ignore_index=True)\n",
      "C:\\Users\\jthoma\\AppData\\Local\\Temp\\ipykernel_6852\\2457786483.py:39: FutureWarning: The frame.append method is deprecated and will be removed from pandas in a future version. Use pandas.concat instead.\n",
      "  df = df.append(a_series, ignore_index=True)\n",
      "C:\\Users\\jthoma\\AppData\\Local\\Temp\\ipykernel_6852\\2457786483.py:39: FutureWarning: The frame.append method is deprecated and will be removed from pandas in a future version. Use pandas.concat instead.\n",
      "  df = df.append(a_series, ignore_index=True)\n"
     ]
    },
    {
     "name": "stdout",
     "output_type": "stream",
     "text": [
      "Could not append: ['... 21 22 23 24 25 26 27 28 29 30 ...', '...', '21', '22', '23', '24', '25', '26', '27', '28', '29', '30', '...']\n"
     ]
    },
    {
     "name": "stderr",
     "output_type": "stream",
     "text": [
      "C:\\Users\\jthoma\\AppData\\Local\\Temp\\ipykernel_6852\\2457786483.py:39: FutureWarning: The frame.append method is deprecated and will be removed from pandas in a future version. Use pandas.concat instead.\n",
      "  df = df.append(a_series, ignore_index=True)\n",
      "C:\\Users\\jthoma\\AppData\\Local\\Temp\\ipykernel_6852\\2457786483.py:38: FutureWarning: The default dtype for empty Series will be 'object' instead of 'float64' in a future version. Specify a dtype explicitly to silence this warning.\n",
      "  a_series = pd.Series(row_list, index = df.columns)\n"
     ]
    },
    {
     "name": "stdout",
     "output_type": "stream",
     "text": [
      "Could not append: []\n"
     ]
    },
    {
     "name": "stderr",
     "output_type": "stream",
     "text": [
      "C:\\Users\\jthoma\\AppData\\Local\\Temp\\ipykernel_6852\\2457786483.py:39: FutureWarning: The frame.append method is deprecated and will be removed from pandas in a future version. Use pandas.concat instead.\n",
      "  df = df.append(a_series, ignore_index=True)\n",
      "C:\\Users\\jthoma\\AppData\\Local\\Temp\\ipykernel_6852\\2457786483.py:39: FutureWarning: The frame.append method is deprecated and will be removed from pandas in a future version. Use pandas.concat instead.\n",
      "  df = df.append(a_series, ignore_index=True)\n",
      "C:\\Users\\jthoma\\AppData\\Local\\Temp\\ipykernel_6852\\2457786483.py:39: FutureWarning: The frame.append method is deprecated and will be removed from pandas in a future version. Use pandas.concat instead.\n",
      "  df = df.append(a_series, ignore_index=True)\n",
      "C:\\Users\\jthoma\\AppData\\Local\\Temp\\ipykernel_6852\\2457786483.py:39: FutureWarning: The frame.append method is deprecated and will be removed from pandas in a future version. Use pandas.concat instead.\n",
      "  df = df.append(a_series, ignore_index=True)\n",
      "C:\\Users\\jthoma\\AppData\\Local\\Temp\\ipykernel_6852\\2457786483.py:39: FutureWarning: The frame.append method is deprecated and will be removed from pandas in a future version. Use pandas.concat instead.\n",
      "  df = df.append(a_series, ignore_index=True)\n",
      "C:\\Users\\jthoma\\AppData\\Local\\Temp\\ipykernel_6852\\2457786483.py:39: FutureWarning: The frame.append method is deprecated and will be removed from pandas in a future version. Use pandas.concat instead.\n",
      "  df = df.append(a_series, ignore_index=True)\n",
      "C:\\Users\\jthoma\\AppData\\Local\\Temp\\ipykernel_6852\\2457786483.py:39: FutureWarning: The frame.append method is deprecated and will be removed from pandas in a future version. Use pandas.concat instead.\n",
      "  df = df.append(a_series, ignore_index=True)\n",
      "C:\\Users\\jthoma\\AppData\\Local\\Temp\\ipykernel_6852\\2457786483.py:39: FutureWarning: The frame.append method is deprecated and will be removed from pandas in a future version. Use pandas.concat instead.\n",
      "  df = df.append(a_series, ignore_index=True)\n",
      "C:\\Users\\jthoma\\AppData\\Local\\Temp\\ipykernel_6852\\2457786483.py:39: FutureWarning: The frame.append method is deprecated and will be removed from pandas in a future version. Use pandas.concat instead.\n",
      "  df = df.append(a_series, ignore_index=True)\n",
      "C:\\Users\\jthoma\\AppData\\Local\\Temp\\ipykernel_6852\\2457786483.py:39: FutureWarning: The frame.append method is deprecated and will be removed from pandas in a future version. Use pandas.concat instead.\n",
      "  df = df.append(a_series, ignore_index=True)\n"
     ]
    },
    {
     "name": "stdout",
     "output_type": "stream",
     "text": [
      "Could not append: ['... 21 22 23 24 25 26 27 28 29 30 ...', '...', '21', '22', '23', '24', '25', '26', '27', '28', '29', '30', '...']\n"
     ]
    },
    {
     "name": "stderr",
     "output_type": "stream",
     "text": [
      "C:\\Users\\jthoma\\AppData\\Local\\Temp\\ipykernel_6852\\2457786483.py:39: FutureWarning: The frame.append method is deprecated and will be removed from pandas in a future version. Use pandas.concat instead.\n",
      "  df = df.append(a_series, ignore_index=True)\n",
      "C:\\Users\\jthoma\\AppData\\Local\\Temp\\ipykernel_6852\\2457786483.py:38: FutureWarning: The default dtype for empty Series will be 'object' instead of 'float64' in a future version. Specify a dtype explicitly to silence this warning.\n",
      "  a_series = pd.Series(row_list, index = df.columns)\n"
     ]
    },
    {
     "name": "stdout",
     "output_type": "stream",
     "text": [
      "Could not append: []\n"
     ]
    },
    {
     "name": "stderr",
     "output_type": "stream",
     "text": [
      "C:\\Users\\jthoma\\AppData\\Local\\Temp\\ipykernel_6852\\2457786483.py:39: FutureWarning: The frame.append method is deprecated and will be removed from pandas in a future version. Use pandas.concat instead.\n",
      "  df = df.append(a_series, ignore_index=True)\n",
      "C:\\Users\\jthoma\\AppData\\Local\\Temp\\ipykernel_6852\\2457786483.py:39: FutureWarning: The frame.append method is deprecated and will be removed from pandas in a future version. Use pandas.concat instead.\n",
      "  df = df.append(a_series, ignore_index=True)\n",
      "C:\\Users\\jthoma\\AppData\\Local\\Temp\\ipykernel_6852\\2457786483.py:39: FutureWarning: The frame.append method is deprecated and will be removed from pandas in a future version. Use pandas.concat instead.\n",
      "  df = df.append(a_series, ignore_index=True)\n",
      "C:\\Users\\jthoma\\AppData\\Local\\Temp\\ipykernel_6852\\2457786483.py:39: FutureWarning: The frame.append method is deprecated and will be removed from pandas in a future version. Use pandas.concat instead.\n",
      "  df = df.append(a_series, ignore_index=True)\n",
      "C:\\Users\\jthoma\\AppData\\Local\\Temp\\ipykernel_6852\\2457786483.py:39: FutureWarning: The frame.append method is deprecated and will be removed from pandas in a future version. Use pandas.concat instead.\n",
      "  df = df.append(a_series, ignore_index=True)\n",
      "C:\\Users\\jthoma\\AppData\\Local\\Temp\\ipykernel_6852\\2457786483.py:39: FutureWarning: The frame.append method is deprecated and will be removed from pandas in a future version. Use pandas.concat instead.\n",
      "  df = df.append(a_series, ignore_index=True)\n",
      "C:\\Users\\jthoma\\AppData\\Local\\Temp\\ipykernel_6852\\2457786483.py:39: FutureWarning: The frame.append method is deprecated and will be removed from pandas in a future version. Use pandas.concat instead.\n",
      "  df = df.append(a_series, ignore_index=True)\n",
      "C:\\Users\\jthoma\\AppData\\Local\\Temp\\ipykernel_6852\\2457786483.py:39: FutureWarning: The frame.append method is deprecated and will be removed from pandas in a future version. Use pandas.concat instead.\n",
      "  df = df.append(a_series, ignore_index=True)\n",
      "C:\\Users\\jthoma\\AppData\\Local\\Temp\\ipykernel_6852\\2457786483.py:39: FutureWarning: The frame.append method is deprecated and will be removed from pandas in a future version. Use pandas.concat instead.\n",
      "  df = df.append(a_series, ignore_index=True)\n",
      "C:\\Users\\jthoma\\AppData\\Local\\Temp\\ipykernel_6852\\2457786483.py:39: FutureWarning: The frame.append method is deprecated and will be removed from pandas in a future version. Use pandas.concat instead.\n",
      "  df = df.append(a_series, ignore_index=True)\n"
     ]
    },
    {
     "name": "stdout",
     "output_type": "stream",
     "text": [
      "Could not append: ['... 21 22 23 24 25 26 27 28 29 30 ...', '...', '21', '22', '23', '24', '25', '26', '27', '28', '29', '30', '...']\n"
     ]
    },
    {
     "name": "stderr",
     "output_type": "stream",
     "text": [
      "C:\\Users\\jthoma\\AppData\\Local\\Temp\\ipykernel_6852\\2457786483.py:39: FutureWarning: The frame.append method is deprecated and will be removed from pandas in a future version. Use pandas.concat instead.\n",
      "  df = df.append(a_series, ignore_index=True)\n",
      "C:\\Users\\jthoma\\AppData\\Local\\Temp\\ipykernel_6852\\2457786483.py:38: FutureWarning: The default dtype for empty Series will be 'object' instead of 'float64' in a future version. Specify a dtype explicitly to silence this warning.\n",
      "  a_series = pd.Series(row_list, index = df.columns)\n"
     ]
    },
    {
     "name": "stdout",
     "output_type": "stream",
     "text": [
      "Could not append: []\n"
     ]
    },
    {
     "name": "stderr",
     "output_type": "stream",
     "text": [
      "C:\\Users\\jthoma\\AppData\\Local\\Temp\\ipykernel_6852\\2457786483.py:39: FutureWarning: The frame.append method is deprecated and will be removed from pandas in a future version. Use pandas.concat instead.\n",
      "  df = df.append(a_series, ignore_index=True)\n",
      "C:\\Users\\jthoma\\AppData\\Local\\Temp\\ipykernel_6852\\2457786483.py:39: FutureWarning: The frame.append method is deprecated and will be removed from pandas in a future version. Use pandas.concat instead.\n",
      "  df = df.append(a_series, ignore_index=True)\n",
      "C:\\Users\\jthoma\\AppData\\Local\\Temp\\ipykernel_6852\\2457786483.py:39: FutureWarning: The frame.append method is deprecated and will be removed from pandas in a future version. Use pandas.concat instead.\n",
      "  df = df.append(a_series, ignore_index=True)\n",
      "C:\\Users\\jthoma\\AppData\\Local\\Temp\\ipykernel_6852\\2457786483.py:39: FutureWarning: The frame.append method is deprecated and will be removed from pandas in a future version. Use pandas.concat instead.\n",
      "  df = df.append(a_series, ignore_index=True)\n",
      "C:\\Users\\jthoma\\AppData\\Local\\Temp\\ipykernel_6852\\2457786483.py:39: FutureWarning: The frame.append method is deprecated and will be removed from pandas in a future version. Use pandas.concat instead.\n",
      "  df = df.append(a_series, ignore_index=True)\n",
      "C:\\Users\\jthoma\\AppData\\Local\\Temp\\ipykernel_6852\\2457786483.py:39: FutureWarning: The frame.append method is deprecated and will be removed from pandas in a future version. Use pandas.concat instead.\n",
      "  df = df.append(a_series, ignore_index=True)\n",
      "C:\\Users\\jthoma\\AppData\\Local\\Temp\\ipykernel_6852\\2457786483.py:39: FutureWarning: The frame.append method is deprecated and will be removed from pandas in a future version. Use pandas.concat instead.\n",
      "  df = df.append(a_series, ignore_index=True)\n",
      "C:\\Users\\jthoma\\AppData\\Local\\Temp\\ipykernel_6852\\2457786483.py:39: FutureWarning: The frame.append method is deprecated and will be removed from pandas in a future version. Use pandas.concat instead.\n",
      "  df = df.append(a_series, ignore_index=True)\n",
      "C:\\Users\\jthoma\\AppData\\Local\\Temp\\ipykernel_6852\\2457786483.py:39: FutureWarning: The frame.append method is deprecated and will be removed from pandas in a future version. Use pandas.concat instead.\n",
      "  df = df.append(a_series, ignore_index=True)\n",
      "C:\\Users\\jthoma\\AppData\\Local\\Temp\\ipykernel_6852\\2457786483.py:39: FutureWarning: The frame.append method is deprecated and will be removed from pandas in a future version. Use pandas.concat instead.\n",
      "  df = df.append(a_series, ignore_index=True)\n"
     ]
    },
    {
     "name": "stdout",
     "output_type": "stream",
     "text": [
      "Could not append: ['... 21 22 23 24 25 26 27 28 29 30 ...', '...', '21', '22', '23', '24', '25', '26', '27', '28', '29', '30', '...']\n"
     ]
    },
    {
     "name": "stderr",
     "output_type": "stream",
     "text": [
      "C:\\Users\\jthoma\\AppData\\Local\\Temp\\ipykernel_6852\\2457786483.py:39: FutureWarning: The frame.append method is deprecated and will be removed from pandas in a future version. Use pandas.concat instead.\n",
      "  df = df.append(a_series, ignore_index=True)\n",
      "C:\\Users\\jthoma\\AppData\\Local\\Temp\\ipykernel_6852\\2457786483.py:38: FutureWarning: The default dtype for empty Series will be 'object' instead of 'float64' in a future version. Specify a dtype explicitly to silence this warning.\n",
      "  a_series = pd.Series(row_list, index = df.columns)\n"
     ]
    },
    {
     "name": "stdout",
     "output_type": "stream",
     "text": [
      "Could not append: []\n"
     ]
    },
    {
     "name": "stderr",
     "output_type": "stream",
     "text": [
      "C:\\Users\\jthoma\\AppData\\Local\\Temp\\ipykernel_6852\\2457786483.py:39: FutureWarning: The frame.append method is deprecated and will be removed from pandas in a future version. Use pandas.concat instead.\n",
      "  df = df.append(a_series, ignore_index=True)\n",
      "C:\\Users\\jthoma\\AppData\\Local\\Temp\\ipykernel_6852\\2457786483.py:39: FutureWarning: The frame.append method is deprecated and will be removed from pandas in a future version. Use pandas.concat instead.\n",
      "  df = df.append(a_series, ignore_index=True)\n",
      "C:\\Users\\jthoma\\AppData\\Local\\Temp\\ipykernel_6852\\2457786483.py:39: FutureWarning: The frame.append method is deprecated and will be removed from pandas in a future version. Use pandas.concat instead.\n",
      "  df = df.append(a_series, ignore_index=True)\n",
      "C:\\Users\\jthoma\\AppData\\Local\\Temp\\ipykernel_6852\\2457786483.py:39: FutureWarning: The frame.append method is deprecated and will be removed from pandas in a future version. Use pandas.concat instead.\n",
      "  df = df.append(a_series, ignore_index=True)\n",
      "C:\\Users\\jthoma\\AppData\\Local\\Temp\\ipykernel_6852\\2457786483.py:39: FutureWarning: The frame.append method is deprecated and will be removed from pandas in a future version. Use pandas.concat instead.\n",
      "  df = df.append(a_series, ignore_index=True)\n",
      "C:\\Users\\jthoma\\AppData\\Local\\Temp\\ipykernel_6852\\2457786483.py:39: FutureWarning: The frame.append method is deprecated and will be removed from pandas in a future version. Use pandas.concat instead.\n",
      "  df = df.append(a_series, ignore_index=True)\n",
      "C:\\Users\\jthoma\\AppData\\Local\\Temp\\ipykernel_6852\\2457786483.py:39: FutureWarning: The frame.append method is deprecated and will be removed from pandas in a future version. Use pandas.concat instead.\n",
      "  df = df.append(a_series, ignore_index=True)\n",
      "C:\\Users\\jthoma\\AppData\\Local\\Temp\\ipykernel_6852\\2457786483.py:39: FutureWarning: The frame.append method is deprecated and will be removed from pandas in a future version. Use pandas.concat instead.\n",
      "  df = df.append(a_series, ignore_index=True)\n",
      "C:\\Users\\jthoma\\AppData\\Local\\Temp\\ipykernel_6852\\2457786483.py:39: FutureWarning: The frame.append method is deprecated and will be removed from pandas in a future version. Use pandas.concat instead.\n",
      "  df = df.append(a_series, ignore_index=True)\n",
      "C:\\Users\\jthoma\\AppData\\Local\\Temp\\ipykernel_6852\\2457786483.py:39: FutureWarning: The frame.append method is deprecated and will be removed from pandas in a future version. Use pandas.concat instead.\n",
      "  df = df.append(a_series, ignore_index=True)\n"
     ]
    },
    {
     "name": "stdout",
     "output_type": "stream",
     "text": [
      "Could not append: ['... 21 22 23 24 25 26 27 28 29 30 ...', '...', '21', '22', '23', '24', '25', '26', '27', '28', '29', '30', '...']\n"
     ]
    },
    {
     "name": "stderr",
     "output_type": "stream",
     "text": [
      "C:\\Users\\jthoma\\AppData\\Local\\Temp\\ipykernel_6852\\2457786483.py:39: FutureWarning: The frame.append method is deprecated and will be removed from pandas in a future version. Use pandas.concat instead.\n",
      "  df = df.append(a_series, ignore_index=True)\n",
      "C:\\Users\\jthoma\\AppData\\Local\\Temp\\ipykernel_6852\\2457786483.py:38: FutureWarning: The default dtype for empty Series will be 'object' instead of 'float64' in a future version. Specify a dtype explicitly to silence this warning.\n",
      "  a_series = pd.Series(row_list, index = df.columns)\n"
     ]
    },
    {
     "name": "stdout",
     "output_type": "stream",
     "text": [
      "Could not append: []\n"
     ]
    },
    {
     "name": "stderr",
     "output_type": "stream",
     "text": [
      "C:\\Users\\jthoma\\AppData\\Local\\Temp\\ipykernel_6852\\2457786483.py:39: FutureWarning: The frame.append method is deprecated and will be removed from pandas in a future version. Use pandas.concat instead.\n",
      "  df = df.append(a_series, ignore_index=True)\n",
      "C:\\Users\\jthoma\\AppData\\Local\\Temp\\ipykernel_6852\\2457786483.py:39: FutureWarning: The frame.append method is deprecated and will be removed from pandas in a future version. Use pandas.concat instead.\n",
      "  df = df.append(a_series, ignore_index=True)\n",
      "C:\\Users\\jthoma\\AppData\\Local\\Temp\\ipykernel_6852\\2457786483.py:39: FutureWarning: The frame.append method is deprecated and will be removed from pandas in a future version. Use pandas.concat instead.\n",
      "  df = df.append(a_series, ignore_index=True)\n",
      "C:\\Users\\jthoma\\AppData\\Local\\Temp\\ipykernel_6852\\2457786483.py:39: FutureWarning: The frame.append method is deprecated and will be removed from pandas in a future version. Use pandas.concat instead.\n",
      "  df = df.append(a_series, ignore_index=True)\n",
      "C:\\Users\\jthoma\\AppData\\Local\\Temp\\ipykernel_6852\\2457786483.py:39: FutureWarning: The frame.append method is deprecated and will be removed from pandas in a future version. Use pandas.concat instead.\n",
      "  df = df.append(a_series, ignore_index=True)\n",
      "C:\\Users\\jthoma\\AppData\\Local\\Temp\\ipykernel_6852\\2457786483.py:39: FutureWarning: The frame.append method is deprecated and will be removed from pandas in a future version. Use pandas.concat instead.\n",
      "  df = df.append(a_series, ignore_index=True)\n",
      "C:\\Users\\jthoma\\AppData\\Local\\Temp\\ipykernel_6852\\2457786483.py:39: FutureWarning: The frame.append method is deprecated and will be removed from pandas in a future version. Use pandas.concat instead.\n",
      "  df = df.append(a_series, ignore_index=True)\n",
      "C:\\Users\\jthoma\\AppData\\Local\\Temp\\ipykernel_6852\\2457786483.py:39: FutureWarning: The frame.append method is deprecated and will be removed from pandas in a future version. Use pandas.concat instead.\n",
      "  df = df.append(a_series, ignore_index=True)\n",
      "C:\\Users\\jthoma\\AppData\\Local\\Temp\\ipykernel_6852\\2457786483.py:39: FutureWarning: The frame.append method is deprecated and will be removed from pandas in a future version. Use pandas.concat instead.\n",
      "  df = df.append(a_series, ignore_index=True)\n",
      "C:\\Users\\jthoma\\AppData\\Local\\Temp\\ipykernel_6852\\2457786483.py:39: FutureWarning: The frame.append method is deprecated and will be removed from pandas in a future version. Use pandas.concat instead.\n",
      "  df = df.append(a_series, ignore_index=True)\n"
     ]
    },
    {
     "name": "stdout",
     "output_type": "stream",
     "text": [
      "Could not append: ['... 31 32 33 34 35 36 37 38 39 40 ...', '...', '31', '32', '33', '34', '35', '36', '37', '38', '39', '40', '...']\n"
     ]
    },
    {
     "name": "stderr",
     "output_type": "stream",
     "text": [
      "C:\\Users\\jthoma\\AppData\\Local\\Temp\\ipykernel_6852\\2457786483.py:39: FutureWarning: The frame.append method is deprecated and will be removed from pandas in a future version. Use pandas.concat instead.\n",
      "  df = df.append(a_series, ignore_index=True)\n",
      "C:\\Users\\jthoma\\AppData\\Local\\Temp\\ipykernel_6852\\2457786483.py:38: FutureWarning: The default dtype for empty Series will be 'object' instead of 'float64' in a future version. Specify a dtype explicitly to silence this warning.\n",
      "  a_series = pd.Series(row_list, index = df.columns)\n"
     ]
    },
    {
     "name": "stdout",
     "output_type": "stream",
     "text": [
      "Could not append: []\n"
     ]
    },
    {
     "name": "stderr",
     "output_type": "stream",
     "text": [
      "C:\\Users\\jthoma\\AppData\\Local\\Temp\\ipykernel_6852\\2457786483.py:39: FutureWarning: The frame.append method is deprecated and will be removed from pandas in a future version. Use pandas.concat instead.\n",
      "  df = df.append(a_series, ignore_index=True)\n",
      "C:\\Users\\jthoma\\AppData\\Local\\Temp\\ipykernel_6852\\2457786483.py:39: FutureWarning: The frame.append method is deprecated and will be removed from pandas in a future version. Use pandas.concat instead.\n",
      "  df = df.append(a_series, ignore_index=True)\n",
      "C:\\Users\\jthoma\\AppData\\Local\\Temp\\ipykernel_6852\\2457786483.py:39: FutureWarning: The frame.append method is deprecated and will be removed from pandas in a future version. Use pandas.concat instead.\n",
      "  df = df.append(a_series, ignore_index=True)\n",
      "C:\\Users\\jthoma\\AppData\\Local\\Temp\\ipykernel_6852\\2457786483.py:39: FutureWarning: The frame.append method is deprecated and will be removed from pandas in a future version. Use pandas.concat instead.\n",
      "  df = df.append(a_series, ignore_index=True)\n",
      "C:\\Users\\jthoma\\AppData\\Local\\Temp\\ipykernel_6852\\2457786483.py:39: FutureWarning: The frame.append method is deprecated and will be removed from pandas in a future version. Use pandas.concat instead.\n",
      "  df = df.append(a_series, ignore_index=True)\n",
      "C:\\Users\\jthoma\\AppData\\Local\\Temp\\ipykernel_6852\\2457786483.py:39: FutureWarning: The frame.append method is deprecated and will be removed from pandas in a future version. Use pandas.concat instead.\n",
      "  df = df.append(a_series, ignore_index=True)\n",
      "C:\\Users\\jthoma\\AppData\\Local\\Temp\\ipykernel_6852\\2457786483.py:39: FutureWarning: The frame.append method is deprecated and will be removed from pandas in a future version. Use pandas.concat instead.\n",
      "  df = df.append(a_series, ignore_index=True)\n",
      "C:\\Users\\jthoma\\AppData\\Local\\Temp\\ipykernel_6852\\2457786483.py:39: FutureWarning: The frame.append method is deprecated and will be removed from pandas in a future version. Use pandas.concat instead.\n",
      "  df = df.append(a_series, ignore_index=True)\n",
      "C:\\Users\\jthoma\\AppData\\Local\\Temp\\ipykernel_6852\\2457786483.py:39: FutureWarning: The frame.append method is deprecated and will be removed from pandas in a future version. Use pandas.concat instead.\n",
      "  df = df.append(a_series, ignore_index=True)\n",
      "C:\\Users\\jthoma\\AppData\\Local\\Temp\\ipykernel_6852\\2457786483.py:39: FutureWarning: The frame.append method is deprecated and will be removed from pandas in a future version. Use pandas.concat instead.\n",
      "  df = df.append(a_series, ignore_index=True)\n"
     ]
    },
    {
     "name": "stdout",
     "output_type": "stream",
     "text": [
      "Could not append: ['... 31 32 33 34 35 36 37 38 39 40 ...', '...', '31', '32', '33', '34', '35', '36', '37', '38', '39', '40', '...']\n"
     ]
    },
    {
     "name": "stderr",
     "output_type": "stream",
     "text": [
      "C:\\Users\\jthoma\\AppData\\Local\\Temp\\ipykernel_6852\\2457786483.py:39: FutureWarning: The frame.append method is deprecated and will be removed from pandas in a future version. Use pandas.concat instead.\n",
      "  df = df.append(a_series, ignore_index=True)\n",
      "C:\\Users\\jthoma\\AppData\\Local\\Temp\\ipykernel_6852\\2457786483.py:38: FutureWarning: The default dtype for empty Series will be 'object' instead of 'float64' in a future version. Specify a dtype explicitly to silence this warning.\n",
      "  a_series = pd.Series(row_list, index = df.columns)\n"
     ]
    },
    {
     "name": "stdout",
     "output_type": "stream",
     "text": [
      "Could not append: []\n"
     ]
    },
    {
     "name": "stderr",
     "output_type": "stream",
     "text": [
      "C:\\Users\\jthoma\\AppData\\Local\\Temp\\ipykernel_6852\\2457786483.py:39: FutureWarning: The frame.append method is deprecated and will be removed from pandas in a future version. Use pandas.concat instead.\n",
      "  df = df.append(a_series, ignore_index=True)\n",
      "C:\\Users\\jthoma\\AppData\\Local\\Temp\\ipykernel_6852\\2457786483.py:39: FutureWarning: The frame.append method is deprecated and will be removed from pandas in a future version. Use pandas.concat instead.\n",
      "  df = df.append(a_series, ignore_index=True)\n",
      "C:\\Users\\jthoma\\AppData\\Local\\Temp\\ipykernel_6852\\2457786483.py:39: FutureWarning: The frame.append method is deprecated and will be removed from pandas in a future version. Use pandas.concat instead.\n",
      "  df = df.append(a_series, ignore_index=True)\n",
      "C:\\Users\\jthoma\\AppData\\Local\\Temp\\ipykernel_6852\\2457786483.py:39: FutureWarning: The frame.append method is deprecated and will be removed from pandas in a future version. Use pandas.concat instead.\n",
      "  df = df.append(a_series, ignore_index=True)\n",
      "C:\\Users\\jthoma\\AppData\\Local\\Temp\\ipykernel_6852\\2457786483.py:39: FutureWarning: The frame.append method is deprecated and will be removed from pandas in a future version. Use pandas.concat instead.\n",
      "  df = df.append(a_series, ignore_index=True)\n",
      "C:\\Users\\jthoma\\AppData\\Local\\Temp\\ipykernel_6852\\2457786483.py:39: FutureWarning: The frame.append method is deprecated and will be removed from pandas in a future version. Use pandas.concat instead.\n",
      "  df = df.append(a_series, ignore_index=True)\n",
      "C:\\Users\\jthoma\\AppData\\Local\\Temp\\ipykernel_6852\\2457786483.py:39: FutureWarning: The frame.append method is deprecated and will be removed from pandas in a future version. Use pandas.concat instead.\n",
      "  df = df.append(a_series, ignore_index=True)\n",
      "C:\\Users\\jthoma\\AppData\\Local\\Temp\\ipykernel_6852\\2457786483.py:39: FutureWarning: The frame.append method is deprecated and will be removed from pandas in a future version. Use pandas.concat instead.\n",
      "  df = df.append(a_series, ignore_index=True)\n",
      "C:\\Users\\jthoma\\AppData\\Local\\Temp\\ipykernel_6852\\2457786483.py:39: FutureWarning: The frame.append method is deprecated and will be removed from pandas in a future version. Use pandas.concat instead.\n",
      "  df = df.append(a_series, ignore_index=True)\n",
      "C:\\Users\\jthoma\\AppData\\Local\\Temp\\ipykernel_6852\\2457786483.py:39: FutureWarning: The frame.append method is deprecated and will be removed from pandas in a future version. Use pandas.concat instead.\n",
      "  df = df.append(a_series, ignore_index=True)\n"
     ]
    },
    {
     "name": "stdout",
     "output_type": "stream",
     "text": [
      "Could not append: ['... 31 32 33 34 35 36 37 38 39 40 ...', '...', '31', '32', '33', '34', '35', '36', '37', '38', '39', '40', '...']\n"
     ]
    },
    {
     "name": "stderr",
     "output_type": "stream",
     "text": [
      "C:\\Users\\jthoma\\AppData\\Local\\Temp\\ipykernel_6852\\2457786483.py:39: FutureWarning: The frame.append method is deprecated and will be removed from pandas in a future version. Use pandas.concat instead.\n",
      "  df = df.append(a_series, ignore_index=True)\n",
      "C:\\Users\\jthoma\\AppData\\Local\\Temp\\ipykernel_6852\\2457786483.py:38: FutureWarning: The default dtype for empty Series will be 'object' instead of 'float64' in a future version. Specify a dtype explicitly to silence this warning.\n",
      "  a_series = pd.Series(row_list, index = df.columns)\n"
     ]
    },
    {
     "name": "stdout",
     "output_type": "stream",
     "text": [
      "Could not append: []\n"
     ]
    },
    {
     "name": "stderr",
     "output_type": "stream",
     "text": [
      "C:\\Users\\jthoma\\AppData\\Local\\Temp\\ipykernel_6852\\2457786483.py:39: FutureWarning: The frame.append method is deprecated and will be removed from pandas in a future version. Use pandas.concat instead.\n",
      "  df = df.append(a_series, ignore_index=True)\n",
      "C:\\Users\\jthoma\\AppData\\Local\\Temp\\ipykernel_6852\\2457786483.py:39: FutureWarning: The frame.append method is deprecated and will be removed from pandas in a future version. Use pandas.concat instead.\n",
      "  df = df.append(a_series, ignore_index=True)\n",
      "C:\\Users\\jthoma\\AppData\\Local\\Temp\\ipykernel_6852\\2457786483.py:39: FutureWarning: The frame.append method is deprecated and will be removed from pandas in a future version. Use pandas.concat instead.\n",
      "  df = df.append(a_series, ignore_index=True)\n",
      "C:\\Users\\jthoma\\AppData\\Local\\Temp\\ipykernel_6852\\2457786483.py:39: FutureWarning: The frame.append method is deprecated and will be removed from pandas in a future version. Use pandas.concat instead.\n",
      "  df = df.append(a_series, ignore_index=True)\n",
      "C:\\Users\\jthoma\\AppData\\Local\\Temp\\ipykernel_6852\\2457786483.py:39: FutureWarning: The frame.append method is deprecated and will be removed from pandas in a future version. Use pandas.concat instead.\n",
      "  df = df.append(a_series, ignore_index=True)\n",
      "C:\\Users\\jthoma\\AppData\\Local\\Temp\\ipykernel_6852\\2457786483.py:39: FutureWarning: The frame.append method is deprecated and will be removed from pandas in a future version. Use pandas.concat instead.\n",
      "  df = df.append(a_series, ignore_index=True)\n",
      "C:\\Users\\jthoma\\AppData\\Local\\Temp\\ipykernel_6852\\2457786483.py:39: FutureWarning: The frame.append method is deprecated and will be removed from pandas in a future version. Use pandas.concat instead.\n",
      "  df = df.append(a_series, ignore_index=True)\n",
      "C:\\Users\\jthoma\\AppData\\Local\\Temp\\ipykernel_6852\\2457786483.py:39: FutureWarning: The frame.append method is deprecated and will be removed from pandas in a future version. Use pandas.concat instead.\n",
      "  df = df.append(a_series, ignore_index=True)\n",
      "C:\\Users\\jthoma\\AppData\\Local\\Temp\\ipykernel_6852\\2457786483.py:39: FutureWarning: The frame.append method is deprecated and will be removed from pandas in a future version. Use pandas.concat instead.\n",
      "  df = df.append(a_series, ignore_index=True)\n",
      "C:\\Users\\jthoma\\AppData\\Local\\Temp\\ipykernel_6852\\2457786483.py:39: FutureWarning: The frame.append method is deprecated and will be removed from pandas in a future version. Use pandas.concat instead.\n",
      "  df = df.append(a_series, ignore_index=True)\n"
     ]
    },
    {
     "name": "stdout",
     "output_type": "stream",
     "text": [
      "Could not append: ['... 31 32 33 34 35 36 37 38 39 40 ...', '...', '31', '32', '33', '34', '35', '36', '37', '38', '39', '40', '...']\n"
     ]
    },
    {
     "name": "stderr",
     "output_type": "stream",
     "text": [
      "C:\\Users\\jthoma\\AppData\\Local\\Temp\\ipykernel_6852\\2457786483.py:39: FutureWarning: The frame.append method is deprecated and will be removed from pandas in a future version. Use pandas.concat instead.\n",
      "  df = df.append(a_series, ignore_index=True)\n",
      "C:\\Users\\jthoma\\AppData\\Local\\Temp\\ipykernel_6852\\2457786483.py:38: FutureWarning: The default dtype for empty Series will be 'object' instead of 'float64' in a future version. Specify a dtype explicitly to silence this warning.\n",
      "  a_series = pd.Series(row_list, index = df.columns)\n"
     ]
    },
    {
     "name": "stdout",
     "output_type": "stream",
     "text": [
      "Could not append: []\n"
     ]
    },
    {
     "name": "stderr",
     "output_type": "stream",
     "text": [
      "C:\\Users\\jthoma\\AppData\\Local\\Temp\\ipykernel_6852\\2457786483.py:39: FutureWarning: The frame.append method is deprecated and will be removed from pandas in a future version. Use pandas.concat instead.\n",
      "  df = df.append(a_series, ignore_index=True)\n",
      "C:\\Users\\jthoma\\AppData\\Local\\Temp\\ipykernel_6852\\2457786483.py:39: FutureWarning: The frame.append method is deprecated and will be removed from pandas in a future version. Use pandas.concat instead.\n",
      "  df = df.append(a_series, ignore_index=True)\n",
      "C:\\Users\\jthoma\\AppData\\Local\\Temp\\ipykernel_6852\\2457786483.py:39: FutureWarning: The frame.append method is deprecated and will be removed from pandas in a future version. Use pandas.concat instead.\n",
      "  df = df.append(a_series, ignore_index=True)\n",
      "C:\\Users\\jthoma\\AppData\\Local\\Temp\\ipykernel_6852\\2457786483.py:39: FutureWarning: The frame.append method is deprecated and will be removed from pandas in a future version. Use pandas.concat instead.\n",
      "  df = df.append(a_series, ignore_index=True)\n",
      "C:\\Users\\jthoma\\AppData\\Local\\Temp\\ipykernel_6852\\2457786483.py:39: FutureWarning: The frame.append method is deprecated and will be removed from pandas in a future version. Use pandas.concat instead.\n",
      "  df = df.append(a_series, ignore_index=True)\n",
      "C:\\Users\\jthoma\\AppData\\Local\\Temp\\ipykernel_6852\\2457786483.py:39: FutureWarning: The frame.append method is deprecated and will be removed from pandas in a future version. Use pandas.concat instead.\n",
      "  df = df.append(a_series, ignore_index=True)\n",
      "C:\\Users\\jthoma\\AppData\\Local\\Temp\\ipykernel_6852\\2457786483.py:39: FutureWarning: The frame.append method is deprecated and will be removed from pandas in a future version. Use pandas.concat instead.\n",
      "  df = df.append(a_series, ignore_index=True)\n",
      "C:\\Users\\jthoma\\AppData\\Local\\Temp\\ipykernel_6852\\2457786483.py:39: FutureWarning: The frame.append method is deprecated and will be removed from pandas in a future version. Use pandas.concat instead.\n",
      "  df = df.append(a_series, ignore_index=True)\n",
      "C:\\Users\\jthoma\\AppData\\Local\\Temp\\ipykernel_6852\\2457786483.py:39: FutureWarning: The frame.append method is deprecated and will be removed from pandas in a future version. Use pandas.concat instead.\n",
      "  df = df.append(a_series, ignore_index=True)\n",
      "C:\\Users\\jthoma\\AppData\\Local\\Temp\\ipykernel_6852\\2457786483.py:39: FutureWarning: The frame.append method is deprecated and will be removed from pandas in a future version. Use pandas.concat instead.\n",
      "  df = df.append(a_series, ignore_index=True)\n"
     ]
    },
    {
     "name": "stdout",
     "output_type": "stream",
     "text": [
      "Could not append: ['... 31 32 33 34 35 36 37 38 39 40 ...', '...', '31', '32', '33', '34', '35', '36', '37', '38', '39', '40', '...']\n"
     ]
    },
    {
     "name": "stderr",
     "output_type": "stream",
     "text": [
      "C:\\Users\\jthoma\\AppData\\Local\\Temp\\ipykernel_6852\\2457786483.py:39: FutureWarning: The frame.append method is deprecated and will be removed from pandas in a future version. Use pandas.concat instead.\n",
      "  df = df.append(a_series, ignore_index=True)\n",
      "C:\\Users\\jthoma\\AppData\\Local\\Temp\\ipykernel_6852\\2457786483.py:38: FutureWarning: The default dtype for empty Series will be 'object' instead of 'float64' in a future version. Specify a dtype explicitly to silence this warning.\n",
      "  a_series = pd.Series(row_list, index = df.columns)\n"
     ]
    },
    {
     "name": "stdout",
     "output_type": "stream",
     "text": [
      "Could not append: []\n"
     ]
    },
    {
     "name": "stderr",
     "output_type": "stream",
     "text": [
      "C:\\Users\\jthoma\\AppData\\Local\\Temp\\ipykernel_6852\\2457786483.py:39: FutureWarning: The frame.append method is deprecated and will be removed from pandas in a future version. Use pandas.concat instead.\n",
      "  df = df.append(a_series, ignore_index=True)\n",
      "C:\\Users\\jthoma\\AppData\\Local\\Temp\\ipykernel_6852\\2457786483.py:39: FutureWarning: The frame.append method is deprecated and will be removed from pandas in a future version. Use pandas.concat instead.\n",
      "  df = df.append(a_series, ignore_index=True)\n",
      "C:\\Users\\jthoma\\AppData\\Local\\Temp\\ipykernel_6852\\2457786483.py:39: FutureWarning: The frame.append method is deprecated and will be removed from pandas in a future version. Use pandas.concat instead.\n",
      "  df = df.append(a_series, ignore_index=True)\n",
      "C:\\Users\\jthoma\\AppData\\Local\\Temp\\ipykernel_6852\\2457786483.py:39: FutureWarning: The frame.append method is deprecated and will be removed from pandas in a future version. Use pandas.concat instead.\n",
      "  df = df.append(a_series, ignore_index=True)\n",
      "C:\\Users\\jthoma\\AppData\\Local\\Temp\\ipykernel_6852\\2457786483.py:39: FutureWarning: The frame.append method is deprecated and will be removed from pandas in a future version. Use pandas.concat instead.\n",
      "  df = df.append(a_series, ignore_index=True)\n",
      "C:\\Users\\jthoma\\AppData\\Local\\Temp\\ipykernel_6852\\2457786483.py:39: FutureWarning: The frame.append method is deprecated and will be removed from pandas in a future version. Use pandas.concat instead.\n",
      "  df = df.append(a_series, ignore_index=True)\n",
      "C:\\Users\\jthoma\\AppData\\Local\\Temp\\ipykernel_6852\\2457786483.py:39: FutureWarning: The frame.append method is deprecated and will be removed from pandas in a future version. Use pandas.concat instead.\n",
      "  df = df.append(a_series, ignore_index=True)\n",
      "C:\\Users\\jthoma\\AppData\\Local\\Temp\\ipykernel_6852\\2457786483.py:39: FutureWarning: The frame.append method is deprecated and will be removed from pandas in a future version. Use pandas.concat instead.\n",
      "  df = df.append(a_series, ignore_index=True)\n",
      "C:\\Users\\jthoma\\AppData\\Local\\Temp\\ipykernel_6852\\2457786483.py:39: FutureWarning: The frame.append method is deprecated and will be removed from pandas in a future version. Use pandas.concat instead.\n",
      "  df = df.append(a_series, ignore_index=True)\n",
      "C:\\Users\\jthoma\\AppData\\Local\\Temp\\ipykernel_6852\\2457786483.py:39: FutureWarning: The frame.append method is deprecated and will be removed from pandas in a future version. Use pandas.concat instead.\n",
      "  df = df.append(a_series, ignore_index=True)\n"
     ]
    },
    {
     "name": "stdout",
     "output_type": "stream",
     "text": [
      "Could not append: ['... 31 32 33 34 35 36 37 38 39 40 ...', '...', '31', '32', '33', '34', '35', '36', '37', '38', '39', '40', '...']\n"
     ]
    },
    {
     "name": "stderr",
     "output_type": "stream",
     "text": [
      "C:\\Users\\jthoma\\AppData\\Local\\Temp\\ipykernel_6852\\2457786483.py:39: FutureWarning: The frame.append method is deprecated and will be removed from pandas in a future version. Use pandas.concat instead.\n",
      "  df = df.append(a_series, ignore_index=True)\n",
      "C:\\Users\\jthoma\\AppData\\Local\\Temp\\ipykernel_6852\\2457786483.py:38: FutureWarning: The default dtype for empty Series will be 'object' instead of 'float64' in a future version. Specify a dtype explicitly to silence this warning.\n",
      "  a_series = pd.Series(row_list, index = df.columns)\n"
     ]
    },
    {
     "name": "stdout",
     "output_type": "stream",
     "text": [
      "Could not append: []\n"
     ]
    },
    {
     "name": "stderr",
     "output_type": "stream",
     "text": [
      "C:\\Users\\jthoma\\AppData\\Local\\Temp\\ipykernel_6852\\2457786483.py:39: FutureWarning: The frame.append method is deprecated and will be removed from pandas in a future version. Use pandas.concat instead.\n",
      "  df = df.append(a_series, ignore_index=True)\n",
      "C:\\Users\\jthoma\\AppData\\Local\\Temp\\ipykernel_6852\\2457786483.py:39: FutureWarning: The frame.append method is deprecated and will be removed from pandas in a future version. Use pandas.concat instead.\n",
      "  df = df.append(a_series, ignore_index=True)\n",
      "C:\\Users\\jthoma\\AppData\\Local\\Temp\\ipykernel_6852\\2457786483.py:39: FutureWarning: The frame.append method is deprecated and will be removed from pandas in a future version. Use pandas.concat instead.\n",
      "  df = df.append(a_series, ignore_index=True)\n",
      "C:\\Users\\jthoma\\AppData\\Local\\Temp\\ipykernel_6852\\2457786483.py:39: FutureWarning: The frame.append method is deprecated and will be removed from pandas in a future version. Use pandas.concat instead.\n",
      "  df = df.append(a_series, ignore_index=True)\n",
      "C:\\Users\\jthoma\\AppData\\Local\\Temp\\ipykernel_6852\\2457786483.py:39: FutureWarning: The frame.append method is deprecated and will be removed from pandas in a future version. Use pandas.concat instead.\n",
      "  df = df.append(a_series, ignore_index=True)\n",
      "C:\\Users\\jthoma\\AppData\\Local\\Temp\\ipykernel_6852\\2457786483.py:39: FutureWarning: The frame.append method is deprecated and will be removed from pandas in a future version. Use pandas.concat instead.\n",
      "  df = df.append(a_series, ignore_index=True)\n",
      "C:\\Users\\jthoma\\AppData\\Local\\Temp\\ipykernel_6852\\2457786483.py:39: FutureWarning: The frame.append method is deprecated and will be removed from pandas in a future version. Use pandas.concat instead.\n",
      "  df = df.append(a_series, ignore_index=True)\n",
      "C:\\Users\\jthoma\\AppData\\Local\\Temp\\ipykernel_6852\\2457786483.py:39: FutureWarning: The frame.append method is deprecated and will be removed from pandas in a future version. Use pandas.concat instead.\n",
      "  df = df.append(a_series, ignore_index=True)\n",
      "C:\\Users\\jthoma\\AppData\\Local\\Temp\\ipykernel_6852\\2457786483.py:39: FutureWarning: The frame.append method is deprecated and will be removed from pandas in a future version. Use pandas.concat instead.\n",
      "  df = df.append(a_series, ignore_index=True)\n",
      "C:\\Users\\jthoma\\AppData\\Local\\Temp\\ipykernel_6852\\2457786483.py:39: FutureWarning: The frame.append method is deprecated and will be removed from pandas in a future version. Use pandas.concat instead.\n",
      "  df = df.append(a_series, ignore_index=True)\n"
     ]
    },
    {
     "name": "stdout",
     "output_type": "stream",
     "text": [
      "Could not append: ['... 31 32 33 34 35 36 37 38 39 40 ...', '...', '31', '32', '33', '34', '35', '36', '37', '38', '39', '40', '...']\n"
     ]
    },
    {
     "name": "stderr",
     "output_type": "stream",
     "text": [
      "C:\\Users\\jthoma\\AppData\\Local\\Temp\\ipykernel_6852\\2457786483.py:39: FutureWarning: The frame.append method is deprecated and will be removed from pandas in a future version. Use pandas.concat instead.\n",
      "  df = df.append(a_series, ignore_index=True)\n",
      "C:\\Users\\jthoma\\AppData\\Local\\Temp\\ipykernel_6852\\2457786483.py:38: FutureWarning: The default dtype for empty Series will be 'object' instead of 'float64' in a future version. Specify a dtype explicitly to silence this warning.\n",
      "  a_series = pd.Series(row_list, index = df.columns)\n"
     ]
    },
    {
     "name": "stdout",
     "output_type": "stream",
     "text": [
      "Could not append: []\n"
     ]
    },
    {
     "name": "stderr",
     "output_type": "stream",
     "text": [
      "C:\\Users\\jthoma\\AppData\\Local\\Temp\\ipykernel_6852\\2457786483.py:39: FutureWarning: The frame.append method is deprecated and will be removed from pandas in a future version. Use pandas.concat instead.\n",
      "  df = df.append(a_series, ignore_index=True)\n",
      "C:\\Users\\jthoma\\AppData\\Local\\Temp\\ipykernel_6852\\2457786483.py:39: FutureWarning: The frame.append method is deprecated and will be removed from pandas in a future version. Use pandas.concat instead.\n",
      "  df = df.append(a_series, ignore_index=True)\n",
      "C:\\Users\\jthoma\\AppData\\Local\\Temp\\ipykernel_6852\\2457786483.py:39: FutureWarning: The frame.append method is deprecated and will be removed from pandas in a future version. Use pandas.concat instead.\n",
      "  df = df.append(a_series, ignore_index=True)\n",
      "C:\\Users\\jthoma\\AppData\\Local\\Temp\\ipykernel_6852\\2457786483.py:39: FutureWarning: The frame.append method is deprecated and will be removed from pandas in a future version. Use pandas.concat instead.\n",
      "  df = df.append(a_series, ignore_index=True)\n",
      "C:\\Users\\jthoma\\AppData\\Local\\Temp\\ipykernel_6852\\2457786483.py:39: FutureWarning: The frame.append method is deprecated and will be removed from pandas in a future version. Use pandas.concat instead.\n",
      "  df = df.append(a_series, ignore_index=True)\n",
      "C:\\Users\\jthoma\\AppData\\Local\\Temp\\ipykernel_6852\\2457786483.py:39: FutureWarning: The frame.append method is deprecated and will be removed from pandas in a future version. Use pandas.concat instead.\n",
      "  df = df.append(a_series, ignore_index=True)\n",
      "C:\\Users\\jthoma\\AppData\\Local\\Temp\\ipykernel_6852\\2457786483.py:39: FutureWarning: The frame.append method is deprecated and will be removed from pandas in a future version. Use pandas.concat instead.\n",
      "  df = df.append(a_series, ignore_index=True)\n",
      "C:\\Users\\jthoma\\AppData\\Local\\Temp\\ipykernel_6852\\2457786483.py:39: FutureWarning: The frame.append method is deprecated and will be removed from pandas in a future version. Use pandas.concat instead.\n",
      "  df = df.append(a_series, ignore_index=True)\n",
      "C:\\Users\\jthoma\\AppData\\Local\\Temp\\ipykernel_6852\\2457786483.py:39: FutureWarning: The frame.append method is deprecated and will be removed from pandas in a future version. Use pandas.concat instead.\n",
      "  df = df.append(a_series, ignore_index=True)\n",
      "C:\\Users\\jthoma\\AppData\\Local\\Temp\\ipykernel_6852\\2457786483.py:39: FutureWarning: The frame.append method is deprecated and will be removed from pandas in a future version. Use pandas.concat instead.\n",
      "  df = df.append(a_series, ignore_index=True)\n"
     ]
    },
    {
     "name": "stdout",
     "output_type": "stream",
     "text": [
      "Could not append: ['... 31 32 33 34 35 36 37 38 39 40 ...', '...', '31', '32', '33', '34', '35', '36', '37', '38', '39', '40', '...']\n"
     ]
    },
    {
     "name": "stderr",
     "output_type": "stream",
     "text": [
      "C:\\Users\\jthoma\\AppData\\Local\\Temp\\ipykernel_6852\\2457786483.py:39: FutureWarning: The frame.append method is deprecated and will be removed from pandas in a future version. Use pandas.concat instead.\n",
      "  df = df.append(a_series, ignore_index=True)\n",
      "C:\\Users\\jthoma\\AppData\\Local\\Temp\\ipykernel_6852\\2457786483.py:38: FutureWarning: The default dtype for empty Series will be 'object' instead of 'float64' in a future version. Specify a dtype explicitly to silence this warning.\n",
      "  a_series = pd.Series(row_list, index = df.columns)\n"
     ]
    },
    {
     "name": "stdout",
     "output_type": "stream",
     "text": [
      "Could not append: []\n"
     ]
    },
    {
     "name": "stderr",
     "output_type": "stream",
     "text": [
      "C:\\Users\\jthoma\\AppData\\Local\\Temp\\ipykernel_6852\\2457786483.py:39: FutureWarning: The frame.append method is deprecated and will be removed from pandas in a future version. Use pandas.concat instead.\n",
      "  df = df.append(a_series, ignore_index=True)\n",
      "C:\\Users\\jthoma\\AppData\\Local\\Temp\\ipykernel_6852\\2457786483.py:39: FutureWarning: The frame.append method is deprecated and will be removed from pandas in a future version. Use pandas.concat instead.\n",
      "  df = df.append(a_series, ignore_index=True)\n",
      "C:\\Users\\jthoma\\AppData\\Local\\Temp\\ipykernel_6852\\2457786483.py:39: FutureWarning: The frame.append method is deprecated and will be removed from pandas in a future version. Use pandas.concat instead.\n",
      "  df = df.append(a_series, ignore_index=True)\n",
      "C:\\Users\\jthoma\\AppData\\Local\\Temp\\ipykernel_6852\\2457786483.py:39: FutureWarning: The frame.append method is deprecated and will be removed from pandas in a future version. Use pandas.concat instead.\n",
      "  df = df.append(a_series, ignore_index=True)\n",
      "C:\\Users\\jthoma\\AppData\\Local\\Temp\\ipykernel_6852\\2457786483.py:39: FutureWarning: The frame.append method is deprecated and will be removed from pandas in a future version. Use pandas.concat instead.\n",
      "  df = df.append(a_series, ignore_index=True)\n",
      "C:\\Users\\jthoma\\AppData\\Local\\Temp\\ipykernel_6852\\2457786483.py:39: FutureWarning: The frame.append method is deprecated and will be removed from pandas in a future version. Use pandas.concat instead.\n",
      "  df = df.append(a_series, ignore_index=True)\n",
      "C:\\Users\\jthoma\\AppData\\Local\\Temp\\ipykernel_6852\\2457786483.py:39: FutureWarning: The frame.append method is deprecated and will be removed from pandas in a future version. Use pandas.concat instead.\n",
      "  df = df.append(a_series, ignore_index=True)\n",
      "C:\\Users\\jthoma\\AppData\\Local\\Temp\\ipykernel_6852\\2457786483.py:39: FutureWarning: The frame.append method is deprecated and will be removed from pandas in a future version. Use pandas.concat instead.\n",
      "  df = df.append(a_series, ignore_index=True)\n",
      "C:\\Users\\jthoma\\AppData\\Local\\Temp\\ipykernel_6852\\2457786483.py:39: FutureWarning: The frame.append method is deprecated and will be removed from pandas in a future version. Use pandas.concat instead.\n",
      "  df = df.append(a_series, ignore_index=True)\n",
      "C:\\Users\\jthoma\\AppData\\Local\\Temp\\ipykernel_6852\\2457786483.py:39: FutureWarning: The frame.append method is deprecated and will be removed from pandas in a future version. Use pandas.concat instead.\n",
      "  df = df.append(a_series, ignore_index=True)\n"
     ]
    },
    {
     "name": "stdout",
     "output_type": "stream",
     "text": [
      "Could not append: ['... 31 32 33 34 35 36 37 38 39 40 ...', '...', '31', '32', '33', '34', '35', '36', '37', '38', '39', '40', '...']\n"
     ]
    },
    {
     "name": "stderr",
     "output_type": "stream",
     "text": [
      "C:\\Users\\jthoma\\AppData\\Local\\Temp\\ipykernel_6852\\2457786483.py:39: FutureWarning: The frame.append method is deprecated and will be removed from pandas in a future version. Use pandas.concat instead.\n",
      "  df = df.append(a_series, ignore_index=True)\n",
      "C:\\Users\\jthoma\\AppData\\Local\\Temp\\ipykernel_6852\\2457786483.py:38: FutureWarning: The default dtype for empty Series will be 'object' instead of 'float64' in a future version. Specify a dtype explicitly to silence this warning.\n",
      "  a_series = pd.Series(row_list, index = df.columns)\n"
     ]
    },
    {
     "name": "stdout",
     "output_type": "stream",
     "text": [
      "Could not append: []\n"
     ]
    },
    {
     "name": "stderr",
     "output_type": "stream",
     "text": [
      "C:\\Users\\jthoma\\AppData\\Local\\Temp\\ipykernel_6852\\2457786483.py:39: FutureWarning: The frame.append method is deprecated and will be removed from pandas in a future version. Use pandas.concat instead.\n",
      "  df = df.append(a_series, ignore_index=True)\n",
      "C:\\Users\\jthoma\\AppData\\Local\\Temp\\ipykernel_6852\\2457786483.py:39: FutureWarning: The frame.append method is deprecated and will be removed from pandas in a future version. Use pandas.concat instead.\n",
      "  df = df.append(a_series, ignore_index=True)\n",
      "C:\\Users\\jthoma\\AppData\\Local\\Temp\\ipykernel_6852\\2457786483.py:39: FutureWarning: The frame.append method is deprecated and will be removed from pandas in a future version. Use pandas.concat instead.\n",
      "  df = df.append(a_series, ignore_index=True)\n",
      "C:\\Users\\jthoma\\AppData\\Local\\Temp\\ipykernel_6852\\2457786483.py:39: FutureWarning: The frame.append method is deprecated and will be removed from pandas in a future version. Use pandas.concat instead.\n",
      "  df = df.append(a_series, ignore_index=True)\n",
      "C:\\Users\\jthoma\\AppData\\Local\\Temp\\ipykernel_6852\\2457786483.py:39: FutureWarning: The frame.append method is deprecated and will be removed from pandas in a future version. Use pandas.concat instead.\n",
      "  df = df.append(a_series, ignore_index=True)\n",
      "C:\\Users\\jthoma\\AppData\\Local\\Temp\\ipykernel_6852\\2457786483.py:39: FutureWarning: The frame.append method is deprecated and will be removed from pandas in a future version. Use pandas.concat instead.\n",
      "  df = df.append(a_series, ignore_index=True)\n",
      "C:\\Users\\jthoma\\AppData\\Local\\Temp\\ipykernel_6852\\2457786483.py:39: FutureWarning: The frame.append method is deprecated and will be removed from pandas in a future version. Use pandas.concat instead.\n",
      "  df = df.append(a_series, ignore_index=True)\n",
      "C:\\Users\\jthoma\\AppData\\Local\\Temp\\ipykernel_6852\\2457786483.py:39: FutureWarning: The frame.append method is deprecated and will be removed from pandas in a future version. Use pandas.concat instead.\n",
      "  df = df.append(a_series, ignore_index=True)\n",
      "C:\\Users\\jthoma\\AppData\\Local\\Temp\\ipykernel_6852\\2457786483.py:39: FutureWarning: The frame.append method is deprecated and will be removed from pandas in a future version. Use pandas.concat instead.\n",
      "  df = df.append(a_series, ignore_index=True)\n",
      "C:\\Users\\jthoma\\AppData\\Local\\Temp\\ipykernel_6852\\2457786483.py:39: FutureWarning: The frame.append method is deprecated and will be removed from pandas in a future version. Use pandas.concat instead.\n",
      "  df = df.append(a_series, ignore_index=True)\n"
     ]
    },
    {
     "name": "stdout",
     "output_type": "stream",
     "text": [
      "Could not append: ['... 31 32 33 34 35 36 37 38 39 40 ...', '...', '31', '32', '33', '34', '35', '36', '37', '38', '39', '40', '...']\n"
     ]
    },
    {
     "name": "stderr",
     "output_type": "stream",
     "text": [
      "C:\\Users\\jthoma\\AppData\\Local\\Temp\\ipykernel_6852\\2457786483.py:39: FutureWarning: The frame.append method is deprecated and will be removed from pandas in a future version. Use pandas.concat instead.\n",
      "  df = df.append(a_series, ignore_index=True)\n",
      "C:\\Users\\jthoma\\AppData\\Local\\Temp\\ipykernel_6852\\2457786483.py:38: FutureWarning: The default dtype for empty Series will be 'object' instead of 'float64' in a future version. Specify a dtype explicitly to silence this warning.\n",
      "  a_series = pd.Series(row_list, index = df.columns)\n"
     ]
    },
    {
     "name": "stdout",
     "output_type": "stream",
     "text": [
      "Could not append: []\n"
     ]
    },
    {
     "name": "stderr",
     "output_type": "stream",
     "text": [
      "C:\\Users\\jthoma\\AppData\\Local\\Temp\\ipykernel_6852\\2457786483.py:39: FutureWarning: The frame.append method is deprecated and will be removed from pandas in a future version. Use pandas.concat instead.\n",
      "  df = df.append(a_series, ignore_index=True)\n",
      "C:\\Users\\jthoma\\AppData\\Local\\Temp\\ipykernel_6852\\2457786483.py:39: FutureWarning: The frame.append method is deprecated and will be removed from pandas in a future version. Use pandas.concat instead.\n",
      "  df = df.append(a_series, ignore_index=True)\n",
      "C:\\Users\\jthoma\\AppData\\Local\\Temp\\ipykernel_6852\\2457786483.py:39: FutureWarning: The frame.append method is deprecated and will be removed from pandas in a future version. Use pandas.concat instead.\n",
      "  df = df.append(a_series, ignore_index=True)\n",
      "C:\\Users\\jthoma\\AppData\\Local\\Temp\\ipykernel_6852\\2457786483.py:39: FutureWarning: The frame.append method is deprecated and will be removed from pandas in a future version. Use pandas.concat instead.\n",
      "  df = df.append(a_series, ignore_index=True)\n",
      "C:\\Users\\jthoma\\AppData\\Local\\Temp\\ipykernel_6852\\2457786483.py:39: FutureWarning: The frame.append method is deprecated and will be removed from pandas in a future version. Use pandas.concat instead.\n",
      "  df = df.append(a_series, ignore_index=True)\n",
      "C:\\Users\\jthoma\\AppData\\Local\\Temp\\ipykernel_6852\\2457786483.py:39: FutureWarning: The frame.append method is deprecated and will be removed from pandas in a future version. Use pandas.concat instead.\n",
      "  df = df.append(a_series, ignore_index=True)\n",
      "C:\\Users\\jthoma\\AppData\\Local\\Temp\\ipykernel_6852\\2457786483.py:39: FutureWarning: The frame.append method is deprecated and will be removed from pandas in a future version. Use pandas.concat instead.\n",
      "  df = df.append(a_series, ignore_index=True)\n",
      "C:\\Users\\jthoma\\AppData\\Local\\Temp\\ipykernel_6852\\2457786483.py:39: FutureWarning: The frame.append method is deprecated and will be removed from pandas in a future version. Use pandas.concat instead.\n",
      "  df = df.append(a_series, ignore_index=True)\n",
      "C:\\Users\\jthoma\\AppData\\Local\\Temp\\ipykernel_6852\\2457786483.py:39: FutureWarning: The frame.append method is deprecated and will be removed from pandas in a future version. Use pandas.concat instead.\n",
      "  df = df.append(a_series, ignore_index=True)\n",
      "C:\\Users\\jthoma\\AppData\\Local\\Temp\\ipykernel_6852\\2457786483.py:39: FutureWarning: The frame.append method is deprecated and will be removed from pandas in a future version. Use pandas.concat instead.\n",
      "  df = df.append(a_series, ignore_index=True)\n"
     ]
    },
    {
     "name": "stdout",
     "output_type": "stream",
     "text": [
      "Could not append: ['... 41 42 43 44 45 46 47 48 49 50 ...', '...', '41', '42', '43', '44', '45', '46', '47', '48', '49', '50', '...']\n"
     ]
    },
    {
     "name": "stderr",
     "output_type": "stream",
     "text": [
      "C:\\Users\\jthoma\\AppData\\Local\\Temp\\ipykernel_6852\\2457786483.py:39: FutureWarning: The frame.append method is deprecated and will be removed from pandas in a future version. Use pandas.concat instead.\n",
      "  df = df.append(a_series, ignore_index=True)\n",
      "C:\\Users\\jthoma\\AppData\\Local\\Temp\\ipykernel_6852\\2457786483.py:38: FutureWarning: The default dtype for empty Series will be 'object' instead of 'float64' in a future version. Specify a dtype explicitly to silence this warning.\n",
      "  a_series = pd.Series(row_list, index = df.columns)\n"
     ]
    },
    {
     "name": "stdout",
     "output_type": "stream",
     "text": [
      "Could not append: []\n"
     ]
    },
    {
     "name": "stderr",
     "output_type": "stream",
     "text": [
      "C:\\Users\\jthoma\\AppData\\Local\\Temp\\ipykernel_6852\\2457786483.py:39: FutureWarning: The frame.append method is deprecated and will be removed from pandas in a future version. Use pandas.concat instead.\n",
      "  df = df.append(a_series, ignore_index=True)\n",
      "C:\\Users\\jthoma\\AppData\\Local\\Temp\\ipykernel_6852\\2457786483.py:39: FutureWarning: The frame.append method is deprecated and will be removed from pandas in a future version. Use pandas.concat instead.\n",
      "  df = df.append(a_series, ignore_index=True)\n",
      "C:\\Users\\jthoma\\AppData\\Local\\Temp\\ipykernel_6852\\2457786483.py:39: FutureWarning: The frame.append method is deprecated and will be removed from pandas in a future version. Use pandas.concat instead.\n",
      "  df = df.append(a_series, ignore_index=True)\n",
      "C:\\Users\\jthoma\\AppData\\Local\\Temp\\ipykernel_6852\\2457786483.py:39: FutureWarning: The frame.append method is deprecated and will be removed from pandas in a future version. Use pandas.concat instead.\n",
      "  df = df.append(a_series, ignore_index=True)\n",
      "C:\\Users\\jthoma\\AppData\\Local\\Temp\\ipykernel_6852\\2457786483.py:39: FutureWarning: The frame.append method is deprecated and will be removed from pandas in a future version. Use pandas.concat instead.\n",
      "  df = df.append(a_series, ignore_index=True)\n",
      "C:\\Users\\jthoma\\AppData\\Local\\Temp\\ipykernel_6852\\2457786483.py:39: FutureWarning: The frame.append method is deprecated and will be removed from pandas in a future version. Use pandas.concat instead.\n",
      "  df = df.append(a_series, ignore_index=True)\n",
      "C:\\Users\\jthoma\\AppData\\Local\\Temp\\ipykernel_6852\\2457786483.py:39: FutureWarning: The frame.append method is deprecated and will be removed from pandas in a future version. Use pandas.concat instead.\n",
      "  df = df.append(a_series, ignore_index=True)\n",
      "C:\\Users\\jthoma\\AppData\\Local\\Temp\\ipykernel_6852\\2457786483.py:39: FutureWarning: The frame.append method is deprecated and will be removed from pandas in a future version. Use pandas.concat instead.\n",
      "  df = df.append(a_series, ignore_index=True)\n",
      "C:\\Users\\jthoma\\AppData\\Local\\Temp\\ipykernel_6852\\2457786483.py:39: FutureWarning: The frame.append method is deprecated and will be removed from pandas in a future version. Use pandas.concat instead.\n",
      "  df = df.append(a_series, ignore_index=True)\n",
      "C:\\Users\\jthoma\\AppData\\Local\\Temp\\ipykernel_6852\\2457786483.py:39: FutureWarning: The frame.append method is deprecated and will be removed from pandas in a future version. Use pandas.concat instead.\n",
      "  df = df.append(a_series, ignore_index=True)\n"
     ]
    },
    {
     "name": "stdout",
     "output_type": "stream",
     "text": [
      "Could not append: ['... 41 42 43 44 45 46 47 48 49 50 ...', '...', '41', '42', '43', '44', '45', '46', '47', '48', '49', '50', '...']\n"
     ]
    },
    {
     "name": "stderr",
     "output_type": "stream",
     "text": [
      "C:\\Users\\jthoma\\AppData\\Local\\Temp\\ipykernel_6852\\2457786483.py:39: FutureWarning: The frame.append method is deprecated and will be removed from pandas in a future version. Use pandas.concat instead.\n",
      "  df = df.append(a_series, ignore_index=True)\n",
      "C:\\Users\\jthoma\\AppData\\Local\\Temp\\ipykernel_6852\\2457786483.py:38: FutureWarning: The default dtype for empty Series will be 'object' instead of 'float64' in a future version. Specify a dtype explicitly to silence this warning.\n",
      "  a_series = pd.Series(row_list, index = df.columns)\n"
     ]
    },
    {
     "name": "stdout",
     "output_type": "stream",
     "text": [
      "Could not append: []\n"
     ]
    },
    {
     "name": "stderr",
     "output_type": "stream",
     "text": [
      "C:\\Users\\jthoma\\AppData\\Local\\Temp\\ipykernel_6852\\2457786483.py:39: FutureWarning: The frame.append method is deprecated and will be removed from pandas in a future version. Use pandas.concat instead.\n",
      "  df = df.append(a_series, ignore_index=True)\n",
      "C:\\Users\\jthoma\\AppData\\Local\\Temp\\ipykernel_6852\\2457786483.py:39: FutureWarning: The frame.append method is deprecated and will be removed from pandas in a future version. Use pandas.concat instead.\n",
      "  df = df.append(a_series, ignore_index=True)\n",
      "C:\\Users\\jthoma\\AppData\\Local\\Temp\\ipykernel_6852\\2457786483.py:39: FutureWarning: The frame.append method is deprecated and will be removed from pandas in a future version. Use pandas.concat instead.\n",
      "  df = df.append(a_series, ignore_index=True)\n",
      "C:\\Users\\jthoma\\AppData\\Local\\Temp\\ipykernel_6852\\2457786483.py:39: FutureWarning: The frame.append method is deprecated and will be removed from pandas in a future version. Use pandas.concat instead.\n",
      "  df = df.append(a_series, ignore_index=True)\n",
      "C:\\Users\\jthoma\\AppData\\Local\\Temp\\ipykernel_6852\\2457786483.py:39: FutureWarning: The frame.append method is deprecated and will be removed from pandas in a future version. Use pandas.concat instead.\n",
      "  df = df.append(a_series, ignore_index=True)\n",
      "C:\\Users\\jthoma\\AppData\\Local\\Temp\\ipykernel_6852\\2457786483.py:39: FutureWarning: The frame.append method is deprecated and will be removed from pandas in a future version. Use pandas.concat instead.\n",
      "  df = df.append(a_series, ignore_index=True)\n",
      "C:\\Users\\jthoma\\AppData\\Local\\Temp\\ipykernel_6852\\2457786483.py:39: FutureWarning: The frame.append method is deprecated and will be removed from pandas in a future version. Use pandas.concat instead.\n",
      "  df = df.append(a_series, ignore_index=True)\n",
      "C:\\Users\\jthoma\\AppData\\Local\\Temp\\ipykernel_6852\\2457786483.py:39: FutureWarning: The frame.append method is deprecated and will be removed from pandas in a future version. Use pandas.concat instead.\n",
      "  df = df.append(a_series, ignore_index=True)\n",
      "C:\\Users\\jthoma\\AppData\\Local\\Temp\\ipykernel_6852\\2457786483.py:39: FutureWarning: The frame.append method is deprecated and will be removed from pandas in a future version. Use pandas.concat instead.\n",
      "  df = df.append(a_series, ignore_index=True)\n",
      "C:\\Users\\jthoma\\AppData\\Local\\Temp\\ipykernel_6852\\2457786483.py:39: FutureWarning: The frame.append method is deprecated and will be removed from pandas in a future version. Use pandas.concat instead.\n",
      "  df = df.append(a_series, ignore_index=True)\n"
     ]
    },
    {
     "name": "stdout",
     "output_type": "stream",
     "text": [
      "Could not append: ['... 41 42 43 44 45 46 47 48 49 50 ...', '...', '41', '42', '43', '44', '45', '46', '47', '48', '49', '50', '...']\n"
     ]
    },
    {
     "name": "stderr",
     "output_type": "stream",
     "text": [
      "C:\\Users\\jthoma\\AppData\\Local\\Temp\\ipykernel_6852\\2457786483.py:39: FutureWarning: The frame.append method is deprecated and will be removed from pandas in a future version. Use pandas.concat instead.\n",
      "  df = df.append(a_series, ignore_index=True)\n",
      "C:\\Users\\jthoma\\AppData\\Local\\Temp\\ipykernel_6852\\2457786483.py:38: FutureWarning: The default dtype for empty Series will be 'object' instead of 'float64' in a future version. Specify a dtype explicitly to silence this warning.\n",
      "  a_series = pd.Series(row_list, index = df.columns)\n"
     ]
    },
    {
     "name": "stdout",
     "output_type": "stream",
     "text": [
      "Could not append: []\n"
     ]
    },
    {
     "name": "stderr",
     "output_type": "stream",
     "text": [
      "C:\\Users\\jthoma\\AppData\\Local\\Temp\\ipykernel_6852\\2457786483.py:39: FutureWarning: The frame.append method is deprecated and will be removed from pandas in a future version. Use pandas.concat instead.\n",
      "  df = df.append(a_series, ignore_index=True)\n",
      "C:\\Users\\jthoma\\AppData\\Local\\Temp\\ipykernel_6852\\2457786483.py:39: FutureWarning: The frame.append method is deprecated and will be removed from pandas in a future version. Use pandas.concat instead.\n",
      "  df = df.append(a_series, ignore_index=True)\n",
      "C:\\Users\\jthoma\\AppData\\Local\\Temp\\ipykernel_6852\\2457786483.py:39: FutureWarning: The frame.append method is deprecated and will be removed from pandas in a future version. Use pandas.concat instead.\n",
      "  df = df.append(a_series, ignore_index=True)\n",
      "C:\\Users\\jthoma\\AppData\\Local\\Temp\\ipykernel_6852\\2457786483.py:39: FutureWarning: The frame.append method is deprecated and will be removed from pandas in a future version. Use pandas.concat instead.\n",
      "  df = df.append(a_series, ignore_index=True)\n",
      "C:\\Users\\jthoma\\AppData\\Local\\Temp\\ipykernel_6852\\2457786483.py:39: FutureWarning: The frame.append method is deprecated and will be removed from pandas in a future version. Use pandas.concat instead.\n",
      "  df = df.append(a_series, ignore_index=True)\n",
      "C:\\Users\\jthoma\\AppData\\Local\\Temp\\ipykernel_6852\\2457786483.py:39: FutureWarning: The frame.append method is deprecated and will be removed from pandas in a future version. Use pandas.concat instead.\n",
      "  df = df.append(a_series, ignore_index=True)\n",
      "C:\\Users\\jthoma\\AppData\\Local\\Temp\\ipykernel_6852\\2457786483.py:39: FutureWarning: The frame.append method is deprecated and will be removed from pandas in a future version. Use pandas.concat instead.\n",
      "  df = df.append(a_series, ignore_index=True)\n",
      "C:\\Users\\jthoma\\AppData\\Local\\Temp\\ipykernel_6852\\2457786483.py:39: FutureWarning: The frame.append method is deprecated and will be removed from pandas in a future version. Use pandas.concat instead.\n",
      "  df = df.append(a_series, ignore_index=True)\n",
      "C:\\Users\\jthoma\\AppData\\Local\\Temp\\ipykernel_6852\\2457786483.py:39: FutureWarning: The frame.append method is deprecated and will be removed from pandas in a future version. Use pandas.concat instead.\n",
      "  df = df.append(a_series, ignore_index=True)\n",
      "C:\\Users\\jthoma\\AppData\\Local\\Temp\\ipykernel_6852\\2457786483.py:39: FutureWarning: The frame.append method is deprecated and will be removed from pandas in a future version. Use pandas.concat instead.\n",
      "  df = df.append(a_series, ignore_index=True)\n"
     ]
    },
    {
     "name": "stdout",
     "output_type": "stream",
     "text": [
      "Could not append: ['... 41 42 43 44 45 46 47 48 49 50 ...', '...', '41', '42', '43', '44', '45', '46', '47', '48', '49', '50', '...']\n"
     ]
    },
    {
     "name": "stderr",
     "output_type": "stream",
     "text": [
      "C:\\Users\\jthoma\\AppData\\Local\\Temp\\ipykernel_6852\\2457786483.py:39: FutureWarning: The frame.append method is deprecated and will be removed from pandas in a future version. Use pandas.concat instead.\n",
      "  df = df.append(a_series, ignore_index=True)\n",
      "C:\\Users\\jthoma\\AppData\\Local\\Temp\\ipykernel_6852\\2457786483.py:38: FutureWarning: The default dtype for empty Series will be 'object' instead of 'float64' in a future version. Specify a dtype explicitly to silence this warning.\n",
      "  a_series = pd.Series(row_list, index = df.columns)\n"
     ]
    },
    {
     "name": "stdout",
     "output_type": "stream",
     "text": [
      "Could not append: []\n"
     ]
    },
    {
     "name": "stderr",
     "output_type": "stream",
     "text": [
      "C:\\Users\\jthoma\\AppData\\Local\\Temp\\ipykernel_6852\\2457786483.py:39: FutureWarning: The frame.append method is deprecated and will be removed from pandas in a future version. Use pandas.concat instead.\n",
      "  df = df.append(a_series, ignore_index=True)\n",
      "C:\\Users\\jthoma\\AppData\\Local\\Temp\\ipykernel_6852\\2457786483.py:39: FutureWarning: The frame.append method is deprecated and will be removed from pandas in a future version. Use pandas.concat instead.\n",
      "  df = df.append(a_series, ignore_index=True)\n",
      "C:\\Users\\jthoma\\AppData\\Local\\Temp\\ipykernel_6852\\2457786483.py:39: FutureWarning: The frame.append method is deprecated and will be removed from pandas in a future version. Use pandas.concat instead.\n",
      "  df = df.append(a_series, ignore_index=True)\n",
      "C:\\Users\\jthoma\\AppData\\Local\\Temp\\ipykernel_6852\\2457786483.py:39: FutureWarning: The frame.append method is deprecated and will be removed from pandas in a future version. Use pandas.concat instead.\n",
      "  df = df.append(a_series, ignore_index=True)\n",
      "C:\\Users\\jthoma\\AppData\\Local\\Temp\\ipykernel_6852\\2457786483.py:39: FutureWarning: The frame.append method is deprecated and will be removed from pandas in a future version. Use pandas.concat instead.\n",
      "  df = df.append(a_series, ignore_index=True)\n",
      "C:\\Users\\jthoma\\AppData\\Local\\Temp\\ipykernel_6852\\2457786483.py:39: FutureWarning: The frame.append method is deprecated and will be removed from pandas in a future version. Use pandas.concat instead.\n",
      "  df = df.append(a_series, ignore_index=True)\n",
      "C:\\Users\\jthoma\\AppData\\Local\\Temp\\ipykernel_6852\\2457786483.py:39: FutureWarning: The frame.append method is deprecated and will be removed from pandas in a future version. Use pandas.concat instead.\n",
      "  df = df.append(a_series, ignore_index=True)\n",
      "C:\\Users\\jthoma\\AppData\\Local\\Temp\\ipykernel_6852\\2457786483.py:39: FutureWarning: The frame.append method is deprecated and will be removed from pandas in a future version. Use pandas.concat instead.\n",
      "  df = df.append(a_series, ignore_index=True)\n",
      "C:\\Users\\jthoma\\AppData\\Local\\Temp\\ipykernel_6852\\2457786483.py:39: FutureWarning: The frame.append method is deprecated and will be removed from pandas in a future version. Use pandas.concat instead.\n",
      "  df = df.append(a_series, ignore_index=True)\n",
      "C:\\Users\\jthoma\\AppData\\Local\\Temp\\ipykernel_6852\\2457786483.py:39: FutureWarning: The frame.append method is deprecated and will be removed from pandas in a future version. Use pandas.concat instead.\n",
      "  df = df.append(a_series, ignore_index=True)\n"
     ]
    },
    {
     "name": "stdout",
     "output_type": "stream",
     "text": [
      "Could not append: ['... 41 42 43 44 45 46 47 48 49 50 ...', '...', '41', '42', '43', '44', '45', '46', '47', '48', '49', '50', '...']\n"
     ]
    },
    {
     "name": "stderr",
     "output_type": "stream",
     "text": [
      "C:\\Users\\jthoma\\AppData\\Local\\Temp\\ipykernel_6852\\2457786483.py:39: FutureWarning: The frame.append method is deprecated and will be removed from pandas in a future version. Use pandas.concat instead.\n",
      "  df = df.append(a_series, ignore_index=True)\n",
      "C:\\Users\\jthoma\\AppData\\Local\\Temp\\ipykernel_6852\\2457786483.py:38: FutureWarning: The default dtype for empty Series will be 'object' instead of 'float64' in a future version. Specify a dtype explicitly to silence this warning.\n",
      "  a_series = pd.Series(row_list, index = df.columns)\n"
     ]
    },
    {
     "name": "stdout",
     "output_type": "stream",
     "text": [
      "Could not append: []\n"
     ]
    },
    {
     "name": "stderr",
     "output_type": "stream",
     "text": [
      "C:\\Users\\jthoma\\AppData\\Local\\Temp\\ipykernel_6852\\2457786483.py:39: FutureWarning: The frame.append method is deprecated and will be removed from pandas in a future version. Use pandas.concat instead.\n",
      "  df = df.append(a_series, ignore_index=True)\n",
      "C:\\Users\\jthoma\\AppData\\Local\\Temp\\ipykernel_6852\\2457786483.py:39: FutureWarning: The frame.append method is deprecated and will be removed from pandas in a future version. Use pandas.concat instead.\n",
      "  df = df.append(a_series, ignore_index=True)\n",
      "C:\\Users\\jthoma\\AppData\\Local\\Temp\\ipykernel_6852\\2457786483.py:39: FutureWarning: The frame.append method is deprecated and will be removed from pandas in a future version. Use pandas.concat instead.\n",
      "  df = df.append(a_series, ignore_index=True)\n",
      "C:\\Users\\jthoma\\AppData\\Local\\Temp\\ipykernel_6852\\2457786483.py:39: FutureWarning: The frame.append method is deprecated and will be removed from pandas in a future version. Use pandas.concat instead.\n",
      "  df = df.append(a_series, ignore_index=True)\n",
      "C:\\Users\\jthoma\\AppData\\Local\\Temp\\ipykernel_6852\\2457786483.py:39: FutureWarning: The frame.append method is deprecated and will be removed from pandas in a future version. Use pandas.concat instead.\n",
      "  df = df.append(a_series, ignore_index=True)\n",
      "C:\\Users\\jthoma\\AppData\\Local\\Temp\\ipykernel_6852\\2457786483.py:39: FutureWarning: The frame.append method is deprecated and will be removed from pandas in a future version. Use pandas.concat instead.\n",
      "  df = df.append(a_series, ignore_index=True)\n",
      "C:\\Users\\jthoma\\AppData\\Local\\Temp\\ipykernel_6852\\2457786483.py:39: FutureWarning: The frame.append method is deprecated and will be removed from pandas in a future version. Use pandas.concat instead.\n",
      "  df = df.append(a_series, ignore_index=True)\n",
      "C:\\Users\\jthoma\\AppData\\Local\\Temp\\ipykernel_6852\\2457786483.py:39: FutureWarning: The frame.append method is deprecated and will be removed from pandas in a future version. Use pandas.concat instead.\n",
      "  df = df.append(a_series, ignore_index=True)\n",
      "C:\\Users\\jthoma\\AppData\\Local\\Temp\\ipykernel_6852\\2457786483.py:39: FutureWarning: The frame.append method is deprecated and will be removed from pandas in a future version. Use pandas.concat instead.\n",
      "  df = df.append(a_series, ignore_index=True)\n",
      "C:\\Users\\jthoma\\AppData\\Local\\Temp\\ipykernel_6852\\2457786483.py:39: FutureWarning: The frame.append method is deprecated and will be removed from pandas in a future version. Use pandas.concat instead.\n",
      "  df = df.append(a_series, ignore_index=True)\n"
     ]
    },
    {
     "name": "stdout",
     "output_type": "stream",
     "text": [
      "Could not append: ['... 41 42 43 44 45 46 47 48 49 50 ...', '...', '41', '42', '43', '44', '45', '46', '47', '48', '49', '50', '...']\n"
     ]
    },
    {
     "name": "stderr",
     "output_type": "stream",
     "text": [
      "C:\\Users\\jthoma\\AppData\\Local\\Temp\\ipykernel_6852\\2457786483.py:39: FutureWarning: The frame.append method is deprecated and will be removed from pandas in a future version. Use pandas.concat instead.\n",
      "  df = df.append(a_series, ignore_index=True)\n",
      "C:\\Users\\jthoma\\AppData\\Local\\Temp\\ipykernel_6852\\2457786483.py:38: FutureWarning: The default dtype for empty Series will be 'object' instead of 'float64' in a future version. Specify a dtype explicitly to silence this warning.\n",
      "  a_series = pd.Series(row_list, index = df.columns)\n"
     ]
    },
    {
     "name": "stdout",
     "output_type": "stream",
     "text": [
      "Could not append: []\n"
     ]
    },
    {
     "name": "stderr",
     "output_type": "stream",
     "text": [
      "C:\\Users\\jthoma\\AppData\\Local\\Temp\\ipykernel_6852\\2457786483.py:39: FutureWarning: The frame.append method is deprecated and will be removed from pandas in a future version. Use pandas.concat instead.\n",
      "  df = df.append(a_series, ignore_index=True)\n",
      "C:\\Users\\jthoma\\AppData\\Local\\Temp\\ipykernel_6852\\2457786483.py:39: FutureWarning: The frame.append method is deprecated and will be removed from pandas in a future version. Use pandas.concat instead.\n",
      "  df = df.append(a_series, ignore_index=True)\n",
      "C:\\Users\\jthoma\\AppData\\Local\\Temp\\ipykernel_6852\\2457786483.py:39: FutureWarning: The frame.append method is deprecated and will be removed from pandas in a future version. Use pandas.concat instead.\n",
      "  df = df.append(a_series, ignore_index=True)\n",
      "C:\\Users\\jthoma\\AppData\\Local\\Temp\\ipykernel_6852\\2457786483.py:39: FutureWarning: The frame.append method is deprecated and will be removed from pandas in a future version. Use pandas.concat instead.\n",
      "  df = df.append(a_series, ignore_index=True)\n",
      "C:\\Users\\jthoma\\AppData\\Local\\Temp\\ipykernel_6852\\2457786483.py:39: FutureWarning: The frame.append method is deprecated and will be removed from pandas in a future version. Use pandas.concat instead.\n",
      "  df = df.append(a_series, ignore_index=True)\n",
      "C:\\Users\\jthoma\\AppData\\Local\\Temp\\ipykernel_6852\\2457786483.py:39: FutureWarning: The frame.append method is deprecated and will be removed from pandas in a future version. Use pandas.concat instead.\n",
      "  df = df.append(a_series, ignore_index=True)\n",
      "C:\\Users\\jthoma\\AppData\\Local\\Temp\\ipykernel_6852\\2457786483.py:39: FutureWarning: The frame.append method is deprecated and will be removed from pandas in a future version. Use pandas.concat instead.\n",
      "  df = df.append(a_series, ignore_index=True)\n",
      "C:\\Users\\jthoma\\AppData\\Local\\Temp\\ipykernel_6852\\2457786483.py:39: FutureWarning: The frame.append method is deprecated and will be removed from pandas in a future version. Use pandas.concat instead.\n",
      "  df = df.append(a_series, ignore_index=True)\n",
      "C:\\Users\\jthoma\\AppData\\Local\\Temp\\ipykernel_6852\\2457786483.py:39: FutureWarning: The frame.append method is deprecated and will be removed from pandas in a future version. Use pandas.concat instead.\n",
      "  df = df.append(a_series, ignore_index=True)\n",
      "C:\\Users\\jthoma\\AppData\\Local\\Temp\\ipykernel_6852\\2457786483.py:39: FutureWarning: The frame.append method is deprecated and will be removed from pandas in a future version. Use pandas.concat instead.\n",
      "  df = df.append(a_series, ignore_index=True)\n"
     ]
    },
    {
     "name": "stdout",
     "output_type": "stream",
     "text": [
      "Could not append: ['... 41 42 43 44 45 46 47 48 49 50 ...', '...', '41', '42', '43', '44', '45', '46', '47', '48', '49', '50', '...']\n"
     ]
    },
    {
     "name": "stderr",
     "output_type": "stream",
     "text": [
      "C:\\Users\\jthoma\\AppData\\Local\\Temp\\ipykernel_6852\\2457786483.py:39: FutureWarning: The frame.append method is deprecated and will be removed from pandas in a future version. Use pandas.concat instead.\n",
      "  df = df.append(a_series, ignore_index=True)\n",
      "C:\\Users\\jthoma\\AppData\\Local\\Temp\\ipykernel_6852\\2457786483.py:38: FutureWarning: The default dtype for empty Series will be 'object' instead of 'float64' in a future version. Specify a dtype explicitly to silence this warning.\n",
      "  a_series = pd.Series(row_list, index = df.columns)\n"
     ]
    },
    {
     "name": "stdout",
     "output_type": "stream",
     "text": [
      "Could not append: []\n"
     ]
    },
    {
     "name": "stderr",
     "output_type": "stream",
     "text": [
      "C:\\Users\\jthoma\\AppData\\Local\\Temp\\ipykernel_6852\\2457786483.py:39: FutureWarning: The frame.append method is deprecated and will be removed from pandas in a future version. Use pandas.concat instead.\n",
      "  df = df.append(a_series, ignore_index=True)\n",
      "C:\\Users\\jthoma\\AppData\\Local\\Temp\\ipykernel_6852\\2457786483.py:39: FutureWarning: The frame.append method is deprecated and will be removed from pandas in a future version. Use pandas.concat instead.\n",
      "  df = df.append(a_series, ignore_index=True)\n",
      "C:\\Users\\jthoma\\AppData\\Local\\Temp\\ipykernel_6852\\2457786483.py:39: FutureWarning: The frame.append method is deprecated and will be removed from pandas in a future version. Use pandas.concat instead.\n",
      "  df = df.append(a_series, ignore_index=True)\n",
      "C:\\Users\\jthoma\\AppData\\Local\\Temp\\ipykernel_6852\\2457786483.py:39: FutureWarning: The frame.append method is deprecated and will be removed from pandas in a future version. Use pandas.concat instead.\n",
      "  df = df.append(a_series, ignore_index=True)\n",
      "C:\\Users\\jthoma\\AppData\\Local\\Temp\\ipykernel_6852\\2457786483.py:39: FutureWarning: The frame.append method is deprecated and will be removed from pandas in a future version. Use pandas.concat instead.\n",
      "  df = df.append(a_series, ignore_index=True)\n",
      "C:\\Users\\jthoma\\AppData\\Local\\Temp\\ipykernel_6852\\2457786483.py:39: FutureWarning: The frame.append method is deprecated and will be removed from pandas in a future version. Use pandas.concat instead.\n",
      "  df = df.append(a_series, ignore_index=True)\n",
      "C:\\Users\\jthoma\\AppData\\Local\\Temp\\ipykernel_6852\\2457786483.py:39: FutureWarning: The frame.append method is deprecated and will be removed from pandas in a future version. Use pandas.concat instead.\n",
      "  df = df.append(a_series, ignore_index=True)\n",
      "C:\\Users\\jthoma\\AppData\\Local\\Temp\\ipykernel_6852\\2457786483.py:39: FutureWarning: The frame.append method is deprecated and will be removed from pandas in a future version. Use pandas.concat instead.\n",
      "  df = df.append(a_series, ignore_index=True)\n",
      "C:\\Users\\jthoma\\AppData\\Local\\Temp\\ipykernel_6852\\2457786483.py:39: FutureWarning: The frame.append method is deprecated and will be removed from pandas in a future version. Use pandas.concat instead.\n",
      "  df = df.append(a_series, ignore_index=True)\n",
      "C:\\Users\\jthoma\\AppData\\Local\\Temp\\ipykernel_6852\\2457786483.py:39: FutureWarning: The frame.append method is deprecated and will be removed from pandas in a future version. Use pandas.concat instead.\n",
      "  df = df.append(a_series, ignore_index=True)\n"
     ]
    },
    {
     "name": "stdout",
     "output_type": "stream",
     "text": [
      "Could not append: ['... 41 42 43 44 45 46 47 48 49 50 ...', '...', '41', '42', '43', '44', '45', '46', '47', '48', '49', '50', '...']\n"
     ]
    },
    {
     "name": "stderr",
     "output_type": "stream",
     "text": [
      "C:\\Users\\jthoma\\AppData\\Local\\Temp\\ipykernel_6852\\2457786483.py:39: FutureWarning: The frame.append method is deprecated and will be removed from pandas in a future version. Use pandas.concat instead.\n",
      "  df = df.append(a_series, ignore_index=True)\n",
      "C:\\Users\\jthoma\\AppData\\Local\\Temp\\ipykernel_6852\\2457786483.py:38: FutureWarning: The default dtype for empty Series will be 'object' instead of 'float64' in a future version. Specify a dtype explicitly to silence this warning.\n",
      "  a_series = pd.Series(row_list, index = df.columns)\n"
     ]
    },
    {
     "name": "stdout",
     "output_type": "stream",
     "text": [
      "Could not append: []\n"
     ]
    },
    {
     "name": "stderr",
     "output_type": "stream",
     "text": [
      "C:\\Users\\jthoma\\AppData\\Local\\Temp\\ipykernel_6852\\2457786483.py:39: FutureWarning: The frame.append method is deprecated and will be removed from pandas in a future version. Use pandas.concat instead.\n",
      "  df = df.append(a_series, ignore_index=True)\n",
      "C:\\Users\\jthoma\\AppData\\Local\\Temp\\ipykernel_6852\\2457786483.py:39: FutureWarning: The frame.append method is deprecated and will be removed from pandas in a future version. Use pandas.concat instead.\n",
      "  df = df.append(a_series, ignore_index=True)\n",
      "C:\\Users\\jthoma\\AppData\\Local\\Temp\\ipykernel_6852\\2457786483.py:39: FutureWarning: The frame.append method is deprecated and will be removed from pandas in a future version. Use pandas.concat instead.\n",
      "  df = df.append(a_series, ignore_index=True)\n",
      "C:\\Users\\jthoma\\AppData\\Local\\Temp\\ipykernel_6852\\2457786483.py:39: FutureWarning: The frame.append method is deprecated and will be removed from pandas in a future version. Use pandas.concat instead.\n",
      "  df = df.append(a_series, ignore_index=True)\n",
      "C:\\Users\\jthoma\\AppData\\Local\\Temp\\ipykernel_6852\\2457786483.py:39: FutureWarning: The frame.append method is deprecated and will be removed from pandas in a future version. Use pandas.concat instead.\n",
      "  df = df.append(a_series, ignore_index=True)\n",
      "C:\\Users\\jthoma\\AppData\\Local\\Temp\\ipykernel_6852\\2457786483.py:39: FutureWarning: The frame.append method is deprecated and will be removed from pandas in a future version. Use pandas.concat instead.\n",
      "  df = df.append(a_series, ignore_index=True)\n",
      "C:\\Users\\jthoma\\AppData\\Local\\Temp\\ipykernel_6852\\2457786483.py:39: FutureWarning: The frame.append method is deprecated and will be removed from pandas in a future version. Use pandas.concat instead.\n",
      "  df = df.append(a_series, ignore_index=True)\n",
      "C:\\Users\\jthoma\\AppData\\Local\\Temp\\ipykernel_6852\\2457786483.py:39: FutureWarning: The frame.append method is deprecated and will be removed from pandas in a future version. Use pandas.concat instead.\n",
      "  df = df.append(a_series, ignore_index=True)\n",
      "C:\\Users\\jthoma\\AppData\\Local\\Temp\\ipykernel_6852\\2457786483.py:39: FutureWarning: The frame.append method is deprecated and will be removed from pandas in a future version. Use pandas.concat instead.\n",
      "  df = df.append(a_series, ignore_index=True)\n",
      "C:\\Users\\jthoma\\AppData\\Local\\Temp\\ipykernel_6852\\2457786483.py:39: FutureWarning: The frame.append method is deprecated and will be removed from pandas in a future version. Use pandas.concat instead.\n",
      "  df = df.append(a_series, ignore_index=True)\n"
     ]
    },
    {
     "name": "stdout",
     "output_type": "stream",
     "text": [
      "Could not append: ['... 41 42 43 44 45 46 47 48 49 50 ...', '...', '41', '42', '43', '44', '45', '46', '47', '48', '49', '50', '...']\n"
     ]
    },
    {
     "name": "stderr",
     "output_type": "stream",
     "text": [
      "C:\\Users\\jthoma\\AppData\\Local\\Temp\\ipykernel_6852\\2457786483.py:39: FutureWarning: The frame.append method is deprecated and will be removed from pandas in a future version. Use pandas.concat instead.\n",
      "  df = df.append(a_series, ignore_index=True)\n",
      "C:\\Users\\jthoma\\AppData\\Local\\Temp\\ipykernel_6852\\2457786483.py:38: FutureWarning: The default dtype for empty Series will be 'object' instead of 'float64' in a future version. Specify a dtype explicitly to silence this warning.\n",
      "  a_series = pd.Series(row_list, index = df.columns)\n"
     ]
    },
    {
     "name": "stdout",
     "output_type": "stream",
     "text": [
      "Could not append: []\n"
     ]
    },
    {
     "name": "stderr",
     "output_type": "stream",
     "text": [
      "C:\\Users\\jthoma\\AppData\\Local\\Temp\\ipykernel_6852\\2457786483.py:39: FutureWarning: The frame.append method is deprecated and will be removed from pandas in a future version. Use pandas.concat instead.\n",
      "  df = df.append(a_series, ignore_index=True)\n",
      "C:\\Users\\jthoma\\AppData\\Local\\Temp\\ipykernel_6852\\2457786483.py:39: FutureWarning: The frame.append method is deprecated and will be removed from pandas in a future version. Use pandas.concat instead.\n",
      "  df = df.append(a_series, ignore_index=True)\n",
      "C:\\Users\\jthoma\\AppData\\Local\\Temp\\ipykernel_6852\\2457786483.py:39: FutureWarning: The frame.append method is deprecated and will be removed from pandas in a future version. Use pandas.concat instead.\n",
      "  df = df.append(a_series, ignore_index=True)\n",
      "C:\\Users\\jthoma\\AppData\\Local\\Temp\\ipykernel_6852\\2457786483.py:39: FutureWarning: The frame.append method is deprecated and will be removed from pandas in a future version. Use pandas.concat instead.\n",
      "  df = df.append(a_series, ignore_index=True)\n",
      "C:\\Users\\jthoma\\AppData\\Local\\Temp\\ipykernel_6852\\2457786483.py:39: FutureWarning: The frame.append method is deprecated and will be removed from pandas in a future version. Use pandas.concat instead.\n",
      "  df = df.append(a_series, ignore_index=True)\n",
      "C:\\Users\\jthoma\\AppData\\Local\\Temp\\ipykernel_6852\\2457786483.py:39: FutureWarning: The frame.append method is deprecated and will be removed from pandas in a future version. Use pandas.concat instead.\n",
      "  df = df.append(a_series, ignore_index=True)\n",
      "C:\\Users\\jthoma\\AppData\\Local\\Temp\\ipykernel_6852\\2457786483.py:39: FutureWarning: The frame.append method is deprecated and will be removed from pandas in a future version. Use pandas.concat instead.\n",
      "  df = df.append(a_series, ignore_index=True)\n",
      "C:\\Users\\jthoma\\AppData\\Local\\Temp\\ipykernel_6852\\2457786483.py:39: FutureWarning: The frame.append method is deprecated and will be removed from pandas in a future version. Use pandas.concat instead.\n",
      "  df = df.append(a_series, ignore_index=True)\n",
      "C:\\Users\\jthoma\\AppData\\Local\\Temp\\ipykernel_6852\\2457786483.py:39: FutureWarning: The frame.append method is deprecated and will be removed from pandas in a future version. Use pandas.concat instead.\n",
      "  df = df.append(a_series, ignore_index=True)\n",
      "C:\\Users\\jthoma\\AppData\\Local\\Temp\\ipykernel_6852\\2457786483.py:39: FutureWarning: The frame.append method is deprecated and will be removed from pandas in a future version. Use pandas.concat instead.\n",
      "  df = df.append(a_series, ignore_index=True)\n"
     ]
    },
    {
     "name": "stdout",
     "output_type": "stream",
     "text": [
      "Could not append: ['... 41 42 43 44 45 46 47 48 49 50 ...', '...', '41', '42', '43', '44', '45', '46', '47', '48', '49', '50', '...']\n"
     ]
    },
    {
     "name": "stderr",
     "output_type": "stream",
     "text": [
      "C:\\Users\\jthoma\\AppData\\Local\\Temp\\ipykernel_6852\\2457786483.py:39: FutureWarning: The frame.append method is deprecated and will be removed from pandas in a future version. Use pandas.concat instead.\n",
      "  df = df.append(a_series, ignore_index=True)\n",
      "C:\\Users\\jthoma\\AppData\\Local\\Temp\\ipykernel_6852\\2457786483.py:38: FutureWarning: The default dtype for empty Series will be 'object' instead of 'float64' in a future version. Specify a dtype explicitly to silence this warning.\n",
      "  a_series = pd.Series(row_list, index = df.columns)\n"
     ]
    },
    {
     "name": "stdout",
     "output_type": "stream",
     "text": [
      "Could not append: []\n"
     ]
    },
    {
     "name": "stderr",
     "output_type": "stream",
     "text": [
      "C:\\Users\\jthoma\\AppData\\Local\\Temp\\ipykernel_6852\\2457786483.py:39: FutureWarning: The frame.append method is deprecated and will be removed from pandas in a future version. Use pandas.concat instead.\n",
      "  df = df.append(a_series, ignore_index=True)\n",
      "C:\\Users\\jthoma\\AppData\\Local\\Temp\\ipykernel_6852\\2457786483.py:39: FutureWarning: The frame.append method is deprecated and will be removed from pandas in a future version. Use pandas.concat instead.\n",
      "  df = df.append(a_series, ignore_index=True)\n",
      "C:\\Users\\jthoma\\AppData\\Local\\Temp\\ipykernel_6852\\2457786483.py:39: FutureWarning: The frame.append method is deprecated and will be removed from pandas in a future version. Use pandas.concat instead.\n",
      "  df = df.append(a_series, ignore_index=True)\n",
      "C:\\Users\\jthoma\\AppData\\Local\\Temp\\ipykernel_6852\\2457786483.py:39: FutureWarning: The frame.append method is deprecated and will be removed from pandas in a future version. Use pandas.concat instead.\n",
      "  df = df.append(a_series, ignore_index=True)\n",
      "C:\\Users\\jthoma\\AppData\\Local\\Temp\\ipykernel_6852\\2457786483.py:39: FutureWarning: The frame.append method is deprecated and will be removed from pandas in a future version. Use pandas.concat instead.\n",
      "  df = df.append(a_series, ignore_index=True)\n",
      "C:\\Users\\jthoma\\AppData\\Local\\Temp\\ipykernel_6852\\2457786483.py:39: FutureWarning: The frame.append method is deprecated and will be removed from pandas in a future version. Use pandas.concat instead.\n",
      "  df = df.append(a_series, ignore_index=True)\n",
      "C:\\Users\\jthoma\\AppData\\Local\\Temp\\ipykernel_6852\\2457786483.py:39: FutureWarning: The frame.append method is deprecated and will be removed from pandas in a future version. Use pandas.concat instead.\n",
      "  df = df.append(a_series, ignore_index=True)\n",
      "C:\\Users\\jthoma\\AppData\\Local\\Temp\\ipykernel_6852\\2457786483.py:39: FutureWarning: The frame.append method is deprecated and will be removed from pandas in a future version. Use pandas.concat instead.\n",
      "  df = df.append(a_series, ignore_index=True)\n",
      "C:\\Users\\jthoma\\AppData\\Local\\Temp\\ipykernel_6852\\2457786483.py:39: FutureWarning: The frame.append method is deprecated and will be removed from pandas in a future version. Use pandas.concat instead.\n",
      "  df = df.append(a_series, ignore_index=True)\n",
      "C:\\Users\\jthoma\\AppData\\Local\\Temp\\ipykernel_6852\\2457786483.py:39: FutureWarning: The frame.append method is deprecated and will be removed from pandas in a future version. Use pandas.concat instead.\n",
      "  df = df.append(a_series, ignore_index=True)\n"
     ]
    },
    {
     "name": "stdout",
     "output_type": "stream",
     "text": [
      "Could not append: ['... 51 52 53 54 55 56 57 58 59 60 ...', '...', '51', '52', '53', '54', '55', '56', '57', '58', '59', '60', '...']\n"
     ]
    },
    {
     "name": "stderr",
     "output_type": "stream",
     "text": [
      "C:\\Users\\jthoma\\AppData\\Local\\Temp\\ipykernel_6852\\2457786483.py:39: FutureWarning: The frame.append method is deprecated and will be removed from pandas in a future version. Use pandas.concat instead.\n",
      "  df = df.append(a_series, ignore_index=True)\n",
      "C:\\Users\\jthoma\\AppData\\Local\\Temp\\ipykernel_6852\\2457786483.py:38: FutureWarning: The default dtype for empty Series will be 'object' instead of 'float64' in a future version. Specify a dtype explicitly to silence this warning.\n",
      "  a_series = pd.Series(row_list, index = df.columns)\n"
     ]
    },
    {
     "name": "stdout",
     "output_type": "stream",
     "text": [
      "Could not append: []\n"
     ]
    },
    {
     "name": "stderr",
     "output_type": "stream",
     "text": [
      "C:\\Users\\jthoma\\AppData\\Local\\Temp\\ipykernel_6852\\2457786483.py:39: FutureWarning: The frame.append method is deprecated and will be removed from pandas in a future version. Use pandas.concat instead.\n",
      "  df = df.append(a_series, ignore_index=True)\n",
      "C:\\Users\\jthoma\\AppData\\Local\\Temp\\ipykernel_6852\\2457786483.py:39: FutureWarning: The frame.append method is deprecated and will be removed from pandas in a future version. Use pandas.concat instead.\n",
      "  df = df.append(a_series, ignore_index=True)\n",
      "C:\\Users\\jthoma\\AppData\\Local\\Temp\\ipykernel_6852\\2457786483.py:39: FutureWarning: The frame.append method is deprecated and will be removed from pandas in a future version. Use pandas.concat instead.\n",
      "  df = df.append(a_series, ignore_index=True)\n",
      "C:\\Users\\jthoma\\AppData\\Local\\Temp\\ipykernel_6852\\2457786483.py:39: FutureWarning: The frame.append method is deprecated and will be removed from pandas in a future version. Use pandas.concat instead.\n",
      "  df = df.append(a_series, ignore_index=True)\n",
      "C:\\Users\\jthoma\\AppData\\Local\\Temp\\ipykernel_6852\\2457786483.py:39: FutureWarning: The frame.append method is deprecated and will be removed from pandas in a future version. Use pandas.concat instead.\n",
      "  df = df.append(a_series, ignore_index=True)\n",
      "C:\\Users\\jthoma\\AppData\\Local\\Temp\\ipykernel_6852\\2457786483.py:39: FutureWarning: The frame.append method is deprecated and will be removed from pandas in a future version. Use pandas.concat instead.\n",
      "  df = df.append(a_series, ignore_index=True)\n",
      "C:\\Users\\jthoma\\AppData\\Local\\Temp\\ipykernel_6852\\2457786483.py:39: FutureWarning: The frame.append method is deprecated and will be removed from pandas in a future version. Use pandas.concat instead.\n",
      "  df = df.append(a_series, ignore_index=True)\n",
      "C:\\Users\\jthoma\\AppData\\Local\\Temp\\ipykernel_6852\\2457786483.py:39: FutureWarning: The frame.append method is deprecated and will be removed from pandas in a future version. Use pandas.concat instead.\n",
      "  df = df.append(a_series, ignore_index=True)\n",
      "C:\\Users\\jthoma\\AppData\\Local\\Temp\\ipykernel_6852\\2457786483.py:39: FutureWarning: The frame.append method is deprecated and will be removed from pandas in a future version. Use pandas.concat instead.\n",
      "  df = df.append(a_series, ignore_index=True)\n",
      "C:\\Users\\jthoma\\AppData\\Local\\Temp\\ipykernel_6852\\2457786483.py:39: FutureWarning: The frame.append method is deprecated and will be removed from pandas in a future version. Use pandas.concat instead.\n",
      "  df = df.append(a_series, ignore_index=True)\n"
     ]
    },
    {
     "name": "stdout",
     "output_type": "stream",
     "text": [
      "Could not append: ['... 51 52 53 54 55 56 57 58 59 60 ...', '...', '51', '52', '53', '54', '55', '56', '57', '58', '59', '60', '...']\n"
     ]
    },
    {
     "name": "stderr",
     "output_type": "stream",
     "text": [
      "C:\\Users\\jthoma\\AppData\\Local\\Temp\\ipykernel_6852\\2457786483.py:39: FutureWarning: The frame.append method is deprecated and will be removed from pandas in a future version. Use pandas.concat instead.\n",
      "  df = df.append(a_series, ignore_index=True)\n",
      "C:\\Users\\jthoma\\AppData\\Local\\Temp\\ipykernel_6852\\2457786483.py:38: FutureWarning: The default dtype for empty Series will be 'object' instead of 'float64' in a future version. Specify a dtype explicitly to silence this warning.\n",
      "  a_series = pd.Series(row_list, index = df.columns)\n"
     ]
    },
    {
     "name": "stdout",
     "output_type": "stream",
     "text": [
      "Could not append: []\n"
     ]
    },
    {
     "name": "stderr",
     "output_type": "stream",
     "text": [
      "C:\\Users\\jthoma\\AppData\\Local\\Temp\\ipykernel_6852\\2457786483.py:39: FutureWarning: The frame.append method is deprecated and will be removed from pandas in a future version. Use pandas.concat instead.\n",
      "  df = df.append(a_series, ignore_index=True)\n",
      "C:\\Users\\jthoma\\AppData\\Local\\Temp\\ipykernel_6852\\2457786483.py:39: FutureWarning: The frame.append method is deprecated and will be removed from pandas in a future version. Use pandas.concat instead.\n",
      "  df = df.append(a_series, ignore_index=True)\n",
      "C:\\Users\\jthoma\\AppData\\Local\\Temp\\ipykernel_6852\\2457786483.py:39: FutureWarning: The frame.append method is deprecated and will be removed from pandas in a future version. Use pandas.concat instead.\n",
      "  df = df.append(a_series, ignore_index=True)\n",
      "C:\\Users\\jthoma\\AppData\\Local\\Temp\\ipykernel_6852\\2457786483.py:39: FutureWarning: The frame.append method is deprecated and will be removed from pandas in a future version. Use pandas.concat instead.\n",
      "  df = df.append(a_series, ignore_index=True)\n",
      "C:\\Users\\jthoma\\AppData\\Local\\Temp\\ipykernel_6852\\2457786483.py:39: FutureWarning: The frame.append method is deprecated and will be removed from pandas in a future version. Use pandas.concat instead.\n",
      "  df = df.append(a_series, ignore_index=True)\n",
      "C:\\Users\\jthoma\\AppData\\Local\\Temp\\ipykernel_6852\\2457786483.py:39: FutureWarning: The frame.append method is deprecated and will be removed from pandas in a future version. Use pandas.concat instead.\n",
      "  df = df.append(a_series, ignore_index=True)\n",
      "C:\\Users\\jthoma\\AppData\\Local\\Temp\\ipykernel_6852\\2457786483.py:39: FutureWarning: The frame.append method is deprecated and will be removed from pandas in a future version. Use pandas.concat instead.\n",
      "  df = df.append(a_series, ignore_index=True)\n",
      "C:\\Users\\jthoma\\AppData\\Local\\Temp\\ipykernel_6852\\2457786483.py:39: FutureWarning: The frame.append method is deprecated and will be removed from pandas in a future version. Use pandas.concat instead.\n",
      "  df = df.append(a_series, ignore_index=True)\n",
      "C:\\Users\\jthoma\\AppData\\Local\\Temp\\ipykernel_6852\\2457786483.py:39: FutureWarning: The frame.append method is deprecated and will be removed from pandas in a future version. Use pandas.concat instead.\n",
      "  df = df.append(a_series, ignore_index=True)\n",
      "C:\\Users\\jthoma\\AppData\\Local\\Temp\\ipykernel_6852\\2457786483.py:39: FutureWarning: The frame.append method is deprecated and will be removed from pandas in a future version. Use pandas.concat instead.\n",
      "  df = df.append(a_series, ignore_index=True)\n"
     ]
    },
    {
     "name": "stdout",
     "output_type": "stream",
     "text": [
      "Could not append: ['... 51 52 53 54 55 56 57 58 59 60 ...', '...', '51', '52', '53', '54', '55', '56', '57', '58', '59', '60', '...']\n"
     ]
    },
    {
     "name": "stderr",
     "output_type": "stream",
     "text": [
      "C:\\Users\\jthoma\\AppData\\Local\\Temp\\ipykernel_6852\\2457786483.py:39: FutureWarning: The frame.append method is deprecated and will be removed from pandas in a future version. Use pandas.concat instead.\n",
      "  df = df.append(a_series, ignore_index=True)\n",
      "C:\\Users\\jthoma\\AppData\\Local\\Temp\\ipykernel_6852\\2457786483.py:38: FutureWarning: The default dtype for empty Series will be 'object' instead of 'float64' in a future version. Specify a dtype explicitly to silence this warning.\n",
      "  a_series = pd.Series(row_list, index = df.columns)\n"
     ]
    },
    {
     "name": "stdout",
     "output_type": "stream",
     "text": [
      "Could not append: []\n"
     ]
    },
    {
     "name": "stderr",
     "output_type": "stream",
     "text": [
      "C:\\Users\\jthoma\\AppData\\Local\\Temp\\ipykernel_6852\\2457786483.py:39: FutureWarning: The frame.append method is deprecated and will be removed from pandas in a future version. Use pandas.concat instead.\n",
      "  df = df.append(a_series, ignore_index=True)\n",
      "C:\\Users\\jthoma\\AppData\\Local\\Temp\\ipykernel_6852\\2457786483.py:39: FutureWarning: The frame.append method is deprecated and will be removed from pandas in a future version. Use pandas.concat instead.\n",
      "  df = df.append(a_series, ignore_index=True)\n",
      "C:\\Users\\jthoma\\AppData\\Local\\Temp\\ipykernel_6852\\2457786483.py:39: FutureWarning: The frame.append method is deprecated and will be removed from pandas in a future version. Use pandas.concat instead.\n",
      "  df = df.append(a_series, ignore_index=True)\n",
      "C:\\Users\\jthoma\\AppData\\Local\\Temp\\ipykernel_6852\\2457786483.py:39: FutureWarning: The frame.append method is deprecated and will be removed from pandas in a future version. Use pandas.concat instead.\n",
      "  df = df.append(a_series, ignore_index=True)\n",
      "C:\\Users\\jthoma\\AppData\\Local\\Temp\\ipykernel_6852\\2457786483.py:39: FutureWarning: The frame.append method is deprecated and will be removed from pandas in a future version. Use pandas.concat instead.\n",
      "  df = df.append(a_series, ignore_index=True)\n",
      "C:\\Users\\jthoma\\AppData\\Local\\Temp\\ipykernel_6852\\2457786483.py:39: FutureWarning: The frame.append method is deprecated and will be removed from pandas in a future version. Use pandas.concat instead.\n",
      "  df = df.append(a_series, ignore_index=True)\n",
      "C:\\Users\\jthoma\\AppData\\Local\\Temp\\ipykernel_6852\\2457786483.py:39: FutureWarning: The frame.append method is deprecated and will be removed from pandas in a future version. Use pandas.concat instead.\n",
      "  df = df.append(a_series, ignore_index=True)\n",
      "C:\\Users\\jthoma\\AppData\\Local\\Temp\\ipykernel_6852\\2457786483.py:39: FutureWarning: The frame.append method is deprecated and will be removed from pandas in a future version. Use pandas.concat instead.\n",
      "  df = df.append(a_series, ignore_index=True)\n",
      "C:\\Users\\jthoma\\AppData\\Local\\Temp\\ipykernel_6852\\2457786483.py:39: FutureWarning: The frame.append method is deprecated and will be removed from pandas in a future version. Use pandas.concat instead.\n",
      "  df = df.append(a_series, ignore_index=True)\n",
      "C:\\Users\\jthoma\\AppData\\Local\\Temp\\ipykernel_6852\\2457786483.py:39: FutureWarning: The frame.append method is deprecated and will be removed from pandas in a future version. Use pandas.concat instead.\n",
      "  df = df.append(a_series, ignore_index=True)\n"
     ]
    },
    {
     "name": "stdout",
     "output_type": "stream",
     "text": [
      "Could not append: ['... 51 52 53 54 55 56 57 58 59 60 ...', '...', '51', '52', '53', '54', '55', '56', '57', '58', '59', '60', '...']\n"
     ]
    },
    {
     "name": "stderr",
     "output_type": "stream",
     "text": [
      "C:\\Users\\jthoma\\AppData\\Local\\Temp\\ipykernel_6852\\2457786483.py:39: FutureWarning: The frame.append method is deprecated and will be removed from pandas in a future version. Use pandas.concat instead.\n",
      "  df = df.append(a_series, ignore_index=True)\n",
      "C:\\Users\\jthoma\\AppData\\Local\\Temp\\ipykernel_6852\\2457786483.py:38: FutureWarning: The default dtype for empty Series will be 'object' instead of 'float64' in a future version. Specify a dtype explicitly to silence this warning.\n",
      "  a_series = pd.Series(row_list, index = df.columns)\n"
     ]
    },
    {
     "name": "stdout",
     "output_type": "stream",
     "text": [
      "Could not append: []\n"
     ]
    },
    {
     "name": "stderr",
     "output_type": "stream",
     "text": [
      "C:\\Users\\jthoma\\AppData\\Local\\Temp\\ipykernel_6852\\2457786483.py:39: FutureWarning: The frame.append method is deprecated and will be removed from pandas in a future version. Use pandas.concat instead.\n",
      "  df = df.append(a_series, ignore_index=True)\n",
      "C:\\Users\\jthoma\\AppData\\Local\\Temp\\ipykernel_6852\\2457786483.py:39: FutureWarning: The frame.append method is deprecated and will be removed from pandas in a future version. Use pandas.concat instead.\n",
      "  df = df.append(a_series, ignore_index=True)\n",
      "C:\\Users\\jthoma\\AppData\\Local\\Temp\\ipykernel_6852\\2457786483.py:39: FutureWarning: The frame.append method is deprecated and will be removed from pandas in a future version. Use pandas.concat instead.\n",
      "  df = df.append(a_series, ignore_index=True)\n",
      "C:\\Users\\jthoma\\AppData\\Local\\Temp\\ipykernel_6852\\2457786483.py:39: FutureWarning: The frame.append method is deprecated and will be removed from pandas in a future version. Use pandas.concat instead.\n",
      "  df = df.append(a_series, ignore_index=True)\n",
      "C:\\Users\\jthoma\\AppData\\Local\\Temp\\ipykernel_6852\\2457786483.py:39: FutureWarning: The frame.append method is deprecated and will be removed from pandas in a future version. Use pandas.concat instead.\n",
      "  df = df.append(a_series, ignore_index=True)\n",
      "C:\\Users\\jthoma\\AppData\\Local\\Temp\\ipykernel_6852\\2457786483.py:39: FutureWarning: The frame.append method is deprecated and will be removed from pandas in a future version. Use pandas.concat instead.\n",
      "  df = df.append(a_series, ignore_index=True)\n",
      "C:\\Users\\jthoma\\AppData\\Local\\Temp\\ipykernel_6852\\2457786483.py:39: FutureWarning: The frame.append method is deprecated and will be removed from pandas in a future version. Use pandas.concat instead.\n",
      "  df = df.append(a_series, ignore_index=True)\n",
      "C:\\Users\\jthoma\\AppData\\Local\\Temp\\ipykernel_6852\\2457786483.py:39: FutureWarning: The frame.append method is deprecated and will be removed from pandas in a future version. Use pandas.concat instead.\n",
      "  df = df.append(a_series, ignore_index=True)\n",
      "C:\\Users\\jthoma\\AppData\\Local\\Temp\\ipykernel_6852\\2457786483.py:39: FutureWarning: The frame.append method is deprecated and will be removed from pandas in a future version. Use pandas.concat instead.\n",
      "  df = df.append(a_series, ignore_index=True)\n",
      "C:\\Users\\jthoma\\AppData\\Local\\Temp\\ipykernel_6852\\2457786483.py:39: FutureWarning: The frame.append method is deprecated and will be removed from pandas in a future version. Use pandas.concat instead.\n",
      "  df = df.append(a_series, ignore_index=True)\n"
     ]
    },
    {
     "name": "stdout",
     "output_type": "stream",
     "text": [
      "Could not append: ['... 51 52 53 54 55 56 57 58 59 60 ...', '...', '51', '52', '53', '54', '55', '56', '57', '58', '59', '60', '...']\n"
     ]
    },
    {
     "name": "stderr",
     "output_type": "stream",
     "text": [
      "C:\\Users\\jthoma\\AppData\\Local\\Temp\\ipykernel_6852\\2457786483.py:39: FutureWarning: The frame.append method is deprecated and will be removed from pandas in a future version. Use pandas.concat instead.\n",
      "  df = df.append(a_series, ignore_index=True)\n",
      "C:\\Users\\jthoma\\AppData\\Local\\Temp\\ipykernel_6852\\2457786483.py:38: FutureWarning: The default dtype for empty Series will be 'object' instead of 'float64' in a future version. Specify a dtype explicitly to silence this warning.\n",
      "  a_series = pd.Series(row_list, index = df.columns)\n"
     ]
    },
    {
     "name": "stdout",
     "output_type": "stream",
     "text": [
      "Could not append: []\n"
     ]
    },
    {
     "name": "stderr",
     "output_type": "stream",
     "text": [
      "C:\\Users\\jthoma\\AppData\\Local\\Temp\\ipykernel_6852\\2457786483.py:39: FutureWarning: The frame.append method is deprecated and will be removed from pandas in a future version. Use pandas.concat instead.\n",
      "  df = df.append(a_series, ignore_index=True)\n",
      "C:\\Users\\jthoma\\AppData\\Local\\Temp\\ipykernel_6852\\2457786483.py:39: FutureWarning: The frame.append method is deprecated and will be removed from pandas in a future version. Use pandas.concat instead.\n",
      "  df = df.append(a_series, ignore_index=True)\n",
      "C:\\Users\\jthoma\\AppData\\Local\\Temp\\ipykernel_6852\\2457786483.py:39: FutureWarning: The frame.append method is deprecated and will be removed from pandas in a future version. Use pandas.concat instead.\n",
      "  df = df.append(a_series, ignore_index=True)\n",
      "C:\\Users\\jthoma\\AppData\\Local\\Temp\\ipykernel_6852\\2457786483.py:39: FutureWarning: The frame.append method is deprecated and will be removed from pandas in a future version. Use pandas.concat instead.\n",
      "  df = df.append(a_series, ignore_index=True)\n",
      "C:\\Users\\jthoma\\AppData\\Local\\Temp\\ipykernel_6852\\2457786483.py:39: FutureWarning: The frame.append method is deprecated and will be removed from pandas in a future version. Use pandas.concat instead.\n",
      "  df = df.append(a_series, ignore_index=True)\n",
      "C:\\Users\\jthoma\\AppData\\Local\\Temp\\ipykernel_6852\\2457786483.py:39: FutureWarning: The frame.append method is deprecated and will be removed from pandas in a future version. Use pandas.concat instead.\n",
      "  df = df.append(a_series, ignore_index=True)\n",
      "C:\\Users\\jthoma\\AppData\\Local\\Temp\\ipykernel_6852\\2457786483.py:39: FutureWarning: The frame.append method is deprecated and will be removed from pandas in a future version. Use pandas.concat instead.\n",
      "  df = df.append(a_series, ignore_index=True)\n",
      "C:\\Users\\jthoma\\AppData\\Local\\Temp\\ipykernel_6852\\2457786483.py:39: FutureWarning: The frame.append method is deprecated and will be removed from pandas in a future version. Use pandas.concat instead.\n",
      "  df = df.append(a_series, ignore_index=True)\n",
      "C:\\Users\\jthoma\\AppData\\Local\\Temp\\ipykernel_6852\\2457786483.py:39: FutureWarning: The frame.append method is deprecated and will be removed from pandas in a future version. Use pandas.concat instead.\n",
      "  df = df.append(a_series, ignore_index=True)\n",
      "C:\\Users\\jthoma\\AppData\\Local\\Temp\\ipykernel_6852\\2457786483.py:39: FutureWarning: The frame.append method is deprecated and will be removed from pandas in a future version. Use pandas.concat instead.\n",
      "  df = df.append(a_series, ignore_index=True)\n"
     ]
    },
    {
     "name": "stdout",
     "output_type": "stream",
     "text": [
      "Could not append: ['... 51 52 53 54 55 56 57 58 59 60 ...', '...', '51', '52', '53', '54', '55', '56', '57', '58', '59', '60', '...']\n"
     ]
    },
    {
     "name": "stderr",
     "output_type": "stream",
     "text": [
      "C:\\Users\\jthoma\\AppData\\Local\\Temp\\ipykernel_6852\\2457786483.py:39: FutureWarning: The frame.append method is deprecated and will be removed from pandas in a future version. Use pandas.concat instead.\n",
      "  df = df.append(a_series, ignore_index=True)\n",
      "C:\\Users\\jthoma\\AppData\\Local\\Temp\\ipykernel_6852\\2457786483.py:38: FutureWarning: The default dtype for empty Series will be 'object' instead of 'float64' in a future version. Specify a dtype explicitly to silence this warning.\n",
      "  a_series = pd.Series(row_list, index = df.columns)\n"
     ]
    },
    {
     "name": "stdout",
     "output_type": "stream",
     "text": [
      "Could not append: []\n"
     ]
    },
    {
     "name": "stderr",
     "output_type": "stream",
     "text": [
      "C:\\Users\\jthoma\\AppData\\Local\\Temp\\ipykernel_6852\\2457786483.py:39: FutureWarning: The frame.append method is deprecated and will be removed from pandas in a future version. Use pandas.concat instead.\n",
      "  df = df.append(a_series, ignore_index=True)\n",
      "C:\\Users\\jthoma\\AppData\\Local\\Temp\\ipykernel_6852\\2457786483.py:39: FutureWarning: The frame.append method is deprecated and will be removed from pandas in a future version. Use pandas.concat instead.\n",
      "  df = df.append(a_series, ignore_index=True)\n",
      "C:\\Users\\jthoma\\AppData\\Local\\Temp\\ipykernel_6852\\2457786483.py:39: FutureWarning: The frame.append method is deprecated and will be removed from pandas in a future version. Use pandas.concat instead.\n",
      "  df = df.append(a_series, ignore_index=True)\n",
      "C:\\Users\\jthoma\\AppData\\Local\\Temp\\ipykernel_6852\\2457786483.py:39: FutureWarning: The frame.append method is deprecated and will be removed from pandas in a future version. Use pandas.concat instead.\n",
      "  df = df.append(a_series, ignore_index=True)\n",
      "C:\\Users\\jthoma\\AppData\\Local\\Temp\\ipykernel_6852\\2457786483.py:39: FutureWarning: The frame.append method is deprecated and will be removed from pandas in a future version. Use pandas.concat instead.\n",
      "  df = df.append(a_series, ignore_index=True)\n",
      "C:\\Users\\jthoma\\AppData\\Local\\Temp\\ipykernel_6852\\2457786483.py:39: FutureWarning: The frame.append method is deprecated and will be removed from pandas in a future version. Use pandas.concat instead.\n",
      "  df = df.append(a_series, ignore_index=True)\n",
      "C:\\Users\\jthoma\\AppData\\Local\\Temp\\ipykernel_6852\\2457786483.py:39: FutureWarning: The frame.append method is deprecated and will be removed from pandas in a future version. Use pandas.concat instead.\n",
      "  df = df.append(a_series, ignore_index=True)\n",
      "C:\\Users\\jthoma\\AppData\\Local\\Temp\\ipykernel_6852\\2457786483.py:39: FutureWarning: The frame.append method is deprecated and will be removed from pandas in a future version. Use pandas.concat instead.\n",
      "  df = df.append(a_series, ignore_index=True)\n",
      "C:\\Users\\jthoma\\AppData\\Local\\Temp\\ipykernel_6852\\2457786483.py:39: FutureWarning: The frame.append method is deprecated and will be removed from pandas in a future version. Use pandas.concat instead.\n",
      "  df = df.append(a_series, ignore_index=True)\n",
      "C:\\Users\\jthoma\\AppData\\Local\\Temp\\ipykernel_6852\\2457786483.py:39: FutureWarning: The frame.append method is deprecated and will be removed from pandas in a future version. Use pandas.concat instead.\n",
      "  df = df.append(a_series, ignore_index=True)\n"
     ]
    },
    {
     "name": "stdout",
     "output_type": "stream",
     "text": [
      "Could not append: ['... 51 52 53 54 55 56 57 58 59 60 ...', '...', '51', '52', '53', '54', '55', '56', '57', '58', '59', '60', '...']\n"
     ]
    },
    {
     "name": "stderr",
     "output_type": "stream",
     "text": [
      "C:\\Users\\jthoma\\AppData\\Local\\Temp\\ipykernel_6852\\2457786483.py:39: FutureWarning: The frame.append method is deprecated and will be removed from pandas in a future version. Use pandas.concat instead.\n",
      "  df = df.append(a_series, ignore_index=True)\n",
      "C:\\Users\\jthoma\\AppData\\Local\\Temp\\ipykernel_6852\\2457786483.py:38: FutureWarning: The default dtype for empty Series will be 'object' instead of 'float64' in a future version. Specify a dtype explicitly to silence this warning.\n",
      "  a_series = pd.Series(row_list, index = df.columns)\n"
     ]
    },
    {
     "name": "stdout",
     "output_type": "stream",
     "text": [
      "Could not append: []\n"
     ]
    },
    {
     "name": "stderr",
     "output_type": "stream",
     "text": [
      "C:\\Users\\jthoma\\AppData\\Local\\Temp\\ipykernel_6852\\2457786483.py:39: FutureWarning: The frame.append method is deprecated and will be removed from pandas in a future version. Use pandas.concat instead.\n",
      "  df = df.append(a_series, ignore_index=True)\n",
      "C:\\Users\\jthoma\\AppData\\Local\\Temp\\ipykernel_6852\\2457786483.py:39: FutureWarning: The frame.append method is deprecated and will be removed from pandas in a future version. Use pandas.concat instead.\n",
      "  df = df.append(a_series, ignore_index=True)\n",
      "C:\\Users\\jthoma\\AppData\\Local\\Temp\\ipykernel_6852\\2457786483.py:39: FutureWarning: The frame.append method is deprecated and will be removed from pandas in a future version. Use pandas.concat instead.\n",
      "  df = df.append(a_series, ignore_index=True)\n",
      "C:\\Users\\jthoma\\AppData\\Local\\Temp\\ipykernel_6852\\2457786483.py:39: FutureWarning: The frame.append method is deprecated and will be removed from pandas in a future version. Use pandas.concat instead.\n",
      "  df = df.append(a_series, ignore_index=True)\n",
      "C:\\Users\\jthoma\\AppData\\Local\\Temp\\ipykernel_6852\\2457786483.py:39: FutureWarning: The frame.append method is deprecated and will be removed from pandas in a future version. Use pandas.concat instead.\n",
      "  df = df.append(a_series, ignore_index=True)\n",
      "C:\\Users\\jthoma\\AppData\\Local\\Temp\\ipykernel_6852\\2457786483.py:39: FutureWarning: The frame.append method is deprecated and will be removed from pandas in a future version. Use pandas.concat instead.\n",
      "  df = df.append(a_series, ignore_index=True)\n",
      "C:\\Users\\jthoma\\AppData\\Local\\Temp\\ipykernel_6852\\2457786483.py:39: FutureWarning: The frame.append method is deprecated and will be removed from pandas in a future version. Use pandas.concat instead.\n",
      "  df = df.append(a_series, ignore_index=True)\n",
      "C:\\Users\\jthoma\\AppData\\Local\\Temp\\ipykernel_6852\\2457786483.py:39: FutureWarning: The frame.append method is deprecated and will be removed from pandas in a future version. Use pandas.concat instead.\n",
      "  df = df.append(a_series, ignore_index=True)\n",
      "C:\\Users\\jthoma\\AppData\\Local\\Temp\\ipykernel_6852\\2457786483.py:39: FutureWarning: The frame.append method is deprecated and will be removed from pandas in a future version. Use pandas.concat instead.\n",
      "  df = df.append(a_series, ignore_index=True)\n",
      "C:\\Users\\jthoma\\AppData\\Local\\Temp\\ipykernel_6852\\2457786483.py:39: FutureWarning: The frame.append method is deprecated and will be removed from pandas in a future version. Use pandas.concat instead.\n",
      "  df = df.append(a_series, ignore_index=True)\n"
     ]
    },
    {
     "name": "stdout",
     "output_type": "stream",
     "text": [
      "Could not append: ['... 51 52 53 54 55 56 57 58 59 60 ...', '...', '51', '52', '53', '54', '55', '56', '57', '58', '59', '60', '...']\n"
     ]
    },
    {
     "name": "stderr",
     "output_type": "stream",
     "text": [
      "C:\\Users\\jthoma\\AppData\\Local\\Temp\\ipykernel_6852\\2457786483.py:39: FutureWarning: The frame.append method is deprecated and will be removed from pandas in a future version. Use pandas.concat instead.\n",
      "  df = df.append(a_series, ignore_index=True)\n",
      "C:\\Users\\jthoma\\AppData\\Local\\Temp\\ipykernel_6852\\2457786483.py:38: FutureWarning: The default dtype for empty Series will be 'object' instead of 'float64' in a future version. Specify a dtype explicitly to silence this warning.\n",
      "  a_series = pd.Series(row_list, index = df.columns)\n"
     ]
    },
    {
     "name": "stdout",
     "output_type": "stream",
     "text": [
      "Could not append: []\n"
     ]
    },
    {
     "name": "stderr",
     "output_type": "stream",
     "text": [
      "C:\\Users\\jthoma\\AppData\\Local\\Temp\\ipykernel_6852\\2457786483.py:39: FutureWarning: The frame.append method is deprecated and will be removed from pandas in a future version. Use pandas.concat instead.\n",
      "  df = df.append(a_series, ignore_index=True)\n",
      "C:\\Users\\jthoma\\AppData\\Local\\Temp\\ipykernel_6852\\2457786483.py:39: FutureWarning: The frame.append method is deprecated and will be removed from pandas in a future version. Use pandas.concat instead.\n",
      "  df = df.append(a_series, ignore_index=True)\n",
      "C:\\Users\\jthoma\\AppData\\Local\\Temp\\ipykernel_6852\\2457786483.py:39: FutureWarning: The frame.append method is deprecated and will be removed from pandas in a future version. Use pandas.concat instead.\n",
      "  df = df.append(a_series, ignore_index=True)\n",
      "C:\\Users\\jthoma\\AppData\\Local\\Temp\\ipykernel_6852\\2457786483.py:39: FutureWarning: The frame.append method is deprecated and will be removed from pandas in a future version. Use pandas.concat instead.\n",
      "  df = df.append(a_series, ignore_index=True)\n",
      "C:\\Users\\jthoma\\AppData\\Local\\Temp\\ipykernel_6852\\2457786483.py:39: FutureWarning: The frame.append method is deprecated and will be removed from pandas in a future version. Use pandas.concat instead.\n",
      "  df = df.append(a_series, ignore_index=True)\n",
      "C:\\Users\\jthoma\\AppData\\Local\\Temp\\ipykernel_6852\\2457786483.py:39: FutureWarning: The frame.append method is deprecated and will be removed from pandas in a future version. Use pandas.concat instead.\n",
      "  df = df.append(a_series, ignore_index=True)\n",
      "C:\\Users\\jthoma\\AppData\\Local\\Temp\\ipykernel_6852\\2457786483.py:39: FutureWarning: The frame.append method is deprecated and will be removed from pandas in a future version. Use pandas.concat instead.\n",
      "  df = df.append(a_series, ignore_index=True)\n",
      "C:\\Users\\jthoma\\AppData\\Local\\Temp\\ipykernel_6852\\2457786483.py:39: FutureWarning: The frame.append method is deprecated and will be removed from pandas in a future version. Use pandas.concat instead.\n",
      "  df = df.append(a_series, ignore_index=True)\n",
      "C:\\Users\\jthoma\\AppData\\Local\\Temp\\ipykernel_6852\\2457786483.py:39: FutureWarning: The frame.append method is deprecated and will be removed from pandas in a future version. Use pandas.concat instead.\n",
      "  df = df.append(a_series, ignore_index=True)\n",
      "C:\\Users\\jthoma\\AppData\\Local\\Temp\\ipykernel_6852\\2457786483.py:39: FutureWarning: The frame.append method is deprecated and will be removed from pandas in a future version. Use pandas.concat instead.\n",
      "  df = df.append(a_series, ignore_index=True)\n"
     ]
    },
    {
     "name": "stdout",
     "output_type": "stream",
     "text": [
      "Could not append: ['... 51 52 53 54 55 56 57 58 59 60 ...', '...', '51', '52', '53', '54', '55', '56', '57', '58', '59', '60', '...']\n"
     ]
    },
    {
     "name": "stderr",
     "output_type": "stream",
     "text": [
      "C:\\Users\\jthoma\\AppData\\Local\\Temp\\ipykernel_6852\\2457786483.py:39: FutureWarning: The frame.append method is deprecated and will be removed from pandas in a future version. Use pandas.concat instead.\n",
      "  df = df.append(a_series, ignore_index=True)\n",
      "C:\\Users\\jthoma\\AppData\\Local\\Temp\\ipykernel_6852\\2457786483.py:38: FutureWarning: The default dtype for empty Series will be 'object' instead of 'float64' in a future version. Specify a dtype explicitly to silence this warning.\n",
      "  a_series = pd.Series(row_list, index = df.columns)\n"
     ]
    },
    {
     "name": "stdout",
     "output_type": "stream",
     "text": [
      "Could not append: []\n"
     ]
    },
    {
     "name": "stderr",
     "output_type": "stream",
     "text": [
      "C:\\Users\\jthoma\\AppData\\Local\\Temp\\ipykernel_6852\\2457786483.py:39: FutureWarning: The frame.append method is deprecated and will be removed from pandas in a future version. Use pandas.concat instead.\n",
      "  df = df.append(a_series, ignore_index=True)\n",
      "C:\\Users\\jthoma\\AppData\\Local\\Temp\\ipykernel_6852\\2457786483.py:39: FutureWarning: The frame.append method is deprecated and will be removed from pandas in a future version. Use pandas.concat instead.\n",
      "  df = df.append(a_series, ignore_index=True)\n",
      "C:\\Users\\jthoma\\AppData\\Local\\Temp\\ipykernel_6852\\2457786483.py:39: FutureWarning: The frame.append method is deprecated and will be removed from pandas in a future version. Use pandas.concat instead.\n",
      "  df = df.append(a_series, ignore_index=True)\n",
      "C:\\Users\\jthoma\\AppData\\Local\\Temp\\ipykernel_6852\\2457786483.py:39: FutureWarning: The frame.append method is deprecated and will be removed from pandas in a future version. Use pandas.concat instead.\n",
      "  df = df.append(a_series, ignore_index=True)\n",
      "C:\\Users\\jthoma\\AppData\\Local\\Temp\\ipykernel_6852\\2457786483.py:39: FutureWarning: The frame.append method is deprecated and will be removed from pandas in a future version. Use pandas.concat instead.\n",
      "  df = df.append(a_series, ignore_index=True)\n",
      "C:\\Users\\jthoma\\AppData\\Local\\Temp\\ipykernel_6852\\2457786483.py:39: FutureWarning: The frame.append method is deprecated and will be removed from pandas in a future version. Use pandas.concat instead.\n",
      "  df = df.append(a_series, ignore_index=True)\n",
      "C:\\Users\\jthoma\\AppData\\Local\\Temp\\ipykernel_6852\\2457786483.py:39: FutureWarning: The frame.append method is deprecated and will be removed from pandas in a future version. Use pandas.concat instead.\n",
      "  df = df.append(a_series, ignore_index=True)\n",
      "C:\\Users\\jthoma\\AppData\\Local\\Temp\\ipykernel_6852\\2457786483.py:39: FutureWarning: The frame.append method is deprecated and will be removed from pandas in a future version. Use pandas.concat instead.\n",
      "  df = df.append(a_series, ignore_index=True)\n",
      "C:\\Users\\jthoma\\AppData\\Local\\Temp\\ipykernel_6852\\2457786483.py:39: FutureWarning: The frame.append method is deprecated and will be removed from pandas in a future version. Use pandas.concat instead.\n",
      "  df = df.append(a_series, ignore_index=True)\n",
      "C:\\Users\\jthoma\\AppData\\Local\\Temp\\ipykernel_6852\\2457786483.py:39: FutureWarning: The frame.append method is deprecated and will be removed from pandas in a future version. Use pandas.concat instead.\n",
      "  df = df.append(a_series, ignore_index=True)\n"
     ]
    },
    {
     "name": "stdout",
     "output_type": "stream",
     "text": [
      "Could not append: ['... 51 52 53 54 55 56 57 58 59 60 ...', '...', '51', '52', '53', '54', '55', '56', '57', '58', '59', '60', '...']\n"
     ]
    },
    {
     "name": "stderr",
     "output_type": "stream",
     "text": [
      "C:\\Users\\jthoma\\AppData\\Local\\Temp\\ipykernel_6852\\2457786483.py:39: FutureWarning: The frame.append method is deprecated and will be removed from pandas in a future version. Use pandas.concat instead.\n",
      "  df = df.append(a_series, ignore_index=True)\n",
      "C:\\Users\\jthoma\\AppData\\Local\\Temp\\ipykernel_6852\\2457786483.py:38: FutureWarning: The default dtype for empty Series will be 'object' instead of 'float64' in a future version. Specify a dtype explicitly to silence this warning.\n",
      "  a_series = pd.Series(row_list, index = df.columns)\n"
     ]
    },
    {
     "name": "stdout",
     "output_type": "stream",
     "text": [
      "Could not append: []\n"
     ]
    },
    {
     "name": "stderr",
     "output_type": "stream",
     "text": [
      "C:\\Users\\jthoma\\AppData\\Local\\Temp\\ipykernel_6852\\2457786483.py:39: FutureWarning: The frame.append method is deprecated and will be removed from pandas in a future version. Use pandas.concat instead.\n",
      "  df = df.append(a_series, ignore_index=True)\n",
      "C:\\Users\\jthoma\\AppData\\Local\\Temp\\ipykernel_6852\\2457786483.py:39: FutureWarning: The frame.append method is deprecated and will be removed from pandas in a future version. Use pandas.concat instead.\n",
      "  df = df.append(a_series, ignore_index=True)\n",
      "C:\\Users\\jthoma\\AppData\\Local\\Temp\\ipykernel_6852\\2457786483.py:39: FutureWarning: The frame.append method is deprecated and will be removed from pandas in a future version. Use pandas.concat instead.\n",
      "  df = df.append(a_series, ignore_index=True)\n",
      "C:\\Users\\jthoma\\AppData\\Local\\Temp\\ipykernel_6852\\2457786483.py:39: FutureWarning: The frame.append method is deprecated and will be removed from pandas in a future version. Use pandas.concat instead.\n",
      "  df = df.append(a_series, ignore_index=True)\n",
      "C:\\Users\\jthoma\\AppData\\Local\\Temp\\ipykernel_6852\\2457786483.py:39: FutureWarning: The frame.append method is deprecated and will be removed from pandas in a future version. Use pandas.concat instead.\n",
      "  df = df.append(a_series, ignore_index=True)\n",
      "C:\\Users\\jthoma\\AppData\\Local\\Temp\\ipykernel_6852\\2457786483.py:39: FutureWarning: The frame.append method is deprecated and will be removed from pandas in a future version. Use pandas.concat instead.\n",
      "  df = df.append(a_series, ignore_index=True)\n",
      "C:\\Users\\jthoma\\AppData\\Local\\Temp\\ipykernel_6852\\2457786483.py:39: FutureWarning: The frame.append method is deprecated and will be removed from pandas in a future version. Use pandas.concat instead.\n",
      "  df = df.append(a_series, ignore_index=True)\n",
      "C:\\Users\\jthoma\\AppData\\Local\\Temp\\ipykernel_6852\\2457786483.py:39: FutureWarning: The frame.append method is deprecated and will be removed from pandas in a future version. Use pandas.concat instead.\n",
      "  df = df.append(a_series, ignore_index=True)\n",
      "C:\\Users\\jthoma\\AppData\\Local\\Temp\\ipykernel_6852\\2457786483.py:39: FutureWarning: The frame.append method is deprecated and will be removed from pandas in a future version. Use pandas.concat instead.\n",
      "  df = df.append(a_series, ignore_index=True)\n",
      "C:\\Users\\jthoma\\AppData\\Local\\Temp\\ipykernel_6852\\2457786483.py:39: FutureWarning: The frame.append method is deprecated and will be removed from pandas in a future version. Use pandas.concat instead.\n",
      "  df = df.append(a_series, ignore_index=True)\n"
     ]
    },
    {
     "name": "stdout",
     "output_type": "stream",
     "text": [
      "Could not append: ['... 61 62 63 64 65 66 67 68 69 70 ...', '...', '61', '62', '63', '64', '65', '66', '67', '68', '69', '70', '...']\n"
     ]
    },
    {
     "name": "stderr",
     "output_type": "stream",
     "text": [
      "C:\\Users\\jthoma\\AppData\\Local\\Temp\\ipykernel_6852\\2457786483.py:39: FutureWarning: The frame.append method is deprecated and will be removed from pandas in a future version. Use pandas.concat instead.\n",
      "  df = df.append(a_series, ignore_index=True)\n",
      "C:\\Users\\jthoma\\AppData\\Local\\Temp\\ipykernel_6852\\2457786483.py:38: FutureWarning: The default dtype for empty Series will be 'object' instead of 'float64' in a future version. Specify a dtype explicitly to silence this warning.\n",
      "  a_series = pd.Series(row_list, index = df.columns)\n"
     ]
    },
    {
     "name": "stdout",
     "output_type": "stream",
     "text": [
      "Could not append: []\n"
     ]
    },
    {
     "name": "stderr",
     "output_type": "stream",
     "text": [
      "C:\\Users\\jthoma\\AppData\\Local\\Temp\\ipykernel_6852\\2457786483.py:39: FutureWarning: The frame.append method is deprecated and will be removed from pandas in a future version. Use pandas.concat instead.\n",
      "  df = df.append(a_series, ignore_index=True)\n",
      "C:\\Users\\jthoma\\AppData\\Local\\Temp\\ipykernel_6852\\2457786483.py:39: FutureWarning: The frame.append method is deprecated and will be removed from pandas in a future version. Use pandas.concat instead.\n",
      "  df = df.append(a_series, ignore_index=True)\n",
      "C:\\Users\\jthoma\\AppData\\Local\\Temp\\ipykernel_6852\\2457786483.py:39: FutureWarning: The frame.append method is deprecated and will be removed from pandas in a future version. Use pandas.concat instead.\n",
      "  df = df.append(a_series, ignore_index=True)\n",
      "C:\\Users\\jthoma\\AppData\\Local\\Temp\\ipykernel_6852\\2457786483.py:39: FutureWarning: The frame.append method is deprecated and will be removed from pandas in a future version. Use pandas.concat instead.\n",
      "  df = df.append(a_series, ignore_index=True)\n",
      "C:\\Users\\jthoma\\AppData\\Local\\Temp\\ipykernel_6852\\2457786483.py:39: FutureWarning: The frame.append method is deprecated and will be removed from pandas in a future version. Use pandas.concat instead.\n",
      "  df = df.append(a_series, ignore_index=True)\n",
      "C:\\Users\\jthoma\\AppData\\Local\\Temp\\ipykernel_6852\\2457786483.py:39: FutureWarning: The frame.append method is deprecated and will be removed from pandas in a future version. Use pandas.concat instead.\n",
      "  df = df.append(a_series, ignore_index=True)\n",
      "C:\\Users\\jthoma\\AppData\\Local\\Temp\\ipykernel_6852\\2457786483.py:39: FutureWarning: The frame.append method is deprecated and will be removed from pandas in a future version. Use pandas.concat instead.\n",
      "  df = df.append(a_series, ignore_index=True)\n",
      "C:\\Users\\jthoma\\AppData\\Local\\Temp\\ipykernel_6852\\2457786483.py:39: FutureWarning: The frame.append method is deprecated and will be removed from pandas in a future version. Use pandas.concat instead.\n",
      "  df = df.append(a_series, ignore_index=True)\n",
      "C:\\Users\\jthoma\\AppData\\Local\\Temp\\ipykernel_6852\\2457786483.py:39: FutureWarning: The frame.append method is deprecated and will be removed from pandas in a future version. Use pandas.concat instead.\n",
      "  df = df.append(a_series, ignore_index=True)\n",
      "C:\\Users\\jthoma\\AppData\\Local\\Temp\\ipykernel_6852\\2457786483.py:39: FutureWarning: The frame.append method is deprecated and will be removed from pandas in a future version. Use pandas.concat instead.\n",
      "  df = df.append(a_series, ignore_index=True)\n"
     ]
    },
    {
     "name": "stdout",
     "output_type": "stream",
     "text": [
      "Could not append: ['... 61 62 63 64 65 66 67 68 69 70 ...', '...', '61', '62', '63', '64', '65', '66', '67', '68', '69', '70', '...']\n"
     ]
    },
    {
     "name": "stderr",
     "output_type": "stream",
     "text": [
      "C:\\Users\\jthoma\\AppData\\Local\\Temp\\ipykernel_6852\\2457786483.py:39: FutureWarning: The frame.append method is deprecated and will be removed from pandas in a future version. Use pandas.concat instead.\n",
      "  df = df.append(a_series, ignore_index=True)\n",
      "C:\\Users\\jthoma\\AppData\\Local\\Temp\\ipykernel_6852\\2457786483.py:38: FutureWarning: The default dtype for empty Series will be 'object' instead of 'float64' in a future version. Specify a dtype explicitly to silence this warning.\n",
      "  a_series = pd.Series(row_list, index = df.columns)\n"
     ]
    },
    {
     "name": "stdout",
     "output_type": "stream",
     "text": [
      "Could not append: []\n"
     ]
    },
    {
     "name": "stderr",
     "output_type": "stream",
     "text": [
      "C:\\Users\\jthoma\\AppData\\Local\\Temp\\ipykernel_6852\\2457786483.py:39: FutureWarning: The frame.append method is deprecated and will be removed from pandas in a future version. Use pandas.concat instead.\n",
      "  df = df.append(a_series, ignore_index=True)\n",
      "C:\\Users\\jthoma\\AppData\\Local\\Temp\\ipykernel_6852\\2457786483.py:39: FutureWarning: The frame.append method is deprecated and will be removed from pandas in a future version. Use pandas.concat instead.\n",
      "  df = df.append(a_series, ignore_index=True)\n",
      "C:\\Users\\jthoma\\AppData\\Local\\Temp\\ipykernel_6852\\2457786483.py:39: FutureWarning: The frame.append method is deprecated and will be removed from pandas in a future version. Use pandas.concat instead.\n",
      "  df = df.append(a_series, ignore_index=True)\n",
      "C:\\Users\\jthoma\\AppData\\Local\\Temp\\ipykernel_6852\\2457786483.py:39: FutureWarning: The frame.append method is deprecated and will be removed from pandas in a future version. Use pandas.concat instead.\n",
      "  df = df.append(a_series, ignore_index=True)\n",
      "C:\\Users\\jthoma\\AppData\\Local\\Temp\\ipykernel_6852\\2457786483.py:39: FutureWarning: The frame.append method is deprecated and will be removed from pandas in a future version. Use pandas.concat instead.\n",
      "  df = df.append(a_series, ignore_index=True)\n",
      "C:\\Users\\jthoma\\AppData\\Local\\Temp\\ipykernel_6852\\2457786483.py:39: FutureWarning: The frame.append method is deprecated and will be removed from pandas in a future version. Use pandas.concat instead.\n",
      "  df = df.append(a_series, ignore_index=True)\n",
      "C:\\Users\\jthoma\\AppData\\Local\\Temp\\ipykernel_6852\\2457786483.py:39: FutureWarning: The frame.append method is deprecated and will be removed from pandas in a future version. Use pandas.concat instead.\n",
      "  df = df.append(a_series, ignore_index=True)\n",
      "C:\\Users\\jthoma\\AppData\\Local\\Temp\\ipykernel_6852\\2457786483.py:39: FutureWarning: The frame.append method is deprecated and will be removed from pandas in a future version. Use pandas.concat instead.\n",
      "  df = df.append(a_series, ignore_index=True)\n",
      "C:\\Users\\jthoma\\AppData\\Local\\Temp\\ipykernel_6852\\2457786483.py:39: FutureWarning: The frame.append method is deprecated and will be removed from pandas in a future version. Use pandas.concat instead.\n",
      "  df = df.append(a_series, ignore_index=True)\n",
      "C:\\Users\\jthoma\\AppData\\Local\\Temp\\ipykernel_6852\\2457786483.py:39: FutureWarning: The frame.append method is deprecated and will be removed from pandas in a future version. Use pandas.concat instead.\n",
      "  df = df.append(a_series, ignore_index=True)\n"
     ]
    },
    {
     "name": "stdout",
     "output_type": "stream",
     "text": [
      "Could not append: ['... 61 62 63 64 65 66 67 68 69 70 ...', '...', '61', '62', '63', '64', '65', '66', '67', '68', '69', '70', '...']\n"
     ]
    },
    {
     "name": "stderr",
     "output_type": "stream",
     "text": [
      "C:\\Users\\jthoma\\AppData\\Local\\Temp\\ipykernel_6852\\2457786483.py:39: FutureWarning: The frame.append method is deprecated and will be removed from pandas in a future version. Use pandas.concat instead.\n",
      "  df = df.append(a_series, ignore_index=True)\n",
      "C:\\Users\\jthoma\\AppData\\Local\\Temp\\ipykernel_6852\\2457786483.py:38: FutureWarning: The default dtype for empty Series will be 'object' instead of 'float64' in a future version. Specify a dtype explicitly to silence this warning.\n",
      "  a_series = pd.Series(row_list, index = df.columns)\n"
     ]
    },
    {
     "name": "stdout",
     "output_type": "stream",
     "text": [
      "Could not append: []\n"
     ]
    },
    {
     "name": "stderr",
     "output_type": "stream",
     "text": [
      "C:\\Users\\jthoma\\AppData\\Local\\Temp\\ipykernel_6852\\2457786483.py:39: FutureWarning: The frame.append method is deprecated and will be removed from pandas in a future version. Use pandas.concat instead.\n",
      "  df = df.append(a_series, ignore_index=True)\n",
      "C:\\Users\\jthoma\\AppData\\Local\\Temp\\ipykernel_6852\\2457786483.py:39: FutureWarning: The frame.append method is deprecated and will be removed from pandas in a future version. Use pandas.concat instead.\n",
      "  df = df.append(a_series, ignore_index=True)\n",
      "C:\\Users\\jthoma\\AppData\\Local\\Temp\\ipykernel_6852\\2457786483.py:39: FutureWarning: The frame.append method is deprecated and will be removed from pandas in a future version. Use pandas.concat instead.\n",
      "  df = df.append(a_series, ignore_index=True)\n",
      "C:\\Users\\jthoma\\AppData\\Local\\Temp\\ipykernel_6852\\2457786483.py:39: FutureWarning: The frame.append method is deprecated and will be removed from pandas in a future version. Use pandas.concat instead.\n",
      "  df = df.append(a_series, ignore_index=True)\n",
      "C:\\Users\\jthoma\\AppData\\Local\\Temp\\ipykernel_6852\\2457786483.py:39: FutureWarning: The frame.append method is deprecated and will be removed from pandas in a future version. Use pandas.concat instead.\n",
      "  df = df.append(a_series, ignore_index=True)\n",
      "C:\\Users\\jthoma\\AppData\\Local\\Temp\\ipykernel_6852\\2457786483.py:39: FutureWarning: The frame.append method is deprecated and will be removed from pandas in a future version. Use pandas.concat instead.\n",
      "  df = df.append(a_series, ignore_index=True)\n",
      "C:\\Users\\jthoma\\AppData\\Local\\Temp\\ipykernel_6852\\2457786483.py:39: FutureWarning: The frame.append method is deprecated and will be removed from pandas in a future version. Use pandas.concat instead.\n",
      "  df = df.append(a_series, ignore_index=True)\n",
      "C:\\Users\\jthoma\\AppData\\Local\\Temp\\ipykernel_6852\\2457786483.py:39: FutureWarning: The frame.append method is deprecated and will be removed from pandas in a future version. Use pandas.concat instead.\n",
      "  df = df.append(a_series, ignore_index=True)\n",
      "C:\\Users\\jthoma\\AppData\\Local\\Temp\\ipykernel_6852\\2457786483.py:39: FutureWarning: The frame.append method is deprecated and will be removed from pandas in a future version. Use pandas.concat instead.\n",
      "  df = df.append(a_series, ignore_index=True)\n",
      "C:\\Users\\jthoma\\AppData\\Local\\Temp\\ipykernel_6852\\2457786483.py:39: FutureWarning: The frame.append method is deprecated and will be removed from pandas in a future version. Use pandas.concat instead.\n",
      "  df = df.append(a_series, ignore_index=True)\n"
     ]
    },
    {
     "name": "stdout",
     "output_type": "stream",
     "text": [
      "Could not append: ['... 61 62 63 64 65 66 67 68 69 70 ...', '...', '61', '62', '63', '64', '65', '66', '67', '68', '69', '70', '...']\n"
     ]
    },
    {
     "name": "stderr",
     "output_type": "stream",
     "text": [
      "C:\\Users\\jthoma\\AppData\\Local\\Temp\\ipykernel_6852\\2457786483.py:39: FutureWarning: The frame.append method is deprecated and will be removed from pandas in a future version. Use pandas.concat instead.\n",
      "  df = df.append(a_series, ignore_index=True)\n",
      "C:\\Users\\jthoma\\AppData\\Local\\Temp\\ipykernel_6852\\2457786483.py:38: FutureWarning: The default dtype for empty Series will be 'object' instead of 'float64' in a future version. Specify a dtype explicitly to silence this warning.\n",
      "  a_series = pd.Series(row_list, index = df.columns)\n"
     ]
    },
    {
     "name": "stdout",
     "output_type": "stream",
     "text": [
      "Could not append: []\n"
     ]
    },
    {
     "name": "stderr",
     "output_type": "stream",
     "text": [
      "C:\\Users\\jthoma\\AppData\\Local\\Temp\\ipykernel_6852\\2457786483.py:39: FutureWarning: The frame.append method is deprecated and will be removed from pandas in a future version. Use pandas.concat instead.\n",
      "  df = df.append(a_series, ignore_index=True)\n",
      "C:\\Users\\jthoma\\AppData\\Local\\Temp\\ipykernel_6852\\2457786483.py:39: FutureWarning: The frame.append method is deprecated and will be removed from pandas in a future version. Use pandas.concat instead.\n",
      "  df = df.append(a_series, ignore_index=True)\n",
      "C:\\Users\\jthoma\\AppData\\Local\\Temp\\ipykernel_6852\\2457786483.py:39: FutureWarning: The frame.append method is deprecated and will be removed from pandas in a future version. Use pandas.concat instead.\n",
      "  df = df.append(a_series, ignore_index=True)\n",
      "C:\\Users\\jthoma\\AppData\\Local\\Temp\\ipykernel_6852\\2457786483.py:39: FutureWarning: The frame.append method is deprecated and will be removed from pandas in a future version. Use pandas.concat instead.\n",
      "  df = df.append(a_series, ignore_index=True)\n",
      "C:\\Users\\jthoma\\AppData\\Local\\Temp\\ipykernel_6852\\2457786483.py:39: FutureWarning: The frame.append method is deprecated and will be removed from pandas in a future version. Use pandas.concat instead.\n",
      "  df = df.append(a_series, ignore_index=True)\n",
      "C:\\Users\\jthoma\\AppData\\Local\\Temp\\ipykernel_6852\\2457786483.py:39: FutureWarning: The frame.append method is deprecated and will be removed from pandas in a future version. Use pandas.concat instead.\n",
      "  df = df.append(a_series, ignore_index=True)\n",
      "C:\\Users\\jthoma\\AppData\\Local\\Temp\\ipykernel_6852\\2457786483.py:39: FutureWarning: The frame.append method is deprecated and will be removed from pandas in a future version. Use pandas.concat instead.\n",
      "  df = df.append(a_series, ignore_index=True)\n",
      "C:\\Users\\jthoma\\AppData\\Local\\Temp\\ipykernel_6852\\2457786483.py:39: FutureWarning: The frame.append method is deprecated and will be removed from pandas in a future version. Use pandas.concat instead.\n",
      "  df = df.append(a_series, ignore_index=True)\n",
      "C:\\Users\\jthoma\\AppData\\Local\\Temp\\ipykernel_6852\\2457786483.py:39: FutureWarning: The frame.append method is deprecated and will be removed from pandas in a future version. Use pandas.concat instead.\n",
      "  df = df.append(a_series, ignore_index=True)\n",
      "C:\\Users\\jthoma\\AppData\\Local\\Temp\\ipykernel_6852\\2457786483.py:39: FutureWarning: The frame.append method is deprecated and will be removed from pandas in a future version. Use pandas.concat instead.\n",
      "  df = df.append(a_series, ignore_index=True)\n"
     ]
    },
    {
     "name": "stdout",
     "output_type": "stream",
     "text": [
      "Could not append: ['... 61 62 63 64 65 66 67 68 69 70 ...', '...', '61', '62', '63', '64', '65', '66', '67', '68', '69', '70', '...']\n"
     ]
    },
    {
     "name": "stderr",
     "output_type": "stream",
     "text": [
      "C:\\Users\\jthoma\\AppData\\Local\\Temp\\ipykernel_6852\\2457786483.py:39: FutureWarning: The frame.append method is deprecated and will be removed from pandas in a future version. Use pandas.concat instead.\n",
      "  df = df.append(a_series, ignore_index=True)\n",
      "C:\\Users\\jthoma\\AppData\\Local\\Temp\\ipykernel_6852\\2457786483.py:38: FutureWarning: The default dtype for empty Series will be 'object' instead of 'float64' in a future version. Specify a dtype explicitly to silence this warning.\n",
      "  a_series = pd.Series(row_list, index = df.columns)\n"
     ]
    },
    {
     "name": "stdout",
     "output_type": "stream",
     "text": [
      "Could not append: []\n"
     ]
    },
    {
     "name": "stderr",
     "output_type": "stream",
     "text": [
      "C:\\Users\\jthoma\\AppData\\Local\\Temp\\ipykernel_6852\\2457786483.py:39: FutureWarning: The frame.append method is deprecated and will be removed from pandas in a future version. Use pandas.concat instead.\n",
      "  df = df.append(a_series, ignore_index=True)\n",
      "C:\\Users\\jthoma\\AppData\\Local\\Temp\\ipykernel_6852\\2457786483.py:39: FutureWarning: The frame.append method is deprecated and will be removed from pandas in a future version. Use pandas.concat instead.\n",
      "  df = df.append(a_series, ignore_index=True)\n",
      "C:\\Users\\jthoma\\AppData\\Local\\Temp\\ipykernel_6852\\2457786483.py:39: FutureWarning: The frame.append method is deprecated and will be removed from pandas in a future version. Use pandas.concat instead.\n",
      "  df = df.append(a_series, ignore_index=True)\n",
      "C:\\Users\\jthoma\\AppData\\Local\\Temp\\ipykernel_6852\\2457786483.py:39: FutureWarning: The frame.append method is deprecated and will be removed from pandas in a future version. Use pandas.concat instead.\n",
      "  df = df.append(a_series, ignore_index=True)\n",
      "C:\\Users\\jthoma\\AppData\\Local\\Temp\\ipykernel_6852\\2457786483.py:39: FutureWarning: The frame.append method is deprecated and will be removed from pandas in a future version. Use pandas.concat instead.\n",
      "  df = df.append(a_series, ignore_index=True)\n",
      "C:\\Users\\jthoma\\AppData\\Local\\Temp\\ipykernel_6852\\2457786483.py:39: FutureWarning: The frame.append method is deprecated and will be removed from pandas in a future version. Use pandas.concat instead.\n",
      "  df = df.append(a_series, ignore_index=True)\n",
      "C:\\Users\\jthoma\\AppData\\Local\\Temp\\ipykernel_6852\\2457786483.py:39: FutureWarning: The frame.append method is deprecated and will be removed from pandas in a future version. Use pandas.concat instead.\n",
      "  df = df.append(a_series, ignore_index=True)\n",
      "C:\\Users\\jthoma\\AppData\\Local\\Temp\\ipykernel_6852\\2457786483.py:39: FutureWarning: The frame.append method is deprecated and will be removed from pandas in a future version. Use pandas.concat instead.\n",
      "  df = df.append(a_series, ignore_index=True)\n",
      "C:\\Users\\jthoma\\AppData\\Local\\Temp\\ipykernel_6852\\2457786483.py:39: FutureWarning: The frame.append method is deprecated and will be removed from pandas in a future version. Use pandas.concat instead.\n",
      "  df = df.append(a_series, ignore_index=True)\n",
      "C:\\Users\\jthoma\\AppData\\Local\\Temp\\ipykernel_6852\\2457786483.py:39: FutureWarning: The frame.append method is deprecated and will be removed from pandas in a future version. Use pandas.concat instead.\n",
      "  df = df.append(a_series, ignore_index=True)\n"
     ]
    },
    {
     "name": "stdout",
     "output_type": "stream",
     "text": [
      "Could not append: ['... 61 62 63 64 65 66 67 68 69 70 ...', '...', '61', '62', '63', '64', '65', '66', '67', '68', '69', '70', '...']\n"
     ]
    },
    {
     "name": "stderr",
     "output_type": "stream",
     "text": [
      "C:\\Users\\jthoma\\AppData\\Local\\Temp\\ipykernel_6852\\2457786483.py:39: FutureWarning: The frame.append method is deprecated and will be removed from pandas in a future version. Use pandas.concat instead.\n",
      "  df = df.append(a_series, ignore_index=True)\n",
      "C:\\Users\\jthoma\\AppData\\Local\\Temp\\ipykernel_6852\\2457786483.py:38: FutureWarning: The default dtype for empty Series will be 'object' instead of 'float64' in a future version. Specify a dtype explicitly to silence this warning.\n",
      "  a_series = pd.Series(row_list, index = df.columns)\n"
     ]
    },
    {
     "name": "stdout",
     "output_type": "stream",
     "text": [
      "Could not append: []\n"
     ]
    },
    {
     "name": "stderr",
     "output_type": "stream",
     "text": [
      "C:\\Users\\jthoma\\AppData\\Local\\Temp\\ipykernel_6852\\2457786483.py:39: FutureWarning: The frame.append method is deprecated and will be removed from pandas in a future version. Use pandas.concat instead.\n",
      "  df = df.append(a_series, ignore_index=True)\n",
      "C:\\Users\\jthoma\\AppData\\Local\\Temp\\ipykernel_6852\\2457786483.py:39: FutureWarning: The frame.append method is deprecated and will be removed from pandas in a future version. Use pandas.concat instead.\n",
      "  df = df.append(a_series, ignore_index=True)\n",
      "C:\\Users\\jthoma\\AppData\\Local\\Temp\\ipykernel_6852\\2457786483.py:39: FutureWarning: The frame.append method is deprecated and will be removed from pandas in a future version. Use pandas.concat instead.\n",
      "  df = df.append(a_series, ignore_index=True)\n",
      "C:\\Users\\jthoma\\AppData\\Local\\Temp\\ipykernel_6852\\2457786483.py:39: FutureWarning: The frame.append method is deprecated and will be removed from pandas in a future version. Use pandas.concat instead.\n",
      "  df = df.append(a_series, ignore_index=True)\n",
      "C:\\Users\\jthoma\\AppData\\Local\\Temp\\ipykernel_6852\\2457786483.py:39: FutureWarning: The frame.append method is deprecated and will be removed from pandas in a future version. Use pandas.concat instead.\n",
      "  df = df.append(a_series, ignore_index=True)\n",
      "C:\\Users\\jthoma\\AppData\\Local\\Temp\\ipykernel_6852\\2457786483.py:39: FutureWarning: The frame.append method is deprecated and will be removed from pandas in a future version. Use pandas.concat instead.\n",
      "  df = df.append(a_series, ignore_index=True)\n",
      "C:\\Users\\jthoma\\AppData\\Local\\Temp\\ipykernel_6852\\2457786483.py:39: FutureWarning: The frame.append method is deprecated and will be removed from pandas in a future version. Use pandas.concat instead.\n",
      "  df = df.append(a_series, ignore_index=True)\n",
      "C:\\Users\\jthoma\\AppData\\Local\\Temp\\ipykernel_6852\\2457786483.py:39: FutureWarning: The frame.append method is deprecated and will be removed from pandas in a future version. Use pandas.concat instead.\n",
      "  df = df.append(a_series, ignore_index=True)\n",
      "C:\\Users\\jthoma\\AppData\\Local\\Temp\\ipykernel_6852\\2457786483.py:39: FutureWarning: The frame.append method is deprecated and will be removed from pandas in a future version. Use pandas.concat instead.\n",
      "  df = df.append(a_series, ignore_index=True)\n",
      "C:\\Users\\jthoma\\AppData\\Local\\Temp\\ipykernel_6852\\2457786483.py:39: FutureWarning: The frame.append method is deprecated and will be removed from pandas in a future version. Use pandas.concat instead.\n",
      "  df = df.append(a_series, ignore_index=True)\n"
     ]
    },
    {
     "name": "stdout",
     "output_type": "stream",
     "text": [
      "Could not append: ['... 61 62 63 64 65 66 67 68 69 70 ...', '...', '61', '62', '63', '64', '65', '66', '67', '68', '69', '70', '...']\n"
     ]
    },
    {
     "name": "stderr",
     "output_type": "stream",
     "text": [
      "C:\\Users\\jthoma\\AppData\\Local\\Temp\\ipykernel_6852\\2457786483.py:39: FutureWarning: The frame.append method is deprecated and will be removed from pandas in a future version. Use pandas.concat instead.\n",
      "  df = df.append(a_series, ignore_index=True)\n",
      "C:\\Users\\jthoma\\AppData\\Local\\Temp\\ipykernel_6852\\2457786483.py:38: FutureWarning: The default dtype for empty Series will be 'object' instead of 'float64' in a future version. Specify a dtype explicitly to silence this warning.\n",
      "  a_series = pd.Series(row_list, index = df.columns)\n"
     ]
    },
    {
     "name": "stdout",
     "output_type": "stream",
     "text": [
      "Could not append: []\n"
     ]
    },
    {
     "name": "stderr",
     "output_type": "stream",
     "text": [
      "C:\\Users\\jthoma\\AppData\\Local\\Temp\\ipykernel_6852\\2457786483.py:39: FutureWarning: The frame.append method is deprecated and will be removed from pandas in a future version. Use pandas.concat instead.\n",
      "  df = df.append(a_series, ignore_index=True)\n",
      "C:\\Users\\jthoma\\AppData\\Local\\Temp\\ipykernel_6852\\2457786483.py:39: FutureWarning: The frame.append method is deprecated and will be removed from pandas in a future version. Use pandas.concat instead.\n",
      "  df = df.append(a_series, ignore_index=True)\n",
      "C:\\Users\\jthoma\\AppData\\Local\\Temp\\ipykernel_6852\\2457786483.py:39: FutureWarning: The frame.append method is deprecated and will be removed from pandas in a future version. Use pandas.concat instead.\n",
      "  df = df.append(a_series, ignore_index=True)\n",
      "C:\\Users\\jthoma\\AppData\\Local\\Temp\\ipykernel_6852\\2457786483.py:39: FutureWarning: The frame.append method is deprecated and will be removed from pandas in a future version. Use pandas.concat instead.\n",
      "  df = df.append(a_series, ignore_index=True)\n",
      "C:\\Users\\jthoma\\AppData\\Local\\Temp\\ipykernel_6852\\2457786483.py:39: FutureWarning: The frame.append method is deprecated and will be removed from pandas in a future version. Use pandas.concat instead.\n",
      "  df = df.append(a_series, ignore_index=True)\n",
      "C:\\Users\\jthoma\\AppData\\Local\\Temp\\ipykernel_6852\\2457786483.py:39: FutureWarning: The frame.append method is deprecated and will be removed from pandas in a future version. Use pandas.concat instead.\n",
      "  df = df.append(a_series, ignore_index=True)\n",
      "C:\\Users\\jthoma\\AppData\\Local\\Temp\\ipykernel_6852\\2457786483.py:39: FutureWarning: The frame.append method is deprecated and will be removed from pandas in a future version. Use pandas.concat instead.\n",
      "  df = df.append(a_series, ignore_index=True)\n",
      "C:\\Users\\jthoma\\AppData\\Local\\Temp\\ipykernel_6852\\2457786483.py:39: FutureWarning: The frame.append method is deprecated and will be removed from pandas in a future version. Use pandas.concat instead.\n",
      "  df = df.append(a_series, ignore_index=True)\n",
      "C:\\Users\\jthoma\\AppData\\Local\\Temp\\ipykernel_6852\\2457786483.py:39: FutureWarning: The frame.append method is deprecated and will be removed from pandas in a future version. Use pandas.concat instead.\n",
      "  df = df.append(a_series, ignore_index=True)\n",
      "C:\\Users\\jthoma\\AppData\\Local\\Temp\\ipykernel_6852\\2457786483.py:39: FutureWarning: The frame.append method is deprecated and will be removed from pandas in a future version. Use pandas.concat instead.\n",
      "  df = df.append(a_series, ignore_index=True)\n"
     ]
    },
    {
     "name": "stdout",
     "output_type": "stream",
     "text": [
      "Could not append: ['... 61 62 63 64 65 66 67 68 69 70 ...', '...', '61', '62', '63', '64', '65', '66', '67', '68', '69', '70', '...']\n"
     ]
    },
    {
     "name": "stderr",
     "output_type": "stream",
     "text": [
      "C:\\Users\\jthoma\\AppData\\Local\\Temp\\ipykernel_6852\\2457786483.py:39: FutureWarning: The frame.append method is deprecated and will be removed from pandas in a future version. Use pandas.concat instead.\n",
      "  df = df.append(a_series, ignore_index=True)\n",
      "C:\\Users\\jthoma\\AppData\\Local\\Temp\\ipykernel_6852\\2457786483.py:38: FutureWarning: The default dtype for empty Series will be 'object' instead of 'float64' in a future version. Specify a dtype explicitly to silence this warning.\n",
      "  a_series = pd.Series(row_list, index = df.columns)\n"
     ]
    },
    {
     "name": "stdout",
     "output_type": "stream",
     "text": [
      "Could not append: []\n"
     ]
    },
    {
     "name": "stderr",
     "output_type": "stream",
     "text": [
      "C:\\Users\\jthoma\\AppData\\Local\\Temp\\ipykernel_6852\\2457786483.py:39: FutureWarning: The frame.append method is deprecated and will be removed from pandas in a future version. Use pandas.concat instead.\n",
      "  df = df.append(a_series, ignore_index=True)\n",
      "C:\\Users\\jthoma\\AppData\\Local\\Temp\\ipykernel_6852\\2457786483.py:39: FutureWarning: The frame.append method is deprecated and will be removed from pandas in a future version. Use pandas.concat instead.\n",
      "  df = df.append(a_series, ignore_index=True)\n",
      "C:\\Users\\jthoma\\AppData\\Local\\Temp\\ipykernel_6852\\2457786483.py:39: FutureWarning: The frame.append method is deprecated and will be removed from pandas in a future version. Use pandas.concat instead.\n",
      "  df = df.append(a_series, ignore_index=True)\n",
      "C:\\Users\\jthoma\\AppData\\Local\\Temp\\ipykernel_6852\\2457786483.py:39: FutureWarning: The frame.append method is deprecated and will be removed from pandas in a future version. Use pandas.concat instead.\n",
      "  df = df.append(a_series, ignore_index=True)\n",
      "C:\\Users\\jthoma\\AppData\\Local\\Temp\\ipykernel_6852\\2457786483.py:39: FutureWarning: The frame.append method is deprecated and will be removed from pandas in a future version. Use pandas.concat instead.\n",
      "  df = df.append(a_series, ignore_index=True)\n",
      "C:\\Users\\jthoma\\AppData\\Local\\Temp\\ipykernel_6852\\2457786483.py:39: FutureWarning: The frame.append method is deprecated and will be removed from pandas in a future version. Use pandas.concat instead.\n",
      "  df = df.append(a_series, ignore_index=True)\n",
      "C:\\Users\\jthoma\\AppData\\Local\\Temp\\ipykernel_6852\\2457786483.py:39: FutureWarning: The frame.append method is deprecated and will be removed from pandas in a future version. Use pandas.concat instead.\n",
      "  df = df.append(a_series, ignore_index=True)\n",
      "C:\\Users\\jthoma\\AppData\\Local\\Temp\\ipykernel_6852\\2457786483.py:39: FutureWarning: The frame.append method is deprecated and will be removed from pandas in a future version. Use pandas.concat instead.\n",
      "  df = df.append(a_series, ignore_index=True)\n",
      "C:\\Users\\jthoma\\AppData\\Local\\Temp\\ipykernel_6852\\2457786483.py:39: FutureWarning: The frame.append method is deprecated and will be removed from pandas in a future version. Use pandas.concat instead.\n",
      "  df = df.append(a_series, ignore_index=True)\n",
      "C:\\Users\\jthoma\\AppData\\Local\\Temp\\ipykernel_6852\\2457786483.py:39: FutureWarning: The frame.append method is deprecated and will be removed from pandas in a future version. Use pandas.concat instead.\n",
      "  df = df.append(a_series, ignore_index=True)\n"
     ]
    },
    {
     "name": "stdout",
     "output_type": "stream",
     "text": [
      "Could not append: ['... 61 62 63 64 65 66 67 68 69 70 ...', '...', '61', '62', '63', '64', '65', '66', '67', '68', '69', '70', '...']\n"
     ]
    },
    {
     "name": "stderr",
     "output_type": "stream",
     "text": [
      "C:\\Users\\jthoma\\AppData\\Local\\Temp\\ipykernel_6852\\2457786483.py:39: FutureWarning: The frame.append method is deprecated and will be removed from pandas in a future version. Use pandas.concat instead.\n",
      "  df = df.append(a_series, ignore_index=True)\n",
      "C:\\Users\\jthoma\\AppData\\Local\\Temp\\ipykernel_6852\\2457786483.py:38: FutureWarning: The default dtype for empty Series will be 'object' instead of 'float64' in a future version. Specify a dtype explicitly to silence this warning.\n",
      "  a_series = pd.Series(row_list, index = df.columns)\n"
     ]
    },
    {
     "name": "stdout",
     "output_type": "stream",
     "text": [
      "Could not append: []\n"
     ]
    },
    {
     "name": "stderr",
     "output_type": "stream",
     "text": [
      "C:\\Users\\jthoma\\AppData\\Local\\Temp\\ipykernel_6852\\2457786483.py:39: FutureWarning: The frame.append method is deprecated and will be removed from pandas in a future version. Use pandas.concat instead.\n",
      "  df = df.append(a_series, ignore_index=True)\n",
      "C:\\Users\\jthoma\\AppData\\Local\\Temp\\ipykernel_6852\\2457786483.py:39: FutureWarning: The frame.append method is deprecated and will be removed from pandas in a future version. Use pandas.concat instead.\n",
      "  df = df.append(a_series, ignore_index=True)\n",
      "C:\\Users\\jthoma\\AppData\\Local\\Temp\\ipykernel_6852\\2457786483.py:39: FutureWarning: The frame.append method is deprecated and will be removed from pandas in a future version. Use pandas.concat instead.\n",
      "  df = df.append(a_series, ignore_index=True)\n",
      "C:\\Users\\jthoma\\AppData\\Local\\Temp\\ipykernel_6852\\2457786483.py:39: FutureWarning: The frame.append method is deprecated and will be removed from pandas in a future version. Use pandas.concat instead.\n",
      "  df = df.append(a_series, ignore_index=True)\n",
      "C:\\Users\\jthoma\\AppData\\Local\\Temp\\ipykernel_6852\\2457786483.py:39: FutureWarning: The frame.append method is deprecated and will be removed from pandas in a future version. Use pandas.concat instead.\n",
      "  df = df.append(a_series, ignore_index=True)\n",
      "C:\\Users\\jthoma\\AppData\\Local\\Temp\\ipykernel_6852\\2457786483.py:39: FutureWarning: The frame.append method is deprecated and will be removed from pandas in a future version. Use pandas.concat instead.\n",
      "  df = df.append(a_series, ignore_index=True)\n",
      "C:\\Users\\jthoma\\AppData\\Local\\Temp\\ipykernel_6852\\2457786483.py:39: FutureWarning: The frame.append method is deprecated and will be removed from pandas in a future version. Use pandas.concat instead.\n",
      "  df = df.append(a_series, ignore_index=True)\n",
      "C:\\Users\\jthoma\\AppData\\Local\\Temp\\ipykernel_6852\\2457786483.py:39: FutureWarning: The frame.append method is deprecated and will be removed from pandas in a future version. Use pandas.concat instead.\n",
      "  df = df.append(a_series, ignore_index=True)\n",
      "C:\\Users\\jthoma\\AppData\\Local\\Temp\\ipykernel_6852\\2457786483.py:39: FutureWarning: The frame.append method is deprecated and will be removed from pandas in a future version. Use pandas.concat instead.\n",
      "  df = df.append(a_series, ignore_index=True)\n",
      "C:\\Users\\jthoma\\AppData\\Local\\Temp\\ipykernel_6852\\2457786483.py:39: FutureWarning: The frame.append method is deprecated and will be removed from pandas in a future version. Use pandas.concat instead.\n",
      "  df = df.append(a_series, ignore_index=True)\n"
     ]
    },
    {
     "name": "stdout",
     "output_type": "stream",
     "text": [
      "Could not append: ['... 61 62 63 64 65 66 67 68 69 70 ...', '...', '61', '62', '63', '64', '65', '66', '67', '68', '69', '70', '...']\n"
     ]
    },
    {
     "name": "stderr",
     "output_type": "stream",
     "text": [
      "C:\\Users\\jthoma\\AppData\\Local\\Temp\\ipykernel_6852\\2457786483.py:39: FutureWarning: The frame.append method is deprecated and will be removed from pandas in a future version. Use pandas.concat instead.\n",
      "  df = df.append(a_series, ignore_index=True)\n",
      "C:\\Users\\jthoma\\AppData\\Local\\Temp\\ipykernel_6852\\2457786483.py:38: FutureWarning: The default dtype for empty Series will be 'object' instead of 'float64' in a future version. Specify a dtype explicitly to silence this warning.\n",
      "  a_series = pd.Series(row_list, index = df.columns)\n"
     ]
    },
    {
     "name": "stdout",
     "output_type": "stream",
     "text": [
      "Could not append: []\n"
     ]
    },
    {
     "name": "stderr",
     "output_type": "stream",
     "text": [
      "C:\\Users\\jthoma\\AppData\\Local\\Temp\\ipykernel_6852\\2457786483.py:39: FutureWarning: The frame.append method is deprecated and will be removed from pandas in a future version. Use pandas.concat instead.\n",
      "  df = df.append(a_series, ignore_index=True)\n",
      "C:\\Users\\jthoma\\AppData\\Local\\Temp\\ipykernel_6852\\2457786483.py:39: FutureWarning: The frame.append method is deprecated and will be removed from pandas in a future version. Use pandas.concat instead.\n",
      "  df = df.append(a_series, ignore_index=True)\n",
      "C:\\Users\\jthoma\\AppData\\Local\\Temp\\ipykernel_6852\\2457786483.py:39: FutureWarning: The frame.append method is deprecated and will be removed from pandas in a future version. Use pandas.concat instead.\n",
      "  df = df.append(a_series, ignore_index=True)\n",
      "C:\\Users\\jthoma\\AppData\\Local\\Temp\\ipykernel_6852\\2457786483.py:39: FutureWarning: The frame.append method is deprecated and will be removed from pandas in a future version. Use pandas.concat instead.\n",
      "  df = df.append(a_series, ignore_index=True)\n",
      "C:\\Users\\jthoma\\AppData\\Local\\Temp\\ipykernel_6852\\2457786483.py:39: FutureWarning: The frame.append method is deprecated and will be removed from pandas in a future version. Use pandas.concat instead.\n",
      "  df = df.append(a_series, ignore_index=True)\n",
      "C:\\Users\\jthoma\\AppData\\Local\\Temp\\ipykernel_6852\\2457786483.py:39: FutureWarning: The frame.append method is deprecated and will be removed from pandas in a future version. Use pandas.concat instead.\n",
      "  df = df.append(a_series, ignore_index=True)\n",
      "C:\\Users\\jthoma\\AppData\\Local\\Temp\\ipykernel_6852\\2457786483.py:39: FutureWarning: The frame.append method is deprecated and will be removed from pandas in a future version. Use pandas.concat instead.\n",
      "  df = df.append(a_series, ignore_index=True)\n",
      "C:\\Users\\jthoma\\AppData\\Local\\Temp\\ipykernel_6852\\2457786483.py:39: FutureWarning: The frame.append method is deprecated and will be removed from pandas in a future version. Use pandas.concat instead.\n",
      "  df = df.append(a_series, ignore_index=True)\n",
      "C:\\Users\\jthoma\\AppData\\Local\\Temp\\ipykernel_6852\\2457786483.py:39: FutureWarning: The frame.append method is deprecated and will be removed from pandas in a future version. Use pandas.concat instead.\n",
      "  df = df.append(a_series, ignore_index=True)\n",
      "C:\\Users\\jthoma\\AppData\\Local\\Temp\\ipykernel_6852\\2457786483.py:39: FutureWarning: The frame.append method is deprecated and will be removed from pandas in a future version. Use pandas.concat instead.\n",
      "  df = df.append(a_series, ignore_index=True)\n"
     ]
    },
    {
     "name": "stdout",
     "output_type": "stream",
     "text": [
      "Could not append: ['... 71 72 73 74 75 76 77 78 79 80 ...', '...', '71', '72', '73', '74', '75', '76', '77', '78', '79', '80', '...']\n"
     ]
    },
    {
     "name": "stderr",
     "output_type": "stream",
     "text": [
      "C:\\Users\\jthoma\\AppData\\Local\\Temp\\ipykernel_6852\\2457786483.py:39: FutureWarning: The frame.append method is deprecated and will be removed from pandas in a future version. Use pandas.concat instead.\n",
      "  df = df.append(a_series, ignore_index=True)\n",
      "C:\\Users\\jthoma\\AppData\\Local\\Temp\\ipykernel_6852\\2457786483.py:38: FutureWarning: The default dtype for empty Series will be 'object' instead of 'float64' in a future version. Specify a dtype explicitly to silence this warning.\n",
      "  a_series = pd.Series(row_list, index = df.columns)\n"
     ]
    },
    {
     "name": "stdout",
     "output_type": "stream",
     "text": [
      "Could not append: []\n"
     ]
    },
    {
     "name": "stderr",
     "output_type": "stream",
     "text": [
      "C:\\Users\\jthoma\\AppData\\Local\\Temp\\ipykernel_6852\\2457786483.py:39: FutureWarning: The frame.append method is deprecated and will be removed from pandas in a future version. Use pandas.concat instead.\n",
      "  df = df.append(a_series, ignore_index=True)\n",
      "C:\\Users\\jthoma\\AppData\\Local\\Temp\\ipykernel_6852\\2457786483.py:39: FutureWarning: The frame.append method is deprecated and will be removed from pandas in a future version. Use pandas.concat instead.\n",
      "  df = df.append(a_series, ignore_index=True)\n",
      "C:\\Users\\jthoma\\AppData\\Local\\Temp\\ipykernel_6852\\2457786483.py:39: FutureWarning: The frame.append method is deprecated and will be removed from pandas in a future version. Use pandas.concat instead.\n",
      "  df = df.append(a_series, ignore_index=True)\n",
      "C:\\Users\\jthoma\\AppData\\Local\\Temp\\ipykernel_6852\\2457786483.py:39: FutureWarning: The frame.append method is deprecated and will be removed from pandas in a future version. Use pandas.concat instead.\n",
      "  df = df.append(a_series, ignore_index=True)\n",
      "C:\\Users\\jthoma\\AppData\\Local\\Temp\\ipykernel_6852\\2457786483.py:39: FutureWarning: The frame.append method is deprecated and will be removed from pandas in a future version. Use pandas.concat instead.\n",
      "  df = df.append(a_series, ignore_index=True)\n",
      "C:\\Users\\jthoma\\AppData\\Local\\Temp\\ipykernel_6852\\2457786483.py:39: FutureWarning: The frame.append method is deprecated and will be removed from pandas in a future version. Use pandas.concat instead.\n",
      "  df = df.append(a_series, ignore_index=True)\n",
      "C:\\Users\\jthoma\\AppData\\Local\\Temp\\ipykernel_6852\\2457786483.py:39: FutureWarning: The frame.append method is deprecated and will be removed from pandas in a future version. Use pandas.concat instead.\n",
      "  df = df.append(a_series, ignore_index=True)\n",
      "C:\\Users\\jthoma\\AppData\\Local\\Temp\\ipykernel_6852\\2457786483.py:39: FutureWarning: The frame.append method is deprecated and will be removed from pandas in a future version. Use pandas.concat instead.\n",
      "  df = df.append(a_series, ignore_index=True)\n",
      "C:\\Users\\jthoma\\AppData\\Local\\Temp\\ipykernel_6852\\2457786483.py:39: FutureWarning: The frame.append method is deprecated and will be removed from pandas in a future version. Use pandas.concat instead.\n",
      "  df = df.append(a_series, ignore_index=True)\n",
      "C:\\Users\\jthoma\\AppData\\Local\\Temp\\ipykernel_6852\\2457786483.py:39: FutureWarning: The frame.append method is deprecated and will be removed from pandas in a future version. Use pandas.concat instead.\n",
      "  df = df.append(a_series, ignore_index=True)\n"
     ]
    },
    {
     "name": "stdout",
     "output_type": "stream",
     "text": [
      "Could not append: ['... 71 72 73 74 75 76 77 78 79 80 ...', '...', '71', '72', '73', '74', '75', '76', '77', '78', '79', '80', '...']\n"
     ]
    },
    {
     "name": "stderr",
     "output_type": "stream",
     "text": [
      "C:\\Users\\jthoma\\AppData\\Local\\Temp\\ipykernel_6852\\2457786483.py:39: FutureWarning: The frame.append method is deprecated and will be removed from pandas in a future version. Use pandas.concat instead.\n",
      "  df = df.append(a_series, ignore_index=True)\n",
      "C:\\Users\\jthoma\\AppData\\Local\\Temp\\ipykernel_6852\\2457786483.py:38: FutureWarning: The default dtype for empty Series will be 'object' instead of 'float64' in a future version. Specify a dtype explicitly to silence this warning.\n",
      "  a_series = pd.Series(row_list, index = df.columns)\n"
     ]
    },
    {
     "name": "stdout",
     "output_type": "stream",
     "text": [
      "Could not append: []\n"
     ]
    },
    {
     "name": "stderr",
     "output_type": "stream",
     "text": [
      "C:\\Users\\jthoma\\AppData\\Local\\Temp\\ipykernel_6852\\2457786483.py:39: FutureWarning: The frame.append method is deprecated and will be removed from pandas in a future version. Use pandas.concat instead.\n",
      "  df = df.append(a_series, ignore_index=True)\n",
      "C:\\Users\\jthoma\\AppData\\Local\\Temp\\ipykernel_6852\\2457786483.py:39: FutureWarning: The frame.append method is deprecated and will be removed from pandas in a future version. Use pandas.concat instead.\n",
      "  df = df.append(a_series, ignore_index=True)\n",
      "C:\\Users\\jthoma\\AppData\\Local\\Temp\\ipykernel_6852\\2457786483.py:39: FutureWarning: The frame.append method is deprecated and will be removed from pandas in a future version. Use pandas.concat instead.\n",
      "  df = df.append(a_series, ignore_index=True)\n",
      "C:\\Users\\jthoma\\AppData\\Local\\Temp\\ipykernel_6852\\2457786483.py:39: FutureWarning: The frame.append method is deprecated and will be removed from pandas in a future version. Use pandas.concat instead.\n",
      "  df = df.append(a_series, ignore_index=True)\n",
      "C:\\Users\\jthoma\\AppData\\Local\\Temp\\ipykernel_6852\\2457786483.py:39: FutureWarning: The frame.append method is deprecated and will be removed from pandas in a future version. Use pandas.concat instead.\n",
      "  df = df.append(a_series, ignore_index=True)\n",
      "C:\\Users\\jthoma\\AppData\\Local\\Temp\\ipykernel_6852\\2457786483.py:39: FutureWarning: The frame.append method is deprecated and will be removed from pandas in a future version. Use pandas.concat instead.\n",
      "  df = df.append(a_series, ignore_index=True)\n",
      "C:\\Users\\jthoma\\AppData\\Local\\Temp\\ipykernel_6852\\2457786483.py:39: FutureWarning: The frame.append method is deprecated and will be removed from pandas in a future version. Use pandas.concat instead.\n",
      "  df = df.append(a_series, ignore_index=True)\n",
      "C:\\Users\\jthoma\\AppData\\Local\\Temp\\ipykernel_6852\\2457786483.py:39: FutureWarning: The frame.append method is deprecated and will be removed from pandas in a future version. Use pandas.concat instead.\n",
      "  df = df.append(a_series, ignore_index=True)\n",
      "C:\\Users\\jthoma\\AppData\\Local\\Temp\\ipykernel_6852\\2457786483.py:39: FutureWarning: The frame.append method is deprecated and will be removed from pandas in a future version. Use pandas.concat instead.\n",
      "  df = df.append(a_series, ignore_index=True)\n",
      "C:\\Users\\jthoma\\AppData\\Local\\Temp\\ipykernel_6852\\2457786483.py:39: FutureWarning: The frame.append method is deprecated and will be removed from pandas in a future version. Use pandas.concat instead.\n",
      "  df = df.append(a_series, ignore_index=True)\n"
     ]
    },
    {
     "name": "stdout",
     "output_type": "stream",
     "text": [
      "Could not append: ['... 71 72 73 74 75 76 77 78 79 80 ...', '...', '71', '72', '73', '74', '75', '76', '77', '78', '79', '80', '...']\n"
     ]
    },
    {
     "name": "stderr",
     "output_type": "stream",
     "text": [
      "C:\\Users\\jthoma\\AppData\\Local\\Temp\\ipykernel_6852\\2457786483.py:39: FutureWarning: The frame.append method is deprecated and will be removed from pandas in a future version. Use pandas.concat instead.\n",
      "  df = df.append(a_series, ignore_index=True)\n",
      "C:\\Users\\jthoma\\AppData\\Local\\Temp\\ipykernel_6852\\2457786483.py:38: FutureWarning: The default dtype for empty Series will be 'object' instead of 'float64' in a future version. Specify a dtype explicitly to silence this warning.\n",
      "  a_series = pd.Series(row_list, index = df.columns)\n"
     ]
    },
    {
     "name": "stdout",
     "output_type": "stream",
     "text": [
      "Could not append: []\n"
     ]
    },
    {
     "name": "stderr",
     "output_type": "stream",
     "text": [
      "C:\\Users\\jthoma\\AppData\\Local\\Temp\\ipykernel_6852\\2457786483.py:39: FutureWarning: The frame.append method is deprecated and will be removed from pandas in a future version. Use pandas.concat instead.\n",
      "  df = df.append(a_series, ignore_index=True)\n",
      "C:\\Users\\jthoma\\AppData\\Local\\Temp\\ipykernel_6852\\2457786483.py:39: FutureWarning: The frame.append method is deprecated and will be removed from pandas in a future version. Use pandas.concat instead.\n",
      "  df = df.append(a_series, ignore_index=True)\n",
      "C:\\Users\\jthoma\\AppData\\Local\\Temp\\ipykernel_6852\\2457786483.py:39: FutureWarning: The frame.append method is deprecated and will be removed from pandas in a future version. Use pandas.concat instead.\n",
      "  df = df.append(a_series, ignore_index=True)\n",
      "C:\\Users\\jthoma\\AppData\\Local\\Temp\\ipykernel_6852\\2457786483.py:39: FutureWarning: The frame.append method is deprecated and will be removed from pandas in a future version. Use pandas.concat instead.\n",
      "  df = df.append(a_series, ignore_index=True)\n",
      "C:\\Users\\jthoma\\AppData\\Local\\Temp\\ipykernel_6852\\2457786483.py:39: FutureWarning: The frame.append method is deprecated and will be removed from pandas in a future version. Use pandas.concat instead.\n",
      "  df = df.append(a_series, ignore_index=True)\n",
      "C:\\Users\\jthoma\\AppData\\Local\\Temp\\ipykernel_6852\\2457786483.py:39: FutureWarning: The frame.append method is deprecated and will be removed from pandas in a future version. Use pandas.concat instead.\n",
      "  df = df.append(a_series, ignore_index=True)\n",
      "C:\\Users\\jthoma\\AppData\\Local\\Temp\\ipykernel_6852\\2457786483.py:39: FutureWarning: The frame.append method is deprecated and will be removed from pandas in a future version. Use pandas.concat instead.\n",
      "  df = df.append(a_series, ignore_index=True)\n",
      "C:\\Users\\jthoma\\AppData\\Local\\Temp\\ipykernel_6852\\2457786483.py:39: FutureWarning: The frame.append method is deprecated and will be removed from pandas in a future version. Use pandas.concat instead.\n",
      "  df = df.append(a_series, ignore_index=True)\n",
      "C:\\Users\\jthoma\\AppData\\Local\\Temp\\ipykernel_6852\\2457786483.py:39: FutureWarning: The frame.append method is deprecated and will be removed from pandas in a future version. Use pandas.concat instead.\n",
      "  df = df.append(a_series, ignore_index=True)\n",
      "C:\\Users\\jthoma\\AppData\\Local\\Temp\\ipykernel_6852\\2457786483.py:39: FutureWarning: The frame.append method is deprecated and will be removed from pandas in a future version. Use pandas.concat instead.\n",
      "  df = df.append(a_series, ignore_index=True)\n"
     ]
    },
    {
     "name": "stdout",
     "output_type": "stream",
     "text": [
      "Could not append: ['... 71 72 73 74 75 76 77 78 79 80 ...', '...', '71', '72', '73', '74', '75', '76', '77', '78', '79', '80', '...']\n"
     ]
    },
    {
     "name": "stderr",
     "output_type": "stream",
     "text": [
      "C:\\Users\\jthoma\\AppData\\Local\\Temp\\ipykernel_6852\\2457786483.py:39: FutureWarning: The frame.append method is deprecated and will be removed from pandas in a future version. Use pandas.concat instead.\n",
      "  df = df.append(a_series, ignore_index=True)\n",
      "C:\\Users\\jthoma\\AppData\\Local\\Temp\\ipykernel_6852\\2457786483.py:38: FutureWarning: The default dtype for empty Series will be 'object' instead of 'float64' in a future version. Specify a dtype explicitly to silence this warning.\n",
      "  a_series = pd.Series(row_list, index = df.columns)\n"
     ]
    },
    {
     "name": "stdout",
     "output_type": "stream",
     "text": [
      "Could not append: []\n"
     ]
    },
    {
     "name": "stderr",
     "output_type": "stream",
     "text": [
      "C:\\Users\\jthoma\\AppData\\Local\\Temp\\ipykernel_6852\\2457786483.py:39: FutureWarning: The frame.append method is deprecated and will be removed from pandas in a future version. Use pandas.concat instead.\n",
      "  df = df.append(a_series, ignore_index=True)\n",
      "C:\\Users\\jthoma\\AppData\\Local\\Temp\\ipykernel_6852\\2457786483.py:39: FutureWarning: The frame.append method is deprecated and will be removed from pandas in a future version. Use pandas.concat instead.\n",
      "  df = df.append(a_series, ignore_index=True)\n",
      "C:\\Users\\jthoma\\AppData\\Local\\Temp\\ipykernel_6852\\2457786483.py:39: FutureWarning: The frame.append method is deprecated and will be removed from pandas in a future version. Use pandas.concat instead.\n",
      "  df = df.append(a_series, ignore_index=True)\n",
      "C:\\Users\\jthoma\\AppData\\Local\\Temp\\ipykernel_6852\\2457786483.py:39: FutureWarning: The frame.append method is deprecated and will be removed from pandas in a future version. Use pandas.concat instead.\n",
      "  df = df.append(a_series, ignore_index=True)\n",
      "C:\\Users\\jthoma\\AppData\\Local\\Temp\\ipykernel_6852\\2457786483.py:39: FutureWarning: The frame.append method is deprecated and will be removed from pandas in a future version. Use pandas.concat instead.\n",
      "  df = df.append(a_series, ignore_index=True)\n",
      "C:\\Users\\jthoma\\AppData\\Local\\Temp\\ipykernel_6852\\2457786483.py:39: FutureWarning: The frame.append method is deprecated and will be removed from pandas in a future version. Use pandas.concat instead.\n",
      "  df = df.append(a_series, ignore_index=True)\n",
      "C:\\Users\\jthoma\\AppData\\Local\\Temp\\ipykernel_6852\\2457786483.py:39: FutureWarning: The frame.append method is deprecated and will be removed from pandas in a future version. Use pandas.concat instead.\n",
      "  df = df.append(a_series, ignore_index=True)\n",
      "C:\\Users\\jthoma\\AppData\\Local\\Temp\\ipykernel_6852\\2457786483.py:39: FutureWarning: The frame.append method is deprecated and will be removed from pandas in a future version. Use pandas.concat instead.\n",
      "  df = df.append(a_series, ignore_index=True)\n",
      "C:\\Users\\jthoma\\AppData\\Local\\Temp\\ipykernel_6852\\2457786483.py:39: FutureWarning: The frame.append method is deprecated and will be removed from pandas in a future version. Use pandas.concat instead.\n",
      "  df = df.append(a_series, ignore_index=True)\n",
      "C:\\Users\\jthoma\\AppData\\Local\\Temp\\ipykernel_6852\\2457786483.py:39: FutureWarning: The frame.append method is deprecated and will be removed from pandas in a future version. Use pandas.concat instead.\n",
      "  df = df.append(a_series, ignore_index=True)\n"
     ]
    },
    {
     "name": "stdout",
     "output_type": "stream",
     "text": [
      "Could not append: ['... 71 72 73 74 75 76 77 78 79 80 ...', '...', '71', '72', '73', '74', '75', '76', '77', '78', '79', '80', '...']\n"
     ]
    },
    {
     "name": "stderr",
     "output_type": "stream",
     "text": [
      "C:\\Users\\jthoma\\AppData\\Local\\Temp\\ipykernel_6852\\2457786483.py:39: FutureWarning: The frame.append method is deprecated and will be removed from pandas in a future version. Use pandas.concat instead.\n",
      "  df = df.append(a_series, ignore_index=True)\n",
      "C:\\Users\\jthoma\\AppData\\Local\\Temp\\ipykernel_6852\\2457786483.py:38: FutureWarning: The default dtype for empty Series will be 'object' instead of 'float64' in a future version. Specify a dtype explicitly to silence this warning.\n",
      "  a_series = pd.Series(row_list, index = df.columns)\n"
     ]
    },
    {
     "name": "stdout",
     "output_type": "stream",
     "text": [
      "Could not append: []\n"
     ]
    },
    {
     "name": "stderr",
     "output_type": "stream",
     "text": [
      "C:\\Users\\jthoma\\AppData\\Local\\Temp\\ipykernel_6852\\2457786483.py:39: FutureWarning: The frame.append method is deprecated and will be removed from pandas in a future version. Use pandas.concat instead.\n",
      "  df = df.append(a_series, ignore_index=True)\n",
      "C:\\Users\\jthoma\\AppData\\Local\\Temp\\ipykernel_6852\\2457786483.py:39: FutureWarning: The frame.append method is deprecated and will be removed from pandas in a future version. Use pandas.concat instead.\n",
      "  df = df.append(a_series, ignore_index=True)\n",
      "C:\\Users\\jthoma\\AppData\\Local\\Temp\\ipykernel_6852\\2457786483.py:39: FutureWarning: The frame.append method is deprecated and will be removed from pandas in a future version. Use pandas.concat instead.\n",
      "  df = df.append(a_series, ignore_index=True)\n",
      "C:\\Users\\jthoma\\AppData\\Local\\Temp\\ipykernel_6852\\2457786483.py:39: FutureWarning: The frame.append method is deprecated and will be removed from pandas in a future version. Use pandas.concat instead.\n",
      "  df = df.append(a_series, ignore_index=True)\n",
      "C:\\Users\\jthoma\\AppData\\Local\\Temp\\ipykernel_6852\\2457786483.py:39: FutureWarning: The frame.append method is deprecated and will be removed from pandas in a future version. Use pandas.concat instead.\n",
      "  df = df.append(a_series, ignore_index=True)\n",
      "C:\\Users\\jthoma\\AppData\\Local\\Temp\\ipykernel_6852\\2457786483.py:39: FutureWarning: The frame.append method is deprecated and will be removed from pandas in a future version. Use pandas.concat instead.\n",
      "  df = df.append(a_series, ignore_index=True)\n",
      "C:\\Users\\jthoma\\AppData\\Local\\Temp\\ipykernel_6852\\2457786483.py:39: FutureWarning: The frame.append method is deprecated and will be removed from pandas in a future version. Use pandas.concat instead.\n",
      "  df = df.append(a_series, ignore_index=True)\n",
      "C:\\Users\\jthoma\\AppData\\Local\\Temp\\ipykernel_6852\\2457786483.py:39: FutureWarning: The frame.append method is deprecated and will be removed from pandas in a future version. Use pandas.concat instead.\n",
      "  df = df.append(a_series, ignore_index=True)\n",
      "C:\\Users\\jthoma\\AppData\\Local\\Temp\\ipykernel_6852\\2457786483.py:39: FutureWarning: The frame.append method is deprecated and will be removed from pandas in a future version. Use pandas.concat instead.\n",
      "  df = df.append(a_series, ignore_index=True)\n",
      "C:\\Users\\jthoma\\AppData\\Local\\Temp\\ipykernel_6852\\2457786483.py:39: FutureWarning: The frame.append method is deprecated and will be removed from pandas in a future version. Use pandas.concat instead.\n",
      "  df = df.append(a_series, ignore_index=True)\n"
     ]
    },
    {
     "name": "stdout",
     "output_type": "stream",
     "text": [
      "Could not append: ['... 71 72 73 74 75 76 77 78 79 80 ...', '...', '71', '72', '73', '74', '75', '76', '77', '78', '79', '80', '...']\n"
     ]
    },
    {
     "name": "stderr",
     "output_type": "stream",
     "text": [
      "C:\\Users\\jthoma\\AppData\\Local\\Temp\\ipykernel_6852\\2457786483.py:39: FutureWarning: The frame.append method is deprecated and will be removed from pandas in a future version. Use pandas.concat instead.\n",
      "  df = df.append(a_series, ignore_index=True)\n",
      "C:\\Users\\jthoma\\AppData\\Local\\Temp\\ipykernel_6852\\2457786483.py:38: FutureWarning: The default dtype for empty Series will be 'object' instead of 'float64' in a future version. Specify a dtype explicitly to silence this warning.\n",
      "  a_series = pd.Series(row_list, index = df.columns)\n"
     ]
    },
    {
     "name": "stdout",
     "output_type": "stream",
     "text": [
      "Could not append: []\n"
     ]
    },
    {
     "name": "stderr",
     "output_type": "stream",
     "text": [
      "C:\\Users\\jthoma\\AppData\\Local\\Temp\\ipykernel_6852\\2457786483.py:39: FutureWarning: The frame.append method is deprecated and will be removed from pandas in a future version. Use pandas.concat instead.\n",
      "  df = df.append(a_series, ignore_index=True)\n",
      "C:\\Users\\jthoma\\AppData\\Local\\Temp\\ipykernel_6852\\2457786483.py:39: FutureWarning: The frame.append method is deprecated and will be removed from pandas in a future version. Use pandas.concat instead.\n",
      "  df = df.append(a_series, ignore_index=True)\n",
      "C:\\Users\\jthoma\\AppData\\Local\\Temp\\ipykernel_6852\\2457786483.py:39: FutureWarning: The frame.append method is deprecated and will be removed from pandas in a future version. Use pandas.concat instead.\n",
      "  df = df.append(a_series, ignore_index=True)\n",
      "C:\\Users\\jthoma\\AppData\\Local\\Temp\\ipykernel_6852\\2457786483.py:39: FutureWarning: The frame.append method is deprecated and will be removed from pandas in a future version. Use pandas.concat instead.\n",
      "  df = df.append(a_series, ignore_index=True)\n",
      "C:\\Users\\jthoma\\AppData\\Local\\Temp\\ipykernel_6852\\2457786483.py:39: FutureWarning: The frame.append method is deprecated and will be removed from pandas in a future version. Use pandas.concat instead.\n",
      "  df = df.append(a_series, ignore_index=True)\n",
      "C:\\Users\\jthoma\\AppData\\Local\\Temp\\ipykernel_6852\\2457786483.py:39: FutureWarning: The frame.append method is deprecated and will be removed from pandas in a future version. Use pandas.concat instead.\n",
      "  df = df.append(a_series, ignore_index=True)\n",
      "C:\\Users\\jthoma\\AppData\\Local\\Temp\\ipykernel_6852\\2457786483.py:39: FutureWarning: The frame.append method is deprecated and will be removed from pandas in a future version. Use pandas.concat instead.\n",
      "  df = df.append(a_series, ignore_index=True)\n",
      "C:\\Users\\jthoma\\AppData\\Local\\Temp\\ipykernel_6852\\2457786483.py:39: FutureWarning: The frame.append method is deprecated and will be removed from pandas in a future version. Use pandas.concat instead.\n",
      "  df = df.append(a_series, ignore_index=True)\n",
      "C:\\Users\\jthoma\\AppData\\Local\\Temp\\ipykernel_6852\\2457786483.py:39: FutureWarning: The frame.append method is deprecated and will be removed from pandas in a future version. Use pandas.concat instead.\n",
      "  df = df.append(a_series, ignore_index=True)\n",
      "C:\\Users\\jthoma\\AppData\\Local\\Temp\\ipykernel_6852\\2457786483.py:39: FutureWarning: The frame.append method is deprecated and will be removed from pandas in a future version. Use pandas.concat instead.\n",
      "  df = df.append(a_series, ignore_index=True)\n"
     ]
    },
    {
     "name": "stdout",
     "output_type": "stream",
     "text": [
      "Could not append: ['... 71 72 73 74 75 76 77 78 79 80 ...', '...', '71', '72', '73', '74', '75', '76', '77', '78', '79', '80', '...']\n"
     ]
    },
    {
     "name": "stderr",
     "output_type": "stream",
     "text": [
      "C:\\Users\\jthoma\\AppData\\Local\\Temp\\ipykernel_6852\\2457786483.py:39: FutureWarning: The frame.append method is deprecated and will be removed from pandas in a future version. Use pandas.concat instead.\n",
      "  df = df.append(a_series, ignore_index=True)\n",
      "C:\\Users\\jthoma\\AppData\\Local\\Temp\\ipykernel_6852\\2457786483.py:38: FutureWarning: The default dtype for empty Series will be 'object' instead of 'float64' in a future version. Specify a dtype explicitly to silence this warning.\n",
      "  a_series = pd.Series(row_list, index = df.columns)\n"
     ]
    },
    {
     "name": "stdout",
     "output_type": "stream",
     "text": [
      "Could not append: []\n"
     ]
    },
    {
     "name": "stderr",
     "output_type": "stream",
     "text": [
      "C:\\Users\\jthoma\\AppData\\Local\\Temp\\ipykernel_6852\\2457786483.py:39: FutureWarning: The frame.append method is deprecated and will be removed from pandas in a future version. Use pandas.concat instead.\n",
      "  df = df.append(a_series, ignore_index=True)\n",
      "C:\\Users\\jthoma\\AppData\\Local\\Temp\\ipykernel_6852\\2457786483.py:39: FutureWarning: The frame.append method is deprecated and will be removed from pandas in a future version. Use pandas.concat instead.\n",
      "  df = df.append(a_series, ignore_index=True)\n",
      "C:\\Users\\jthoma\\AppData\\Local\\Temp\\ipykernel_6852\\2457786483.py:39: FutureWarning: The frame.append method is deprecated and will be removed from pandas in a future version. Use pandas.concat instead.\n",
      "  df = df.append(a_series, ignore_index=True)\n",
      "C:\\Users\\jthoma\\AppData\\Local\\Temp\\ipykernel_6852\\2457786483.py:39: FutureWarning: The frame.append method is deprecated and will be removed from pandas in a future version. Use pandas.concat instead.\n",
      "  df = df.append(a_series, ignore_index=True)\n",
      "C:\\Users\\jthoma\\AppData\\Local\\Temp\\ipykernel_6852\\2457786483.py:39: FutureWarning: The frame.append method is deprecated and will be removed from pandas in a future version. Use pandas.concat instead.\n",
      "  df = df.append(a_series, ignore_index=True)\n",
      "C:\\Users\\jthoma\\AppData\\Local\\Temp\\ipykernel_6852\\2457786483.py:39: FutureWarning: The frame.append method is deprecated and will be removed from pandas in a future version. Use pandas.concat instead.\n",
      "  df = df.append(a_series, ignore_index=True)\n",
      "C:\\Users\\jthoma\\AppData\\Local\\Temp\\ipykernel_6852\\2457786483.py:39: FutureWarning: The frame.append method is deprecated and will be removed from pandas in a future version. Use pandas.concat instead.\n",
      "  df = df.append(a_series, ignore_index=True)\n",
      "C:\\Users\\jthoma\\AppData\\Local\\Temp\\ipykernel_6852\\2457786483.py:39: FutureWarning: The frame.append method is deprecated and will be removed from pandas in a future version. Use pandas.concat instead.\n",
      "  df = df.append(a_series, ignore_index=True)\n",
      "C:\\Users\\jthoma\\AppData\\Local\\Temp\\ipykernel_6852\\2457786483.py:39: FutureWarning: The frame.append method is deprecated and will be removed from pandas in a future version. Use pandas.concat instead.\n",
      "  df = df.append(a_series, ignore_index=True)\n",
      "C:\\Users\\jthoma\\AppData\\Local\\Temp\\ipykernel_6852\\2457786483.py:39: FutureWarning: The frame.append method is deprecated and will be removed from pandas in a future version. Use pandas.concat instead.\n",
      "  df = df.append(a_series, ignore_index=True)\n"
     ]
    },
    {
     "name": "stdout",
     "output_type": "stream",
     "text": [
      "Could not append: ['... 71 72 73 74 75 76 77 78 79 80 ...', '...', '71', '72', '73', '74', '75', '76', '77', '78', '79', '80', '...']\n"
     ]
    },
    {
     "name": "stderr",
     "output_type": "stream",
     "text": [
      "C:\\Users\\jthoma\\AppData\\Local\\Temp\\ipykernel_6852\\2457786483.py:39: FutureWarning: The frame.append method is deprecated and will be removed from pandas in a future version. Use pandas.concat instead.\n",
      "  df = df.append(a_series, ignore_index=True)\n",
      "C:\\Users\\jthoma\\AppData\\Local\\Temp\\ipykernel_6852\\2457786483.py:38: FutureWarning: The default dtype for empty Series will be 'object' instead of 'float64' in a future version. Specify a dtype explicitly to silence this warning.\n",
      "  a_series = pd.Series(row_list, index = df.columns)\n"
     ]
    },
    {
     "name": "stdout",
     "output_type": "stream",
     "text": [
      "Could not append: []\n"
     ]
    },
    {
     "name": "stderr",
     "output_type": "stream",
     "text": [
      "C:\\Users\\jthoma\\AppData\\Local\\Temp\\ipykernel_6852\\2457786483.py:39: FutureWarning: The frame.append method is deprecated and will be removed from pandas in a future version. Use pandas.concat instead.\n",
      "  df = df.append(a_series, ignore_index=True)\n",
      "C:\\Users\\jthoma\\AppData\\Local\\Temp\\ipykernel_6852\\2457786483.py:39: FutureWarning: The frame.append method is deprecated and will be removed from pandas in a future version. Use pandas.concat instead.\n",
      "  df = df.append(a_series, ignore_index=True)\n",
      "C:\\Users\\jthoma\\AppData\\Local\\Temp\\ipykernel_6852\\2457786483.py:39: FutureWarning: The frame.append method is deprecated and will be removed from pandas in a future version. Use pandas.concat instead.\n",
      "  df = df.append(a_series, ignore_index=True)\n",
      "C:\\Users\\jthoma\\AppData\\Local\\Temp\\ipykernel_6852\\2457786483.py:39: FutureWarning: The frame.append method is deprecated and will be removed from pandas in a future version. Use pandas.concat instead.\n",
      "  df = df.append(a_series, ignore_index=True)\n",
      "C:\\Users\\jthoma\\AppData\\Local\\Temp\\ipykernel_6852\\2457786483.py:39: FutureWarning: The frame.append method is deprecated and will be removed from pandas in a future version. Use pandas.concat instead.\n",
      "  df = df.append(a_series, ignore_index=True)\n",
      "C:\\Users\\jthoma\\AppData\\Local\\Temp\\ipykernel_6852\\2457786483.py:39: FutureWarning: The frame.append method is deprecated and will be removed from pandas in a future version. Use pandas.concat instead.\n",
      "  df = df.append(a_series, ignore_index=True)\n",
      "C:\\Users\\jthoma\\AppData\\Local\\Temp\\ipykernel_6852\\2457786483.py:39: FutureWarning: The frame.append method is deprecated and will be removed from pandas in a future version. Use pandas.concat instead.\n",
      "  df = df.append(a_series, ignore_index=True)\n",
      "C:\\Users\\jthoma\\AppData\\Local\\Temp\\ipykernel_6852\\2457786483.py:39: FutureWarning: The frame.append method is deprecated and will be removed from pandas in a future version. Use pandas.concat instead.\n",
      "  df = df.append(a_series, ignore_index=True)\n",
      "C:\\Users\\jthoma\\AppData\\Local\\Temp\\ipykernel_6852\\2457786483.py:39: FutureWarning: The frame.append method is deprecated and will be removed from pandas in a future version. Use pandas.concat instead.\n",
      "  df = df.append(a_series, ignore_index=True)\n",
      "C:\\Users\\jthoma\\AppData\\Local\\Temp\\ipykernel_6852\\2457786483.py:39: FutureWarning: The frame.append method is deprecated and will be removed from pandas in a future version. Use pandas.concat instead.\n",
      "  df = df.append(a_series, ignore_index=True)\n"
     ]
    },
    {
     "name": "stdout",
     "output_type": "stream",
     "text": [
      "Could not append: ['... 71 72 73 74 75 76 77 78 79 80 ...', '...', '71', '72', '73', '74', '75', '76', '77', '78', '79', '80', '...']\n"
     ]
    },
    {
     "name": "stderr",
     "output_type": "stream",
     "text": [
      "C:\\Users\\jthoma\\AppData\\Local\\Temp\\ipykernel_6852\\2457786483.py:39: FutureWarning: The frame.append method is deprecated and will be removed from pandas in a future version. Use pandas.concat instead.\n",
      "  df = df.append(a_series, ignore_index=True)\n",
      "C:\\Users\\jthoma\\AppData\\Local\\Temp\\ipykernel_6852\\2457786483.py:38: FutureWarning: The default dtype for empty Series will be 'object' instead of 'float64' in a future version. Specify a dtype explicitly to silence this warning.\n",
      "  a_series = pd.Series(row_list, index = df.columns)\n"
     ]
    },
    {
     "name": "stdout",
     "output_type": "stream",
     "text": [
      "Could not append: []\n"
     ]
    },
    {
     "name": "stderr",
     "output_type": "stream",
     "text": [
      "C:\\Users\\jthoma\\AppData\\Local\\Temp\\ipykernel_6852\\2457786483.py:39: FutureWarning: The frame.append method is deprecated and will be removed from pandas in a future version. Use pandas.concat instead.\n",
      "  df = df.append(a_series, ignore_index=True)\n",
      "C:\\Users\\jthoma\\AppData\\Local\\Temp\\ipykernel_6852\\2457786483.py:39: FutureWarning: The frame.append method is deprecated and will be removed from pandas in a future version. Use pandas.concat instead.\n",
      "  df = df.append(a_series, ignore_index=True)\n",
      "C:\\Users\\jthoma\\AppData\\Local\\Temp\\ipykernel_6852\\2457786483.py:39: FutureWarning: The frame.append method is deprecated and will be removed from pandas in a future version. Use pandas.concat instead.\n",
      "  df = df.append(a_series, ignore_index=True)\n",
      "C:\\Users\\jthoma\\AppData\\Local\\Temp\\ipykernel_6852\\2457786483.py:39: FutureWarning: The frame.append method is deprecated and will be removed from pandas in a future version. Use pandas.concat instead.\n",
      "  df = df.append(a_series, ignore_index=True)\n",
      "C:\\Users\\jthoma\\AppData\\Local\\Temp\\ipykernel_6852\\2457786483.py:39: FutureWarning: The frame.append method is deprecated and will be removed from pandas in a future version. Use pandas.concat instead.\n",
      "  df = df.append(a_series, ignore_index=True)\n",
      "C:\\Users\\jthoma\\AppData\\Local\\Temp\\ipykernel_6852\\2457786483.py:39: FutureWarning: The frame.append method is deprecated and will be removed from pandas in a future version. Use pandas.concat instead.\n",
      "  df = df.append(a_series, ignore_index=True)\n",
      "C:\\Users\\jthoma\\AppData\\Local\\Temp\\ipykernel_6852\\2457786483.py:39: FutureWarning: The frame.append method is deprecated and will be removed from pandas in a future version. Use pandas.concat instead.\n",
      "  df = df.append(a_series, ignore_index=True)\n",
      "C:\\Users\\jthoma\\AppData\\Local\\Temp\\ipykernel_6852\\2457786483.py:39: FutureWarning: The frame.append method is deprecated and will be removed from pandas in a future version. Use pandas.concat instead.\n",
      "  df = df.append(a_series, ignore_index=True)\n",
      "C:\\Users\\jthoma\\AppData\\Local\\Temp\\ipykernel_6852\\2457786483.py:39: FutureWarning: The frame.append method is deprecated and will be removed from pandas in a future version. Use pandas.concat instead.\n",
      "  df = df.append(a_series, ignore_index=True)\n",
      "C:\\Users\\jthoma\\AppData\\Local\\Temp\\ipykernel_6852\\2457786483.py:39: FutureWarning: The frame.append method is deprecated and will be removed from pandas in a future version. Use pandas.concat instead.\n",
      "  df = df.append(a_series, ignore_index=True)\n"
     ]
    },
    {
     "name": "stdout",
     "output_type": "stream",
     "text": [
      "Could not append: ['... 71 72 73 74 75 76 77 78 79 80 ...', '...', '71', '72', '73', '74', '75', '76', '77', '78', '79', '80', '...']\n"
     ]
    },
    {
     "name": "stderr",
     "output_type": "stream",
     "text": [
      "C:\\Users\\jthoma\\AppData\\Local\\Temp\\ipykernel_6852\\2457786483.py:39: FutureWarning: The frame.append method is deprecated and will be removed from pandas in a future version. Use pandas.concat instead.\n",
      "  df = df.append(a_series, ignore_index=True)\n",
      "C:\\Users\\jthoma\\AppData\\Local\\Temp\\ipykernel_6852\\2457786483.py:38: FutureWarning: The default dtype for empty Series will be 'object' instead of 'float64' in a future version. Specify a dtype explicitly to silence this warning.\n",
      "  a_series = pd.Series(row_list, index = df.columns)\n"
     ]
    },
    {
     "name": "stdout",
     "output_type": "stream",
     "text": [
      "Could not append: []\n"
     ]
    },
    {
     "name": "stderr",
     "output_type": "stream",
     "text": [
      "C:\\Users\\jthoma\\AppData\\Local\\Temp\\ipykernel_6852\\2457786483.py:39: FutureWarning: The frame.append method is deprecated and will be removed from pandas in a future version. Use pandas.concat instead.\n",
      "  df = df.append(a_series, ignore_index=True)\n",
      "C:\\Users\\jthoma\\AppData\\Local\\Temp\\ipykernel_6852\\2457786483.py:39: FutureWarning: The frame.append method is deprecated and will be removed from pandas in a future version. Use pandas.concat instead.\n",
      "  df = df.append(a_series, ignore_index=True)\n",
      "C:\\Users\\jthoma\\AppData\\Local\\Temp\\ipykernel_6852\\2457786483.py:39: FutureWarning: The frame.append method is deprecated and will be removed from pandas in a future version. Use pandas.concat instead.\n",
      "  df = df.append(a_series, ignore_index=True)\n",
      "C:\\Users\\jthoma\\AppData\\Local\\Temp\\ipykernel_6852\\2457786483.py:39: FutureWarning: The frame.append method is deprecated and will be removed from pandas in a future version. Use pandas.concat instead.\n",
      "  df = df.append(a_series, ignore_index=True)\n",
      "C:\\Users\\jthoma\\AppData\\Local\\Temp\\ipykernel_6852\\2457786483.py:39: FutureWarning: The frame.append method is deprecated and will be removed from pandas in a future version. Use pandas.concat instead.\n",
      "  df = df.append(a_series, ignore_index=True)\n",
      "C:\\Users\\jthoma\\AppData\\Local\\Temp\\ipykernel_6852\\2457786483.py:39: FutureWarning: The frame.append method is deprecated and will be removed from pandas in a future version. Use pandas.concat instead.\n",
      "  df = df.append(a_series, ignore_index=True)\n",
      "C:\\Users\\jthoma\\AppData\\Local\\Temp\\ipykernel_6852\\2457786483.py:39: FutureWarning: The frame.append method is deprecated and will be removed from pandas in a future version. Use pandas.concat instead.\n",
      "  df = df.append(a_series, ignore_index=True)\n",
      "C:\\Users\\jthoma\\AppData\\Local\\Temp\\ipykernel_6852\\2457786483.py:39: FutureWarning: The frame.append method is deprecated and will be removed from pandas in a future version. Use pandas.concat instead.\n",
      "  df = df.append(a_series, ignore_index=True)\n",
      "C:\\Users\\jthoma\\AppData\\Local\\Temp\\ipykernel_6852\\2457786483.py:39: FutureWarning: The frame.append method is deprecated and will be removed from pandas in a future version. Use pandas.concat instead.\n",
      "  df = df.append(a_series, ignore_index=True)\n",
      "C:\\Users\\jthoma\\AppData\\Local\\Temp\\ipykernel_6852\\2457786483.py:39: FutureWarning: The frame.append method is deprecated and will be removed from pandas in a future version. Use pandas.concat instead.\n",
      "  df = df.append(a_series, ignore_index=True)\n"
     ]
    },
    {
     "name": "stdout",
     "output_type": "stream",
     "text": [
      "Could not append: ['... 81 82 83 84 85 86 87 88 89 90 ...', '...', '81', '82', '83', '84', '85', '86', '87', '88', '89', '90', '...']\n"
     ]
    },
    {
     "name": "stderr",
     "output_type": "stream",
     "text": [
      "C:\\Users\\jthoma\\AppData\\Local\\Temp\\ipykernel_6852\\2457786483.py:39: FutureWarning: The frame.append method is deprecated and will be removed from pandas in a future version. Use pandas.concat instead.\n",
      "  df = df.append(a_series, ignore_index=True)\n",
      "C:\\Users\\jthoma\\AppData\\Local\\Temp\\ipykernel_6852\\2457786483.py:38: FutureWarning: The default dtype for empty Series will be 'object' instead of 'float64' in a future version. Specify a dtype explicitly to silence this warning.\n",
      "  a_series = pd.Series(row_list, index = df.columns)\n"
     ]
    },
    {
     "name": "stdout",
     "output_type": "stream",
     "text": [
      "Could not append: []\n"
     ]
    },
    {
     "name": "stderr",
     "output_type": "stream",
     "text": [
      "C:\\Users\\jthoma\\AppData\\Local\\Temp\\ipykernel_6852\\2457786483.py:39: FutureWarning: The frame.append method is deprecated and will be removed from pandas in a future version. Use pandas.concat instead.\n",
      "  df = df.append(a_series, ignore_index=True)\n",
      "C:\\Users\\jthoma\\AppData\\Local\\Temp\\ipykernel_6852\\2457786483.py:39: FutureWarning: The frame.append method is deprecated and will be removed from pandas in a future version. Use pandas.concat instead.\n",
      "  df = df.append(a_series, ignore_index=True)\n",
      "C:\\Users\\jthoma\\AppData\\Local\\Temp\\ipykernel_6852\\2457786483.py:39: FutureWarning: The frame.append method is deprecated and will be removed from pandas in a future version. Use pandas.concat instead.\n",
      "  df = df.append(a_series, ignore_index=True)\n",
      "C:\\Users\\jthoma\\AppData\\Local\\Temp\\ipykernel_6852\\2457786483.py:39: FutureWarning: The frame.append method is deprecated and will be removed from pandas in a future version. Use pandas.concat instead.\n",
      "  df = df.append(a_series, ignore_index=True)\n",
      "C:\\Users\\jthoma\\AppData\\Local\\Temp\\ipykernel_6852\\2457786483.py:39: FutureWarning: The frame.append method is deprecated and will be removed from pandas in a future version. Use pandas.concat instead.\n",
      "  df = df.append(a_series, ignore_index=True)\n",
      "C:\\Users\\jthoma\\AppData\\Local\\Temp\\ipykernel_6852\\2457786483.py:39: FutureWarning: The frame.append method is deprecated and will be removed from pandas in a future version. Use pandas.concat instead.\n",
      "  df = df.append(a_series, ignore_index=True)\n",
      "C:\\Users\\jthoma\\AppData\\Local\\Temp\\ipykernel_6852\\2457786483.py:39: FutureWarning: The frame.append method is deprecated and will be removed from pandas in a future version. Use pandas.concat instead.\n",
      "  df = df.append(a_series, ignore_index=True)\n",
      "C:\\Users\\jthoma\\AppData\\Local\\Temp\\ipykernel_6852\\2457786483.py:39: FutureWarning: The frame.append method is deprecated and will be removed from pandas in a future version. Use pandas.concat instead.\n",
      "  df = df.append(a_series, ignore_index=True)\n",
      "C:\\Users\\jthoma\\AppData\\Local\\Temp\\ipykernel_6852\\2457786483.py:39: FutureWarning: The frame.append method is deprecated and will be removed from pandas in a future version. Use pandas.concat instead.\n",
      "  df = df.append(a_series, ignore_index=True)\n",
      "C:\\Users\\jthoma\\AppData\\Local\\Temp\\ipykernel_6852\\2457786483.py:39: FutureWarning: The frame.append method is deprecated and will be removed from pandas in a future version. Use pandas.concat instead.\n",
      "  df = df.append(a_series, ignore_index=True)\n"
     ]
    },
    {
     "name": "stdout",
     "output_type": "stream",
     "text": [
      "Could not append: ['... 81 82 83 84 85 86 87 88 89 90 ...', '...', '81', '82', '83', '84', '85', '86', '87', '88', '89', '90', '...']\n"
     ]
    },
    {
     "name": "stderr",
     "output_type": "stream",
     "text": [
      "C:\\Users\\jthoma\\AppData\\Local\\Temp\\ipykernel_6852\\2457786483.py:39: FutureWarning: The frame.append method is deprecated and will be removed from pandas in a future version. Use pandas.concat instead.\n",
      "  df = df.append(a_series, ignore_index=True)\n",
      "C:\\Users\\jthoma\\AppData\\Local\\Temp\\ipykernel_6852\\2457786483.py:38: FutureWarning: The default dtype for empty Series will be 'object' instead of 'float64' in a future version. Specify a dtype explicitly to silence this warning.\n",
      "  a_series = pd.Series(row_list, index = df.columns)\n"
     ]
    },
    {
     "name": "stdout",
     "output_type": "stream",
     "text": [
      "Could not append: []\n"
     ]
    },
    {
     "name": "stderr",
     "output_type": "stream",
     "text": [
      "C:\\Users\\jthoma\\AppData\\Local\\Temp\\ipykernel_6852\\2457786483.py:39: FutureWarning: The frame.append method is deprecated and will be removed from pandas in a future version. Use pandas.concat instead.\n",
      "  df = df.append(a_series, ignore_index=True)\n",
      "C:\\Users\\jthoma\\AppData\\Local\\Temp\\ipykernel_6852\\2457786483.py:39: FutureWarning: The frame.append method is deprecated and will be removed from pandas in a future version. Use pandas.concat instead.\n",
      "  df = df.append(a_series, ignore_index=True)\n",
      "C:\\Users\\jthoma\\AppData\\Local\\Temp\\ipykernel_6852\\2457786483.py:39: FutureWarning: The frame.append method is deprecated and will be removed from pandas in a future version. Use pandas.concat instead.\n",
      "  df = df.append(a_series, ignore_index=True)\n",
      "C:\\Users\\jthoma\\AppData\\Local\\Temp\\ipykernel_6852\\2457786483.py:39: FutureWarning: The frame.append method is deprecated and will be removed from pandas in a future version. Use pandas.concat instead.\n",
      "  df = df.append(a_series, ignore_index=True)\n",
      "C:\\Users\\jthoma\\AppData\\Local\\Temp\\ipykernel_6852\\2457786483.py:39: FutureWarning: The frame.append method is deprecated and will be removed from pandas in a future version. Use pandas.concat instead.\n",
      "  df = df.append(a_series, ignore_index=True)\n",
      "C:\\Users\\jthoma\\AppData\\Local\\Temp\\ipykernel_6852\\2457786483.py:39: FutureWarning: The frame.append method is deprecated and will be removed from pandas in a future version. Use pandas.concat instead.\n",
      "  df = df.append(a_series, ignore_index=True)\n",
      "C:\\Users\\jthoma\\AppData\\Local\\Temp\\ipykernel_6852\\2457786483.py:39: FutureWarning: The frame.append method is deprecated and will be removed from pandas in a future version. Use pandas.concat instead.\n",
      "  df = df.append(a_series, ignore_index=True)\n",
      "C:\\Users\\jthoma\\AppData\\Local\\Temp\\ipykernel_6852\\2457786483.py:39: FutureWarning: The frame.append method is deprecated and will be removed from pandas in a future version. Use pandas.concat instead.\n",
      "  df = df.append(a_series, ignore_index=True)\n",
      "C:\\Users\\jthoma\\AppData\\Local\\Temp\\ipykernel_6852\\2457786483.py:39: FutureWarning: The frame.append method is deprecated and will be removed from pandas in a future version. Use pandas.concat instead.\n",
      "  df = df.append(a_series, ignore_index=True)\n",
      "C:\\Users\\jthoma\\AppData\\Local\\Temp\\ipykernel_6852\\2457786483.py:39: FutureWarning: The frame.append method is deprecated and will be removed from pandas in a future version. Use pandas.concat instead.\n",
      "  df = df.append(a_series, ignore_index=True)\n"
     ]
    },
    {
     "name": "stdout",
     "output_type": "stream",
     "text": [
      "Could not append: ['... 81 82 83 84 85 86 87 88 89 90 ...', '...', '81', '82', '83', '84', '85', '86', '87', '88', '89', '90', '...']\n"
     ]
    },
    {
     "name": "stderr",
     "output_type": "stream",
     "text": [
      "C:\\Users\\jthoma\\AppData\\Local\\Temp\\ipykernel_6852\\2457786483.py:39: FutureWarning: The frame.append method is deprecated and will be removed from pandas in a future version. Use pandas.concat instead.\n",
      "  df = df.append(a_series, ignore_index=True)\n",
      "C:\\Users\\jthoma\\AppData\\Local\\Temp\\ipykernel_6852\\2457786483.py:38: FutureWarning: The default dtype for empty Series will be 'object' instead of 'float64' in a future version. Specify a dtype explicitly to silence this warning.\n",
      "  a_series = pd.Series(row_list, index = df.columns)\n"
     ]
    },
    {
     "name": "stdout",
     "output_type": "stream",
     "text": [
      "Could not append: []\n"
     ]
    },
    {
     "name": "stderr",
     "output_type": "stream",
     "text": [
      "C:\\Users\\jthoma\\AppData\\Local\\Temp\\ipykernel_6852\\2457786483.py:39: FutureWarning: The frame.append method is deprecated and will be removed from pandas in a future version. Use pandas.concat instead.\n",
      "  df = df.append(a_series, ignore_index=True)\n",
      "C:\\Users\\jthoma\\AppData\\Local\\Temp\\ipykernel_6852\\2457786483.py:39: FutureWarning: The frame.append method is deprecated and will be removed from pandas in a future version. Use pandas.concat instead.\n",
      "  df = df.append(a_series, ignore_index=True)\n",
      "C:\\Users\\jthoma\\AppData\\Local\\Temp\\ipykernel_6852\\2457786483.py:39: FutureWarning: The frame.append method is deprecated and will be removed from pandas in a future version. Use pandas.concat instead.\n",
      "  df = df.append(a_series, ignore_index=True)\n",
      "C:\\Users\\jthoma\\AppData\\Local\\Temp\\ipykernel_6852\\2457786483.py:39: FutureWarning: The frame.append method is deprecated and will be removed from pandas in a future version. Use pandas.concat instead.\n",
      "  df = df.append(a_series, ignore_index=True)\n",
      "C:\\Users\\jthoma\\AppData\\Local\\Temp\\ipykernel_6852\\2457786483.py:39: FutureWarning: The frame.append method is deprecated and will be removed from pandas in a future version. Use pandas.concat instead.\n",
      "  df = df.append(a_series, ignore_index=True)\n",
      "C:\\Users\\jthoma\\AppData\\Local\\Temp\\ipykernel_6852\\2457786483.py:39: FutureWarning: The frame.append method is deprecated and will be removed from pandas in a future version. Use pandas.concat instead.\n",
      "  df = df.append(a_series, ignore_index=True)\n",
      "C:\\Users\\jthoma\\AppData\\Local\\Temp\\ipykernel_6852\\2457786483.py:39: FutureWarning: The frame.append method is deprecated and will be removed from pandas in a future version. Use pandas.concat instead.\n",
      "  df = df.append(a_series, ignore_index=True)\n",
      "C:\\Users\\jthoma\\AppData\\Local\\Temp\\ipykernel_6852\\2457786483.py:39: FutureWarning: The frame.append method is deprecated and will be removed from pandas in a future version. Use pandas.concat instead.\n",
      "  df = df.append(a_series, ignore_index=True)\n",
      "C:\\Users\\jthoma\\AppData\\Local\\Temp\\ipykernel_6852\\2457786483.py:39: FutureWarning: The frame.append method is deprecated and will be removed from pandas in a future version. Use pandas.concat instead.\n",
      "  df = df.append(a_series, ignore_index=True)\n",
      "C:\\Users\\jthoma\\AppData\\Local\\Temp\\ipykernel_6852\\2457786483.py:39: FutureWarning: The frame.append method is deprecated and will be removed from pandas in a future version. Use pandas.concat instead.\n",
      "  df = df.append(a_series, ignore_index=True)\n"
     ]
    },
    {
     "name": "stdout",
     "output_type": "stream",
     "text": [
      "Could not append: ['... 81 82 83 84 85 86 87 88 89 90 ...', '...', '81', '82', '83', '84', '85', '86', '87', '88', '89', '90', '...']\n"
     ]
    },
    {
     "name": "stderr",
     "output_type": "stream",
     "text": [
      "C:\\Users\\jthoma\\AppData\\Local\\Temp\\ipykernel_6852\\2457786483.py:39: FutureWarning: The frame.append method is deprecated and will be removed from pandas in a future version. Use pandas.concat instead.\n",
      "  df = df.append(a_series, ignore_index=True)\n",
      "C:\\Users\\jthoma\\AppData\\Local\\Temp\\ipykernel_6852\\2457786483.py:38: FutureWarning: The default dtype for empty Series will be 'object' instead of 'float64' in a future version. Specify a dtype explicitly to silence this warning.\n",
      "  a_series = pd.Series(row_list, index = df.columns)\n"
     ]
    },
    {
     "name": "stdout",
     "output_type": "stream",
     "text": [
      "Could not append: []\n"
     ]
    },
    {
     "name": "stderr",
     "output_type": "stream",
     "text": [
      "C:\\Users\\jthoma\\AppData\\Local\\Temp\\ipykernel_6852\\2457786483.py:39: FutureWarning: The frame.append method is deprecated and will be removed from pandas in a future version. Use pandas.concat instead.\n",
      "  df = df.append(a_series, ignore_index=True)\n",
      "C:\\Users\\jthoma\\AppData\\Local\\Temp\\ipykernel_6852\\2457786483.py:39: FutureWarning: The frame.append method is deprecated and will be removed from pandas in a future version. Use pandas.concat instead.\n",
      "  df = df.append(a_series, ignore_index=True)\n",
      "C:\\Users\\jthoma\\AppData\\Local\\Temp\\ipykernel_6852\\2457786483.py:39: FutureWarning: The frame.append method is deprecated and will be removed from pandas in a future version. Use pandas.concat instead.\n",
      "  df = df.append(a_series, ignore_index=True)\n",
      "C:\\Users\\jthoma\\AppData\\Local\\Temp\\ipykernel_6852\\2457786483.py:39: FutureWarning: The frame.append method is deprecated and will be removed from pandas in a future version. Use pandas.concat instead.\n",
      "  df = df.append(a_series, ignore_index=True)\n",
      "C:\\Users\\jthoma\\AppData\\Local\\Temp\\ipykernel_6852\\2457786483.py:39: FutureWarning: The frame.append method is deprecated and will be removed from pandas in a future version. Use pandas.concat instead.\n",
      "  df = df.append(a_series, ignore_index=True)\n",
      "C:\\Users\\jthoma\\AppData\\Local\\Temp\\ipykernel_6852\\2457786483.py:39: FutureWarning: The frame.append method is deprecated and will be removed from pandas in a future version. Use pandas.concat instead.\n",
      "  df = df.append(a_series, ignore_index=True)\n",
      "C:\\Users\\jthoma\\AppData\\Local\\Temp\\ipykernel_6852\\2457786483.py:39: FutureWarning: The frame.append method is deprecated and will be removed from pandas in a future version. Use pandas.concat instead.\n",
      "  df = df.append(a_series, ignore_index=True)\n",
      "C:\\Users\\jthoma\\AppData\\Local\\Temp\\ipykernel_6852\\2457786483.py:39: FutureWarning: The frame.append method is deprecated and will be removed from pandas in a future version. Use pandas.concat instead.\n",
      "  df = df.append(a_series, ignore_index=True)\n",
      "C:\\Users\\jthoma\\AppData\\Local\\Temp\\ipykernel_6852\\2457786483.py:39: FutureWarning: The frame.append method is deprecated and will be removed from pandas in a future version. Use pandas.concat instead.\n",
      "  df = df.append(a_series, ignore_index=True)\n",
      "C:\\Users\\jthoma\\AppData\\Local\\Temp\\ipykernel_6852\\2457786483.py:39: FutureWarning: The frame.append method is deprecated and will be removed from pandas in a future version. Use pandas.concat instead.\n",
      "  df = df.append(a_series, ignore_index=True)\n"
     ]
    },
    {
     "name": "stdout",
     "output_type": "stream",
     "text": [
      "Could not append: ['... 81 82 83 84 85 86 87 88 89 90 ...', '...', '81', '82', '83', '84', '85', '86', '87', '88', '89', '90', '...']\n"
     ]
    },
    {
     "name": "stderr",
     "output_type": "stream",
     "text": [
      "C:\\Users\\jthoma\\AppData\\Local\\Temp\\ipykernel_6852\\2457786483.py:39: FutureWarning: The frame.append method is deprecated and will be removed from pandas in a future version. Use pandas.concat instead.\n",
      "  df = df.append(a_series, ignore_index=True)\n",
      "C:\\Users\\jthoma\\AppData\\Local\\Temp\\ipykernel_6852\\2457786483.py:38: FutureWarning: The default dtype for empty Series will be 'object' instead of 'float64' in a future version. Specify a dtype explicitly to silence this warning.\n",
      "  a_series = pd.Series(row_list, index = df.columns)\n"
     ]
    },
    {
     "name": "stdout",
     "output_type": "stream",
     "text": [
      "Could not append: []\n"
     ]
    },
    {
     "name": "stderr",
     "output_type": "stream",
     "text": [
      "C:\\Users\\jthoma\\AppData\\Local\\Temp\\ipykernel_6852\\2457786483.py:39: FutureWarning: The frame.append method is deprecated and will be removed from pandas in a future version. Use pandas.concat instead.\n",
      "  df = df.append(a_series, ignore_index=True)\n",
      "C:\\Users\\jthoma\\AppData\\Local\\Temp\\ipykernel_6852\\2457786483.py:39: FutureWarning: The frame.append method is deprecated and will be removed from pandas in a future version. Use pandas.concat instead.\n",
      "  df = df.append(a_series, ignore_index=True)\n",
      "C:\\Users\\jthoma\\AppData\\Local\\Temp\\ipykernel_6852\\2457786483.py:39: FutureWarning: The frame.append method is deprecated and will be removed from pandas in a future version. Use pandas.concat instead.\n",
      "  df = df.append(a_series, ignore_index=True)\n",
      "C:\\Users\\jthoma\\AppData\\Local\\Temp\\ipykernel_6852\\2457786483.py:39: FutureWarning: The frame.append method is deprecated and will be removed from pandas in a future version. Use pandas.concat instead.\n",
      "  df = df.append(a_series, ignore_index=True)\n",
      "C:\\Users\\jthoma\\AppData\\Local\\Temp\\ipykernel_6852\\2457786483.py:39: FutureWarning: The frame.append method is deprecated and will be removed from pandas in a future version. Use pandas.concat instead.\n",
      "  df = df.append(a_series, ignore_index=True)\n",
      "C:\\Users\\jthoma\\AppData\\Local\\Temp\\ipykernel_6852\\2457786483.py:39: FutureWarning: The frame.append method is deprecated and will be removed from pandas in a future version. Use pandas.concat instead.\n",
      "  df = df.append(a_series, ignore_index=True)\n",
      "C:\\Users\\jthoma\\AppData\\Local\\Temp\\ipykernel_6852\\2457786483.py:39: FutureWarning: The frame.append method is deprecated and will be removed from pandas in a future version. Use pandas.concat instead.\n",
      "  df = df.append(a_series, ignore_index=True)\n",
      "C:\\Users\\jthoma\\AppData\\Local\\Temp\\ipykernel_6852\\2457786483.py:39: FutureWarning: The frame.append method is deprecated and will be removed from pandas in a future version. Use pandas.concat instead.\n",
      "  df = df.append(a_series, ignore_index=True)\n",
      "C:\\Users\\jthoma\\AppData\\Local\\Temp\\ipykernel_6852\\2457786483.py:39: FutureWarning: The frame.append method is deprecated and will be removed from pandas in a future version. Use pandas.concat instead.\n",
      "  df = df.append(a_series, ignore_index=True)\n",
      "C:\\Users\\jthoma\\AppData\\Local\\Temp\\ipykernel_6852\\2457786483.py:39: FutureWarning: The frame.append method is deprecated and will be removed from pandas in a future version. Use pandas.concat instead.\n",
      "  df = df.append(a_series, ignore_index=True)\n"
     ]
    },
    {
     "name": "stdout",
     "output_type": "stream",
     "text": [
      "Could not append: ['... 81 82 83 84 85 86 87 88 89 90 ...', '...', '81', '82', '83', '84', '85', '86', '87', '88', '89', '90', '...']\n"
     ]
    },
    {
     "name": "stderr",
     "output_type": "stream",
     "text": [
      "C:\\Users\\jthoma\\AppData\\Local\\Temp\\ipykernel_6852\\2457786483.py:39: FutureWarning: The frame.append method is deprecated and will be removed from pandas in a future version. Use pandas.concat instead.\n",
      "  df = df.append(a_series, ignore_index=True)\n",
      "C:\\Users\\jthoma\\AppData\\Local\\Temp\\ipykernel_6852\\2457786483.py:38: FutureWarning: The default dtype for empty Series will be 'object' instead of 'float64' in a future version. Specify a dtype explicitly to silence this warning.\n",
      "  a_series = pd.Series(row_list, index = df.columns)\n"
     ]
    },
    {
     "name": "stdout",
     "output_type": "stream",
     "text": [
      "Could not append: []\n"
     ]
    },
    {
     "name": "stderr",
     "output_type": "stream",
     "text": [
      "C:\\Users\\jthoma\\AppData\\Local\\Temp\\ipykernel_6852\\2457786483.py:39: FutureWarning: The frame.append method is deprecated and will be removed from pandas in a future version. Use pandas.concat instead.\n",
      "  df = df.append(a_series, ignore_index=True)\n",
      "C:\\Users\\jthoma\\AppData\\Local\\Temp\\ipykernel_6852\\2457786483.py:39: FutureWarning: The frame.append method is deprecated and will be removed from pandas in a future version. Use pandas.concat instead.\n",
      "  df = df.append(a_series, ignore_index=True)\n",
      "C:\\Users\\jthoma\\AppData\\Local\\Temp\\ipykernel_6852\\2457786483.py:39: FutureWarning: The frame.append method is deprecated and will be removed from pandas in a future version. Use pandas.concat instead.\n",
      "  df = df.append(a_series, ignore_index=True)\n",
      "C:\\Users\\jthoma\\AppData\\Local\\Temp\\ipykernel_6852\\2457786483.py:39: FutureWarning: The frame.append method is deprecated and will be removed from pandas in a future version. Use pandas.concat instead.\n",
      "  df = df.append(a_series, ignore_index=True)\n",
      "C:\\Users\\jthoma\\AppData\\Local\\Temp\\ipykernel_6852\\2457786483.py:39: FutureWarning: The frame.append method is deprecated and will be removed from pandas in a future version. Use pandas.concat instead.\n",
      "  df = df.append(a_series, ignore_index=True)\n",
      "C:\\Users\\jthoma\\AppData\\Local\\Temp\\ipykernel_6852\\2457786483.py:39: FutureWarning: The frame.append method is deprecated and will be removed from pandas in a future version. Use pandas.concat instead.\n",
      "  df = df.append(a_series, ignore_index=True)\n",
      "C:\\Users\\jthoma\\AppData\\Local\\Temp\\ipykernel_6852\\2457786483.py:39: FutureWarning: The frame.append method is deprecated and will be removed from pandas in a future version. Use pandas.concat instead.\n",
      "  df = df.append(a_series, ignore_index=True)\n",
      "C:\\Users\\jthoma\\AppData\\Local\\Temp\\ipykernel_6852\\2457786483.py:39: FutureWarning: The frame.append method is deprecated and will be removed from pandas in a future version. Use pandas.concat instead.\n",
      "  df = df.append(a_series, ignore_index=True)\n",
      "C:\\Users\\jthoma\\AppData\\Local\\Temp\\ipykernel_6852\\2457786483.py:39: FutureWarning: The frame.append method is deprecated and will be removed from pandas in a future version. Use pandas.concat instead.\n",
      "  df = df.append(a_series, ignore_index=True)\n",
      "C:\\Users\\jthoma\\AppData\\Local\\Temp\\ipykernel_6852\\2457786483.py:39: FutureWarning: The frame.append method is deprecated and will be removed from pandas in a future version. Use pandas.concat instead.\n",
      "  df = df.append(a_series, ignore_index=True)\n"
     ]
    },
    {
     "name": "stdout",
     "output_type": "stream",
     "text": [
      "Could not append: ['... 81 82 83 84 85 86 87 88 89 90 ...', '...', '81', '82', '83', '84', '85', '86', '87', '88', '89', '90', '...']\n"
     ]
    },
    {
     "name": "stderr",
     "output_type": "stream",
     "text": [
      "C:\\Users\\jthoma\\AppData\\Local\\Temp\\ipykernel_6852\\2457786483.py:39: FutureWarning: The frame.append method is deprecated and will be removed from pandas in a future version. Use pandas.concat instead.\n",
      "  df = df.append(a_series, ignore_index=True)\n",
      "C:\\Users\\jthoma\\AppData\\Local\\Temp\\ipykernel_6852\\2457786483.py:38: FutureWarning: The default dtype for empty Series will be 'object' instead of 'float64' in a future version. Specify a dtype explicitly to silence this warning.\n",
      "  a_series = pd.Series(row_list, index = df.columns)\n"
     ]
    },
    {
     "name": "stdout",
     "output_type": "stream",
     "text": [
      "Could not append: []\n"
     ]
    },
    {
     "name": "stderr",
     "output_type": "stream",
     "text": [
      "C:\\Users\\jthoma\\AppData\\Local\\Temp\\ipykernel_6852\\2457786483.py:39: FutureWarning: The frame.append method is deprecated and will be removed from pandas in a future version. Use pandas.concat instead.\n",
      "  df = df.append(a_series, ignore_index=True)\n",
      "C:\\Users\\jthoma\\AppData\\Local\\Temp\\ipykernel_6852\\2457786483.py:39: FutureWarning: The frame.append method is deprecated and will be removed from pandas in a future version. Use pandas.concat instead.\n",
      "  df = df.append(a_series, ignore_index=True)\n",
      "C:\\Users\\jthoma\\AppData\\Local\\Temp\\ipykernel_6852\\2457786483.py:39: FutureWarning: The frame.append method is deprecated and will be removed from pandas in a future version. Use pandas.concat instead.\n",
      "  df = df.append(a_series, ignore_index=True)\n",
      "C:\\Users\\jthoma\\AppData\\Local\\Temp\\ipykernel_6852\\2457786483.py:39: FutureWarning: The frame.append method is deprecated and will be removed from pandas in a future version. Use pandas.concat instead.\n",
      "  df = df.append(a_series, ignore_index=True)\n",
      "C:\\Users\\jthoma\\AppData\\Local\\Temp\\ipykernel_6852\\2457786483.py:39: FutureWarning: The frame.append method is deprecated and will be removed from pandas in a future version. Use pandas.concat instead.\n",
      "  df = df.append(a_series, ignore_index=True)\n",
      "C:\\Users\\jthoma\\AppData\\Local\\Temp\\ipykernel_6852\\2457786483.py:39: FutureWarning: The frame.append method is deprecated and will be removed from pandas in a future version. Use pandas.concat instead.\n",
      "  df = df.append(a_series, ignore_index=True)\n",
      "C:\\Users\\jthoma\\AppData\\Local\\Temp\\ipykernel_6852\\2457786483.py:39: FutureWarning: The frame.append method is deprecated and will be removed from pandas in a future version. Use pandas.concat instead.\n",
      "  df = df.append(a_series, ignore_index=True)\n",
      "C:\\Users\\jthoma\\AppData\\Local\\Temp\\ipykernel_6852\\2457786483.py:39: FutureWarning: The frame.append method is deprecated and will be removed from pandas in a future version. Use pandas.concat instead.\n",
      "  df = df.append(a_series, ignore_index=True)\n",
      "C:\\Users\\jthoma\\AppData\\Local\\Temp\\ipykernel_6852\\2457786483.py:39: FutureWarning: The frame.append method is deprecated and will be removed from pandas in a future version. Use pandas.concat instead.\n",
      "  df = df.append(a_series, ignore_index=True)\n",
      "C:\\Users\\jthoma\\AppData\\Local\\Temp\\ipykernel_6852\\2457786483.py:39: FutureWarning: The frame.append method is deprecated and will be removed from pandas in a future version. Use pandas.concat instead.\n",
      "  df = df.append(a_series, ignore_index=True)\n"
     ]
    },
    {
     "name": "stdout",
     "output_type": "stream",
     "text": [
      "Could not append: ['... 81 82 83 84 85 86 87 88 89 90 ...', '...', '81', '82', '83', '84', '85', '86', '87', '88', '89', '90', '...']\n"
     ]
    },
    {
     "name": "stderr",
     "output_type": "stream",
     "text": [
      "C:\\Users\\jthoma\\AppData\\Local\\Temp\\ipykernel_6852\\2457786483.py:39: FutureWarning: The frame.append method is deprecated and will be removed from pandas in a future version. Use pandas.concat instead.\n",
      "  df = df.append(a_series, ignore_index=True)\n",
      "C:\\Users\\jthoma\\AppData\\Local\\Temp\\ipykernel_6852\\2457786483.py:38: FutureWarning: The default dtype for empty Series will be 'object' instead of 'float64' in a future version. Specify a dtype explicitly to silence this warning.\n",
      "  a_series = pd.Series(row_list, index = df.columns)\n"
     ]
    },
    {
     "name": "stdout",
     "output_type": "stream",
     "text": [
      "Could not append: []\n"
     ]
    },
    {
     "name": "stderr",
     "output_type": "stream",
     "text": [
      "C:\\Users\\jthoma\\AppData\\Local\\Temp\\ipykernel_6852\\2457786483.py:39: FutureWarning: The frame.append method is deprecated and will be removed from pandas in a future version. Use pandas.concat instead.\n",
      "  df = df.append(a_series, ignore_index=True)\n",
      "C:\\Users\\jthoma\\AppData\\Local\\Temp\\ipykernel_6852\\2457786483.py:39: FutureWarning: The frame.append method is deprecated and will be removed from pandas in a future version. Use pandas.concat instead.\n",
      "  df = df.append(a_series, ignore_index=True)\n",
      "C:\\Users\\jthoma\\AppData\\Local\\Temp\\ipykernel_6852\\2457786483.py:39: FutureWarning: The frame.append method is deprecated and will be removed from pandas in a future version. Use pandas.concat instead.\n",
      "  df = df.append(a_series, ignore_index=True)\n",
      "C:\\Users\\jthoma\\AppData\\Local\\Temp\\ipykernel_6852\\2457786483.py:39: FutureWarning: The frame.append method is deprecated and will be removed from pandas in a future version. Use pandas.concat instead.\n",
      "  df = df.append(a_series, ignore_index=True)\n",
      "C:\\Users\\jthoma\\AppData\\Local\\Temp\\ipykernel_6852\\2457786483.py:39: FutureWarning: The frame.append method is deprecated and will be removed from pandas in a future version. Use pandas.concat instead.\n",
      "  df = df.append(a_series, ignore_index=True)\n",
      "C:\\Users\\jthoma\\AppData\\Local\\Temp\\ipykernel_6852\\2457786483.py:39: FutureWarning: The frame.append method is deprecated and will be removed from pandas in a future version. Use pandas.concat instead.\n",
      "  df = df.append(a_series, ignore_index=True)\n",
      "C:\\Users\\jthoma\\AppData\\Local\\Temp\\ipykernel_6852\\2457786483.py:39: FutureWarning: The frame.append method is deprecated and will be removed from pandas in a future version. Use pandas.concat instead.\n",
      "  df = df.append(a_series, ignore_index=True)\n",
      "C:\\Users\\jthoma\\AppData\\Local\\Temp\\ipykernel_6852\\2457786483.py:39: FutureWarning: The frame.append method is deprecated and will be removed from pandas in a future version. Use pandas.concat instead.\n",
      "  df = df.append(a_series, ignore_index=True)\n",
      "C:\\Users\\jthoma\\AppData\\Local\\Temp\\ipykernel_6852\\2457786483.py:39: FutureWarning: The frame.append method is deprecated and will be removed from pandas in a future version. Use pandas.concat instead.\n",
      "  df = df.append(a_series, ignore_index=True)\n",
      "C:\\Users\\jthoma\\AppData\\Local\\Temp\\ipykernel_6852\\2457786483.py:39: FutureWarning: The frame.append method is deprecated and will be removed from pandas in a future version. Use pandas.concat instead.\n",
      "  df = df.append(a_series, ignore_index=True)\n"
     ]
    },
    {
     "name": "stdout",
     "output_type": "stream",
     "text": [
      "Could not append: ['... 81 82 83 84 85 86 87 88 89 90 ...', '...', '81', '82', '83', '84', '85', '86', '87', '88', '89', '90', '...']\n"
     ]
    },
    {
     "name": "stderr",
     "output_type": "stream",
     "text": [
      "C:\\Users\\jthoma\\AppData\\Local\\Temp\\ipykernel_6852\\2457786483.py:39: FutureWarning: The frame.append method is deprecated and will be removed from pandas in a future version. Use pandas.concat instead.\n",
      "  df = df.append(a_series, ignore_index=True)\n",
      "C:\\Users\\jthoma\\AppData\\Local\\Temp\\ipykernel_6852\\2457786483.py:38: FutureWarning: The default dtype for empty Series will be 'object' instead of 'float64' in a future version. Specify a dtype explicitly to silence this warning.\n",
      "  a_series = pd.Series(row_list, index = df.columns)\n"
     ]
    },
    {
     "name": "stdout",
     "output_type": "stream",
     "text": [
      "Could not append: []\n"
     ]
    },
    {
     "name": "stderr",
     "output_type": "stream",
     "text": [
      "C:\\Users\\jthoma\\AppData\\Local\\Temp\\ipykernel_6852\\2457786483.py:39: FutureWarning: The frame.append method is deprecated and will be removed from pandas in a future version. Use pandas.concat instead.\n",
      "  df = df.append(a_series, ignore_index=True)\n",
      "C:\\Users\\jthoma\\AppData\\Local\\Temp\\ipykernel_6852\\2457786483.py:39: FutureWarning: The frame.append method is deprecated and will be removed from pandas in a future version. Use pandas.concat instead.\n",
      "  df = df.append(a_series, ignore_index=True)\n",
      "C:\\Users\\jthoma\\AppData\\Local\\Temp\\ipykernel_6852\\2457786483.py:39: FutureWarning: The frame.append method is deprecated and will be removed from pandas in a future version. Use pandas.concat instead.\n",
      "  df = df.append(a_series, ignore_index=True)\n",
      "C:\\Users\\jthoma\\AppData\\Local\\Temp\\ipykernel_6852\\2457786483.py:39: FutureWarning: The frame.append method is deprecated and will be removed from pandas in a future version. Use pandas.concat instead.\n",
      "  df = df.append(a_series, ignore_index=True)\n",
      "C:\\Users\\jthoma\\AppData\\Local\\Temp\\ipykernel_6852\\2457786483.py:39: FutureWarning: The frame.append method is deprecated and will be removed from pandas in a future version. Use pandas.concat instead.\n",
      "  df = df.append(a_series, ignore_index=True)\n",
      "C:\\Users\\jthoma\\AppData\\Local\\Temp\\ipykernel_6852\\2457786483.py:39: FutureWarning: The frame.append method is deprecated and will be removed from pandas in a future version. Use pandas.concat instead.\n",
      "  df = df.append(a_series, ignore_index=True)\n",
      "C:\\Users\\jthoma\\AppData\\Local\\Temp\\ipykernel_6852\\2457786483.py:39: FutureWarning: The frame.append method is deprecated and will be removed from pandas in a future version. Use pandas.concat instead.\n",
      "  df = df.append(a_series, ignore_index=True)\n",
      "C:\\Users\\jthoma\\AppData\\Local\\Temp\\ipykernel_6852\\2457786483.py:39: FutureWarning: The frame.append method is deprecated and will be removed from pandas in a future version. Use pandas.concat instead.\n",
      "  df = df.append(a_series, ignore_index=True)\n",
      "C:\\Users\\jthoma\\AppData\\Local\\Temp\\ipykernel_6852\\2457786483.py:39: FutureWarning: The frame.append method is deprecated and will be removed from pandas in a future version. Use pandas.concat instead.\n",
      "  df = df.append(a_series, ignore_index=True)\n",
      "C:\\Users\\jthoma\\AppData\\Local\\Temp\\ipykernel_6852\\2457786483.py:39: FutureWarning: The frame.append method is deprecated and will be removed from pandas in a future version. Use pandas.concat instead.\n",
      "  df = df.append(a_series, ignore_index=True)\n"
     ]
    },
    {
     "name": "stdout",
     "output_type": "stream",
     "text": [
      "Could not append: ['... 81 82 83 84 85 86 87 88 89 90 ...', '...', '81', '82', '83', '84', '85', '86', '87', '88', '89', '90', '...']\n"
     ]
    },
    {
     "name": "stderr",
     "output_type": "stream",
     "text": [
      "C:\\Users\\jthoma\\AppData\\Local\\Temp\\ipykernel_6852\\2457786483.py:39: FutureWarning: The frame.append method is deprecated and will be removed from pandas in a future version. Use pandas.concat instead.\n",
      "  df = df.append(a_series, ignore_index=True)\n",
      "C:\\Users\\jthoma\\AppData\\Local\\Temp\\ipykernel_6852\\2457786483.py:38: FutureWarning: The default dtype for empty Series will be 'object' instead of 'float64' in a future version. Specify a dtype explicitly to silence this warning.\n",
      "  a_series = pd.Series(row_list, index = df.columns)\n"
     ]
    },
    {
     "name": "stdout",
     "output_type": "stream",
     "text": [
      "Could not append: []\n"
     ]
    },
    {
     "name": "stderr",
     "output_type": "stream",
     "text": [
      "C:\\Users\\jthoma\\AppData\\Local\\Temp\\ipykernel_6852\\2457786483.py:39: FutureWarning: The frame.append method is deprecated and will be removed from pandas in a future version. Use pandas.concat instead.\n",
      "  df = df.append(a_series, ignore_index=True)\n",
      "C:\\Users\\jthoma\\AppData\\Local\\Temp\\ipykernel_6852\\2457786483.py:39: FutureWarning: The frame.append method is deprecated and will be removed from pandas in a future version. Use pandas.concat instead.\n",
      "  df = df.append(a_series, ignore_index=True)\n",
      "C:\\Users\\jthoma\\AppData\\Local\\Temp\\ipykernel_6852\\2457786483.py:39: FutureWarning: The frame.append method is deprecated and will be removed from pandas in a future version. Use pandas.concat instead.\n",
      "  df = df.append(a_series, ignore_index=True)\n",
      "C:\\Users\\jthoma\\AppData\\Local\\Temp\\ipykernel_6852\\2457786483.py:39: FutureWarning: The frame.append method is deprecated and will be removed from pandas in a future version. Use pandas.concat instead.\n",
      "  df = df.append(a_series, ignore_index=True)\n",
      "C:\\Users\\jthoma\\AppData\\Local\\Temp\\ipykernel_6852\\2457786483.py:39: FutureWarning: The frame.append method is deprecated and will be removed from pandas in a future version. Use pandas.concat instead.\n",
      "  df = df.append(a_series, ignore_index=True)\n",
      "C:\\Users\\jthoma\\AppData\\Local\\Temp\\ipykernel_6852\\2457786483.py:39: FutureWarning: The frame.append method is deprecated and will be removed from pandas in a future version. Use pandas.concat instead.\n",
      "  df = df.append(a_series, ignore_index=True)\n",
      "C:\\Users\\jthoma\\AppData\\Local\\Temp\\ipykernel_6852\\2457786483.py:39: FutureWarning: The frame.append method is deprecated and will be removed from pandas in a future version. Use pandas.concat instead.\n",
      "  df = df.append(a_series, ignore_index=True)\n",
      "C:\\Users\\jthoma\\AppData\\Local\\Temp\\ipykernel_6852\\2457786483.py:39: FutureWarning: The frame.append method is deprecated and will be removed from pandas in a future version. Use pandas.concat instead.\n",
      "  df = df.append(a_series, ignore_index=True)\n",
      "C:\\Users\\jthoma\\AppData\\Local\\Temp\\ipykernel_6852\\2457786483.py:39: FutureWarning: The frame.append method is deprecated and will be removed from pandas in a future version. Use pandas.concat instead.\n",
      "  df = df.append(a_series, ignore_index=True)\n",
      "C:\\Users\\jthoma\\AppData\\Local\\Temp\\ipykernel_6852\\2457786483.py:39: FutureWarning: The frame.append method is deprecated and will be removed from pandas in a future version. Use pandas.concat instead.\n",
      "  df = df.append(a_series, ignore_index=True)\n"
     ]
    },
    {
     "name": "stdout",
     "output_type": "stream",
     "text": [
      "Could not append: ['... 91 92 93 94 95 96 97 98 99 100 ...', '...', '91', '92', '93', '94', '95', '96', '97', '98', '99', '100', '...']\n"
     ]
    },
    {
     "name": "stderr",
     "output_type": "stream",
     "text": [
      "C:\\Users\\jthoma\\AppData\\Local\\Temp\\ipykernel_6852\\2457786483.py:39: FutureWarning: The frame.append method is deprecated and will be removed from pandas in a future version. Use pandas.concat instead.\n",
      "  df = df.append(a_series, ignore_index=True)\n",
      "C:\\Users\\jthoma\\AppData\\Local\\Temp\\ipykernel_6852\\2457786483.py:38: FutureWarning: The default dtype for empty Series will be 'object' instead of 'float64' in a future version. Specify a dtype explicitly to silence this warning.\n",
      "  a_series = pd.Series(row_list, index = df.columns)\n"
     ]
    },
    {
     "name": "stdout",
     "output_type": "stream",
     "text": [
      "Could not append: []\n"
     ]
    },
    {
     "name": "stderr",
     "output_type": "stream",
     "text": [
      "C:\\Users\\jthoma\\AppData\\Local\\Temp\\ipykernel_6852\\2457786483.py:39: FutureWarning: The frame.append method is deprecated and will be removed from pandas in a future version. Use pandas.concat instead.\n",
      "  df = df.append(a_series, ignore_index=True)\n",
      "C:\\Users\\jthoma\\AppData\\Local\\Temp\\ipykernel_6852\\2457786483.py:39: FutureWarning: The frame.append method is deprecated and will be removed from pandas in a future version. Use pandas.concat instead.\n",
      "  df = df.append(a_series, ignore_index=True)\n",
      "C:\\Users\\jthoma\\AppData\\Local\\Temp\\ipykernel_6852\\2457786483.py:39: FutureWarning: The frame.append method is deprecated and will be removed from pandas in a future version. Use pandas.concat instead.\n",
      "  df = df.append(a_series, ignore_index=True)\n",
      "C:\\Users\\jthoma\\AppData\\Local\\Temp\\ipykernel_6852\\2457786483.py:39: FutureWarning: The frame.append method is deprecated and will be removed from pandas in a future version. Use pandas.concat instead.\n",
      "  df = df.append(a_series, ignore_index=True)\n",
      "C:\\Users\\jthoma\\AppData\\Local\\Temp\\ipykernel_6852\\2457786483.py:39: FutureWarning: The frame.append method is deprecated and will be removed from pandas in a future version. Use pandas.concat instead.\n",
      "  df = df.append(a_series, ignore_index=True)\n",
      "C:\\Users\\jthoma\\AppData\\Local\\Temp\\ipykernel_6852\\2457786483.py:39: FutureWarning: The frame.append method is deprecated and will be removed from pandas in a future version. Use pandas.concat instead.\n",
      "  df = df.append(a_series, ignore_index=True)\n",
      "C:\\Users\\jthoma\\AppData\\Local\\Temp\\ipykernel_6852\\2457786483.py:39: FutureWarning: The frame.append method is deprecated and will be removed from pandas in a future version. Use pandas.concat instead.\n",
      "  df = df.append(a_series, ignore_index=True)\n",
      "C:\\Users\\jthoma\\AppData\\Local\\Temp\\ipykernel_6852\\2457786483.py:39: FutureWarning: The frame.append method is deprecated and will be removed from pandas in a future version. Use pandas.concat instead.\n",
      "  df = df.append(a_series, ignore_index=True)\n",
      "C:\\Users\\jthoma\\AppData\\Local\\Temp\\ipykernel_6852\\2457786483.py:39: FutureWarning: The frame.append method is deprecated and will be removed from pandas in a future version. Use pandas.concat instead.\n",
      "  df = df.append(a_series, ignore_index=True)\n",
      "C:\\Users\\jthoma\\AppData\\Local\\Temp\\ipykernel_6852\\2457786483.py:39: FutureWarning: The frame.append method is deprecated and will be removed from pandas in a future version. Use pandas.concat instead.\n",
      "  df = df.append(a_series, ignore_index=True)\n"
     ]
    },
    {
     "name": "stdout",
     "output_type": "stream",
     "text": [
      "Could not append: ['... 91 92 93 94 95 96 97 98 99 100 ...', '...', '91', '92', '93', '94', '95', '96', '97', '98', '99', '100', '...']\n"
     ]
    },
    {
     "name": "stderr",
     "output_type": "stream",
     "text": [
      "C:\\Users\\jthoma\\AppData\\Local\\Temp\\ipykernel_6852\\2457786483.py:39: FutureWarning: The frame.append method is deprecated and will be removed from pandas in a future version. Use pandas.concat instead.\n",
      "  df = df.append(a_series, ignore_index=True)\n",
      "C:\\Users\\jthoma\\AppData\\Local\\Temp\\ipykernel_6852\\2457786483.py:38: FutureWarning: The default dtype for empty Series will be 'object' instead of 'float64' in a future version. Specify a dtype explicitly to silence this warning.\n",
      "  a_series = pd.Series(row_list, index = df.columns)\n"
     ]
    },
    {
     "name": "stdout",
     "output_type": "stream",
     "text": [
      "Could not append: []\n"
     ]
    },
    {
     "name": "stderr",
     "output_type": "stream",
     "text": [
      "C:\\Users\\jthoma\\AppData\\Local\\Temp\\ipykernel_6852\\2457786483.py:39: FutureWarning: The frame.append method is deprecated and will be removed from pandas in a future version. Use pandas.concat instead.\n",
      "  df = df.append(a_series, ignore_index=True)\n",
      "C:\\Users\\jthoma\\AppData\\Local\\Temp\\ipykernel_6852\\2457786483.py:39: FutureWarning: The frame.append method is deprecated and will be removed from pandas in a future version. Use pandas.concat instead.\n",
      "  df = df.append(a_series, ignore_index=True)\n",
      "C:\\Users\\jthoma\\AppData\\Local\\Temp\\ipykernel_6852\\2457786483.py:39: FutureWarning: The frame.append method is deprecated and will be removed from pandas in a future version. Use pandas.concat instead.\n",
      "  df = df.append(a_series, ignore_index=True)\n",
      "C:\\Users\\jthoma\\AppData\\Local\\Temp\\ipykernel_6852\\2457786483.py:39: FutureWarning: The frame.append method is deprecated and will be removed from pandas in a future version. Use pandas.concat instead.\n",
      "  df = df.append(a_series, ignore_index=True)\n",
      "C:\\Users\\jthoma\\AppData\\Local\\Temp\\ipykernel_6852\\2457786483.py:39: FutureWarning: The frame.append method is deprecated and will be removed from pandas in a future version. Use pandas.concat instead.\n",
      "  df = df.append(a_series, ignore_index=True)\n",
      "C:\\Users\\jthoma\\AppData\\Local\\Temp\\ipykernel_6852\\2457786483.py:39: FutureWarning: The frame.append method is deprecated and will be removed from pandas in a future version. Use pandas.concat instead.\n",
      "  df = df.append(a_series, ignore_index=True)\n",
      "C:\\Users\\jthoma\\AppData\\Local\\Temp\\ipykernel_6852\\2457786483.py:39: FutureWarning: The frame.append method is deprecated and will be removed from pandas in a future version. Use pandas.concat instead.\n",
      "  df = df.append(a_series, ignore_index=True)\n",
      "C:\\Users\\jthoma\\AppData\\Local\\Temp\\ipykernel_6852\\2457786483.py:39: FutureWarning: The frame.append method is deprecated and will be removed from pandas in a future version. Use pandas.concat instead.\n",
      "  df = df.append(a_series, ignore_index=True)\n",
      "C:\\Users\\jthoma\\AppData\\Local\\Temp\\ipykernel_6852\\2457786483.py:39: FutureWarning: The frame.append method is deprecated and will be removed from pandas in a future version. Use pandas.concat instead.\n",
      "  df = df.append(a_series, ignore_index=True)\n",
      "C:\\Users\\jthoma\\AppData\\Local\\Temp\\ipykernel_6852\\2457786483.py:39: FutureWarning: The frame.append method is deprecated and will be removed from pandas in a future version. Use pandas.concat instead.\n",
      "  df = df.append(a_series, ignore_index=True)\n"
     ]
    },
    {
     "name": "stdout",
     "output_type": "stream",
     "text": [
      "Could not append: ['... 91 92 93 94 95 96 97 98 99 100 ...', '...', '91', '92', '93', '94', '95', '96', '97', '98', '99', '100', '...']\n"
     ]
    },
    {
     "name": "stderr",
     "output_type": "stream",
     "text": [
      "C:\\Users\\jthoma\\AppData\\Local\\Temp\\ipykernel_6852\\2457786483.py:39: FutureWarning: The frame.append method is deprecated and will be removed from pandas in a future version. Use pandas.concat instead.\n",
      "  df = df.append(a_series, ignore_index=True)\n",
      "C:\\Users\\jthoma\\AppData\\Local\\Temp\\ipykernel_6852\\2457786483.py:38: FutureWarning: The default dtype for empty Series will be 'object' instead of 'float64' in a future version. Specify a dtype explicitly to silence this warning.\n",
      "  a_series = pd.Series(row_list, index = df.columns)\n"
     ]
    },
    {
     "name": "stdout",
     "output_type": "stream",
     "text": [
      "Could not append: []\n"
     ]
    },
    {
     "name": "stderr",
     "output_type": "stream",
     "text": [
      "C:\\Users\\jthoma\\AppData\\Local\\Temp\\ipykernel_6852\\2457786483.py:39: FutureWarning: The frame.append method is deprecated and will be removed from pandas in a future version. Use pandas.concat instead.\n",
      "  df = df.append(a_series, ignore_index=True)\n",
      "C:\\Users\\jthoma\\AppData\\Local\\Temp\\ipykernel_6852\\2457786483.py:39: FutureWarning: The frame.append method is deprecated and will be removed from pandas in a future version. Use pandas.concat instead.\n",
      "  df = df.append(a_series, ignore_index=True)\n",
      "C:\\Users\\jthoma\\AppData\\Local\\Temp\\ipykernel_6852\\2457786483.py:39: FutureWarning: The frame.append method is deprecated and will be removed from pandas in a future version. Use pandas.concat instead.\n",
      "  df = df.append(a_series, ignore_index=True)\n",
      "C:\\Users\\jthoma\\AppData\\Local\\Temp\\ipykernel_6852\\2457786483.py:39: FutureWarning: The frame.append method is deprecated and will be removed from pandas in a future version. Use pandas.concat instead.\n",
      "  df = df.append(a_series, ignore_index=True)\n",
      "C:\\Users\\jthoma\\AppData\\Local\\Temp\\ipykernel_6852\\2457786483.py:39: FutureWarning: The frame.append method is deprecated and will be removed from pandas in a future version. Use pandas.concat instead.\n",
      "  df = df.append(a_series, ignore_index=True)\n",
      "C:\\Users\\jthoma\\AppData\\Local\\Temp\\ipykernel_6852\\2457786483.py:39: FutureWarning: The frame.append method is deprecated and will be removed from pandas in a future version. Use pandas.concat instead.\n",
      "  df = df.append(a_series, ignore_index=True)\n",
      "C:\\Users\\jthoma\\AppData\\Local\\Temp\\ipykernel_6852\\2457786483.py:39: FutureWarning: The frame.append method is deprecated and will be removed from pandas in a future version. Use pandas.concat instead.\n",
      "  df = df.append(a_series, ignore_index=True)\n",
      "C:\\Users\\jthoma\\AppData\\Local\\Temp\\ipykernel_6852\\2457786483.py:39: FutureWarning: The frame.append method is deprecated and will be removed from pandas in a future version. Use pandas.concat instead.\n",
      "  df = df.append(a_series, ignore_index=True)\n",
      "C:\\Users\\jthoma\\AppData\\Local\\Temp\\ipykernel_6852\\2457786483.py:39: FutureWarning: The frame.append method is deprecated and will be removed from pandas in a future version. Use pandas.concat instead.\n",
      "  df = df.append(a_series, ignore_index=True)\n",
      "C:\\Users\\jthoma\\AppData\\Local\\Temp\\ipykernel_6852\\2457786483.py:39: FutureWarning: The frame.append method is deprecated and will be removed from pandas in a future version. Use pandas.concat instead.\n",
      "  df = df.append(a_series, ignore_index=True)\n"
     ]
    },
    {
     "name": "stdout",
     "output_type": "stream",
     "text": [
      "Could not append: ['... 91 92 93 94 95 96 97 98 99 100 ...', '...', '91', '92', '93', '94', '95', '96', '97', '98', '99', '100', '...']\n"
     ]
    },
    {
     "name": "stderr",
     "output_type": "stream",
     "text": [
      "C:\\Users\\jthoma\\AppData\\Local\\Temp\\ipykernel_6852\\2457786483.py:39: FutureWarning: The frame.append method is deprecated and will be removed from pandas in a future version. Use pandas.concat instead.\n",
      "  df = df.append(a_series, ignore_index=True)\n",
      "C:\\Users\\jthoma\\AppData\\Local\\Temp\\ipykernel_6852\\2457786483.py:38: FutureWarning: The default dtype for empty Series will be 'object' instead of 'float64' in a future version. Specify a dtype explicitly to silence this warning.\n",
      "  a_series = pd.Series(row_list, index = df.columns)\n"
     ]
    },
    {
     "name": "stdout",
     "output_type": "stream",
     "text": [
      "Could not append: []\n"
     ]
    },
    {
     "name": "stderr",
     "output_type": "stream",
     "text": [
      "C:\\Users\\jthoma\\AppData\\Local\\Temp\\ipykernel_6852\\2457786483.py:39: FutureWarning: The frame.append method is deprecated and will be removed from pandas in a future version. Use pandas.concat instead.\n",
      "  df = df.append(a_series, ignore_index=True)\n",
      "C:\\Users\\jthoma\\AppData\\Local\\Temp\\ipykernel_6852\\2457786483.py:39: FutureWarning: The frame.append method is deprecated and will be removed from pandas in a future version. Use pandas.concat instead.\n",
      "  df = df.append(a_series, ignore_index=True)\n",
      "C:\\Users\\jthoma\\AppData\\Local\\Temp\\ipykernel_6852\\2457786483.py:39: FutureWarning: The frame.append method is deprecated and will be removed from pandas in a future version. Use pandas.concat instead.\n",
      "  df = df.append(a_series, ignore_index=True)\n",
      "C:\\Users\\jthoma\\AppData\\Local\\Temp\\ipykernel_6852\\2457786483.py:39: FutureWarning: The frame.append method is deprecated and will be removed from pandas in a future version. Use pandas.concat instead.\n",
      "  df = df.append(a_series, ignore_index=True)\n",
      "C:\\Users\\jthoma\\AppData\\Local\\Temp\\ipykernel_6852\\2457786483.py:39: FutureWarning: The frame.append method is deprecated and will be removed from pandas in a future version. Use pandas.concat instead.\n",
      "  df = df.append(a_series, ignore_index=True)\n",
      "C:\\Users\\jthoma\\AppData\\Local\\Temp\\ipykernel_6852\\2457786483.py:39: FutureWarning: The frame.append method is deprecated and will be removed from pandas in a future version. Use pandas.concat instead.\n",
      "  df = df.append(a_series, ignore_index=True)\n",
      "C:\\Users\\jthoma\\AppData\\Local\\Temp\\ipykernel_6852\\2457786483.py:39: FutureWarning: The frame.append method is deprecated and will be removed from pandas in a future version. Use pandas.concat instead.\n",
      "  df = df.append(a_series, ignore_index=True)\n",
      "C:\\Users\\jthoma\\AppData\\Local\\Temp\\ipykernel_6852\\2457786483.py:39: FutureWarning: The frame.append method is deprecated and will be removed from pandas in a future version. Use pandas.concat instead.\n",
      "  df = df.append(a_series, ignore_index=True)\n",
      "C:\\Users\\jthoma\\AppData\\Local\\Temp\\ipykernel_6852\\2457786483.py:39: FutureWarning: The frame.append method is deprecated and will be removed from pandas in a future version. Use pandas.concat instead.\n",
      "  df = df.append(a_series, ignore_index=True)\n",
      "C:\\Users\\jthoma\\AppData\\Local\\Temp\\ipykernel_6852\\2457786483.py:39: FutureWarning: The frame.append method is deprecated and will be removed from pandas in a future version. Use pandas.concat instead.\n",
      "  df = df.append(a_series, ignore_index=True)\n"
     ]
    },
    {
     "name": "stdout",
     "output_type": "stream",
     "text": [
      "Could not append: ['... 91 92 93 94 95 96 97 98 99 100 ...', '...', '91', '92', '93', '94', '95', '96', '97', '98', '99', '100', '...']\n"
     ]
    },
    {
     "name": "stderr",
     "output_type": "stream",
     "text": [
      "C:\\Users\\jthoma\\AppData\\Local\\Temp\\ipykernel_6852\\2457786483.py:39: FutureWarning: The frame.append method is deprecated and will be removed from pandas in a future version. Use pandas.concat instead.\n",
      "  df = df.append(a_series, ignore_index=True)\n",
      "C:\\Users\\jthoma\\AppData\\Local\\Temp\\ipykernel_6852\\2457786483.py:38: FutureWarning: The default dtype for empty Series will be 'object' instead of 'float64' in a future version. Specify a dtype explicitly to silence this warning.\n",
      "  a_series = pd.Series(row_list, index = df.columns)\n"
     ]
    },
    {
     "name": "stdout",
     "output_type": "stream",
     "text": [
      "Could not append: []\n"
     ]
    },
    {
     "name": "stderr",
     "output_type": "stream",
     "text": [
      "C:\\Users\\jthoma\\AppData\\Local\\Temp\\ipykernel_6852\\2457786483.py:39: FutureWarning: The frame.append method is deprecated and will be removed from pandas in a future version. Use pandas.concat instead.\n",
      "  df = df.append(a_series, ignore_index=True)\n",
      "C:\\Users\\jthoma\\AppData\\Local\\Temp\\ipykernel_6852\\2457786483.py:39: FutureWarning: The frame.append method is deprecated and will be removed from pandas in a future version. Use pandas.concat instead.\n",
      "  df = df.append(a_series, ignore_index=True)\n",
      "C:\\Users\\jthoma\\AppData\\Local\\Temp\\ipykernel_6852\\2457786483.py:39: FutureWarning: The frame.append method is deprecated and will be removed from pandas in a future version. Use pandas.concat instead.\n",
      "  df = df.append(a_series, ignore_index=True)\n",
      "C:\\Users\\jthoma\\AppData\\Local\\Temp\\ipykernel_6852\\2457786483.py:39: FutureWarning: The frame.append method is deprecated and will be removed from pandas in a future version. Use pandas.concat instead.\n",
      "  df = df.append(a_series, ignore_index=True)\n",
      "C:\\Users\\jthoma\\AppData\\Local\\Temp\\ipykernel_6852\\2457786483.py:39: FutureWarning: The frame.append method is deprecated and will be removed from pandas in a future version. Use pandas.concat instead.\n",
      "  df = df.append(a_series, ignore_index=True)\n",
      "C:\\Users\\jthoma\\AppData\\Local\\Temp\\ipykernel_6852\\2457786483.py:39: FutureWarning: The frame.append method is deprecated and will be removed from pandas in a future version. Use pandas.concat instead.\n",
      "  df = df.append(a_series, ignore_index=True)\n",
      "C:\\Users\\jthoma\\AppData\\Local\\Temp\\ipykernel_6852\\2457786483.py:39: FutureWarning: The frame.append method is deprecated and will be removed from pandas in a future version. Use pandas.concat instead.\n",
      "  df = df.append(a_series, ignore_index=True)\n",
      "C:\\Users\\jthoma\\AppData\\Local\\Temp\\ipykernel_6852\\2457786483.py:39: FutureWarning: The frame.append method is deprecated and will be removed from pandas in a future version. Use pandas.concat instead.\n",
      "  df = df.append(a_series, ignore_index=True)\n",
      "C:\\Users\\jthoma\\AppData\\Local\\Temp\\ipykernel_6852\\2457786483.py:39: FutureWarning: The frame.append method is deprecated and will be removed from pandas in a future version. Use pandas.concat instead.\n",
      "  df = df.append(a_series, ignore_index=True)\n",
      "C:\\Users\\jthoma\\AppData\\Local\\Temp\\ipykernel_6852\\2457786483.py:39: FutureWarning: The frame.append method is deprecated and will be removed from pandas in a future version. Use pandas.concat instead.\n",
      "  df = df.append(a_series, ignore_index=True)\n"
     ]
    },
    {
     "name": "stdout",
     "output_type": "stream",
     "text": [
      "Could not append: ['... 91 92 93 94 95 96 97 98 99 100 ...', '...', '91', '92', '93', '94', '95', '96', '97', '98', '99', '100', '...']\n"
     ]
    },
    {
     "name": "stderr",
     "output_type": "stream",
     "text": [
      "C:\\Users\\jthoma\\AppData\\Local\\Temp\\ipykernel_6852\\2457786483.py:39: FutureWarning: The frame.append method is deprecated and will be removed from pandas in a future version. Use pandas.concat instead.\n",
      "  df = df.append(a_series, ignore_index=True)\n",
      "C:\\Users\\jthoma\\AppData\\Local\\Temp\\ipykernel_6852\\2457786483.py:38: FutureWarning: The default dtype for empty Series will be 'object' instead of 'float64' in a future version. Specify a dtype explicitly to silence this warning.\n",
      "  a_series = pd.Series(row_list, index = df.columns)\n"
     ]
    },
    {
     "name": "stdout",
     "output_type": "stream",
     "text": [
      "Could not append: []\n"
     ]
    },
    {
     "name": "stderr",
     "output_type": "stream",
     "text": [
      "C:\\Users\\jthoma\\AppData\\Local\\Temp\\ipykernel_6852\\2457786483.py:39: FutureWarning: The frame.append method is deprecated and will be removed from pandas in a future version. Use pandas.concat instead.\n",
      "  df = df.append(a_series, ignore_index=True)\n",
      "C:\\Users\\jthoma\\AppData\\Local\\Temp\\ipykernel_6852\\2457786483.py:39: FutureWarning: The frame.append method is deprecated and will be removed from pandas in a future version. Use pandas.concat instead.\n",
      "  df = df.append(a_series, ignore_index=True)\n",
      "C:\\Users\\jthoma\\AppData\\Local\\Temp\\ipykernel_6852\\2457786483.py:39: FutureWarning: The frame.append method is deprecated and will be removed from pandas in a future version. Use pandas.concat instead.\n",
      "  df = df.append(a_series, ignore_index=True)\n",
      "C:\\Users\\jthoma\\AppData\\Local\\Temp\\ipykernel_6852\\2457786483.py:39: FutureWarning: The frame.append method is deprecated and will be removed from pandas in a future version. Use pandas.concat instead.\n",
      "  df = df.append(a_series, ignore_index=True)\n",
      "C:\\Users\\jthoma\\AppData\\Local\\Temp\\ipykernel_6852\\2457786483.py:39: FutureWarning: The frame.append method is deprecated and will be removed from pandas in a future version. Use pandas.concat instead.\n",
      "  df = df.append(a_series, ignore_index=True)\n",
      "C:\\Users\\jthoma\\AppData\\Local\\Temp\\ipykernel_6852\\2457786483.py:39: FutureWarning: The frame.append method is deprecated and will be removed from pandas in a future version. Use pandas.concat instead.\n",
      "  df = df.append(a_series, ignore_index=True)\n",
      "C:\\Users\\jthoma\\AppData\\Local\\Temp\\ipykernel_6852\\2457786483.py:39: FutureWarning: The frame.append method is deprecated and will be removed from pandas in a future version. Use pandas.concat instead.\n",
      "  df = df.append(a_series, ignore_index=True)\n",
      "C:\\Users\\jthoma\\AppData\\Local\\Temp\\ipykernel_6852\\2457786483.py:39: FutureWarning: The frame.append method is deprecated and will be removed from pandas in a future version. Use pandas.concat instead.\n",
      "  df = df.append(a_series, ignore_index=True)\n",
      "C:\\Users\\jthoma\\AppData\\Local\\Temp\\ipykernel_6852\\2457786483.py:39: FutureWarning: The frame.append method is deprecated and will be removed from pandas in a future version. Use pandas.concat instead.\n",
      "  df = df.append(a_series, ignore_index=True)\n",
      "C:\\Users\\jthoma\\AppData\\Local\\Temp\\ipykernel_6852\\2457786483.py:39: FutureWarning: The frame.append method is deprecated and will be removed from pandas in a future version. Use pandas.concat instead.\n",
      "  df = df.append(a_series, ignore_index=True)\n"
     ]
    },
    {
     "name": "stdout",
     "output_type": "stream",
     "text": [
      "Could not append: ['... 91 92 93 94 95 96 97 98 99 100 ...', '...', '91', '92', '93', '94', '95', '96', '97', '98', '99', '100', '...']\n"
     ]
    },
    {
     "name": "stderr",
     "output_type": "stream",
     "text": [
      "C:\\Users\\jthoma\\AppData\\Local\\Temp\\ipykernel_6852\\2457786483.py:39: FutureWarning: The frame.append method is deprecated and will be removed from pandas in a future version. Use pandas.concat instead.\n",
      "  df = df.append(a_series, ignore_index=True)\n",
      "C:\\Users\\jthoma\\AppData\\Local\\Temp\\ipykernel_6852\\2457786483.py:38: FutureWarning: The default dtype for empty Series will be 'object' instead of 'float64' in a future version. Specify a dtype explicitly to silence this warning.\n",
      "  a_series = pd.Series(row_list, index = df.columns)\n"
     ]
    },
    {
     "name": "stdout",
     "output_type": "stream",
     "text": [
      "Could not append: []\n"
     ]
    },
    {
     "name": "stderr",
     "output_type": "stream",
     "text": [
      "C:\\Users\\jthoma\\AppData\\Local\\Temp\\ipykernel_6852\\2457786483.py:39: FutureWarning: The frame.append method is deprecated and will be removed from pandas in a future version. Use pandas.concat instead.\n",
      "  df = df.append(a_series, ignore_index=True)\n",
      "C:\\Users\\jthoma\\AppData\\Local\\Temp\\ipykernel_6852\\2457786483.py:39: FutureWarning: The frame.append method is deprecated and will be removed from pandas in a future version. Use pandas.concat instead.\n",
      "  df = df.append(a_series, ignore_index=True)\n",
      "C:\\Users\\jthoma\\AppData\\Local\\Temp\\ipykernel_6852\\2457786483.py:39: FutureWarning: The frame.append method is deprecated and will be removed from pandas in a future version. Use pandas.concat instead.\n",
      "  df = df.append(a_series, ignore_index=True)\n",
      "C:\\Users\\jthoma\\AppData\\Local\\Temp\\ipykernel_6852\\2457786483.py:39: FutureWarning: The frame.append method is deprecated and will be removed from pandas in a future version. Use pandas.concat instead.\n",
      "  df = df.append(a_series, ignore_index=True)\n",
      "C:\\Users\\jthoma\\AppData\\Local\\Temp\\ipykernel_6852\\2457786483.py:39: FutureWarning: The frame.append method is deprecated and will be removed from pandas in a future version. Use pandas.concat instead.\n",
      "  df = df.append(a_series, ignore_index=True)\n",
      "C:\\Users\\jthoma\\AppData\\Local\\Temp\\ipykernel_6852\\2457786483.py:39: FutureWarning: The frame.append method is deprecated and will be removed from pandas in a future version. Use pandas.concat instead.\n",
      "  df = df.append(a_series, ignore_index=True)\n",
      "C:\\Users\\jthoma\\AppData\\Local\\Temp\\ipykernel_6852\\2457786483.py:39: FutureWarning: The frame.append method is deprecated and will be removed from pandas in a future version. Use pandas.concat instead.\n",
      "  df = df.append(a_series, ignore_index=True)\n",
      "C:\\Users\\jthoma\\AppData\\Local\\Temp\\ipykernel_6852\\2457786483.py:39: FutureWarning: The frame.append method is deprecated and will be removed from pandas in a future version. Use pandas.concat instead.\n",
      "  df = df.append(a_series, ignore_index=True)\n",
      "C:\\Users\\jthoma\\AppData\\Local\\Temp\\ipykernel_6852\\2457786483.py:39: FutureWarning: The frame.append method is deprecated and will be removed from pandas in a future version. Use pandas.concat instead.\n",
      "  df = df.append(a_series, ignore_index=True)\n",
      "C:\\Users\\jthoma\\AppData\\Local\\Temp\\ipykernel_6852\\2457786483.py:39: FutureWarning: The frame.append method is deprecated and will be removed from pandas in a future version. Use pandas.concat instead.\n",
      "  df = df.append(a_series, ignore_index=True)\n"
     ]
    },
    {
     "name": "stdout",
     "output_type": "stream",
     "text": [
      "Could not append: ['... 91 92 93 94 95 96 97 98 99 100 ...', '...', '91', '92', '93', '94', '95', '96', '97', '98', '99', '100', '...']\n"
     ]
    },
    {
     "name": "stderr",
     "output_type": "stream",
     "text": [
      "C:\\Users\\jthoma\\AppData\\Local\\Temp\\ipykernel_6852\\2457786483.py:39: FutureWarning: The frame.append method is deprecated and will be removed from pandas in a future version. Use pandas.concat instead.\n",
      "  df = df.append(a_series, ignore_index=True)\n",
      "C:\\Users\\jthoma\\AppData\\Local\\Temp\\ipykernel_6852\\2457786483.py:38: FutureWarning: The default dtype for empty Series will be 'object' instead of 'float64' in a future version. Specify a dtype explicitly to silence this warning.\n",
      "  a_series = pd.Series(row_list, index = df.columns)\n"
     ]
    },
    {
     "name": "stdout",
     "output_type": "stream",
     "text": [
      "Could not append: []\n"
     ]
    },
    {
     "name": "stderr",
     "output_type": "stream",
     "text": [
      "C:\\Users\\jthoma\\AppData\\Local\\Temp\\ipykernel_6852\\2457786483.py:39: FutureWarning: The frame.append method is deprecated and will be removed from pandas in a future version. Use pandas.concat instead.\n",
      "  df = df.append(a_series, ignore_index=True)\n",
      "C:\\Users\\jthoma\\AppData\\Local\\Temp\\ipykernel_6852\\2457786483.py:39: FutureWarning: The frame.append method is deprecated and will be removed from pandas in a future version. Use pandas.concat instead.\n",
      "  df = df.append(a_series, ignore_index=True)\n",
      "C:\\Users\\jthoma\\AppData\\Local\\Temp\\ipykernel_6852\\2457786483.py:39: FutureWarning: The frame.append method is deprecated and will be removed from pandas in a future version. Use pandas.concat instead.\n",
      "  df = df.append(a_series, ignore_index=True)\n",
      "C:\\Users\\jthoma\\AppData\\Local\\Temp\\ipykernel_6852\\2457786483.py:39: FutureWarning: The frame.append method is deprecated and will be removed from pandas in a future version. Use pandas.concat instead.\n",
      "  df = df.append(a_series, ignore_index=True)\n",
      "C:\\Users\\jthoma\\AppData\\Local\\Temp\\ipykernel_6852\\2457786483.py:39: FutureWarning: The frame.append method is deprecated and will be removed from pandas in a future version. Use pandas.concat instead.\n",
      "  df = df.append(a_series, ignore_index=True)\n",
      "C:\\Users\\jthoma\\AppData\\Local\\Temp\\ipykernel_6852\\2457786483.py:39: FutureWarning: The frame.append method is deprecated and will be removed from pandas in a future version. Use pandas.concat instead.\n",
      "  df = df.append(a_series, ignore_index=True)\n",
      "C:\\Users\\jthoma\\AppData\\Local\\Temp\\ipykernel_6852\\2457786483.py:39: FutureWarning: The frame.append method is deprecated and will be removed from pandas in a future version. Use pandas.concat instead.\n",
      "  df = df.append(a_series, ignore_index=True)\n",
      "C:\\Users\\jthoma\\AppData\\Local\\Temp\\ipykernel_6852\\2457786483.py:39: FutureWarning: The frame.append method is deprecated and will be removed from pandas in a future version. Use pandas.concat instead.\n",
      "  df = df.append(a_series, ignore_index=True)\n",
      "C:\\Users\\jthoma\\AppData\\Local\\Temp\\ipykernel_6852\\2457786483.py:39: FutureWarning: The frame.append method is deprecated and will be removed from pandas in a future version. Use pandas.concat instead.\n",
      "  df = df.append(a_series, ignore_index=True)\n",
      "C:\\Users\\jthoma\\AppData\\Local\\Temp\\ipykernel_6852\\2457786483.py:39: FutureWarning: The frame.append method is deprecated and will be removed from pandas in a future version. Use pandas.concat instead.\n",
      "  df = df.append(a_series, ignore_index=True)\n"
     ]
    },
    {
     "name": "stdout",
     "output_type": "stream",
     "text": [
      "Could not append: ['... 91 92 93 94 95 96 97 98 99 100 ...', '...', '91', '92', '93', '94', '95', '96', '97', '98', '99', '100', '...']\n"
     ]
    },
    {
     "name": "stderr",
     "output_type": "stream",
     "text": [
      "C:\\Users\\jthoma\\AppData\\Local\\Temp\\ipykernel_6852\\2457786483.py:39: FutureWarning: The frame.append method is deprecated and will be removed from pandas in a future version. Use pandas.concat instead.\n",
      "  df = df.append(a_series, ignore_index=True)\n",
      "C:\\Users\\jthoma\\AppData\\Local\\Temp\\ipykernel_6852\\2457786483.py:38: FutureWarning: The default dtype for empty Series will be 'object' instead of 'float64' in a future version. Specify a dtype explicitly to silence this warning.\n",
      "  a_series = pd.Series(row_list, index = df.columns)\n"
     ]
    },
    {
     "name": "stdout",
     "output_type": "stream",
     "text": [
      "Could not append: []\n"
     ]
    },
    {
     "name": "stderr",
     "output_type": "stream",
     "text": [
      "C:\\Users\\jthoma\\AppData\\Local\\Temp\\ipykernel_6852\\2457786483.py:39: FutureWarning: The frame.append method is deprecated and will be removed from pandas in a future version. Use pandas.concat instead.\n",
      "  df = df.append(a_series, ignore_index=True)\n",
      "C:\\Users\\jthoma\\AppData\\Local\\Temp\\ipykernel_6852\\2457786483.py:39: FutureWarning: The frame.append method is deprecated and will be removed from pandas in a future version. Use pandas.concat instead.\n",
      "  df = df.append(a_series, ignore_index=True)\n",
      "C:\\Users\\jthoma\\AppData\\Local\\Temp\\ipykernel_6852\\2457786483.py:39: FutureWarning: The frame.append method is deprecated and will be removed from pandas in a future version. Use pandas.concat instead.\n",
      "  df = df.append(a_series, ignore_index=True)\n",
      "C:\\Users\\jthoma\\AppData\\Local\\Temp\\ipykernel_6852\\2457786483.py:39: FutureWarning: The frame.append method is deprecated and will be removed from pandas in a future version. Use pandas.concat instead.\n",
      "  df = df.append(a_series, ignore_index=True)\n",
      "C:\\Users\\jthoma\\AppData\\Local\\Temp\\ipykernel_6852\\2457786483.py:39: FutureWarning: The frame.append method is deprecated and will be removed from pandas in a future version. Use pandas.concat instead.\n",
      "  df = df.append(a_series, ignore_index=True)\n",
      "C:\\Users\\jthoma\\AppData\\Local\\Temp\\ipykernel_6852\\2457786483.py:39: FutureWarning: The frame.append method is deprecated and will be removed from pandas in a future version. Use pandas.concat instead.\n",
      "  df = df.append(a_series, ignore_index=True)\n",
      "C:\\Users\\jthoma\\AppData\\Local\\Temp\\ipykernel_6852\\2457786483.py:39: FutureWarning: The frame.append method is deprecated and will be removed from pandas in a future version. Use pandas.concat instead.\n",
      "  df = df.append(a_series, ignore_index=True)\n",
      "C:\\Users\\jthoma\\AppData\\Local\\Temp\\ipykernel_6852\\2457786483.py:39: FutureWarning: The frame.append method is deprecated and will be removed from pandas in a future version. Use pandas.concat instead.\n",
      "  df = df.append(a_series, ignore_index=True)\n",
      "C:\\Users\\jthoma\\AppData\\Local\\Temp\\ipykernel_6852\\2457786483.py:39: FutureWarning: The frame.append method is deprecated and will be removed from pandas in a future version. Use pandas.concat instead.\n",
      "  df = df.append(a_series, ignore_index=True)\n",
      "C:\\Users\\jthoma\\AppData\\Local\\Temp\\ipykernel_6852\\2457786483.py:39: FutureWarning: The frame.append method is deprecated and will be removed from pandas in a future version. Use pandas.concat instead.\n",
      "  df = df.append(a_series, ignore_index=True)\n"
     ]
    },
    {
     "name": "stdout",
     "output_type": "stream",
     "text": [
      "Could not append: ['... 91 92 93 94 95 96 97 98 99 100 ...', '...', '91', '92', '93', '94', '95', '96', '97', '98', '99', '100', '...']\n"
     ]
    },
    {
     "name": "stderr",
     "output_type": "stream",
     "text": [
      "C:\\Users\\jthoma\\AppData\\Local\\Temp\\ipykernel_6852\\2457786483.py:39: FutureWarning: The frame.append method is deprecated and will be removed from pandas in a future version. Use pandas.concat instead.\n",
      "  df = df.append(a_series, ignore_index=True)\n",
      "C:\\Users\\jthoma\\AppData\\Local\\Temp\\ipykernel_6852\\2457786483.py:38: FutureWarning: The default dtype for empty Series will be 'object' instead of 'float64' in a future version. Specify a dtype explicitly to silence this warning.\n",
      "  a_series = pd.Series(row_list, index = df.columns)\n"
     ]
    },
    {
     "name": "stdout",
     "output_type": "stream",
     "text": [
      "Could not append: []\n"
     ]
    },
    {
     "name": "stderr",
     "output_type": "stream",
     "text": [
      "C:\\Users\\jthoma\\AppData\\Local\\Temp\\ipykernel_6852\\2457786483.py:39: FutureWarning: The frame.append method is deprecated and will be removed from pandas in a future version. Use pandas.concat instead.\n",
      "  df = df.append(a_series, ignore_index=True)\n",
      "C:\\Users\\jthoma\\AppData\\Local\\Temp\\ipykernel_6852\\2457786483.py:39: FutureWarning: The frame.append method is deprecated and will be removed from pandas in a future version. Use pandas.concat instead.\n",
      "  df = df.append(a_series, ignore_index=True)\n",
      "C:\\Users\\jthoma\\AppData\\Local\\Temp\\ipykernel_6852\\2457786483.py:39: FutureWarning: The frame.append method is deprecated and will be removed from pandas in a future version. Use pandas.concat instead.\n",
      "  df = df.append(a_series, ignore_index=True)\n",
      "C:\\Users\\jthoma\\AppData\\Local\\Temp\\ipykernel_6852\\2457786483.py:39: FutureWarning: The frame.append method is deprecated and will be removed from pandas in a future version. Use pandas.concat instead.\n",
      "  df = df.append(a_series, ignore_index=True)\n",
      "C:\\Users\\jthoma\\AppData\\Local\\Temp\\ipykernel_6852\\2457786483.py:39: FutureWarning: The frame.append method is deprecated and will be removed from pandas in a future version. Use pandas.concat instead.\n",
      "  df = df.append(a_series, ignore_index=True)\n",
      "C:\\Users\\jthoma\\AppData\\Local\\Temp\\ipykernel_6852\\2457786483.py:39: FutureWarning: The frame.append method is deprecated and will be removed from pandas in a future version. Use pandas.concat instead.\n",
      "  df = df.append(a_series, ignore_index=True)\n",
      "C:\\Users\\jthoma\\AppData\\Local\\Temp\\ipykernel_6852\\2457786483.py:39: FutureWarning: The frame.append method is deprecated and will be removed from pandas in a future version. Use pandas.concat instead.\n",
      "  df = df.append(a_series, ignore_index=True)\n",
      "C:\\Users\\jthoma\\AppData\\Local\\Temp\\ipykernel_6852\\2457786483.py:39: FutureWarning: The frame.append method is deprecated and will be removed from pandas in a future version. Use pandas.concat instead.\n",
      "  df = df.append(a_series, ignore_index=True)\n",
      "C:\\Users\\jthoma\\AppData\\Local\\Temp\\ipykernel_6852\\2457786483.py:39: FutureWarning: The frame.append method is deprecated and will be removed from pandas in a future version. Use pandas.concat instead.\n",
      "  df = df.append(a_series, ignore_index=True)\n",
      "C:\\Users\\jthoma\\AppData\\Local\\Temp\\ipykernel_6852\\2457786483.py:39: FutureWarning: The frame.append method is deprecated and will be removed from pandas in a future version. Use pandas.concat instead.\n",
      "  df = df.append(a_series, ignore_index=True)\n",
      "C:\\Users\\jthoma\\AppData\\Local\\Temp\\ipykernel_6852\\2457786483.py:39: FutureWarning: The frame.append method is deprecated and will be removed from pandas in a future version. Use pandas.concat instead.\n",
      "  df = df.append(a_series, ignore_index=True)\n"
     ]
    },
    {
     "name": "stdout",
     "output_type": "stream",
     "text": [
      "Could not append: ['...', '101', '102', '103', '104', '105', '106', '107', '108', '109', '110']\n"
     ]
    },
    {
     "name": "stderr",
     "output_type": "stream",
     "text": [
      "C:\\Users\\jthoma\\AppData\\Local\\Temp\\ipykernel_6852\\2457786483.py:38: FutureWarning: The default dtype for empty Series will be 'object' instead of 'float64' in a future version. Specify a dtype explicitly to silence this warning.\n",
      "  a_series = pd.Series(row_list, index = df.columns)\n"
     ]
    },
    {
     "name": "stdout",
     "output_type": "stream",
     "text": [
      "Could not append: []\n"
     ]
    },
    {
     "name": "stderr",
     "output_type": "stream",
     "text": [
      "C:\\Users\\jthoma\\AppData\\Local\\Temp\\ipykernel_6852\\2457786483.py:39: FutureWarning: The frame.append method is deprecated and will be removed from pandas in a future version. Use pandas.concat instead.\n",
      "  df = df.append(a_series, ignore_index=True)\n",
      "C:\\Users\\jthoma\\AppData\\Local\\Temp\\ipykernel_6852\\2457786483.py:39: FutureWarning: The frame.append method is deprecated and will be removed from pandas in a future version. Use pandas.concat instead.\n",
      "  df = df.append(a_series, ignore_index=True)\n",
      "C:\\Users\\jthoma\\AppData\\Local\\Temp\\ipykernel_6852\\2457786483.py:39: FutureWarning: The frame.append method is deprecated and will be removed from pandas in a future version. Use pandas.concat instead.\n",
      "  df = df.append(a_series, ignore_index=True)\n",
      "C:\\Users\\jthoma\\AppData\\Local\\Temp\\ipykernel_6852\\2457786483.py:39: FutureWarning: The frame.append method is deprecated and will be removed from pandas in a future version. Use pandas.concat instead.\n",
      "  df = df.append(a_series, ignore_index=True)\n",
      "C:\\Users\\jthoma\\AppData\\Local\\Temp\\ipykernel_6852\\2457786483.py:39: FutureWarning: The frame.append method is deprecated and will be removed from pandas in a future version. Use pandas.concat instead.\n",
      "  df = df.append(a_series, ignore_index=True)\n",
      "C:\\Users\\jthoma\\AppData\\Local\\Temp\\ipykernel_6852\\2457786483.py:39: FutureWarning: The frame.append method is deprecated and will be removed from pandas in a future version. Use pandas.concat instead.\n",
      "  df = df.append(a_series, ignore_index=True)\n",
      "C:\\Users\\jthoma\\AppData\\Local\\Temp\\ipykernel_6852\\2457786483.py:39: FutureWarning: The frame.append method is deprecated and will be removed from pandas in a future version. Use pandas.concat instead.\n",
      "  df = df.append(a_series, ignore_index=True)\n",
      "C:\\Users\\jthoma\\AppData\\Local\\Temp\\ipykernel_6852\\2457786483.py:39: FutureWarning: The frame.append method is deprecated and will be removed from pandas in a future version. Use pandas.concat instead.\n",
      "  df = df.append(a_series, ignore_index=True)\n",
      "C:\\Users\\jthoma\\AppData\\Local\\Temp\\ipykernel_6852\\2457786483.py:39: FutureWarning: The frame.append method is deprecated and will be removed from pandas in a future version. Use pandas.concat instead.\n",
      "  df = df.append(a_series, ignore_index=True)\n",
      "C:\\Users\\jthoma\\AppData\\Local\\Temp\\ipykernel_6852\\2457786483.py:39: FutureWarning: The frame.append method is deprecated and will be removed from pandas in a future version. Use pandas.concat instead.\n",
      "  df = df.append(a_series, ignore_index=True)\n",
      "C:\\Users\\jthoma\\AppData\\Local\\Temp\\ipykernel_6852\\2457786483.py:39: FutureWarning: The frame.append method is deprecated and will be removed from pandas in a future version. Use pandas.concat instead.\n",
      "  df = df.append(a_series, ignore_index=True)\n"
     ]
    },
    {
     "name": "stdout",
     "output_type": "stream",
     "text": [
      "Could not append: ['...', '101', '102', '103', '104', '105', '106', '107', '108', '109', '110']\n"
     ]
    },
    {
     "name": "stderr",
     "output_type": "stream",
     "text": [
      "C:\\Users\\jthoma\\AppData\\Local\\Temp\\ipykernel_6852\\2457786483.py:38: FutureWarning: The default dtype for empty Series will be 'object' instead of 'float64' in a future version. Specify a dtype explicitly to silence this warning.\n",
      "  a_series = pd.Series(row_list, index = df.columns)\n"
     ]
    },
    {
     "name": "stdout",
     "output_type": "stream",
     "text": [
      "Could not append: []\n"
     ]
    },
    {
     "name": "stderr",
     "output_type": "stream",
     "text": [
      "C:\\Users\\jthoma\\AppData\\Local\\Temp\\ipykernel_6852\\2457786483.py:39: FutureWarning: The frame.append method is deprecated and will be removed from pandas in a future version. Use pandas.concat instead.\n",
      "  df = df.append(a_series, ignore_index=True)\n",
      "C:\\Users\\jthoma\\AppData\\Local\\Temp\\ipykernel_6852\\2457786483.py:39: FutureWarning: The frame.append method is deprecated and will be removed from pandas in a future version. Use pandas.concat instead.\n",
      "  df = df.append(a_series, ignore_index=True)\n",
      "C:\\Users\\jthoma\\AppData\\Local\\Temp\\ipykernel_6852\\2457786483.py:39: FutureWarning: The frame.append method is deprecated and will be removed from pandas in a future version. Use pandas.concat instead.\n",
      "  df = df.append(a_series, ignore_index=True)\n",
      "C:\\Users\\jthoma\\AppData\\Local\\Temp\\ipykernel_6852\\2457786483.py:39: FutureWarning: The frame.append method is deprecated and will be removed from pandas in a future version. Use pandas.concat instead.\n",
      "  df = df.append(a_series, ignore_index=True)\n",
      "C:\\Users\\jthoma\\AppData\\Local\\Temp\\ipykernel_6852\\2457786483.py:39: FutureWarning: The frame.append method is deprecated and will be removed from pandas in a future version. Use pandas.concat instead.\n",
      "  df = df.append(a_series, ignore_index=True)\n",
      "C:\\Users\\jthoma\\AppData\\Local\\Temp\\ipykernel_6852\\2457786483.py:39: FutureWarning: The frame.append method is deprecated and will be removed from pandas in a future version. Use pandas.concat instead.\n",
      "  df = df.append(a_series, ignore_index=True)\n",
      "C:\\Users\\jthoma\\AppData\\Local\\Temp\\ipykernel_6852\\2457786483.py:39: FutureWarning: The frame.append method is deprecated and will be removed from pandas in a future version. Use pandas.concat instead.\n",
      "  df = df.append(a_series, ignore_index=True)\n",
      "C:\\Users\\jthoma\\AppData\\Local\\Temp\\ipykernel_6852\\2457786483.py:39: FutureWarning: The frame.append method is deprecated and will be removed from pandas in a future version. Use pandas.concat instead.\n",
      "  df = df.append(a_series, ignore_index=True)\n",
      "C:\\Users\\jthoma\\AppData\\Local\\Temp\\ipykernel_6852\\2457786483.py:39: FutureWarning: The frame.append method is deprecated and will be removed from pandas in a future version. Use pandas.concat instead.\n",
      "  df = df.append(a_series, ignore_index=True)\n",
      "C:\\Users\\jthoma\\AppData\\Local\\Temp\\ipykernel_6852\\2457786483.py:39: FutureWarning: The frame.append method is deprecated and will be removed from pandas in a future version. Use pandas.concat instead.\n",
      "  df = df.append(a_series, ignore_index=True)\n",
      "C:\\Users\\jthoma\\AppData\\Local\\Temp\\ipykernel_6852\\2457786483.py:39: FutureWarning: The frame.append method is deprecated and will be removed from pandas in a future version. Use pandas.concat instead.\n",
      "  df = df.append(a_series, ignore_index=True)\n"
     ]
    },
    {
     "name": "stdout",
     "output_type": "stream",
     "text": [
      "Could not append: ['...', '101', '102', '103', '104', '105', '106', '107', '108', '109', '110']\n"
     ]
    },
    {
     "name": "stderr",
     "output_type": "stream",
     "text": [
      "C:\\Users\\jthoma\\AppData\\Local\\Temp\\ipykernel_6852\\2457786483.py:38: FutureWarning: The default dtype for empty Series will be 'object' instead of 'float64' in a future version. Specify a dtype explicitly to silence this warning.\n",
      "  a_series = pd.Series(row_list, index = df.columns)\n"
     ]
    },
    {
     "name": "stdout",
     "output_type": "stream",
     "text": [
      "Could not append: []\n"
     ]
    },
    {
     "name": "stderr",
     "output_type": "stream",
     "text": [
      "C:\\Users\\jthoma\\AppData\\Local\\Temp\\ipykernel_6852\\2457786483.py:39: FutureWarning: The frame.append method is deprecated and will be removed from pandas in a future version. Use pandas.concat instead.\n",
      "  df = df.append(a_series, ignore_index=True)\n",
      "C:\\Users\\jthoma\\AppData\\Local\\Temp\\ipykernel_6852\\2457786483.py:39: FutureWarning: The frame.append method is deprecated and will be removed from pandas in a future version. Use pandas.concat instead.\n",
      "  df = df.append(a_series, ignore_index=True)\n",
      "C:\\Users\\jthoma\\AppData\\Local\\Temp\\ipykernel_6852\\2457786483.py:39: FutureWarning: The frame.append method is deprecated and will be removed from pandas in a future version. Use pandas.concat instead.\n",
      "  df = df.append(a_series, ignore_index=True)\n",
      "C:\\Users\\jthoma\\AppData\\Local\\Temp\\ipykernel_6852\\2457786483.py:39: FutureWarning: The frame.append method is deprecated and will be removed from pandas in a future version. Use pandas.concat instead.\n",
      "  df = df.append(a_series, ignore_index=True)\n",
      "C:\\Users\\jthoma\\AppData\\Local\\Temp\\ipykernel_6852\\2457786483.py:39: FutureWarning: The frame.append method is deprecated and will be removed from pandas in a future version. Use pandas.concat instead.\n",
      "  df = df.append(a_series, ignore_index=True)\n",
      "C:\\Users\\jthoma\\AppData\\Local\\Temp\\ipykernel_6852\\2457786483.py:39: FutureWarning: The frame.append method is deprecated and will be removed from pandas in a future version. Use pandas.concat instead.\n",
      "  df = df.append(a_series, ignore_index=True)\n",
      "C:\\Users\\jthoma\\AppData\\Local\\Temp\\ipykernel_6852\\2457786483.py:39: FutureWarning: The frame.append method is deprecated and will be removed from pandas in a future version. Use pandas.concat instead.\n",
      "  df = df.append(a_series, ignore_index=True)\n",
      "C:\\Users\\jthoma\\AppData\\Local\\Temp\\ipykernel_6852\\2457786483.py:39: FutureWarning: The frame.append method is deprecated and will be removed from pandas in a future version. Use pandas.concat instead.\n",
      "  df = df.append(a_series, ignore_index=True)\n",
      "C:\\Users\\jthoma\\AppData\\Local\\Temp\\ipykernel_6852\\2457786483.py:39: FutureWarning: The frame.append method is deprecated and will be removed from pandas in a future version. Use pandas.concat instead.\n",
      "  df = df.append(a_series, ignore_index=True)\n",
      "C:\\Users\\jthoma\\AppData\\Local\\Temp\\ipykernel_6852\\2457786483.py:39: FutureWarning: The frame.append method is deprecated and will be removed from pandas in a future version. Use pandas.concat instead.\n",
      "  df = df.append(a_series, ignore_index=True)\n",
      "C:\\Users\\jthoma\\AppData\\Local\\Temp\\ipykernel_6852\\2457786483.py:39: FutureWarning: The frame.append method is deprecated and will be removed from pandas in a future version. Use pandas.concat instead.\n",
      "  df = df.append(a_series, ignore_index=True)\n"
     ]
    },
    {
     "name": "stdout",
     "output_type": "stream",
     "text": [
      "Could not append: ['...', '101', '102', '103', '104', '105', '106', '107', '108', '109', '110']\n"
     ]
    },
    {
     "name": "stderr",
     "output_type": "stream",
     "text": [
      "C:\\Users\\jthoma\\AppData\\Local\\Temp\\ipykernel_6852\\2457786483.py:38: FutureWarning: The default dtype for empty Series will be 'object' instead of 'float64' in a future version. Specify a dtype explicitly to silence this warning.\n",
      "  a_series = pd.Series(row_list, index = df.columns)\n"
     ]
    },
    {
     "name": "stdout",
     "output_type": "stream",
     "text": [
      "Could not append: []\n"
     ]
    },
    {
     "name": "stderr",
     "output_type": "stream",
     "text": [
      "C:\\Users\\jthoma\\AppData\\Local\\Temp\\ipykernel_6852\\2457786483.py:39: FutureWarning: The frame.append method is deprecated and will be removed from pandas in a future version. Use pandas.concat instead.\n",
      "  df = df.append(a_series, ignore_index=True)\n",
      "C:\\Users\\jthoma\\AppData\\Local\\Temp\\ipykernel_6852\\2457786483.py:39: FutureWarning: The frame.append method is deprecated and will be removed from pandas in a future version. Use pandas.concat instead.\n",
      "  df = df.append(a_series, ignore_index=True)\n",
      "C:\\Users\\jthoma\\AppData\\Local\\Temp\\ipykernel_6852\\2457786483.py:39: FutureWarning: The frame.append method is deprecated and will be removed from pandas in a future version. Use pandas.concat instead.\n",
      "  df = df.append(a_series, ignore_index=True)\n",
      "C:\\Users\\jthoma\\AppData\\Local\\Temp\\ipykernel_6852\\2457786483.py:39: FutureWarning: The frame.append method is deprecated and will be removed from pandas in a future version. Use pandas.concat instead.\n",
      "  df = df.append(a_series, ignore_index=True)\n",
      "C:\\Users\\jthoma\\AppData\\Local\\Temp\\ipykernel_6852\\2457786483.py:39: FutureWarning: The frame.append method is deprecated and will be removed from pandas in a future version. Use pandas.concat instead.\n",
      "  df = df.append(a_series, ignore_index=True)\n",
      "C:\\Users\\jthoma\\AppData\\Local\\Temp\\ipykernel_6852\\2457786483.py:39: FutureWarning: The frame.append method is deprecated and will be removed from pandas in a future version. Use pandas.concat instead.\n",
      "  df = df.append(a_series, ignore_index=True)\n",
      "C:\\Users\\jthoma\\AppData\\Local\\Temp\\ipykernel_6852\\2457786483.py:39: FutureWarning: The frame.append method is deprecated and will be removed from pandas in a future version. Use pandas.concat instead.\n",
      "  df = df.append(a_series, ignore_index=True)\n",
      "C:\\Users\\jthoma\\AppData\\Local\\Temp\\ipykernel_6852\\2457786483.py:39: FutureWarning: The frame.append method is deprecated and will be removed from pandas in a future version. Use pandas.concat instead.\n",
      "  df = df.append(a_series, ignore_index=True)\n",
      "C:\\Users\\jthoma\\AppData\\Local\\Temp\\ipykernel_6852\\2457786483.py:39: FutureWarning: The frame.append method is deprecated and will be removed from pandas in a future version. Use pandas.concat instead.\n",
      "  df = df.append(a_series, ignore_index=True)\n",
      "C:\\Users\\jthoma\\AppData\\Local\\Temp\\ipykernel_6852\\2457786483.py:39: FutureWarning: The frame.append method is deprecated and will be removed from pandas in a future version. Use pandas.concat instead.\n",
      "  df = df.append(a_series, ignore_index=True)\n",
      "C:\\Users\\jthoma\\AppData\\Local\\Temp\\ipykernel_6852\\2457786483.py:39: FutureWarning: The frame.append method is deprecated and will be removed from pandas in a future version. Use pandas.concat instead.\n",
      "  df = df.append(a_series, ignore_index=True)\n"
     ]
    },
    {
     "name": "stdout",
     "output_type": "stream",
     "text": [
      "Could not append: ['...', '101', '102', '103', '104', '105', '106', '107', '108', '109', '110']\n"
     ]
    },
    {
     "name": "stderr",
     "output_type": "stream",
     "text": [
      "C:\\Users\\jthoma\\AppData\\Local\\Temp\\ipykernel_6852\\2457786483.py:38: FutureWarning: The default dtype for empty Series will be 'object' instead of 'float64' in a future version. Specify a dtype explicitly to silence this warning.\n",
      "  a_series = pd.Series(row_list, index = df.columns)\n"
     ]
    },
    {
     "name": "stdout",
     "output_type": "stream",
     "text": [
      "Could not append: []\n"
     ]
    },
    {
     "name": "stderr",
     "output_type": "stream",
     "text": [
      "C:\\Users\\jthoma\\AppData\\Local\\Temp\\ipykernel_6852\\2457786483.py:39: FutureWarning: The frame.append method is deprecated and will be removed from pandas in a future version. Use pandas.concat instead.\n",
      "  df = df.append(a_series, ignore_index=True)\n",
      "C:\\Users\\jthoma\\AppData\\Local\\Temp\\ipykernel_6852\\2457786483.py:39: FutureWarning: The frame.append method is deprecated and will be removed from pandas in a future version. Use pandas.concat instead.\n",
      "  df = df.append(a_series, ignore_index=True)\n",
      "C:\\Users\\jthoma\\AppData\\Local\\Temp\\ipykernel_6852\\2457786483.py:39: FutureWarning: The frame.append method is deprecated and will be removed from pandas in a future version. Use pandas.concat instead.\n",
      "  df = df.append(a_series, ignore_index=True)\n",
      "C:\\Users\\jthoma\\AppData\\Local\\Temp\\ipykernel_6852\\2457786483.py:39: FutureWarning: The frame.append method is deprecated and will be removed from pandas in a future version. Use pandas.concat instead.\n",
      "  df = df.append(a_series, ignore_index=True)\n",
      "C:\\Users\\jthoma\\AppData\\Local\\Temp\\ipykernel_6852\\2457786483.py:39: FutureWarning: The frame.append method is deprecated and will be removed from pandas in a future version. Use pandas.concat instead.\n",
      "  df = df.append(a_series, ignore_index=True)\n",
      "C:\\Users\\jthoma\\AppData\\Local\\Temp\\ipykernel_6852\\2457786483.py:39: FutureWarning: The frame.append method is deprecated and will be removed from pandas in a future version. Use pandas.concat instead.\n",
      "  df = df.append(a_series, ignore_index=True)\n",
      "C:\\Users\\jthoma\\AppData\\Local\\Temp\\ipykernel_6852\\2457786483.py:39: FutureWarning: The frame.append method is deprecated and will be removed from pandas in a future version. Use pandas.concat instead.\n",
      "  df = df.append(a_series, ignore_index=True)\n",
      "C:\\Users\\jthoma\\AppData\\Local\\Temp\\ipykernel_6852\\2457786483.py:39: FutureWarning: The frame.append method is deprecated and will be removed from pandas in a future version. Use pandas.concat instead.\n",
      "  df = df.append(a_series, ignore_index=True)\n",
      "C:\\Users\\jthoma\\AppData\\Local\\Temp\\ipykernel_6852\\2457786483.py:39: FutureWarning: The frame.append method is deprecated and will be removed from pandas in a future version. Use pandas.concat instead.\n",
      "  df = df.append(a_series, ignore_index=True)\n",
      "C:\\Users\\jthoma\\AppData\\Local\\Temp\\ipykernel_6852\\2457786483.py:39: FutureWarning: The frame.append method is deprecated and will be removed from pandas in a future version. Use pandas.concat instead.\n",
      "  df = df.append(a_series, ignore_index=True)\n",
      "C:\\Users\\jthoma\\AppData\\Local\\Temp\\ipykernel_6852\\2457786483.py:39: FutureWarning: The frame.append method is deprecated and will be removed from pandas in a future version. Use pandas.concat instead.\n",
      "  df = df.append(a_series, ignore_index=True)\n"
     ]
    },
    {
     "name": "stdout",
     "output_type": "stream",
     "text": [
      "Could not append: ['...', '101', '102', '103', '104', '105', '106', '107', '108', '109', '110']\n"
     ]
    },
    {
     "name": "stderr",
     "output_type": "stream",
     "text": [
      "C:\\Users\\jthoma\\AppData\\Local\\Temp\\ipykernel_6852\\2457786483.py:38: FutureWarning: The default dtype for empty Series will be 'object' instead of 'float64' in a future version. Specify a dtype explicitly to silence this warning.\n",
      "  a_series = pd.Series(row_list, index = df.columns)\n"
     ]
    },
    {
     "name": "stdout",
     "output_type": "stream",
     "text": [
      "Could not append: []\n"
     ]
    },
    {
     "name": "stderr",
     "output_type": "stream",
     "text": [
      "C:\\Users\\jthoma\\AppData\\Local\\Temp\\ipykernel_6852\\2457786483.py:39: FutureWarning: The frame.append method is deprecated and will be removed from pandas in a future version. Use pandas.concat instead.\n",
      "  df = df.append(a_series, ignore_index=True)\n",
      "C:\\Users\\jthoma\\AppData\\Local\\Temp\\ipykernel_6852\\2457786483.py:39: FutureWarning: The frame.append method is deprecated and will be removed from pandas in a future version. Use pandas.concat instead.\n",
      "  df = df.append(a_series, ignore_index=True)\n",
      "C:\\Users\\jthoma\\AppData\\Local\\Temp\\ipykernel_6852\\2457786483.py:39: FutureWarning: The frame.append method is deprecated and will be removed from pandas in a future version. Use pandas.concat instead.\n",
      "  df = df.append(a_series, ignore_index=True)\n",
      "C:\\Users\\jthoma\\AppData\\Local\\Temp\\ipykernel_6852\\2457786483.py:39: FutureWarning: The frame.append method is deprecated and will be removed from pandas in a future version. Use pandas.concat instead.\n",
      "  df = df.append(a_series, ignore_index=True)\n",
      "C:\\Users\\jthoma\\AppData\\Local\\Temp\\ipykernel_6852\\2457786483.py:39: FutureWarning: The frame.append method is deprecated and will be removed from pandas in a future version. Use pandas.concat instead.\n",
      "  df = df.append(a_series, ignore_index=True)\n",
      "C:\\Users\\jthoma\\AppData\\Local\\Temp\\ipykernel_6852\\2457786483.py:39: FutureWarning: The frame.append method is deprecated and will be removed from pandas in a future version. Use pandas.concat instead.\n",
      "  df = df.append(a_series, ignore_index=True)\n",
      "C:\\Users\\jthoma\\AppData\\Local\\Temp\\ipykernel_6852\\2457786483.py:39: FutureWarning: The frame.append method is deprecated and will be removed from pandas in a future version. Use pandas.concat instead.\n",
      "  df = df.append(a_series, ignore_index=True)\n",
      "C:\\Users\\jthoma\\AppData\\Local\\Temp\\ipykernel_6852\\2457786483.py:39: FutureWarning: The frame.append method is deprecated and will be removed from pandas in a future version. Use pandas.concat instead.\n",
      "  df = df.append(a_series, ignore_index=True)\n",
      "C:\\Users\\jthoma\\AppData\\Local\\Temp\\ipykernel_6852\\2457786483.py:39: FutureWarning: The frame.append method is deprecated and will be removed from pandas in a future version. Use pandas.concat instead.\n",
      "  df = df.append(a_series, ignore_index=True)\n",
      "C:\\Users\\jthoma\\AppData\\Local\\Temp\\ipykernel_6852\\2457786483.py:39: FutureWarning: The frame.append method is deprecated and will be removed from pandas in a future version. Use pandas.concat instead.\n",
      "  df = df.append(a_series, ignore_index=True)\n",
      "C:\\Users\\jthoma\\AppData\\Local\\Temp\\ipykernel_6852\\2457786483.py:39: FutureWarning: The frame.append method is deprecated and will be removed from pandas in a future version. Use pandas.concat instead.\n",
      "  df = df.append(a_series, ignore_index=True)\n"
     ]
    },
    {
     "name": "stdout",
     "output_type": "stream",
     "text": [
      "Could not append: ['...', '101', '102', '103', '104', '105', '106', '107', '108', '109', '110']\n"
     ]
    },
    {
     "name": "stderr",
     "output_type": "stream",
     "text": [
      "C:\\Users\\jthoma\\AppData\\Local\\Temp\\ipykernel_6852\\2457786483.py:38: FutureWarning: The default dtype for empty Series will be 'object' instead of 'float64' in a future version. Specify a dtype explicitly to silence this warning.\n",
      "  a_series = pd.Series(row_list, index = df.columns)\n"
     ]
    },
    {
     "name": "stdout",
     "output_type": "stream",
     "text": [
      "Could not append: []\n"
     ]
    },
    {
     "name": "stderr",
     "output_type": "stream",
     "text": [
      "C:\\Users\\jthoma\\AppData\\Local\\Temp\\ipykernel_6852\\2457786483.py:39: FutureWarning: The frame.append method is deprecated and will be removed from pandas in a future version. Use pandas.concat instead.\n",
      "  df = df.append(a_series, ignore_index=True)\n",
      "C:\\Users\\jthoma\\AppData\\Local\\Temp\\ipykernel_6852\\2457786483.py:39: FutureWarning: The frame.append method is deprecated and will be removed from pandas in a future version. Use pandas.concat instead.\n",
      "  df = df.append(a_series, ignore_index=True)\n",
      "C:\\Users\\jthoma\\AppData\\Local\\Temp\\ipykernel_6852\\2457786483.py:39: FutureWarning: The frame.append method is deprecated and will be removed from pandas in a future version. Use pandas.concat instead.\n",
      "  df = df.append(a_series, ignore_index=True)\n",
      "C:\\Users\\jthoma\\AppData\\Local\\Temp\\ipykernel_6852\\2457786483.py:39: FutureWarning: The frame.append method is deprecated and will be removed from pandas in a future version. Use pandas.concat instead.\n",
      "  df = df.append(a_series, ignore_index=True)\n",
      "C:\\Users\\jthoma\\AppData\\Local\\Temp\\ipykernel_6852\\2457786483.py:39: FutureWarning: The frame.append method is deprecated and will be removed from pandas in a future version. Use pandas.concat instead.\n",
      "  df = df.append(a_series, ignore_index=True)\n",
      "C:\\Users\\jthoma\\AppData\\Local\\Temp\\ipykernel_6852\\2457786483.py:39: FutureWarning: The frame.append method is deprecated and will be removed from pandas in a future version. Use pandas.concat instead.\n",
      "  df = df.append(a_series, ignore_index=True)\n",
      "C:\\Users\\jthoma\\AppData\\Local\\Temp\\ipykernel_6852\\2457786483.py:39: FutureWarning: The frame.append method is deprecated and will be removed from pandas in a future version. Use pandas.concat instead.\n",
      "  df = df.append(a_series, ignore_index=True)\n",
      "C:\\Users\\jthoma\\AppData\\Local\\Temp\\ipykernel_6852\\2457786483.py:39: FutureWarning: The frame.append method is deprecated and will be removed from pandas in a future version. Use pandas.concat instead.\n",
      "  df = df.append(a_series, ignore_index=True)\n",
      "C:\\Users\\jthoma\\AppData\\Local\\Temp\\ipykernel_6852\\2457786483.py:39: FutureWarning: The frame.append method is deprecated and will be removed from pandas in a future version. Use pandas.concat instead.\n",
      "  df = df.append(a_series, ignore_index=True)\n",
      "C:\\Users\\jthoma\\AppData\\Local\\Temp\\ipykernel_6852\\2457786483.py:39: FutureWarning: The frame.append method is deprecated and will be removed from pandas in a future version. Use pandas.concat instead.\n",
      "  df = df.append(a_series, ignore_index=True)\n",
      "C:\\Users\\jthoma\\AppData\\Local\\Temp\\ipykernel_6852\\2457786483.py:39: FutureWarning: The frame.append method is deprecated and will be removed from pandas in a future version. Use pandas.concat instead.\n",
      "  df = df.append(a_series, ignore_index=True)\n"
     ]
    },
    {
     "name": "stdout",
     "output_type": "stream",
     "text": [
      "Could not append: ['...', '101', '102', '103', '104', '105', '106', '107', '108', '109', '110']\n"
     ]
    },
    {
     "name": "stderr",
     "output_type": "stream",
     "text": [
      "C:\\Users\\jthoma\\AppData\\Local\\Temp\\ipykernel_6852\\2457786483.py:38: FutureWarning: The default dtype for empty Series will be 'object' instead of 'float64' in a future version. Specify a dtype explicitly to silence this warning.\n",
      "  a_series = pd.Series(row_list, index = df.columns)\n"
     ]
    },
    {
     "name": "stdout",
     "output_type": "stream",
     "text": [
      "Could not append: []\n"
     ]
    },
    {
     "name": "stderr",
     "output_type": "stream",
     "text": [
      "C:\\Users\\jthoma\\AppData\\Local\\Temp\\ipykernel_6852\\2457786483.py:39: FutureWarning: The frame.append method is deprecated and will be removed from pandas in a future version. Use pandas.concat instead.\n",
      "  df = df.append(a_series, ignore_index=True)\n",
      "C:\\Users\\jthoma\\AppData\\Local\\Temp\\ipykernel_6852\\2457786483.py:39: FutureWarning: The frame.append method is deprecated and will be removed from pandas in a future version. Use pandas.concat instead.\n",
      "  df = df.append(a_series, ignore_index=True)\n",
      "C:\\Users\\jthoma\\AppData\\Local\\Temp\\ipykernel_6852\\2457786483.py:39: FutureWarning: The frame.append method is deprecated and will be removed from pandas in a future version. Use pandas.concat instead.\n",
      "  df = df.append(a_series, ignore_index=True)\n",
      "C:\\Users\\jthoma\\AppData\\Local\\Temp\\ipykernel_6852\\2457786483.py:39: FutureWarning: The frame.append method is deprecated and will be removed from pandas in a future version. Use pandas.concat instead.\n",
      "  df = df.append(a_series, ignore_index=True)\n",
      "C:\\Users\\jthoma\\AppData\\Local\\Temp\\ipykernel_6852\\2457786483.py:39: FutureWarning: The frame.append method is deprecated and will be removed from pandas in a future version. Use pandas.concat instead.\n",
      "  df = df.append(a_series, ignore_index=True)\n",
      "C:\\Users\\jthoma\\AppData\\Local\\Temp\\ipykernel_6852\\2457786483.py:39: FutureWarning: The frame.append method is deprecated and will be removed from pandas in a future version. Use pandas.concat instead.\n",
      "  df = df.append(a_series, ignore_index=True)\n",
      "C:\\Users\\jthoma\\AppData\\Local\\Temp\\ipykernel_6852\\2457786483.py:39: FutureWarning: The frame.append method is deprecated and will be removed from pandas in a future version. Use pandas.concat instead.\n",
      "  df = df.append(a_series, ignore_index=True)\n",
      "C:\\Users\\jthoma\\AppData\\Local\\Temp\\ipykernel_6852\\2457786483.py:39: FutureWarning: The frame.append method is deprecated and will be removed from pandas in a future version. Use pandas.concat instead.\n",
      "  df = df.append(a_series, ignore_index=True)\n",
      "C:\\Users\\jthoma\\AppData\\Local\\Temp\\ipykernel_6852\\2457786483.py:39: FutureWarning: The frame.append method is deprecated and will be removed from pandas in a future version. Use pandas.concat instead.\n",
      "  df = df.append(a_series, ignore_index=True)\n",
      "C:\\Users\\jthoma\\AppData\\Local\\Temp\\ipykernel_6852\\2457786483.py:39: FutureWarning: The frame.append method is deprecated and will be removed from pandas in a future version. Use pandas.concat instead.\n",
      "  df = df.append(a_series, ignore_index=True)\n",
      "C:\\Users\\jthoma\\AppData\\Local\\Temp\\ipykernel_6852\\2457786483.py:39: FutureWarning: The frame.append method is deprecated and will be removed from pandas in a future version. Use pandas.concat instead.\n",
      "  df = df.append(a_series, ignore_index=True)\n"
     ]
    },
    {
     "name": "stdout",
     "output_type": "stream",
     "text": [
      "Could not append: ['...', '101', '102', '103', '104', '105', '106', '107', '108', '109', '110']\n"
     ]
    },
    {
     "name": "stderr",
     "output_type": "stream",
     "text": [
      "C:\\Users\\jthoma\\AppData\\Local\\Temp\\ipykernel_6852\\2457786483.py:38: FutureWarning: The default dtype for empty Series will be 'object' instead of 'float64' in a future version. Specify a dtype explicitly to silence this warning.\n",
      "  a_series = pd.Series(row_list, index = df.columns)\n"
     ]
    },
    {
     "name": "stdout",
     "output_type": "stream",
     "text": [
      "Could not append: []\n"
     ]
    },
    {
     "name": "stderr",
     "output_type": "stream",
     "text": [
      "C:\\Users\\jthoma\\AppData\\Local\\Temp\\ipykernel_6852\\2457786483.py:39: FutureWarning: The frame.append method is deprecated and will be removed from pandas in a future version. Use pandas.concat instead.\n",
      "  df = df.append(a_series, ignore_index=True)\n",
      "C:\\Users\\jthoma\\AppData\\Local\\Temp\\ipykernel_6852\\2457786483.py:39: FutureWarning: The frame.append method is deprecated and will be removed from pandas in a future version. Use pandas.concat instead.\n",
      "  df = df.append(a_series, ignore_index=True)\n",
      "C:\\Users\\jthoma\\AppData\\Local\\Temp\\ipykernel_6852\\2457786483.py:39: FutureWarning: The frame.append method is deprecated and will be removed from pandas in a future version. Use pandas.concat instead.\n",
      "  df = df.append(a_series, ignore_index=True)\n",
      "C:\\Users\\jthoma\\AppData\\Local\\Temp\\ipykernel_6852\\2457786483.py:39: FutureWarning: The frame.append method is deprecated and will be removed from pandas in a future version. Use pandas.concat instead.\n",
      "  df = df.append(a_series, ignore_index=True)\n",
      "C:\\Users\\jthoma\\AppData\\Local\\Temp\\ipykernel_6852\\2457786483.py:39: FutureWarning: The frame.append method is deprecated and will be removed from pandas in a future version. Use pandas.concat instead.\n",
      "  df = df.append(a_series, ignore_index=True)\n",
      "C:\\Users\\jthoma\\AppData\\Local\\Temp\\ipykernel_6852\\2457786483.py:39: FutureWarning: The frame.append method is deprecated and will be removed from pandas in a future version. Use pandas.concat instead.\n",
      "  df = df.append(a_series, ignore_index=True)\n",
      "C:\\Users\\jthoma\\AppData\\Local\\Temp\\ipykernel_6852\\2457786483.py:39: FutureWarning: The frame.append method is deprecated and will be removed from pandas in a future version. Use pandas.concat instead.\n",
      "  df = df.append(a_series, ignore_index=True)\n",
      "C:\\Users\\jthoma\\AppData\\Local\\Temp\\ipykernel_6852\\2457786483.py:39: FutureWarning: The frame.append method is deprecated and will be removed from pandas in a future version. Use pandas.concat instead.\n",
      "  df = df.append(a_series, ignore_index=True)\n",
      "C:\\Users\\jthoma\\AppData\\Local\\Temp\\ipykernel_6852\\2457786483.py:39: FutureWarning: The frame.append method is deprecated and will be removed from pandas in a future version. Use pandas.concat instead.\n",
      "  df = df.append(a_series, ignore_index=True)\n",
      "C:\\Users\\jthoma\\AppData\\Local\\Temp\\ipykernel_6852\\2457786483.py:39: FutureWarning: The frame.append method is deprecated and will be removed from pandas in a future version. Use pandas.concat instead.\n",
      "  df = df.append(a_series, ignore_index=True)\n",
      "C:\\Users\\jthoma\\AppData\\Local\\Temp\\ipykernel_6852\\2457786483.py:39: FutureWarning: The frame.append method is deprecated and will be removed from pandas in a future version. Use pandas.concat instead.\n",
      "  df = df.append(a_series, ignore_index=True)\n"
     ]
    },
    {
     "name": "stdout",
     "output_type": "stream",
     "text": [
      "Could not append: ['1', '2', '3', '4', '5', '6', '7', '8', '9', '10', '...']\n"
     ]
    },
    {
     "name": "stderr",
     "output_type": "stream",
     "text": [
      "C:\\Users\\jthoma\\AppData\\Local\\Temp\\ipykernel_6852\\2457786483.py:38: FutureWarning: The default dtype for empty Series will be 'object' instead of 'float64' in a future version. Specify a dtype explicitly to silence this warning.\n",
      "  a_series = pd.Series(row_list, index = df.columns)\n"
     ]
    },
    {
     "name": "stdout",
     "output_type": "stream",
     "text": [
      "Could not append: []\n"
     ]
    },
    {
     "name": "stderr",
     "output_type": "stream",
     "text": [
      "C:\\Users\\jthoma\\AppData\\Local\\Temp\\ipykernel_6852\\2457786483.py:39: FutureWarning: The frame.append method is deprecated and will be removed from pandas in a future version. Use pandas.concat instead.\n",
      "  df = df.append(a_series, ignore_index=True)\n",
      "C:\\Users\\jthoma\\AppData\\Local\\Temp\\ipykernel_6852\\2457786483.py:39: FutureWarning: The frame.append method is deprecated and will be removed from pandas in a future version. Use pandas.concat instead.\n",
      "  df = df.append(a_series, ignore_index=True)\n",
      "C:\\Users\\jthoma\\AppData\\Local\\Temp\\ipykernel_6852\\2457786483.py:39: FutureWarning: The frame.append method is deprecated and will be removed from pandas in a future version. Use pandas.concat instead.\n",
      "  df = df.append(a_series, ignore_index=True)\n",
      "C:\\Users\\jthoma\\AppData\\Local\\Temp\\ipykernel_6852\\2457786483.py:39: FutureWarning: The frame.append method is deprecated and will be removed from pandas in a future version. Use pandas.concat instead.\n",
      "  df = df.append(a_series, ignore_index=True)\n",
      "C:\\Users\\jthoma\\AppData\\Local\\Temp\\ipykernel_6852\\2457786483.py:39: FutureWarning: The frame.append method is deprecated and will be removed from pandas in a future version. Use pandas.concat instead.\n",
      "  df = df.append(a_series, ignore_index=True)\n",
      "C:\\Users\\jthoma\\AppData\\Local\\Temp\\ipykernel_6852\\2457786483.py:39: FutureWarning: The frame.append method is deprecated and will be removed from pandas in a future version. Use pandas.concat instead.\n",
      "  df = df.append(a_series, ignore_index=True)\n",
      "C:\\Users\\jthoma\\AppData\\Local\\Temp\\ipykernel_6852\\2457786483.py:39: FutureWarning: The frame.append method is deprecated and will be removed from pandas in a future version. Use pandas.concat instead.\n",
      "  df = df.append(a_series, ignore_index=True)\n",
      "C:\\Users\\jthoma\\AppData\\Local\\Temp\\ipykernel_6852\\2457786483.py:39: FutureWarning: The frame.append method is deprecated and will be removed from pandas in a future version. Use pandas.concat instead.\n",
      "  df = df.append(a_series, ignore_index=True)\n",
      "C:\\Users\\jthoma\\AppData\\Local\\Temp\\ipykernel_6852\\2457786483.py:39: FutureWarning: The frame.append method is deprecated and will be removed from pandas in a future version. Use pandas.concat instead.\n",
      "  df = df.append(a_series, ignore_index=True)\n",
      "C:\\Users\\jthoma\\AppData\\Local\\Temp\\ipykernel_6852\\2457786483.py:39: FutureWarning: The frame.append method is deprecated and will be removed from pandas in a future version. Use pandas.concat instead.\n",
      "  df = df.append(a_series, ignore_index=True)\n",
      "C:\\Users\\jthoma\\AppData\\Local\\Temp\\ipykernel_6852\\2457786483.py:39: FutureWarning: The frame.append method is deprecated and will be removed from pandas in a future version. Use pandas.concat instead.\n",
      "  df = df.append(a_series, ignore_index=True)\n"
     ]
    },
    {
     "name": "stdout",
     "output_type": "stream",
     "text": [
      "Could not append: ['1', '2', '3', '4', '5', '6', '7', '8', '9', '10', '...']\n"
     ]
    },
    {
     "name": "stderr",
     "output_type": "stream",
     "text": [
      "C:\\Users\\jthoma\\AppData\\Local\\Temp\\ipykernel_6852\\2457786483.py:38: FutureWarning: The default dtype for empty Series will be 'object' instead of 'float64' in a future version. Specify a dtype explicitly to silence this warning.\n",
      "  a_series = pd.Series(row_list, index = df.columns)\n"
     ]
    },
    {
     "name": "stdout",
     "output_type": "stream",
     "text": [
      "Could not append: []\n"
     ]
    },
    {
     "name": "stderr",
     "output_type": "stream",
     "text": [
      "C:\\Users\\jthoma\\AppData\\Local\\Temp\\ipykernel_6852\\2457786483.py:39: FutureWarning: The frame.append method is deprecated and will be removed from pandas in a future version. Use pandas.concat instead.\n",
      "  df = df.append(a_series, ignore_index=True)\n",
      "C:\\Users\\jthoma\\AppData\\Local\\Temp\\ipykernel_6852\\2457786483.py:39: FutureWarning: The frame.append method is deprecated and will be removed from pandas in a future version. Use pandas.concat instead.\n",
      "  df = df.append(a_series, ignore_index=True)\n",
      "C:\\Users\\jthoma\\AppData\\Local\\Temp\\ipykernel_6852\\2457786483.py:39: FutureWarning: The frame.append method is deprecated and will be removed from pandas in a future version. Use pandas.concat instead.\n",
      "  df = df.append(a_series, ignore_index=True)\n",
      "C:\\Users\\jthoma\\AppData\\Local\\Temp\\ipykernel_6852\\2457786483.py:39: FutureWarning: The frame.append method is deprecated and will be removed from pandas in a future version. Use pandas.concat instead.\n",
      "  df = df.append(a_series, ignore_index=True)\n",
      "C:\\Users\\jthoma\\AppData\\Local\\Temp\\ipykernel_6852\\2457786483.py:39: FutureWarning: The frame.append method is deprecated and will be removed from pandas in a future version. Use pandas.concat instead.\n",
      "  df = df.append(a_series, ignore_index=True)\n",
      "C:\\Users\\jthoma\\AppData\\Local\\Temp\\ipykernel_6852\\2457786483.py:39: FutureWarning: The frame.append method is deprecated and will be removed from pandas in a future version. Use pandas.concat instead.\n",
      "  df = df.append(a_series, ignore_index=True)\n",
      "C:\\Users\\jthoma\\AppData\\Local\\Temp\\ipykernel_6852\\2457786483.py:39: FutureWarning: The frame.append method is deprecated and will be removed from pandas in a future version. Use pandas.concat instead.\n",
      "  df = df.append(a_series, ignore_index=True)\n",
      "C:\\Users\\jthoma\\AppData\\Local\\Temp\\ipykernel_6852\\2457786483.py:39: FutureWarning: The frame.append method is deprecated and will be removed from pandas in a future version. Use pandas.concat instead.\n",
      "  df = df.append(a_series, ignore_index=True)\n",
      "C:\\Users\\jthoma\\AppData\\Local\\Temp\\ipykernel_6852\\2457786483.py:39: FutureWarning: The frame.append method is deprecated and will be removed from pandas in a future version. Use pandas.concat instead.\n",
      "  df = df.append(a_series, ignore_index=True)\n",
      "C:\\Users\\jthoma\\AppData\\Local\\Temp\\ipykernel_6852\\2457786483.py:39: FutureWarning: The frame.append method is deprecated and will be removed from pandas in a future version. Use pandas.concat instead.\n",
      "  df = df.append(a_series, ignore_index=True)\n",
      "C:\\Users\\jthoma\\AppData\\Local\\Temp\\ipykernel_6852\\2457786483.py:39: FutureWarning: The frame.append method is deprecated and will be removed from pandas in a future version. Use pandas.concat instead.\n",
      "  df = df.append(a_series, ignore_index=True)\n"
     ]
    },
    {
     "name": "stdout",
     "output_type": "stream",
     "text": [
      "Could not append: ['1', '2', '3', '4', '5', '6', '7', '8', '9', '10', '...']\n"
     ]
    },
    {
     "name": "stderr",
     "output_type": "stream",
     "text": [
      "C:\\Users\\jthoma\\AppData\\Local\\Temp\\ipykernel_6852\\2457786483.py:38: FutureWarning: The default dtype for empty Series will be 'object' instead of 'float64' in a future version. Specify a dtype explicitly to silence this warning.\n",
      "  a_series = pd.Series(row_list, index = df.columns)\n"
     ]
    },
    {
     "name": "stdout",
     "output_type": "stream",
     "text": [
      "Could not append: []\n"
     ]
    },
    {
     "name": "stderr",
     "output_type": "stream",
     "text": [
      "C:\\Users\\jthoma\\AppData\\Local\\Temp\\ipykernel_6852\\2457786483.py:39: FutureWarning: The frame.append method is deprecated and will be removed from pandas in a future version. Use pandas.concat instead.\n",
      "  df = df.append(a_series, ignore_index=True)\n",
      "C:\\Users\\jthoma\\AppData\\Local\\Temp\\ipykernel_6852\\2457786483.py:39: FutureWarning: The frame.append method is deprecated and will be removed from pandas in a future version. Use pandas.concat instead.\n",
      "  df = df.append(a_series, ignore_index=True)\n",
      "C:\\Users\\jthoma\\AppData\\Local\\Temp\\ipykernel_6852\\2457786483.py:39: FutureWarning: The frame.append method is deprecated and will be removed from pandas in a future version. Use pandas.concat instead.\n",
      "  df = df.append(a_series, ignore_index=True)\n",
      "C:\\Users\\jthoma\\AppData\\Local\\Temp\\ipykernel_6852\\2457786483.py:39: FutureWarning: The frame.append method is deprecated and will be removed from pandas in a future version. Use pandas.concat instead.\n",
      "  df = df.append(a_series, ignore_index=True)\n",
      "C:\\Users\\jthoma\\AppData\\Local\\Temp\\ipykernel_6852\\2457786483.py:39: FutureWarning: The frame.append method is deprecated and will be removed from pandas in a future version. Use pandas.concat instead.\n",
      "  df = df.append(a_series, ignore_index=True)\n",
      "C:\\Users\\jthoma\\AppData\\Local\\Temp\\ipykernel_6852\\2457786483.py:39: FutureWarning: The frame.append method is deprecated and will be removed from pandas in a future version. Use pandas.concat instead.\n",
      "  df = df.append(a_series, ignore_index=True)\n",
      "C:\\Users\\jthoma\\AppData\\Local\\Temp\\ipykernel_6852\\2457786483.py:39: FutureWarning: The frame.append method is deprecated and will be removed from pandas in a future version. Use pandas.concat instead.\n",
      "  df = df.append(a_series, ignore_index=True)\n",
      "C:\\Users\\jthoma\\AppData\\Local\\Temp\\ipykernel_6852\\2457786483.py:39: FutureWarning: The frame.append method is deprecated and will be removed from pandas in a future version. Use pandas.concat instead.\n",
      "  df = df.append(a_series, ignore_index=True)\n",
      "C:\\Users\\jthoma\\AppData\\Local\\Temp\\ipykernel_6852\\2457786483.py:39: FutureWarning: The frame.append method is deprecated and will be removed from pandas in a future version. Use pandas.concat instead.\n",
      "  df = df.append(a_series, ignore_index=True)\n",
      "C:\\Users\\jthoma\\AppData\\Local\\Temp\\ipykernel_6852\\2457786483.py:39: FutureWarning: The frame.append method is deprecated and will be removed from pandas in a future version. Use pandas.concat instead.\n",
      "  df = df.append(a_series, ignore_index=True)\n",
      "C:\\Users\\jthoma\\AppData\\Local\\Temp\\ipykernel_6852\\2457786483.py:39: FutureWarning: The frame.append method is deprecated and will be removed from pandas in a future version. Use pandas.concat instead.\n",
      "  df = df.append(a_series, ignore_index=True)\n"
     ]
    },
    {
     "name": "stdout",
     "output_type": "stream",
     "text": [
      "Could not append: ['1', '2', '3', '4', '5', '6', '7', '8', '9', '10', '...']\n"
     ]
    },
    {
     "name": "stderr",
     "output_type": "stream",
     "text": [
      "C:\\Users\\jthoma\\AppData\\Local\\Temp\\ipykernel_6852\\2457786483.py:38: FutureWarning: The default dtype for empty Series will be 'object' instead of 'float64' in a future version. Specify a dtype explicitly to silence this warning.\n",
      "  a_series = pd.Series(row_list, index = df.columns)\n"
     ]
    },
    {
     "name": "stdout",
     "output_type": "stream",
     "text": [
      "Could not append: []\n"
     ]
    },
    {
     "name": "stderr",
     "output_type": "stream",
     "text": [
      "C:\\Users\\jthoma\\AppData\\Local\\Temp\\ipykernel_6852\\2457786483.py:39: FutureWarning: The frame.append method is deprecated and will be removed from pandas in a future version. Use pandas.concat instead.\n",
      "  df = df.append(a_series, ignore_index=True)\n",
      "C:\\Users\\jthoma\\AppData\\Local\\Temp\\ipykernel_6852\\2457786483.py:39: FutureWarning: The frame.append method is deprecated and will be removed from pandas in a future version. Use pandas.concat instead.\n",
      "  df = df.append(a_series, ignore_index=True)\n",
      "C:\\Users\\jthoma\\AppData\\Local\\Temp\\ipykernel_6852\\2457786483.py:39: FutureWarning: The frame.append method is deprecated and will be removed from pandas in a future version. Use pandas.concat instead.\n",
      "  df = df.append(a_series, ignore_index=True)\n",
      "C:\\Users\\jthoma\\AppData\\Local\\Temp\\ipykernel_6852\\2457786483.py:39: FutureWarning: The frame.append method is deprecated and will be removed from pandas in a future version. Use pandas.concat instead.\n",
      "  df = df.append(a_series, ignore_index=True)\n",
      "C:\\Users\\jthoma\\AppData\\Local\\Temp\\ipykernel_6852\\2457786483.py:39: FutureWarning: The frame.append method is deprecated and will be removed from pandas in a future version. Use pandas.concat instead.\n",
      "  df = df.append(a_series, ignore_index=True)\n",
      "C:\\Users\\jthoma\\AppData\\Local\\Temp\\ipykernel_6852\\2457786483.py:39: FutureWarning: The frame.append method is deprecated and will be removed from pandas in a future version. Use pandas.concat instead.\n",
      "  df = df.append(a_series, ignore_index=True)\n",
      "C:\\Users\\jthoma\\AppData\\Local\\Temp\\ipykernel_6852\\2457786483.py:39: FutureWarning: The frame.append method is deprecated and will be removed from pandas in a future version. Use pandas.concat instead.\n",
      "  df = df.append(a_series, ignore_index=True)\n",
      "C:\\Users\\jthoma\\AppData\\Local\\Temp\\ipykernel_6852\\2457786483.py:39: FutureWarning: The frame.append method is deprecated and will be removed from pandas in a future version. Use pandas.concat instead.\n",
      "  df = df.append(a_series, ignore_index=True)\n",
      "C:\\Users\\jthoma\\AppData\\Local\\Temp\\ipykernel_6852\\2457786483.py:39: FutureWarning: The frame.append method is deprecated and will be removed from pandas in a future version. Use pandas.concat instead.\n",
      "  df = df.append(a_series, ignore_index=True)\n",
      "C:\\Users\\jthoma\\AppData\\Local\\Temp\\ipykernel_6852\\2457786483.py:39: FutureWarning: The frame.append method is deprecated and will be removed from pandas in a future version. Use pandas.concat instead.\n",
      "  df = df.append(a_series, ignore_index=True)\n",
      "C:\\Users\\jthoma\\AppData\\Local\\Temp\\ipykernel_6852\\2457786483.py:39: FutureWarning: The frame.append method is deprecated and will be removed from pandas in a future version. Use pandas.concat instead.\n",
      "  df = df.append(a_series, ignore_index=True)\n"
     ]
    },
    {
     "name": "stdout",
     "output_type": "stream",
     "text": [
      "Could not append: ['1', '2', '3', '4', '5', '6', '7', '8', '9', '10', '...']\n"
     ]
    },
    {
     "name": "stderr",
     "output_type": "stream",
     "text": [
      "C:\\Users\\jthoma\\AppData\\Local\\Temp\\ipykernel_6852\\2457786483.py:38: FutureWarning: The default dtype for empty Series will be 'object' instead of 'float64' in a future version. Specify a dtype explicitly to silence this warning.\n",
      "  a_series = pd.Series(row_list, index = df.columns)\n"
     ]
    },
    {
     "name": "stdout",
     "output_type": "stream",
     "text": [
      "Could not append: []\n"
     ]
    },
    {
     "name": "stderr",
     "output_type": "stream",
     "text": [
      "C:\\Users\\jthoma\\AppData\\Local\\Temp\\ipykernel_6852\\2457786483.py:39: FutureWarning: The frame.append method is deprecated and will be removed from pandas in a future version. Use pandas.concat instead.\n",
      "  df = df.append(a_series, ignore_index=True)\n",
      "C:\\Users\\jthoma\\AppData\\Local\\Temp\\ipykernel_6852\\2457786483.py:39: FutureWarning: The frame.append method is deprecated and will be removed from pandas in a future version. Use pandas.concat instead.\n",
      "  df = df.append(a_series, ignore_index=True)\n",
      "C:\\Users\\jthoma\\AppData\\Local\\Temp\\ipykernel_6852\\2457786483.py:39: FutureWarning: The frame.append method is deprecated and will be removed from pandas in a future version. Use pandas.concat instead.\n",
      "  df = df.append(a_series, ignore_index=True)\n",
      "C:\\Users\\jthoma\\AppData\\Local\\Temp\\ipykernel_6852\\2457786483.py:39: FutureWarning: The frame.append method is deprecated and will be removed from pandas in a future version. Use pandas.concat instead.\n",
      "  df = df.append(a_series, ignore_index=True)\n",
      "C:\\Users\\jthoma\\AppData\\Local\\Temp\\ipykernel_6852\\2457786483.py:39: FutureWarning: The frame.append method is deprecated and will be removed from pandas in a future version. Use pandas.concat instead.\n",
      "  df = df.append(a_series, ignore_index=True)\n",
      "C:\\Users\\jthoma\\AppData\\Local\\Temp\\ipykernel_6852\\2457786483.py:39: FutureWarning: The frame.append method is deprecated and will be removed from pandas in a future version. Use pandas.concat instead.\n",
      "  df = df.append(a_series, ignore_index=True)\n",
      "C:\\Users\\jthoma\\AppData\\Local\\Temp\\ipykernel_6852\\2457786483.py:39: FutureWarning: The frame.append method is deprecated and will be removed from pandas in a future version. Use pandas.concat instead.\n",
      "  df = df.append(a_series, ignore_index=True)\n",
      "C:\\Users\\jthoma\\AppData\\Local\\Temp\\ipykernel_6852\\2457786483.py:39: FutureWarning: The frame.append method is deprecated and will be removed from pandas in a future version. Use pandas.concat instead.\n",
      "  df = df.append(a_series, ignore_index=True)\n",
      "C:\\Users\\jthoma\\AppData\\Local\\Temp\\ipykernel_6852\\2457786483.py:39: FutureWarning: The frame.append method is deprecated and will be removed from pandas in a future version. Use pandas.concat instead.\n",
      "  df = df.append(a_series, ignore_index=True)\n",
      "C:\\Users\\jthoma\\AppData\\Local\\Temp\\ipykernel_6852\\2457786483.py:39: FutureWarning: The frame.append method is deprecated and will be removed from pandas in a future version. Use pandas.concat instead.\n",
      "  df = df.append(a_series, ignore_index=True)\n",
      "C:\\Users\\jthoma\\AppData\\Local\\Temp\\ipykernel_6852\\2457786483.py:39: FutureWarning: The frame.append method is deprecated and will be removed from pandas in a future version. Use pandas.concat instead.\n",
      "  df = df.append(a_series, ignore_index=True)\n"
     ]
    },
    {
     "name": "stdout",
     "output_type": "stream",
     "text": [
      "Could not append: ['1', '2', '3', '4', '5', '6', '7', '8', '9', '10', '...']\n"
     ]
    },
    {
     "name": "stderr",
     "output_type": "stream",
     "text": [
      "C:\\Users\\jthoma\\AppData\\Local\\Temp\\ipykernel_6852\\2457786483.py:38: FutureWarning: The default dtype for empty Series will be 'object' instead of 'float64' in a future version. Specify a dtype explicitly to silence this warning.\n",
      "  a_series = pd.Series(row_list, index = df.columns)\n"
     ]
    },
    {
     "name": "stdout",
     "output_type": "stream",
     "text": [
      "Could not append: []\n"
     ]
    },
    {
     "name": "stderr",
     "output_type": "stream",
     "text": [
      "C:\\Users\\jthoma\\AppData\\Local\\Temp\\ipykernel_6852\\2457786483.py:39: FutureWarning: The frame.append method is deprecated and will be removed from pandas in a future version. Use pandas.concat instead.\n",
      "  df = df.append(a_series, ignore_index=True)\n",
      "C:\\Users\\jthoma\\AppData\\Local\\Temp\\ipykernel_6852\\2457786483.py:39: FutureWarning: The frame.append method is deprecated and will be removed from pandas in a future version. Use pandas.concat instead.\n",
      "  df = df.append(a_series, ignore_index=True)\n",
      "C:\\Users\\jthoma\\AppData\\Local\\Temp\\ipykernel_6852\\2457786483.py:39: FutureWarning: The frame.append method is deprecated and will be removed from pandas in a future version. Use pandas.concat instead.\n",
      "  df = df.append(a_series, ignore_index=True)\n",
      "C:\\Users\\jthoma\\AppData\\Local\\Temp\\ipykernel_6852\\2457786483.py:39: FutureWarning: The frame.append method is deprecated and will be removed from pandas in a future version. Use pandas.concat instead.\n",
      "  df = df.append(a_series, ignore_index=True)\n",
      "C:\\Users\\jthoma\\AppData\\Local\\Temp\\ipykernel_6852\\2457786483.py:39: FutureWarning: The frame.append method is deprecated and will be removed from pandas in a future version. Use pandas.concat instead.\n",
      "  df = df.append(a_series, ignore_index=True)\n",
      "C:\\Users\\jthoma\\AppData\\Local\\Temp\\ipykernel_6852\\2457786483.py:39: FutureWarning: The frame.append method is deprecated and will be removed from pandas in a future version. Use pandas.concat instead.\n",
      "  df = df.append(a_series, ignore_index=True)\n",
      "C:\\Users\\jthoma\\AppData\\Local\\Temp\\ipykernel_6852\\2457786483.py:39: FutureWarning: The frame.append method is deprecated and will be removed from pandas in a future version. Use pandas.concat instead.\n",
      "  df = df.append(a_series, ignore_index=True)\n",
      "C:\\Users\\jthoma\\AppData\\Local\\Temp\\ipykernel_6852\\2457786483.py:39: FutureWarning: The frame.append method is deprecated and will be removed from pandas in a future version. Use pandas.concat instead.\n",
      "  df = df.append(a_series, ignore_index=True)\n",
      "C:\\Users\\jthoma\\AppData\\Local\\Temp\\ipykernel_6852\\2457786483.py:39: FutureWarning: The frame.append method is deprecated and will be removed from pandas in a future version. Use pandas.concat instead.\n",
      "  df = df.append(a_series, ignore_index=True)\n",
      "C:\\Users\\jthoma\\AppData\\Local\\Temp\\ipykernel_6852\\2457786483.py:39: FutureWarning: The frame.append method is deprecated and will be removed from pandas in a future version. Use pandas.concat instead.\n",
      "  df = df.append(a_series, ignore_index=True)\n",
      "C:\\Users\\jthoma\\AppData\\Local\\Temp\\ipykernel_6852\\2457786483.py:39: FutureWarning: The frame.append method is deprecated and will be removed from pandas in a future version. Use pandas.concat instead.\n",
      "  df = df.append(a_series, ignore_index=True)\n"
     ]
    },
    {
     "name": "stdout",
     "output_type": "stream",
     "text": [
      "Could not append: ['1', '2', '3', '4', '5', '6', '7', '8', '9', '10', '...']\n"
     ]
    },
    {
     "name": "stderr",
     "output_type": "stream",
     "text": [
      "C:\\Users\\jthoma\\AppData\\Local\\Temp\\ipykernel_6852\\2457786483.py:38: FutureWarning: The default dtype for empty Series will be 'object' instead of 'float64' in a future version. Specify a dtype explicitly to silence this warning.\n",
      "  a_series = pd.Series(row_list, index = df.columns)\n"
     ]
    },
    {
     "name": "stdout",
     "output_type": "stream",
     "text": [
      "Could not append: []\n"
     ]
    },
    {
     "name": "stderr",
     "output_type": "stream",
     "text": [
      "C:\\Users\\jthoma\\AppData\\Local\\Temp\\ipykernel_6852\\2457786483.py:39: FutureWarning: The frame.append method is deprecated and will be removed from pandas in a future version. Use pandas.concat instead.\n",
      "  df = df.append(a_series, ignore_index=True)\n",
      "C:\\Users\\jthoma\\AppData\\Local\\Temp\\ipykernel_6852\\2457786483.py:39: FutureWarning: The frame.append method is deprecated and will be removed from pandas in a future version. Use pandas.concat instead.\n",
      "  df = df.append(a_series, ignore_index=True)\n",
      "C:\\Users\\jthoma\\AppData\\Local\\Temp\\ipykernel_6852\\2457786483.py:39: FutureWarning: The frame.append method is deprecated and will be removed from pandas in a future version. Use pandas.concat instead.\n",
      "  df = df.append(a_series, ignore_index=True)\n",
      "C:\\Users\\jthoma\\AppData\\Local\\Temp\\ipykernel_6852\\2457786483.py:39: FutureWarning: The frame.append method is deprecated and will be removed from pandas in a future version. Use pandas.concat instead.\n",
      "  df = df.append(a_series, ignore_index=True)\n",
      "C:\\Users\\jthoma\\AppData\\Local\\Temp\\ipykernel_6852\\2457786483.py:39: FutureWarning: The frame.append method is deprecated and will be removed from pandas in a future version. Use pandas.concat instead.\n",
      "  df = df.append(a_series, ignore_index=True)\n",
      "C:\\Users\\jthoma\\AppData\\Local\\Temp\\ipykernel_6852\\2457786483.py:39: FutureWarning: The frame.append method is deprecated and will be removed from pandas in a future version. Use pandas.concat instead.\n",
      "  df = df.append(a_series, ignore_index=True)\n",
      "C:\\Users\\jthoma\\AppData\\Local\\Temp\\ipykernel_6852\\2457786483.py:39: FutureWarning: The frame.append method is deprecated and will be removed from pandas in a future version. Use pandas.concat instead.\n",
      "  df = df.append(a_series, ignore_index=True)\n",
      "C:\\Users\\jthoma\\AppData\\Local\\Temp\\ipykernel_6852\\2457786483.py:39: FutureWarning: The frame.append method is deprecated and will be removed from pandas in a future version. Use pandas.concat instead.\n",
      "  df = df.append(a_series, ignore_index=True)\n",
      "C:\\Users\\jthoma\\AppData\\Local\\Temp\\ipykernel_6852\\2457786483.py:39: FutureWarning: The frame.append method is deprecated and will be removed from pandas in a future version. Use pandas.concat instead.\n",
      "  df = df.append(a_series, ignore_index=True)\n",
      "C:\\Users\\jthoma\\AppData\\Local\\Temp\\ipykernel_6852\\2457786483.py:39: FutureWarning: The frame.append method is deprecated and will be removed from pandas in a future version. Use pandas.concat instead.\n",
      "  df = df.append(a_series, ignore_index=True)\n",
      "C:\\Users\\jthoma\\AppData\\Local\\Temp\\ipykernel_6852\\2457786483.py:39: FutureWarning: The frame.append method is deprecated and will be removed from pandas in a future version. Use pandas.concat instead.\n",
      "  df = df.append(a_series, ignore_index=True)\n"
     ]
    },
    {
     "name": "stdout",
     "output_type": "stream",
     "text": [
      "Could not append: ['1', '2', '3', '4', '5', '6', '7', '8', '9', '10', '...']\n"
     ]
    },
    {
     "name": "stderr",
     "output_type": "stream",
     "text": [
      "C:\\Users\\jthoma\\AppData\\Local\\Temp\\ipykernel_6852\\2457786483.py:38: FutureWarning: The default dtype for empty Series will be 'object' instead of 'float64' in a future version. Specify a dtype explicitly to silence this warning.\n",
      "  a_series = pd.Series(row_list, index = df.columns)\n"
     ]
    },
    {
     "name": "stdout",
     "output_type": "stream",
     "text": [
      "Could not append: []\n"
     ]
    },
    {
     "name": "stderr",
     "output_type": "stream",
     "text": [
      "C:\\Users\\jthoma\\AppData\\Local\\Temp\\ipykernel_6852\\2457786483.py:39: FutureWarning: The frame.append method is deprecated and will be removed from pandas in a future version. Use pandas.concat instead.\n",
      "  df = df.append(a_series, ignore_index=True)\n",
      "C:\\Users\\jthoma\\AppData\\Local\\Temp\\ipykernel_6852\\2457786483.py:39: FutureWarning: The frame.append method is deprecated and will be removed from pandas in a future version. Use pandas.concat instead.\n",
      "  df = df.append(a_series, ignore_index=True)\n",
      "C:\\Users\\jthoma\\AppData\\Local\\Temp\\ipykernel_6852\\2457786483.py:39: FutureWarning: The frame.append method is deprecated and will be removed from pandas in a future version. Use pandas.concat instead.\n",
      "  df = df.append(a_series, ignore_index=True)\n",
      "C:\\Users\\jthoma\\AppData\\Local\\Temp\\ipykernel_6852\\2457786483.py:39: FutureWarning: The frame.append method is deprecated and will be removed from pandas in a future version. Use pandas.concat instead.\n",
      "  df = df.append(a_series, ignore_index=True)\n",
      "C:\\Users\\jthoma\\AppData\\Local\\Temp\\ipykernel_6852\\2457786483.py:39: FutureWarning: The frame.append method is deprecated and will be removed from pandas in a future version. Use pandas.concat instead.\n",
      "  df = df.append(a_series, ignore_index=True)\n",
      "C:\\Users\\jthoma\\AppData\\Local\\Temp\\ipykernel_6852\\2457786483.py:39: FutureWarning: The frame.append method is deprecated and will be removed from pandas in a future version. Use pandas.concat instead.\n",
      "  df = df.append(a_series, ignore_index=True)\n",
      "C:\\Users\\jthoma\\AppData\\Local\\Temp\\ipykernel_6852\\2457786483.py:39: FutureWarning: The frame.append method is deprecated and will be removed from pandas in a future version. Use pandas.concat instead.\n",
      "  df = df.append(a_series, ignore_index=True)\n",
      "C:\\Users\\jthoma\\AppData\\Local\\Temp\\ipykernel_6852\\2457786483.py:39: FutureWarning: The frame.append method is deprecated and will be removed from pandas in a future version. Use pandas.concat instead.\n",
      "  df = df.append(a_series, ignore_index=True)\n",
      "C:\\Users\\jthoma\\AppData\\Local\\Temp\\ipykernel_6852\\2457786483.py:39: FutureWarning: The frame.append method is deprecated and will be removed from pandas in a future version. Use pandas.concat instead.\n",
      "  df = df.append(a_series, ignore_index=True)\n",
      "C:\\Users\\jthoma\\AppData\\Local\\Temp\\ipykernel_6852\\2457786483.py:39: FutureWarning: The frame.append method is deprecated and will be removed from pandas in a future version. Use pandas.concat instead.\n",
      "  df = df.append(a_series, ignore_index=True)\n",
      "C:\\Users\\jthoma\\AppData\\Local\\Temp\\ipykernel_6852\\2457786483.py:39: FutureWarning: The frame.append method is deprecated and will be removed from pandas in a future version. Use pandas.concat instead.\n",
      "  df = df.append(a_series, ignore_index=True)\n"
     ]
    },
    {
     "name": "stdout",
     "output_type": "stream",
     "text": [
      "Could not append: ['1', '2', '3', '4', '5', '6', '7', '8', '9', '10', '...']\n"
     ]
    },
    {
     "name": "stderr",
     "output_type": "stream",
     "text": [
      "C:\\Users\\jthoma\\AppData\\Local\\Temp\\ipykernel_6852\\2457786483.py:38: FutureWarning: The default dtype for empty Series will be 'object' instead of 'float64' in a future version. Specify a dtype explicitly to silence this warning.\n",
      "  a_series = pd.Series(row_list, index = df.columns)\n"
     ]
    },
    {
     "name": "stdout",
     "output_type": "stream",
     "text": [
      "Could not append: []\n"
     ]
    },
    {
     "name": "stderr",
     "output_type": "stream",
     "text": [
      "C:\\Users\\jthoma\\AppData\\Local\\Temp\\ipykernel_6852\\2457786483.py:39: FutureWarning: The frame.append method is deprecated and will be removed from pandas in a future version. Use pandas.concat instead.\n",
      "  df = df.append(a_series, ignore_index=True)\n",
      "C:\\Users\\jthoma\\AppData\\Local\\Temp\\ipykernel_6852\\2457786483.py:39: FutureWarning: The frame.append method is deprecated and will be removed from pandas in a future version. Use pandas.concat instead.\n",
      "  df = df.append(a_series, ignore_index=True)\n",
      "C:\\Users\\jthoma\\AppData\\Local\\Temp\\ipykernel_6852\\2457786483.py:39: FutureWarning: The frame.append method is deprecated and will be removed from pandas in a future version. Use pandas.concat instead.\n",
      "  df = df.append(a_series, ignore_index=True)\n",
      "C:\\Users\\jthoma\\AppData\\Local\\Temp\\ipykernel_6852\\2457786483.py:39: FutureWarning: The frame.append method is deprecated and will be removed from pandas in a future version. Use pandas.concat instead.\n",
      "  df = df.append(a_series, ignore_index=True)\n",
      "C:\\Users\\jthoma\\AppData\\Local\\Temp\\ipykernel_6852\\2457786483.py:39: FutureWarning: The frame.append method is deprecated and will be removed from pandas in a future version. Use pandas.concat instead.\n",
      "  df = df.append(a_series, ignore_index=True)\n",
      "C:\\Users\\jthoma\\AppData\\Local\\Temp\\ipykernel_6852\\2457786483.py:39: FutureWarning: The frame.append method is deprecated and will be removed from pandas in a future version. Use pandas.concat instead.\n",
      "  df = df.append(a_series, ignore_index=True)\n",
      "C:\\Users\\jthoma\\AppData\\Local\\Temp\\ipykernel_6852\\2457786483.py:39: FutureWarning: The frame.append method is deprecated and will be removed from pandas in a future version. Use pandas.concat instead.\n",
      "  df = df.append(a_series, ignore_index=True)\n",
      "C:\\Users\\jthoma\\AppData\\Local\\Temp\\ipykernel_6852\\2457786483.py:39: FutureWarning: The frame.append method is deprecated and will be removed from pandas in a future version. Use pandas.concat instead.\n",
      "  df = df.append(a_series, ignore_index=True)\n",
      "C:\\Users\\jthoma\\AppData\\Local\\Temp\\ipykernel_6852\\2457786483.py:39: FutureWarning: The frame.append method is deprecated and will be removed from pandas in a future version. Use pandas.concat instead.\n",
      "  df = df.append(a_series, ignore_index=True)\n",
      "C:\\Users\\jthoma\\AppData\\Local\\Temp\\ipykernel_6852\\2457786483.py:39: FutureWarning: The frame.append method is deprecated and will be removed from pandas in a future version. Use pandas.concat instead.\n",
      "  df = df.append(a_series, ignore_index=True)\n",
      "C:\\Users\\jthoma\\AppData\\Local\\Temp\\ipykernel_6852\\2457786483.py:39: FutureWarning: The frame.append method is deprecated and will be removed from pandas in a future version. Use pandas.concat instead.\n",
      "  df = df.append(a_series, ignore_index=True)\n"
     ]
    },
    {
     "name": "stdout",
     "output_type": "stream",
     "text": [
      "Could not append: ['1', '2', '3', '4', '5', '6', '7', '8', '9', '10', '...']\n"
     ]
    },
    {
     "name": "stderr",
     "output_type": "stream",
     "text": [
      "C:\\Users\\jthoma\\AppData\\Local\\Temp\\ipykernel_6852\\2457786483.py:38: FutureWarning: The default dtype for empty Series will be 'object' instead of 'float64' in a future version. Specify a dtype explicitly to silence this warning.\n",
      "  a_series = pd.Series(row_list, index = df.columns)\n"
     ]
    },
    {
     "name": "stdout",
     "output_type": "stream",
     "text": [
      "Could not append: []\n"
     ]
    },
    {
     "name": "stderr",
     "output_type": "stream",
     "text": [
      "C:\\Users\\jthoma\\AppData\\Local\\Temp\\ipykernel_6852\\2457786483.py:39: FutureWarning: The frame.append method is deprecated and will be removed from pandas in a future version. Use pandas.concat instead.\n",
      "  df = df.append(a_series, ignore_index=True)\n",
      "C:\\Users\\jthoma\\AppData\\Local\\Temp\\ipykernel_6852\\2457786483.py:39: FutureWarning: The frame.append method is deprecated and will be removed from pandas in a future version. Use pandas.concat instead.\n",
      "  df = df.append(a_series, ignore_index=True)\n",
      "C:\\Users\\jthoma\\AppData\\Local\\Temp\\ipykernel_6852\\2457786483.py:39: FutureWarning: The frame.append method is deprecated and will be removed from pandas in a future version. Use pandas.concat instead.\n",
      "  df = df.append(a_series, ignore_index=True)\n",
      "C:\\Users\\jthoma\\AppData\\Local\\Temp\\ipykernel_6852\\2457786483.py:39: FutureWarning: The frame.append method is deprecated and will be removed from pandas in a future version. Use pandas.concat instead.\n",
      "  df = df.append(a_series, ignore_index=True)\n",
      "C:\\Users\\jthoma\\AppData\\Local\\Temp\\ipykernel_6852\\2457786483.py:39: FutureWarning: The frame.append method is deprecated and will be removed from pandas in a future version. Use pandas.concat instead.\n",
      "  df = df.append(a_series, ignore_index=True)\n",
      "C:\\Users\\jthoma\\AppData\\Local\\Temp\\ipykernel_6852\\2457786483.py:39: FutureWarning: The frame.append method is deprecated and will be removed from pandas in a future version. Use pandas.concat instead.\n",
      "  df = df.append(a_series, ignore_index=True)\n",
      "C:\\Users\\jthoma\\AppData\\Local\\Temp\\ipykernel_6852\\2457786483.py:39: FutureWarning: The frame.append method is deprecated and will be removed from pandas in a future version. Use pandas.concat instead.\n",
      "  df = df.append(a_series, ignore_index=True)\n",
      "C:\\Users\\jthoma\\AppData\\Local\\Temp\\ipykernel_6852\\2457786483.py:39: FutureWarning: The frame.append method is deprecated and will be removed from pandas in a future version. Use pandas.concat instead.\n",
      "  df = df.append(a_series, ignore_index=True)\n",
      "C:\\Users\\jthoma\\AppData\\Local\\Temp\\ipykernel_6852\\2457786483.py:39: FutureWarning: The frame.append method is deprecated and will be removed from pandas in a future version. Use pandas.concat instead.\n",
      "  df = df.append(a_series, ignore_index=True)\n",
      "C:\\Users\\jthoma\\AppData\\Local\\Temp\\ipykernel_6852\\2457786483.py:39: FutureWarning: The frame.append method is deprecated and will be removed from pandas in a future version. Use pandas.concat instead.\n",
      "  df = df.append(a_series, ignore_index=True)\n",
      "C:\\Users\\jthoma\\AppData\\Local\\Temp\\ipykernel_6852\\2457786483.py:39: FutureWarning: The frame.append method is deprecated and will be removed from pandas in a future version. Use pandas.concat instead.\n",
      "  df = df.append(a_series, ignore_index=True)\n"
     ]
    },
    {
     "name": "stdout",
     "output_type": "stream",
     "text": [
      "Could not append: ['...', '9', '10', '11', '12', '13', '14', '15', '16', '17', '18']\n"
     ]
    },
    {
     "name": "stderr",
     "output_type": "stream",
     "text": [
      "C:\\Users\\jthoma\\AppData\\Local\\Temp\\ipykernel_6852\\2457786483.py:38: FutureWarning: The default dtype for empty Series will be 'object' instead of 'float64' in a future version. Specify a dtype explicitly to silence this warning.\n",
      "  a_series = pd.Series(row_list, index = df.columns)\n"
     ]
    },
    {
     "name": "stdout",
     "output_type": "stream",
     "text": [
      "Could not append: []\n"
     ]
    },
    {
     "name": "stderr",
     "output_type": "stream",
     "text": [
      "C:\\Users\\jthoma\\AppData\\Local\\Temp\\ipykernel_6852\\2457786483.py:39: FutureWarning: The frame.append method is deprecated and will be removed from pandas in a future version. Use pandas.concat instead.\n",
      "  df = df.append(a_series, ignore_index=True)\n",
      "C:\\Users\\jthoma\\AppData\\Local\\Temp\\ipykernel_6852\\2457786483.py:39: FutureWarning: The frame.append method is deprecated and will be removed from pandas in a future version. Use pandas.concat instead.\n",
      "  df = df.append(a_series, ignore_index=True)\n",
      "C:\\Users\\jthoma\\AppData\\Local\\Temp\\ipykernel_6852\\2457786483.py:39: FutureWarning: The frame.append method is deprecated and will be removed from pandas in a future version. Use pandas.concat instead.\n",
      "  df = df.append(a_series, ignore_index=True)\n",
      "C:\\Users\\jthoma\\AppData\\Local\\Temp\\ipykernel_6852\\2457786483.py:39: FutureWarning: The frame.append method is deprecated and will be removed from pandas in a future version. Use pandas.concat instead.\n",
      "  df = df.append(a_series, ignore_index=True)\n",
      "C:\\Users\\jthoma\\AppData\\Local\\Temp\\ipykernel_6852\\2457786483.py:39: FutureWarning: The frame.append method is deprecated and will be removed from pandas in a future version. Use pandas.concat instead.\n",
      "  df = df.append(a_series, ignore_index=True)\n",
      "C:\\Users\\jthoma\\AppData\\Local\\Temp\\ipykernel_6852\\2457786483.py:39: FutureWarning: The frame.append method is deprecated and will be removed from pandas in a future version. Use pandas.concat instead.\n",
      "  df = df.append(a_series, ignore_index=True)\n",
      "C:\\Users\\jthoma\\AppData\\Local\\Temp\\ipykernel_6852\\2457786483.py:39: FutureWarning: The frame.append method is deprecated and will be removed from pandas in a future version. Use pandas.concat instead.\n",
      "  df = df.append(a_series, ignore_index=True)\n",
      "C:\\Users\\jthoma\\AppData\\Local\\Temp\\ipykernel_6852\\2457786483.py:39: FutureWarning: The frame.append method is deprecated and will be removed from pandas in a future version. Use pandas.concat instead.\n",
      "  df = df.append(a_series, ignore_index=True)\n",
      "C:\\Users\\jthoma\\AppData\\Local\\Temp\\ipykernel_6852\\2457786483.py:39: FutureWarning: The frame.append method is deprecated and will be removed from pandas in a future version. Use pandas.concat instead.\n",
      "  df = df.append(a_series, ignore_index=True)\n",
      "C:\\Users\\jthoma\\AppData\\Local\\Temp\\ipykernel_6852\\2457786483.py:39: FutureWarning: The frame.append method is deprecated and will be removed from pandas in a future version. Use pandas.concat instead.\n",
      "  df = df.append(a_series, ignore_index=True)\n",
      "C:\\Users\\jthoma\\AppData\\Local\\Temp\\ipykernel_6852\\2457786483.py:39: FutureWarning: The frame.append method is deprecated and will be removed from pandas in a future version. Use pandas.concat instead.\n",
      "  df = df.append(a_series, ignore_index=True)\n"
     ]
    },
    {
     "name": "stdout",
     "output_type": "stream",
     "text": [
      "Could not append: ['...', '9', '10', '11', '12', '13', '14', '15', '16', '17', '18']\n"
     ]
    },
    {
     "name": "stderr",
     "output_type": "stream",
     "text": [
      "C:\\Users\\jthoma\\AppData\\Local\\Temp\\ipykernel_6852\\2457786483.py:38: FutureWarning: The default dtype for empty Series will be 'object' instead of 'float64' in a future version. Specify a dtype explicitly to silence this warning.\n",
      "  a_series = pd.Series(row_list, index = df.columns)\n"
     ]
    },
    {
     "name": "stdout",
     "output_type": "stream",
     "text": [
      "Could not append: []\n"
     ]
    },
    {
     "name": "stderr",
     "output_type": "stream",
     "text": [
      "C:\\Users\\jthoma\\AppData\\Local\\Temp\\ipykernel_6852\\2457786483.py:39: FutureWarning: The frame.append method is deprecated and will be removed from pandas in a future version. Use pandas.concat instead.\n",
      "  df = df.append(a_series, ignore_index=True)\n",
      "C:\\Users\\jthoma\\AppData\\Local\\Temp\\ipykernel_6852\\2457786483.py:39: FutureWarning: The frame.append method is deprecated and will be removed from pandas in a future version. Use pandas.concat instead.\n",
      "  df = df.append(a_series, ignore_index=True)\n",
      "C:\\Users\\jthoma\\AppData\\Local\\Temp\\ipykernel_6852\\2457786483.py:39: FutureWarning: The frame.append method is deprecated and will be removed from pandas in a future version. Use pandas.concat instead.\n",
      "  df = df.append(a_series, ignore_index=True)\n",
      "C:\\Users\\jthoma\\AppData\\Local\\Temp\\ipykernel_6852\\2457786483.py:39: FutureWarning: The frame.append method is deprecated and will be removed from pandas in a future version. Use pandas.concat instead.\n",
      "  df = df.append(a_series, ignore_index=True)\n",
      "C:\\Users\\jthoma\\AppData\\Local\\Temp\\ipykernel_6852\\2457786483.py:39: FutureWarning: The frame.append method is deprecated and will be removed from pandas in a future version. Use pandas.concat instead.\n",
      "  df = df.append(a_series, ignore_index=True)\n",
      "C:\\Users\\jthoma\\AppData\\Local\\Temp\\ipykernel_6852\\2457786483.py:39: FutureWarning: The frame.append method is deprecated and will be removed from pandas in a future version. Use pandas.concat instead.\n",
      "  df = df.append(a_series, ignore_index=True)\n",
      "C:\\Users\\jthoma\\AppData\\Local\\Temp\\ipykernel_6852\\2457786483.py:39: FutureWarning: The frame.append method is deprecated and will be removed from pandas in a future version. Use pandas.concat instead.\n",
      "  df = df.append(a_series, ignore_index=True)\n",
      "C:\\Users\\jthoma\\AppData\\Local\\Temp\\ipykernel_6852\\2457786483.py:39: FutureWarning: The frame.append method is deprecated and will be removed from pandas in a future version. Use pandas.concat instead.\n",
      "  df = df.append(a_series, ignore_index=True)\n",
      "C:\\Users\\jthoma\\AppData\\Local\\Temp\\ipykernel_6852\\2457786483.py:39: FutureWarning: The frame.append method is deprecated and will be removed from pandas in a future version. Use pandas.concat instead.\n",
      "  df = df.append(a_series, ignore_index=True)\n",
      "C:\\Users\\jthoma\\AppData\\Local\\Temp\\ipykernel_6852\\2457786483.py:39: FutureWarning: The frame.append method is deprecated and will be removed from pandas in a future version. Use pandas.concat instead.\n",
      "  df = df.append(a_series, ignore_index=True)\n",
      "C:\\Users\\jthoma\\AppData\\Local\\Temp\\ipykernel_6852\\2457786483.py:39: FutureWarning: The frame.append method is deprecated and will be removed from pandas in a future version. Use pandas.concat instead.\n",
      "  df = df.append(a_series, ignore_index=True)\n"
     ]
    },
    {
     "name": "stdout",
     "output_type": "stream",
     "text": [
      "Could not append: ['...', '9', '10', '11', '12', '13', '14', '15', '16', '17', '18']\n"
     ]
    },
    {
     "name": "stderr",
     "output_type": "stream",
     "text": [
      "C:\\Users\\jthoma\\AppData\\Local\\Temp\\ipykernel_6852\\2457786483.py:38: FutureWarning: The default dtype for empty Series will be 'object' instead of 'float64' in a future version. Specify a dtype explicitly to silence this warning.\n",
      "  a_series = pd.Series(row_list, index = df.columns)\n"
     ]
    },
    {
     "name": "stdout",
     "output_type": "stream",
     "text": [
      "Could not append: []\n"
     ]
    },
    {
     "name": "stderr",
     "output_type": "stream",
     "text": [
      "C:\\Users\\jthoma\\AppData\\Local\\Temp\\ipykernel_6852\\2457786483.py:39: FutureWarning: The frame.append method is deprecated and will be removed from pandas in a future version. Use pandas.concat instead.\n",
      "  df = df.append(a_series, ignore_index=True)\n",
      "C:\\Users\\jthoma\\AppData\\Local\\Temp\\ipykernel_6852\\2457786483.py:39: FutureWarning: The frame.append method is deprecated and will be removed from pandas in a future version. Use pandas.concat instead.\n",
      "  df = df.append(a_series, ignore_index=True)\n",
      "C:\\Users\\jthoma\\AppData\\Local\\Temp\\ipykernel_6852\\2457786483.py:39: FutureWarning: The frame.append method is deprecated and will be removed from pandas in a future version. Use pandas.concat instead.\n",
      "  df = df.append(a_series, ignore_index=True)\n",
      "C:\\Users\\jthoma\\AppData\\Local\\Temp\\ipykernel_6852\\2457786483.py:39: FutureWarning: The frame.append method is deprecated and will be removed from pandas in a future version. Use pandas.concat instead.\n",
      "  df = df.append(a_series, ignore_index=True)\n",
      "C:\\Users\\jthoma\\AppData\\Local\\Temp\\ipykernel_6852\\2457786483.py:39: FutureWarning: The frame.append method is deprecated and will be removed from pandas in a future version. Use pandas.concat instead.\n",
      "  df = df.append(a_series, ignore_index=True)\n",
      "C:\\Users\\jthoma\\AppData\\Local\\Temp\\ipykernel_6852\\2457786483.py:39: FutureWarning: The frame.append method is deprecated and will be removed from pandas in a future version. Use pandas.concat instead.\n",
      "  df = df.append(a_series, ignore_index=True)\n",
      "C:\\Users\\jthoma\\AppData\\Local\\Temp\\ipykernel_6852\\2457786483.py:39: FutureWarning: The frame.append method is deprecated and will be removed from pandas in a future version. Use pandas.concat instead.\n",
      "  df = df.append(a_series, ignore_index=True)\n",
      "C:\\Users\\jthoma\\AppData\\Local\\Temp\\ipykernel_6852\\2457786483.py:39: FutureWarning: The frame.append method is deprecated and will be removed from pandas in a future version. Use pandas.concat instead.\n",
      "  df = df.append(a_series, ignore_index=True)\n",
      "C:\\Users\\jthoma\\AppData\\Local\\Temp\\ipykernel_6852\\2457786483.py:39: FutureWarning: The frame.append method is deprecated and will be removed from pandas in a future version. Use pandas.concat instead.\n",
      "  df = df.append(a_series, ignore_index=True)\n",
      "C:\\Users\\jthoma\\AppData\\Local\\Temp\\ipykernel_6852\\2457786483.py:39: FutureWarning: The frame.append method is deprecated and will be removed from pandas in a future version. Use pandas.concat instead.\n",
      "  df = df.append(a_series, ignore_index=True)\n",
      "C:\\Users\\jthoma\\AppData\\Local\\Temp\\ipykernel_6852\\2457786483.py:39: FutureWarning: The frame.append method is deprecated and will be removed from pandas in a future version. Use pandas.concat instead.\n",
      "  df = df.append(a_series, ignore_index=True)\n"
     ]
    },
    {
     "name": "stdout",
     "output_type": "stream",
     "text": [
      "Could not append: ['...', '9', '10', '11', '12', '13', '14', '15', '16', '17', '18']\n"
     ]
    },
    {
     "name": "stderr",
     "output_type": "stream",
     "text": [
      "C:\\Users\\jthoma\\AppData\\Local\\Temp\\ipykernel_6852\\2457786483.py:38: FutureWarning: The default dtype for empty Series will be 'object' instead of 'float64' in a future version. Specify a dtype explicitly to silence this warning.\n",
      "  a_series = pd.Series(row_list, index = df.columns)\n"
     ]
    },
    {
     "name": "stdout",
     "output_type": "stream",
     "text": [
      "Could not append: []\n"
     ]
    },
    {
     "name": "stderr",
     "output_type": "stream",
     "text": [
      "C:\\Users\\jthoma\\AppData\\Local\\Temp\\ipykernel_6852\\2457786483.py:39: FutureWarning: The frame.append method is deprecated and will be removed from pandas in a future version. Use pandas.concat instead.\n",
      "  df = df.append(a_series, ignore_index=True)\n",
      "C:\\Users\\jthoma\\AppData\\Local\\Temp\\ipykernel_6852\\2457786483.py:39: FutureWarning: The frame.append method is deprecated and will be removed from pandas in a future version. Use pandas.concat instead.\n",
      "  df = df.append(a_series, ignore_index=True)\n",
      "C:\\Users\\jthoma\\AppData\\Local\\Temp\\ipykernel_6852\\2457786483.py:39: FutureWarning: The frame.append method is deprecated and will be removed from pandas in a future version. Use pandas.concat instead.\n",
      "  df = df.append(a_series, ignore_index=True)\n",
      "C:\\Users\\jthoma\\AppData\\Local\\Temp\\ipykernel_6852\\2457786483.py:39: FutureWarning: The frame.append method is deprecated and will be removed from pandas in a future version. Use pandas.concat instead.\n",
      "  df = df.append(a_series, ignore_index=True)\n",
      "C:\\Users\\jthoma\\AppData\\Local\\Temp\\ipykernel_6852\\2457786483.py:39: FutureWarning: The frame.append method is deprecated and will be removed from pandas in a future version. Use pandas.concat instead.\n",
      "  df = df.append(a_series, ignore_index=True)\n",
      "C:\\Users\\jthoma\\AppData\\Local\\Temp\\ipykernel_6852\\2457786483.py:39: FutureWarning: The frame.append method is deprecated and will be removed from pandas in a future version. Use pandas.concat instead.\n",
      "  df = df.append(a_series, ignore_index=True)\n",
      "C:\\Users\\jthoma\\AppData\\Local\\Temp\\ipykernel_6852\\2457786483.py:39: FutureWarning: The frame.append method is deprecated and will be removed from pandas in a future version. Use pandas.concat instead.\n",
      "  df = df.append(a_series, ignore_index=True)\n",
      "C:\\Users\\jthoma\\AppData\\Local\\Temp\\ipykernel_6852\\2457786483.py:39: FutureWarning: The frame.append method is deprecated and will be removed from pandas in a future version. Use pandas.concat instead.\n",
      "  df = df.append(a_series, ignore_index=True)\n",
      "C:\\Users\\jthoma\\AppData\\Local\\Temp\\ipykernel_6852\\2457786483.py:39: FutureWarning: The frame.append method is deprecated and will be removed from pandas in a future version. Use pandas.concat instead.\n",
      "  df = df.append(a_series, ignore_index=True)\n",
      "C:\\Users\\jthoma\\AppData\\Local\\Temp\\ipykernel_6852\\2457786483.py:39: FutureWarning: The frame.append method is deprecated and will be removed from pandas in a future version. Use pandas.concat instead.\n",
      "  df = df.append(a_series, ignore_index=True)\n",
      "C:\\Users\\jthoma\\AppData\\Local\\Temp\\ipykernel_6852\\2457786483.py:39: FutureWarning: The frame.append method is deprecated and will be removed from pandas in a future version. Use pandas.concat instead.\n",
      "  df = df.append(a_series, ignore_index=True)\n"
     ]
    },
    {
     "name": "stdout",
     "output_type": "stream",
     "text": [
      "Could not append: ['...', '9', '10', '11', '12', '13', '14', '15', '16', '17', '18']\n"
     ]
    },
    {
     "name": "stderr",
     "output_type": "stream",
     "text": [
      "C:\\Users\\jthoma\\AppData\\Local\\Temp\\ipykernel_6852\\2457786483.py:38: FutureWarning: The default dtype for empty Series will be 'object' instead of 'float64' in a future version. Specify a dtype explicitly to silence this warning.\n",
      "  a_series = pd.Series(row_list, index = df.columns)\n"
     ]
    },
    {
     "name": "stdout",
     "output_type": "stream",
     "text": [
      "Could not append: []\n"
     ]
    },
    {
     "name": "stderr",
     "output_type": "stream",
     "text": [
      "C:\\Users\\jthoma\\AppData\\Local\\Temp\\ipykernel_6852\\2457786483.py:39: FutureWarning: The frame.append method is deprecated and will be removed from pandas in a future version. Use pandas.concat instead.\n",
      "  df = df.append(a_series, ignore_index=True)\n",
      "C:\\Users\\jthoma\\AppData\\Local\\Temp\\ipykernel_6852\\2457786483.py:39: FutureWarning: The frame.append method is deprecated and will be removed from pandas in a future version. Use pandas.concat instead.\n",
      "  df = df.append(a_series, ignore_index=True)\n",
      "C:\\Users\\jthoma\\AppData\\Local\\Temp\\ipykernel_6852\\2457786483.py:39: FutureWarning: The frame.append method is deprecated and will be removed from pandas in a future version. Use pandas.concat instead.\n",
      "  df = df.append(a_series, ignore_index=True)\n",
      "C:\\Users\\jthoma\\AppData\\Local\\Temp\\ipykernel_6852\\2457786483.py:39: FutureWarning: The frame.append method is deprecated and will be removed from pandas in a future version. Use pandas.concat instead.\n",
      "  df = df.append(a_series, ignore_index=True)\n",
      "C:\\Users\\jthoma\\AppData\\Local\\Temp\\ipykernel_6852\\2457786483.py:39: FutureWarning: The frame.append method is deprecated and will be removed from pandas in a future version. Use pandas.concat instead.\n",
      "  df = df.append(a_series, ignore_index=True)\n",
      "C:\\Users\\jthoma\\AppData\\Local\\Temp\\ipykernel_6852\\2457786483.py:39: FutureWarning: The frame.append method is deprecated and will be removed from pandas in a future version. Use pandas.concat instead.\n",
      "  df = df.append(a_series, ignore_index=True)\n",
      "C:\\Users\\jthoma\\AppData\\Local\\Temp\\ipykernel_6852\\2457786483.py:39: FutureWarning: The frame.append method is deprecated and will be removed from pandas in a future version. Use pandas.concat instead.\n",
      "  df = df.append(a_series, ignore_index=True)\n",
      "C:\\Users\\jthoma\\AppData\\Local\\Temp\\ipykernel_6852\\2457786483.py:39: FutureWarning: The frame.append method is deprecated and will be removed from pandas in a future version. Use pandas.concat instead.\n",
      "  df = df.append(a_series, ignore_index=True)\n",
      "C:\\Users\\jthoma\\AppData\\Local\\Temp\\ipykernel_6852\\2457786483.py:39: FutureWarning: The frame.append method is deprecated and will be removed from pandas in a future version. Use pandas.concat instead.\n",
      "  df = df.append(a_series, ignore_index=True)\n",
      "C:\\Users\\jthoma\\AppData\\Local\\Temp\\ipykernel_6852\\2457786483.py:39: FutureWarning: The frame.append method is deprecated and will be removed from pandas in a future version. Use pandas.concat instead.\n",
      "  df = df.append(a_series, ignore_index=True)\n",
      "C:\\Users\\jthoma\\AppData\\Local\\Temp\\ipykernel_6852\\2457786483.py:39: FutureWarning: The frame.append method is deprecated and will be removed from pandas in a future version. Use pandas.concat instead.\n",
      "  df = df.append(a_series, ignore_index=True)\n"
     ]
    },
    {
     "name": "stdout",
     "output_type": "stream",
     "text": [
      "Could not append: ['...', '9', '10', '11', '12', '13', '14', '15', '16', '17', '18']\n"
     ]
    },
    {
     "name": "stderr",
     "output_type": "stream",
     "text": [
      "C:\\Users\\jthoma\\AppData\\Local\\Temp\\ipykernel_6852\\2457786483.py:38: FutureWarning: The default dtype for empty Series will be 'object' instead of 'float64' in a future version. Specify a dtype explicitly to silence this warning.\n",
      "  a_series = pd.Series(row_list, index = df.columns)\n"
     ]
    },
    {
     "name": "stdout",
     "output_type": "stream",
     "text": [
      "Could not append: []\n"
     ]
    },
    {
     "name": "stderr",
     "output_type": "stream",
     "text": [
      "C:\\Users\\jthoma\\AppData\\Local\\Temp\\ipykernel_6852\\2457786483.py:39: FutureWarning: The frame.append method is deprecated and will be removed from pandas in a future version. Use pandas.concat instead.\n",
      "  df = df.append(a_series, ignore_index=True)\n",
      "C:\\Users\\jthoma\\AppData\\Local\\Temp\\ipykernel_6852\\2457786483.py:39: FutureWarning: The frame.append method is deprecated and will be removed from pandas in a future version. Use pandas.concat instead.\n",
      "  df = df.append(a_series, ignore_index=True)\n",
      "C:\\Users\\jthoma\\AppData\\Local\\Temp\\ipykernel_6852\\2457786483.py:39: FutureWarning: The frame.append method is deprecated and will be removed from pandas in a future version. Use pandas.concat instead.\n",
      "  df = df.append(a_series, ignore_index=True)\n",
      "C:\\Users\\jthoma\\AppData\\Local\\Temp\\ipykernel_6852\\2457786483.py:39: FutureWarning: The frame.append method is deprecated and will be removed from pandas in a future version. Use pandas.concat instead.\n",
      "  df = df.append(a_series, ignore_index=True)\n",
      "C:\\Users\\jthoma\\AppData\\Local\\Temp\\ipykernel_6852\\2457786483.py:39: FutureWarning: The frame.append method is deprecated and will be removed from pandas in a future version. Use pandas.concat instead.\n",
      "  df = df.append(a_series, ignore_index=True)\n",
      "C:\\Users\\jthoma\\AppData\\Local\\Temp\\ipykernel_6852\\2457786483.py:39: FutureWarning: The frame.append method is deprecated and will be removed from pandas in a future version. Use pandas.concat instead.\n",
      "  df = df.append(a_series, ignore_index=True)\n",
      "C:\\Users\\jthoma\\AppData\\Local\\Temp\\ipykernel_6852\\2457786483.py:39: FutureWarning: The frame.append method is deprecated and will be removed from pandas in a future version. Use pandas.concat instead.\n",
      "  df = df.append(a_series, ignore_index=True)\n",
      "C:\\Users\\jthoma\\AppData\\Local\\Temp\\ipykernel_6852\\2457786483.py:39: FutureWarning: The frame.append method is deprecated and will be removed from pandas in a future version. Use pandas.concat instead.\n",
      "  df = df.append(a_series, ignore_index=True)\n",
      "C:\\Users\\jthoma\\AppData\\Local\\Temp\\ipykernel_6852\\2457786483.py:39: FutureWarning: The frame.append method is deprecated and will be removed from pandas in a future version. Use pandas.concat instead.\n",
      "  df = df.append(a_series, ignore_index=True)\n",
      "C:\\Users\\jthoma\\AppData\\Local\\Temp\\ipykernel_6852\\2457786483.py:39: FutureWarning: The frame.append method is deprecated and will be removed from pandas in a future version. Use pandas.concat instead.\n",
      "  df = df.append(a_series, ignore_index=True)\n",
      "C:\\Users\\jthoma\\AppData\\Local\\Temp\\ipykernel_6852\\2457786483.py:39: FutureWarning: The frame.append method is deprecated and will be removed from pandas in a future version. Use pandas.concat instead.\n",
      "  df = df.append(a_series, ignore_index=True)\n"
     ]
    },
    {
     "name": "stdout",
     "output_type": "stream",
     "text": [
      "Could not append: ['...', '9', '10', '11', '12', '13', '14', '15', '16', '17', '18']\n"
     ]
    },
    {
     "name": "stderr",
     "output_type": "stream",
     "text": [
      "C:\\Users\\jthoma\\AppData\\Local\\Temp\\ipykernel_6852\\2457786483.py:38: FutureWarning: The default dtype for empty Series will be 'object' instead of 'float64' in a future version. Specify a dtype explicitly to silence this warning.\n",
      "  a_series = pd.Series(row_list, index = df.columns)\n"
     ]
    },
    {
     "name": "stdout",
     "output_type": "stream",
     "text": [
      "Could not append: []\n"
     ]
    },
    {
     "name": "stderr",
     "output_type": "stream",
     "text": [
      "C:\\Users\\jthoma\\AppData\\Local\\Temp\\ipykernel_6852\\2457786483.py:39: FutureWarning: The frame.append method is deprecated and will be removed from pandas in a future version. Use pandas.concat instead.\n",
      "  df = df.append(a_series, ignore_index=True)\n",
      "C:\\Users\\jthoma\\AppData\\Local\\Temp\\ipykernel_6852\\2457786483.py:39: FutureWarning: The frame.append method is deprecated and will be removed from pandas in a future version. Use pandas.concat instead.\n",
      "  df = df.append(a_series, ignore_index=True)\n",
      "C:\\Users\\jthoma\\AppData\\Local\\Temp\\ipykernel_6852\\2457786483.py:39: FutureWarning: The frame.append method is deprecated and will be removed from pandas in a future version. Use pandas.concat instead.\n",
      "  df = df.append(a_series, ignore_index=True)\n",
      "C:\\Users\\jthoma\\AppData\\Local\\Temp\\ipykernel_6852\\2457786483.py:39: FutureWarning: The frame.append method is deprecated and will be removed from pandas in a future version. Use pandas.concat instead.\n",
      "  df = df.append(a_series, ignore_index=True)\n",
      "C:\\Users\\jthoma\\AppData\\Local\\Temp\\ipykernel_6852\\2457786483.py:39: FutureWarning: The frame.append method is deprecated and will be removed from pandas in a future version. Use pandas.concat instead.\n",
      "  df = df.append(a_series, ignore_index=True)\n",
      "C:\\Users\\jthoma\\AppData\\Local\\Temp\\ipykernel_6852\\2457786483.py:39: FutureWarning: The frame.append method is deprecated and will be removed from pandas in a future version. Use pandas.concat instead.\n",
      "  df = df.append(a_series, ignore_index=True)\n",
      "C:\\Users\\jthoma\\AppData\\Local\\Temp\\ipykernel_6852\\2457786483.py:39: FutureWarning: The frame.append method is deprecated and will be removed from pandas in a future version. Use pandas.concat instead.\n",
      "  df = df.append(a_series, ignore_index=True)\n",
      "C:\\Users\\jthoma\\AppData\\Local\\Temp\\ipykernel_6852\\2457786483.py:39: FutureWarning: The frame.append method is deprecated and will be removed from pandas in a future version. Use pandas.concat instead.\n",
      "  df = df.append(a_series, ignore_index=True)\n",
      "C:\\Users\\jthoma\\AppData\\Local\\Temp\\ipykernel_6852\\2457786483.py:39: FutureWarning: The frame.append method is deprecated and will be removed from pandas in a future version. Use pandas.concat instead.\n",
      "  df = df.append(a_series, ignore_index=True)\n",
      "C:\\Users\\jthoma\\AppData\\Local\\Temp\\ipykernel_6852\\2457786483.py:39: FutureWarning: The frame.append method is deprecated and will be removed from pandas in a future version. Use pandas.concat instead.\n",
      "  df = df.append(a_series, ignore_index=True)\n",
      "C:\\Users\\jthoma\\AppData\\Local\\Temp\\ipykernel_6852\\2457786483.py:39: FutureWarning: The frame.append method is deprecated and will be removed from pandas in a future version. Use pandas.concat instead.\n",
      "  df = df.append(a_series, ignore_index=True)\n"
     ]
    },
    {
     "name": "stdout",
     "output_type": "stream",
     "text": [
      "Could not append: ['1', '2', '3', '4', '5', '6', '7', '8', '9', '10', '...']\n"
     ]
    },
    {
     "name": "stderr",
     "output_type": "stream",
     "text": [
      "C:\\Users\\jthoma\\AppData\\Local\\Temp\\ipykernel_6852\\2457786483.py:38: FutureWarning: The default dtype for empty Series will be 'object' instead of 'float64' in a future version. Specify a dtype explicitly to silence this warning.\n",
      "  a_series = pd.Series(row_list, index = df.columns)\n"
     ]
    },
    {
     "name": "stdout",
     "output_type": "stream",
     "text": [
      "Could not append: []\n"
     ]
    },
    {
     "name": "stderr",
     "output_type": "stream",
     "text": [
      "C:\\Users\\jthoma\\AppData\\Local\\Temp\\ipykernel_6852\\2457786483.py:39: FutureWarning: The frame.append method is deprecated and will be removed from pandas in a future version. Use pandas.concat instead.\n",
      "  df = df.append(a_series, ignore_index=True)\n",
      "C:\\Users\\jthoma\\AppData\\Local\\Temp\\ipykernel_6852\\2457786483.py:39: FutureWarning: The frame.append method is deprecated and will be removed from pandas in a future version. Use pandas.concat instead.\n",
      "  df = df.append(a_series, ignore_index=True)\n",
      "C:\\Users\\jthoma\\AppData\\Local\\Temp\\ipykernel_6852\\2457786483.py:39: FutureWarning: The frame.append method is deprecated and will be removed from pandas in a future version. Use pandas.concat instead.\n",
      "  df = df.append(a_series, ignore_index=True)\n",
      "C:\\Users\\jthoma\\AppData\\Local\\Temp\\ipykernel_6852\\2457786483.py:39: FutureWarning: The frame.append method is deprecated and will be removed from pandas in a future version. Use pandas.concat instead.\n",
      "  df = df.append(a_series, ignore_index=True)\n",
      "C:\\Users\\jthoma\\AppData\\Local\\Temp\\ipykernel_6852\\2457786483.py:39: FutureWarning: The frame.append method is deprecated and will be removed from pandas in a future version. Use pandas.concat instead.\n",
      "  df = df.append(a_series, ignore_index=True)\n",
      "C:\\Users\\jthoma\\AppData\\Local\\Temp\\ipykernel_6852\\2457786483.py:39: FutureWarning: The frame.append method is deprecated and will be removed from pandas in a future version. Use pandas.concat instead.\n",
      "  df = df.append(a_series, ignore_index=True)\n",
      "C:\\Users\\jthoma\\AppData\\Local\\Temp\\ipykernel_6852\\2457786483.py:39: FutureWarning: The frame.append method is deprecated and will be removed from pandas in a future version. Use pandas.concat instead.\n",
      "  df = df.append(a_series, ignore_index=True)\n",
      "C:\\Users\\jthoma\\AppData\\Local\\Temp\\ipykernel_6852\\2457786483.py:39: FutureWarning: The frame.append method is deprecated and will be removed from pandas in a future version. Use pandas.concat instead.\n",
      "  df = df.append(a_series, ignore_index=True)\n",
      "C:\\Users\\jthoma\\AppData\\Local\\Temp\\ipykernel_6852\\2457786483.py:39: FutureWarning: The frame.append method is deprecated and will be removed from pandas in a future version. Use pandas.concat instead.\n",
      "  df = df.append(a_series, ignore_index=True)\n",
      "C:\\Users\\jthoma\\AppData\\Local\\Temp\\ipykernel_6852\\2457786483.py:39: FutureWarning: The frame.append method is deprecated and will be removed from pandas in a future version. Use pandas.concat instead.\n",
      "  df = df.append(a_series, ignore_index=True)\n",
      "C:\\Users\\jthoma\\AppData\\Local\\Temp\\ipykernel_6852\\2457786483.py:39: FutureWarning: The frame.append method is deprecated and will be removed from pandas in a future version. Use pandas.concat instead.\n",
      "  df = df.append(a_series, ignore_index=True)\n"
     ]
    },
    {
     "name": "stdout",
     "output_type": "stream",
     "text": [
      "Could not append: ['1', '2', '3', '4', '5', '6', '7', '8', '9', '10', '...']\n"
     ]
    },
    {
     "name": "stderr",
     "output_type": "stream",
     "text": [
      "C:\\Users\\jthoma\\AppData\\Local\\Temp\\ipykernel_6852\\2457786483.py:38: FutureWarning: The default dtype for empty Series will be 'object' instead of 'float64' in a future version. Specify a dtype explicitly to silence this warning.\n",
      "  a_series = pd.Series(row_list, index = df.columns)\n"
     ]
    },
    {
     "name": "stdout",
     "output_type": "stream",
     "text": [
      "Could not append: []\n"
     ]
    },
    {
     "name": "stderr",
     "output_type": "stream",
     "text": [
      "C:\\Users\\jthoma\\AppData\\Local\\Temp\\ipykernel_6852\\2457786483.py:39: FutureWarning: The frame.append method is deprecated and will be removed from pandas in a future version. Use pandas.concat instead.\n",
      "  df = df.append(a_series, ignore_index=True)\n",
      "C:\\Users\\jthoma\\AppData\\Local\\Temp\\ipykernel_6852\\2457786483.py:39: FutureWarning: The frame.append method is deprecated and will be removed from pandas in a future version. Use pandas.concat instead.\n",
      "  df = df.append(a_series, ignore_index=True)\n",
      "C:\\Users\\jthoma\\AppData\\Local\\Temp\\ipykernel_6852\\2457786483.py:39: FutureWarning: The frame.append method is deprecated and will be removed from pandas in a future version. Use pandas.concat instead.\n",
      "  df = df.append(a_series, ignore_index=True)\n",
      "C:\\Users\\jthoma\\AppData\\Local\\Temp\\ipykernel_6852\\2457786483.py:39: FutureWarning: The frame.append method is deprecated and will be removed from pandas in a future version. Use pandas.concat instead.\n",
      "  df = df.append(a_series, ignore_index=True)\n",
      "C:\\Users\\jthoma\\AppData\\Local\\Temp\\ipykernel_6852\\2457786483.py:39: FutureWarning: The frame.append method is deprecated and will be removed from pandas in a future version. Use pandas.concat instead.\n",
      "  df = df.append(a_series, ignore_index=True)\n",
      "C:\\Users\\jthoma\\AppData\\Local\\Temp\\ipykernel_6852\\2457786483.py:39: FutureWarning: The frame.append method is deprecated and will be removed from pandas in a future version. Use pandas.concat instead.\n",
      "  df = df.append(a_series, ignore_index=True)\n",
      "C:\\Users\\jthoma\\AppData\\Local\\Temp\\ipykernel_6852\\2457786483.py:39: FutureWarning: The frame.append method is deprecated and will be removed from pandas in a future version. Use pandas.concat instead.\n",
      "  df = df.append(a_series, ignore_index=True)\n",
      "C:\\Users\\jthoma\\AppData\\Local\\Temp\\ipykernel_6852\\2457786483.py:39: FutureWarning: The frame.append method is deprecated and will be removed from pandas in a future version. Use pandas.concat instead.\n",
      "  df = df.append(a_series, ignore_index=True)\n",
      "C:\\Users\\jthoma\\AppData\\Local\\Temp\\ipykernel_6852\\2457786483.py:39: FutureWarning: The frame.append method is deprecated and will be removed from pandas in a future version. Use pandas.concat instead.\n",
      "  df = df.append(a_series, ignore_index=True)\n",
      "C:\\Users\\jthoma\\AppData\\Local\\Temp\\ipykernel_6852\\2457786483.py:39: FutureWarning: The frame.append method is deprecated and will be removed from pandas in a future version. Use pandas.concat instead.\n",
      "  df = df.append(a_series, ignore_index=True)\n",
      "C:\\Users\\jthoma\\AppData\\Local\\Temp\\ipykernel_6852\\2457786483.py:39: FutureWarning: The frame.append method is deprecated and will be removed from pandas in a future version. Use pandas.concat instead.\n",
      "  df = df.append(a_series, ignore_index=True)\n"
     ]
    },
    {
     "name": "stdout",
     "output_type": "stream",
     "text": [
      "Could not append: ['1', '2', '3', '4', '5', '6', '7', '8', '9', '10', '...']\n"
     ]
    },
    {
     "name": "stderr",
     "output_type": "stream",
     "text": [
      "C:\\Users\\jthoma\\AppData\\Local\\Temp\\ipykernel_6852\\2457786483.py:38: FutureWarning: The default dtype for empty Series will be 'object' instead of 'float64' in a future version. Specify a dtype explicitly to silence this warning.\n",
      "  a_series = pd.Series(row_list, index = df.columns)\n"
     ]
    },
    {
     "name": "stdout",
     "output_type": "stream",
     "text": [
      "Could not append: []\n"
     ]
    },
    {
     "name": "stderr",
     "output_type": "stream",
     "text": [
      "C:\\Users\\jthoma\\AppData\\Local\\Temp\\ipykernel_6852\\2457786483.py:39: FutureWarning: The frame.append method is deprecated and will be removed from pandas in a future version. Use pandas.concat instead.\n",
      "  df = df.append(a_series, ignore_index=True)\n",
      "C:\\Users\\jthoma\\AppData\\Local\\Temp\\ipykernel_6852\\2457786483.py:39: FutureWarning: The frame.append method is deprecated and will be removed from pandas in a future version. Use pandas.concat instead.\n",
      "  df = df.append(a_series, ignore_index=True)\n",
      "C:\\Users\\jthoma\\AppData\\Local\\Temp\\ipykernel_6852\\2457786483.py:39: FutureWarning: The frame.append method is deprecated and will be removed from pandas in a future version. Use pandas.concat instead.\n",
      "  df = df.append(a_series, ignore_index=True)\n",
      "C:\\Users\\jthoma\\AppData\\Local\\Temp\\ipykernel_6852\\2457786483.py:39: FutureWarning: The frame.append method is deprecated and will be removed from pandas in a future version. Use pandas.concat instead.\n",
      "  df = df.append(a_series, ignore_index=True)\n",
      "C:\\Users\\jthoma\\AppData\\Local\\Temp\\ipykernel_6852\\2457786483.py:39: FutureWarning: The frame.append method is deprecated and will be removed from pandas in a future version. Use pandas.concat instead.\n",
      "  df = df.append(a_series, ignore_index=True)\n",
      "C:\\Users\\jthoma\\AppData\\Local\\Temp\\ipykernel_6852\\2457786483.py:39: FutureWarning: The frame.append method is deprecated and will be removed from pandas in a future version. Use pandas.concat instead.\n",
      "  df = df.append(a_series, ignore_index=True)\n",
      "C:\\Users\\jthoma\\AppData\\Local\\Temp\\ipykernel_6852\\2457786483.py:39: FutureWarning: The frame.append method is deprecated and will be removed from pandas in a future version. Use pandas.concat instead.\n",
      "  df = df.append(a_series, ignore_index=True)\n",
      "C:\\Users\\jthoma\\AppData\\Local\\Temp\\ipykernel_6852\\2457786483.py:39: FutureWarning: The frame.append method is deprecated and will be removed from pandas in a future version. Use pandas.concat instead.\n",
      "  df = df.append(a_series, ignore_index=True)\n",
      "C:\\Users\\jthoma\\AppData\\Local\\Temp\\ipykernel_6852\\2457786483.py:39: FutureWarning: The frame.append method is deprecated and will be removed from pandas in a future version. Use pandas.concat instead.\n",
      "  df = df.append(a_series, ignore_index=True)\n",
      "C:\\Users\\jthoma\\AppData\\Local\\Temp\\ipykernel_6852\\2457786483.py:39: FutureWarning: The frame.append method is deprecated and will be removed from pandas in a future version. Use pandas.concat instead.\n",
      "  df = df.append(a_series, ignore_index=True)\n",
      "C:\\Users\\jthoma\\AppData\\Local\\Temp\\ipykernel_6852\\2457786483.py:39: FutureWarning: The frame.append method is deprecated and will be removed from pandas in a future version. Use pandas.concat instead.\n",
      "  df = df.append(a_series, ignore_index=True)\n"
     ]
    },
    {
     "name": "stdout",
     "output_type": "stream",
     "text": [
      "Could not append: ['1', '2', '3', '4', '5', '6', '7', '8', '9', '10', '...']\n"
     ]
    },
    {
     "name": "stderr",
     "output_type": "stream",
     "text": [
      "C:\\Users\\jthoma\\AppData\\Local\\Temp\\ipykernel_6852\\2457786483.py:38: FutureWarning: The default dtype for empty Series will be 'object' instead of 'float64' in a future version. Specify a dtype explicitly to silence this warning.\n",
      "  a_series = pd.Series(row_list, index = df.columns)\n"
     ]
    },
    {
     "name": "stdout",
     "output_type": "stream",
     "text": [
      "Could not append: []\n"
     ]
    },
    {
     "name": "stderr",
     "output_type": "stream",
     "text": [
      "C:\\Users\\jthoma\\AppData\\Local\\Temp\\ipykernel_6852\\2457786483.py:39: FutureWarning: The frame.append method is deprecated and will be removed from pandas in a future version. Use pandas.concat instead.\n",
      "  df = df.append(a_series, ignore_index=True)\n",
      "C:\\Users\\jthoma\\AppData\\Local\\Temp\\ipykernel_6852\\2457786483.py:39: FutureWarning: The frame.append method is deprecated and will be removed from pandas in a future version. Use pandas.concat instead.\n",
      "  df = df.append(a_series, ignore_index=True)\n",
      "C:\\Users\\jthoma\\AppData\\Local\\Temp\\ipykernel_6852\\2457786483.py:39: FutureWarning: The frame.append method is deprecated and will be removed from pandas in a future version. Use pandas.concat instead.\n",
      "  df = df.append(a_series, ignore_index=True)\n",
      "C:\\Users\\jthoma\\AppData\\Local\\Temp\\ipykernel_6852\\2457786483.py:39: FutureWarning: The frame.append method is deprecated and will be removed from pandas in a future version. Use pandas.concat instead.\n",
      "  df = df.append(a_series, ignore_index=True)\n",
      "C:\\Users\\jthoma\\AppData\\Local\\Temp\\ipykernel_6852\\2457786483.py:39: FutureWarning: The frame.append method is deprecated and will be removed from pandas in a future version. Use pandas.concat instead.\n",
      "  df = df.append(a_series, ignore_index=True)\n",
      "C:\\Users\\jthoma\\AppData\\Local\\Temp\\ipykernel_6852\\2457786483.py:39: FutureWarning: The frame.append method is deprecated and will be removed from pandas in a future version. Use pandas.concat instead.\n",
      "  df = df.append(a_series, ignore_index=True)\n",
      "C:\\Users\\jthoma\\AppData\\Local\\Temp\\ipykernel_6852\\2457786483.py:39: FutureWarning: The frame.append method is deprecated and will be removed from pandas in a future version. Use pandas.concat instead.\n",
      "  df = df.append(a_series, ignore_index=True)\n",
      "C:\\Users\\jthoma\\AppData\\Local\\Temp\\ipykernel_6852\\2457786483.py:39: FutureWarning: The frame.append method is deprecated and will be removed from pandas in a future version. Use pandas.concat instead.\n",
      "  df = df.append(a_series, ignore_index=True)\n",
      "C:\\Users\\jthoma\\AppData\\Local\\Temp\\ipykernel_6852\\2457786483.py:39: FutureWarning: The frame.append method is deprecated and will be removed from pandas in a future version. Use pandas.concat instead.\n",
      "  df = df.append(a_series, ignore_index=True)\n",
      "C:\\Users\\jthoma\\AppData\\Local\\Temp\\ipykernel_6852\\2457786483.py:39: FutureWarning: The frame.append method is deprecated and will be removed from pandas in a future version. Use pandas.concat instead.\n",
      "  df = df.append(a_series, ignore_index=True)\n",
      "C:\\Users\\jthoma\\AppData\\Local\\Temp\\ipykernel_6852\\2457786483.py:39: FutureWarning: The frame.append method is deprecated and will be removed from pandas in a future version. Use pandas.concat instead.\n",
      "  df = df.append(a_series, ignore_index=True)\n"
     ]
    },
    {
     "name": "stdout",
     "output_type": "stream",
     "text": [
      "Could not append: ['1', '2', '3', '4', '5', '6', '7', '8', '9', '10', '...']\n"
     ]
    },
    {
     "name": "stderr",
     "output_type": "stream",
     "text": [
      "C:\\Users\\jthoma\\AppData\\Local\\Temp\\ipykernel_6852\\2457786483.py:38: FutureWarning: The default dtype for empty Series will be 'object' instead of 'float64' in a future version. Specify a dtype explicitly to silence this warning.\n",
      "  a_series = pd.Series(row_list, index = df.columns)\n"
     ]
    },
    {
     "name": "stdout",
     "output_type": "stream",
     "text": [
      "Could not append: []\n"
     ]
    },
    {
     "name": "stderr",
     "output_type": "stream",
     "text": [
      "C:\\Users\\jthoma\\AppData\\Local\\Temp\\ipykernel_6852\\2457786483.py:39: FutureWarning: The frame.append method is deprecated and will be removed from pandas in a future version. Use pandas.concat instead.\n",
      "  df = df.append(a_series, ignore_index=True)\n",
      "C:\\Users\\jthoma\\AppData\\Local\\Temp\\ipykernel_6852\\2457786483.py:39: FutureWarning: The frame.append method is deprecated and will be removed from pandas in a future version. Use pandas.concat instead.\n",
      "  df = df.append(a_series, ignore_index=True)\n",
      "C:\\Users\\jthoma\\AppData\\Local\\Temp\\ipykernel_6852\\2457786483.py:39: FutureWarning: The frame.append method is deprecated and will be removed from pandas in a future version. Use pandas.concat instead.\n",
      "  df = df.append(a_series, ignore_index=True)\n",
      "C:\\Users\\jthoma\\AppData\\Local\\Temp\\ipykernel_6852\\2457786483.py:39: FutureWarning: The frame.append method is deprecated and will be removed from pandas in a future version. Use pandas.concat instead.\n",
      "  df = df.append(a_series, ignore_index=True)\n",
      "C:\\Users\\jthoma\\AppData\\Local\\Temp\\ipykernel_6852\\2457786483.py:39: FutureWarning: The frame.append method is deprecated and will be removed from pandas in a future version. Use pandas.concat instead.\n",
      "  df = df.append(a_series, ignore_index=True)\n",
      "C:\\Users\\jthoma\\AppData\\Local\\Temp\\ipykernel_6852\\2457786483.py:39: FutureWarning: The frame.append method is deprecated and will be removed from pandas in a future version. Use pandas.concat instead.\n",
      "  df = df.append(a_series, ignore_index=True)\n",
      "C:\\Users\\jthoma\\AppData\\Local\\Temp\\ipykernel_6852\\2457786483.py:39: FutureWarning: The frame.append method is deprecated and will be removed from pandas in a future version. Use pandas.concat instead.\n",
      "  df = df.append(a_series, ignore_index=True)\n",
      "C:\\Users\\jthoma\\AppData\\Local\\Temp\\ipykernel_6852\\2457786483.py:39: FutureWarning: The frame.append method is deprecated and will be removed from pandas in a future version. Use pandas.concat instead.\n",
      "  df = df.append(a_series, ignore_index=True)\n",
      "C:\\Users\\jthoma\\AppData\\Local\\Temp\\ipykernel_6852\\2457786483.py:39: FutureWarning: The frame.append method is deprecated and will be removed from pandas in a future version. Use pandas.concat instead.\n",
      "  df = df.append(a_series, ignore_index=True)\n",
      "C:\\Users\\jthoma\\AppData\\Local\\Temp\\ipykernel_6852\\2457786483.py:39: FutureWarning: The frame.append method is deprecated and will be removed from pandas in a future version. Use pandas.concat instead.\n",
      "  df = df.append(a_series, ignore_index=True)\n",
      "C:\\Users\\jthoma\\AppData\\Local\\Temp\\ipykernel_6852\\2457786483.py:39: FutureWarning: The frame.append method is deprecated and will be removed from pandas in a future version. Use pandas.concat instead.\n",
      "  df = df.append(a_series, ignore_index=True)\n"
     ]
    },
    {
     "name": "stdout",
     "output_type": "stream",
     "text": [
      "Could not append: ['1', '2', '3', '4', '5', '6', '7', '8', '9', '10', '...']\n"
     ]
    },
    {
     "name": "stderr",
     "output_type": "stream",
     "text": [
      "C:\\Users\\jthoma\\AppData\\Local\\Temp\\ipykernel_6852\\2457786483.py:38: FutureWarning: The default dtype for empty Series will be 'object' instead of 'float64' in a future version. Specify a dtype explicitly to silence this warning.\n",
      "  a_series = pd.Series(row_list, index = df.columns)\n"
     ]
    },
    {
     "name": "stdout",
     "output_type": "stream",
     "text": [
      "Could not append: []\n"
     ]
    },
    {
     "name": "stderr",
     "output_type": "stream",
     "text": [
      "C:\\Users\\jthoma\\AppData\\Local\\Temp\\ipykernel_6852\\2457786483.py:39: FutureWarning: The frame.append method is deprecated and will be removed from pandas in a future version. Use pandas.concat instead.\n",
      "  df = df.append(a_series, ignore_index=True)\n",
      "C:\\Users\\jthoma\\AppData\\Local\\Temp\\ipykernel_6852\\2457786483.py:39: FutureWarning: The frame.append method is deprecated and will be removed from pandas in a future version. Use pandas.concat instead.\n",
      "  df = df.append(a_series, ignore_index=True)\n",
      "C:\\Users\\jthoma\\AppData\\Local\\Temp\\ipykernel_6852\\2457786483.py:39: FutureWarning: The frame.append method is deprecated and will be removed from pandas in a future version. Use pandas.concat instead.\n",
      "  df = df.append(a_series, ignore_index=True)\n",
      "C:\\Users\\jthoma\\AppData\\Local\\Temp\\ipykernel_6852\\2457786483.py:39: FutureWarning: The frame.append method is deprecated and will be removed from pandas in a future version. Use pandas.concat instead.\n",
      "  df = df.append(a_series, ignore_index=True)\n",
      "C:\\Users\\jthoma\\AppData\\Local\\Temp\\ipykernel_6852\\2457786483.py:39: FutureWarning: The frame.append method is deprecated and will be removed from pandas in a future version. Use pandas.concat instead.\n",
      "  df = df.append(a_series, ignore_index=True)\n",
      "C:\\Users\\jthoma\\AppData\\Local\\Temp\\ipykernel_6852\\2457786483.py:39: FutureWarning: The frame.append method is deprecated and will be removed from pandas in a future version. Use pandas.concat instead.\n",
      "  df = df.append(a_series, ignore_index=True)\n",
      "C:\\Users\\jthoma\\AppData\\Local\\Temp\\ipykernel_6852\\2457786483.py:39: FutureWarning: The frame.append method is deprecated and will be removed from pandas in a future version. Use pandas.concat instead.\n",
      "  df = df.append(a_series, ignore_index=True)\n",
      "C:\\Users\\jthoma\\AppData\\Local\\Temp\\ipykernel_6852\\2457786483.py:39: FutureWarning: The frame.append method is deprecated and will be removed from pandas in a future version. Use pandas.concat instead.\n",
      "  df = df.append(a_series, ignore_index=True)\n",
      "C:\\Users\\jthoma\\AppData\\Local\\Temp\\ipykernel_6852\\2457786483.py:39: FutureWarning: The frame.append method is deprecated and will be removed from pandas in a future version. Use pandas.concat instead.\n",
      "  df = df.append(a_series, ignore_index=True)\n",
      "C:\\Users\\jthoma\\AppData\\Local\\Temp\\ipykernel_6852\\2457786483.py:39: FutureWarning: The frame.append method is deprecated and will be removed from pandas in a future version. Use pandas.concat instead.\n",
      "  df = df.append(a_series, ignore_index=True)\n",
      "C:\\Users\\jthoma\\AppData\\Local\\Temp\\ipykernel_6852\\2457786483.py:39: FutureWarning: The frame.append method is deprecated and will be removed from pandas in a future version. Use pandas.concat instead.\n",
      "  df = df.append(a_series, ignore_index=True)\n"
     ]
    },
    {
     "name": "stdout",
     "output_type": "stream",
     "text": [
      "Could not append: ['1', '2', '3', '4', '5', '6', '7', '8', '9', '10', '...']\n"
     ]
    },
    {
     "name": "stderr",
     "output_type": "stream",
     "text": [
      "C:\\Users\\jthoma\\AppData\\Local\\Temp\\ipykernel_6852\\2457786483.py:38: FutureWarning: The default dtype for empty Series will be 'object' instead of 'float64' in a future version. Specify a dtype explicitly to silence this warning.\n",
      "  a_series = pd.Series(row_list, index = df.columns)\n"
     ]
    },
    {
     "name": "stdout",
     "output_type": "stream",
     "text": [
      "Could not append: []\n"
     ]
    },
    {
     "name": "stderr",
     "output_type": "stream",
     "text": [
      "C:\\Users\\jthoma\\AppData\\Local\\Temp\\ipykernel_6852\\2457786483.py:39: FutureWarning: The frame.append method is deprecated and will be removed from pandas in a future version. Use pandas.concat instead.\n",
      "  df = df.append(a_series, ignore_index=True)\n",
      "C:\\Users\\jthoma\\AppData\\Local\\Temp\\ipykernel_6852\\2457786483.py:39: FutureWarning: The frame.append method is deprecated and will be removed from pandas in a future version. Use pandas.concat instead.\n",
      "  df = df.append(a_series, ignore_index=True)\n",
      "C:\\Users\\jthoma\\AppData\\Local\\Temp\\ipykernel_6852\\2457786483.py:39: FutureWarning: The frame.append method is deprecated and will be removed from pandas in a future version. Use pandas.concat instead.\n",
      "  df = df.append(a_series, ignore_index=True)\n",
      "C:\\Users\\jthoma\\AppData\\Local\\Temp\\ipykernel_6852\\2457786483.py:39: FutureWarning: The frame.append method is deprecated and will be removed from pandas in a future version. Use pandas.concat instead.\n",
      "  df = df.append(a_series, ignore_index=True)\n",
      "C:\\Users\\jthoma\\AppData\\Local\\Temp\\ipykernel_6852\\2457786483.py:39: FutureWarning: The frame.append method is deprecated and will be removed from pandas in a future version. Use pandas.concat instead.\n",
      "  df = df.append(a_series, ignore_index=True)\n",
      "C:\\Users\\jthoma\\AppData\\Local\\Temp\\ipykernel_6852\\2457786483.py:39: FutureWarning: The frame.append method is deprecated and will be removed from pandas in a future version. Use pandas.concat instead.\n",
      "  df = df.append(a_series, ignore_index=True)\n",
      "C:\\Users\\jthoma\\AppData\\Local\\Temp\\ipykernel_6852\\2457786483.py:39: FutureWarning: The frame.append method is deprecated and will be removed from pandas in a future version. Use pandas.concat instead.\n",
      "  df = df.append(a_series, ignore_index=True)\n",
      "C:\\Users\\jthoma\\AppData\\Local\\Temp\\ipykernel_6852\\2457786483.py:39: FutureWarning: The frame.append method is deprecated and will be removed from pandas in a future version. Use pandas.concat instead.\n",
      "  df = df.append(a_series, ignore_index=True)\n",
      "C:\\Users\\jthoma\\AppData\\Local\\Temp\\ipykernel_6852\\2457786483.py:39: FutureWarning: The frame.append method is deprecated and will be removed from pandas in a future version. Use pandas.concat instead.\n",
      "  df = df.append(a_series, ignore_index=True)\n",
      "C:\\Users\\jthoma\\AppData\\Local\\Temp\\ipykernel_6852\\2457786483.py:39: FutureWarning: The frame.append method is deprecated and will be removed from pandas in a future version. Use pandas.concat instead.\n",
      "  df = df.append(a_series, ignore_index=True)\n",
      "C:\\Users\\jthoma\\AppData\\Local\\Temp\\ipykernel_6852\\2457786483.py:39: FutureWarning: The frame.append method is deprecated and will be removed from pandas in a future version. Use pandas.concat instead.\n",
      "  df = df.append(a_series, ignore_index=True)\n"
     ]
    },
    {
     "name": "stdout",
     "output_type": "stream",
     "text": [
      "Could not append: ['1', '2', '3', '4', '5', '6', '7', '8', '9', '10', '...']\n"
     ]
    },
    {
     "name": "stderr",
     "output_type": "stream",
     "text": [
      "C:\\Users\\jthoma\\AppData\\Local\\Temp\\ipykernel_6852\\2457786483.py:38: FutureWarning: The default dtype for empty Series will be 'object' instead of 'float64' in a future version. Specify a dtype explicitly to silence this warning.\n",
      "  a_series = pd.Series(row_list, index = df.columns)\n"
     ]
    },
    {
     "name": "stdout",
     "output_type": "stream",
     "text": [
      "Could not append: []\n"
     ]
    },
    {
     "name": "stderr",
     "output_type": "stream",
     "text": [
      "C:\\Users\\jthoma\\AppData\\Local\\Temp\\ipykernel_6852\\2457786483.py:39: FutureWarning: The frame.append method is deprecated and will be removed from pandas in a future version. Use pandas.concat instead.\n",
      "  df = df.append(a_series, ignore_index=True)\n",
      "C:\\Users\\jthoma\\AppData\\Local\\Temp\\ipykernel_6852\\2457786483.py:39: FutureWarning: The frame.append method is deprecated and will be removed from pandas in a future version. Use pandas.concat instead.\n",
      "  df = df.append(a_series, ignore_index=True)\n",
      "C:\\Users\\jthoma\\AppData\\Local\\Temp\\ipykernel_6852\\2457786483.py:39: FutureWarning: The frame.append method is deprecated and will be removed from pandas in a future version. Use pandas.concat instead.\n",
      "  df = df.append(a_series, ignore_index=True)\n",
      "C:\\Users\\jthoma\\AppData\\Local\\Temp\\ipykernel_6852\\2457786483.py:39: FutureWarning: The frame.append method is deprecated and will be removed from pandas in a future version. Use pandas.concat instead.\n",
      "  df = df.append(a_series, ignore_index=True)\n",
      "C:\\Users\\jthoma\\AppData\\Local\\Temp\\ipykernel_6852\\2457786483.py:39: FutureWarning: The frame.append method is deprecated and will be removed from pandas in a future version. Use pandas.concat instead.\n",
      "  df = df.append(a_series, ignore_index=True)\n",
      "C:\\Users\\jthoma\\AppData\\Local\\Temp\\ipykernel_6852\\2457786483.py:39: FutureWarning: The frame.append method is deprecated and will be removed from pandas in a future version. Use pandas.concat instead.\n",
      "  df = df.append(a_series, ignore_index=True)\n",
      "C:\\Users\\jthoma\\AppData\\Local\\Temp\\ipykernel_6852\\2457786483.py:39: FutureWarning: The frame.append method is deprecated and will be removed from pandas in a future version. Use pandas.concat instead.\n",
      "  df = df.append(a_series, ignore_index=True)\n",
      "C:\\Users\\jthoma\\AppData\\Local\\Temp\\ipykernel_6852\\2457786483.py:39: FutureWarning: The frame.append method is deprecated and will be removed from pandas in a future version. Use pandas.concat instead.\n",
      "  df = df.append(a_series, ignore_index=True)\n",
      "C:\\Users\\jthoma\\AppData\\Local\\Temp\\ipykernel_6852\\2457786483.py:39: FutureWarning: The frame.append method is deprecated and will be removed from pandas in a future version. Use pandas.concat instead.\n",
      "  df = df.append(a_series, ignore_index=True)\n",
      "C:\\Users\\jthoma\\AppData\\Local\\Temp\\ipykernel_6852\\2457786483.py:39: FutureWarning: The frame.append method is deprecated and will be removed from pandas in a future version. Use pandas.concat instead.\n",
      "  df = df.append(a_series, ignore_index=True)\n",
      "C:\\Users\\jthoma\\AppData\\Local\\Temp\\ipykernel_6852\\2457786483.py:39: FutureWarning: The frame.append method is deprecated and will be removed from pandas in a future version. Use pandas.concat instead.\n",
      "  df = df.append(a_series, ignore_index=True)\n"
     ]
    },
    {
     "name": "stdout",
     "output_type": "stream",
     "text": [
      "Could not append: ['1', '2', '3', '4', '5', '6', '7', '8', '9', '10', '...']\n"
     ]
    },
    {
     "name": "stderr",
     "output_type": "stream",
     "text": [
      "C:\\Users\\jthoma\\AppData\\Local\\Temp\\ipykernel_6852\\2457786483.py:38: FutureWarning: The default dtype for empty Series will be 'object' instead of 'float64' in a future version. Specify a dtype explicitly to silence this warning.\n",
      "  a_series = pd.Series(row_list, index = df.columns)\n"
     ]
    },
    {
     "name": "stdout",
     "output_type": "stream",
     "text": [
      "Could not append: []\n"
     ]
    },
    {
     "name": "stderr",
     "output_type": "stream",
     "text": [
      "C:\\Users\\jthoma\\AppData\\Local\\Temp\\ipykernel_6852\\2457786483.py:39: FutureWarning: The frame.append method is deprecated and will be removed from pandas in a future version. Use pandas.concat instead.\n",
      "  df = df.append(a_series, ignore_index=True)\n",
      "C:\\Users\\jthoma\\AppData\\Local\\Temp\\ipykernel_6852\\2457786483.py:39: FutureWarning: The frame.append method is deprecated and will be removed from pandas in a future version. Use pandas.concat instead.\n",
      "  df = df.append(a_series, ignore_index=True)\n",
      "C:\\Users\\jthoma\\AppData\\Local\\Temp\\ipykernel_6852\\2457786483.py:39: FutureWarning: The frame.append method is deprecated and will be removed from pandas in a future version. Use pandas.concat instead.\n",
      "  df = df.append(a_series, ignore_index=True)\n",
      "C:\\Users\\jthoma\\AppData\\Local\\Temp\\ipykernel_6852\\2457786483.py:39: FutureWarning: The frame.append method is deprecated and will be removed from pandas in a future version. Use pandas.concat instead.\n",
      "  df = df.append(a_series, ignore_index=True)\n",
      "C:\\Users\\jthoma\\AppData\\Local\\Temp\\ipykernel_6852\\2457786483.py:39: FutureWarning: The frame.append method is deprecated and will be removed from pandas in a future version. Use pandas.concat instead.\n",
      "  df = df.append(a_series, ignore_index=True)\n",
      "C:\\Users\\jthoma\\AppData\\Local\\Temp\\ipykernel_6852\\2457786483.py:39: FutureWarning: The frame.append method is deprecated and will be removed from pandas in a future version. Use pandas.concat instead.\n",
      "  df = df.append(a_series, ignore_index=True)\n",
      "C:\\Users\\jthoma\\AppData\\Local\\Temp\\ipykernel_6852\\2457786483.py:39: FutureWarning: The frame.append method is deprecated and will be removed from pandas in a future version. Use pandas.concat instead.\n",
      "  df = df.append(a_series, ignore_index=True)\n",
      "C:\\Users\\jthoma\\AppData\\Local\\Temp\\ipykernel_6852\\2457786483.py:39: FutureWarning: The frame.append method is deprecated and will be removed from pandas in a future version. Use pandas.concat instead.\n",
      "  df = df.append(a_series, ignore_index=True)\n",
      "C:\\Users\\jthoma\\AppData\\Local\\Temp\\ipykernel_6852\\2457786483.py:39: FutureWarning: The frame.append method is deprecated and will be removed from pandas in a future version. Use pandas.concat instead.\n",
      "  df = df.append(a_series, ignore_index=True)\n",
      "C:\\Users\\jthoma\\AppData\\Local\\Temp\\ipykernel_6852\\2457786483.py:39: FutureWarning: The frame.append method is deprecated and will be removed from pandas in a future version. Use pandas.concat instead.\n",
      "  df = df.append(a_series, ignore_index=True)\n",
      "C:\\Users\\jthoma\\AppData\\Local\\Temp\\ipykernel_6852\\2457786483.py:39: FutureWarning: The frame.append method is deprecated and will be removed from pandas in a future version. Use pandas.concat instead.\n",
      "  df = df.append(a_series, ignore_index=True)\n"
     ]
    },
    {
     "name": "stdout",
     "output_type": "stream",
     "text": [
      "Could not append: ['1', '2', '3', '4', '5', '6', '7', '8', '9', '10', '...']\n"
     ]
    },
    {
     "name": "stderr",
     "output_type": "stream",
     "text": [
      "C:\\Users\\jthoma\\AppData\\Local\\Temp\\ipykernel_6852\\2457786483.py:38: FutureWarning: The default dtype for empty Series will be 'object' instead of 'float64' in a future version. Specify a dtype explicitly to silence this warning.\n",
      "  a_series = pd.Series(row_list, index = df.columns)\n"
     ]
    },
    {
     "name": "stdout",
     "output_type": "stream",
     "text": [
      "Could not append: []\n"
     ]
    },
    {
     "name": "stderr",
     "output_type": "stream",
     "text": [
      "C:\\Users\\jthoma\\AppData\\Local\\Temp\\ipykernel_6852\\2457786483.py:39: FutureWarning: The frame.append method is deprecated and will be removed from pandas in a future version. Use pandas.concat instead.\n",
      "  df = df.append(a_series, ignore_index=True)\n",
      "C:\\Users\\jthoma\\AppData\\Local\\Temp\\ipykernel_6852\\2457786483.py:39: FutureWarning: The frame.append method is deprecated and will be removed from pandas in a future version. Use pandas.concat instead.\n",
      "  df = df.append(a_series, ignore_index=True)\n",
      "C:\\Users\\jthoma\\AppData\\Local\\Temp\\ipykernel_6852\\2457786483.py:39: FutureWarning: The frame.append method is deprecated and will be removed from pandas in a future version. Use pandas.concat instead.\n",
      "  df = df.append(a_series, ignore_index=True)\n",
      "C:\\Users\\jthoma\\AppData\\Local\\Temp\\ipykernel_6852\\2457786483.py:39: FutureWarning: The frame.append method is deprecated and will be removed from pandas in a future version. Use pandas.concat instead.\n",
      "  df = df.append(a_series, ignore_index=True)\n",
      "C:\\Users\\jthoma\\AppData\\Local\\Temp\\ipykernel_6852\\2457786483.py:39: FutureWarning: The frame.append method is deprecated and will be removed from pandas in a future version. Use pandas.concat instead.\n",
      "  df = df.append(a_series, ignore_index=True)\n",
      "C:\\Users\\jthoma\\AppData\\Local\\Temp\\ipykernel_6852\\2457786483.py:39: FutureWarning: The frame.append method is deprecated and will be removed from pandas in a future version. Use pandas.concat instead.\n",
      "  df = df.append(a_series, ignore_index=True)\n",
      "C:\\Users\\jthoma\\AppData\\Local\\Temp\\ipykernel_6852\\2457786483.py:39: FutureWarning: The frame.append method is deprecated and will be removed from pandas in a future version. Use pandas.concat instead.\n",
      "  df = df.append(a_series, ignore_index=True)\n",
      "C:\\Users\\jthoma\\AppData\\Local\\Temp\\ipykernel_6852\\2457786483.py:39: FutureWarning: The frame.append method is deprecated and will be removed from pandas in a future version. Use pandas.concat instead.\n",
      "  df = df.append(a_series, ignore_index=True)\n",
      "C:\\Users\\jthoma\\AppData\\Local\\Temp\\ipykernel_6852\\2457786483.py:39: FutureWarning: The frame.append method is deprecated and will be removed from pandas in a future version. Use pandas.concat instead.\n",
      "  df = df.append(a_series, ignore_index=True)\n",
      "C:\\Users\\jthoma\\AppData\\Local\\Temp\\ipykernel_6852\\2457786483.py:39: FutureWarning: The frame.append method is deprecated and will be removed from pandas in a future version. Use pandas.concat instead.\n",
      "  df = df.append(a_series, ignore_index=True)\n"
     ]
    },
    {
     "name": "stdout",
     "output_type": "stream",
     "text": [
      "Could not append: ['... 11 12 13 14 15 16 17 18 19 20 ...', '...', '11', '12', '13', '14', '15', '16', '17', '18', '19', '20', '...']\n"
     ]
    },
    {
     "name": "stderr",
     "output_type": "stream",
     "text": [
      "C:\\Users\\jthoma\\AppData\\Local\\Temp\\ipykernel_6852\\2457786483.py:39: FutureWarning: The frame.append method is deprecated and will be removed from pandas in a future version. Use pandas.concat instead.\n",
      "  df = df.append(a_series, ignore_index=True)\n",
      "C:\\Users\\jthoma\\AppData\\Local\\Temp\\ipykernel_6852\\2457786483.py:38: FutureWarning: The default dtype for empty Series will be 'object' instead of 'float64' in a future version. Specify a dtype explicitly to silence this warning.\n",
      "  a_series = pd.Series(row_list, index = df.columns)\n"
     ]
    },
    {
     "name": "stdout",
     "output_type": "stream",
     "text": [
      "Could not append: []\n"
     ]
    },
    {
     "name": "stderr",
     "output_type": "stream",
     "text": [
      "C:\\Users\\jthoma\\AppData\\Local\\Temp\\ipykernel_6852\\2457786483.py:39: FutureWarning: The frame.append method is deprecated and will be removed from pandas in a future version. Use pandas.concat instead.\n",
      "  df = df.append(a_series, ignore_index=True)\n",
      "C:\\Users\\jthoma\\AppData\\Local\\Temp\\ipykernel_6852\\2457786483.py:39: FutureWarning: The frame.append method is deprecated and will be removed from pandas in a future version. Use pandas.concat instead.\n",
      "  df = df.append(a_series, ignore_index=True)\n",
      "C:\\Users\\jthoma\\AppData\\Local\\Temp\\ipykernel_6852\\2457786483.py:39: FutureWarning: The frame.append method is deprecated and will be removed from pandas in a future version. Use pandas.concat instead.\n",
      "  df = df.append(a_series, ignore_index=True)\n",
      "C:\\Users\\jthoma\\AppData\\Local\\Temp\\ipykernel_6852\\2457786483.py:39: FutureWarning: The frame.append method is deprecated and will be removed from pandas in a future version. Use pandas.concat instead.\n",
      "  df = df.append(a_series, ignore_index=True)\n",
      "C:\\Users\\jthoma\\AppData\\Local\\Temp\\ipykernel_6852\\2457786483.py:39: FutureWarning: The frame.append method is deprecated and will be removed from pandas in a future version. Use pandas.concat instead.\n",
      "  df = df.append(a_series, ignore_index=True)\n",
      "C:\\Users\\jthoma\\AppData\\Local\\Temp\\ipykernel_6852\\2457786483.py:39: FutureWarning: The frame.append method is deprecated and will be removed from pandas in a future version. Use pandas.concat instead.\n",
      "  df = df.append(a_series, ignore_index=True)\n",
      "C:\\Users\\jthoma\\AppData\\Local\\Temp\\ipykernel_6852\\2457786483.py:39: FutureWarning: The frame.append method is deprecated and will be removed from pandas in a future version. Use pandas.concat instead.\n",
      "  df = df.append(a_series, ignore_index=True)\n",
      "C:\\Users\\jthoma\\AppData\\Local\\Temp\\ipykernel_6852\\2457786483.py:39: FutureWarning: The frame.append method is deprecated and will be removed from pandas in a future version. Use pandas.concat instead.\n",
      "  df = df.append(a_series, ignore_index=True)\n",
      "C:\\Users\\jthoma\\AppData\\Local\\Temp\\ipykernel_6852\\2457786483.py:39: FutureWarning: The frame.append method is deprecated and will be removed from pandas in a future version. Use pandas.concat instead.\n",
      "  df = df.append(a_series, ignore_index=True)\n",
      "C:\\Users\\jthoma\\AppData\\Local\\Temp\\ipykernel_6852\\2457786483.py:39: FutureWarning: The frame.append method is deprecated and will be removed from pandas in a future version. Use pandas.concat instead.\n",
      "  df = df.append(a_series, ignore_index=True)\n"
     ]
    },
    {
     "name": "stdout",
     "output_type": "stream",
     "text": [
      "Could not append: ['... 11 12 13 14 15 16 17 18 19 20 ...', '...', '11', '12', '13', '14', '15', '16', '17', '18', '19', '20', '...']\n"
     ]
    },
    {
     "name": "stderr",
     "output_type": "stream",
     "text": [
      "C:\\Users\\jthoma\\AppData\\Local\\Temp\\ipykernel_6852\\2457786483.py:39: FutureWarning: The frame.append method is deprecated and will be removed from pandas in a future version. Use pandas.concat instead.\n",
      "  df = df.append(a_series, ignore_index=True)\n",
      "C:\\Users\\jthoma\\AppData\\Local\\Temp\\ipykernel_6852\\2457786483.py:38: FutureWarning: The default dtype for empty Series will be 'object' instead of 'float64' in a future version. Specify a dtype explicitly to silence this warning.\n",
      "  a_series = pd.Series(row_list, index = df.columns)\n"
     ]
    },
    {
     "name": "stdout",
     "output_type": "stream",
     "text": [
      "Could not append: []\n"
     ]
    },
    {
     "name": "stderr",
     "output_type": "stream",
     "text": [
      "C:\\Users\\jthoma\\AppData\\Local\\Temp\\ipykernel_6852\\2457786483.py:39: FutureWarning: The frame.append method is deprecated and will be removed from pandas in a future version. Use pandas.concat instead.\n",
      "  df = df.append(a_series, ignore_index=True)\n",
      "C:\\Users\\jthoma\\AppData\\Local\\Temp\\ipykernel_6852\\2457786483.py:39: FutureWarning: The frame.append method is deprecated and will be removed from pandas in a future version. Use pandas.concat instead.\n",
      "  df = df.append(a_series, ignore_index=True)\n",
      "C:\\Users\\jthoma\\AppData\\Local\\Temp\\ipykernel_6852\\2457786483.py:39: FutureWarning: The frame.append method is deprecated and will be removed from pandas in a future version. Use pandas.concat instead.\n",
      "  df = df.append(a_series, ignore_index=True)\n",
      "C:\\Users\\jthoma\\AppData\\Local\\Temp\\ipykernel_6852\\2457786483.py:39: FutureWarning: The frame.append method is deprecated and will be removed from pandas in a future version. Use pandas.concat instead.\n",
      "  df = df.append(a_series, ignore_index=True)\n",
      "C:\\Users\\jthoma\\AppData\\Local\\Temp\\ipykernel_6852\\2457786483.py:39: FutureWarning: The frame.append method is deprecated and will be removed from pandas in a future version. Use pandas.concat instead.\n",
      "  df = df.append(a_series, ignore_index=True)\n",
      "C:\\Users\\jthoma\\AppData\\Local\\Temp\\ipykernel_6852\\2457786483.py:39: FutureWarning: The frame.append method is deprecated and will be removed from pandas in a future version. Use pandas.concat instead.\n",
      "  df = df.append(a_series, ignore_index=True)\n",
      "C:\\Users\\jthoma\\AppData\\Local\\Temp\\ipykernel_6852\\2457786483.py:39: FutureWarning: The frame.append method is deprecated and will be removed from pandas in a future version. Use pandas.concat instead.\n",
      "  df = df.append(a_series, ignore_index=True)\n",
      "C:\\Users\\jthoma\\AppData\\Local\\Temp\\ipykernel_6852\\2457786483.py:39: FutureWarning: The frame.append method is deprecated and will be removed from pandas in a future version. Use pandas.concat instead.\n",
      "  df = df.append(a_series, ignore_index=True)\n",
      "C:\\Users\\jthoma\\AppData\\Local\\Temp\\ipykernel_6852\\2457786483.py:39: FutureWarning: The frame.append method is deprecated and will be removed from pandas in a future version. Use pandas.concat instead.\n",
      "  df = df.append(a_series, ignore_index=True)\n",
      "C:\\Users\\jthoma\\AppData\\Local\\Temp\\ipykernel_6852\\2457786483.py:39: FutureWarning: The frame.append method is deprecated and will be removed from pandas in a future version. Use pandas.concat instead.\n",
      "  df = df.append(a_series, ignore_index=True)\n"
     ]
    },
    {
     "name": "stdout",
     "output_type": "stream",
     "text": [
      "Could not append: ['... 11 12 13 14 15 16 17 18 19 20 ...', '...', '11', '12', '13', '14', '15', '16', '17', '18', '19', '20', '...']\n"
     ]
    },
    {
     "name": "stderr",
     "output_type": "stream",
     "text": [
      "C:\\Users\\jthoma\\AppData\\Local\\Temp\\ipykernel_6852\\2457786483.py:39: FutureWarning: The frame.append method is deprecated and will be removed from pandas in a future version. Use pandas.concat instead.\n",
      "  df = df.append(a_series, ignore_index=True)\n",
      "C:\\Users\\jthoma\\AppData\\Local\\Temp\\ipykernel_6852\\2457786483.py:38: FutureWarning: The default dtype for empty Series will be 'object' instead of 'float64' in a future version. Specify a dtype explicitly to silence this warning.\n",
      "  a_series = pd.Series(row_list, index = df.columns)\n"
     ]
    },
    {
     "name": "stdout",
     "output_type": "stream",
     "text": [
      "Could not append: []\n"
     ]
    },
    {
     "name": "stderr",
     "output_type": "stream",
     "text": [
      "C:\\Users\\jthoma\\AppData\\Local\\Temp\\ipykernel_6852\\2457786483.py:39: FutureWarning: The frame.append method is deprecated and will be removed from pandas in a future version. Use pandas.concat instead.\n",
      "  df = df.append(a_series, ignore_index=True)\n",
      "C:\\Users\\jthoma\\AppData\\Local\\Temp\\ipykernel_6852\\2457786483.py:39: FutureWarning: The frame.append method is deprecated and will be removed from pandas in a future version. Use pandas.concat instead.\n",
      "  df = df.append(a_series, ignore_index=True)\n",
      "C:\\Users\\jthoma\\AppData\\Local\\Temp\\ipykernel_6852\\2457786483.py:39: FutureWarning: The frame.append method is deprecated and will be removed from pandas in a future version. Use pandas.concat instead.\n",
      "  df = df.append(a_series, ignore_index=True)\n",
      "C:\\Users\\jthoma\\AppData\\Local\\Temp\\ipykernel_6852\\2457786483.py:39: FutureWarning: The frame.append method is deprecated and will be removed from pandas in a future version. Use pandas.concat instead.\n",
      "  df = df.append(a_series, ignore_index=True)\n",
      "C:\\Users\\jthoma\\AppData\\Local\\Temp\\ipykernel_6852\\2457786483.py:39: FutureWarning: The frame.append method is deprecated and will be removed from pandas in a future version. Use pandas.concat instead.\n",
      "  df = df.append(a_series, ignore_index=True)\n",
      "C:\\Users\\jthoma\\AppData\\Local\\Temp\\ipykernel_6852\\2457786483.py:39: FutureWarning: The frame.append method is deprecated and will be removed from pandas in a future version. Use pandas.concat instead.\n",
      "  df = df.append(a_series, ignore_index=True)\n",
      "C:\\Users\\jthoma\\AppData\\Local\\Temp\\ipykernel_6852\\2457786483.py:39: FutureWarning: The frame.append method is deprecated and will be removed from pandas in a future version. Use pandas.concat instead.\n",
      "  df = df.append(a_series, ignore_index=True)\n",
      "C:\\Users\\jthoma\\AppData\\Local\\Temp\\ipykernel_6852\\2457786483.py:39: FutureWarning: The frame.append method is deprecated and will be removed from pandas in a future version. Use pandas.concat instead.\n",
      "  df = df.append(a_series, ignore_index=True)\n",
      "C:\\Users\\jthoma\\AppData\\Local\\Temp\\ipykernel_6852\\2457786483.py:39: FutureWarning: The frame.append method is deprecated and will be removed from pandas in a future version. Use pandas.concat instead.\n",
      "  df = df.append(a_series, ignore_index=True)\n",
      "C:\\Users\\jthoma\\AppData\\Local\\Temp\\ipykernel_6852\\2457786483.py:39: FutureWarning: The frame.append method is deprecated and will be removed from pandas in a future version. Use pandas.concat instead.\n",
      "  df = df.append(a_series, ignore_index=True)\n"
     ]
    },
    {
     "name": "stdout",
     "output_type": "stream",
     "text": [
      "Could not append: ['... 11 12 13 14 15 16 17 18 19 20 ...', '...', '11', '12', '13', '14', '15', '16', '17', '18', '19', '20', '...']\n"
     ]
    },
    {
     "name": "stderr",
     "output_type": "stream",
     "text": [
      "C:\\Users\\jthoma\\AppData\\Local\\Temp\\ipykernel_6852\\2457786483.py:39: FutureWarning: The frame.append method is deprecated and will be removed from pandas in a future version. Use pandas.concat instead.\n",
      "  df = df.append(a_series, ignore_index=True)\n",
      "C:\\Users\\jthoma\\AppData\\Local\\Temp\\ipykernel_6852\\2457786483.py:38: FutureWarning: The default dtype for empty Series will be 'object' instead of 'float64' in a future version. Specify a dtype explicitly to silence this warning.\n",
      "  a_series = pd.Series(row_list, index = df.columns)\n"
     ]
    },
    {
     "name": "stdout",
     "output_type": "stream",
     "text": [
      "Could not append: []\n"
     ]
    },
    {
     "name": "stderr",
     "output_type": "stream",
     "text": [
      "C:\\Users\\jthoma\\AppData\\Local\\Temp\\ipykernel_6852\\2457786483.py:39: FutureWarning: The frame.append method is deprecated and will be removed from pandas in a future version. Use pandas.concat instead.\n",
      "  df = df.append(a_series, ignore_index=True)\n",
      "C:\\Users\\jthoma\\AppData\\Local\\Temp\\ipykernel_6852\\2457786483.py:39: FutureWarning: The frame.append method is deprecated and will be removed from pandas in a future version. Use pandas.concat instead.\n",
      "  df = df.append(a_series, ignore_index=True)\n",
      "C:\\Users\\jthoma\\AppData\\Local\\Temp\\ipykernel_6852\\2457786483.py:39: FutureWarning: The frame.append method is deprecated and will be removed from pandas in a future version. Use pandas.concat instead.\n",
      "  df = df.append(a_series, ignore_index=True)\n",
      "C:\\Users\\jthoma\\AppData\\Local\\Temp\\ipykernel_6852\\2457786483.py:39: FutureWarning: The frame.append method is deprecated and will be removed from pandas in a future version. Use pandas.concat instead.\n",
      "  df = df.append(a_series, ignore_index=True)\n",
      "C:\\Users\\jthoma\\AppData\\Local\\Temp\\ipykernel_6852\\2457786483.py:39: FutureWarning: The frame.append method is deprecated and will be removed from pandas in a future version. Use pandas.concat instead.\n",
      "  df = df.append(a_series, ignore_index=True)\n",
      "C:\\Users\\jthoma\\AppData\\Local\\Temp\\ipykernel_6852\\2457786483.py:39: FutureWarning: The frame.append method is deprecated and will be removed from pandas in a future version. Use pandas.concat instead.\n",
      "  df = df.append(a_series, ignore_index=True)\n",
      "C:\\Users\\jthoma\\AppData\\Local\\Temp\\ipykernel_6852\\2457786483.py:39: FutureWarning: The frame.append method is deprecated and will be removed from pandas in a future version. Use pandas.concat instead.\n",
      "  df = df.append(a_series, ignore_index=True)\n",
      "C:\\Users\\jthoma\\AppData\\Local\\Temp\\ipykernel_6852\\2457786483.py:39: FutureWarning: The frame.append method is deprecated and will be removed from pandas in a future version. Use pandas.concat instead.\n",
      "  df = df.append(a_series, ignore_index=True)\n",
      "C:\\Users\\jthoma\\AppData\\Local\\Temp\\ipykernel_6852\\2457786483.py:39: FutureWarning: The frame.append method is deprecated and will be removed from pandas in a future version. Use pandas.concat instead.\n",
      "  df = df.append(a_series, ignore_index=True)\n",
      "C:\\Users\\jthoma\\AppData\\Local\\Temp\\ipykernel_6852\\2457786483.py:39: FutureWarning: The frame.append method is deprecated and will be removed from pandas in a future version. Use pandas.concat instead.\n",
      "  df = df.append(a_series, ignore_index=True)\n"
     ]
    },
    {
     "name": "stdout",
     "output_type": "stream",
     "text": [
      "Could not append: ['... 11 12 13 14 15 16 17 18 19 20 ...', '...', '11', '12', '13', '14', '15', '16', '17', '18', '19', '20', '...']\n"
     ]
    },
    {
     "name": "stderr",
     "output_type": "stream",
     "text": [
      "C:\\Users\\jthoma\\AppData\\Local\\Temp\\ipykernel_6852\\2457786483.py:39: FutureWarning: The frame.append method is deprecated and will be removed from pandas in a future version. Use pandas.concat instead.\n",
      "  df = df.append(a_series, ignore_index=True)\n",
      "C:\\Users\\jthoma\\AppData\\Local\\Temp\\ipykernel_6852\\2457786483.py:38: FutureWarning: The default dtype for empty Series will be 'object' instead of 'float64' in a future version. Specify a dtype explicitly to silence this warning.\n",
      "  a_series = pd.Series(row_list, index = df.columns)\n"
     ]
    },
    {
     "name": "stdout",
     "output_type": "stream",
     "text": [
      "Could not append: []\n"
     ]
    },
    {
     "name": "stderr",
     "output_type": "stream",
     "text": [
      "C:\\Users\\jthoma\\AppData\\Local\\Temp\\ipykernel_6852\\2457786483.py:39: FutureWarning: The frame.append method is deprecated and will be removed from pandas in a future version. Use pandas.concat instead.\n",
      "  df = df.append(a_series, ignore_index=True)\n",
      "C:\\Users\\jthoma\\AppData\\Local\\Temp\\ipykernel_6852\\2457786483.py:39: FutureWarning: The frame.append method is deprecated and will be removed from pandas in a future version. Use pandas.concat instead.\n",
      "  df = df.append(a_series, ignore_index=True)\n",
      "C:\\Users\\jthoma\\AppData\\Local\\Temp\\ipykernel_6852\\2457786483.py:39: FutureWarning: The frame.append method is deprecated and will be removed from pandas in a future version. Use pandas.concat instead.\n",
      "  df = df.append(a_series, ignore_index=True)\n",
      "C:\\Users\\jthoma\\AppData\\Local\\Temp\\ipykernel_6852\\2457786483.py:39: FutureWarning: The frame.append method is deprecated and will be removed from pandas in a future version. Use pandas.concat instead.\n",
      "  df = df.append(a_series, ignore_index=True)\n",
      "C:\\Users\\jthoma\\AppData\\Local\\Temp\\ipykernel_6852\\2457786483.py:39: FutureWarning: The frame.append method is deprecated and will be removed from pandas in a future version. Use pandas.concat instead.\n",
      "  df = df.append(a_series, ignore_index=True)\n",
      "C:\\Users\\jthoma\\AppData\\Local\\Temp\\ipykernel_6852\\2457786483.py:39: FutureWarning: The frame.append method is deprecated and will be removed from pandas in a future version. Use pandas.concat instead.\n",
      "  df = df.append(a_series, ignore_index=True)\n",
      "C:\\Users\\jthoma\\AppData\\Local\\Temp\\ipykernel_6852\\2457786483.py:39: FutureWarning: The frame.append method is deprecated and will be removed from pandas in a future version. Use pandas.concat instead.\n",
      "  df = df.append(a_series, ignore_index=True)\n",
      "C:\\Users\\jthoma\\AppData\\Local\\Temp\\ipykernel_6852\\2457786483.py:39: FutureWarning: The frame.append method is deprecated and will be removed from pandas in a future version. Use pandas.concat instead.\n",
      "  df = df.append(a_series, ignore_index=True)\n",
      "C:\\Users\\jthoma\\AppData\\Local\\Temp\\ipykernel_6852\\2457786483.py:39: FutureWarning: The frame.append method is deprecated and will be removed from pandas in a future version. Use pandas.concat instead.\n",
      "  df = df.append(a_series, ignore_index=True)\n",
      "C:\\Users\\jthoma\\AppData\\Local\\Temp\\ipykernel_6852\\2457786483.py:39: FutureWarning: The frame.append method is deprecated and will be removed from pandas in a future version. Use pandas.concat instead.\n",
      "  df = df.append(a_series, ignore_index=True)\n"
     ]
    },
    {
     "name": "stdout",
     "output_type": "stream",
     "text": [
      "Could not append: ['... 11 12 13 14 15 16 17 18 19 20 ...', '...', '11', '12', '13', '14', '15', '16', '17', '18', '19', '20', '...']\n"
     ]
    },
    {
     "name": "stderr",
     "output_type": "stream",
     "text": [
      "C:\\Users\\jthoma\\AppData\\Local\\Temp\\ipykernel_6852\\2457786483.py:39: FutureWarning: The frame.append method is deprecated and will be removed from pandas in a future version. Use pandas.concat instead.\n",
      "  df = df.append(a_series, ignore_index=True)\n",
      "C:\\Users\\jthoma\\AppData\\Local\\Temp\\ipykernel_6852\\2457786483.py:38: FutureWarning: The default dtype for empty Series will be 'object' instead of 'float64' in a future version. Specify a dtype explicitly to silence this warning.\n",
      "  a_series = pd.Series(row_list, index = df.columns)\n"
     ]
    },
    {
     "name": "stdout",
     "output_type": "stream",
     "text": [
      "Could not append: []\n"
     ]
    },
    {
     "name": "stderr",
     "output_type": "stream",
     "text": [
      "C:\\Users\\jthoma\\AppData\\Local\\Temp\\ipykernel_6852\\2457786483.py:39: FutureWarning: The frame.append method is deprecated and will be removed from pandas in a future version. Use pandas.concat instead.\n",
      "  df = df.append(a_series, ignore_index=True)\n",
      "C:\\Users\\jthoma\\AppData\\Local\\Temp\\ipykernel_6852\\2457786483.py:39: FutureWarning: The frame.append method is deprecated and will be removed from pandas in a future version. Use pandas.concat instead.\n",
      "  df = df.append(a_series, ignore_index=True)\n",
      "C:\\Users\\jthoma\\AppData\\Local\\Temp\\ipykernel_6852\\2457786483.py:39: FutureWarning: The frame.append method is deprecated and will be removed from pandas in a future version. Use pandas.concat instead.\n",
      "  df = df.append(a_series, ignore_index=True)\n",
      "C:\\Users\\jthoma\\AppData\\Local\\Temp\\ipykernel_6852\\2457786483.py:39: FutureWarning: The frame.append method is deprecated and will be removed from pandas in a future version. Use pandas.concat instead.\n",
      "  df = df.append(a_series, ignore_index=True)\n",
      "C:\\Users\\jthoma\\AppData\\Local\\Temp\\ipykernel_6852\\2457786483.py:39: FutureWarning: The frame.append method is deprecated and will be removed from pandas in a future version. Use pandas.concat instead.\n",
      "  df = df.append(a_series, ignore_index=True)\n",
      "C:\\Users\\jthoma\\AppData\\Local\\Temp\\ipykernel_6852\\2457786483.py:39: FutureWarning: The frame.append method is deprecated and will be removed from pandas in a future version. Use pandas.concat instead.\n",
      "  df = df.append(a_series, ignore_index=True)\n",
      "C:\\Users\\jthoma\\AppData\\Local\\Temp\\ipykernel_6852\\2457786483.py:39: FutureWarning: The frame.append method is deprecated and will be removed from pandas in a future version. Use pandas.concat instead.\n",
      "  df = df.append(a_series, ignore_index=True)\n",
      "C:\\Users\\jthoma\\AppData\\Local\\Temp\\ipykernel_6852\\2457786483.py:39: FutureWarning: The frame.append method is deprecated and will be removed from pandas in a future version. Use pandas.concat instead.\n",
      "  df = df.append(a_series, ignore_index=True)\n",
      "C:\\Users\\jthoma\\AppData\\Local\\Temp\\ipykernel_6852\\2457786483.py:39: FutureWarning: The frame.append method is deprecated and will be removed from pandas in a future version. Use pandas.concat instead.\n",
      "  df = df.append(a_series, ignore_index=True)\n",
      "C:\\Users\\jthoma\\AppData\\Local\\Temp\\ipykernel_6852\\2457786483.py:39: FutureWarning: The frame.append method is deprecated and will be removed from pandas in a future version. Use pandas.concat instead.\n",
      "  df = df.append(a_series, ignore_index=True)\n"
     ]
    },
    {
     "name": "stdout",
     "output_type": "stream",
     "text": [
      "Could not append: ['... 11 12 13 14 15 16 17 18 19 20 ...', '...', '11', '12', '13', '14', '15', '16', '17', '18', '19', '20', '...']\n"
     ]
    },
    {
     "name": "stderr",
     "output_type": "stream",
     "text": [
      "C:\\Users\\jthoma\\AppData\\Local\\Temp\\ipykernel_6852\\2457786483.py:39: FutureWarning: The frame.append method is deprecated and will be removed from pandas in a future version. Use pandas.concat instead.\n",
      "  df = df.append(a_series, ignore_index=True)\n",
      "C:\\Users\\jthoma\\AppData\\Local\\Temp\\ipykernel_6852\\2457786483.py:38: FutureWarning: The default dtype for empty Series will be 'object' instead of 'float64' in a future version. Specify a dtype explicitly to silence this warning.\n",
      "  a_series = pd.Series(row_list, index = df.columns)\n"
     ]
    },
    {
     "name": "stdout",
     "output_type": "stream",
     "text": [
      "Could not append: []\n"
     ]
    },
    {
     "name": "stderr",
     "output_type": "stream",
     "text": [
      "C:\\Users\\jthoma\\AppData\\Local\\Temp\\ipykernel_6852\\2457786483.py:39: FutureWarning: The frame.append method is deprecated and will be removed from pandas in a future version. Use pandas.concat instead.\n",
      "  df = df.append(a_series, ignore_index=True)\n",
      "C:\\Users\\jthoma\\AppData\\Local\\Temp\\ipykernel_6852\\2457786483.py:39: FutureWarning: The frame.append method is deprecated and will be removed from pandas in a future version. Use pandas.concat instead.\n",
      "  df = df.append(a_series, ignore_index=True)\n",
      "C:\\Users\\jthoma\\AppData\\Local\\Temp\\ipykernel_6852\\2457786483.py:39: FutureWarning: The frame.append method is deprecated and will be removed from pandas in a future version. Use pandas.concat instead.\n",
      "  df = df.append(a_series, ignore_index=True)\n",
      "C:\\Users\\jthoma\\AppData\\Local\\Temp\\ipykernel_6852\\2457786483.py:39: FutureWarning: The frame.append method is deprecated and will be removed from pandas in a future version. Use pandas.concat instead.\n",
      "  df = df.append(a_series, ignore_index=True)\n",
      "C:\\Users\\jthoma\\AppData\\Local\\Temp\\ipykernel_6852\\2457786483.py:39: FutureWarning: The frame.append method is deprecated and will be removed from pandas in a future version. Use pandas.concat instead.\n",
      "  df = df.append(a_series, ignore_index=True)\n",
      "C:\\Users\\jthoma\\AppData\\Local\\Temp\\ipykernel_6852\\2457786483.py:39: FutureWarning: The frame.append method is deprecated and will be removed from pandas in a future version. Use pandas.concat instead.\n",
      "  df = df.append(a_series, ignore_index=True)\n",
      "C:\\Users\\jthoma\\AppData\\Local\\Temp\\ipykernel_6852\\2457786483.py:39: FutureWarning: The frame.append method is deprecated and will be removed from pandas in a future version. Use pandas.concat instead.\n",
      "  df = df.append(a_series, ignore_index=True)\n",
      "C:\\Users\\jthoma\\AppData\\Local\\Temp\\ipykernel_6852\\2457786483.py:39: FutureWarning: The frame.append method is deprecated and will be removed from pandas in a future version. Use pandas.concat instead.\n",
      "  df = df.append(a_series, ignore_index=True)\n",
      "C:\\Users\\jthoma\\AppData\\Local\\Temp\\ipykernel_6852\\2457786483.py:39: FutureWarning: The frame.append method is deprecated and will be removed from pandas in a future version. Use pandas.concat instead.\n",
      "  df = df.append(a_series, ignore_index=True)\n",
      "C:\\Users\\jthoma\\AppData\\Local\\Temp\\ipykernel_6852\\2457786483.py:39: FutureWarning: The frame.append method is deprecated and will be removed from pandas in a future version. Use pandas.concat instead.\n",
      "  df = df.append(a_series, ignore_index=True)\n"
     ]
    },
    {
     "name": "stdout",
     "output_type": "stream",
     "text": [
      "Could not append: ['... 11 12 13 14 15 16 17 18 19 20 ...', '...', '11', '12', '13', '14', '15', '16', '17', '18', '19', '20', '...']\n"
     ]
    },
    {
     "name": "stderr",
     "output_type": "stream",
     "text": [
      "C:\\Users\\jthoma\\AppData\\Local\\Temp\\ipykernel_6852\\2457786483.py:39: FutureWarning: The frame.append method is deprecated and will be removed from pandas in a future version. Use pandas.concat instead.\n",
      "  df = df.append(a_series, ignore_index=True)\n",
      "C:\\Users\\jthoma\\AppData\\Local\\Temp\\ipykernel_6852\\2457786483.py:38: FutureWarning: The default dtype for empty Series will be 'object' instead of 'float64' in a future version. Specify a dtype explicitly to silence this warning.\n",
      "  a_series = pd.Series(row_list, index = df.columns)\n"
     ]
    },
    {
     "name": "stdout",
     "output_type": "stream",
     "text": [
      "Could not append: []\n"
     ]
    },
    {
     "name": "stderr",
     "output_type": "stream",
     "text": [
      "C:\\Users\\jthoma\\AppData\\Local\\Temp\\ipykernel_6852\\2457786483.py:39: FutureWarning: The frame.append method is deprecated and will be removed from pandas in a future version. Use pandas.concat instead.\n",
      "  df = df.append(a_series, ignore_index=True)\n",
      "C:\\Users\\jthoma\\AppData\\Local\\Temp\\ipykernel_6852\\2457786483.py:39: FutureWarning: The frame.append method is deprecated and will be removed from pandas in a future version. Use pandas.concat instead.\n",
      "  df = df.append(a_series, ignore_index=True)\n",
      "C:\\Users\\jthoma\\AppData\\Local\\Temp\\ipykernel_6852\\2457786483.py:39: FutureWarning: The frame.append method is deprecated and will be removed from pandas in a future version. Use pandas.concat instead.\n",
      "  df = df.append(a_series, ignore_index=True)\n",
      "C:\\Users\\jthoma\\AppData\\Local\\Temp\\ipykernel_6852\\2457786483.py:39: FutureWarning: The frame.append method is deprecated and will be removed from pandas in a future version. Use pandas.concat instead.\n",
      "  df = df.append(a_series, ignore_index=True)\n",
      "C:\\Users\\jthoma\\AppData\\Local\\Temp\\ipykernel_6852\\2457786483.py:39: FutureWarning: The frame.append method is deprecated and will be removed from pandas in a future version. Use pandas.concat instead.\n",
      "  df = df.append(a_series, ignore_index=True)\n",
      "C:\\Users\\jthoma\\AppData\\Local\\Temp\\ipykernel_6852\\2457786483.py:39: FutureWarning: The frame.append method is deprecated and will be removed from pandas in a future version. Use pandas.concat instead.\n",
      "  df = df.append(a_series, ignore_index=True)\n",
      "C:\\Users\\jthoma\\AppData\\Local\\Temp\\ipykernel_6852\\2457786483.py:39: FutureWarning: The frame.append method is deprecated and will be removed from pandas in a future version. Use pandas.concat instead.\n",
      "  df = df.append(a_series, ignore_index=True)\n",
      "C:\\Users\\jthoma\\AppData\\Local\\Temp\\ipykernel_6852\\2457786483.py:39: FutureWarning: The frame.append method is deprecated and will be removed from pandas in a future version. Use pandas.concat instead.\n",
      "  df = df.append(a_series, ignore_index=True)\n",
      "C:\\Users\\jthoma\\AppData\\Local\\Temp\\ipykernel_6852\\2457786483.py:39: FutureWarning: The frame.append method is deprecated and will be removed from pandas in a future version. Use pandas.concat instead.\n",
      "  df = df.append(a_series, ignore_index=True)\n",
      "C:\\Users\\jthoma\\AppData\\Local\\Temp\\ipykernel_6852\\2457786483.py:39: FutureWarning: The frame.append method is deprecated and will be removed from pandas in a future version. Use pandas.concat instead.\n",
      "  df = df.append(a_series, ignore_index=True)\n"
     ]
    },
    {
     "name": "stdout",
     "output_type": "stream",
     "text": [
      "Could not append: ['... 11 12 13 14 15 16 17 18 19 20 ...', '...', '11', '12', '13', '14', '15', '16', '17', '18', '19', '20', '...']\n"
     ]
    },
    {
     "name": "stderr",
     "output_type": "stream",
     "text": [
      "C:\\Users\\jthoma\\AppData\\Local\\Temp\\ipykernel_6852\\2457786483.py:39: FutureWarning: The frame.append method is deprecated and will be removed from pandas in a future version. Use pandas.concat instead.\n",
      "  df = df.append(a_series, ignore_index=True)\n",
      "C:\\Users\\jthoma\\AppData\\Local\\Temp\\ipykernel_6852\\2457786483.py:38: FutureWarning: The default dtype for empty Series will be 'object' instead of 'float64' in a future version. Specify a dtype explicitly to silence this warning.\n",
      "  a_series = pd.Series(row_list, index = df.columns)\n"
     ]
    },
    {
     "name": "stdout",
     "output_type": "stream",
     "text": [
      "Could not append: []\n"
     ]
    },
    {
     "name": "stderr",
     "output_type": "stream",
     "text": [
      "C:\\Users\\jthoma\\AppData\\Local\\Temp\\ipykernel_6852\\2457786483.py:39: FutureWarning: The frame.append method is deprecated and will be removed from pandas in a future version. Use pandas.concat instead.\n",
      "  df = df.append(a_series, ignore_index=True)\n",
      "C:\\Users\\jthoma\\AppData\\Local\\Temp\\ipykernel_6852\\2457786483.py:39: FutureWarning: The frame.append method is deprecated and will be removed from pandas in a future version. Use pandas.concat instead.\n",
      "  df = df.append(a_series, ignore_index=True)\n",
      "C:\\Users\\jthoma\\AppData\\Local\\Temp\\ipykernel_6852\\2457786483.py:39: FutureWarning: The frame.append method is deprecated and will be removed from pandas in a future version. Use pandas.concat instead.\n",
      "  df = df.append(a_series, ignore_index=True)\n",
      "C:\\Users\\jthoma\\AppData\\Local\\Temp\\ipykernel_6852\\2457786483.py:39: FutureWarning: The frame.append method is deprecated and will be removed from pandas in a future version. Use pandas.concat instead.\n",
      "  df = df.append(a_series, ignore_index=True)\n",
      "C:\\Users\\jthoma\\AppData\\Local\\Temp\\ipykernel_6852\\2457786483.py:39: FutureWarning: The frame.append method is deprecated and will be removed from pandas in a future version. Use pandas.concat instead.\n",
      "  df = df.append(a_series, ignore_index=True)\n",
      "C:\\Users\\jthoma\\AppData\\Local\\Temp\\ipykernel_6852\\2457786483.py:39: FutureWarning: The frame.append method is deprecated and will be removed from pandas in a future version. Use pandas.concat instead.\n",
      "  df = df.append(a_series, ignore_index=True)\n",
      "C:\\Users\\jthoma\\AppData\\Local\\Temp\\ipykernel_6852\\2457786483.py:39: FutureWarning: The frame.append method is deprecated and will be removed from pandas in a future version. Use pandas.concat instead.\n",
      "  df = df.append(a_series, ignore_index=True)\n",
      "C:\\Users\\jthoma\\AppData\\Local\\Temp\\ipykernel_6852\\2457786483.py:39: FutureWarning: The frame.append method is deprecated and will be removed from pandas in a future version. Use pandas.concat instead.\n",
      "  df = df.append(a_series, ignore_index=True)\n",
      "C:\\Users\\jthoma\\AppData\\Local\\Temp\\ipykernel_6852\\2457786483.py:39: FutureWarning: The frame.append method is deprecated and will be removed from pandas in a future version. Use pandas.concat instead.\n",
      "  df = df.append(a_series, ignore_index=True)\n",
      "C:\\Users\\jthoma\\AppData\\Local\\Temp\\ipykernel_6852\\2457786483.py:39: FutureWarning: The frame.append method is deprecated and will be removed from pandas in a future version. Use pandas.concat instead.\n",
      "  df = df.append(a_series, ignore_index=True)\n"
     ]
    },
    {
     "name": "stdout",
     "output_type": "stream",
     "text": [
      "Could not append: ['... 11 12 13 14 15 16 17 18 19 20 ...', '...', '11', '12', '13', '14', '15', '16', '17', '18', '19', '20', '...']\n"
     ]
    },
    {
     "name": "stderr",
     "output_type": "stream",
     "text": [
      "C:\\Users\\jthoma\\AppData\\Local\\Temp\\ipykernel_6852\\2457786483.py:39: FutureWarning: The frame.append method is deprecated and will be removed from pandas in a future version. Use pandas.concat instead.\n",
      "  df = df.append(a_series, ignore_index=True)\n",
      "C:\\Users\\jthoma\\AppData\\Local\\Temp\\ipykernel_6852\\2457786483.py:38: FutureWarning: The default dtype for empty Series will be 'object' instead of 'float64' in a future version. Specify a dtype explicitly to silence this warning.\n",
      "  a_series = pd.Series(row_list, index = df.columns)\n"
     ]
    },
    {
     "name": "stdout",
     "output_type": "stream",
     "text": [
      "Could not append: []\n"
     ]
    },
    {
     "name": "stderr",
     "output_type": "stream",
     "text": [
      "C:\\Users\\jthoma\\AppData\\Local\\Temp\\ipykernel_6852\\2457786483.py:39: FutureWarning: The frame.append method is deprecated and will be removed from pandas in a future version. Use pandas.concat instead.\n",
      "  df = df.append(a_series, ignore_index=True)\n",
      "C:\\Users\\jthoma\\AppData\\Local\\Temp\\ipykernel_6852\\2457786483.py:39: FutureWarning: The frame.append method is deprecated and will be removed from pandas in a future version. Use pandas.concat instead.\n",
      "  df = df.append(a_series, ignore_index=True)\n",
      "C:\\Users\\jthoma\\AppData\\Local\\Temp\\ipykernel_6852\\2457786483.py:39: FutureWarning: The frame.append method is deprecated and will be removed from pandas in a future version. Use pandas.concat instead.\n",
      "  df = df.append(a_series, ignore_index=True)\n",
      "C:\\Users\\jthoma\\AppData\\Local\\Temp\\ipykernel_6852\\2457786483.py:39: FutureWarning: The frame.append method is deprecated and will be removed from pandas in a future version. Use pandas.concat instead.\n",
      "  df = df.append(a_series, ignore_index=True)\n",
      "C:\\Users\\jthoma\\AppData\\Local\\Temp\\ipykernel_6852\\2457786483.py:39: FutureWarning: The frame.append method is deprecated and will be removed from pandas in a future version. Use pandas.concat instead.\n",
      "  df = df.append(a_series, ignore_index=True)\n",
      "C:\\Users\\jthoma\\AppData\\Local\\Temp\\ipykernel_6852\\2457786483.py:39: FutureWarning: The frame.append method is deprecated and will be removed from pandas in a future version. Use pandas.concat instead.\n",
      "  df = df.append(a_series, ignore_index=True)\n",
      "C:\\Users\\jthoma\\AppData\\Local\\Temp\\ipykernel_6852\\2457786483.py:39: FutureWarning: The frame.append method is deprecated and will be removed from pandas in a future version. Use pandas.concat instead.\n",
      "  df = df.append(a_series, ignore_index=True)\n",
      "C:\\Users\\jthoma\\AppData\\Local\\Temp\\ipykernel_6852\\2457786483.py:39: FutureWarning: The frame.append method is deprecated and will be removed from pandas in a future version. Use pandas.concat instead.\n",
      "  df = df.append(a_series, ignore_index=True)\n",
      "C:\\Users\\jthoma\\AppData\\Local\\Temp\\ipykernel_6852\\2457786483.py:39: FutureWarning: The frame.append method is deprecated and will be removed from pandas in a future version. Use pandas.concat instead.\n",
      "  df = df.append(a_series, ignore_index=True)\n",
      "C:\\Users\\jthoma\\AppData\\Local\\Temp\\ipykernel_6852\\2457786483.py:39: FutureWarning: The frame.append method is deprecated and will be removed from pandas in a future version. Use pandas.concat instead.\n",
      "  df = df.append(a_series, ignore_index=True)\n",
      "C:\\Users\\jthoma\\AppData\\Local\\Temp\\ipykernel_6852\\2457786483.py:39: FutureWarning: The frame.append method is deprecated and will be removed from pandas in a future version. Use pandas.concat instead.\n",
      "  df = df.append(a_series, ignore_index=True)\n"
     ]
    },
    {
     "name": "stdout",
     "output_type": "stream",
     "text": [
      "Could not append: ['...', '14', '15', '16', '17', '18', '19', '20', '21', '22', '23']\n"
     ]
    },
    {
     "name": "stderr",
     "output_type": "stream",
     "text": [
      "C:\\Users\\jthoma\\AppData\\Local\\Temp\\ipykernel_6852\\2457786483.py:38: FutureWarning: The default dtype for empty Series will be 'object' instead of 'float64' in a future version. Specify a dtype explicitly to silence this warning.\n",
      "  a_series = pd.Series(row_list, index = df.columns)\n"
     ]
    },
    {
     "name": "stdout",
     "output_type": "stream",
     "text": [
      "Could not append: []\n"
     ]
    },
    {
     "name": "stderr",
     "output_type": "stream",
     "text": [
      "C:\\Users\\jthoma\\AppData\\Local\\Temp\\ipykernel_6852\\2457786483.py:39: FutureWarning: The frame.append method is deprecated and will be removed from pandas in a future version. Use pandas.concat instead.\n",
      "  df = df.append(a_series, ignore_index=True)\n",
      "C:\\Users\\jthoma\\AppData\\Local\\Temp\\ipykernel_6852\\2457786483.py:39: FutureWarning: The frame.append method is deprecated and will be removed from pandas in a future version. Use pandas.concat instead.\n",
      "  df = df.append(a_series, ignore_index=True)\n",
      "C:\\Users\\jthoma\\AppData\\Local\\Temp\\ipykernel_6852\\2457786483.py:39: FutureWarning: The frame.append method is deprecated and will be removed from pandas in a future version. Use pandas.concat instead.\n",
      "  df = df.append(a_series, ignore_index=True)\n",
      "C:\\Users\\jthoma\\AppData\\Local\\Temp\\ipykernel_6852\\2457786483.py:39: FutureWarning: The frame.append method is deprecated and will be removed from pandas in a future version. Use pandas.concat instead.\n",
      "  df = df.append(a_series, ignore_index=True)\n",
      "C:\\Users\\jthoma\\AppData\\Local\\Temp\\ipykernel_6852\\2457786483.py:39: FutureWarning: The frame.append method is deprecated and will be removed from pandas in a future version. Use pandas.concat instead.\n",
      "  df = df.append(a_series, ignore_index=True)\n",
      "C:\\Users\\jthoma\\AppData\\Local\\Temp\\ipykernel_6852\\2457786483.py:39: FutureWarning: The frame.append method is deprecated and will be removed from pandas in a future version. Use pandas.concat instead.\n",
      "  df = df.append(a_series, ignore_index=True)\n",
      "C:\\Users\\jthoma\\AppData\\Local\\Temp\\ipykernel_6852\\2457786483.py:39: FutureWarning: The frame.append method is deprecated and will be removed from pandas in a future version. Use pandas.concat instead.\n",
      "  df = df.append(a_series, ignore_index=True)\n",
      "C:\\Users\\jthoma\\AppData\\Local\\Temp\\ipykernel_6852\\2457786483.py:39: FutureWarning: The frame.append method is deprecated and will be removed from pandas in a future version. Use pandas.concat instead.\n",
      "  df = df.append(a_series, ignore_index=True)\n",
      "C:\\Users\\jthoma\\AppData\\Local\\Temp\\ipykernel_6852\\2457786483.py:39: FutureWarning: The frame.append method is deprecated and will be removed from pandas in a future version. Use pandas.concat instead.\n",
      "  df = df.append(a_series, ignore_index=True)\n",
      "C:\\Users\\jthoma\\AppData\\Local\\Temp\\ipykernel_6852\\2457786483.py:39: FutureWarning: The frame.append method is deprecated and will be removed from pandas in a future version. Use pandas.concat instead.\n",
      "  df = df.append(a_series, ignore_index=True)\n",
      "C:\\Users\\jthoma\\AppData\\Local\\Temp\\ipykernel_6852\\2457786483.py:39: FutureWarning: The frame.append method is deprecated and will be removed from pandas in a future version. Use pandas.concat instead.\n",
      "  df = df.append(a_series, ignore_index=True)\n"
     ]
    },
    {
     "name": "stdout",
     "output_type": "stream",
     "text": [
      "Could not append: ['...', '14', '15', '16', '17', '18', '19', '20', '21', '22', '23']\n"
     ]
    },
    {
     "ename": "NoSuchElementException",
     "evalue": "Message: no such element: Unable to locate element: {\"method\":\"xpath\",\"selector\":\"//*[@id=\"MainContent_lblTotal\"]\"}\n  (Session info: chrome=103.0.5060.114)\nStacktrace:\nBacktrace:\n\tOrdinal0 [0x00466463+2188387]\n\tOrdinal0 [0x003FE461+1762401]\n\tOrdinal0 [0x00313D78+802168]\n\tOrdinal0 [0x00341880+989312]\n\tOrdinal0 [0x00341B1B+989979]\n\tOrdinal0 [0x0036E912+1173778]\n\tOrdinal0 [0x0035C824+1099812]\n\tOrdinal0 [0x0036CC22+1166370]\n\tOrdinal0 [0x0035C5F6+1099254]\n\tOrdinal0 [0x00336BE0+945120]\n\tOrdinal0 [0x00337AD6+948950]\n\tGetHandleVerifier [0x007071F2+2712546]\n\tGetHandleVerifier [0x006F886D+2652765]\n\tGetHandleVerifier [0x004F002A+520730]\n\tGetHandleVerifier [0x004EEE06+516086]\n\tOrdinal0 [0x0040468B+1787531]\n\tOrdinal0 [0x00408E88+1805960]\n\tOrdinal0 [0x00408F75+1806197]\n\tOrdinal0 [0x00411DF1+1842673]\n\tBaseThreadInitThunk [0x7509FA29+25]\n\tRtlGetAppContainerNamedObjectPath [0x77137A9E+286]\n\tRtlGetAppContainerNamedObjectPath [0x77137A6E+238]\n",
     "output_type": "error",
     "traceback": [
      "\u001b[1;31m---------------------------------------------------------------------------\u001b[0m",
      "\u001b[1;31mNoSuchElementException\u001b[0m                    Traceback (most recent call last)",
      "Input \u001b[1;32mIn [5]\u001b[0m, in \u001b[0;36m<cell line: 1>\u001b[1;34m()\u001b[0m\n\u001b[0;32m     14\u001b[0m driver\u001b[38;5;241m.\u001b[39mimplicitly_wait(\u001b[38;5;241m5\u001b[39m) \u001b[38;5;66;03m#Wait 5 seconds for the load\u001b[39;00m\n\u001b[0;32m     16\u001b[0m \u001b[38;5;66;03m#Getting the number of pages to scrap\u001b[39;00m\n\u001b[1;32m---> 17\u001b[0m number_concesiones \u001b[38;5;241m=\u001b[39m \u001b[43mdriver\u001b[49m\u001b[38;5;241;43m.\u001b[39;49m\u001b[43mfind_element\u001b[49m\u001b[43m(\u001b[49m\u001b[43mBy\u001b[49m\u001b[38;5;241;43m.\u001b[39;49m\u001b[43mXPATH\u001b[49m\u001b[43m,\u001b[49m\u001b[38;5;124;43m'\u001b[39;49m\u001b[38;5;124;43m//*[@id=\u001b[39;49m\u001b[38;5;124;43m\"\u001b[39;49m\u001b[38;5;124;43mMainContent_lblTotal\u001b[39;49m\u001b[38;5;124;43m\"\u001b[39;49m\u001b[38;5;124;43m]\u001b[39;49m\u001b[38;5;124;43m'\u001b[39;49m\u001b[43m)\u001b[49m\n\u001b[0;32m     18\u001b[0m pages \u001b[38;5;241m=\u001b[39m math\u001b[38;5;241m.\u001b[39mceil((\u001b[38;5;28mint\u001b[39m(\u001b[38;5;28mstr\u001b[39m\u001b[38;5;241m.\u001b[39msplit(number_concesiones\u001b[38;5;241m.\u001b[39mtext)[\u001b[38;5;241m0\u001b[39m]))\u001b[38;5;241m/\u001b[39m\u001b[38;5;241m10\u001b[39m)\n\u001b[0;32m     21\u001b[0m \u001b[38;5;66;03m#Flip through all of the records and save them\u001b[39;00m\n",
      "File \u001b[1;32m~\\Anaconda3\\lib\\site-packages\\selenium\\webdriver\\remote\\webdriver.py:857\u001b[0m, in \u001b[0;36mWebDriver.find_element\u001b[1;34m(self, by, value)\u001b[0m\n\u001b[0;32m    854\u001b[0m     by \u001b[38;5;241m=\u001b[39m By\u001b[38;5;241m.\u001b[39mCSS_SELECTOR\n\u001b[0;32m    855\u001b[0m     value \u001b[38;5;241m=\u001b[39m \u001b[38;5;124m'\u001b[39m\u001b[38;5;124m[name=\u001b[39m\u001b[38;5;124m\"\u001b[39m\u001b[38;5;132;01m%s\u001b[39;00m\u001b[38;5;124m\"\u001b[39m\u001b[38;5;124m]\u001b[39m\u001b[38;5;124m'\u001b[39m \u001b[38;5;241m%\u001b[39m value\n\u001b[1;32m--> 857\u001b[0m \u001b[38;5;28;01mreturn\u001b[39;00m \u001b[38;5;28;43mself\u001b[39;49m\u001b[38;5;241;43m.\u001b[39;49m\u001b[43mexecute\u001b[49m\u001b[43m(\u001b[49m\u001b[43mCommand\u001b[49m\u001b[38;5;241;43m.\u001b[39;49m\u001b[43mFIND_ELEMENT\u001b[49m\u001b[43m,\u001b[49m\u001b[43m \u001b[49m\u001b[43m{\u001b[49m\n\u001b[0;32m    858\u001b[0m \u001b[43m    \u001b[49m\u001b[38;5;124;43m'\u001b[39;49m\u001b[38;5;124;43musing\u001b[39;49m\u001b[38;5;124;43m'\u001b[39;49m\u001b[43m:\u001b[49m\u001b[43m \u001b[49m\u001b[43mby\u001b[49m\u001b[43m,\u001b[49m\n\u001b[0;32m    859\u001b[0m \u001b[43m    \u001b[49m\u001b[38;5;124;43m'\u001b[39;49m\u001b[38;5;124;43mvalue\u001b[39;49m\u001b[38;5;124;43m'\u001b[39;49m\u001b[43m:\u001b[49m\u001b[43m \u001b[49m\u001b[43mvalue\u001b[49m\u001b[43m}\u001b[49m\u001b[43m)\u001b[49m[\u001b[38;5;124m'\u001b[39m\u001b[38;5;124mvalue\u001b[39m\u001b[38;5;124m'\u001b[39m]\n",
      "File \u001b[1;32m~\\Anaconda3\\lib\\site-packages\\selenium\\webdriver\\remote\\webdriver.py:435\u001b[0m, in \u001b[0;36mWebDriver.execute\u001b[1;34m(self, driver_command, params)\u001b[0m\n\u001b[0;32m    433\u001b[0m response \u001b[38;5;241m=\u001b[39m \u001b[38;5;28mself\u001b[39m\u001b[38;5;241m.\u001b[39mcommand_executor\u001b[38;5;241m.\u001b[39mexecute(driver_command, params)\n\u001b[0;32m    434\u001b[0m \u001b[38;5;28;01mif\u001b[39;00m response:\n\u001b[1;32m--> 435\u001b[0m     \u001b[38;5;28;43mself\u001b[39;49m\u001b[38;5;241;43m.\u001b[39;49m\u001b[43merror_handler\u001b[49m\u001b[38;5;241;43m.\u001b[39;49m\u001b[43mcheck_response\u001b[49m\u001b[43m(\u001b[49m\u001b[43mresponse\u001b[49m\u001b[43m)\u001b[49m\n\u001b[0;32m    436\u001b[0m     response[\u001b[38;5;124m'\u001b[39m\u001b[38;5;124mvalue\u001b[39m\u001b[38;5;124m'\u001b[39m] \u001b[38;5;241m=\u001b[39m \u001b[38;5;28mself\u001b[39m\u001b[38;5;241m.\u001b[39m_unwrap_value(\n\u001b[0;32m    437\u001b[0m         response\u001b[38;5;241m.\u001b[39mget(\u001b[38;5;124m'\u001b[39m\u001b[38;5;124mvalue\u001b[39m\u001b[38;5;124m'\u001b[39m, \u001b[38;5;28;01mNone\u001b[39;00m))\n\u001b[0;32m    438\u001b[0m     \u001b[38;5;28;01mreturn\u001b[39;00m response\n",
      "File \u001b[1;32m~\\Anaconda3\\lib\\site-packages\\selenium\\webdriver\\remote\\errorhandler.py:247\u001b[0m, in \u001b[0;36mErrorHandler.check_response\u001b[1;34m(self, response)\u001b[0m\n\u001b[0;32m    245\u001b[0m         alert_text \u001b[38;5;241m=\u001b[39m value[\u001b[38;5;124m'\u001b[39m\u001b[38;5;124malert\u001b[39m\u001b[38;5;124m'\u001b[39m]\u001b[38;5;241m.\u001b[39mget(\u001b[38;5;124m'\u001b[39m\u001b[38;5;124mtext\u001b[39m\u001b[38;5;124m'\u001b[39m)\n\u001b[0;32m    246\u001b[0m     \u001b[38;5;28;01mraise\u001b[39;00m exception_class(message, screen, stacktrace, alert_text)  \u001b[38;5;66;03m# type: ignore[call-arg]  # mypy is not smart enough here\u001b[39;00m\n\u001b[1;32m--> 247\u001b[0m \u001b[38;5;28;01mraise\u001b[39;00m exception_class(message, screen, stacktrace)\n",
      "\u001b[1;31mNoSuchElementException\u001b[0m: Message: no such element: Unable to locate element: {\"method\":\"xpath\",\"selector\":\"//*[@id=\"MainContent_lblTotal\"]\"}\n  (Session info: chrome=103.0.5060.114)\nStacktrace:\nBacktrace:\n\tOrdinal0 [0x00466463+2188387]\n\tOrdinal0 [0x003FE461+1762401]\n\tOrdinal0 [0x00313D78+802168]\n\tOrdinal0 [0x00341880+989312]\n\tOrdinal0 [0x00341B1B+989979]\n\tOrdinal0 [0x0036E912+1173778]\n\tOrdinal0 [0x0035C824+1099812]\n\tOrdinal0 [0x0036CC22+1166370]\n\tOrdinal0 [0x0035C5F6+1099254]\n\tOrdinal0 [0x00336BE0+945120]\n\tOrdinal0 [0x00337AD6+948950]\n\tGetHandleVerifier [0x007071F2+2712546]\n\tGetHandleVerifier [0x006F886D+2652765]\n\tGetHandleVerifier [0x004F002A+520730]\n\tGetHandleVerifier [0x004EEE06+516086]\n\tOrdinal0 [0x0040468B+1787531]\n\tOrdinal0 [0x00408E88+1805960]\n\tOrdinal0 [0x00408F75+1806197]\n\tOrdinal0 [0x00411DF1+1842673]\n\tBaseThreadInitThunk [0x7509FA29+25]\n\tRtlGetAppContainerNamedObjectPath [0x77137A9E+286]\n\tRtlGetAppContainerNamedObjectPath [0x77137A6E+238]\n"
     ]
    }
   ],
   "source": [
    "for comunidad in range(2,21):\n",
    "    \n",
    "    #Select Servicio Fijo on Registro Público\n",
    "    serviciofijo_select = driver.find_element(By.XPATH,'//*[@id=\"MainContent_rblTipoServicio_1\"]')\n",
    "    serviciofijo_select.click()\n",
    "    \n",
    "    #Select Comunidad on Registro Público\n",
    "    comunidad_select = driver.find_element(By.XPATH,'//*[@id=\"MainContent_cmbComunidad\"]/option['+str(comunidad)+']')\n",
    "    comunidad_select.click()\n",
    "\n",
    "    #Click on Buscar\n",
    "    buscar_button = driver.find_element(By.XPATH,'//*[@id=\"MainContent_btnBuscar\"]')\n",
    "    buscar_button.click()\n",
    "    driver.implicitly_wait(5) #Wait 5 seconds for the load\n",
    "        \n",
    "    #Getting the number of pages to scrap\n",
    "    number_concesiones = driver.find_element(By.XPATH,'//*[@id=\"MainContent_lblTotal\"]')\n",
    "    pages = math.ceil((int(str.split(number_concesiones.text)[0]))/10)\n",
    "\n",
    "    \n",
    "    #Flip through all of the records and save them\n",
    "    for n in range(2, pages+1):\n",
    "        for i in range(3):\n",
    "            try:\n",
    "                mytable = driver.find_element(By.XPATH,'//*[@id=\"MainContent_gridConcesiones\"]')\n",
    "                #Read in all of the data into the dataframe\n",
    "                for row in mytable.find_elements(By.CSS_SELECTOR,'tr'):\n",
    "                    row_list = []\n",
    "                    #Add to dataframe accordingly\n",
    "                    for cell in row.find_elements(By.CSS_SELECTOR,'td'):\n",
    "                        cell_reading = cell.text\n",
    "                        if cell_reading == \"\":\n",
    "                          checkbox = cell.find_element(By.CLASS_NAME, 'aspNetDisabled').find_element(By.CSS_SELECTOR,'input')\n",
    "                          cell_reading = checkbox.get_attribute('checked')\n",
    "                        row_list.append(cell_reading)\n",
    "                    #Add the list as a row, if possible \n",
    "                    try:\n",
    "                        a_series = pd.Series(row_list, index = df.columns)\n",
    "                        df = df.append(a_series, ignore_index=True)\n",
    "                    except:\n",
    "                        print(\"Could not append: \" + str(row_list))\n",
    "                break\n",
    "            except:\n",
    "                driver.implicitly_wait(5)\n",
    "        if n%10 == 1:\n",
    "            #Click second \"...\" if on greater than page 10\n",
    "            if n < 20:\n",
    "                driver.find_elements(By.XPATH,'//*[@id=\"MainContent_gridConcesiones\"]/tbody/tr[12]/td/table/tbody/tr/td[11]/a')[0].click()  \n",
    "            else:\n",
    "                driver.find_elements(By.XPATH,'//*[@id=\"MainContent_gridConcesiones\"]/tbody/tr[12]/td/table/tbody/tr/td[12]/a')[0].click()  \n",
    "        else:\n",
    "            driver.find_element(By.XPATH,\"//td/a[text()='\" + str(n)+ \"']\").click()    \n",
    "        #Wait three seconds so the website doesn't crash\n",
    "        driver.implicitly_wait(3)\n",
    "        \n",
    "    \n",
    "    #go back to selecting comunidad\n",
    "    nueva_busqueda = driver.find_element(By.XPATH,'//*[@id=\"MainContent_btnNuevaBusqueda\"]')\n",
    "    nueva_busqueda.click()\n",
    "    driver.implicitly_wait(5) #Wait 5 seconds for the load"
   ]
  },
  {
   "cell_type": "markdown",
   "id": "2ee564fe",
   "metadata": {},
   "source": [
    "#Click on Buscar\n",
    "buscar_button = driver.find_element(By.XPATH,'//*[@id=\"MainContent_btnBuscar\"]')\n",
    "buscar_button.click()\n",
    "\n",
    "driver.implicitly_wait(10) #Wait 10 seconds for the load"
   ]
  },
  {
   "cell_type": "markdown",
   "id": "eb743f5e",
   "metadata": {},
   "source": [
    "## Scrapping the tables"
   ]
  },
  {
   "cell_type": "markdown",
   "id": "8075e1d2",
   "metadata": {},
   "source": [
    "import pandas as pd\n",
    "import math\n",
    "\n",
    "\n",
    "#Create a dataframe to store all of the scraped table data\n",
    "df = pd.DataFrame(columns = [\"Referencia\",\"Titular\",\"NIF/CIF\",\"Domicilio social\",\"Localidad\",\"Provincia\",\"C. Postal\",\n",
    "                             \"F. Concesion\",\"F. Caducidad\",\"Susceptible cesion\",\"Susceptible mutualizacion\",\n",
    "                             \"Obtenido por transferencia\"])\n",
    "\n",
    "#Getting the number of pages to scrap\n",
    "number_concesiones = driver.find_element(By.XPATH,'//*[@id=\"MainContent_lblTotal\"]')\n",
    "pages = math.ceil((int(str.split(number_concesiones.text)[0]))/10)\n",
    "\n",
    "#Flip through all of the records and save them\n",
    "for n in range(2, pages+1):\n",
    "    for i in range(3):\n",
    "        try:\n",
    "            mytable = driver.find_element(By.XPATH,'//*[@id=\"MainContent_gridConcesiones\"]')\n",
    "            #Read in all of the data into the dataframe\n",
    "            for row in mytable.find_elements(By.CSS_SELECTOR,'tr'):\n",
    "                row_list = []\n",
    "                #Add to dataframe accordingly\n",
    "                for cell in row.find_elements(By.CSS_SELECTOR,'td'):\n",
    "                    cell_reading = cell.text\n",
    "                    if cell_reading == \"\":\n",
    "                      checkbox = cell.find_element(By.CLASS_NAME, 'aspNetDisabled').find_element(By.CSS_SELECTOR,'input')\n",
    "                      cell_reading = checkbox.get_attribute('checked')\n",
    "                    row_list.append(cell_reading)\n",
    "                #Add the list as a row, if possible \n",
    "                try:\n",
    "                    a_series = pd.Series(row_list, index = df.columns)\n",
    "                    df = df.append(a_series, ignore_index=True)\n",
    "                except:\n",
    "                    print(\"Could not append: \" + str(row_list))\n",
    "            break\n",
    "        except:\n",
    "            driver.implicitly_wait(5)\n",
    "    if n%10 == 1:\n",
    "        #Click second \"...\" if on greater than page 10\n",
    "        if n < 20:\n",
    "            driver.find_elements(By.XPATH,'//*[@id=\"MainContent_gridConcesiones\"]/tbody/tr[12]/td/table/tbody/tr/td[11]/a')[0].click()  \n",
    "        else:\n",
    "            driver.find_elements(By.XPATH,'//*[@id=\"MainContent_gridConcesiones\"]/tbody/tr[12]/td/table/tbody/tr/td[12]/a')[0].click()  \n",
    "    else:\n",
    "        driver.find_element(By.XPATH,\"//td/a[text()='\" + str(n)+ \"']\").click()    \n",
    "    #Wait three seconds so the website doesn't crash\n",
    "    driver.implicitly_wait(3)"
   ]
  },
  {
   "cell_type": "code",
   "execution_count": null,
   "id": "0e9609d5",
   "metadata": {},
   "outputs": [],
   "source": [
    "df"
   ]
  },
  {
   "cell_type": "code",
   "execution_count": null,
   "id": "8b530e17",
   "metadata": {},
   "outputs": [],
   "source": [
    "#Write to a csv\n",
    "df.to_csv(\"RegistroPublicoConcesiones_General.csv\", index= False)"
   ]
  }
 ],
 "metadata": {
  "kernelspec": {
   "display_name": "Python 3 (ipykernel)",
   "language": "python",
   "name": "python3"
  },
  "language_info": {
   "codemirror_mode": {
    "name": "ipython",
    "version": 3
   },
   "file_extension": ".py",
   "mimetype": "text/x-python",
   "name": "python",
   "nbconvert_exporter": "python",
   "pygments_lexer": "ipython3",
   "version": "3.9.12"
  }
 },
 "nbformat": 4,
 "nbformat_minor": 5
}

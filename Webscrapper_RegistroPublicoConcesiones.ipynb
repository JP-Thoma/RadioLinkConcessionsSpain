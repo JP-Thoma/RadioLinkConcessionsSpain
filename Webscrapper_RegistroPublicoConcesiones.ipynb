{
 "cells": [
  {
   "cell_type": "markdown",
   "id": "22ba67b2",
   "metadata": {},
   "source": [
    "# Webscrapper for Registro Público de Concesiones\n",
    "\n",
    "Traditional webscrapping with Beautiful Soup is less useful for aspx websites that expect a user input. This webscraper was built with Selenium intenting to make requests to the form before scraping each page.\n",
    "\n",
    "Following links are helpful: <br>\n",
    "Data Source: https://avancedigital.mineco.gob.es/espectro/Paginas/registro-publico-concesiones.aspx <br>\n",
    "Selenium: https://selenium-python.readthedocs.io/locating-elements.html <br>\n",
    "Chromedriver: https://chromedriver.chromium.org/home (download necessary)<br>"
   ]
  },
  {
   "cell_type": "code",
   "execution_count": 4,
   "id": "0aa5d274",
   "metadata": {
    "scrolled": true
   },
   "outputs": [
    {
     "name": "stdout",
     "output_type": "stream",
     "text": [
      "Requirement already satisfied: URLLib3 in c:\\users\\jthoma\\anaconda3\\lib\\site-packages (1.26.9)\n",
      "Note: you may need to restart the kernel to use updated packages.\n"
     ]
    }
   ],
   "source": [
    "#pip install requests (for making HTTP requests)\n",
    "#pip install URLLib3 (URL handling)\n",
    "#pip install bs4 (in case Selenium couldn’t handle everything)\n",
    "#pip install selenium (for browser-based navigation)"
   ]
  },
  {
   "cell_type": "markdown",
   "id": "ed4cf074",
   "metadata": {},
   "source": [
    "## Making crawler move on the website"
   ]
  },
  {
   "cell_type": "code",
   "execution_count": 41,
   "id": "ad3b24aa",
   "metadata": {},
   "outputs": [
    {
     "name": "stderr",
     "output_type": "stream",
     "text": [
      "C:\\Users\\jthoma\\AppData\\Local\\Temp\\ipykernel_19408\\783515835.py:9: DeprecationWarning: executable_path has been deprecated, please pass in a Service object\n",
      "  driver = webdriver.Chrome('C:/Users/jthoma/Downloads/chromedriver.exe') #use path where chormedriver saved\n"
     ]
    }
   ],
   "source": [
    "from selenium import webdriver\n",
    "from selenium.webdriver.common.by import By\n",
    "from selenium.webdriver.support.ui import WebDriverWait, Select\n",
    "from selenium.webdriver.support import expected_conditions as EC\n",
    "from selenium.common.exceptions import TimeoutException\n",
    "\n",
    "# Establish chrome driver and go to report site URL\n",
    "url = \"https://sedeaplicaciones.minetur.gob.es/RPC_Consulta/FrmConsulta.aspx\"\n",
    "driver = webdriver.Chrome('C:/Users/jthoma/Downloads/chromedriver.exe') #use path where chormedriver saved\n",
    "driver.get(url)"
   ]
  },
  {
   "cell_type": "code",
   "execution_count": 42,
   "id": "9461e5d3",
   "metadata": {},
   "outputs": [],
   "source": [
    "#Select Servicio Fijo\n",
    "serviciofijo_select = driver.find_element(By.XPATH,'//*[@id=\"MainContent_rblTipoServicio_1\"]')\n",
    "serviciofijo_select.click()\n",
    "\n",
    "#driver.implicitly_wait(10)"
   ]
  },
  {
   "cell_type": "code",
   "execution_count": 43,
   "id": "263aeb07",
   "metadata": {},
   "outputs": [],
   "source": [
    "#Select Comunidad\n",
    "#structure of xpath:\"//select[@name='element_name']/option[text()='option_text']\"\n",
    "comunidad_select = driver.find_element(By.XPATH,'//*[@id=\"MainContent_cmbComunidad\"]/option[2]')\n",
    "comunidad_select.click()\n",
    "\n",
    "\"\"\"<select name=\"ctl00$MainContent$cmbComunidad\" onchange=\"javascript:setTimeout('__doPostBack(\\'ctl00$MainContent$cmbComunidad\\',\\'\\')', 0)\" id=\"MainContent_cmbComunidad\" tabindex=\"8\">\n",
    "\t\t\t<option value=\"-1\"></option>\n",
    "\t\t\t<option selected=\"selected\" value=\"04\">ANDALUCÍA</option>\n",
    "\t\t\t<option value=\"10\">ARAGÓN</option>\n",
    "\t\t\t<option value=\"12\">CANARIAS</option>\n",
    "\t\t\t<option value=\"06\">CANTABRIA</option>\n",
    "\t\t\t<option value=\"17\">CASTILLA Y LEÓN</option>\n",
    "\t\t\t<option value=\"11\">CASTILLA-LA MANCHA</option>\n",
    "\t\t\t<option value=\"02\">CATALUÑA</option>\n",
    "\t\t\t<option value=\"18\">CIUDAD AUTÓNOMA DE CEUTA</option>\n",
    "\t\t\t<option value=\"19\">CIUDAD AUTÓNOMA DE MELILLA</option>\n",
    "\t\t\t<option value=\"16\">COMUNIDAD DE MADRID</option>\n",
    "\t\t\t<option value=\"13\">COMUNIDAD FORAL DE NAVARRA</option>\n",
    "\t\t\t<option value=\"09\">COMUNITAT VALENCIANA</option>\n",
    "\t\t\t<option value=\"14\">EXTREMADURA</option>\n",
    "\t\t\t<option value=\"03\">GALICIA</option>\n",
    "\t\t\t<option value=\"15\">ILLES BALEARS</option>\n",
    "\t\t\t<option value=\"07\">LA RIOJA</option>\n",
    "\t\t\t<option value=\"01\">PAÍS VASCO</option>\n",
    "\t\t\t<option value=\"05\">PRINCIPADO DE ASTURIAS</option>\n",
    "\t\t\t<option value=\"08\">REGIÓN DE MURCIA</option>\n",
    "\t\t</select>\"\"\"\n",
    "\n",
    "#driver.implicitly_wait(10)"
   ]
  },
  {
   "cell_type": "code",
   "execution_count": 44,
   "id": "93384bf0",
   "metadata": {},
   "outputs": [],
   "source": [
    "#Click on Buscar\n",
    "buscar_button = driver.find_element(By.XPATH,'//*[@id=\"MainContent_btnBuscar\"]')\n",
    "buscar_button.click()\n",
    "\n",
    "driver.implicitly_wait(10) #Wait 10 seconds for the load"
   ]
  },
  {
   "cell_type": "markdown",
   "id": "84d5fdbd",
   "metadata": {},
   "source": [
    "## Scrapping the tables"
   ]
  },
  {
   "cell_type": "code",
   "execution_count": 40,
   "id": "12eefe07",
   "metadata": {},
   "outputs": [
    {
     "name": "stderr",
     "output_type": "stream",
     "text": [
      "C:\\Users\\jthoma\\AppData\\Local\\Temp\\ipykernel_19408\\2653461022.py:21: FutureWarning: The default dtype for empty Series will be 'object' instead of 'float64' in a future version. Specify a dtype explicitly to silence this warning.\n",
      "  a_series = pd.Series(row_list, index = df.columns)\n"
     ]
    },
    {
     "name": "stdout",
     "output_type": "stream",
     "text": [
      "Could not append: []\n"
     ]
    },
    {
     "name": "stderr",
     "output_type": "stream",
     "text": [
      "C:\\Users\\jthoma\\AppData\\Local\\Temp\\ipykernel_19408\\2653461022.py:22: FutureWarning: The frame.append method is deprecated and will be removed from pandas in a future version. Use pandas.concat instead.\n",
      "  df = df.append(a_series, ignore_index=True)\n",
      "C:\\Users\\jthoma\\AppData\\Local\\Temp\\ipykernel_19408\\2653461022.py:22: FutureWarning: The frame.append method is deprecated and will be removed from pandas in a future version. Use pandas.concat instead.\n",
      "  df = df.append(a_series, ignore_index=True)\n",
      "C:\\Users\\jthoma\\AppData\\Local\\Temp\\ipykernel_19408\\2653461022.py:22: FutureWarning: The frame.append method is deprecated and will be removed from pandas in a future version. Use pandas.concat instead.\n",
      "  df = df.append(a_series, ignore_index=True)\n",
      "C:\\Users\\jthoma\\AppData\\Local\\Temp\\ipykernel_19408\\2653461022.py:22: FutureWarning: The frame.append method is deprecated and will be removed from pandas in a future version. Use pandas.concat instead.\n",
      "  df = df.append(a_series, ignore_index=True)\n",
      "C:\\Users\\jthoma\\AppData\\Local\\Temp\\ipykernel_19408\\2653461022.py:22: FutureWarning: The frame.append method is deprecated and will be removed from pandas in a future version. Use pandas.concat instead.\n",
      "  df = df.append(a_series, ignore_index=True)\n",
      "C:\\Users\\jthoma\\AppData\\Local\\Temp\\ipykernel_19408\\2653461022.py:22: FutureWarning: The frame.append method is deprecated and will be removed from pandas in a future version. Use pandas.concat instead.\n",
      "  df = df.append(a_series, ignore_index=True)\n",
      "C:\\Users\\jthoma\\AppData\\Local\\Temp\\ipykernel_19408\\2653461022.py:22: FutureWarning: The frame.append method is deprecated and will be removed from pandas in a future version. Use pandas.concat instead.\n",
      "  df = df.append(a_series, ignore_index=True)\n",
      "C:\\Users\\jthoma\\AppData\\Local\\Temp\\ipykernel_19408\\2653461022.py:22: FutureWarning: The frame.append method is deprecated and will be removed from pandas in a future version. Use pandas.concat instead.\n",
      "  df = df.append(a_series, ignore_index=True)\n",
      "C:\\Users\\jthoma\\AppData\\Local\\Temp\\ipykernel_19408\\2653461022.py:22: FutureWarning: The frame.append method is deprecated and will be removed from pandas in a future version. Use pandas.concat instead.\n",
      "  df = df.append(a_series, ignore_index=True)\n",
      "C:\\Users\\jthoma\\AppData\\Local\\Temp\\ipykernel_19408\\2653461022.py:22: FutureWarning: The frame.append method is deprecated and will be removed from pandas in a future version. Use pandas.concat instead.\n",
      "  df = df.append(a_series, ignore_index=True)\n",
      "C:\\Users\\jthoma\\AppData\\Local\\Temp\\ipykernel_19408\\2653461022.py:22: FutureWarning: The frame.append method is deprecated and will be removed from pandas in a future version. Use pandas.concat instead.\n",
      "  df = df.append(a_series, ignore_index=True)\n"
     ]
    },
    {
     "name": "stdout",
     "output_type": "stream",
     "text": [
      "Could not append: ['1', '2', '3', '4', '5', '6', '7', '8', '9', '10', '...']\n"
     ]
    },
    {
     "name": "stderr",
     "output_type": "stream",
     "text": [
      "C:\\Users\\jthoma\\AppData\\Local\\Temp\\ipykernel_19408\\2653461022.py:21: FutureWarning: The default dtype for empty Series will be 'object' instead of 'float64' in a future version. Specify a dtype explicitly to silence this warning.\n",
      "  a_series = pd.Series(row_list, index = df.columns)\n"
     ]
    },
    {
     "name": "stdout",
     "output_type": "stream",
     "text": [
      "Could not append: []\n"
     ]
    },
    {
     "name": "stderr",
     "output_type": "stream",
     "text": [
      "C:\\Users\\jthoma\\AppData\\Local\\Temp\\ipykernel_19408\\2653461022.py:22: FutureWarning: The frame.append method is deprecated and will be removed from pandas in a future version. Use pandas.concat instead.\n",
      "  df = df.append(a_series, ignore_index=True)\n",
      "C:\\Users\\jthoma\\AppData\\Local\\Temp\\ipykernel_19408\\2653461022.py:22: FutureWarning: The frame.append method is deprecated and will be removed from pandas in a future version. Use pandas.concat instead.\n",
      "  df = df.append(a_series, ignore_index=True)\n",
      "C:\\Users\\jthoma\\AppData\\Local\\Temp\\ipykernel_19408\\2653461022.py:22: FutureWarning: The frame.append method is deprecated and will be removed from pandas in a future version. Use pandas.concat instead.\n",
      "  df = df.append(a_series, ignore_index=True)\n",
      "C:\\Users\\jthoma\\AppData\\Local\\Temp\\ipykernel_19408\\2653461022.py:22: FutureWarning: The frame.append method is deprecated and will be removed from pandas in a future version. Use pandas.concat instead.\n",
      "  df = df.append(a_series, ignore_index=True)\n",
      "C:\\Users\\jthoma\\AppData\\Local\\Temp\\ipykernel_19408\\2653461022.py:22: FutureWarning: The frame.append method is deprecated and will be removed from pandas in a future version. Use pandas.concat instead.\n",
      "  df = df.append(a_series, ignore_index=True)\n",
      "C:\\Users\\jthoma\\AppData\\Local\\Temp\\ipykernel_19408\\2653461022.py:22: FutureWarning: The frame.append method is deprecated and will be removed from pandas in a future version. Use pandas.concat instead.\n",
      "  df = df.append(a_series, ignore_index=True)\n",
      "C:\\Users\\jthoma\\AppData\\Local\\Temp\\ipykernel_19408\\2653461022.py:22: FutureWarning: The frame.append method is deprecated and will be removed from pandas in a future version. Use pandas.concat instead.\n",
      "  df = df.append(a_series, ignore_index=True)\n",
      "C:\\Users\\jthoma\\AppData\\Local\\Temp\\ipykernel_19408\\2653461022.py:22: FutureWarning: The frame.append method is deprecated and will be removed from pandas in a future version. Use pandas.concat instead.\n",
      "  df = df.append(a_series, ignore_index=True)\n",
      "C:\\Users\\jthoma\\AppData\\Local\\Temp\\ipykernel_19408\\2653461022.py:22: FutureWarning: The frame.append method is deprecated and will be removed from pandas in a future version. Use pandas.concat instead.\n",
      "  df = df.append(a_series, ignore_index=True)\n",
      "C:\\Users\\jthoma\\AppData\\Local\\Temp\\ipykernel_19408\\2653461022.py:22: FutureWarning: The frame.append method is deprecated and will be removed from pandas in a future version. Use pandas.concat instead.\n",
      "  df = df.append(a_series, ignore_index=True)\n",
      "C:\\Users\\jthoma\\AppData\\Local\\Temp\\ipykernel_19408\\2653461022.py:22: FutureWarning: The frame.append method is deprecated and will be removed from pandas in a future version. Use pandas.concat instead.\n",
      "  df = df.append(a_series, ignore_index=True)\n"
     ]
    },
    {
     "name": "stdout",
     "output_type": "stream",
     "text": [
      "Could not append: ['1', '2', '3', '4', '5', '6', '7', '8', '9', '10', '...']\n"
     ]
    },
    {
     "name": "stderr",
     "output_type": "stream",
     "text": [
      "C:\\Users\\jthoma\\AppData\\Local\\Temp\\ipykernel_19408\\2653461022.py:21: FutureWarning: The default dtype for empty Series will be 'object' instead of 'float64' in a future version. Specify a dtype explicitly to silence this warning.\n",
      "  a_series = pd.Series(row_list, index = df.columns)\n"
     ]
    },
    {
     "name": "stdout",
     "output_type": "stream",
     "text": [
      "Could not append: []\n"
     ]
    },
    {
     "name": "stderr",
     "output_type": "stream",
     "text": [
      "C:\\Users\\jthoma\\AppData\\Local\\Temp\\ipykernel_19408\\2653461022.py:22: FutureWarning: The frame.append method is deprecated and will be removed from pandas in a future version. Use pandas.concat instead.\n",
      "  df = df.append(a_series, ignore_index=True)\n",
      "C:\\Users\\jthoma\\AppData\\Local\\Temp\\ipykernel_19408\\2653461022.py:22: FutureWarning: The frame.append method is deprecated and will be removed from pandas in a future version. Use pandas.concat instead.\n",
      "  df = df.append(a_series, ignore_index=True)\n",
      "C:\\Users\\jthoma\\AppData\\Local\\Temp\\ipykernel_19408\\2653461022.py:22: FutureWarning: The frame.append method is deprecated and will be removed from pandas in a future version. Use pandas.concat instead.\n",
      "  df = df.append(a_series, ignore_index=True)\n",
      "C:\\Users\\jthoma\\AppData\\Local\\Temp\\ipykernel_19408\\2653461022.py:22: FutureWarning: The frame.append method is deprecated and will be removed from pandas in a future version. Use pandas.concat instead.\n",
      "  df = df.append(a_series, ignore_index=True)\n",
      "C:\\Users\\jthoma\\AppData\\Local\\Temp\\ipykernel_19408\\2653461022.py:22: FutureWarning: The frame.append method is deprecated and will be removed from pandas in a future version. Use pandas.concat instead.\n",
      "  df = df.append(a_series, ignore_index=True)\n",
      "C:\\Users\\jthoma\\AppData\\Local\\Temp\\ipykernel_19408\\2653461022.py:22: FutureWarning: The frame.append method is deprecated and will be removed from pandas in a future version. Use pandas.concat instead.\n",
      "  df = df.append(a_series, ignore_index=True)\n",
      "C:\\Users\\jthoma\\AppData\\Local\\Temp\\ipykernel_19408\\2653461022.py:22: FutureWarning: The frame.append method is deprecated and will be removed from pandas in a future version. Use pandas.concat instead.\n",
      "  df = df.append(a_series, ignore_index=True)\n",
      "C:\\Users\\jthoma\\AppData\\Local\\Temp\\ipykernel_19408\\2653461022.py:22: FutureWarning: The frame.append method is deprecated and will be removed from pandas in a future version. Use pandas.concat instead.\n",
      "  df = df.append(a_series, ignore_index=True)\n",
      "C:\\Users\\jthoma\\AppData\\Local\\Temp\\ipykernel_19408\\2653461022.py:22: FutureWarning: The frame.append method is deprecated and will be removed from pandas in a future version. Use pandas.concat instead.\n",
      "  df = df.append(a_series, ignore_index=True)\n",
      "C:\\Users\\jthoma\\AppData\\Local\\Temp\\ipykernel_19408\\2653461022.py:22: FutureWarning: The frame.append method is deprecated and will be removed from pandas in a future version. Use pandas.concat instead.\n",
      "  df = df.append(a_series, ignore_index=True)\n",
      "C:\\Users\\jthoma\\AppData\\Local\\Temp\\ipykernel_19408\\2653461022.py:22: FutureWarning: The frame.append method is deprecated and will be removed from pandas in a future version. Use pandas.concat instead.\n",
      "  df = df.append(a_series, ignore_index=True)\n"
     ]
    },
    {
     "name": "stdout",
     "output_type": "stream",
     "text": [
      "Could not append: ['1', '2', '3', '4', '5', '6', '7', '8', '9', '10', '...']\n"
     ]
    },
    {
     "name": "stderr",
     "output_type": "stream",
     "text": [
      "C:\\Users\\jthoma\\AppData\\Local\\Temp\\ipykernel_19408\\2653461022.py:21: FutureWarning: The default dtype for empty Series will be 'object' instead of 'float64' in a future version. Specify a dtype explicitly to silence this warning.\n",
      "  a_series = pd.Series(row_list, index = df.columns)\n"
     ]
    },
    {
     "name": "stdout",
     "output_type": "stream",
     "text": [
      "Could not append: []\n"
     ]
    },
    {
     "name": "stderr",
     "output_type": "stream",
     "text": [
      "C:\\Users\\jthoma\\AppData\\Local\\Temp\\ipykernel_19408\\2653461022.py:22: FutureWarning: The frame.append method is deprecated and will be removed from pandas in a future version. Use pandas.concat instead.\n",
      "  df = df.append(a_series, ignore_index=True)\n",
      "C:\\Users\\jthoma\\AppData\\Local\\Temp\\ipykernel_19408\\2653461022.py:22: FutureWarning: The frame.append method is deprecated and will be removed from pandas in a future version. Use pandas.concat instead.\n",
      "  df = df.append(a_series, ignore_index=True)\n",
      "C:\\Users\\jthoma\\AppData\\Local\\Temp\\ipykernel_19408\\2653461022.py:22: FutureWarning: The frame.append method is deprecated and will be removed from pandas in a future version. Use pandas.concat instead.\n",
      "  df = df.append(a_series, ignore_index=True)\n",
      "C:\\Users\\jthoma\\AppData\\Local\\Temp\\ipykernel_19408\\2653461022.py:22: FutureWarning: The frame.append method is deprecated and will be removed from pandas in a future version. Use pandas.concat instead.\n",
      "  df = df.append(a_series, ignore_index=True)\n",
      "C:\\Users\\jthoma\\AppData\\Local\\Temp\\ipykernel_19408\\2653461022.py:22: FutureWarning: The frame.append method is deprecated and will be removed from pandas in a future version. Use pandas.concat instead.\n",
      "  df = df.append(a_series, ignore_index=True)\n",
      "C:\\Users\\jthoma\\AppData\\Local\\Temp\\ipykernel_19408\\2653461022.py:22: FutureWarning: The frame.append method is deprecated and will be removed from pandas in a future version. Use pandas.concat instead.\n",
      "  df = df.append(a_series, ignore_index=True)\n",
      "C:\\Users\\jthoma\\AppData\\Local\\Temp\\ipykernel_19408\\2653461022.py:22: FutureWarning: The frame.append method is deprecated and will be removed from pandas in a future version. Use pandas.concat instead.\n",
      "  df = df.append(a_series, ignore_index=True)\n",
      "C:\\Users\\jthoma\\AppData\\Local\\Temp\\ipykernel_19408\\2653461022.py:22: FutureWarning: The frame.append method is deprecated and will be removed from pandas in a future version. Use pandas.concat instead.\n",
      "  df = df.append(a_series, ignore_index=True)\n",
      "C:\\Users\\jthoma\\AppData\\Local\\Temp\\ipykernel_19408\\2653461022.py:22: FutureWarning: The frame.append method is deprecated and will be removed from pandas in a future version. Use pandas.concat instead.\n",
      "  df = df.append(a_series, ignore_index=True)\n",
      "C:\\Users\\jthoma\\AppData\\Local\\Temp\\ipykernel_19408\\2653461022.py:22: FutureWarning: The frame.append method is deprecated and will be removed from pandas in a future version. Use pandas.concat instead.\n",
      "  df = df.append(a_series, ignore_index=True)\n",
      "C:\\Users\\jthoma\\AppData\\Local\\Temp\\ipykernel_19408\\2653461022.py:22: FutureWarning: The frame.append method is deprecated and will be removed from pandas in a future version. Use pandas.concat instead.\n",
      "  df = df.append(a_series, ignore_index=True)\n"
     ]
    },
    {
     "name": "stdout",
     "output_type": "stream",
     "text": [
      "Could not append: ['1', '2', '3', '4', '5', '6', '7', '8', '9', '10', '...']\n"
     ]
    },
    {
     "name": "stderr",
     "output_type": "stream",
     "text": [
      "C:\\Users\\jthoma\\AppData\\Local\\Temp\\ipykernel_19408\\2653461022.py:21: FutureWarning: The default dtype for empty Series will be 'object' instead of 'float64' in a future version. Specify a dtype explicitly to silence this warning.\n",
      "  a_series = pd.Series(row_list, index = df.columns)\n"
     ]
    },
    {
     "name": "stdout",
     "output_type": "stream",
     "text": [
      "Could not append: []\n"
     ]
    },
    {
     "name": "stderr",
     "output_type": "stream",
     "text": [
      "C:\\Users\\jthoma\\AppData\\Local\\Temp\\ipykernel_19408\\2653461022.py:22: FutureWarning: The frame.append method is deprecated and will be removed from pandas in a future version. Use pandas.concat instead.\n",
      "  df = df.append(a_series, ignore_index=True)\n",
      "C:\\Users\\jthoma\\AppData\\Local\\Temp\\ipykernel_19408\\2653461022.py:22: FutureWarning: The frame.append method is deprecated and will be removed from pandas in a future version. Use pandas.concat instead.\n",
      "  df = df.append(a_series, ignore_index=True)\n",
      "C:\\Users\\jthoma\\AppData\\Local\\Temp\\ipykernel_19408\\2653461022.py:22: FutureWarning: The frame.append method is deprecated and will be removed from pandas in a future version. Use pandas.concat instead.\n",
      "  df = df.append(a_series, ignore_index=True)\n",
      "C:\\Users\\jthoma\\AppData\\Local\\Temp\\ipykernel_19408\\2653461022.py:22: FutureWarning: The frame.append method is deprecated and will be removed from pandas in a future version. Use pandas.concat instead.\n",
      "  df = df.append(a_series, ignore_index=True)\n",
      "C:\\Users\\jthoma\\AppData\\Local\\Temp\\ipykernel_19408\\2653461022.py:22: FutureWarning: The frame.append method is deprecated and will be removed from pandas in a future version. Use pandas.concat instead.\n",
      "  df = df.append(a_series, ignore_index=True)\n",
      "C:\\Users\\jthoma\\AppData\\Local\\Temp\\ipykernel_19408\\2653461022.py:22: FutureWarning: The frame.append method is deprecated and will be removed from pandas in a future version. Use pandas.concat instead.\n",
      "  df = df.append(a_series, ignore_index=True)\n",
      "C:\\Users\\jthoma\\AppData\\Local\\Temp\\ipykernel_19408\\2653461022.py:22: FutureWarning: The frame.append method is deprecated and will be removed from pandas in a future version. Use pandas.concat instead.\n",
      "  df = df.append(a_series, ignore_index=True)\n",
      "C:\\Users\\jthoma\\AppData\\Local\\Temp\\ipykernel_19408\\2653461022.py:22: FutureWarning: The frame.append method is deprecated and will be removed from pandas in a future version. Use pandas.concat instead.\n",
      "  df = df.append(a_series, ignore_index=True)\n",
      "C:\\Users\\jthoma\\AppData\\Local\\Temp\\ipykernel_19408\\2653461022.py:22: FutureWarning: The frame.append method is deprecated and will be removed from pandas in a future version. Use pandas.concat instead.\n",
      "  df = df.append(a_series, ignore_index=True)\n",
      "C:\\Users\\jthoma\\AppData\\Local\\Temp\\ipykernel_19408\\2653461022.py:22: FutureWarning: The frame.append method is deprecated and will be removed from pandas in a future version. Use pandas.concat instead.\n",
      "  df = df.append(a_series, ignore_index=True)\n",
      "C:\\Users\\jthoma\\AppData\\Local\\Temp\\ipykernel_19408\\2653461022.py:22: FutureWarning: The frame.append method is deprecated and will be removed from pandas in a future version. Use pandas.concat instead.\n",
      "  df = df.append(a_series, ignore_index=True)\n"
     ]
    },
    {
     "name": "stdout",
     "output_type": "stream",
     "text": [
      "Could not append: ['1', '2', '3', '4', '5', '6', '7', '8', '9', '10', '...']\n"
     ]
    },
    {
     "name": "stderr",
     "output_type": "stream",
     "text": [
      "C:\\Users\\jthoma\\AppData\\Local\\Temp\\ipykernel_19408\\2653461022.py:21: FutureWarning: The default dtype for empty Series will be 'object' instead of 'float64' in a future version. Specify a dtype explicitly to silence this warning.\n",
      "  a_series = pd.Series(row_list, index = df.columns)\n"
     ]
    },
    {
     "name": "stdout",
     "output_type": "stream",
     "text": [
      "Could not append: []\n"
     ]
    },
    {
     "name": "stderr",
     "output_type": "stream",
     "text": [
      "C:\\Users\\jthoma\\AppData\\Local\\Temp\\ipykernel_19408\\2653461022.py:22: FutureWarning: The frame.append method is deprecated and will be removed from pandas in a future version. Use pandas.concat instead.\n",
      "  df = df.append(a_series, ignore_index=True)\n",
      "C:\\Users\\jthoma\\AppData\\Local\\Temp\\ipykernel_19408\\2653461022.py:22: FutureWarning: The frame.append method is deprecated and will be removed from pandas in a future version. Use pandas.concat instead.\n",
      "  df = df.append(a_series, ignore_index=True)\n",
      "C:\\Users\\jthoma\\AppData\\Local\\Temp\\ipykernel_19408\\2653461022.py:22: FutureWarning: The frame.append method is deprecated and will be removed from pandas in a future version. Use pandas.concat instead.\n",
      "  df = df.append(a_series, ignore_index=True)\n",
      "C:\\Users\\jthoma\\AppData\\Local\\Temp\\ipykernel_19408\\2653461022.py:22: FutureWarning: The frame.append method is deprecated and will be removed from pandas in a future version. Use pandas.concat instead.\n",
      "  df = df.append(a_series, ignore_index=True)\n",
      "C:\\Users\\jthoma\\AppData\\Local\\Temp\\ipykernel_19408\\2653461022.py:22: FutureWarning: The frame.append method is deprecated and will be removed from pandas in a future version. Use pandas.concat instead.\n",
      "  df = df.append(a_series, ignore_index=True)\n",
      "C:\\Users\\jthoma\\AppData\\Local\\Temp\\ipykernel_19408\\2653461022.py:22: FutureWarning: The frame.append method is deprecated and will be removed from pandas in a future version. Use pandas.concat instead.\n",
      "  df = df.append(a_series, ignore_index=True)\n",
      "C:\\Users\\jthoma\\AppData\\Local\\Temp\\ipykernel_19408\\2653461022.py:22: FutureWarning: The frame.append method is deprecated and will be removed from pandas in a future version. Use pandas.concat instead.\n",
      "  df = df.append(a_series, ignore_index=True)\n",
      "C:\\Users\\jthoma\\AppData\\Local\\Temp\\ipykernel_19408\\2653461022.py:22: FutureWarning: The frame.append method is deprecated and will be removed from pandas in a future version. Use pandas.concat instead.\n",
      "  df = df.append(a_series, ignore_index=True)\n",
      "C:\\Users\\jthoma\\AppData\\Local\\Temp\\ipykernel_19408\\2653461022.py:22: FutureWarning: The frame.append method is deprecated and will be removed from pandas in a future version. Use pandas.concat instead.\n",
      "  df = df.append(a_series, ignore_index=True)\n",
      "C:\\Users\\jthoma\\AppData\\Local\\Temp\\ipykernel_19408\\2653461022.py:22: FutureWarning: The frame.append method is deprecated and will be removed from pandas in a future version. Use pandas.concat instead.\n",
      "  df = df.append(a_series, ignore_index=True)\n",
      "C:\\Users\\jthoma\\AppData\\Local\\Temp\\ipykernel_19408\\2653461022.py:22: FutureWarning: The frame.append method is deprecated and will be removed from pandas in a future version. Use pandas.concat instead.\n",
      "  df = df.append(a_series, ignore_index=True)\n"
     ]
    },
    {
     "name": "stdout",
     "output_type": "stream",
     "text": [
      "Could not append: ['1', '2', '3', '4', '5', '6', '7', '8', '9', '10', '...']\n"
     ]
    },
    {
     "name": "stderr",
     "output_type": "stream",
     "text": [
      "C:\\Users\\jthoma\\AppData\\Local\\Temp\\ipykernel_19408\\2653461022.py:21: FutureWarning: The default dtype for empty Series will be 'object' instead of 'float64' in a future version. Specify a dtype explicitly to silence this warning.\n",
      "  a_series = pd.Series(row_list, index = df.columns)\n"
     ]
    },
    {
     "name": "stdout",
     "output_type": "stream",
     "text": [
      "Could not append: []\n"
     ]
    },
    {
     "name": "stderr",
     "output_type": "stream",
     "text": [
      "C:\\Users\\jthoma\\AppData\\Local\\Temp\\ipykernel_19408\\2653461022.py:22: FutureWarning: The frame.append method is deprecated and will be removed from pandas in a future version. Use pandas.concat instead.\n",
      "  df = df.append(a_series, ignore_index=True)\n",
      "C:\\Users\\jthoma\\AppData\\Local\\Temp\\ipykernel_19408\\2653461022.py:22: FutureWarning: The frame.append method is deprecated and will be removed from pandas in a future version. Use pandas.concat instead.\n",
      "  df = df.append(a_series, ignore_index=True)\n",
      "C:\\Users\\jthoma\\AppData\\Local\\Temp\\ipykernel_19408\\2653461022.py:22: FutureWarning: The frame.append method is deprecated and will be removed from pandas in a future version. Use pandas.concat instead.\n",
      "  df = df.append(a_series, ignore_index=True)\n",
      "C:\\Users\\jthoma\\AppData\\Local\\Temp\\ipykernel_19408\\2653461022.py:22: FutureWarning: The frame.append method is deprecated and will be removed from pandas in a future version. Use pandas.concat instead.\n",
      "  df = df.append(a_series, ignore_index=True)\n",
      "C:\\Users\\jthoma\\AppData\\Local\\Temp\\ipykernel_19408\\2653461022.py:22: FutureWarning: The frame.append method is deprecated and will be removed from pandas in a future version. Use pandas.concat instead.\n",
      "  df = df.append(a_series, ignore_index=True)\n",
      "C:\\Users\\jthoma\\AppData\\Local\\Temp\\ipykernel_19408\\2653461022.py:22: FutureWarning: The frame.append method is deprecated and will be removed from pandas in a future version. Use pandas.concat instead.\n",
      "  df = df.append(a_series, ignore_index=True)\n",
      "C:\\Users\\jthoma\\AppData\\Local\\Temp\\ipykernel_19408\\2653461022.py:22: FutureWarning: The frame.append method is deprecated and will be removed from pandas in a future version. Use pandas.concat instead.\n",
      "  df = df.append(a_series, ignore_index=True)\n",
      "C:\\Users\\jthoma\\AppData\\Local\\Temp\\ipykernel_19408\\2653461022.py:22: FutureWarning: The frame.append method is deprecated and will be removed from pandas in a future version. Use pandas.concat instead.\n",
      "  df = df.append(a_series, ignore_index=True)\n",
      "C:\\Users\\jthoma\\AppData\\Local\\Temp\\ipykernel_19408\\2653461022.py:22: FutureWarning: The frame.append method is deprecated and will be removed from pandas in a future version. Use pandas.concat instead.\n",
      "  df = df.append(a_series, ignore_index=True)\n",
      "C:\\Users\\jthoma\\AppData\\Local\\Temp\\ipykernel_19408\\2653461022.py:22: FutureWarning: The frame.append method is deprecated and will be removed from pandas in a future version. Use pandas.concat instead.\n",
      "  df = df.append(a_series, ignore_index=True)\n",
      "C:\\Users\\jthoma\\AppData\\Local\\Temp\\ipykernel_19408\\2653461022.py:22: FutureWarning: The frame.append method is deprecated and will be removed from pandas in a future version. Use pandas.concat instead.\n",
      "  df = df.append(a_series, ignore_index=True)\n"
     ]
    },
    {
     "name": "stdout",
     "output_type": "stream",
     "text": [
      "Could not append: ['1', '2', '3', '4', '5', '6', '7', '8', '9', '10', '...']\n"
     ]
    },
    {
     "name": "stderr",
     "output_type": "stream",
     "text": [
      "C:\\Users\\jthoma\\AppData\\Local\\Temp\\ipykernel_19408\\2653461022.py:21: FutureWarning: The default dtype for empty Series will be 'object' instead of 'float64' in a future version. Specify a dtype explicitly to silence this warning.\n",
      "  a_series = pd.Series(row_list, index = df.columns)\n",
      "C:\\Users\\jthoma\\AppData\\Local\\Temp\\ipykernel_19408\\2653461022.py:22: FutureWarning: The frame.append method is deprecated and will be removed from pandas in a future version. Use pandas.concat instead.\n",
      "  df = df.append(a_series, ignore_index=True)\n"
     ]
    },
    {
     "name": "stdout",
     "output_type": "stream",
     "text": [
      "Could not append: []\n"
     ]
    },
    {
     "name": "stderr",
     "output_type": "stream",
     "text": [
      "C:\\Users\\jthoma\\AppData\\Local\\Temp\\ipykernel_19408\\2653461022.py:22: FutureWarning: The frame.append method is deprecated and will be removed from pandas in a future version. Use pandas.concat instead.\n",
      "  df = df.append(a_series, ignore_index=True)\n",
      "C:\\Users\\jthoma\\AppData\\Local\\Temp\\ipykernel_19408\\2653461022.py:22: FutureWarning: The frame.append method is deprecated and will be removed from pandas in a future version. Use pandas.concat instead.\n",
      "  df = df.append(a_series, ignore_index=True)\n",
      "C:\\Users\\jthoma\\AppData\\Local\\Temp\\ipykernel_19408\\2653461022.py:22: FutureWarning: The frame.append method is deprecated and will be removed from pandas in a future version. Use pandas.concat instead.\n",
      "  df = df.append(a_series, ignore_index=True)\n",
      "C:\\Users\\jthoma\\AppData\\Local\\Temp\\ipykernel_19408\\2653461022.py:22: FutureWarning: The frame.append method is deprecated and will be removed from pandas in a future version. Use pandas.concat instead.\n",
      "  df = df.append(a_series, ignore_index=True)\n",
      "C:\\Users\\jthoma\\AppData\\Local\\Temp\\ipykernel_19408\\2653461022.py:22: FutureWarning: The frame.append method is deprecated and will be removed from pandas in a future version. Use pandas.concat instead.\n",
      "  df = df.append(a_series, ignore_index=True)\n",
      "C:\\Users\\jthoma\\AppData\\Local\\Temp\\ipykernel_19408\\2653461022.py:22: FutureWarning: The frame.append method is deprecated and will be removed from pandas in a future version. Use pandas.concat instead.\n",
      "  df = df.append(a_series, ignore_index=True)\n",
      "C:\\Users\\jthoma\\AppData\\Local\\Temp\\ipykernel_19408\\2653461022.py:22: FutureWarning: The frame.append method is deprecated and will be removed from pandas in a future version. Use pandas.concat instead.\n",
      "  df = df.append(a_series, ignore_index=True)\n",
      "C:\\Users\\jthoma\\AppData\\Local\\Temp\\ipykernel_19408\\2653461022.py:22: FutureWarning: The frame.append method is deprecated and will be removed from pandas in a future version. Use pandas.concat instead.\n",
      "  df = df.append(a_series, ignore_index=True)\n",
      "C:\\Users\\jthoma\\AppData\\Local\\Temp\\ipykernel_19408\\2653461022.py:22: FutureWarning: The frame.append method is deprecated and will be removed from pandas in a future version. Use pandas.concat instead.\n",
      "  df = df.append(a_series, ignore_index=True)\n"
     ]
    },
    {
     "name": "stdout",
     "output_type": "stream",
     "text": [
      "Could not append: ['1', '2', '3', '4', '5', '6', '7', '8', '9', '10', '...']\n"
     ]
    },
    {
     "name": "stderr",
     "output_type": "stream",
     "text": [
      "C:\\Users\\jthoma\\AppData\\Local\\Temp\\ipykernel_19408\\2653461022.py:22: FutureWarning: The frame.append method is deprecated and will be removed from pandas in a future version. Use pandas.concat instead.\n",
      "  df = df.append(a_series, ignore_index=True)\n"
     ]
    }
   ],
   "source": [
    "import pandas as pd\n",
    "\n",
    "#Create a dataframe to store all of the scraped table data\n",
    "df = pd.DataFrame(columns = [\"Referencia\",\"Titular\",\"NIF/CIF\",\"Domicilio social\",\"Localidad\",\"Provincia\",\"C. Postal\",\n",
    "                             \"F. Concesion\",\"F. Caducidad\",\"Susceptible cesion\",\"Susceptible mutualizacion\",\n",
    "                             \"Obtenido por transferencia\"])\n",
    "#Flip through all of the records and save them\n",
    "for n in range(2, 10):\n",
    "    for i in range(3):\n",
    "        try:\n",
    "            mytable = driver.find_element(By.XPATH,'//*[@id=\"MainContent_gridConcesiones\"]')\n",
    "            #Read in all of the data into the dataframe\n",
    "            for row in mytable.find_elements(By.CSS_SELECTOR,'tr'):\n",
    "                row_list = []\n",
    "                #Add to dataframe accordingly\n",
    "                for cell in row.find_elements(By.CSS_SELECTOR,'td'):\n",
    "                    cell_reading = cell.text\n",
    "                    if cell_reading == "":\n",
    "                      checkbox = cell.find_element(By.CLASS_NAME, 'aspNetDisabled').find_element(By.CSS_SELECTOR,'input')\n",
    "                      cell_reading = checkbox.get_attribute('checked')\n",
    "                    row_list.append(cell_reading)\n",
    "                #Add the list as a row, if possible \n",
    "                try:\n",
    "                    a_series = pd.Series(row_list, index = df.columns)\n",
    "                    df = df.append(a_series, ignore_index=True)\n",
    "                except:\n",
    "                    print(\"Could not append: \" + str(row_list))\n",
    "            break\n",
    "        except:\n",
    "            driver.implicitly_wait(5)\n",
    "    \"\"\"if n%10 == 1:\n",
    "        #Click second \"...\" if on greater than page 10\n",
    "        if n < 20:\n",
    "            driver.find_elements(By.XPATH,'//*[@id=\"MainContent_gridConcesiones\"]/tbody/tr[12]/td/table/tbody/tr/td[11]/a')[0].click()  \n",
    "        else:\n",
    "            driver.find_elements(By.XPATH,'//*[@id=\"MainContent_gridConcesiones\"]/tbody/tr[12]/td/table/tbody/tr/td[11]/a')[1].click()  \n",
    "    else:\n",
    "        driver.find_element_by_xpath(\"//td/a[text()='\" + str(n)+ \"']\").click()    \n",
    "    #Wait three seconds so the website doesn't crash\n",
    "    driver.implicitly_wait(3)\n",
    "\"\"\"\n",
    "#Write to a csv\n",
    "df.to_csv(\"RegistroPublicoConcesiones.csv\", index= False)"
   ]
  },
  {
   "cell_type": "code",
   "execution_count": null,
   "id": "aecc8132",
   "metadata": {},
   "outputs": [],
   "source": []
  },
  {
   "cell_type": "code",
   "execution_count": null,
   "id": "4311e9f5",
   "metadata": {},
   "outputs": [],
   "source": []
  },
  {
   "cell_type": "code",
   "execution_count": null,
   "id": "8a2aed6f",
   "metadata": {},
   "outputs": [],
   "source": []
  }
 ],
 "metadata": {
  "kernelspec": {
   "display_name": "Python 3 (ipykernel)",
   "language": "python",
   "name": "python3"
  },
  "language_info": {
   "codemirror_mode": {
    "name": "ipython",
    "version": 3
   },
   "file_extension": ".py",
   "mimetype": "text/x-python",
   "name": "python",
   "nbconvert_exporter": "python",
   "pygments_lexer": "ipython3",
   "version": "3.9.12"
  }
 },
 "nbformat": 4,
 "nbformat_minor": 5
}

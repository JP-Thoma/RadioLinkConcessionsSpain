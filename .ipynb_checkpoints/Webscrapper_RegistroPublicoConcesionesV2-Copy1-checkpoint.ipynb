{
 "cells": [
  {
   "cell_type": "markdown",
   "id": "12d86654",
   "metadata": {},
   "source": [
    "# Webscrapper for Registro Público de Concesiones\n",
    "\n",
    "Traditional webscrapping with Beautiful Soup is less useful for aspx websites that expect a user input. This webscraper was built with Selenium intenting to make requests to the form before scraping each page.\n",
    "\n",
    "Following links are helpful: <br>\n",
    "Data Source: https://avancedigital.mineco.gob.es/espectro/Paginas/registro-publico-concesiones.aspx <br>\n",
    "Selenium: https://selenium-python.readthedocs.io/locating-elements.html <br>\n",
    "Chromedriver: https://chromedriver.chromium.org/home (download necessary)<br>"
   ]
  },
  {
   "cell_type": "code",
   "execution_count": 1,
   "id": "352b8d52",
   "metadata": {
    "scrolled": true
   },
   "outputs": [],
   "source": [
    "#pip install requests (for making HTTP requests)\n",
    "#pip install URLLib3 (URL handling)\n",
    "#pip install bs4 (in case Selenium couldn’t handle everything)\n",
    "#pip install selenium (for browser-based navigation)"
   ]
  },
  {
   "cell_type": "markdown",
   "id": "007d61c0",
   "metadata": {},
   "source": [
    "## Loading libraries and preparing dataframe"
   ]
  },
  {
   "cell_type": "code",
   "execution_count": 1,
   "id": "661caa07",
   "metadata": {},
   "outputs": [],
   "source": [
    "from selenium import webdriver\n",
    "from selenium.webdriver.common.by import By\n",
    "from selenium.webdriver.support.ui import WebDriverWait, Select\n",
    "from selenium.webdriver.support import expected_conditions as EC\n",
    "from selenium.common.exceptions import TimeoutException\n",
    "import pandas as pd\n",
    "import math\n",
    "import time"
   ]
  },
  {
   "cell_type": "code",
   "execution_count": null,
   "id": "9c968f5a",
   "metadata": {},
   "outputs": [],
   "source": [
    "#Record execution time of script\n",
    "start_time = time.time()"
   ]
  },
  {
   "cell_type": "code",
   "execution_count": 2,
   "id": "eaf9718a",
   "metadata": {},
   "outputs": [],
   "source": [
    "#Create a dataframe to store all of the scraped table data\n",
    "df = pd.DataFrame(columns = [\"Referencia\",\"Titular\",\"NIF/CIF\",\"Domicilio social\",\"Localidad\",\"Provincia\",\"C. Postal\",\n",
    "                             \"F. Concesion\",\"F. Caducidad\",\"Susceptible cesion\",\"Susceptible mutualizacion\",\n",
    "                             \"Obtenido por transferencia\"])"
   ]
  },
  {
   "cell_type": "markdown",
   "id": "409811b0",
   "metadata": {},
   "source": [
    "## Making crawler move on the website"
   ]
  },
  {
   "cell_type": "code",
   "execution_count": 3,
   "id": "0e2dc37a",
   "metadata": {},
   "outputs": [
    {
     "name": "stderr",
     "output_type": "stream",
     "text": [
      "C:\\Users\\jthoma\\AppData\\Local\\Temp\\ipykernel_13732\\1054195131.py:3: DeprecationWarning: executable_path has been deprecated, please pass in a Service object\n",
      "  driver = webdriver.Chrome('C:/Users/jthoma/Downloads/chromedriver.exe') #use path where chormedriver saved\n"
     ]
    }
   ],
   "source": [
    "# Establish chrome driver and go to report site URL\n",
    "url = \"https://sedeaplicaciones.minetur.gob.es/RPC_Consulta/FrmConsulta.aspx\"\n",
    "driver = webdriver.Chrome('C:/Users/jthoma/Downloads/chromedriver.exe') #use path where chormedriver saved\n",
    "driver.get(url)"
   ]
  },
  {
   "cell_type": "markdown",
   "id": "a612ad81",
   "metadata": {},
   "source": [
    "## Scrapping the tables\n",
    "\n",
    "- 02 ANDALUCÍA\n",
    "- 03 ARAGÓN\n",
    "- 04 CANARIAS\n",
    "- 05 CANTABRIA\n",
    "- 06 CASTILLA Y LEÓN\n",
    "- 07 CASTILLA-LA MANCHA\n",
    "- 08 CATALUÑA\n",
    "- 09 CIUDAD AUTÓNOMA DE CEUTA\n",
    "- 10 CIUDAD AUTÓNOMA DE MELILLA\n",
    "- 11 COMUNIDAD DE MADRID\n",
    "- 12 COMUNIDAD FORAL DE NAVARRA\n",
    "- 13 COMUNITAT VALENCIANA\n",
    "- 14 EXTREMADURA\n",
    "- 15 GALICIA\n",
    "- 16 ILLES BALEARS\n",
    "- 17 LA RIOJA\n",
    "- 18 PAÍS VASCO\n",
    "- 19 PRINCIPADO DE ASTURIAS\n",
    "- 20 REGIÓN DE MURCIA"
   ]
  },
  {
   "cell_type": "code",
   "execution_count": 4,
   "id": "96dfdc51",
   "metadata": {},
   "outputs": [
    {
     "name": "stderr",
     "output_type": "stream",
     "text": [
      "C:\\Users\\jthoma\\AppData\\Local\\Temp\\ipykernel_13732\\2841480676.py:37: FutureWarning: The default dtype for empty Series will be 'object' instead of 'float64' in a future version. Specify a dtype explicitly to silence this warning.\n",
      "  a_series = pd.Series(row_list, index = df.columns)\n"
     ]
    },
    {
     "name": "stdout",
     "output_type": "stream",
     "text": [
      "Could not append: []\n"
     ]
    },
    {
     "name": "stderr",
     "output_type": "stream",
     "text": [
      "C:\\Users\\jthoma\\AppData\\Local\\Temp\\ipykernel_13732\\2841480676.py:38: FutureWarning: The frame.append method is deprecated and will be removed from pandas in a future version. Use pandas.concat instead.\n",
      "  df = df.append(a_series, ignore_index=True)\n",
      "C:\\Users\\jthoma\\AppData\\Local\\Temp\\ipykernel_13732\\2841480676.py:38: FutureWarning: The frame.append method is deprecated and will be removed from pandas in a future version. Use pandas.concat instead.\n",
      "  df = df.append(a_series, ignore_index=True)\n",
      "C:\\Users\\jthoma\\AppData\\Local\\Temp\\ipykernel_13732\\2841480676.py:38: FutureWarning: The frame.append method is deprecated and will be removed from pandas in a future version. Use pandas.concat instead.\n",
      "  df = df.append(a_series, ignore_index=True)\n",
      "C:\\Users\\jthoma\\AppData\\Local\\Temp\\ipykernel_13732\\2841480676.py:38: FutureWarning: The frame.append method is deprecated and will be removed from pandas in a future version. Use pandas.concat instead.\n",
      "  df = df.append(a_series, ignore_index=True)\n",
      "C:\\Users\\jthoma\\AppData\\Local\\Temp\\ipykernel_13732\\2841480676.py:38: FutureWarning: The frame.append method is deprecated and will be removed from pandas in a future version. Use pandas.concat instead.\n",
      "  df = df.append(a_series, ignore_index=True)\n",
      "C:\\Users\\jthoma\\AppData\\Local\\Temp\\ipykernel_13732\\2841480676.py:38: FutureWarning: The frame.append method is deprecated and will be removed from pandas in a future version. Use pandas.concat instead.\n",
      "  df = df.append(a_series, ignore_index=True)\n",
      "C:\\Users\\jthoma\\AppData\\Local\\Temp\\ipykernel_13732\\2841480676.py:38: FutureWarning: The frame.append method is deprecated and will be removed from pandas in a future version. Use pandas.concat instead.\n",
      "  df = df.append(a_series, ignore_index=True)\n",
      "C:\\Users\\jthoma\\AppData\\Local\\Temp\\ipykernel_13732\\2841480676.py:38: FutureWarning: The frame.append method is deprecated and will be removed from pandas in a future version. Use pandas.concat instead.\n",
      "  df = df.append(a_series, ignore_index=True)\n",
      "C:\\Users\\jthoma\\AppData\\Local\\Temp\\ipykernel_13732\\2841480676.py:38: FutureWarning: The frame.append method is deprecated and will be removed from pandas in a future version. Use pandas.concat instead.\n",
      "  df = df.append(a_series, ignore_index=True)\n",
      "C:\\Users\\jthoma\\AppData\\Local\\Temp\\ipykernel_13732\\2841480676.py:38: FutureWarning: The frame.append method is deprecated and will be removed from pandas in a future version. Use pandas.concat instead.\n",
      "  df = df.append(a_series, ignore_index=True)\n",
      "C:\\Users\\jthoma\\AppData\\Local\\Temp\\ipykernel_13732\\2841480676.py:38: FutureWarning: The frame.append method is deprecated and will be removed from pandas in a future version. Use pandas.concat instead.\n",
      "  df = df.append(a_series, ignore_index=True)\n"
     ]
    },
    {
     "name": "stdout",
     "output_type": "stream",
     "text": [
      "Could not append: ['1', '2', '3', '4', '5', '6', '7', '8', '9', '10', '...']\n"
     ]
    },
    {
     "name": "stderr",
     "output_type": "stream",
     "text": [
      "C:\\Users\\jthoma\\AppData\\Local\\Temp\\ipykernel_13732\\2841480676.py:37: FutureWarning: The default dtype for empty Series will be 'object' instead of 'float64' in a future version. Specify a dtype explicitly to silence this warning.\n",
      "  a_series = pd.Series(row_list, index = df.columns)\n",
      "C:\\Users\\jthoma\\AppData\\Local\\Temp\\ipykernel_13732\\2841480676.py:38: FutureWarning: The frame.append method is deprecated and will be removed from pandas in a future version. Use pandas.concat instead.\n",
      "  df = df.append(a_series, ignore_index=True)\n"
     ]
    },
    {
     "name": "stdout",
     "output_type": "stream",
     "text": [
      "Could not append: []\n"
     ]
    },
    {
     "name": "stderr",
     "output_type": "stream",
     "text": [
      "C:\\Users\\jthoma\\AppData\\Local\\Temp\\ipykernel_13732\\2841480676.py:38: FutureWarning: The frame.append method is deprecated and will be removed from pandas in a future version. Use pandas.concat instead.\n",
      "  df = df.append(a_series, ignore_index=True)\n",
      "C:\\Users\\jthoma\\AppData\\Local\\Temp\\ipykernel_13732\\2841480676.py:38: FutureWarning: The frame.append method is deprecated and will be removed from pandas in a future version. Use pandas.concat instead.\n",
      "  df = df.append(a_series, ignore_index=True)\n",
      "C:\\Users\\jthoma\\AppData\\Local\\Temp\\ipykernel_13732\\2841480676.py:38: FutureWarning: The frame.append method is deprecated and will be removed from pandas in a future version. Use pandas.concat instead.\n",
      "  df = df.append(a_series, ignore_index=True)\n",
      "C:\\Users\\jthoma\\AppData\\Local\\Temp\\ipykernel_13732\\2841480676.py:38: FutureWarning: The frame.append method is deprecated and will be removed from pandas in a future version. Use pandas.concat instead.\n",
      "  df = df.append(a_series, ignore_index=True)\n",
      "C:\\Users\\jthoma\\AppData\\Local\\Temp\\ipykernel_13732\\2841480676.py:38: FutureWarning: The frame.append method is deprecated and will be removed from pandas in a future version. Use pandas.concat instead.\n",
      "  df = df.append(a_series, ignore_index=True)\n",
      "C:\\Users\\jthoma\\AppData\\Local\\Temp\\ipykernel_13732\\2841480676.py:38: FutureWarning: The frame.append method is deprecated and will be removed from pandas in a future version. Use pandas.concat instead.\n",
      "  df = df.append(a_series, ignore_index=True)\n",
      "C:\\Users\\jthoma\\AppData\\Local\\Temp\\ipykernel_13732\\2841480676.py:38: FutureWarning: The frame.append method is deprecated and will be removed from pandas in a future version. Use pandas.concat instead.\n",
      "  df = df.append(a_series, ignore_index=True)\n",
      "C:\\Users\\jthoma\\AppData\\Local\\Temp\\ipykernel_13732\\2841480676.py:38: FutureWarning: The frame.append method is deprecated and will be removed from pandas in a future version. Use pandas.concat instead.\n",
      "  df = df.append(a_series, ignore_index=True)\n",
      "C:\\Users\\jthoma\\AppData\\Local\\Temp\\ipykernel_13732\\2841480676.py:38: FutureWarning: The frame.append method is deprecated and will be removed from pandas in a future version. Use pandas.concat instead.\n",
      "  df = df.append(a_series, ignore_index=True)\n",
      "C:\\Users\\jthoma\\AppData\\Local\\Temp\\ipykernel_13732\\2841480676.py:38: FutureWarning: The frame.append method is deprecated and will be removed from pandas in a future version. Use pandas.concat instead.\n",
      "  df = df.append(a_series, ignore_index=True)\n"
     ]
    },
    {
     "name": "stdout",
     "output_type": "stream",
     "text": [
      "Could not append: ['1', '2', '3', '4', '5', '6', '7', '8', '9', '10', '...']\n"
     ]
    },
    {
     "name": "stderr",
     "output_type": "stream",
     "text": [
      "C:\\Users\\jthoma\\AppData\\Local\\Temp\\ipykernel_13732\\2841480676.py:37: FutureWarning: The default dtype for empty Series will be 'object' instead of 'float64' in a future version. Specify a dtype explicitly to silence this warning.\n",
      "  a_series = pd.Series(row_list, index = df.columns)\n"
     ]
    },
    {
     "name": "stdout",
     "output_type": "stream",
     "text": [
      "Could not append: []\n"
     ]
    },
    {
     "name": "stderr",
     "output_type": "stream",
     "text": [
      "C:\\Users\\jthoma\\AppData\\Local\\Temp\\ipykernel_13732\\2841480676.py:38: FutureWarning: The frame.append method is deprecated and will be removed from pandas in a future version. Use pandas.concat instead.\n",
      "  df = df.append(a_series, ignore_index=True)\n",
      "C:\\Users\\jthoma\\AppData\\Local\\Temp\\ipykernel_13732\\2841480676.py:38: FutureWarning: The frame.append method is deprecated and will be removed from pandas in a future version. Use pandas.concat instead.\n",
      "  df = df.append(a_series, ignore_index=True)\n",
      "C:\\Users\\jthoma\\AppData\\Local\\Temp\\ipykernel_13732\\2841480676.py:38: FutureWarning: The frame.append method is deprecated and will be removed from pandas in a future version. Use pandas.concat instead.\n",
      "  df = df.append(a_series, ignore_index=True)\n",
      "C:\\Users\\jthoma\\AppData\\Local\\Temp\\ipykernel_13732\\2841480676.py:38: FutureWarning: The frame.append method is deprecated and will be removed from pandas in a future version. Use pandas.concat instead.\n",
      "  df = df.append(a_series, ignore_index=True)\n",
      "C:\\Users\\jthoma\\AppData\\Local\\Temp\\ipykernel_13732\\2841480676.py:38: FutureWarning: The frame.append method is deprecated and will be removed from pandas in a future version. Use pandas.concat instead.\n",
      "  df = df.append(a_series, ignore_index=True)\n",
      "C:\\Users\\jthoma\\AppData\\Local\\Temp\\ipykernel_13732\\2841480676.py:38: FutureWarning: The frame.append method is deprecated and will be removed from pandas in a future version. Use pandas.concat instead.\n",
      "  df = df.append(a_series, ignore_index=True)\n",
      "C:\\Users\\jthoma\\AppData\\Local\\Temp\\ipykernel_13732\\2841480676.py:38: FutureWarning: The frame.append method is deprecated and will be removed from pandas in a future version. Use pandas.concat instead.\n",
      "  df = df.append(a_series, ignore_index=True)\n",
      "C:\\Users\\jthoma\\AppData\\Local\\Temp\\ipykernel_13732\\2841480676.py:38: FutureWarning: The frame.append method is deprecated and will be removed from pandas in a future version. Use pandas.concat instead.\n",
      "  df = df.append(a_series, ignore_index=True)\n",
      "C:\\Users\\jthoma\\AppData\\Local\\Temp\\ipykernel_13732\\2841480676.py:38: FutureWarning: The frame.append method is deprecated and will be removed from pandas in a future version. Use pandas.concat instead.\n",
      "  df = df.append(a_series, ignore_index=True)\n",
      "C:\\Users\\jthoma\\AppData\\Local\\Temp\\ipykernel_13732\\2841480676.py:38: FutureWarning: The frame.append method is deprecated and will be removed from pandas in a future version. Use pandas.concat instead.\n",
      "  df = df.append(a_series, ignore_index=True)\n",
      "C:\\Users\\jthoma\\AppData\\Local\\Temp\\ipykernel_13732\\2841480676.py:38: FutureWarning: The frame.append method is deprecated and will be removed from pandas in a future version. Use pandas.concat instead.\n",
      "  df = df.append(a_series, ignore_index=True)\n"
     ]
    },
    {
     "name": "stdout",
     "output_type": "stream",
     "text": [
      "Could not append: ['1', '2', '3', '4', '5', '6', '7', '8', '9', '10', '...']\n"
     ]
    },
    {
     "name": "stderr",
     "output_type": "stream",
     "text": [
      "C:\\Users\\jthoma\\AppData\\Local\\Temp\\ipykernel_13732\\2841480676.py:37: FutureWarning: The default dtype for empty Series will be 'object' instead of 'float64' in a future version. Specify a dtype explicitly to silence this warning.\n",
      "  a_series = pd.Series(row_list, index = df.columns)\n"
     ]
    },
    {
     "name": "stdout",
     "output_type": "stream",
     "text": [
      "Could not append: []\n"
     ]
    },
    {
     "name": "stderr",
     "output_type": "stream",
     "text": [
      "C:\\Users\\jthoma\\AppData\\Local\\Temp\\ipykernel_13732\\2841480676.py:38: FutureWarning: The frame.append method is deprecated and will be removed from pandas in a future version. Use pandas.concat instead.\n",
      "  df = df.append(a_series, ignore_index=True)\n",
      "C:\\Users\\jthoma\\AppData\\Local\\Temp\\ipykernel_13732\\2841480676.py:38: FutureWarning: The frame.append method is deprecated and will be removed from pandas in a future version. Use pandas.concat instead.\n",
      "  df = df.append(a_series, ignore_index=True)\n",
      "C:\\Users\\jthoma\\AppData\\Local\\Temp\\ipykernel_13732\\2841480676.py:38: FutureWarning: The frame.append method is deprecated and will be removed from pandas in a future version. Use pandas.concat instead.\n",
      "  df = df.append(a_series, ignore_index=True)\n",
      "C:\\Users\\jthoma\\AppData\\Local\\Temp\\ipykernel_13732\\2841480676.py:38: FutureWarning: The frame.append method is deprecated and will be removed from pandas in a future version. Use pandas.concat instead.\n",
      "  df = df.append(a_series, ignore_index=True)\n",
      "C:\\Users\\jthoma\\AppData\\Local\\Temp\\ipykernel_13732\\2841480676.py:38: FutureWarning: The frame.append method is deprecated and will be removed from pandas in a future version. Use pandas.concat instead.\n",
      "  df = df.append(a_series, ignore_index=True)\n",
      "C:\\Users\\jthoma\\AppData\\Local\\Temp\\ipykernel_13732\\2841480676.py:38: FutureWarning: The frame.append method is deprecated and will be removed from pandas in a future version. Use pandas.concat instead.\n",
      "  df = df.append(a_series, ignore_index=True)\n",
      "C:\\Users\\jthoma\\AppData\\Local\\Temp\\ipykernel_13732\\2841480676.py:38: FutureWarning: The frame.append method is deprecated and will be removed from pandas in a future version. Use pandas.concat instead.\n",
      "  df = df.append(a_series, ignore_index=True)\n",
      "C:\\Users\\jthoma\\AppData\\Local\\Temp\\ipykernel_13732\\2841480676.py:38: FutureWarning: The frame.append method is deprecated and will be removed from pandas in a future version. Use pandas.concat instead.\n",
      "  df = df.append(a_series, ignore_index=True)\n",
      "C:\\Users\\jthoma\\AppData\\Local\\Temp\\ipykernel_13732\\2841480676.py:38: FutureWarning: The frame.append method is deprecated and will be removed from pandas in a future version. Use pandas.concat instead.\n",
      "  df = df.append(a_series, ignore_index=True)\n",
      "C:\\Users\\jthoma\\AppData\\Local\\Temp\\ipykernel_13732\\2841480676.py:38: FutureWarning: The frame.append method is deprecated and will be removed from pandas in a future version. Use pandas.concat instead.\n",
      "  df = df.append(a_series, ignore_index=True)\n"
     ]
    },
    {
     "name": "stdout",
     "output_type": "stream",
     "text": [
      "Could not append: ['1 2 3 4 5 6 7 8', '1', '2', '3', '4', '5', '6', '7', '8']\n",
      "Could not append: ['1', '2', '3', '4', '5', '6', '7', '8']\n"
     ]
    },
    {
     "name": "stderr",
     "output_type": "stream",
     "text": [
      "C:\\Users\\jthoma\\AppData\\Local\\Temp\\ipykernel_13732\\2841480676.py:37: FutureWarning: The default dtype for empty Series will be 'object' instead of 'float64' in a future version. Specify a dtype explicitly to silence this warning.\n",
      "  a_series = pd.Series(row_list, index = df.columns)\n"
     ]
    },
    {
     "name": "stdout",
     "output_type": "stream",
     "text": [
      "Could not append: []\n"
     ]
    },
    {
     "name": "stderr",
     "output_type": "stream",
     "text": [
      "C:\\Users\\jthoma\\AppData\\Local\\Temp\\ipykernel_13732\\2841480676.py:38: FutureWarning: The frame.append method is deprecated and will be removed from pandas in a future version. Use pandas.concat instead.\n",
      "  df = df.append(a_series, ignore_index=True)\n",
      "C:\\Users\\jthoma\\AppData\\Local\\Temp\\ipykernel_13732\\2841480676.py:38: FutureWarning: The frame.append method is deprecated and will be removed from pandas in a future version. Use pandas.concat instead.\n",
      "  df = df.append(a_series, ignore_index=True)\n",
      "C:\\Users\\jthoma\\AppData\\Local\\Temp\\ipykernel_13732\\2841480676.py:38: FutureWarning: The frame.append method is deprecated and will be removed from pandas in a future version. Use pandas.concat instead.\n",
      "  df = df.append(a_series, ignore_index=True)\n",
      "C:\\Users\\jthoma\\AppData\\Local\\Temp\\ipykernel_13732\\2841480676.py:38: FutureWarning: The frame.append method is deprecated and will be removed from pandas in a future version. Use pandas.concat instead.\n",
      "  df = df.append(a_series, ignore_index=True)\n",
      "C:\\Users\\jthoma\\AppData\\Local\\Temp\\ipykernel_13732\\2841480676.py:38: FutureWarning: The frame.append method is deprecated and will be removed from pandas in a future version. Use pandas.concat instead.\n",
      "  df = df.append(a_series, ignore_index=True)\n",
      "C:\\Users\\jthoma\\AppData\\Local\\Temp\\ipykernel_13732\\2841480676.py:38: FutureWarning: The frame.append method is deprecated and will be removed from pandas in a future version. Use pandas.concat instead.\n",
      "  df = df.append(a_series, ignore_index=True)\n",
      "C:\\Users\\jthoma\\AppData\\Local\\Temp\\ipykernel_13732\\2841480676.py:38: FutureWarning: The frame.append method is deprecated and will be removed from pandas in a future version. Use pandas.concat instead.\n",
      "  df = df.append(a_series, ignore_index=True)\n",
      "C:\\Users\\jthoma\\AppData\\Local\\Temp\\ipykernel_13732\\2841480676.py:38: FutureWarning: The frame.append method is deprecated and will be removed from pandas in a future version. Use pandas.concat instead.\n",
      "  df = df.append(a_series, ignore_index=True)\n",
      "C:\\Users\\jthoma\\AppData\\Local\\Temp\\ipykernel_13732\\2841480676.py:38: FutureWarning: The frame.append method is deprecated and will be removed from pandas in a future version. Use pandas.concat instead.\n",
      "  df = df.append(a_series, ignore_index=True)\n",
      "C:\\Users\\jthoma\\AppData\\Local\\Temp\\ipykernel_13732\\2841480676.py:38: FutureWarning: The frame.append method is deprecated and will be removed from pandas in a future version. Use pandas.concat instead.\n",
      "  df = df.append(a_series, ignore_index=True)\n",
      "C:\\Users\\jthoma\\AppData\\Local\\Temp\\ipykernel_13732\\2841480676.py:38: FutureWarning: The frame.append method is deprecated and will be removed from pandas in a future version. Use pandas.concat instead.\n",
      "  df = df.append(a_series, ignore_index=True)\n"
     ]
    },
    {
     "name": "stdout",
     "output_type": "stream",
     "text": [
      "Could not append: ['1', '2', '3', '4', '5', '6', '7', '8', '9', '10', '...']\n"
     ]
    },
    {
     "name": "stderr",
     "output_type": "stream",
     "text": [
      "C:\\Users\\jthoma\\AppData\\Local\\Temp\\ipykernel_13732\\2841480676.py:37: FutureWarning: The default dtype for empty Series will be 'object' instead of 'float64' in a future version. Specify a dtype explicitly to silence this warning.\n",
      "  a_series = pd.Series(row_list, index = df.columns)\n"
     ]
    },
    {
     "name": "stdout",
     "output_type": "stream",
     "text": [
      "Could not append: []\n"
     ]
    },
    {
     "name": "stderr",
     "output_type": "stream",
     "text": [
      "C:\\Users\\jthoma\\AppData\\Local\\Temp\\ipykernel_13732\\2841480676.py:38: FutureWarning: The frame.append method is deprecated and will be removed from pandas in a future version. Use pandas.concat instead.\n",
      "  df = df.append(a_series, ignore_index=True)\n",
      "C:\\Users\\jthoma\\AppData\\Local\\Temp\\ipykernel_13732\\2841480676.py:38: FutureWarning: The frame.append method is deprecated and will be removed from pandas in a future version. Use pandas.concat instead.\n",
      "  df = df.append(a_series, ignore_index=True)\n",
      "C:\\Users\\jthoma\\AppData\\Local\\Temp\\ipykernel_13732\\2841480676.py:38: FutureWarning: The frame.append method is deprecated and will be removed from pandas in a future version. Use pandas.concat instead.\n",
      "  df = df.append(a_series, ignore_index=True)\n",
      "C:\\Users\\jthoma\\AppData\\Local\\Temp\\ipykernel_13732\\2841480676.py:38: FutureWarning: The frame.append method is deprecated and will be removed from pandas in a future version. Use pandas.concat instead.\n",
      "  df = df.append(a_series, ignore_index=True)\n",
      "C:\\Users\\jthoma\\AppData\\Local\\Temp\\ipykernel_13732\\2841480676.py:38: FutureWarning: The frame.append method is deprecated and will be removed from pandas in a future version. Use pandas.concat instead.\n",
      "  df = df.append(a_series, ignore_index=True)\n",
      "C:\\Users\\jthoma\\AppData\\Local\\Temp\\ipykernel_13732\\2841480676.py:38: FutureWarning: The frame.append method is deprecated and will be removed from pandas in a future version. Use pandas.concat instead.\n",
      "  df = df.append(a_series, ignore_index=True)\n",
      "C:\\Users\\jthoma\\AppData\\Local\\Temp\\ipykernel_13732\\2841480676.py:38: FutureWarning: The frame.append method is deprecated and will be removed from pandas in a future version. Use pandas.concat instead.\n",
      "  df = df.append(a_series, ignore_index=True)\n",
      "C:\\Users\\jthoma\\AppData\\Local\\Temp\\ipykernel_13732\\2841480676.py:38: FutureWarning: The frame.append method is deprecated and will be removed from pandas in a future version. Use pandas.concat instead.\n",
      "  df = df.append(a_series, ignore_index=True)\n",
      "C:\\Users\\jthoma\\AppData\\Local\\Temp\\ipykernel_13732\\2841480676.py:38: FutureWarning: The frame.append method is deprecated and will be removed from pandas in a future version. Use pandas.concat instead.\n",
      "  df = df.append(a_series, ignore_index=True)\n",
      "C:\\Users\\jthoma\\AppData\\Local\\Temp\\ipykernel_13732\\2841480676.py:38: FutureWarning: The frame.append method is deprecated and will be removed from pandas in a future version. Use pandas.concat instead.\n",
      "  df = df.append(a_series, ignore_index=True)\n",
      "C:\\Users\\jthoma\\AppData\\Local\\Temp\\ipykernel_13732\\2841480676.py:38: FutureWarning: The frame.append method is deprecated and will be removed from pandas in a future version. Use pandas.concat instead.\n",
      "  df = df.append(a_series, ignore_index=True)\n"
     ]
    },
    {
     "name": "stdout",
     "output_type": "stream",
     "text": [
      "Could not append: ['1', '2', '3', '4', '5', '6', '7', '8', '9', '10', '...']\n"
     ]
    },
    {
     "name": "stderr",
     "output_type": "stream",
     "text": [
      "C:\\Users\\jthoma\\AppData\\Local\\Temp\\ipykernel_13732\\2841480676.py:37: FutureWarning: The default dtype for empty Series will be 'object' instead of 'float64' in a future version. Specify a dtype explicitly to silence this warning.\n",
      "  a_series = pd.Series(row_list, index = df.columns)\n"
     ]
    },
    {
     "name": "stdout",
     "output_type": "stream",
     "text": [
      "Could not append: []\n"
     ]
    },
    {
     "name": "stderr",
     "output_type": "stream",
     "text": [
      "C:\\Users\\jthoma\\AppData\\Local\\Temp\\ipykernel_13732\\2841480676.py:38: FutureWarning: The frame.append method is deprecated and will be removed from pandas in a future version. Use pandas.concat instead.\n",
      "  df = df.append(a_series, ignore_index=True)\n",
      "C:\\Users\\jthoma\\AppData\\Local\\Temp\\ipykernel_13732\\2841480676.py:38: FutureWarning: The frame.append method is deprecated and will be removed from pandas in a future version. Use pandas.concat instead.\n",
      "  df = df.append(a_series, ignore_index=True)\n",
      "C:\\Users\\jthoma\\AppData\\Local\\Temp\\ipykernel_13732\\2841480676.py:38: FutureWarning: The frame.append method is deprecated and will be removed from pandas in a future version. Use pandas.concat instead.\n",
      "  df = df.append(a_series, ignore_index=True)\n",
      "C:\\Users\\jthoma\\AppData\\Local\\Temp\\ipykernel_13732\\2841480676.py:38: FutureWarning: The frame.append method is deprecated and will be removed from pandas in a future version. Use pandas.concat instead.\n",
      "  df = df.append(a_series, ignore_index=True)\n",
      "C:\\Users\\jthoma\\AppData\\Local\\Temp\\ipykernel_13732\\2841480676.py:38: FutureWarning: The frame.append method is deprecated and will be removed from pandas in a future version. Use pandas.concat instead.\n",
      "  df = df.append(a_series, ignore_index=True)\n",
      "C:\\Users\\jthoma\\AppData\\Local\\Temp\\ipykernel_13732\\2841480676.py:38: FutureWarning: The frame.append method is deprecated and will be removed from pandas in a future version. Use pandas.concat instead.\n",
      "  df = df.append(a_series, ignore_index=True)\n",
      "C:\\Users\\jthoma\\AppData\\Local\\Temp\\ipykernel_13732\\2841480676.py:38: FutureWarning: The frame.append method is deprecated and will be removed from pandas in a future version. Use pandas.concat instead.\n",
      "  df = df.append(a_series, ignore_index=True)\n",
      "C:\\Users\\jthoma\\AppData\\Local\\Temp\\ipykernel_13732\\2841480676.py:38: FutureWarning: The frame.append method is deprecated and will be removed from pandas in a future version. Use pandas.concat instead.\n",
      "  df = df.append(a_series, ignore_index=True)\n",
      "C:\\Users\\jthoma\\AppData\\Local\\Temp\\ipykernel_13732\\2841480676.py:38: FutureWarning: The frame.append method is deprecated and will be removed from pandas in a future version. Use pandas.concat instead.\n",
      "  df = df.append(a_series, ignore_index=True)\n",
      "C:\\Users\\jthoma\\AppData\\Local\\Temp\\ipykernel_13732\\2841480676.py:38: FutureWarning: The frame.append method is deprecated and will be removed from pandas in a future version. Use pandas.concat instead.\n",
      "  df = df.append(a_series, ignore_index=True)\n",
      "C:\\Users\\jthoma\\AppData\\Local\\Temp\\ipykernel_13732\\2841480676.py:38: FutureWarning: The frame.append method is deprecated and will be removed from pandas in a future version. Use pandas.concat instead.\n",
      "  df = df.append(a_series, ignore_index=True)\n"
     ]
    },
    {
     "name": "stdout",
     "output_type": "stream",
     "text": [
      "Could not append: ['1', '2', '3', '4', '5', '6', '7', '8', '9', '10', '...']\n"
     ]
    },
    {
     "name": "stderr",
     "output_type": "stream",
     "text": [
      "C:\\Users\\jthoma\\AppData\\Local\\Temp\\ipykernel_13732\\2841480676.py:37: FutureWarning: The default dtype for empty Series will be 'object' instead of 'float64' in a future version. Specify a dtype explicitly to silence this warning.\n",
      "  a_series = pd.Series(row_list, index = df.columns)\n"
     ]
    },
    {
     "name": "stdout",
     "output_type": "stream",
     "text": [
      "Could not append: []\n"
     ]
    },
    {
     "name": "stderr",
     "output_type": "stream",
     "text": [
      "C:\\Users\\jthoma\\AppData\\Local\\Temp\\ipykernel_13732\\2841480676.py:38: FutureWarning: The frame.append method is deprecated and will be removed from pandas in a future version. Use pandas.concat instead.\n",
      "  df = df.append(a_series, ignore_index=True)\n",
      "C:\\Users\\jthoma\\AppData\\Local\\Temp\\ipykernel_13732\\2841480676.py:38: FutureWarning: The frame.append method is deprecated and will be removed from pandas in a future version. Use pandas.concat instead.\n",
      "  df = df.append(a_series, ignore_index=True)\n",
      "C:\\Users\\jthoma\\AppData\\Local\\Temp\\ipykernel_13732\\2841480676.py:38: FutureWarning: The frame.append method is deprecated and will be removed from pandas in a future version. Use pandas.concat instead.\n",
      "  df = df.append(a_series, ignore_index=True)\n",
      "C:\\Users\\jthoma\\AppData\\Local\\Temp\\ipykernel_13732\\2841480676.py:38: FutureWarning: The frame.append method is deprecated and will be removed from pandas in a future version. Use pandas.concat instead.\n",
      "  df = df.append(a_series, ignore_index=True)\n",
      "C:\\Users\\jthoma\\AppData\\Local\\Temp\\ipykernel_13732\\2841480676.py:38: FutureWarning: The frame.append method is deprecated and will be removed from pandas in a future version. Use pandas.concat instead.\n",
      "  df = df.append(a_series, ignore_index=True)\n",
      "C:\\Users\\jthoma\\AppData\\Local\\Temp\\ipykernel_13732\\2841480676.py:38: FutureWarning: The frame.append method is deprecated and will be removed from pandas in a future version. Use pandas.concat instead.\n",
      "  df = df.append(a_series, ignore_index=True)\n",
      "C:\\Users\\jthoma\\AppData\\Local\\Temp\\ipykernel_13732\\2841480676.py:38: FutureWarning: The frame.append method is deprecated and will be removed from pandas in a future version. Use pandas.concat instead.\n",
      "  df = df.append(a_series, ignore_index=True)\n",
      "C:\\Users\\jthoma\\AppData\\Local\\Temp\\ipykernel_13732\\2841480676.py:38: FutureWarning: The frame.append method is deprecated and will be removed from pandas in a future version. Use pandas.concat instead.\n",
      "  df = df.append(a_series, ignore_index=True)\n",
      "C:\\Users\\jthoma\\AppData\\Local\\Temp\\ipykernel_13732\\2841480676.py:38: FutureWarning: The frame.append method is deprecated and will be removed from pandas in a future version. Use pandas.concat instead.\n",
      "  df = df.append(a_series, ignore_index=True)\n",
      "C:\\Users\\jthoma\\AppData\\Local\\Temp\\ipykernel_13732\\2841480676.py:38: FutureWarning: The frame.append method is deprecated and will be removed from pandas in a future version. Use pandas.concat instead.\n",
      "  df = df.append(a_series, ignore_index=True)\n",
      "C:\\Users\\jthoma\\AppData\\Local\\Temp\\ipykernel_13732\\2841480676.py:38: FutureWarning: The frame.append method is deprecated and will be removed from pandas in a future version. Use pandas.concat instead.\n",
      "  df = df.append(a_series, ignore_index=True)\n"
     ]
    },
    {
     "name": "stdout",
     "output_type": "stream",
     "text": [
      "Could not append: ['1', '2', '3', '4', '5', '6', '7', '8', '9', '10', '...']\n"
     ]
    },
    {
     "name": "stderr",
     "output_type": "stream",
     "text": [
      "C:\\Users\\jthoma\\AppData\\Local\\Temp\\ipykernel_13732\\2841480676.py:37: FutureWarning: The default dtype for empty Series will be 'object' instead of 'float64' in a future version. Specify a dtype explicitly to silence this warning.\n",
      "  a_series = pd.Series(row_list, index = df.columns)\n"
     ]
    },
    {
     "name": "stdout",
     "output_type": "stream",
     "text": [
      "Could not append: []\n"
     ]
    },
    {
     "name": "stderr",
     "output_type": "stream",
     "text": [
      "C:\\Users\\jthoma\\AppData\\Local\\Temp\\ipykernel_13732\\2841480676.py:38: FutureWarning: The frame.append method is deprecated and will be removed from pandas in a future version. Use pandas.concat instead.\n",
      "  df = df.append(a_series, ignore_index=True)\n",
      "C:\\Users\\jthoma\\AppData\\Local\\Temp\\ipykernel_13732\\2841480676.py:38: FutureWarning: The frame.append method is deprecated and will be removed from pandas in a future version. Use pandas.concat instead.\n",
      "  df = df.append(a_series, ignore_index=True)\n",
      "C:\\Users\\jthoma\\AppData\\Local\\Temp\\ipykernel_13732\\2841480676.py:38: FutureWarning: The frame.append method is deprecated and will be removed from pandas in a future version. Use pandas.concat instead.\n",
      "  df = df.append(a_series, ignore_index=True)\n",
      "C:\\Users\\jthoma\\AppData\\Local\\Temp\\ipykernel_13732\\2841480676.py:38: FutureWarning: The frame.append method is deprecated and will be removed from pandas in a future version. Use pandas.concat instead.\n",
      "  df = df.append(a_series, ignore_index=True)\n",
      "C:\\Users\\jthoma\\AppData\\Local\\Temp\\ipykernel_13732\\2841480676.py:38: FutureWarning: The frame.append method is deprecated and will be removed from pandas in a future version. Use pandas.concat instead.\n",
      "  df = df.append(a_series, ignore_index=True)\n",
      "C:\\Users\\jthoma\\AppData\\Local\\Temp\\ipykernel_13732\\2841480676.py:38: FutureWarning: The frame.append method is deprecated and will be removed from pandas in a future version. Use pandas.concat instead.\n",
      "  df = df.append(a_series, ignore_index=True)\n",
      "C:\\Users\\jthoma\\AppData\\Local\\Temp\\ipykernel_13732\\2841480676.py:38: FutureWarning: The frame.append method is deprecated and will be removed from pandas in a future version. Use pandas.concat instead.\n",
      "  df = df.append(a_series, ignore_index=True)\n",
      "C:\\Users\\jthoma\\AppData\\Local\\Temp\\ipykernel_13732\\2841480676.py:38: FutureWarning: The frame.append method is deprecated and will be removed from pandas in a future version. Use pandas.concat instead.\n",
      "  df = df.append(a_series, ignore_index=True)\n",
      "C:\\Users\\jthoma\\AppData\\Local\\Temp\\ipykernel_13732\\2841480676.py:38: FutureWarning: The frame.append method is deprecated and will be removed from pandas in a future version. Use pandas.concat instead.\n",
      "  df = df.append(a_series, ignore_index=True)\n",
      "C:\\Users\\jthoma\\AppData\\Local\\Temp\\ipykernel_13732\\2841480676.py:38: FutureWarning: The frame.append method is deprecated and will be removed from pandas in a future version. Use pandas.concat instead.\n",
      "  df = df.append(a_series, ignore_index=True)\n",
      "C:\\Users\\jthoma\\AppData\\Local\\Temp\\ipykernel_13732\\2841480676.py:38: FutureWarning: The frame.append method is deprecated and will be removed from pandas in a future version. Use pandas.concat instead.\n",
      "  df = df.append(a_series, ignore_index=True)\n"
     ]
    },
    {
     "name": "stdout",
     "output_type": "stream",
     "text": [
      "Could not append: ['1', '2', '3', '4', '5', '6', '7', '8', '9', '10', '...']\n"
     ]
    },
    {
     "name": "stderr",
     "output_type": "stream",
     "text": [
      "C:\\Users\\jthoma\\AppData\\Local\\Temp\\ipykernel_13732\\2841480676.py:37: FutureWarning: The default dtype for empty Series will be 'object' instead of 'float64' in a future version. Specify a dtype explicitly to silence this warning.\n",
      "  a_series = pd.Series(row_list, index = df.columns)\n"
     ]
    },
    {
     "name": "stdout",
     "output_type": "stream",
     "text": [
      "Could not append: []\n"
     ]
    },
    {
     "name": "stderr",
     "output_type": "stream",
     "text": [
      "C:\\Users\\jthoma\\AppData\\Local\\Temp\\ipykernel_13732\\2841480676.py:38: FutureWarning: The frame.append method is deprecated and will be removed from pandas in a future version. Use pandas.concat instead.\n",
      "  df = df.append(a_series, ignore_index=True)\n",
      "C:\\Users\\jthoma\\AppData\\Local\\Temp\\ipykernel_13732\\2841480676.py:38: FutureWarning: The frame.append method is deprecated and will be removed from pandas in a future version. Use pandas.concat instead.\n",
      "  df = df.append(a_series, ignore_index=True)\n",
      "C:\\Users\\jthoma\\AppData\\Local\\Temp\\ipykernel_13732\\2841480676.py:38: FutureWarning: The frame.append method is deprecated and will be removed from pandas in a future version. Use pandas.concat instead.\n",
      "  df = df.append(a_series, ignore_index=True)\n",
      "C:\\Users\\jthoma\\AppData\\Local\\Temp\\ipykernel_13732\\2841480676.py:38: FutureWarning: The frame.append method is deprecated and will be removed from pandas in a future version. Use pandas.concat instead.\n",
      "  df = df.append(a_series, ignore_index=True)\n",
      "C:\\Users\\jthoma\\AppData\\Local\\Temp\\ipykernel_13732\\2841480676.py:38: FutureWarning: The frame.append method is deprecated and will be removed from pandas in a future version. Use pandas.concat instead.\n",
      "  df = df.append(a_series, ignore_index=True)\n",
      "C:\\Users\\jthoma\\AppData\\Local\\Temp\\ipykernel_13732\\2841480676.py:38: FutureWarning: The frame.append method is deprecated and will be removed from pandas in a future version. Use pandas.concat instead.\n",
      "  df = df.append(a_series, ignore_index=True)\n",
      "C:\\Users\\jthoma\\AppData\\Local\\Temp\\ipykernel_13732\\2841480676.py:38: FutureWarning: The frame.append method is deprecated and will be removed from pandas in a future version. Use pandas.concat instead.\n",
      "  df = df.append(a_series, ignore_index=True)\n",
      "C:\\Users\\jthoma\\AppData\\Local\\Temp\\ipykernel_13732\\2841480676.py:38: FutureWarning: The frame.append method is deprecated and will be removed from pandas in a future version. Use pandas.concat instead.\n",
      "  df = df.append(a_series, ignore_index=True)\n",
      "C:\\Users\\jthoma\\AppData\\Local\\Temp\\ipykernel_13732\\2841480676.py:38: FutureWarning: The frame.append method is deprecated and will be removed from pandas in a future version. Use pandas.concat instead.\n",
      "  df = df.append(a_series, ignore_index=True)\n",
      "C:\\Users\\jthoma\\AppData\\Local\\Temp\\ipykernel_13732\\2841480676.py:38: FutureWarning: The frame.append method is deprecated and will be removed from pandas in a future version. Use pandas.concat instead.\n",
      "  df = df.append(a_series, ignore_index=True)\n",
      "C:\\Users\\jthoma\\AppData\\Local\\Temp\\ipykernel_13732\\2841480676.py:38: FutureWarning: The frame.append method is deprecated and will be removed from pandas in a future version. Use pandas.concat instead.\n",
      "  df = df.append(a_series, ignore_index=True)\n"
     ]
    },
    {
     "name": "stdout",
     "output_type": "stream",
     "text": [
      "Could not append: ['1', '2', '3', '4', '5', '6', '7', '8', '9', '10', '...']\n"
     ]
    },
    {
     "name": "stderr",
     "output_type": "stream",
     "text": [
      "C:\\Users\\jthoma\\AppData\\Local\\Temp\\ipykernel_13732\\2841480676.py:37: FutureWarning: The default dtype for empty Series will be 'object' instead of 'float64' in a future version. Specify a dtype explicitly to silence this warning.\n",
      "  a_series = pd.Series(row_list, index = df.columns)\n"
     ]
    },
    {
     "name": "stdout",
     "output_type": "stream",
     "text": [
      "Could not append: []\n"
     ]
    },
    {
     "name": "stderr",
     "output_type": "stream",
     "text": [
      "C:\\Users\\jthoma\\AppData\\Local\\Temp\\ipykernel_13732\\2841480676.py:38: FutureWarning: The frame.append method is deprecated and will be removed from pandas in a future version. Use pandas.concat instead.\n",
      "  df = df.append(a_series, ignore_index=True)\n",
      "C:\\Users\\jthoma\\AppData\\Local\\Temp\\ipykernel_13732\\2841480676.py:38: FutureWarning: The frame.append method is deprecated and will be removed from pandas in a future version. Use pandas.concat instead.\n",
      "  df = df.append(a_series, ignore_index=True)\n",
      "C:\\Users\\jthoma\\AppData\\Local\\Temp\\ipykernel_13732\\2841480676.py:38: FutureWarning: The frame.append method is deprecated and will be removed from pandas in a future version. Use pandas.concat instead.\n",
      "  df = df.append(a_series, ignore_index=True)\n",
      "C:\\Users\\jthoma\\AppData\\Local\\Temp\\ipykernel_13732\\2841480676.py:38: FutureWarning: The frame.append method is deprecated and will be removed from pandas in a future version. Use pandas.concat instead.\n",
      "  df = df.append(a_series, ignore_index=True)\n",
      "C:\\Users\\jthoma\\AppData\\Local\\Temp\\ipykernel_13732\\2841480676.py:38: FutureWarning: The frame.append method is deprecated and will be removed from pandas in a future version. Use pandas.concat instead.\n",
      "  df = df.append(a_series, ignore_index=True)\n",
      "C:\\Users\\jthoma\\AppData\\Local\\Temp\\ipykernel_13732\\2841480676.py:38: FutureWarning: The frame.append method is deprecated and will be removed from pandas in a future version. Use pandas.concat instead.\n",
      "  df = df.append(a_series, ignore_index=True)\n",
      "C:\\Users\\jthoma\\AppData\\Local\\Temp\\ipykernel_13732\\2841480676.py:38: FutureWarning: The frame.append method is deprecated and will be removed from pandas in a future version. Use pandas.concat instead.\n",
      "  df = df.append(a_series, ignore_index=True)\n",
      "C:\\Users\\jthoma\\AppData\\Local\\Temp\\ipykernel_13732\\2841480676.py:38: FutureWarning: The frame.append method is deprecated and will be removed from pandas in a future version. Use pandas.concat instead.\n",
      "  df = df.append(a_series, ignore_index=True)\n",
      "C:\\Users\\jthoma\\AppData\\Local\\Temp\\ipykernel_13732\\2841480676.py:38: FutureWarning: The frame.append method is deprecated and will be removed from pandas in a future version. Use pandas.concat instead.\n",
      "  df = df.append(a_series, ignore_index=True)\n",
      "C:\\Users\\jthoma\\AppData\\Local\\Temp\\ipykernel_13732\\2841480676.py:38: FutureWarning: The frame.append method is deprecated and will be removed from pandas in a future version. Use pandas.concat instead.\n",
      "  df = df.append(a_series, ignore_index=True)\n",
      "C:\\Users\\jthoma\\AppData\\Local\\Temp\\ipykernel_13732\\2841480676.py:38: FutureWarning: The frame.append method is deprecated and will be removed from pandas in a future version. Use pandas.concat instead.\n",
      "  df = df.append(a_series, ignore_index=True)\n"
     ]
    },
    {
     "name": "stdout",
     "output_type": "stream",
     "text": [
      "Could not append: ['1', '2', '3', '4', '5', '6', '7', '8', '9', '10', '...']\n"
     ]
    },
    {
     "name": "stderr",
     "output_type": "stream",
     "text": [
      "C:\\Users\\jthoma\\AppData\\Local\\Temp\\ipykernel_13732\\2841480676.py:37: FutureWarning: The default dtype for empty Series will be 'object' instead of 'float64' in a future version. Specify a dtype explicitly to silence this warning.\n",
      "  a_series = pd.Series(row_list, index = df.columns)\n"
     ]
    },
    {
     "name": "stdout",
     "output_type": "stream",
     "text": [
      "Could not append: []\n"
     ]
    },
    {
     "name": "stderr",
     "output_type": "stream",
     "text": [
      "C:\\Users\\jthoma\\AppData\\Local\\Temp\\ipykernel_13732\\2841480676.py:38: FutureWarning: The frame.append method is deprecated and will be removed from pandas in a future version. Use pandas.concat instead.\n",
      "  df = df.append(a_series, ignore_index=True)\n",
      "C:\\Users\\jthoma\\AppData\\Local\\Temp\\ipykernel_13732\\2841480676.py:38: FutureWarning: The frame.append method is deprecated and will be removed from pandas in a future version. Use pandas.concat instead.\n",
      "  df = df.append(a_series, ignore_index=True)\n",
      "C:\\Users\\jthoma\\AppData\\Local\\Temp\\ipykernel_13732\\2841480676.py:38: FutureWarning: The frame.append method is deprecated and will be removed from pandas in a future version. Use pandas.concat instead.\n",
      "  df = df.append(a_series, ignore_index=True)\n",
      "C:\\Users\\jthoma\\AppData\\Local\\Temp\\ipykernel_13732\\2841480676.py:38: FutureWarning: The frame.append method is deprecated and will be removed from pandas in a future version. Use pandas.concat instead.\n",
      "  df = df.append(a_series, ignore_index=True)\n",
      "C:\\Users\\jthoma\\AppData\\Local\\Temp\\ipykernel_13732\\2841480676.py:38: FutureWarning: The frame.append method is deprecated and will be removed from pandas in a future version. Use pandas.concat instead.\n",
      "  df = df.append(a_series, ignore_index=True)\n",
      "C:\\Users\\jthoma\\AppData\\Local\\Temp\\ipykernel_13732\\2841480676.py:38: FutureWarning: The frame.append method is deprecated and will be removed from pandas in a future version. Use pandas.concat instead.\n",
      "  df = df.append(a_series, ignore_index=True)\n",
      "C:\\Users\\jthoma\\AppData\\Local\\Temp\\ipykernel_13732\\2841480676.py:38: FutureWarning: The frame.append method is deprecated and will be removed from pandas in a future version. Use pandas.concat instead.\n",
      "  df = df.append(a_series, ignore_index=True)\n",
      "C:\\Users\\jthoma\\AppData\\Local\\Temp\\ipykernel_13732\\2841480676.py:38: FutureWarning: The frame.append method is deprecated and will be removed from pandas in a future version. Use pandas.concat instead.\n",
      "  df = df.append(a_series, ignore_index=True)\n",
      "C:\\Users\\jthoma\\AppData\\Local\\Temp\\ipykernel_13732\\2841480676.py:38: FutureWarning: The frame.append method is deprecated and will be removed from pandas in a future version. Use pandas.concat instead.\n",
      "  df = df.append(a_series, ignore_index=True)\n",
      "C:\\Users\\jthoma\\AppData\\Local\\Temp\\ipykernel_13732\\2841480676.py:38: FutureWarning: The frame.append method is deprecated and will be removed from pandas in a future version. Use pandas.concat instead.\n",
      "  df = df.append(a_series, ignore_index=True)\n",
      "C:\\Users\\jthoma\\AppData\\Local\\Temp\\ipykernel_13732\\2841480676.py:38: FutureWarning: The frame.append method is deprecated and will be removed from pandas in a future version. Use pandas.concat instead.\n",
      "  df = df.append(a_series, ignore_index=True)\n"
     ]
    },
    {
     "name": "stdout",
     "output_type": "stream",
     "text": [
      "Could not append: ['1', '2', '3', '4', '5', '6', '7', '8', '9', '10', '...']\n"
     ]
    },
    {
     "name": "stderr",
     "output_type": "stream",
     "text": [
      "C:\\Users\\jthoma\\AppData\\Local\\Temp\\ipykernel_13732\\2841480676.py:37: FutureWarning: The default dtype for empty Series will be 'object' instead of 'float64' in a future version. Specify a dtype explicitly to silence this warning.\n",
      "  a_series = pd.Series(row_list, index = df.columns)\n"
     ]
    },
    {
     "name": "stdout",
     "output_type": "stream",
     "text": [
      "Could not append: []\n"
     ]
    },
    {
     "name": "stderr",
     "output_type": "stream",
     "text": [
      "C:\\Users\\jthoma\\AppData\\Local\\Temp\\ipykernel_13732\\2841480676.py:38: FutureWarning: The frame.append method is deprecated and will be removed from pandas in a future version. Use pandas.concat instead.\n",
      "  df = df.append(a_series, ignore_index=True)\n",
      "C:\\Users\\jthoma\\AppData\\Local\\Temp\\ipykernel_13732\\2841480676.py:38: FutureWarning: The frame.append method is deprecated and will be removed from pandas in a future version. Use pandas.concat instead.\n",
      "  df = df.append(a_series, ignore_index=True)\n",
      "C:\\Users\\jthoma\\AppData\\Local\\Temp\\ipykernel_13732\\2841480676.py:38: FutureWarning: The frame.append method is deprecated and will be removed from pandas in a future version. Use pandas.concat instead.\n",
      "  df = df.append(a_series, ignore_index=True)\n",
      "C:\\Users\\jthoma\\AppData\\Local\\Temp\\ipykernel_13732\\2841480676.py:38: FutureWarning: The frame.append method is deprecated and will be removed from pandas in a future version. Use pandas.concat instead.\n",
      "  df = df.append(a_series, ignore_index=True)\n",
      "C:\\Users\\jthoma\\AppData\\Local\\Temp\\ipykernel_13732\\2841480676.py:38: FutureWarning: The frame.append method is deprecated and will be removed from pandas in a future version. Use pandas.concat instead.\n",
      "  df = df.append(a_series, ignore_index=True)\n",
      "C:\\Users\\jthoma\\AppData\\Local\\Temp\\ipykernel_13732\\2841480676.py:38: FutureWarning: The frame.append method is deprecated and will be removed from pandas in a future version. Use pandas.concat instead.\n",
      "  df = df.append(a_series, ignore_index=True)\n",
      "C:\\Users\\jthoma\\AppData\\Local\\Temp\\ipykernel_13732\\2841480676.py:38: FutureWarning: The frame.append method is deprecated and will be removed from pandas in a future version. Use pandas.concat instead.\n",
      "  df = df.append(a_series, ignore_index=True)\n",
      "C:\\Users\\jthoma\\AppData\\Local\\Temp\\ipykernel_13732\\2841480676.py:38: FutureWarning: The frame.append method is deprecated and will be removed from pandas in a future version. Use pandas.concat instead.\n",
      "  df = df.append(a_series, ignore_index=True)\n",
      "C:\\Users\\jthoma\\AppData\\Local\\Temp\\ipykernel_13732\\2841480676.py:38: FutureWarning: The frame.append method is deprecated and will be removed from pandas in a future version. Use pandas.concat instead.\n",
      "  df = df.append(a_series, ignore_index=True)\n",
      "C:\\Users\\jthoma\\AppData\\Local\\Temp\\ipykernel_13732\\2841480676.py:38: FutureWarning: The frame.append method is deprecated and will be removed from pandas in a future version. Use pandas.concat instead.\n",
      "  df = df.append(a_series, ignore_index=True)\n",
      "C:\\Users\\jthoma\\AppData\\Local\\Temp\\ipykernel_13732\\2841480676.py:38: FutureWarning: The frame.append method is deprecated and will be removed from pandas in a future version. Use pandas.concat instead.\n",
      "  df = df.append(a_series, ignore_index=True)\n"
     ]
    },
    {
     "name": "stdout",
     "output_type": "stream",
     "text": [
      "Could not append: ['1', '2', '3', '4', '5', '6', '7', '8', '9', '10', '...']\n"
     ]
    },
    {
     "name": "stderr",
     "output_type": "stream",
     "text": [
      "C:\\Users\\jthoma\\AppData\\Local\\Temp\\ipykernel_13732\\2841480676.py:37: FutureWarning: The default dtype for empty Series will be 'object' instead of 'float64' in a future version. Specify a dtype explicitly to silence this warning.\n",
      "  a_series = pd.Series(row_list, index = df.columns)\n"
     ]
    },
    {
     "name": "stdout",
     "output_type": "stream",
     "text": [
      "Could not append: []\n"
     ]
    },
    {
     "name": "stderr",
     "output_type": "stream",
     "text": [
      "C:\\Users\\jthoma\\AppData\\Local\\Temp\\ipykernel_13732\\2841480676.py:38: FutureWarning: The frame.append method is deprecated and will be removed from pandas in a future version. Use pandas.concat instead.\n",
      "  df = df.append(a_series, ignore_index=True)\n",
      "C:\\Users\\jthoma\\AppData\\Local\\Temp\\ipykernel_13732\\2841480676.py:38: FutureWarning: The frame.append method is deprecated and will be removed from pandas in a future version. Use pandas.concat instead.\n",
      "  df = df.append(a_series, ignore_index=True)\n",
      "C:\\Users\\jthoma\\AppData\\Local\\Temp\\ipykernel_13732\\2841480676.py:38: FutureWarning: The frame.append method is deprecated and will be removed from pandas in a future version. Use pandas.concat instead.\n",
      "  df = df.append(a_series, ignore_index=True)\n",
      "C:\\Users\\jthoma\\AppData\\Local\\Temp\\ipykernel_13732\\2841480676.py:38: FutureWarning: The frame.append method is deprecated and will be removed from pandas in a future version. Use pandas.concat instead.\n",
      "  df = df.append(a_series, ignore_index=True)\n",
      "C:\\Users\\jthoma\\AppData\\Local\\Temp\\ipykernel_13732\\2841480676.py:38: FutureWarning: The frame.append method is deprecated and will be removed from pandas in a future version. Use pandas.concat instead.\n",
      "  df = df.append(a_series, ignore_index=True)\n",
      "C:\\Users\\jthoma\\AppData\\Local\\Temp\\ipykernel_13732\\2841480676.py:38: FutureWarning: The frame.append method is deprecated and will be removed from pandas in a future version. Use pandas.concat instead.\n",
      "  df = df.append(a_series, ignore_index=True)\n",
      "C:\\Users\\jthoma\\AppData\\Local\\Temp\\ipykernel_13732\\2841480676.py:38: FutureWarning: The frame.append method is deprecated and will be removed from pandas in a future version. Use pandas.concat instead.\n",
      "  df = df.append(a_series, ignore_index=True)\n",
      "C:\\Users\\jthoma\\AppData\\Local\\Temp\\ipykernel_13732\\2841480676.py:38: FutureWarning: The frame.append method is deprecated and will be removed from pandas in a future version. Use pandas.concat instead.\n",
      "  df = df.append(a_series, ignore_index=True)\n",
      "C:\\Users\\jthoma\\AppData\\Local\\Temp\\ipykernel_13732\\2841480676.py:38: FutureWarning: The frame.append method is deprecated and will be removed from pandas in a future version. Use pandas.concat instead.\n",
      "  df = df.append(a_series, ignore_index=True)\n",
      "C:\\Users\\jthoma\\AppData\\Local\\Temp\\ipykernel_13732\\2841480676.py:38: FutureWarning: The frame.append method is deprecated and will be removed from pandas in a future version. Use pandas.concat instead.\n",
      "  df = df.append(a_series, ignore_index=True)\n"
     ]
    },
    {
     "name": "stdout",
     "output_type": "stream",
     "text": [
      "Could not append: ['1 2 3 4 5 6', '1', '2', '3', '4', '5', '6']\n",
      "Could not append: ['1', '2', '3', '4', '5', '6']\n"
     ]
    },
    {
     "name": "stderr",
     "output_type": "stream",
     "text": [
      "C:\\Users\\jthoma\\AppData\\Local\\Temp\\ipykernel_13732\\2841480676.py:37: FutureWarning: The default dtype for empty Series will be 'object' instead of 'float64' in a future version. Specify a dtype explicitly to silence this warning.\n",
      "  a_series = pd.Series(row_list, index = df.columns)\n"
     ]
    },
    {
     "name": "stdout",
     "output_type": "stream",
     "text": [
      "Could not append: []\n"
     ]
    },
    {
     "name": "stderr",
     "output_type": "stream",
     "text": [
      "C:\\Users\\jthoma\\AppData\\Local\\Temp\\ipykernel_13732\\2841480676.py:38: FutureWarning: The frame.append method is deprecated and will be removed from pandas in a future version. Use pandas.concat instead.\n",
      "  df = df.append(a_series, ignore_index=True)\n",
      "C:\\Users\\jthoma\\AppData\\Local\\Temp\\ipykernel_13732\\2841480676.py:38: FutureWarning: The frame.append method is deprecated and will be removed from pandas in a future version. Use pandas.concat instead.\n",
      "  df = df.append(a_series, ignore_index=True)\n",
      "C:\\Users\\jthoma\\AppData\\Local\\Temp\\ipykernel_13732\\2841480676.py:38: FutureWarning: The frame.append method is deprecated and will be removed from pandas in a future version. Use pandas.concat instead.\n",
      "  df = df.append(a_series, ignore_index=True)\n",
      "C:\\Users\\jthoma\\AppData\\Local\\Temp\\ipykernel_13732\\2841480676.py:38: FutureWarning: The frame.append method is deprecated and will be removed from pandas in a future version. Use pandas.concat instead.\n",
      "  df = df.append(a_series, ignore_index=True)\n",
      "C:\\Users\\jthoma\\AppData\\Local\\Temp\\ipykernel_13732\\2841480676.py:38: FutureWarning: The frame.append method is deprecated and will be removed from pandas in a future version. Use pandas.concat instead.\n",
      "  df = df.append(a_series, ignore_index=True)\n",
      "C:\\Users\\jthoma\\AppData\\Local\\Temp\\ipykernel_13732\\2841480676.py:38: FutureWarning: The frame.append method is deprecated and will be removed from pandas in a future version. Use pandas.concat instead.\n",
      "  df = df.append(a_series, ignore_index=True)\n",
      "C:\\Users\\jthoma\\AppData\\Local\\Temp\\ipykernel_13732\\2841480676.py:38: FutureWarning: The frame.append method is deprecated and will be removed from pandas in a future version. Use pandas.concat instead.\n",
      "  df = df.append(a_series, ignore_index=True)\n",
      "C:\\Users\\jthoma\\AppData\\Local\\Temp\\ipykernel_13732\\2841480676.py:38: FutureWarning: The frame.append method is deprecated and will be removed from pandas in a future version. Use pandas.concat instead.\n",
      "  df = df.append(a_series, ignore_index=True)\n",
      "C:\\Users\\jthoma\\AppData\\Local\\Temp\\ipykernel_13732\\2841480676.py:38: FutureWarning: The frame.append method is deprecated and will be removed from pandas in a future version. Use pandas.concat instead.\n",
      "  df = df.append(a_series, ignore_index=True)\n",
      "C:\\Users\\jthoma\\AppData\\Local\\Temp\\ipykernel_13732\\2841480676.py:38: FutureWarning: The frame.append method is deprecated and will be removed from pandas in a future version. Use pandas.concat instead.\n",
      "  df = df.append(a_series, ignore_index=True)\n",
      "C:\\Users\\jthoma\\AppData\\Local\\Temp\\ipykernel_13732\\2841480676.py:38: FutureWarning: The frame.append method is deprecated and will be removed from pandas in a future version. Use pandas.concat instead.\n",
      "  df = df.append(a_series, ignore_index=True)\n"
     ]
    },
    {
     "name": "stdout",
     "output_type": "stream",
     "text": [
      "Could not append: ['1', '2', '3', '4', '5', '6', '7', '8', '9', '10', '...']\n"
     ]
    },
    {
     "name": "stderr",
     "output_type": "stream",
     "text": [
      "C:\\Users\\jthoma\\AppData\\Local\\Temp\\ipykernel_13732\\2841480676.py:37: FutureWarning: The default dtype for empty Series will be 'object' instead of 'float64' in a future version. Specify a dtype explicitly to silence this warning.\n",
      "  a_series = pd.Series(row_list, index = df.columns)\n"
     ]
    },
    {
     "name": "stdout",
     "output_type": "stream",
     "text": [
      "Could not append: []\n"
     ]
    },
    {
     "name": "stderr",
     "output_type": "stream",
     "text": [
      "C:\\Users\\jthoma\\AppData\\Local\\Temp\\ipykernel_13732\\2841480676.py:38: FutureWarning: The frame.append method is deprecated and will be removed from pandas in a future version. Use pandas.concat instead.\n",
      "  df = df.append(a_series, ignore_index=True)\n",
      "C:\\Users\\jthoma\\AppData\\Local\\Temp\\ipykernel_13732\\2841480676.py:38: FutureWarning: The frame.append method is deprecated and will be removed from pandas in a future version. Use pandas.concat instead.\n",
      "  df = df.append(a_series, ignore_index=True)\n",
      "C:\\Users\\jthoma\\AppData\\Local\\Temp\\ipykernel_13732\\2841480676.py:38: FutureWarning: The frame.append method is deprecated and will be removed from pandas in a future version. Use pandas.concat instead.\n",
      "  df = df.append(a_series, ignore_index=True)\n",
      "C:\\Users\\jthoma\\AppData\\Local\\Temp\\ipykernel_13732\\2841480676.py:38: FutureWarning: The frame.append method is deprecated and will be removed from pandas in a future version. Use pandas.concat instead.\n",
      "  df = df.append(a_series, ignore_index=True)\n",
      "C:\\Users\\jthoma\\AppData\\Local\\Temp\\ipykernel_13732\\2841480676.py:38: FutureWarning: The frame.append method is deprecated and will be removed from pandas in a future version. Use pandas.concat instead.\n",
      "  df = df.append(a_series, ignore_index=True)\n",
      "C:\\Users\\jthoma\\AppData\\Local\\Temp\\ipykernel_13732\\2841480676.py:38: FutureWarning: The frame.append method is deprecated and will be removed from pandas in a future version. Use pandas.concat instead.\n",
      "  df = df.append(a_series, ignore_index=True)\n",
      "C:\\Users\\jthoma\\AppData\\Local\\Temp\\ipykernel_13732\\2841480676.py:38: FutureWarning: The frame.append method is deprecated and will be removed from pandas in a future version. Use pandas.concat instead.\n",
      "  df = df.append(a_series, ignore_index=True)\n",
      "C:\\Users\\jthoma\\AppData\\Local\\Temp\\ipykernel_13732\\2841480676.py:38: FutureWarning: The frame.append method is deprecated and will be removed from pandas in a future version. Use pandas.concat instead.\n",
      "  df = df.append(a_series, ignore_index=True)\n",
      "C:\\Users\\jthoma\\AppData\\Local\\Temp\\ipykernel_13732\\2841480676.py:38: FutureWarning: The frame.append method is deprecated and will be removed from pandas in a future version. Use pandas.concat instead.\n",
      "  df = df.append(a_series, ignore_index=True)\n",
      "C:\\Users\\jthoma\\AppData\\Local\\Temp\\ipykernel_13732\\2841480676.py:38: FutureWarning: The frame.append method is deprecated and will be removed from pandas in a future version. Use pandas.concat instead.\n",
      "  df = df.append(a_series, ignore_index=True)\n",
      "C:\\Users\\jthoma\\AppData\\Local\\Temp\\ipykernel_13732\\2841480676.py:38: FutureWarning: The frame.append method is deprecated and will be removed from pandas in a future version. Use pandas.concat instead.\n",
      "  df = df.append(a_series, ignore_index=True)\n"
     ]
    },
    {
     "name": "stdout",
     "output_type": "stream",
     "text": [
      "Could not append: ['1', '2', '3', '4', '5', '6', '7', '8', '9', '10', '...']\n"
     ]
    },
    {
     "name": "stderr",
     "output_type": "stream",
     "text": [
      "C:\\Users\\jthoma\\AppData\\Local\\Temp\\ipykernel_13732\\2841480676.py:37: FutureWarning: The default dtype for empty Series will be 'object' instead of 'float64' in a future version. Specify a dtype explicitly to silence this warning.\n",
      "  a_series = pd.Series(row_list, index = df.columns)\n"
     ]
    },
    {
     "name": "stdout",
     "output_type": "stream",
     "text": [
      "Could not append: []\n"
     ]
    },
    {
     "name": "stderr",
     "output_type": "stream",
     "text": [
      "C:\\Users\\jthoma\\AppData\\Local\\Temp\\ipykernel_13732\\2841480676.py:38: FutureWarning: The frame.append method is deprecated and will be removed from pandas in a future version. Use pandas.concat instead.\n",
      "  df = df.append(a_series, ignore_index=True)\n",
      "C:\\Users\\jthoma\\AppData\\Local\\Temp\\ipykernel_13732\\2841480676.py:38: FutureWarning: The frame.append method is deprecated and will be removed from pandas in a future version. Use pandas.concat instead.\n",
      "  df = df.append(a_series, ignore_index=True)\n",
      "C:\\Users\\jthoma\\AppData\\Local\\Temp\\ipykernel_13732\\2841480676.py:38: FutureWarning: The frame.append method is deprecated and will be removed from pandas in a future version. Use pandas.concat instead.\n",
      "  df = df.append(a_series, ignore_index=True)\n",
      "C:\\Users\\jthoma\\AppData\\Local\\Temp\\ipykernel_13732\\2841480676.py:38: FutureWarning: The frame.append method is deprecated and will be removed from pandas in a future version. Use pandas.concat instead.\n",
      "  df = df.append(a_series, ignore_index=True)\n",
      "C:\\Users\\jthoma\\AppData\\Local\\Temp\\ipykernel_13732\\2841480676.py:38: FutureWarning: The frame.append method is deprecated and will be removed from pandas in a future version. Use pandas.concat instead.\n",
      "  df = df.append(a_series, ignore_index=True)\n",
      "C:\\Users\\jthoma\\AppData\\Local\\Temp\\ipykernel_13732\\2841480676.py:38: FutureWarning: The frame.append method is deprecated and will be removed from pandas in a future version. Use pandas.concat instead.\n",
      "  df = df.append(a_series, ignore_index=True)\n",
      "C:\\Users\\jthoma\\AppData\\Local\\Temp\\ipykernel_13732\\2841480676.py:38: FutureWarning: The frame.append method is deprecated and will be removed from pandas in a future version. Use pandas.concat instead.\n",
      "  df = df.append(a_series, ignore_index=True)\n",
      "C:\\Users\\jthoma\\AppData\\Local\\Temp\\ipykernel_13732\\2841480676.py:38: FutureWarning: The frame.append method is deprecated and will be removed from pandas in a future version. Use pandas.concat instead.\n",
      "  df = df.append(a_series, ignore_index=True)\n",
      "C:\\Users\\jthoma\\AppData\\Local\\Temp\\ipykernel_13732\\2841480676.py:38: FutureWarning: The frame.append method is deprecated and will be removed from pandas in a future version. Use pandas.concat instead.\n",
      "  df = df.append(a_series, ignore_index=True)\n",
      "C:\\Users\\jthoma\\AppData\\Local\\Temp\\ipykernel_13732\\2841480676.py:38: FutureWarning: The frame.append method is deprecated and will be removed from pandas in a future version. Use pandas.concat instead.\n",
      "  df = df.append(a_series, ignore_index=True)\n",
      "C:\\Users\\jthoma\\AppData\\Local\\Temp\\ipykernel_13732\\2841480676.py:38: FutureWarning: The frame.append method is deprecated and will be removed from pandas in a future version. Use pandas.concat instead.\n",
      "  df = df.append(a_series, ignore_index=True)\n"
     ]
    },
    {
     "name": "stdout",
     "output_type": "stream",
     "text": [
      "Could not append: ['1', '2', '3', '4', '5', '6', '7', '8', '9', '10', '...']\n"
     ]
    }
   ],
   "source": [
    "for comunidad in range(2,21):\n",
    "    \n",
    "    #Select Servicio Fijo on Registro Público\n",
    "    serviciofijo_select = driver.find_element(By.XPATH,'//*[@id=\"MainContent_rblTipoServicio_1\"]')\n",
    "    serviciofijo_select.click()\n",
    "    \n",
    "    #Select Comunidad on Registro Público\n",
    "    comunidad_select = driver.find_element(By.XPATH,'//*[@id=\"MainContent_cmbComunidad\"]/option['+str(comunidad)+']')\n",
    "    comunidad_select.click()\n",
    "\n",
    "    #Click on Buscar\n",
    "    buscar_button = driver.find_element(By.XPATH,'//*[@id=\"MainContent_btnBuscar\"]')\n",
    "    buscar_button.click()\n",
    "    driver.implicitly_wait(5) #Wait 5 seconds for the load\n",
    "        \n",
    "    #Getting the number of pages to scrap\n",
    "    number_concesiones = driver.find_element(By.XPATH,'//*[@id=\"MainContent_lblTotal\"]')\n",
    "    pages = math.ceil((int(str.split(number_concesiones.text)[0]))/10)\n",
    "\n",
    "    \n",
    "    #Flip through all of the records and save them\n",
    "    for n in range(2, pages+1):\n",
    "        try:\n",
    "            mytable = driver.find_element(By.XPATH,'//*[@id=\"MainContent_gridConcesiones\"]')\n",
    "            #Read in all of the data into the dataframe\n",
    "            for row in mytable.find_elements(By.CSS_SELECTOR,'tr'):\n",
    "                row_list = []\n",
    "                #Add to dataframe accordingly\n",
    "                for cell in row.find_elements(By.CSS_SELECTOR,'td'):\n",
    "                    cell_reading = cell.text\n",
    "                    if cell_reading == \"\":\n",
    "                        checkbox = cell.find_element(By.CLASS_NAME, 'aspNetDisabled').find_element(By.CSS_SELECTOR,'input')\n",
    "                        cell_reading = checkbox.get_attribute('checked')\n",
    "                    row_list.append(cell_reading)\n",
    "                #Add the list as a row, if possible \n",
    "                try:\n",
    "                    a_series = pd.Series(row_list, index = df.columns)\n",
    "                    df = df.append(a_series, ignore_index=True)\n",
    "                except:\n",
    "                    print(\"Could not append: \" + str(row_list))\n",
    "            break\n",
    "        except:\n",
    "            driver.implicitly_wait(5)\n",
    "        if n%10 == 1:\n",
    "            #Click second \"...\" if on greater than page 10\n",
    "            if n < 20:\n",
    "                driver.find_elements(By.XPATH,'//*[@id=\"MainContent_gridConcesiones\"]/tbody/tr[12]/td/table/tbody/tr/td[11]/a')[0].click()  \n",
    "            else:\n",
    "                driver.find_elements(By.XPATH,'//*[@id=\"MainContent_gridConcesiones\"]/tbody/tr[12]/td/table/tbody/tr/td[12]/a')[0].click()  \n",
    "        else:\n",
    "            driver.find_element(By.XPATH,\"//td/a[text()='\" + str(n)+ \"']\").click()    \n",
    "        #Wait three seconds so the website doesn't crash\n",
    "        driver.implicitly_wait(3)\n",
    "        \n",
    "    \n",
    "    #go back to selecting comunidad\n",
    "    nueva_busqueda = driver.find_element(By.XPATH,'//*[@id=\"MainContent_btnNuevaBusqueda\"]')\n",
    "    nueva_busqueda.click()\n",
    "    driver.implicitly_wait(5) #Wait 5 seconds for the load"
   ]
  },
  {
   "cell_type": "code",
   "execution_count": 5,
   "id": "0e9609d5",
   "metadata": {},
   "outputs": [
    {
     "data": {
      "text/html": [
       "<div>\n",
       "<style scoped>\n",
       "    .dataframe tbody tr th:only-of-type {\n",
       "        vertical-align: middle;\n",
       "    }\n",
       "\n",
       "    .dataframe tbody tr th {\n",
       "        vertical-align: top;\n",
       "    }\n",
       "\n",
       "    .dataframe thead th {\n",
       "        text-align: right;\n",
       "    }\n",
       "</style>\n",
       "<table border=\"1\" class=\"dataframe\">\n",
       "  <thead>\n",
       "    <tr style=\"text-align: right;\">\n",
       "      <th></th>\n",
       "      <th>Referencia</th>\n",
       "      <th>Titular</th>\n",
       "      <th>NIF/CIF</th>\n",
       "      <th>Domicilio social</th>\n",
       "      <th>Localidad</th>\n",
       "      <th>Provincia</th>\n",
       "      <th>C. Postal</th>\n",
       "      <th>F. Concesion</th>\n",
       "      <th>F. Caducidad</th>\n",
       "      <th>Susceptible cesion</th>\n",
       "      <th>Susceptible mutualizacion</th>\n",
       "      <th>Obtenido por transferencia</th>\n",
       "    </tr>\n",
       "  </thead>\n",
       "  <tbody>\n",
       "    <tr>\n",
       "      <th>0</th>\n",
       "      <td>ALAL-0700001</td>\n",
       "      <td>VODAFONE ONO, S.A.</td>\n",
       "      <td>A62186556</td>\n",
       "      <td>AV AMERICA, 115</td>\n",
       "      <td>MADRID</td>\n",
       "      <td>MADRID</td>\n",
       "      <td>28042</td>\n",
       "      <td>05/02/2007</td>\n",
       "      <td>31/12/2022</td>\n",
       "      <td>true</td>\n",
       "      <td>None</td>\n",
       "      <td>None</td>\n",
       "    </tr>\n",
       "    <tr>\n",
       "      <th>1</th>\n",
       "      <td>ALAL-0900386</td>\n",
       "      <td>XFERA MOVILES SA</td>\n",
       "      <td>A82528548</td>\n",
       "      <td>AVDA BRUSELAS, 38.</td>\n",
       "      <td>ALCOBENDAS</td>\n",
       "      <td>MADRID</td>\n",
       "      <td>28108</td>\n",
       "      <td>01/02/2010</td>\n",
       "      <td>31/12/2025</td>\n",
       "      <td>true</td>\n",
       "      <td>None</td>\n",
       "      <td>None</td>\n",
       "    </tr>\n",
       "    <tr>\n",
       "      <th>2</th>\n",
       "      <td>ALAL-1000193</td>\n",
       "      <td>AXION INFRAESTRUCTURAS DE TELECOMUNICACIONES S...</td>\n",
       "      <td>A41999913</td>\n",
       "      <td>AVDA ANDALUCÍA, S/N.</td>\n",
       "      <td>SEVILLA</td>\n",
       "      <td>SEVILLA</td>\n",
       "      <td>41907</td>\n",
       "      <td>17/09/2010</td>\n",
       "      <td>31/12/2025</td>\n",
       "      <td>true</td>\n",
       "      <td>None</td>\n",
       "      <td>None</td>\n",
       "    </tr>\n",
       "    <tr>\n",
       "      <th>3</th>\n",
       "      <td>ALAL-1000250</td>\n",
       "      <td>VODAFONE ONO, S.A.</td>\n",
       "      <td>A62186556</td>\n",
       "      <td>AV AMERICA, 115</td>\n",
       "      <td>MADRID</td>\n",
       "      <td>MADRID</td>\n",
       "      <td>28042</td>\n",
       "      <td>17/09/2010</td>\n",
       "      <td>31/12/2025</td>\n",
       "      <td>true</td>\n",
       "      <td>None</td>\n",
       "      <td>None</td>\n",
       "    </tr>\n",
       "    <tr>\n",
       "      <th>4</th>\n",
       "      <td>ALAL-1000334</td>\n",
       "      <td>VODAFONE ONO, S.A.</td>\n",
       "      <td>A62186556</td>\n",
       "      <td>AV AMERICA, 115</td>\n",
       "      <td>MADRID</td>\n",
       "      <td>MADRID</td>\n",
       "      <td>28042</td>\n",
       "      <td>10/12/2010</td>\n",
       "      <td>31/12/2025</td>\n",
       "      <td>true</td>\n",
       "      <td>None</td>\n",
       "      <td>None</td>\n",
       "    </tr>\n",
       "    <tr>\n",
       "      <th>...</th>\n",
       "      <td>...</td>\n",
       "      <td>...</td>\n",
       "      <td>...</td>\n",
       "      <td>...</td>\n",
       "      <td>...</td>\n",
       "      <td>...</td>\n",
       "      <td>...</td>\n",
       "      <td>...</td>\n",
       "      <td>...</td>\n",
       "      <td>...</td>\n",
       "      <td>...</td>\n",
       "      <td>...</td>\n",
       "    </tr>\n",
       "    <tr>\n",
       "      <th>180</th>\n",
       "      <td>A ZZ-1400662</td>\n",
       "      <td>CONCISA COMUNICACION MARKETING Y SERVICIOS SL</td>\n",
       "      <td>B30819577</td>\n",
       "      <td>PLAZA SAN FRANCISCO</td>\n",
       "      <td>PILAR DE LA HORADADA</td>\n",
       "      <td>ALICANTE/ALACANT</td>\n",
       "      <td>03190</td>\n",
       "      <td>13/06/2014</td>\n",
       "      <td>31/12/2024</td>\n",
       "      <td>true</td>\n",
       "      <td>None</td>\n",
       "      <td>None</td>\n",
       "    </tr>\n",
       "    <tr>\n",
       "      <th>181</th>\n",
       "      <td>A ZZ-1400663</td>\n",
       "      <td>CONCISA COMUNICACION MARKETING Y SERVICIOS SL</td>\n",
       "      <td>B30819577</td>\n",
       "      <td>PLAZA SAN FRANCISCO</td>\n",
       "      <td>PILAR DE LA HORADADA</td>\n",
       "      <td>ALICANTE/ALACANT</td>\n",
       "      <td>03190</td>\n",
       "      <td>13/06/2014</td>\n",
       "      <td>31/12/2024</td>\n",
       "      <td>true</td>\n",
       "      <td>None</td>\n",
       "      <td>None</td>\n",
       "    </tr>\n",
       "    <tr>\n",
       "      <th>182</th>\n",
       "      <td>A ZZ-1400991</td>\n",
       "      <td>MARIN TELECOM, S.L.U.</td>\n",
       "      <td>B53875753</td>\n",
       "      <td>. PARTIDA EL BOCH, 151</td>\n",
       "      <td>CREVILLENT</td>\n",
       "      <td>ALICANTE/ALACANT</td>\n",
       "      <td>03330</td>\n",
       "      <td>28/11/2014</td>\n",
       "      <td>31/12/2024</td>\n",
       "      <td>true</td>\n",
       "      <td>None</td>\n",
       "      <td>None</td>\n",
       "    </tr>\n",
       "    <tr>\n",
       "      <th>183</th>\n",
       "      <td>A ZZ-1700224</td>\n",
       "      <td>TVHORADADA MULTIMEDIA SL</td>\n",
       "      <td>B54495981</td>\n",
       "      <td>PZ SAN FRANCISCO, 4</td>\n",
       "      <td>PILAR DE LA HORADADA</td>\n",
       "      <td>ALICANTE/ALACANT</td>\n",
       "      <td>03190</td>\n",
       "      <td>17/05/2017</td>\n",
       "      <td>31/12/2022</td>\n",
       "      <td>true</td>\n",
       "      <td>None</td>\n",
       "      <td>None</td>\n",
       "    </tr>\n",
       "    <tr>\n",
       "      <th>184</th>\n",
       "      <td>1 2 3 4 5 6 7 8 9 10 ...</td>\n",
       "      <td>1</td>\n",
       "      <td>2</td>\n",
       "      <td>3</td>\n",
       "      <td>4</td>\n",
       "      <td>5</td>\n",
       "      <td>6</td>\n",
       "      <td>7</td>\n",
       "      <td>8</td>\n",
       "      <td>9</td>\n",
       "      <td>10</td>\n",
       "      <td>...</td>\n",
       "    </tr>\n",
       "  </tbody>\n",
       "</table>\n",
       "<p>185 rows × 12 columns</p>\n",
       "</div>"
      ],
      "text/plain": [
       "                   Referencia  \\\n",
       "0                ALAL-0700001   \n",
       "1                ALAL-0900386   \n",
       "2                ALAL-1000193   \n",
       "3                ALAL-1000250   \n",
       "4                ALAL-1000334   \n",
       "..                        ...   \n",
       "180              A ZZ-1400662   \n",
       "181              A ZZ-1400663   \n",
       "182              A ZZ-1400991   \n",
       "183              A ZZ-1700224   \n",
       "184  1 2 3 4 5 6 7 8 9 10 ...   \n",
       "\n",
       "                                               Titular    NIF/CIF  \\\n",
       "0                                   VODAFONE ONO, S.A.  A62186556   \n",
       "1                                     XFERA MOVILES SA  A82528548   \n",
       "2    AXION INFRAESTRUCTURAS DE TELECOMUNICACIONES S...  A41999913   \n",
       "3                                   VODAFONE ONO, S.A.  A62186556   \n",
       "4                                   VODAFONE ONO, S.A.  A62186556   \n",
       "..                                                 ...        ...   \n",
       "180      CONCISA COMUNICACION MARKETING Y SERVICIOS SL  B30819577   \n",
       "181      CONCISA COMUNICACION MARKETING Y SERVICIOS SL  B30819577   \n",
       "182                              MARIN TELECOM, S.L.U.  B53875753   \n",
       "183                           TVHORADADA MULTIMEDIA SL  B54495981   \n",
       "184                                                  1          2   \n",
       "\n",
       "           Domicilio social             Localidad         Provincia C. Postal  \\\n",
       "0           AV AMERICA, 115                MADRID            MADRID     28042   \n",
       "1        AVDA BRUSELAS, 38.            ALCOBENDAS            MADRID     28108   \n",
       "2      AVDA ANDALUCÍA, S/N.               SEVILLA           SEVILLA     41907   \n",
       "3           AV AMERICA, 115                MADRID            MADRID     28042   \n",
       "4           AV AMERICA, 115                MADRID            MADRID     28042   \n",
       "..                      ...                   ...               ...       ...   \n",
       "180     PLAZA SAN FRANCISCO  PILAR DE LA HORADADA  ALICANTE/ALACANT     03190   \n",
       "181     PLAZA SAN FRANCISCO  PILAR DE LA HORADADA  ALICANTE/ALACANT     03190   \n",
       "182  . PARTIDA EL BOCH, 151            CREVILLENT  ALICANTE/ALACANT     03330   \n",
       "183     PZ SAN FRANCISCO, 4  PILAR DE LA HORADADA  ALICANTE/ALACANT     03190   \n",
       "184                       3                     4                 5         6   \n",
       "\n",
       "    F. Concesion F. Caducidad Susceptible cesion Susceptible mutualizacion  \\\n",
       "0     05/02/2007   31/12/2022               true                      None   \n",
       "1     01/02/2010   31/12/2025               true                      None   \n",
       "2     17/09/2010   31/12/2025               true                      None   \n",
       "3     17/09/2010   31/12/2025               true                      None   \n",
       "4     10/12/2010   31/12/2025               true                      None   \n",
       "..           ...          ...                ...                       ...   \n",
       "180   13/06/2014   31/12/2024               true                      None   \n",
       "181   13/06/2014   31/12/2024               true                      None   \n",
       "182   28/11/2014   31/12/2024               true                      None   \n",
       "183   17/05/2017   31/12/2022               true                      None   \n",
       "184            7            8                  9                        10   \n",
       "\n",
       "    Obtenido por transferencia  \n",
       "0                         None  \n",
       "1                         None  \n",
       "2                         None  \n",
       "3                         None  \n",
       "4                         None  \n",
       "..                         ...  \n",
       "180                       None  \n",
       "181                       None  \n",
       "182                       None  \n",
       "183                       None  \n",
       "184                        ...  \n",
       "\n",
       "[185 rows x 12 columns]"
      ]
     },
     "execution_count": 5,
     "metadata": {},
     "output_type": "execute_result"
    }
   ],
   "source": [
    "df"
   ]
  },
  {
   "cell_type": "code",
   "execution_count": 6,
   "id": "8b530e17",
   "metadata": {},
   "outputs": [],
   "source": [
    "#Write to a csv\n",
    "df.to_csv(\"RegistroPublicoConcesiones_General.csv\", index= False)"
   ]
  },
  {
   "cell_type": "code",
   "execution_count": null,
   "id": "63bdccd8",
   "metadata": {},
   "outputs": [],
   "source": [
    "print(\"--- %s seconds ---\" % (time.time() - start_time))"
   ]
  }
 ],
 "metadata": {
  "kernelspec": {
   "display_name": "Python 3 (ipykernel)",
   "language": "python",
   "name": "python3"
  },
  "language_info": {
   "codemirror_mode": {
    "name": "ipython",
    "version": 3
   },
   "file_extension": ".py",
   "mimetype": "text/x-python",
   "name": "python",
   "nbconvert_exporter": "python",
   "pygments_lexer": "ipython3",
   "version": "3.9.12"
  }
 },
 "nbformat": 4,
 "nbformat_minor": 5
}

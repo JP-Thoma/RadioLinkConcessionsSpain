{
 "cells": [
  {
   "cell_type": "markdown",
   "id": "12d86654",
   "metadata": {},
   "source": [
    "# Webscrapper for Registro Público de Concesiones\n",
    "\n",
    "Traditional webscrapping with Beautiful Soup is less useful for aspx websites that expect a user input. This webscraper was built with Selenium intenting to make requests to the form before scraping each page.\n",
    "\n",
    "Following links are helpful: <br>\n",
    "Data Source: https://avancedigital.mineco.gob.es/espectro/Paginas/registro-publico-concesiones.aspx <br>\n",
    "Selenium: https://selenium-python.readthedocs.io/locating-elements.html <br>\n",
    "Chromedriver: https://chromedriver.chromium.org/home (download necessary)<br>"
   ]
  },
  {
   "cell_type": "code",
   "execution_count": null,
   "id": "352b8d52",
   "metadata": {
    "scrolled": true
   },
   "outputs": [],
   "source": [
    "#pip install requests (for making HTTP requests)\n",
    "#pip install URLLib3 (URL handling)\n",
    "#pip install bs4 (in case Selenium couldn’t handle everything)\n",
    "#pip install selenium (for browser-based navigation)"
   ]
  },
  {
   "cell_type": "markdown",
   "id": "007d61c0",
   "metadata": {},
   "source": [
    "## Loading libraries and preparing dataframe"
   ]
  },
  {
   "cell_type": "code",
   "execution_count": null,
   "id": "5bd1726a",
   "metadata": {},
   "outputs": [],
   "source": [
    "from selenium import webdriver\n",
    "from selenium.webdriver.common.by import By\n",
    "from selenium.webdriver.support.ui import WebDriverWait, Select\n",
    "from selenium.webdriver.support import expected_conditions as EC\n",
    "from selenium.common.exceptions import TimeoutException\n",
    "import pandas as pd\n",
    "import math"
   ]
  },
  {
   "cell_type": "code",
   "execution_count": null,
   "id": "682922bd",
   "metadata": {},
   "outputs": [],
   "source": [
    "#Create a dataframe to store all of the scraped table data\n",
    "df = pd.DataFrame(columns = [\"Referencia\",\"Titular\",\"NIF/CIF\",\"Domicilio social\",\"Localidad\",\"Provincia\",\"C. Postal\",\n",
    "                             \"F. Concesion\",\"F. Caducidad\",\"Susceptible cesion\",\"Susceptible mutualizacion\",\n",
    "                             \"Obtenido por transferencia\"])"
   ]
  },
  {
   "cell_type": "markdown",
   "id": "ee6b15e1",
   "metadata": {},
   "source": [
    "## Making crawler move on the website"
   ]
  },
  {
   "cell_type": "code",
   "execution_count": null,
   "id": "0e2dc37a",
   "metadata": {},
   "outputs": [],
   "source": [
    "# Establish chrome driver and go to report site URL\n",
    "url = \"https://sedeaplicaciones.minetur.gob.es/RPC_Consulta/FrmConsulta.aspx\"\n",
    "driver = webdriver.Chrome('C:/Users/jthoma/Downloads/chromedriver.exe') #use path where chormedriver saved\n",
    "driver.get(url)"
   ]
  },
  {
   "cell_type": "markdown",
   "id": "c56e63eb",
   "metadata": {},
   "source": [
    "#Select Servicio Fijo on Registro Público\n",
    "serviciofijo_select = driver.find_element(By.XPATH,'//*[@id=\"MainContent_rblTipoServicio_1\"]')\n",
    "serviciofijo_select.click()"
   ]
  },
  {
   "cell_type": "markdown",
   "id": "fae033ce",
   "metadata": {},
   "source": [
    "## Scrapping the tables\n",
    "\n",
    "- 02 ANDALUCÍA\n",
    "- 03 ARAGÓN\n",
    "- 04 CANARIAS\n",
    "- 05 CANTABRIA\n",
    "- 06 CASTILLA Y LEÓN\n",
    "- 07 CASTILLA-LA MANCHA\n",
    "- 08 CATALUÑA\n",
    "- 09 CIUDAD AUTÓNOMA DE CEUTA\n",
    "- 10 CIUDAD AUTÓNOMA DE MELILLA\n",
    "- 11 COMUNIDAD DE MADRID\n",
    "- 12 COMUNIDAD FORAL DE NAVARRA\n",
    "- 13 COMUNITAT VALENCIANA\n",
    "- 14 EXTREMADURA\n",
    "- 15 GALICIA\n",
    "- 16 ILLES BALEARS\n",
    "- 17 LA RIOJA\n",
    "- 18 PAÍS VASCO\n",
    "- 19 PRINCIPADO DE ASTURIAS\n",
    "- 20 REGIÓN DE MURCIA"
   ]
  },
  {
   "cell_type": "code",
   "execution_count": null,
   "id": "96dfdc51",
   "metadata": {},
   "outputs": [],
   "source": [
    "for comunidad in range(2,21):\n",
    "    \n",
    "    #Select Servicio Fijo on Registro Público\n",
    "    serviciofijo_select = driver.find_element(By.XPATH,'//*[@id=\"MainContent_rblTipoServicio_1\"]')\n",
    "    serviciofijo_select.click()\n",
    "    \n",
    "    #Select Comunidad on Registro Público\n",
    "    comunidad_select = driver.find_element(By.XPATH,'//*[@id=\"MainContent_cmbComunidad\"]/option['+str(comunidad)+']')\n",
    "    comunidad_select.click()\n",
    "\n",
    "    #Click on Buscar\n",
    "    buscar_button = driver.find_element(By.XPATH,'//*[@id=\"MainContent_btnBuscar\"]')\n",
    "    buscar_button.click()\n",
    "    driver.implicitly_wait(5) #Wait 5 seconds for the load\n",
    "        \n",
    "    #Getting the number of pages to scrap\n",
    "    number_concesiones = driver.find_element(By.XPATH,'//*[@id=\"MainContent_lblTotal\"]')\n",
    "    pages = math.ceil((int(str.split(number_concesiones.text)[0]))/10)\n",
    "\n",
    "    \n",
    "    #Flip through all of the records and save them\n",
    "    for n in range(2, pages+1):\n",
    "        for i in range(3):\n",
    "            try:\n",
    "                mytable = driver.find_element(By.XPATH,'//*[@id=\"MainContent_gridConcesiones\"]')\n",
    "                #Read in all of the data into the dataframe\n",
    "                for row in mytable.find_elements(By.CSS_SELECTOR,'tr'):\n",
    "                    row_list = []\n",
    "                    #Add to dataframe accordingly\n",
    "                    for cell in row.find_elements(By.CSS_SELECTOR,'td'):\n",
    "                        cell_reading = cell.text\n",
    "                        if cell_reading == \"\":\n",
    "                          checkbox = cell.find_element(By.CLASS_NAME, 'aspNetDisabled').find_element(By.CSS_SELECTOR,'input')\n",
    "                          cell_reading = checkbox.get_attribute('checked')\n",
    "                        row_list.append(cell_reading)\n",
    "                    #Add the list as a row, if possible \n",
    "                    try:\n",
    "                        a_series = pd.Series(row_list, index = df.columns)\n",
    "                        df = df.append(a_series, ignore_index=True)\n",
    "                    except:\n",
    "                        print(\"Could not append: \" + str(row_list))\n",
    "                break\n",
    "            except:\n",
    "                driver.implicitly_wait(5)\n",
    "        if n%10 == 1:\n",
    "            #Click second \"...\" if on greater than page 10\n",
    "            if n < 20:\n",
    "                driver.find_elements(By.XPATH,'//*[@id=\"MainContent_gridConcesiones\"]/tbody/tr[12]/td/table/tbody/tr/td[11]/a')[0].click()  \n",
    "            else:\n",
    "                driver.find_elements(By.XPATH,'//*[@id=\"MainContent_gridConcesiones\"]/tbody/tr[12]/td/table/tbody/tr/td[12]/a')[0].click()  \n",
    "        else:\n",
    "            driver.find_element(By.XPATH,\"//td/a[text()='\" + str(n)+ \"']\").click()    \n",
    "        #Wait three seconds so the website doesn't crash\n",
    "        driver.implicitly_wait(3)\n",
    "        \n",
    "    \n",
    "    #go back to selecting comunidad\n",
    "    nueva_busqueda = driver.find_element(By.XPATH,'//*[@id=\"MainContent_btnNuevaBusqueda\"]')\n",
    "    nueva_busqueda.click()\n",
    "    driver.implicitly_wait(5) #Wait 5 seconds for the load"
   ]
  },
  {
   "cell_type": "markdown",
   "id": "d2e75a20",
   "metadata": {},
   "source": [
    "#Click on Buscar\n",
    "buscar_button = driver.find_element(By.XPATH,'//*[@id=\"MainContent_btnBuscar\"]')\n",
    "buscar_button.click()\n",
    "\n",
    "driver.implicitly_wait(10) #Wait 10 seconds for the load"
   ]
  },
  {
   "cell_type": "markdown",
   "id": "eb743f5e",
   "metadata": {},
   "source": [
    "## Scrapping the tables"
   ]
  },
  {
   "cell_type": "markdown",
   "id": "8ff1e187",
   "metadata": {},
   "source": [
    "import pandas as pd\n",
    "import math\n",
    "\n",
    "\n",
    "#Create a dataframe to store all of the scraped table data\n",
    "df = pd.DataFrame(columns = [\"Referencia\",\"Titular\",\"NIF/CIF\",\"Domicilio social\",\"Localidad\",\"Provincia\",\"C. Postal\",\n",
    "                             \"F. Concesion\",\"F. Caducidad\",\"Susceptible cesion\",\"Susceptible mutualizacion\",\n",
    "                             \"Obtenido por transferencia\"])\n",
    "\n",
    "#Getting the number of pages to scrap\n",
    "number_concesiones = driver.find_element(By.XPATH,'//*[@id=\"MainContent_lblTotal\"]')\n",
    "pages = math.ceil((int(str.split(number_concesiones.text)[0]))/10)\n",
    "\n",
    "#Flip through all of the records and save them\n",
    "for n in range(2, pages+1):\n",
    "    for i in range(3):\n",
    "        try:\n",
    "            mytable = driver.find_element(By.XPATH,'//*[@id=\"MainContent_gridConcesiones\"]')\n",
    "            #Read in all of the data into the dataframe\n",
    "            for row in mytable.find_elements(By.CSS_SELECTOR,'tr'):\n",
    "                row_list = []\n",
    "                #Add to dataframe accordingly\n",
    "                for cell in row.find_elements(By.CSS_SELECTOR,'td'):\n",
    "                    cell_reading = cell.text\n",
    "                    if cell_reading == \"\":\n",
    "                      checkbox = cell.find_element(By.CLASS_NAME, 'aspNetDisabled').find_element(By.CSS_SELECTOR,'input')\n",
    "                      cell_reading = checkbox.get_attribute('checked')\n",
    "                    row_list.append(cell_reading)\n",
    "                #Add the list as a row, if possible \n",
    "                try:\n",
    "                    a_series = pd.Series(row_list, index = df.columns)\n",
    "                    df = df.append(a_series, ignore_index=True)\n",
    "                except:\n",
    "                    print(\"Could not append: \" + str(row_list))\n",
    "            break\n",
    "        except:\n",
    "            driver.implicitly_wait(5)\n",
    "    if n%10 == 1:\n",
    "        #Click second \"...\" if on greater than page 10\n",
    "        if n < 20:\n",
    "            driver.find_elements(By.XPATH,'//*[@id=\"MainContent_gridConcesiones\"]/tbody/tr[12]/td/table/tbody/tr/td[11]/a')[0].click()  \n",
    "        else:\n",
    "            driver.find_elements(By.XPATH,'//*[@id=\"MainContent_gridConcesiones\"]/tbody/tr[12]/td/table/tbody/tr/td[12]/a')[0].click()  \n",
    "    else:\n",
    "        driver.find_element(By.XPATH,\"//td/a[text()='\" + str(n)+ \"']\").click()    \n",
    "    #Wait three seconds so the website doesn't crash\n",
    "    driver.implicitly_wait(3)"
   ]
  },
  {
   "cell_type": "code",
   "execution_count": null,
   "id": "142ef92a",
   "metadata": {},
   "outputs": [],
   "source": [
    "df"
   ]
  },
  {
   "cell_type": "code",
   "execution_count": null,
   "id": "c609eb8b",
   "metadata": {},
   "outputs": [],
   "source": [
    "#Write to a csv\n",
    "df.to_csv(\"RegistroPublicoConcesiones_General.csv\", index= False)"
   ]
  }
 ],
 "metadata": {
  "kernelspec": {
   "display_name": "Python 3 (ipykernel)",
   "language": "python",
   "name": "python3"
  },
  "language_info": {
   "codemirror_mode": {
    "name": "ipython",
    "version": 3
   },
   "file_extension": ".py",
   "mimetype": "text/x-python",
   "name": "python",
   "nbconvert_exporter": "python",
   "pygments_lexer": "ipython3",
   "version": "3.9.12"
  }
 },
 "nbformat": 4,
 "nbformat_minor": 5
}
